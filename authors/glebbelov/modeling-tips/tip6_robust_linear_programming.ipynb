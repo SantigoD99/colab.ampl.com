{
  "cells": [
    {
      "cell_type": "markdown",
      "metadata": {
        "id": "tJ6F_OAys2Er"
      },
      "source": [
        "# Robust Linear Programming with Ellipsoidal Uncertainty\n",
        "[![tip6_robust_linear_programming.ipynb](https://img.shields.io/badge/github-%23121011.svg?logo=github)](https://github.com/ampl/colab.ampl.com/blob/master/authors/glebbelov/modeling-tips/tip6_robust_linear_programming.ipynb) [![Open In Colab](https://colab.research.google.com/assets/colab-badge.svg)](https://colab.research.google.com/github/ampl/colab.ampl.com/blob/master/authors/glebbelov/modeling-tips/tip6_robust_linear_programming.ipynb) [![Kaggle](https://kaggle.com/static/images/open-in-kaggle.svg)](https://kaggle.com/kernels/welcome?src=https://github.com/ampl/colab.ampl.com/blob/master/authors/glebbelov/modeling-tips/tip6_robust_linear_programming.ipynb) [![Gradient](https://assets.paperspace.io/img/gradient-badge.svg)](https://console.paperspace.com/github/ampl/colab.ampl.com/blob/master/authors/glebbelov/modeling-tips/tip6_robust_linear_programming.ipynb) [![Open In SageMaker Studio Lab](https://studiolab.sagemaker.aws/studiolab.svg)](https://studiolab.sagemaker.aws/import/github/ampl/colab.ampl.com/blob/master/authors/glebbelov/modeling-tips/tip6_robust_linear_programming.ipynb) [![Hits](https://h.ampl.com/https://github.com/ampl/colab.ampl.com/blob/master/authors/glebbelov/modeling-tips/tip6_robust_linear_programming.ipynb)](https://colab.ampl.com)\n",
        "\n",
        "Description: AMPL Modeling Tips #6: Robust Linear Programming\n",
        "\n",
        "Tags: highlights, modeling-tips, conic\n",
        "\n",
        "Notebook author: Gleb Belov <<gleb@ampl.com>>"
      ]
    },
    {
      "cell_type": "code",
      "execution_count": 1,
      "metadata": {
        "id": "vTJmKzpfs2Ev"
      },
      "outputs": [],
      "source": [
        "# Install dependencies\n",
        "%pip install -q amplpy==0.15.0b2 pandas"
      ]
    },
    {
      "cell_type": "code",
      "execution_count": 2,
      "metadata": {
        "colab": {
          "base_uri": "https://localhost:8080/",
          "height": 84,
          "referenced_widgets": [
            "c961df2b8b204d66900f1510dbeb3496",
            "075df9d296264e4cb762305c0256cc97",
            "b5981ba6074641d296e155f4e68dd9ab",
            "e4afe67642654b2688c28c08b7ae35f3",
            "82df486ba400428184984948e8b5f4e4",
            "d4139a938f7548e7a633e89f4364c978",
            "644558494b8b4382981028dcbb6b8dd6",
            "0e91f85eb0664e89b8024441c41ba219",
            "da1ab8cbc98840efb8a01365cbb83612",
            "bd944690c02341f0964ea27c137a1967",
            "2ca3ee2e7a5b42cea2c8354aae53f4df",
            "88196759caa9490a9744e0114bb3ba16",
            "af7a6891fee3444ca682bb7a737e605c",
            "2ea0e552db7644eba535187f57ef8985",
            "a3a3c559a15f4e8eb1691839537a6426",
            "82287456b19b480184faf44dd2743b7c"
          ]
        },
        "id": "TRiwbToms2Ew",
        "outputId": "3fbcc3ad-1fa3-4cb2-df02-2fdbd08a9a03"
      },
      "outputs": [],
      "source": [
        "# Google Colab & Kaggle integration\n",
        "from amplpy import AMPL, ampl_notebook\n",
        "\n",
        "ampl = ampl_notebook(\n",
        "    modules=[\"mosek\", \"gurobi\"],  # modules to install\n",
        "    license_uuid=\"default\",  # license to use\n",
        ")  # instantiate AMPL object and register magics"
      ]
    },
    {
      "cell_type": "markdown",
      "metadata": {
        "id": "z2Rsf9FBxJVi"
      },
      "source": [
        "## Diet problem with uncertain costs\n",
        "\n",
        "![Feasible Region](https://raw.githubusercontent.com/ampl/colab.ampl.com/d8a9845dfddbae4a9fc73fa549cb411323505a25/authors/glebbelov/modeling-tips/tip6_feasible_region.png)\n",
        "\n",
        "In the diet problem we want to find a diet that satisfies certain nutritional requirements while also minimizing the total cost.\n",
        "\n",
        "**What if the costs were not known exactly?**\n",
        "\n",
        "One simple approach is via robust optimization using ellipsoidal uncertainty as follows:  \n",
        "```python\n",
        "var t >= 0; # Auxiliary variable\n",
        "minimize Total_Cost:\n",
        "   sum {j in FOOD} cost[j] * Buy[j] + t; # Added to the objective\n",
        "subject to Ellipsoid:                     \n",
        "   t >= sqrt(sum {j in FOOD} (0.4 * cost[j] * Buy[j])^2); # Second-order cone\n",
        "```"
      ]
    },
    {
      "cell_type": "markdown",
      "metadata": {
        "id": "n4mDFG0wzp3Z"
      },
      "source": [
        "Let's consider a simplified version of the diet problem and let's consider uncertainty:\n",
        "- We have just two types of food\n",
        "- We just want to satisfy the required number of calories per day\n",
        "- **The costs are not known exactly**\n",
        "\n",
        "If the costs were known exactly, we could model this problem as follows:\n",
        "```python\n",
        "set NUTR;\n",
        "set FOOD;\n",
        "\n",
        "param cost {FOOD} > 0;\n",
        "param calories {FOOD} >= 0;\n",
        "param min_calories;\n",
        "param max_calories;\n",
        "\n",
        "var Buy {j in FOOD} >= 0;\n",
        "\n",
        "minimize Total_Cost:\n",
        "   sum {j in FOOD} cost[j] * Buy[j];\n",
        "\n",
        "subject to Required_Calories:\n",
        "   min_calories <= sum {i in FOOD} calories[i] * Buy[i] <= max_calories;\n",
        "```\n",
        "\n",
        "## Since there is uncertainty we can do the following modifications:\n",
        "\n",
        "```python\n",
        "var t >= 0; # Auxiliary variable\n",
        "minimize Total_Cost:\n",
        "   sum {j in FOOD} cost[j] * Buy[j] + t; # Added to the objective\n",
        "subject to Ellipsoid:                     \n",
        "   t >= sqrt(sum {j in FOOD} (0.4 * cost[j] * Buy[j])^2); # Second-order cone\n",
        "````\n"
      ]
    },
    {
      "cell_type": "code",
      "execution_count": 3,
      "metadata": {
        "id": "Bu7Da0vixqcU"
      },
      "outputs": [],
      "source": [
        "%%ampl_eval\n",
        "reset;\n",
        "set NUTR;\n",
        "set FOOD;\n",
        "\n",
        "param cost {FOOD} > 0;\n",
        "param calories {FOOD} >= 0;\n",
        "param min_calories;\n",
        "param max_calories;\n",
        "param robust default 1;\n",
        "\n",
        "var Buy {j in FOOD} >= 0;\n",
        "var t >= 0;                                               # Auxiliary variable\n",
        "\n",
        "minimize Total_Cost:\n",
        "   sum {j in FOOD} cost[j] * Buy[j] + t;                  # Added to the objective\n",
        "\n",
        "subject to Required_Calories:\n",
        "   min_calories <= sum {i in FOOD} calories[i] * Buy[i] <= max_calories;\n",
        "\n",
        "subject to Ellipsoid{if robust}:                \n",
        "   t >= sqrt(sum {j in FOOD} (0.4 * cost[j] * Buy[j])^2); # Second-order cone"
      ]
    },
    {
      "cell_type": "code",
      "execution_count": 4,
      "metadata": {
        "id": "LaCgxDBE6CFx"
      },
      "outputs": [],
      "source": [
        "ampl.set[\"FOOD\"] = [\"BEEF\", \"CHK\"]\n",
        "ampl.param[\"cost\"] = {\"BEEF\": 1, \"CHK\": 1}\n",
        "ampl.param[\"min_calories\"] = 2000\n",
        "ampl.param[\"max_calories\"] = 2500\n",
        "ampl.param[\"calories\"] = {\"BEEF\": 250, \"CHK\": 239}"
      ]
    },
    {
      "cell_type": "markdown",
      "metadata": {
        "id": "59Y1m_ri4oQf"
      },
      "source": [
        "## Solving Robust and non-Robust models with [MOSEK](https://ampl.com/products/solvers/solvers-we-sell/mosek/)"
      ]
    },
    {
      "cell_type": "code",
      "execution_count": 5,
      "metadata": {
        "colab": {
          "base_uri": "https://localhost:8080/"
        },
        "id": "KObLx5zt4hLc",
        "outputId": "02acd09c-052c-4271-bb30-674f22222109"
      },
      "outputs": [
        {
          "name": "stdout",
          "output_type": "stream",
          "text": [
            "> Not robust:\n",
            "MOSEK 10.0.16: \b\b\b\b\b\b\b\b\b\b\b\b\b\b\bMOSEK 10.0.16: optimal; objective 8\n",
            "0 simplex iterations\n",
            "Buy [*] :=\n",
            "BEEF  8\n",
            " CHK  0\n",
            ";\n",
            "\n",
            "Total_Cost = 8\n",
            "\n",
            "> Robust:\n",
            "MOSEK 10.0.16: \b\b\b\b\b\b\b\b\b\b\b\b\b\b\bMOSEK 10.0.16: optimal; objective 10.4815553\n",
            "0 simplex iterations\n",
            "6 barrier iterations\n",
            "Buy [*] :=\n",
            "BEEF  4.49848\n",
            " CHK  3.66268\n",
            ";\n",
            "\n",
            "Total_Cost - t = 8.16116\n",
            "\n"
          ]
        }
      ],
      "source": [
        "%%ampl_eval\n",
        "printf \"> Not robust:\\n\";\n",
        "option solver mosek;\n",
        "let robust := 0;\n",
        "solve;\n",
        "display Buy, Total_Cost;\n",
        "printf \"> Robust:\\n\";\n",
        "let robust := 1;\n",
        "solve;\n",
        "display Buy, Total_Cost - t;"
      ]
    },
    {
      "cell_type": "markdown",
      "metadata": {
        "id": "uRhe12gr41Gu"
      },
      "source": [
        "## Solving Robust and non-Robust models with [Gurobi](https://ampl.com/products/solvers/solvers-we-sell/gurobi/)"
      ]
    },
    {
      "cell_type": "code",
      "execution_count": 6,
      "metadata": {
        "colab": {
          "base_uri": "https://localhost:8080/"
        },
        "id": "VdE4p1Vb4z4g",
        "outputId": "7965a992-c345-4527-bfe1-efb475b07bb1"
      },
      "outputs": [
        {
          "name": "stdout",
          "output_type": "stream",
          "text": [
            "> Not robust:\n",
            "Gurobi 10.0.1: \b\b\b\b\b\b\b\b\b\b\b\b\b\b\bGurobi 10.0.1: optimal solution; objective 8\n",
            "0 simplex iterations\n",
            "Buy [*] :=\n",
            "BEEF  8\n",
            " CHK  0\n",
            ";\n",
            "\n",
            "Total_Cost = 8\n",
            "\n",
            "> Robust:\n",
            "Gurobi 10.0.1: \b\b\b\b\b\b\b\b\b\b\b\b\b\b\bGurobi 10.0.1: optimal solution; objective 10.48155551\n",
            "0 simplex iterations\n",
            "5 barrier iterations\n",
            "Buy [*] :=\n",
            "BEEF  4.49905\n",
            " CHK  3.66208\n",
            ";\n",
            "\n",
            "Total_Cost - t = 8.16113\n",
            "\n"
          ]
        }
      ],
      "source": [
        "%%ampl_eval\n",
        "printf \"> Not robust:\\n\";\n",
        "option solver gurobi;\n",
        "let robust := 0;\n",
        "solve;\n",
        "display Buy, Total_Cost;\n",
        "printf \"> Robust:\\n\";\n",
        "let robust := 1;\n",
        "solve;\n",
        "display Buy, Total_Cost - t;"
      ]
    },
    {
      "cell_type": "markdown",
      "metadata": {
        "id": "yMKBmPLi3_XM"
      },
      "source": [
        "**We see that the robust solution balances the choices, while LP strictly prefers just 1 of the products. We exchanged some optimality for robustness.**\n",
        "\n",
        "- Ellipsoidal uncertainty is of the less conservative kind: [Introduction](https://docs.mosek.com/latest/toolbox/case-studies-robust-lo.html).\n",
        "- Documentation on AMPL conic and extended modeling can be found in the [MP Modeling Guide](https://amplmp.readthedocs.io/en/latest/rst/model-guide.html)."
      ]
    },
    {
      "cell_type": "markdown",
      "metadata": {
        "id": "d3dWpTGrzu52"
      },
      "source": [
        "## Formal explanation \n",
        "\n",
        "Consider a linear optimization problem of the form:\n",
        "\n",
        "$$\\min_x c^T x : Ax \\ge b, \\ x\\ge 0$$\n",
        "\n",
        "In practice, the objective coefficients $c$ may not be known perfectly. Assume that we only know that (with high probability) $c \\in E$, where $E$ is a given ellipsoid:\n",
        "\n",
        "$$E = \\{ \\widehat{c} + Ru : \\|u\\|_2 \\le 1\\},$$\n",
        "\n",
        "with center $\\widehat{c} \\in \\mathbf{R}^n$ and $R \\in \\mathbf{R}^{n \\times k}$. In robust optimization, we seek to minimize the objective for the worst-case scenario:\n",
        "\n",
        "$$\\max_{c \\in E} c^Tx  = \\widehat{c}^Tx + \\max_{\\|u\\|_2 \\le 1} x^TR u = \\widehat{c}^Tx + \\|R^Tx\\|_2,$$\n",
        "\n",
        "where we used that $\\max_{||u||_2\\le1} v^Tu = (v^Tv)/||v||_2 = ||v||_2$. The robust problem is equivalent to\n",
        "\n",
        "$$\\begin{equation}\n",
        "\\min_x \\widehat{c}^T x + ||R^Tx||_2 : Ax \\ge b, \\ x\\ge 0.\\end{equation}$$\n",
        "\n",
        "This can be visualized for the 2D case. Assume we have two kinds of food with prices $c_1$, $c_2$ and calories per unit $a_1$, $a_2$. Buying amounts $x_1$, $x_2$ of them, we optimize the LP\n",
        "\n",
        "\\begin{align*}\n",
        "\\min\\quad &c_1x_1 + c_2x_2\n",
        "\\\\\n",
        "s.t.\\quad &a_1x_1 + a_2x_2 \\ge b,\n",
        "\\\\\n",
        "&x_1, x_2 \\ge 0.\n",
        "\\end{align*}\n",
        "\n",
        "Adding an ellipsoidal uncertainty term in the objective, we obtain the problem\n",
        "\n",
        "\\begin{align*}\n",
        "\\min\\quad &\\widehat{c}_1x_1 + \\widehat{c}_2x_2 + ||R^Tx||_2\n",
        "\\\\\n",
        "s.t.\\quad &a_1x_1 + a_2x_2 \\ge b,\n",
        "\\\\\n",
        "&x_1, x_2 \\ge 0.\n",
        "\\end{align*}\n",
        "\n",
        "A graphical representation of the feasible set and linear vs. robust objectives:\n",
        "\n",
        "\n",
        "![Feasible Region](https://raw.githubusercontent.com/ampl/colab.ampl.com/d8a9845dfddbae4a9fc73fa549cb411323505a25/authors/glebbelov/modeling-tips/tip6_feasible_region.png)\n",
        "\n",
        "We see that the robust solution balances the choices, while LP strictly prefers just 1 of the products.\n",
        "\n",
        "![Counter Plot](https://raw.githubusercontent.com/ampl/colab.ampl.com/d8a9845dfddbae4a9fc73fa549cb411323505a25/authors/glebbelov/modeling-tips/tip6_contour_line.png)\n",
        "\n",
        "Note that the contour line passing through the origin (and corresponding to objective value 0) is piecewise-linear\n",
        "\n",
        "\n",
        "The robust LP (1) can be reformulated as a conic quadratic problem:\n",
        "\n",
        "\\begin{align*}\n",
        "\\min \\quad &\\widehat{c}^T x + t\n",
        "\\\\\n",
        "\\text{s.t.}\\quad &Ax \\ge b,\n",
        "\\\\\n",
        "&(t, R^Tx) \\in \\text{QuadCone}(n),\n",
        "\\\\ &x \\ge 0.\n",
        "\\end{align*}"
      ]
    }
  ],
  "metadata": {
    "colab": {
      "provenance": []
    },
    "kernelspec": {
      "display_name": "Python 3 (ipykernel)",
      "language": "python",
      "name": "python3"
    },
    "language_info": {
      "codemirror_mode": {
        "name": "ipython",
        "version": 3
      },
      "file_extension": ".py",
      "mimetype": "text/x-python",
      "name": "python",
      "nbconvert_exporter": "python",
      "pygments_lexer": "ipython3",
      "version": "3.10.6"
    },
    "vscode": {
      "interpreter": {
        "hash": "ee4198aac13dae9b6fccd443041680d99c2643c4956ef7c80ff6dcc0057cb523"
      }
    },
    "widgets": {
      "application/vnd.jupyter.widget-state+json": {
        "075df9d296264e4cb762305c0256cc97": {
          "model_module": "@jupyter-widgets/output",
          "model_module_version": "1.0.0",
          "model_name": "OutputModel",
          "state": {
            "_dom_classes": [],
            "_model_module": "@jupyter-widgets/output",
            "_model_module_version": "1.0.0",
            "_model_name": "OutputModel",
            "_view_count": null,
            "_view_module": "@jupyter-widgets/output",
            "_view_module_version": "1.0.0",
            "_view_name": "OutputView",
            "layout": "IPY_MODEL_2ea0e552db7644eba535187f57ef8985",
            "msg_id": "",
            "outputs": [
              {
                "name": "stdout",
                "output_type": "stream",
                "text": [
                  "AMPL License UUID (you can use a free https://ampl.com/ce license):\n"
                ]
              }
            ]
          }
        },
        "0e91f85eb0664e89b8024441c41ba219": {
          "model_module": "@jupyter-widgets/controls",
          "model_module_version": "1.5.0",
          "model_name": "TextModel",
          "state": {
            "_dom_classes": [],
            "_model_module": "@jupyter-widgets/controls",
            "_model_module_version": "1.5.0",
            "_model_name": "TextModel",
            "_view_count": null,
            "_view_module": "@jupyter-widgets/controls",
            "_view_module_version": "1.5.0",
            "_view_name": "TextView",
            "continuous_update": true,
            "description": "UUID:",
            "description_tooltip": null,
            "disabled": false,
            "layout": "IPY_MODEL_88196759caa9490a9744e0114bb3ba16",
            "placeholder": "​",
            "style": "IPY_MODEL_af7a6891fee3444ca682bb7a737e605c",
            "value": ""
          }
        },
        "2ca3ee2e7a5b42cea2c8354aae53f4df": {
          "model_module": "@jupyter-widgets/controls",
          "model_module_version": "1.5.0",
          "model_name": "ButtonStyleModel",
          "state": {
            "_model_module": "@jupyter-widgets/controls",
            "_model_module_version": "1.5.0",
            "_model_name": "ButtonStyleModel",
            "_view_count": null,
            "_view_module": "@jupyter-widgets/base",
            "_view_module_version": "1.2.0",
            "_view_name": "StyleView",
            "button_color": null,
            "font_weight": ""
          }
        },
        "2ea0e552db7644eba535187f57ef8985": {
          "model_module": "@jupyter-widgets/base",
          "model_module_version": "1.2.0",
          "model_name": "LayoutModel",
          "state": {
            "_model_module": "@jupyter-widgets/base",
            "_model_module_version": "1.2.0",
            "_model_name": "LayoutModel",
            "_view_count": null,
            "_view_module": "@jupyter-widgets/base",
            "_view_module_version": "1.2.0",
            "_view_name": "LayoutView",
            "align_content": null,
            "align_items": null,
            "align_self": null,
            "border": null,
            "bottom": null,
            "display": null,
            "flex": null,
            "flex_flow": null,
            "grid_area": null,
            "grid_auto_columns": null,
            "grid_auto_flow": null,
            "grid_auto_rows": null,
            "grid_column": null,
            "grid_gap": null,
            "grid_row": null,
            "grid_template_areas": null,
            "grid_template_columns": null,
            "grid_template_rows": null,
            "height": null,
            "justify_content": null,
            "justify_items": null,
            "left": null,
            "margin": null,
            "max_height": null,
            "max_width": null,
            "min_height": null,
            "min_width": null,
            "object_fit": null,
            "object_position": null,
            "order": null,
            "overflow": null,
            "overflow_x": null,
            "overflow_y": null,
            "padding": null,
            "right": null,
            "top": null,
            "visibility": null,
            "width": null
          }
        },
        "644558494b8b4382981028dcbb6b8dd6": {
          "model_module": "@jupyter-widgets/controls",
          "model_module_version": "1.5.0",
          "model_name": "ButtonModel",
          "state": {
            "_dom_classes": [],
            "_model_module": "@jupyter-widgets/controls",
            "_model_module_version": "1.5.0",
            "_model_name": "ButtonModel",
            "_view_count": null,
            "_view_module": "@jupyter-widgets/controls",
            "_view_module_version": "1.5.0",
            "_view_name": "ButtonView",
            "button_style": "",
            "description": "Use existing license",
            "disabled": false,
            "icon": "",
            "layout": "IPY_MODEL_bd944690c02341f0964ea27c137a1967",
            "style": "IPY_MODEL_2ca3ee2e7a5b42cea2c8354aae53f4df",
            "tooltip": ""
          }
        },
        "82287456b19b480184faf44dd2743b7c": {
          "model_module": "@jupyter-widgets/base",
          "model_module_version": "1.2.0",
          "model_name": "LayoutModel",
          "state": {
            "_model_module": "@jupyter-widgets/base",
            "_model_module_version": "1.2.0",
            "_model_name": "LayoutModel",
            "_view_count": null,
            "_view_module": "@jupyter-widgets/base",
            "_view_module_version": "1.2.0",
            "_view_name": "LayoutView",
            "align_content": null,
            "align_items": null,
            "align_self": null,
            "border": null,
            "bottom": null,
            "display": null,
            "flex": null,
            "flex_flow": null,
            "grid_area": null,
            "grid_auto_columns": null,
            "grid_auto_flow": null,
            "grid_auto_rows": null,
            "grid_column": null,
            "grid_gap": null,
            "grid_row": null,
            "grid_template_areas": null,
            "grid_template_columns": null,
            "grid_template_rows": null,
            "height": null,
            "justify_content": null,
            "justify_items": null,
            "left": null,
            "margin": null,
            "max_height": null,
            "max_width": null,
            "min_height": null,
            "min_width": null,
            "object_fit": null,
            "object_position": null,
            "order": null,
            "overflow": null,
            "overflow_x": null,
            "overflow_y": null,
            "padding": null,
            "right": null,
            "top": null,
            "visibility": null,
            "width": null
          }
        },
        "82df486ba400428184984948e8b5f4e4": {
          "model_module": "@jupyter-widgets/output",
          "model_module_version": "1.0.0",
          "model_name": "OutputModel",
          "state": {
            "_dom_classes": [],
            "_model_module": "@jupyter-widgets/output",
            "_model_module_version": "1.0.0",
            "_model_name": "OutputModel",
            "_view_count": null,
            "_view_module": "@jupyter-widgets/output",
            "_view_module_version": "1.0.0",
            "_view_name": "OutputView",
            "layout": "IPY_MODEL_82287456b19b480184faf44dd2743b7c",
            "msg_id": "",
            "outputs": [
              {
                "name": "stdout",
                "output_type": "stream",
                "text": [
                  "Licensed to AMPL Community Edition License for the AMPL Model Colaboratory (https://colab.ampl.com).\n"
                ]
              }
            ]
          }
        },
        "88196759caa9490a9744e0114bb3ba16": {
          "model_module": "@jupyter-widgets/base",
          "model_module_version": "1.2.0",
          "model_name": "LayoutModel",
          "state": {
            "_model_module": "@jupyter-widgets/base",
            "_model_module_version": "1.2.0",
            "_model_name": "LayoutModel",
            "_view_count": null,
            "_view_module": "@jupyter-widgets/base",
            "_view_module_version": "1.2.0",
            "_view_name": "LayoutView",
            "align_content": null,
            "align_items": null,
            "align_self": null,
            "border": null,
            "bottom": null,
            "display": null,
            "flex": null,
            "flex_flow": null,
            "grid_area": null,
            "grid_auto_columns": null,
            "grid_auto_flow": null,
            "grid_auto_rows": null,
            "grid_column": null,
            "grid_gap": null,
            "grid_row": null,
            "grid_template_areas": null,
            "grid_template_columns": null,
            "grid_template_rows": null,
            "height": null,
            "justify_content": null,
            "justify_items": null,
            "left": null,
            "margin": null,
            "max_height": null,
            "max_width": null,
            "min_height": null,
            "min_width": null,
            "object_fit": null,
            "object_position": null,
            "order": null,
            "overflow": null,
            "overflow_x": null,
            "overflow_y": null,
            "padding": null,
            "right": null,
            "top": null,
            "visibility": null,
            "width": null
          }
        },
        "a3a3c559a15f4e8eb1691839537a6426": {
          "model_module": "@jupyter-widgets/base",
          "model_module_version": "1.2.0",
          "model_name": "LayoutModel",
          "state": {
            "_model_module": "@jupyter-widgets/base",
            "_model_module_version": "1.2.0",
            "_model_name": "LayoutModel",
            "_view_count": null,
            "_view_module": "@jupyter-widgets/base",
            "_view_module_version": "1.2.0",
            "_view_name": "LayoutView",
            "align_content": null,
            "align_items": null,
            "align_self": null,
            "border": null,
            "bottom": null,
            "display": null,
            "flex": null,
            "flex_flow": null,
            "grid_area": null,
            "grid_auto_columns": null,
            "grid_auto_flow": null,
            "grid_auto_rows": null,
            "grid_column": null,
            "grid_gap": null,
            "grid_row": null,
            "grid_template_areas": null,
            "grid_template_columns": null,
            "grid_template_rows": null,
            "height": null,
            "justify_content": null,
            "justify_items": null,
            "left": null,
            "margin": null,
            "max_height": null,
            "max_width": null,
            "min_height": null,
            "min_width": null,
            "object_fit": null,
            "object_position": null,
            "order": null,
            "overflow": null,
            "overflow_x": null,
            "overflow_y": null,
            "padding": null,
            "right": null,
            "top": null,
            "visibility": null,
            "width": null
          }
        },
        "af7a6891fee3444ca682bb7a737e605c": {
          "model_module": "@jupyter-widgets/controls",
          "model_module_version": "1.5.0",
          "model_name": "DescriptionStyleModel",
          "state": {
            "_model_module": "@jupyter-widgets/controls",
            "_model_module_version": "1.5.0",
            "_model_name": "DescriptionStyleModel",
            "_view_count": null,
            "_view_module": "@jupyter-widgets/base",
            "_view_module_version": "1.2.0",
            "_view_name": "StyleView",
            "description_width": ""
          }
        },
        "b5981ba6074641d296e155f4e68dd9ab": {
          "model_module": "@jupyter-widgets/controls",
          "model_module_version": "1.5.0",
          "model_name": "HBoxModel",
          "state": {
            "_dom_classes": [],
            "_model_module": "@jupyter-widgets/controls",
            "_model_module_version": "1.5.0",
            "_model_name": "HBoxModel",
            "_view_count": null,
            "_view_module": "@jupyter-widgets/controls",
            "_view_module_version": "1.5.0",
            "_view_name": "HBoxView",
            "box_style": "",
            "children": [
              "IPY_MODEL_644558494b8b4382981028dcbb6b8dd6",
              "IPY_MODEL_0e91f85eb0664e89b8024441c41ba219"
            ],
            "layout": "IPY_MODEL_da1ab8cbc98840efb8a01365cbb83612"
          }
        },
        "bd944690c02341f0964ea27c137a1967": {
          "model_module": "@jupyter-widgets/base",
          "model_module_version": "1.2.0",
          "model_name": "LayoutModel",
          "state": {
            "_model_module": "@jupyter-widgets/base",
            "_model_module_version": "1.2.0",
            "_model_name": "LayoutModel",
            "_view_count": null,
            "_view_module": "@jupyter-widgets/base",
            "_view_module_version": "1.2.0",
            "_view_name": "LayoutView",
            "align_content": null,
            "align_items": null,
            "align_self": null,
            "border": null,
            "bottom": null,
            "display": null,
            "flex": null,
            "flex_flow": null,
            "grid_area": null,
            "grid_auto_columns": null,
            "grid_auto_flow": null,
            "grid_auto_rows": null,
            "grid_column": null,
            "grid_gap": null,
            "grid_row": null,
            "grid_template_areas": null,
            "grid_template_columns": null,
            "grid_template_rows": null,
            "height": null,
            "justify_content": null,
            "justify_items": null,
            "left": null,
            "margin": null,
            "max_height": null,
            "max_width": null,
            "min_height": null,
            "min_width": null,
            "object_fit": null,
            "object_position": null,
            "order": null,
            "overflow": null,
            "overflow_x": null,
            "overflow_y": null,
            "padding": null,
            "right": null,
            "top": null,
            "visibility": null,
            "width": null
          }
        },
        "c961df2b8b204d66900f1510dbeb3496": {
          "model_module": "@jupyter-widgets/controls",
          "model_module_version": "1.5.0",
          "model_name": "VBoxModel",
          "state": {
            "_dom_classes": [],
            "_model_module": "@jupyter-widgets/controls",
            "_model_module_version": "1.5.0",
            "_model_name": "VBoxModel",
            "_view_count": null,
            "_view_module": "@jupyter-widgets/controls",
            "_view_module_version": "1.5.0",
            "_view_name": "VBoxView",
            "box_style": "",
            "children": [
              "IPY_MODEL_075df9d296264e4cb762305c0256cc97",
              "IPY_MODEL_b5981ba6074641d296e155f4e68dd9ab",
              "IPY_MODEL_e4afe67642654b2688c28c08b7ae35f3",
              "IPY_MODEL_82df486ba400428184984948e8b5f4e4"
            ],
            "layout": "IPY_MODEL_d4139a938f7548e7a633e89f4364c978"
          }
        },
        "d4139a938f7548e7a633e89f4364c978": {
          "model_module": "@jupyter-widgets/base",
          "model_module_version": "1.2.0",
          "model_name": "LayoutModel",
          "state": {
            "_model_module": "@jupyter-widgets/base",
            "_model_module_version": "1.2.0",
            "_model_name": "LayoutModel",
            "_view_count": null,
            "_view_module": "@jupyter-widgets/base",
            "_view_module_version": "1.2.0",
            "_view_name": "LayoutView",
            "align_content": null,
            "align_items": null,
            "align_self": null,
            "border": null,
            "bottom": null,
            "display": null,
            "flex": null,
            "flex_flow": null,
            "grid_area": null,
            "grid_auto_columns": null,
            "grid_auto_flow": null,
            "grid_auto_rows": null,
            "grid_column": null,
            "grid_gap": null,
            "grid_row": null,
            "grid_template_areas": null,
            "grid_template_columns": null,
            "grid_template_rows": null,
            "height": null,
            "justify_content": null,
            "justify_items": null,
            "left": null,
            "margin": null,
            "max_height": null,
            "max_width": null,
            "min_height": null,
            "min_width": null,
            "object_fit": null,
            "object_position": null,
            "order": null,
            "overflow": null,
            "overflow_x": null,
            "overflow_y": null,
            "padding": null,
            "right": null,
            "top": null,
            "visibility": null,
            "width": null
          }
        },
        "da1ab8cbc98840efb8a01365cbb83612": {
          "model_module": "@jupyter-widgets/base",
          "model_module_version": "1.2.0",
          "model_name": "LayoutModel",
          "state": {
            "_model_module": "@jupyter-widgets/base",
            "_model_module_version": "1.2.0",
            "_model_name": "LayoutModel",
            "_view_count": null,
            "_view_module": "@jupyter-widgets/base",
            "_view_module_version": "1.2.0",
            "_view_name": "LayoutView",
            "align_content": null,
            "align_items": null,
            "align_self": null,
            "border": null,
            "bottom": null,
            "display": null,
            "flex": null,
            "flex_flow": null,
            "grid_area": null,
            "grid_auto_columns": null,
            "grid_auto_flow": null,
            "grid_auto_rows": null,
            "grid_column": null,
            "grid_gap": null,
            "grid_row": null,
            "grid_template_areas": null,
            "grid_template_columns": null,
            "grid_template_rows": null,
            "height": null,
            "justify_content": null,
            "justify_items": null,
            "left": null,
            "margin": null,
            "max_height": null,
            "max_width": null,
            "min_height": null,
            "min_width": null,
            "object_fit": null,
            "object_position": null,
            "order": null,
            "overflow": null,
            "overflow_x": null,
            "overflow_y": null,
            "padding": null,
            "right": null,
            "top": null,
            "visibility": null,
            "width": null
          }
        },
        "e4afe67642654b2688c28c08b7ae35f3": {
          "model_module": "@jupyter-widgets/output",
          "model_module_version": "1.0.0",
          "model_name": "OutputModel",
          "state": {
            "_dom_classes": [],
            "_model_module": "@jupyter-widgets/output",
            "_model_module_version": "1.0.0",
            "_model_name": "OutputModel",
            "_view_count": null,
            "_view_module": "@jupyter-widgets/output",
            "_view_module_version": "1.0.0",
            "_view_name": "OutputView",
            "layout": "IPY_MODEL_a3a3c559a15f4e8eb1691839537a6426",
            "msg_id": "",
            "outputs": []
          }
        }
      }
    }
  },
  "nbformat": 4,
  "nbformat_minor": 1
}
