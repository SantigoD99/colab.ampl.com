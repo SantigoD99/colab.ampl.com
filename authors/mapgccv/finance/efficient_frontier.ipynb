{
  "cells": [
    {
      "attachments": {},
      "cell_type": "markdown",
      "metadata": {
        "id": "xDITu8fZTfEj"
      },
      "source": [
        "# Efficient Frontier with Google Sheets\n",
        "[![efficient_frontier.ipynb](https://img.shields.io/badge/github-%23121011.svg?logo=github)](https://github.com/ampl/colab.ampl.com/blob/master/authors/mapgccv/finance/efficient_frontier.ipynb) [![Open In Colab](https://colab.research.google.com/assets/colab-badge.svg)](https://colab.research.google.com/github/ampl/colab.ampl.com/blob/master/authors/mapgccv/finance/efficient_frontier.ipynb) [![Hits](https://h.ampl.com/https://github.com/ampl/colab.ampl.com/blob/master/authors/mapgccv/finance/efficient_frontier.ipynb)](https://colab.ampl.com)\n",
        "\n",
        "Description: Efficient Frontier example using Google Sheets\n",
        "\n",
        "Tags: amplpy, google-sheets, finance\n",
        "\n",
        "Notebook author: Christian Valente <<ccv@ampl.com>>\n",
        "\n",
        "Model author: Harry Markowitz\n",
        "\n",
        "References:\n",
        "1. Markowitz, H.M. (March 1952). \"Portfolio Selection\". The Journal of Finance. 7 (1): 77–91. doi:10.2307/2975974. JSTOR 2975974."
      ]
    },
    {
      "cell_type": "markdown",
      "metadata": {
        "id": "Q72dLDiaRoZ5"
      },
      "source": [
        "## Install needed modules and authenticate user to use google sheets"
      ]
    },
    {
      "cell_type": "code",
      "execution_count": 1,
      "metadata": {
        "id": "aKiYKyDUEOyV"
      },
      "outputs": [],
      "source": [
        "from google.colab import auth\n",
        "\n",
        "auth.authenticate_user()"
      ]
    },
    {
      "cell_type": "code",
      "execution_count": 2,
      "metadata": {
        "colab": {
          "base_uri": "https://localhost:8080/"
        },
        "id": "JVIEGBHREh59",
        "outputId": "89ef87af-c9ad-4575-c3ad-eba1daf8a10d"
      },
      "outputs": [],
      "source": [
        "# Install dependencies\n",
        "%pip install -q amplpy pandas gspread matplotlib"
      ]
    },
    {
      "cell_type": "code",
      "execution_count": 3,
      "metadata": {
        "colab": {
          "base_uri": "https://localhost:8080/",
          "height": 431,
          "referenced_widgets": [
            "55202111d18446c9bf1327f6a1fc6eaa",
            "0b006809ac574a4fbfb089855e8ad0aa",
            "29a3031a99a04d6c974d2f4a50931065",
            "5815fe2ad4cb4151b5bf51f256869286",
            "3c22fca45cef45a7ae85ac4ffd12d434",
            "53468cf6ca0c4bcb98dcfafe77187f43",
            "ad242b5d3af9422db7c9f5a750ac9361",
            "7cd4753b896345b4b1e775ea08c31c82",
            "2aa956ec2c56497481033d4d83e3f7cc",
            "6be52ca339474af9987b8c9be27e6750",
            "b0a1a58b9d1b4ae980faafcf89ba1ce6",
            "7cbf21f509da4b9eac890872b5b7bde3",
            "b8bcdf01f25f43ff9514e4d6551a69a9",
            "a1d20057680747999dceebe799a17d53"
          ]
        },
        "id": "QFXXgRbZEon0",
        "outputId": "c0388b8a-cf25-4437-cf81-96751f0e7f2d"
      },
      "outputs": [],
      "source": [
        "# Google Colab & Kaggle integration\n",
        "from amplpy import AMPL, ampl_notebook\n",
        "\n",
        "ampl = ampl_notebook(\n",
        "    modules=[\"cplex\"],  # modules to install\n",
        "    license_uuid=\"default\",  # license to use\n",
        ")  # instantiate AMPL object and register magics"
      ]
    },
    {
      "cell_type": "markdown",
      "metadata": {
        "id": "IDSkh0OQUFO0"
      },
      "source": [
        "## Auxiliar functions\n"
      ]
    },
    {
      "cell_type": "code",
      "execution_count": 4,
      "metadata": {
        "id": "RQJJ0oUNE4G4"
      },
      "outputs": [],
      "source": [
        "import gspread\n",
        "from google.auth import default\n",
        "\n",
        "creds, _ = default()\n",
        "gclient = gspread.authorize(creds)\n",
        "\n",
        "\n",
        "def open_spreedsheet(name):\n",
        "    if name.startswith(\"https://\"):\n",
        "        return gclient.open_by_url(name)\n",
        "    return gclient.open(name)\n",
        "\n",
        "\n",
        "import pandas as pd\n",
        "\n",
        "\n",
        "def get_worksheet_values(name):\n",
        "    return spreedsheet.worksheet(name).get_values(\n",
        "        value_render_option=\"UNFORMATTED_VALUE\"\n",
        "    )\n",
        "\n",
        "\n",
        "def table_to_dataframe(rows):\n",
        "    return pd.DataFrame(rows[1:], columns=rows[0]).set_index(rows[0][0])\n",
        "\n",
        "\n",
        "def matrix_to_dataframe(rows, tr=False, nameOverride=None):\n",
        "    col_labels = rows[0][1:]\n",
        "    row_labels = [row[0] for row in rows[1:]]\n",
        "\n",
        "    def label(pair):\n",
        "        return pair if not tr else (pair[1], pair[0])\n",
        "\n",
        "    data = {\n",
        "        label((rlabel, clabel)): rows[i + 1][j + 1]\n",
        "        for i, rlabel in enumerate(row_labels)\n",
        "        for j, clabel in enumerate(col_labels)\n",
        "    }\n",
        "    df = pd.Series(data).reset_index()\n",
        "    name = nameOverride if nameOverride else rows[0][0]\n",
        "    df.columns = [\"index1\", \"index2\", name]\n",
        "    return df.set_index([\"index1\", \"index2\"])"
      ]
    },
    {
      "cell_type": "markdown",
      "metadata": {
        "id": "MtozkvNhUcPj"
      },
      "source": [
        "## Efficient Frontier Example"
      ]
    },
    {
      "cell_type": "markdown",
      "metadata": {
        "id": "GV_i-6_HQvIA"
      },
      "source": [
        "Open connection to the spreadsheet and get the data, using the utility functions in ampltools to get pandas dataframes."
      ]
    },
    {
      "cell_type": "code",
      "execution_count": 5,
      "metadata": {
        "id": "yCI9AMVFE4B3"
      },
      "outputs": [],
      "source": [
        "spreedsheet = open_spreedsheet(\n",
        "    \"https://docs.google.com/spreadsheets/d/1d9wRk2PJgYsjiNVoKi1FcawGSVUB5mxSeQUBdEleUv4/edit?usp=sharing\"\n",
        ")\n",
        "\n",
        "rows = get_worksheet_values(\"covariance\")\n",
        "# To be able to use ampl.set_data, we override the data column\n",
        "# of the dataframe to the name of the parameter we will be setting (S)\n",
        "covar = matrix_to_dataframe(rows, nameOverride=\"S\")\n",
        "\n",
        "rows = get_worksheet_values(\"expectedReturns\")\n",
        "expected = table_to_dataframe(rows)"
      ]
    },
    {
      "cell_type": "markdown",
      "metadata": {
        "id": "25oT2-OQRnjh"
      },
      "source": [
        "The following is a version of Markowitz mean-variance model, that can be used to calculate the efficient frontier"
      ]
    },
    {
      "cell_type": "code",
      "execution_count": 6,
      "metadata": {
        "id": "pLtarkfFK2Rl"
      },
      "outputs": [],
      "source": [
        "%%ampl_eval\n",
        "\n",
        "set A ordered;         # assets\n",
        "\n",
        "param S{A, A};         # cov matrix\n",
        "param mu{A} default 0; # expected returns\n",
        "param lb default 0;\n",
        "param ub default Infinity;\n",
        "param targetReturn default -Infinity;\n",
        "\n",
        "var w{A} >= lb <= ub;  # weights\n",
        "var portfolioReturn >= targetReturn;\n",
        "\n",
        "minimize portfolio_variance: sum {i in A, j in A} S[i, j] * w[i] * w[j];\n",
        "maximize portfolio_return: sum{a in A} mu[a] * w[a];\n",
        "\n",
        "s.t. def_total_weight: sum {i in A}  w[i] = 1;\n",
        "s.t. def_target_return: sum{a in A} mu[a] * w[a] >= targetReturn;"
      ]
    },
    {
      "cell_type": "markdown",
      "metadata": {
        "id": "yqurA6V9SWjf"
      },
      "source": [
        "Using amplpy we set the data of the ampl entities using the dataframes we got from google sheets"
      ]
    },
    {
      "cell_type": "code",
      "execution_count": 7,
      "metadata": {
        "id": "OODUiL4OVEVt"
      },
      "outputs": [],
      "source": [
        "# Set expected returns\n",
        "ampl.set_data(expected, set_name=\"A\")\n",
        "# Set covariance data\n",
        "ampl.set_data(covar)"
      ]
    },
    {
      "cell_type": "markdown",
      "metadata": {
        "id": "q-IKUOv4Sfsl"
      },
      "source": [
        "Set a few options in AMPL to streamline the execution"
      ]
    },
    {
      "cell_type": "code",
      "execution_count": 8,
      "metadata": {
        "id": "0KxgnB0taV6O"
      },
      "outputs": [],
      "source": [
        "%%ampl_eval\n",
        "# Set options\n",
        "option solver cplex;\n",
        "option solver_msg 0;\n",
        "\n",
        "# The following declarations are needed for the efficient frontier script\n",
        "param nPoints := 20;\n",
        "param minReturn;\n",
        "param maxReturn;\n",
        "param variances{1..nPoints+1};\n",
        "param returns{1..nPoints+1};\n",
        "param delta = (maxReturn-minReturn)/nPoints;"
      ]
    },
    {
      "cell_type": "markdown",
      "metadata": {
        "id": "_Bpvh1ecT8z2"
      },
      "source": [
        "Calculate the extreme points for the efficient frontier procedure: get the minimum return by solving the min varance problem, then get the maximum return by solving the max return problem."
      ]
    },
    {
      "cell_type": "code",
      "execution_count": 9,
      "metadata": {
        "colab": {
          "base_uri": "https://localhost:8080/"
        },
        "id": "pYG0mQrWNOwJ",
        "outputId": "44083eb0-f50c-488a-8db9-d841c5c65fde"
      },
      "outputs": [
        {
          "name": "stdout",
          "output_type": "stream",
          "text": [
            "Min portfolio variance: 0.000092, return: 0.001530\n",
            "Max portfolio variance: 0.000249, return: 0.002182"
          ]
        }
      ],
      "source": [
        "%%ampl_eval\n",
        "# Solve the min variance problem to get the minimum return\n",
        "objective portfolio_variance;\n",
        "solve > NUL;\n",
        "printf \"Min portfolio variance: %f, return: %f\\n\", portfolio_variance, portfolio_return;\n",
        "\n",
        "let minReturn := portfolio_return;\n",
        "# Store the first data point in the efficient frontier\n",
        "let variances[1] := portfolio_variance;\n",
        "let returns[1] := minReturn;\n",
        "\n",
        "# Solve the max return problem\n",
        "objective portfolio_return;\n",
        "solve > NUL;\n",
        "printf \"Max portfolio variance: %f, return: %f\", portfolio_variance, portfolio_return;\n",
        "let maxReturn := portfolio_return;"
      ]
    },
    {
      "cell_type": "markdown",
      "metadata": {
        "id": "uonczgPUUXeL"
      },
      "source": [
        "Now that we have the upper and lower values for the expected returns, iterate `nPoints` times setting the desired return at regularly increasing levels and solve the min variance problem, thus getting the points (return - variance) needed to plot the efficient frontier."
      ]
    },
    {
      "cell_type": "code",
      "execution_count": 10,
      "metadata": {
        "colab": {
          "base_uri": "https://localhost:8080/"
        },
        "id": "RDpBr66uB8F1",
        "outputId": "9b7dc599-bbee-49d9-b52b-f1f88efed61b"
      },
      "outputs": [
        {
          "name": "stdout",
          "output_type": "stream",
          "text": [
            "Return 0.001563, variance 0.000092\n",
            "Return 0.001596, variance 0.000092\n",
            "Return 0.001628, variance 0.000092\n",
            "Return 0.001661, variance 0.000093\n",
            "Return 0.001693, variance 0.000093\n",
            "Return 0.001726, variance 0.000094\n",
            "Return 0.001758, variance 0.000094\n",
            "Return 0.001791, variance 0.000095\n",
            "Return 0.001823, variance 0.000096\n",
            "Return 0.001856, variance 0.000097\n",
            "Return 0.001889, variance 0.000099\n",
            "Return 0.001921, variance 0.000100\n",
            "Return 0.001954, variance 0.000101\n",
            "Return 0.001986, variance 0.000104\n",
            "Return 0.002019, variance 0.000110\n",
            "Return 0.002051, variance 0.000118\n",
            "Return 0.002084, variance 0.000129\n",
            "Return 0.002116, variance 0.000144\n",
            "Return 0.002149, variance 0.000182\n",
            "Return 0.002182, variance 0.000249\n"
          ]
        }
      ],
      "source": [
        "%%ampl_eval\n",
        "\n",
        "# Switch objective to portfolio variance\n",
        "objective portfolio_variance;\n",
        "\n",
        "# Set starting point\n",
        "let targetReturn := minReturn;\n",
        "# Calculate the efficient frontier\n",
        "for{j in 1..nPoints}\n",
        "{\n",
        "\tlet targetReturn := targetReturn+delta;\n",
        "  solve > NUL;\n",
        "  printf \"Return %f, variance %f\\n\", portfolio_return, portfolio_variance;\n",
        "  let returns[j+1] := portfolio_return;\n",
        "\tlet variances[j+1]:=portfolio_variance;\n",
        "};"
      ]
    },
    {
      "cell_type": "markdown",
      "metadata": {
        "id": "3VjN2AhoU0FT"
      },
      "source": [
        "Finally, we plot the efficient frontier"
      ]
    },
    {
      "cell_type": "code",
      "execution_count": 11,
      "metadata": {
        "colab": {
          "base_uri": "https://localhost:8080/",
          "height": 295
        },
        "id": "-ULeZTu8Oh_Q",
        "outputId": "c1f40d8e-f50c-457c-c267-99c30fa604b0"
      },
      "outputs": [
        {
          "data": {
            "image/png": "[encoded data removed]",
            "text/plain": [
              "<Figure size 432x288 with 1 Axes>"
            ]
          },
          "metadata": {
            "needs_background": "light"
          },
          "output_type": "display_data"
        }
      ],
      "source": [
        "import matplotlib.pyplot as plt\n",
        "\n",
        "df = ampl.get_data(\"returns\", \"variances\").to_pandas()\n",
        "plt.plot(df.variances * 1000, df.returns)\n",
        "plt.xlabel(\"Variance*1000\")\n",
        "plt.ylabel(\"Expected Return\")\n",
        "plt.title(\"Efficient frontier\")\n",
        "plt.show()"
      ]
    }
  ],
  "metadata": {
    "colab": {
      "collapsed_sections": [],
      "name": "efficient_frontier.ipynb",
      "provenance": []
    },
    "kernelspec": {
      "display_name": "Python 3.9.13 ('venv': venv)",
      "language": "python",
      "name": "python3"
    },
    "language_info": {
      "name": "python",
      "version": "3.9.13"
    },
    "vscode": {
      "interpreter": {
        "hash": "ee4198aac13dae9b6fccd443041680d99c2643c4956ef7c80ff6dcc0057cb523"
      }
    },
    "widgets": {
      "application/vnd.jupyter.widget-state+json": {
        "0b006809ac574a4fbfb089855e8ad0aa": {
          "model_module": "@jupyter-widgets/base",
          "model_module_version": "1.2.0",
          "model_name": "LayoutModel",
          "state": {
            "_model_module": "@jupyter-widgets/base",
            "_model_module_version": "1.2.0",
            "_model_name": "LayoutModel",
            "_view_count": null,
            "_view_module": "@jupyter-widgets/base",
            "_view_module_version": "1.2.0",
            "_view_name": "LayoutView",
            "align_content": null,
            "align_items": null,
            "align_self": null,
            "border": null,
            "bottom": null,
            "display": null,
            "flex": null,
            "flex_flow": null,
            "grid_area": null,
            "grid_auto_columns": null,
            "grid_auto_flow": null,
            "grid_auto_rows": null,
            "grid_column": null,
            "grid_gap": null,
            "grid_row": null,
            "grid_template_areas": null,
            "grid_template_columns": null,
            "grid_template_rows": null,
            "height": null,
            "justify_content": null,
            "justify_items": null,
            "left": null,
            "margin": null,
            "max_height": null,
            "max_width": null,
            "min_height": null,
            "min_width": null,
            "object_fit": null,
            "object_position": null,
            "order": null,
            "overflow": null,
            "overflow_x": null,
            "overflow_y": null,
            "padding": null,
            "right": null,
            "top": null,
            "visibility": null,
            "width": null
          }
        },
        "29a3031a99a04d6c974d2f4a50931065": {
          "model_module": "@jupyter-widgets/controls",
          "model_module_version": "1.5.0",
          "model_name": "HBoxModel",
          "state": {
            "_dom_classes": [],
            "_model_module": "@jupyter-widgets/controls",
            "_model_module_version": "1.5.0",
            "_model_name": "HBoxModel",
            "_view_count": null,
            "_view_module": "@jupyter-widgets/controls",
            "_view_module_version": "1.5.0",
            "_view_name": "HBoxView",
            "box_style": "",
            "children": [
              "IPY_MODEL_ad242b5d3af9422db7c9f5a750ac9361",
              "IPY_MODEL_7cd4753b896345b4b1e775ea08c31c82"
            ],
            "layout": "IPY_MODEL_53468cf6ca0c4bcb98dcfafe77187f43"
          }
        },
        "2aa956ec2c56497481033d4d83e3f7cc": {
          "model_module": "@jupyter-widgets/controls",
          "model_module_version": "1.5.0",
          "model_name": "ButtonStyleModel",
          "state": {
            "_model_module": "@jupyter-widgets/controls",
            "_model_module_version": "1.5.0",
            "_model_name": "ButtonStyleModel",
            "_view_count": null,
            "_view_module": "@jupyter-widgets/base",
            "_view_module_version": "1.2.0",
            "_view_name": "StyleView",
            "button_color": null,
            "font_weight": ""
          }
        },
        "3c22fca45cef45a7ae85ac4ffd12d434": {
          "model_module": "@jupyter-widgets/output",
          "model_module_version": "1.0.0",
          "model_name": "OutputModel",
          "state": {
            "_dom_classes": [],
            "_model_module": "@jupyter-widgets/output",
            "_model_module_version": "1.0.0",
            "_model_name": "OutputModel",
            "_view_count": null,
            "_view_module": "@jupyter-widgets/output",
            "_view_module_version": "1.0.0",
            "_view_name": "OutputView",
            "layout": "IPY_MODEL_a1d20057680747999dceebe799a17d53",
            "msg_id": "",
            "outputs": [
              {
                "name": "stdout",
                "output_type": "stream",
                "text": [
                  "\n",
                  "AMPL Version 20220219 (Linux-5.4.0-1069-azure, 64-bit)\n",
                  "Demo license with maintenance expiring 20240131.\n",
                  "Using license file \"/content/ampl.linux-intel64/ampl.lic\".\n",
                  "\n"
                ]
              }
            ]
          }
        },
        "53468cf6ca0c4bcb98dcfafe77187f43": {
          "model_module": "@jupyter-widgets/base",
          "model_module_version": "1.2.0",
          "model_name": "LayoutModel",
          "state": {
            "_model_module": "@jupyter-widgets/base",
            "_model_module_version": "1.2.0",
            "_model_name": "LayoutModel",
            "_view_count": null,
            "_view_module": "@jupyter-widgets/base",
            "_view_module_version": "1.2.0",
            "_view_name": "LayoutView",
            "align_content": null,
            "align_items": null,
            "align_self": null,
            "border": null,
            "bottom": null,
            "display": null,
            "flex": null,
            "flex_flow": null,
            "grid_area": null,
            "grid_auto_columns": null,
            "grid_auto_flow": null,
            "grid_auto_rows": null,
            "grid_column": null,
            "grid_gap": null,
            "grid_row": null,
            "grid_template_areas": null,
            "grid_template_columns": null,
            "grid_template_rows": null,
            "height": null,
            "justify_content": null,
            "justify_items": null,
            "left": null,
            "margin": null,
            "max_height": null,
            "max_width": null,
            "min_height": null,
            "min_width": null,
            "object_fit": null,
            "object_position": null,
            "order": null,
            "overflow": null,
            "overflow_x": null,
            "overflow_y": null,
            "padding": null,
            "right": null,
            "top": null,
            "visibility": null,
            "width": null
          }
        },
        "55202111d18446c9bf1327f6a1fc6eaa": {
          "model_module": "@jupyter-widgets/controls",
          "model_module_version": "1.5.0",
          "model_name": "VBoxModel",
          "state": {
            "_dom_classes": [],
            "_model_module": "@jupyter-widgets/controls",
            "_model_module_version": "1.5.0",
            "_model_name": "VBoxModel",
            "_view_count": null,
            "_view_module": "@jupyter-widgets/controls",
            "_view_module_version": "1.5.0",
            "_view_name": "VBoxView",
            "box_style": "",
            "children": [
              "IPY_MODEL_29a3031a99a04d6c974d2f4a50931065",
              "IPY_MODEL_5815fe2ad4cb4151b5bf51f256869286",
              "IPY_MODEL_3c22fca45cef45a7ae85ac4ffd12d434"
            ],
            "layout": "IPY_MODEL_0b006809ac574a4fbfb089855e8ad0aa"
          }
        },
        "5815fe2ad4cb4151b5bf51f256869286": {
          "model_module": "@jupyter-widgets/output",
          "model_module_version": "1.0.0",
          "model_name": "OutputModel",
          "state": {
            "_dom_classes": [],
            "_model_module": "@jupyter-widgets/output",
            "_model_module_version": "1.0.0",
            "_model_name": "OutputModel",
            "_view_count": null,
            "_view_module": "@jupyter-widgets/output",
            "_view_module_version": "1.0.0",
            "_view_name": "OutputView",
            "layout": "IPY_MODEL_b8bcdf01f25f43ff9514e4d6551a69a9",
            "msg_id": "",
            "outputs": [
              {
                "name": "stdout",
                "output_type": "stream",
                "text": [
                  "Using demo license.\n"
                ]
              }
            ]
          }
        },
        "6be52ca339474af9987b8c9be27e6750": {
          "model_module": "@jupyter-widgets/base",
          "model_module_version": "1.2.0",
          "model_name": "LayoutModel",
          "state": {
            "_model_module": "@jupyter-widgets/base",
            "_model_module_version": "1.2.0",
            "_model_name": "LayoutModel",
            "_view_count": null,
            "_view_module": "@jupyter-widgets/base",
            "_view_module_version": "1.2.0",
            "_view_name": "LayoutView",
            "align_content": null,
            "align_items": null,
            "align_self": null,
            "border": null,
            "bottom": null,
            "display": null,
            "flex": null,
            "flex_flow": null,
            "grid_area": null,
            "grid_auto_columns": null,
            "grid_auto_flow": null,
            "grid_auto_rows": null,
            "grid_column": null,
            "grid_gap": null,
            "grid_row": null,
            "grid_template_areas": null,
            "grid_template_columns": null,
            "grid_template_rows": null,
            "height": null,
            "justify_content": null,
            "justify_items": null,
            "left": null,
            "margin": null,
            "max_height": null,
            "max_width": null,
            "min_height": null,
            "min_width": null,
            "object_fit": null,
            "object_position": null,
            "order": null,
            "overflow": null,
            "overflow_x": null,
            "overflow_y": null,
            "padding": null,
            "right": null,
            "top": null,
            "visibility": null,
            "width": null
          }
        },
        "7cbf21f509da4b9eac890872b5b7bde3": {
          "model_module": "@jupyter-widgets/base",
          "model_module_version": "1.2.0",
          "model_name": "LayoutModel",
          "state": {
            "_model_module": "@jupyter-widgets/base",
            "_model_module_version": "1.2.0",
            "_model_name": "LayoutModel",
            "_view_count": null,
            "_view_module": "@jupyter-widgets/base",
            "_view_module_version": "1.2.0",
            "_view_name": "LayoutView",
            "align_content": null,
            "align_items": null,
            "align_self": null,
            "border": null,
            "bottom": null,
            "display": null,
            "flex": null,
            "flex_flow": null,
            "grid_area": null,
            "grid_auto_columns": null,
            "grid_auto_flow": null,
            "grid_auto_rows": null,
            "grid_column": null,
            "grid_gap": null,
            "grid_row": null,
            "grid_template_areas": null,
            "grid_template_columns": null,
            "grid_template_rows": null,
            "height": null,
            "justify_content": null,
            "justify_items": null,
            "left": null,
            "margin": null,
            "max_height": null,
            "max_width": null,
            "min_height": null,
            "min_width": null,
            "object_fit": null,
            "object_position": null,
            "order": null,
            "overflow": null,
            "overflow_x": null,
            "overflow_y": null,
            "padding": null,
            "right": null,
            "top": null,
            "visibility": null,
            "width": null
          }
        },
        "7cd4753b896345b4b1e775ea08c31c82": {
          "model_module": "@jupyter-widgets/controls",
          "model_module_version": "1.5.0",
          "model_name": "TextModel",
          "state": {
            "_dom_classes": [],
            "_model_module": "@jupyter-widgets/controls",
            "_model_module_version": "1.5.0",
            "_model_name": "TextModel",
            "_view_count": null,
            "_view_module": "@jupyter-widgets/controls",
            "_view_module_version": "1.5.0",
            "_view_name": "TextView",
            "continuous_update": true,
            "description": "UUID:",
            "description_tooltip": null,
            "disabled": false,
            "layout": "IPY_MODEL_7cbf21f509da4b9eac890872b5b7bde3",
            "placeholder": "​",
            "style": "IPY_MODEL_b0a1a58b9d1b4ae980faafcf89ba1ce6",
            "value": ""
          }
        },
        "a1d20057680747999dceebe799a17d53": {
          "model_module": "@jupyter-widgets/base",
          "model_module_version": "1.2.0",
          "model_name": "LayoutModel",
          "state": {
            "_model_module": "@jupyter-widgets/base",
            "_model_module_version": "1.2.0",
            "_model_name": "LayoutModel",
            "_view_count": null,
            "_view_module": "@jupyter-widgets/base",
            "_view_module_version": "1.2.0",
            "_view_name": "LayoutView",
            "align_content": null,
            "align_items": null,
            "align_self": null,
            "border": null,
            "bottom": null,
            "display": null,
            "flex": null,
            "flex_flow": null,
            "grid_area": null,
            "grid_auto_columns": null,
            "grid_auto_flow": null,
            "grid_auto_rows": null,
            "grid_column": null,
            "grid_gap": null,
            "grid_row": null,
            "grid_template_areas": null,
            "grid_template_columns": null,
            "grid_template_rows": null,
            "height": null,
            "justify_content": null,
            "justify_items": null,
            "left": null,
            "margin": null,
            "max_height": null,
            "max_width": null,
            "min_height": null,
            "min_width": null,
            "object_fit": null,
            "object_position": null,
            "order": null,
            "overflow": null,
            "overflow_x": null,
            "overflow_y": null,
            "padding": null,
            "right": null,
            "top": null,
            "visibility": null,
            "width": null
          }
        },
        "ad242b5d3af9422db7c9f5a750ac9361": {
          "model_module": "@jupyter-widgets/controls",
          "model_module_version": "1.5.0",
          "model_name": "ButtonModel",
          "state": {
            "_dom_classes": [],
            "_model_module": "@jupyter-widgets/controls",
            "_model_module_version": "1.5.0",
            "_model_name": "ButtonModel",
            "_view_count": null,
            "_view_module": "@jupyter-widgets/controls",
            "_view_module_version": "1.5.0",
            "_view_name": "ButtonView",
            "button_style": "",
            "description": "Use demo license",
            "disabled": false,
            "icon": "",
            "layout": "IPY_MODEL_6be52ca339474af9987b8c9be27e6750",
            "style": "IPY_MODEL_2aa956ec2c56497481033d4d83e3f7cc",
            "tooltip": ""
          }
        },
        "b0a1a58b9d1b4ae980faafcf89ba1ce6": {
          "model_module": "@jupyter-widgets/controls",
          "model_module_version": "1.5.0",
          "model_name": "DescriptionStyleModel",
          "state": {
            "_model_module": "@jupyter-widgets/controls",
            "_model_module_version": "1.5.0",
            "_model_name": "DescriptionStyleModel",
            "_view_count": null,
            "_view_module": "@jupyter-widgets/base",
            "_view_module_version": "1.2.0",
            "_view_name": "StyleView",
            "description_width": ""
          }
        },
        "b8bcdf01f25f43ff9514e4d6551a69a9": {
          "model_module": "@jupyter-widgets/base",
          "model_module_version": "1.2.0",
          "model_name": "LayoutModel",
          "state": {
            "_model_module": "@jupyter-widgets/base",
            "_model_module_version": "1.2.0",
            "_model_name": "LayoutModel",
            "_view_count": null,
            "_view_module": "@jupyter-widgets/base",
            "_view_module_version": "1.2.0",
            "_view_name": "LayoutView",
            "align_content": null,
            "align_items": null,
            "align_self": null,
            "border": null,
            "bottom": null,
            "display": null,
            "flex": null,
            "flex_flow": null,
            "grid_area": null,
            "grid_auto_columns": null,
            "grid_auto_flow": null,
            "grid_auto_rows": null,
            "grid_column": null,
            "grid_gap": null,
            "grid_row": null,
            "grid_template_areas": null,
            "grid_template_columns": null,
            "grid_template_rows": null,
            "height": null,
            "justify_content": null,
            "justify_items": null,
            "left": null,
            "margin": null,
            "max_height": null,
            "max_width": null,
            "min_height": null,
            "min_width": null,
            "object_fit": null,
            "object_position": null,
            "order": null,
            "overflow": null,
            "overflow_x": null,
            "overflow_y": null,
            "padding": null,
            "right": null,
            "top": null,
            "visibility": null,
            "width": null
          }
        }
      }
    }
  },
  "nbformat": 4,
  "nbformat_minor": 0
}
