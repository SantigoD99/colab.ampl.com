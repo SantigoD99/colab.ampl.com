{
  "cells": [
    {
      "cell_type": "markdown",
      "metadata": {
        "id": "b2IWcBBI-0nr"
      },
      "source": [
        "# Financial Portfolio Optimization with amplpy\n",
        "[![amplpyfinance_vs_amplpy.ipynb](https://img.shields.io/badge/github-%23121011.svg?logo=github)](https://github.com/ampl/colab.ampl.com/blob/master/authors/fdabrandao/amplpyfinance/amplpyfinance_vs_amplpy.ipynb) [![Open In Colab](https://colab.research.google.com/assets/colab-badge.svg)](https://colab.research.google.com/github/ampl/colab.ampl.com/blob/master/authors/fdabrandao/amplpyfinance/amplpyfinance_vs_amplpy.ipynb) [![Open In Deepnote](https://deepnote.com/buttons/launch-in-deepnote-small.svg)](https://deepnote.com/launch?url=https://github.com/ampl/colab.ampl.com/blob/master/authors/fdabrandao/amplpyfinance/amplpyfinance_vs_amplpy.ipynb) [![Open In Kaggle](https://kaggle.com/static/images/open-in-kaggle.svg)](https://kaggle.com/kernels/welcome?src=https://github.com/ampl/colab.ampl.com/blob/master/authors/fdabrandao/amplpyfinance/amplpyfinance_vs_amplpy.ipynb) [![Open In Gradient](https://assets.paperspace.io/img/gradient-badge.svg)](https://console.paperspace.com/github/ampl/colab.ampl.com/blob/master/authors/fdabrandao/amplpyfinance/amplpyfinance_vs_amplpy.ipynb) [![Open In SageMaker Studio Lab](https://studiolab.sagemaker.aws/studiolab.svg)](https://studiolab.sagemaker.aws/import/github/ampl/colab.ampl.com/blob/master/authors/fdabrandao/amplpyfinance/amplpyfinance_vs_amplpy.ipynb) [![Powered by AMPL](https://h.ampl.com/https://github.com/ampl/colab.ampl.com/blob/master/authors/fdabrandao/amplpyfinance/amplpyfinance_vs_amplpy.ipynb)](https://ampl.com)\n",
        "\n",
        "Description: Financial Portfolio Optimization with amplpy and amplpyfinance\n",
        "\n",
        "Tags: amplpy, amplpyfinance, finance\n",
        "\n",
        "Notebook author: Filipe Brandão <<fdabrandao@gmail.com>>\n",
        "\n",
        "Model author: Harry Markowitz\n",
        "\n",
        "References:\n",
        "1. amplpy: https://amplpy.readthedocs.io/\n",
        "2. amplpyfinance: https://amplpyfinance.readthedocs.io/\n",
        "3. Cornuejols, G., and Tütüncü, R. (2018). *Optimization Methods in Finance* (2nd edition): Bond Dedication example. Cambridge University Press."
      ]
    },
    {
      "cell_type": "code",
      "execution_count": 1,
      "metadata": {
        "id": "R06oTbz0-0nt"
      },
      "outputs": [],
      "source": [
        "# Install dependencies\n",
        "%pip install -q amplpy pandas matplotlib yfinance amplpyfinance"
      ]
    },
    {
      "cell_type": "code",
      "execution_count": 2,
      "metadata": {
        "colab": {
          "base_uri": "https://localhost:8080/",
          "height": 84,
          "referenced_widgets": [
            "24e614c3a26949bb83429fe4739955a3",
            "ccd94628ec3447ca9058c58f4406cc52",
            "59535a1240a840498f756adbc1d025da",
            "61612e0643f744a584b06f53f7d47513",
            "cf9ef3b9716941949a1ef052ef3e7724",
            "37de7596b0704304b2648232fecfe3a6",
            "5deacf8b9a2c4eaab22c6b6c26cc0a60",
            "833ed6750604434884a666b64885240a",
            "1c1d7914263a4547a7f3f4a8f0c7198f",
            "80e9ab713c9c4ce3ba7f2460dbb782a0",
            "99f2762bd44d4bef926f84d31e36c3ee",
            "2f9735fd81ee473fb174a6ca294f942b",
            "a4b701ca8db546bea71442daafe7d2a6"
          ]
        },
        "id": "66kvhJd8-0nu",
        "outputId": "3e6e42da-c34a-45b4-88ac-c7b04ee4bc94"
      },
      "outputs": [],
      "source": [
        "# Google Colab & Kaggle integration\n",
        "from amplpy import AMPL, ampl_notebook\n",
        "\n",
        "ampl = ampl_notebook(\n",
        "    modules=[\"gurobi\"],  # modules to install\n",
        "    license_uuid=\"default\",  # license to use\n",
        ")  # instantiate AMPL object and register magics"
      ]
    },
    {
      "cell_type": "markdown",
      "metadata": {
        "id": "_AztoztP-0nu"
      },
      "source": [
        "## Downloading data and callculate `mu` and `S`"
      ]
    },
    {
      "cell_type": "code",
      "execution_count": 3,
      "metadata": {
        "colab": {
          "base_uri": "https://localhost:8080/"
        },
        "id": "Rpt6MLmi-0nv",
        "outputId": "f3867b05-bca8-48f0-a931-02423fb148af"
      },
      "outputs": [
        {
          "name": "stderr",
          "output_type": "stream",
          "text": [
            "[*********************100%***********************]  15 of 15 completed\n",
            "/usr/local/lib/python3.11/dist-packages/pypfopt/expected_returns.py:32: UserWarning: Some returns are NaN. Please check your price data.\n",
            "  warnings.warn(\n"
          ]
        }
      ],
      "source": [
        "from pypfopt import expected_returns, risk_models\n",
        "import yfinance as yf\n",
        "\n",
        "tickers = [\n",
        "    \"MSFT\",\n",
        "    \"AMZN\",\n",
        "    \"KO\",\n",
        "    \"MA\",\n",
        "    \"COST\",\n",
        "    \"LUV\",\n",
        "    \"XOM\",\n",
        "    \"PFE\",\n",
        "    \"JPM\",\n",
        "    \"UNH\",\n",
        "    \"ACN\",\n",
        "    \"DIS\",\n",
        "    \"GILD\",\n",
        "    \"F\",\n",
        "    \"TSLA\",\n",
        "]\n",
        "\n",
        "ohlc = yf.download(tickers, period=\"max\", auto_adjust=True)\n",
        "prices = ohlc[\"Close\"].dropna(how=\"all\")\n",
        "mu = expected_returns.capm_return(prices)\n",
        "S = risk_models.CovarianceShrinkage(prices).ledoit_wolf()"
      ]
    },
    {
      "cell_type": "markdown",
      "metadata": {
        "id": "rHHprn8O-0nw"
      },
      "source": [
        "## Minimize volatility\n",
        "\n",
        "Using `EfficientFrontierWithAMPL.min_volatility`:"
      ]
    },
    {
      "cell_type": "code",
      "execution_count": 4,
      "metadata": {
        "colab": {
          "base_uri": "https://localhost:8080/"
        },
        "id": "CAF5qYeO-0nw",
        "outputId": "aa8a1eea-b6f5-4fdb-b673-a7322882e4ee"
      },
      "outputs": [
        {
          "name": "stdout",
          "output_type": "stream",
          "text": [
            "Gurobi 12.0.1: \b\b\b\b\b\b\b\b\b\b\b\b\b\b\bGurobi 12.0.1: optimal solution; objective 0.0152842978\n",
            "0 simplex iterations\n",
            "11 barrier iterations\n",
            "Annual volatility: 12.4%\n"
          ]
        }
      ],
      "source": [
        "from amplpyfinance import EfficientFrontierWithAMPL\n",
        "\n",
        "ef = EfficientFrontierWithAMPL(None, S, weight_bounds=(0, 1), solver=\"gurobi\")\n",
        "ef.min_volatility()\n",
        "_, sigma1, _ = ef.portfolio_performance(verbose=True)"
      ]
    },
    {
      "cell_type": "markdown",
      "metadata": {
        "id": "nBbeND9Y-0nx"
      },
      "source": [
        "Using `amplpy` directly:"
      ]
    },
    {
      "cell_type": "code",
      "execution_count": 5,
      "metadata": {
        "colab": {
          "base_uri": "https://localhost:8080/"
        },
        "id": "hbts02H2-0nx",
        "outputId": "7c0446d4-61c8-4918-82aa-f8a271cd010a"
      },
      "outputs": [
        {
          "name": "stdout",
          "output_type": "stream",
          "text": [
            "Gurobi 12.0.1: \b\b\b\b\b\b\b\b\b\b\b\b\b\b\bGurobi 12.0.1: optimal solution; objective 0.0152842978\n",
            "0 simplex iterations\n",
            "11 barrier iterations\n",
            "Annual volatility: 12.4%\n"
          ]
        }
      ],
      "source": [
        "from amplpy import AMPL\n",
        "import pandas as pd\n",
        "\n",
        "ampl = AMPL()\n",
        "ampl.eval(\n",
        "    r\"\"\"\n",
        "    set A ordered;\n",
        "    param S{A, A};\n",
        "    param lb default 0;\n",
        "    param ub default 1;\n",
        "    var w{A} >= lb <= ub;\n",
        "    minimize portfolio_variance:\n",
        "        sum {i in A, j in A} w[i] * S[i, j] * w[j];\n",
        "    s.t. portfolio_weights:\n",
        "        sum {i in A} w[i] = 1;\n",
        "    \"\"\"\n",
        ")\n",
        "ampl.set[\"A\"] = ef.tickers\n",
        "ampl.param[\"S\"] = pd.DataFrame(ef.cov_matrix, index=ef.tickers, columns=ef.tickers)\n",
        "ampl.solve(solver=\"gurobi\")\n",
        "assert ampl.solve_result == \"solved\", ampl.solve_result\n",
        "sigma = ampl.get_value(\"sqrt(sum {i in A, j in A} w[i] * S[i, j] * w[j])\")\n",
        "print(f\"Annual volatility: {sigma*100:.1f}%\")"
      ]
    },
    {
      "cell_type": "code",
      "execution_count": 6,
      "metadata": {
        "colab": {
          "base_uri": "https://localhost:8080/",
          "height": 447
        },
        "id": "h8zQapXW-0ny",
        "outputId": "bcaf723a-3d9d-49de-ff3d-b97243469208"
      },
      "outputs": [
        {
          "data": {
            "text/plain": [
              "<Axes: >"
            ]
          },
          "execution_count": 59,
          "metadata": {},
          "output_type": "execute_result"
        },
        {
          "data": {
            "image/png": "[encoded data removed]",
            "text/plain": [
              "<Figure size 640x480 with 1 Axes>"
            ]
          },
          "metadata": {},
          "output_type": "display_data"
        }
      ],
      "source": [
        "pd.Series(ef.clean_weights()).plot.barh()"
      ]
    },
    {
      "cell_type": "markdown",
      "metadata": {
        "id": "A52BxNJw-0n1"
      },
      "source": [
        "## Maximize return for a target risk\n",
        "\n",
        "Using `EfficientFrontierWithAMPL.efficient_risk`:"
      ]
    },
    {
      "cell_type": "code",
      "execution_count": 7,
      "metadata": {
        "colab": {
          "base_uri": "https://localhost:8080/"
        },
        "id": "cwa-IwFT-0n1",
        "outputId": "696a44f7-d23f-45be-dce3-0c26346a7d24"
      },
      "outputs": [
        {
          "name": "stdout",
          "output_type": "stream",
          "text": [
            "Gurobi 12.0.1: \b\b\b\b\b\b\b\b\b\b\b\b\b\b\bGurobi 12.0.1: optimal solution; objective 0.2665958884\n",
            "0 simplex iterations\n",
            "8 barrier iterations\n",
            "Expected annual return: 26.7%\n",
            "Annual volatility: 15.0%\n",
            "Sharpe Ratio: 1.64\n"
          ]
        }
      ],
      "source": [
        "from amplpyfinance import EfficientFrontierWithAMPL\n",
        "\n",
        "ef = EfficientFrontierWithAMPL(mu, S, solver=\"gurobi\")\n",
        "ef.efficient_risk(target_volatility=0.15)\n",
        "mu1, sigma1, sharpe1 = ef.portfolio_performance(verbose=True)"
      ]
    },
    {
      "cell_type": "markdown",
      "metadata": {
        "id": "LBLgeLE4-0n1"
      },
      "source": [
        "Using `amplpy` directly:"
      ]
    },
    {
      "cell_type": "code",
      "execution_count": 8,
      "metadata": {
        "colab": {
          "base_uri": "https://localhost:8080/"
        },
        "id": "ohdrdgBY-0n2",
        "outputId": "a4643f98-1a66-437f-96e6-a6e593b81a57"
      },
      "outputs": [
        {
          "name": "stdout",
          "output_type": "stream",
          "text": [
            "Gurobi 12.0.1: \b\b\b\b\b\b\b\b\b\b\b\b\b\b\bGurobi 12.0.1: optimal solution; objective 0.2665958884\n",
            "0 simplex iterations\n",
            "8 barrier iterations\n",
            "Expected annual return: 26.7%\n",
            "Annual volatility: 15.0%\n",
            "Sharpe Ratio: 1.64\n"
          ]
        }
      ],
      "source": [
        "from amplpy import AMPL\n",
        "\n",
        "ampl = AMPL()\n",
        "ampl.eval(\n",
        "    r\"\"\"\n",
        "    param target_volatility;\n",
        "    param market_neutral default 0;\n",
        "    set A ordered;\n",
        "    param S{A, A};\n",
        "    param mu{A} default 0;\n",
        "\n",
        "    param lb default 0;\n",
        "    param ub default 1;\n",
        "    var w{A} >= lb <= ub;\n",
        "    maximize portfolio_return:\n",
        "        sum {i in A} mu[i] * w[i];\n",
        "    s.t. portfolio_variance:\n",
        "        sum {i in A, j in A} w[i] * S[i, j] * w[j] <= target_volatility^2;\n",
        "    s.t. portfolio_weights:\n",
        "        sum {i in A} w[i] = if market_neutral then 0 else 1;\n",
        "    \"\"\"\n",
        ")\n",
        "ampl.set[\"A\"] = ef.tickers\n",
        "ampl.param[\"S\"] = pd.DataFrame(ef.cov_matrix, index=ef.tickers, columns=ef.tickers)\n",
        "ampl.param[\"mu\"] = ef.expected_returns\n",
        "ampl.param[\"target_volatility\"] = 0.15\n",
        "ampl.param[\"market_neutral\"] = False\n",
        "ampl.solve(solver=\"gurobi\")\n",
        "assert ampl.solve_result == \"solved\", ampl.solve_result\n",
        "sigma2 = ampl.get_value(\"sqrt(sum {i in A, j in A} w[i] * S[i, j] * w[j])\")\n",
        "mu2 = ampl.get_value(\"sum {i in A} mu[i] * w[i]\")\n",
        "risk_free_rate = 0.02\n",
        "sharpe2 = (mu2 - risk_free_rate) / sigma2\n",
        "print(f\"Expected annual return: {mu2*100:.1f}%\")\n",
        "print(f\"Annual volatility: {sigma2*100:.1f}%\")\n",
        "print(f\"Sharpe Ratio: {sharpe2:.2f}\")"
      ]
    },
    {
      "cell_type": "code",
      "execution_count": 9,
      "metadata": {
        "colab": {
          "base_uri": "https://localhost:8080/",
          "height": 447
        },
        "id": "2RZ7trJp-0n2",
        "outputId": "4cd027f1-44bc-48db-c03d-7ba500c378cd"
      },
      "outputs": [
        {
          "data": {
            "text/plain": [
              "<Axes: >"
            ]
          },
          "execution_count": 62,
          "metadata": {},
          "output_type": "execute_result"
        },
        {
          "data": {
            "image/png": "[encoded data removed]",
            "text/plain": [
              "<Figure size 640x480 with 1 Axes>"
            ]
          },
          "metadata": {},
          "output_type": "display_data"
        }
      ],
      "source": [
        "pd.Series(ef.clean_weights()).plot.barh()"
      ]
    },
    {
      "cell_type": "markdown",
      "metadata": {
        "id": "Z0AfkO2F-0n3"
      },
      "source": [
        "## Minimizing volatility for a given target return\n",
        "\n",
        "Using `EfficientFrontierWithAMPL.efficient_return`:"
      ]
    },
    {
      "cell_type": "code",
      "execution_count": 10,
      "metadata": {
        "colab": {
          "base_uri": "https://localhost:8080/"
        },
        "id": "I5ofJz4k-0n3",
        "outputId": "da303da1-14b3-4769-95ac-63b1cf0b8d6b"
      },
      "outputs": [
        {
          "name": "stdout",
          "output_type": "stream",
          "text": [
            "Gurobi 12.0.1: \b\b\b\b\b\b\b\b\b\b\b\b\b\b\bGurobi 12.0.1: optimal solution; objective 0.8130032838\n",
            "1 simplex iteration\n",
            "Gurobi 12.0.1: \b\b\b\b\b\b\b\b\b\b\b\b\b\b\bGurobi 12.0.1: optimal solution; objective 0.008548381941\n",
            "0 simplex iterations\n",
            "9 barrier iterations\n",
            "Expected annual return: 7.0%\n",
            "Annual volatility: 9.2%\n",
            "Sharpe Ratio: 0.54\n"
          ]
        }
      ],
      "source": [
        "from amplpyfinance import EfficientFrontierWithAMPL\n",
        "\n",
        "ef = EfficientFrontierWithAMPL(mu, S, weight_bounds=(None, None), solver=\"gurobi\")\n",
        "ef.efficient_return(target_return=0.07, market_neutral=True)\n",
        "mu1, sigma1, sharpe1 = ef.portfolio_performance(verbose=True)"
      ]
    },
    {
      "cell_type": "markdown",
      "metadata": {
        "id": "JoWT7qV0-0n3"
      },
      "source": [
        "Using `amplply` directly:"
      ]
    },
    {
      "cell_type": "code",
      "execution_count": 11,
      "metadata": {
        "colab": {
          "base_uri": "https://localhost:8080/"
        },
        "id": "GLQJiBZc-0n3",
        "outputId": "43210ef5-5f37-4855-c4db-5d94b016b356"
      },
      "outputs": [
        {
          "name": "stdout",
          "output_type": "stream",
          "text": [
            "Gurobi 12.0.1: \b\b\b\b\b\b\b\b\b\b\b\b\b\b\bGurobi 12.0.1: optimal solution; objective 0.008548381941\n",
            "0 simplex iterations\n",
            "9 barrier iterations\n",
            "Expected annual return: 7.0%\n",
            "Annual volatility: 9.2%\n",
            "Sharpe Ratio: 0.54\n"
          ]
        }
      ],
      "source": [
        "from amplpy import AMPL\n",
        "\n",
        "ampl = AMPL()\n",
        "ampl.eval(\n",
        "    r\"\"\"\n",
        "    param target_return;\n",
        "    param market_neutral default 0;\n",
        "\n",
        "    set A ordered;\n",
        "    param S{A, A};\n",
        "    param mu{A} default 0;\n",
        "\n",
        "    param lb default 0;\n",
        "    param ub default 1;\n",
        "    var w{A} >= lb <= ub;\n",
        "\n",
        "    minimize portfolio_variance:\n",
        "        sum {i in A, j in A} w[i] * S[i, j] * w[j];\n",
        "    s.t. portfolio__return:\n",
        "        sum {i in A} mu[i] * w[i] >= target_return;\n",
        "    s.t. portfolio_weights:\n",
        "        sum {i in A} w[i] = if market_neutral then 0 else 1;\n",
        "    \"\"\"\n",
        ")\n",
        "ampl.set[\"A\"] = ef.tickers\n",
        "ampl.param[\"S\"] = pd.DataFrame(ef.cov_matrix, index=ef.tickers, columns=ef.tickers)\n",
        "ampl.param[\"mu\"] = ef.expected_returns\n",
        "ampl.param[\"target_return\"] = 0.07\n",
        "ampl.param[\"market_neutral\"] = True\n",
        "ampl.param[\"lb\"] = -1\n",
        "ampl.solve(solver=\"gurobi\")\n",
        "assert ampl.solve_result == \"solved\", ampl.solve_result\n",
        "sigma2 = ampl.get_value(\"sqrt(sum {i in A, j in A} w[i] * S[i, j] * w[j])\")\n",
        "mu2 = ampl.get_value(\"sum {i in A} mu[i] * w[i]\")\n",
        "risk_free_rate = 0.02\n",
        "sharpe2 = (mu2 - risk_free_rate) / sigma2\n",
        "print(f\"Expected annual return: {mu2*100:.1f}%\")\n",
        "print(f\"Annual volatility: {sigma2*100:.1f}%\")\n",
        "print(f\"Sharpe Ratio: {sharpe2:.2f}\")"
      ]
    },
    {
      "cell_type": "code",
      "execution_count": 12,
      "metadata": {
        "colab": {
          "base_uri": "https://localhost:8080/",
          "height": 447
        },
        "id": "YXiZ5s2A-0n4",
        "outputId": "3c828eaf-ba5b-4c7b-fcad-a2751321d531"
      },
      "outputs": [
        {
          "data": {
            "text/plain": [
              "<Axes: >"
            ]
          },
          "execution_count": 65,
          "metadata": {},
          "output_type": "execute_result"
        },
        {
          "data": {
            "image/png": "[encoded data removed]",
            "text/plain": [
              "<Figure size 640x480 with 1 Axes>"
            ]
          },
          "metadata": {},
          "output_type": "display_data"
        }
      ],
      "source": [
        "pd.Series(ef.clean_weights()).plot.barh()"
      ]
    },
    {
      "cell_type": "markdown",
      "metadata": {
        "id": "NxwpCrAm-0n4"
      },
      "source": [
        "## Maximize the Sharpe Ratio\n",
        "\n",
        "Using `EfficientFrontierWithAMPL.max_sharpe`:"
      ]
    },
    {
      "cell_type": "code",
      "execution_count": 13,
      "metadata": {
        "colab": {
          "base_uri": "https://localhost:8080/"
        },
        "id": "oD9WvVf0-0n4",
        "outputId": "3c0cd2f4-08a0-41ce-845c-40761e8fbc32"
      },
      "outputs": [
        {
          "name": "stdout",
          "output_type": "stream",
          "text": [
            "Gurobi 12.0.1: \b\b\b\b\b\b\b\b\b\b\b\b\b\b\bGurobi 12.0.1: optimal solution; objective 0.3572734783\n",
            "0 simplex iterations\n",
            "13 barrier iterations\n",
            "Expected annual return: 24.7%\n",
            "Annual volatility: 13.6%\n",
            "Sharpe Ratio: 1.67\n"
          ]
        }
      ],
      "source": [
        "from amplpyfinance import EfficientFrontierWithAMPL\n",
        "\n",
        "ef = EfficientFrontierWithAMPL(mu, S, solver=\"gurobi\")\n",
        "ef.max_sharpe()\n",
        "mu1, sigma1, sharpe1 = ef.portfolio_performance(verbose=True)"
      ]
    },
    {
      "cell_type": "markdown",
      "metadata": {
        "id": "TWQjNEio-0n4"
      },
      "source": [
        "Using `amplpy` directly:"
      ]
    },
    {
      "cell_type": "code",
      "execution_count": 14,
      "metadata": {
        "colab": {
          "base_uri": "https://localhost:8080/"
        },
        "id": "ZZC4Nq1U-0n4",
        "outputId": "327c5cd8-355c-40d8-c476-7d672b4d47a7"
      },
      "outputs": [
        {
          "name": "stdout",
          "output_type": "stream",
          "text": [
            "Gurobi 12.0.1: \b\b\b\b\b\b\b\b\b\b\b\b\b\b\bGurobi 12.0.1: optimal solution; objective 0.357273479\n",
            "0 simplex iterations\n",
            "11 barrier iterations\n",
            "Expected annual return: 24.7%\n",
            "Annual volatility: 13.6%\n",
            "Sharpe Ratio: 1.67\n"
          ]
        }
      ],
      "source": [
        "from amplpy import AMPL\n",
        "\n",
        "ampl = AMPL()\n",
        "ampl.eval(\n",
        "    r\"\"\"\n",
        "    param risk_free_rate default 0.02;\n",
        "\n",
        "    set A ordered;\n",
        "    param S{A, A};\n",
        "    param mu{A} default 0;\n",
        "\n",
        "    var k >= 0;\n",
        "    var z{i in A} >= 0;  # scaled weights\n",
        "    var w{i in A} = z[i] / k;\n",
        "\n",
        "    minimize portfolio_sharpe:\n",
        "        sum {i in A, j in A} z[i] * S[i, j] * z[j];\n",
        "    s.t. muz:\n",
        "        sum {i in A} (mu[i] - risk_free_rate) * z[i] = 1;\n",
        "    s.t. portfolio_weights:\n",
        "        sum {i in A}  z[i] = k;\n",
        "    \"\"\"\n",
        ")\n",
        "ampl.set[\"A\"] = ef.tickers\n",
        "ampl.param[\"S\"] = pd.DataFrame(ef.cov_matrix, index=ef.tickers, columns=ef.tickers)\n",
        "ampl.param[\"mu\"] = ef.expected_returns\n",
        "ampl.option[\"solver\"] = \"gurobi\"\n",
        "ampl.solve(solver=\"gurobi\")\n",
        "assert ampl.solve_result == \"solved\", ampl.solve_result\n",
        "sigma2 = ampl.get_value(\"sqrt(sum {i in A, j in A} w[i] * S[i, j] * w[j])\")\n",
        "mu2 = ampl.get_value(\"sum {i in A} mu[i] * w[i]\")\n",
        "risk_free_rate = 0.02\n",
        "sharpe2 = (mu2 - risk_free_rate) / sigma2\n",
        "print(f\"Expected annual return: {mu2*100:.1f}%\")\n",
        "print(f\"Annual volatility: {sigma2*100:.1f}%\")\n",
        "print(f\"Sharpe Ratio: {sharpe2:.2f}\")"
      ]
    },
    {
      "cell_type": "code",
      "execution_count": 15,
      "metadata": {
        "colab": {
          "base_uri": "https://localhost:8080/",
          "height": 447
        },
        "id": "0uOgIc9j-0n5",
        "outputId": "e79b73f0-8452-4e51-baa8-787189d754d9"
      },
      "outputs": [
        {
          "data": {
            "text/plain": [
              "<Axes: >"
            ]
          },
          "execution_count": 68,
          "metadata": {},
          "output_type": "execute_result"
        },
        {
          "data": {
            "image/png": "[encoded data removed]",
            "text/plain": [
              "<Figure size 640x480 with 1 Axes>"
            ]
          },
          "metadata": {},
          "output_type": "display_data"
        }
      ],
      "source": [
        "pd.Series(ef.clean_weights()).plot.barh()"
      ]
    },
    {
      "cell_type": "markdown",
      "metadata": {
        "id": "3G7kLV8q-0n5"
      },
      "source": [
        "## Maximize quadratic utility\n",
        "\n",
        "Quadratic utility: $\\max_w w^T \\mu - \\frac \\delta 2 w^T \\Sigma w$\n",
        "\n",
        "Using `EfficientFrontierWithAMPL.max_quadratic_utility`:"
      ]
    },
    {
      "cell_type": "code",
      "execution_count": 16,
      "metadata": {
        "colab": {
          "base_uri": "https://localhost:8080/"
        },
        "id": "is_BLbEu-0n5",
        "outputId": "34a8b73d-9249-4430-8929-d2efdddca283"
      },
      "outputs": [
        {
          "name": "stdout",
          "output_type": "stream",
          "text": [
            "Gurobi 12.0.1: \b\b\b\b\b\b\b\b\b\b\b\b\b\b\bGurobi 12.0.1: optimal solution; objective 0.2651576327\n",
            "0 simplex iterations\n",
            "10 barrier iterations\n",
            "Expected annual return: 31.7%\n",
            "Annual volatility: 22.7%\n",
            "Sharpe Ratio: 1.31\n"
          ]
        }
      ],
      "source": [
        "ef = EfficientFrontierWithAMPL(mu, S, weight_bounds=(0, 1), solver=\"gurobi\")\n",
        "ef.max_quadratic_utility(risk_aversion=2, market_neutral=False)\n",
        "mu1, sigma1, sharpe1 = ef.portfolio_performance(verbose=True)"
      ]
    },
    {
      "cell_type": "markdown",
      "metadata": {
        "id": "KV4FiR4h-0n5"
      },
      "source": [
        "Using `amplpy` directly:"
      ]
    },
    {
      "cell_type": "code",
      "execution_count": 17,
      "metadata": {
        "colab": {
          "base_uri": "https://localhost:8080/"
        },
        "id": "jj_5Dczb-0n5",
        "outputId": "304ccd09-92b7-4f39-c874-cf8216d14e48"
      },
      "outputs": [
        {
          "name": "stdout",
          "output_type": "stream",
          "text": [
            "Gurobi 12.0.1: \b\b\b\b\b\b\b\b\b\b\b\b\b\b\bGurobi 12.0.1: optimal solution; objective 0.2651576327\n",
            "0 simplex iterations\n",
            "10 barrier iterations\n",
            "Expected annual return: 31.7%\n",
            "Annual volatility: 22.7%\n",
            "Sharpe Ratio: 1.31\n"
          ]
        }
      ],
      "source": [
        "from amplpy import AMPL\n",
        "\n",
        "ampl = AMPL()\n",
        "ampl.eval(\n",
        "    r\"\"\"\n",
        "    param risk_aversion default 1;\n",
        "    param market_neutral default 0;\n",
        "\n",
        "    set A ordered;\n",
        "    param S{A, A};\n",
        "    param mu{A} default 0;\n",
        "\n",
        "    param lb default 0;\n",
        "    param ub default 1;\n",
        "    var w{A} >= lb <= ub;\n",
        "\n",
        "    maximize quadratic_utility:\n",
        "        sum {i in A} mu[i] * w[i]\n",
        "        - 0.5 * risk_aversion * sum {i in A, j in A} w[i] * S[i, j] * w[j];\n",
        "    s.t. portfolio_weights:\n",
        "        sum {i in A} w[i] = if market_neutral then 0 else 1;\n",
        "    \"\"\"\n",
        ")\n",
        "ampl.set[\"A\"] = ef.tickers\n",
        "ampl.param[\"S\"] = pd.DataFrame(ef.cov_matrix, index=ef.tickers, columns=ef.tickers)\n",
        "ampl.param[\"mu\"] = ef.expected_returns\n",
        "ampl.param[\"risk_aversion\"] = 2\n",
        "ampl.param[\"market_neutral\"] = False\n",
        "ampl.solve(solver=\"gurobi\")\n",
        "assert ampl.solve_result == \"solved\", ampl.solve_result\n",
        "sigma2 = ampl.get_value(\"sqrt(sum {i in A, j in A} w[i] * S[i, j] * w[j])\")\n",
        "mu2 = ampl.get_value(\"sum {i in A} mu[i] * w[i]\")\n",
        "risk_free_rate = 0.02\n",
        "sharpe2 = (mu2 - risk_free_rate) / sigma2\n",
        "print(f\"Expected annual return: {mu2*100:.1f}%\")\n",
        "print(f\"Annual volatility: {sigma2*100:.1f}%\")\n",
        "print(f\"Sharpe Ratio: {sharpe2:.2f}\")"
      ]
    },
    {
      "cell_type": "code",
      "execution_count": 18,
      "metadata": {
        "colab": {
          "base_uri": "https://localhost:8080/",
          "height": 447
        },
        "id": "RjucrGHd-0n6",
        "outputId": "5462638f-b1b5-4d8b-8986-b3a7b576040b"
      },
      "outputs": [
        {
          "data": {
            "text/plain": [
              "<Axes: >"
            ]
          },
          "execution_count": 71,
          "metadata": {},
          "output_type": "execute_result"
        },
        {
          "data": {
            "image/png": "[encoded data removed]",
            "text/plain": [
              "<Figure size 640x480 with 1 Axes>"
            ]
          },
          "metadata": {},
          "output_type": "display_data"
        }
      ],
      "source": [
        "pd.Series(ef.clean_weights()).plot.barh()"
      ]
    },
    {
      "cell_type": "markdown",
      "metadata": {
        "id": "xl70YmI_-0n6"
      },
      "source": [
        "## Maximize return for a target risk with sector constraints\n",
        "\n",
        "Using `EfficientFrontierWithAMPL.add_sector_constraints`:"
      ]
    },
    {
      "cell_type": "code",
      "execution_count": 19,
      "metadata": {
        "id": "SM-4pYdr-0n7"
      },
      "outputs": [],
      "source": [
        "sector_mapper = {\n",
        "    \"MSFT\": \"Tech\",\n",
        "    \"AMZN\": \"Consumer Discretionary\",\n",
        "    \"KO\": \"Consumer Staples\",\n",
        "    \"MA\": \"Financial Services\",\n",
        "    \"COST\": \"Consumer Staples\",\n",
        "    \"LUV\": \"Aerospace\",\n",
        "    \"XOM\": \"Energy\",\n",
        "    \"PFE\": \"Healthcare\",\n",
        "    \"JPM\": \"Financial Services\",\n",
        "    \"UNH\": \"Healthcare\",\n",
        "    \"ACN\": \"Misc\",\n",
        "    \"DIS\": \"Media\",\n",
        "    \"GILD\": \"Healthcare\",\n",
        "    \"F\": \"Auto\",\n",
        "    \"TSLA\": \"Auto\",\n",
        "}\n",
        "\n",
        "sector_lower = {\n",
        "    \"Consumer Staples\": 0.1,  # at least 10% to staples\n",
        "    \"Tech\": 0.05,  # at least 5% to tech\n",
        "    # For all other sectors, it will be assumed there is no lower bound\n",
        "}\n",
        "\n",
        "sector_upper = {\"Tech\": 0.2, \"Aerospace\": 0.1, \"Energy\": 0.1, \"Auto\": 0.15}"
      ]
    },
    {
      "cell_type": "code",
      "execution_count": 20,
      "metadata": {
        "colab": {
          "base_uri": "https://localhost:8080/"
        },
        "id": "DNOe8ZSd-0n7",
        "outputId": "677c526f-e0ba-4db3-a7dc-d9c3f7b4871e"
      },
      "outputs": [
        {
          "name": "stdout",
          "output_type": "stream",
          "text": [
            "Gurobi 12.0.1: \b\b\b\b\b\b\b\b\b\b\b\b\b\b\bGurobi 12.0.1: optimal solution; objective 0.2618079408\n",
            "0 simplex iterations\n",
            "7 barrier iterations\n",
            "Expected annual return: 26.2%\n",
            "Annual volatility: 15.0%\n",
            "Sharpe Ratio: 1.61\n"
          ]
        }
      ],
      "source": [
        "ef = EfficientFrontierWithAMPL(mu, S)\n",
        "ef.add_sector_constraints(sector_mapper, sector_lower, sector_upper)\n",
        "ef.efficient_risk(target_volatility=0.15)\n",
        "mu1, sigma1, sharpe1 = ef.portfolio_performance(verbose=True)"
      ]
    },
    {
      "cell_type": "markdown",
      "metadata": {
        "id": "VGV6-S_K-0n8"
      },
      "source": [
        "Using `amplpy` directly:"
      ]
    },
    {
      "cell_type": "code",
      "execution_count": 21,
      "metadata": {
        "colab": {
          "base_uri": "https://localhost:8080/"
        },
        "id": "QmIK5SUw-0n8",
        "outputId": "d29c4b6d-b20e-4ea2-f257-cef6757f57d0"
      },
      "outputs": [
        {
          "name": "stdout",
          "output_type": "stream",
          "text": [
            "Gurobi 12.0.1: \b\b\b\b\b\b\b\b\b\b\b\b\b\b\bGurobi 12.0.1: optimal solution; objective 0.2618079408\n",
            "0 simplex iterations\n",
            "7 barrier iterations\n",
            "Expected annual return: 26.2%\n",
            "Annual volatility: 15.0%\n",
            "Sharpe Ratio: 1.61\n"
          ]
        }
      ],
      "source": [
        "from amplpy import AMPL\n",
        "\n",
        "ampl = AMPL()\n",
        "ampl.eval(\n",
        "    r\"\"\"\n",
        "    param target_volatility;\n",
        "    param market_neutral default 0;\n",
        "\n",
        "    set A ordered;\n",
        "    param S{A, A};\n",
        "    param mu{A} default 0;\n",
        "\n",
        "    param lb default 0;\n",
        "    param ub default 1;\n",
        "    var w{A} >= lb <= ub;\n",
        "\n",
        "    maximize portfolio_return:\n",
        "        sum {i in A} mu[i] * w[i];\n",
        "    s.t. portfolio_variance:\n",
        "        sum {i in A, j in A} w[i] * S[i, j] * w[j] <= target_volatility^2;\n",
        "    s.t. portfolio_weights:\n",
        "        sum {i in A} w[i] = 1;\n",
        "\n",
        "    set SECTORS default {};\n",
        "    set SECTOR_MEMBERS{SECTORS};\n",
        "    param sector_lower{SECTORS} default -Infinity;\n",
        "    param sector_upper{SECTORS} default Infinity;\n",
        "    s.t. sector_constraints_lower{s in SECTORS: sector_lower[s] != -Infinity}:\n",
        "        sum {i in SECTOR_MEMBERS[s]} w[i] >= sector_lower[s];\n",
        "    s.t. sector_constraints_upper{s in SECTORS: sector_upper[s] != Infinity}:\n",
        "        sum {i in SECTOR_MEMBERS[s]} w[i] <= sector_upper[s];\n",
        "    \"\"\"\n",
        ")\n",
        "ampl.set[\"A\"] = ef.tickers\n",
        "ampl.param[\"S\"] = pd.DataFrame(ef.cov_matrix, index=ef.tickers, columns=ef.tickers)\n",
        "ampl.param[\"mu\"] = ef.expected_returns\n",
        "ampl.param[\"target_volatility\"] = 0.15\n",
        "sectors = set(sector_mapper.values())\n",
        "ampl.set[\"SECTORS\"] = sectors\n",
        "for sector in sectors:\n",
        "    ampl.set[\"SECTOR_MEMBERS\"][sector] = [\n",
        "        ticker for ticker, s in sector_mapper.items() if s == sector\n",
        "    ]\n",
        "ampl.param[\"sector_lower\"] = sector_lower\n",
        "ampl.param[\"sector_upper\"] = sector_upper\n",
        "ampl.solve(solver=\"gurobi\")\n",
        "assert ampl.solve_result == \"solved\", ampl.solve_result\n",
        "sigma2 = ampl.get_value(\"sqrt(sum {i in A, j in A} w[i] * S[i, j] * w[j])\")\n",
        "mu2 = ampl.get_value(\"sum {i in A} mu[i] * w[i]\")\n",
        "risk_free_rate = 0.02\n",
        "sharpe2 = (mu2 - risk_free_rate) / sigma2\n",
        "print(f\"Expected annual return: {mu2*100:.1f}%\")\n",
        "print(f\"Annual volatility: {sigma2*100:.1f}%\")\n",
        "print(f\"Sharpe Ratio: {sharpe2:.2f}\")"
      ]
    },
    {
      "cell_type": "code",
      "execution_count": 22,
      "metadata": {
        "colab": {
          "base_uri": "https://localhost:8080/",
          "height": 447
        },
        "id": "2XNrYQGw-0n8",
        "outputId": "c0cb2ae1-aab9-4bb7-d3d2-6677c0bff8f7"
      },
      "outputs": [
        {
          "data": {
            "text/plain": [
              "<Axes: >"
            ]
          },
          "execution_count": 75,
          "metadata": {},
          "output_type": "execute_result"
        },
        {
          "data": {
            "image/png": "[encoded data removed]",
            "text/plain": [
              "<Figure size 640x480 with 1 Axes>"
            ]
          },
          "metadata": {},
          "output_type": "display_data"
        }
      ],
      "source": [
        "pd.Series(ef.clean_weights()).plot.barh()"
      ]
    },
    {
      "cell_type": "markdown",
      "metadata": {
        "id": "npNQLRCR-0n8"
      },
      "source": [
        "## Maximize return for a target risk with cardinality constraints\n",
        "\n",
        "Using `EfficientFrontierWithAMPL`:"
      ]
    },
    {
      "cell_type": "code",
      "execution_count": 23,
      "metadata": {
        "colab": {
          "base_uri": "https://localhost:8080/"
        },
        "id": "x34yL_Li-0n8",
        "outputId": "33cf2c17-cebd-40d5-cfc6-123df3326b2f"
      },
      "outputs": [
        {
          "name": "stdout",
          "output_type": "stream",
          "text": [
            "Gurobi 12.0.1: \b\b\b\b\b\b\b\b\b\b\b\b\b\b\bGurobi 12.0.1: optimal solution; objective 0.2488933957\n",
            "1085 simplex iterations\n",
            "216 branching nodes\n",
            "absmipgap=2.16157e-05, relmipgap=8.68473e-05\n",
            "Expected annual return: 24.9%\n",
            "Annual volatility: 15.0%\n",
            "Sharpe Ratio: 1.53\n"
          ]
        }
      ],
      "source": [
        "ef = EfficientFrontierWithAMPL(mu, S)\n",
        "ef.ampl.param[\"card_ub\"] = 3\n",
        "ef.efficient_risk(target_volatility=0.15)\n",
        "mu1, sigma1, sharpe1 = ef.portfolio_performance(verbose=True)"
      ]
    },
    {
      "cell_type": "markdown",
      "metadata": {
        "id": "0AtbqYX8-0n9"
      },
      "source": [
        "Using `amplpy` directly:"
      ]
    },
    {
      "cell_type": "code",
      "execution_count": 24,
      "metadata": {
        "colab": {
          "base_uri": "https://localhost:8080/"
        },
        "id": "XI9eDK2j-0oB",
        "outputId": "800507b2-3074-47fa-f7cd-1dd622a7eb68"
      },
      "outputs": [
        {
          "name": "stdout",
          "output_type": "stream",
          "text": [
            "Gurobi 12.0.1: \b\b\b\b\b\b\b\b\b\b\b\b\b\b\bGurobi 12.0.1: optimal solution; objective 0.2488933957\n",
            "1085 simplex iterations\n",
            "216 branching nodes\n",
            "absmipgap=2.16157e-05, relmipgap=8.68473e-05\n",
            "Expected annual return: 24.9%\n",
            "Annual volatility: 15.0%\n",
            "Sharpe Ratio: 1.53\n"
          ]
        }
      ],
      "source": [
        "from amplpy import AMPL\n",
        "\n",
        "ampl = AMPL()\n",
        "ampl.eval(\n",
        "    r\"\"\"\n",
        "    param target_volatility;\n",
        "    param market_neutral default 0;\n",
        "\n",
        "    set A ordered;\n",
        "    param S{A, A};\n",
        "    param mu{A} default 0;\n",
        "\n",
        "    param lb default 0;\n",
        "    param ub default 1;\n",
        "    var w{A} >= lb <= ub;\n",
        "\n",
        "    maximize portfolio_return:\n",
        "        sum {i in A} mu[i] * w[i];\n",
        "    s.t. portfolio_variance:\n",
        "        sum {i in A, j in A} w[i] * S[i, j] * w[j] <= target_volatility^2;\n",
        "    s.t. portfolio_weights:\n",
        "        sum {i in A} w[i] = if market_neutral then 0 else 1;\n",
        "\n",
        "    var y{A} binary;\n",
        "    s.t. w_lower{i in A}:\n",
        "        lb * y[i] <= w[i];\n",
        "    s.t. w_upper{i in A}:\n",
        "        w[i] <= ub * y[i];\n",
        "\n",
        "    param card_ub default Infinity;\n",
        "    s.t. card_limit:\n",
        "        sum {i in A} y[i] <= card_ub;\n",
        "    \"\"\"\n",
        ")\n",
        "ampl.set[\"A\"] = ef.tickers\n",
        "ampl.param[\"S\"] = pd.DataFrame(ef.cov_matrix, index=ef.tickers, columns=ef.tickers)\n",
        "ampl.param[\"mu\"] = ef.expected_returns\n",
        "ampl.param[\"card_ub\"] = 3\n",
        "ampl.param[\"target_volatility\"] = 0.15\n",
        "ampl.solve(solver=\"gurobi\")\n",
        "assert ampl.solve_result == \"solved\", ampl.solve_result\n",
        "sigma2 = ampl.get_value(\"sqrt(sum {i in A, j in A} w[i] * S[i, j] * w[j])\")\n",
        "mu2 = ampl.get_value(\"sum {i in A} mu[i] * w[i]\")\n",
        "risk_free_rate = 0.02\n",
        "sharpe2 = (mu2 - risk_free_rate) / sigma2\n",
        "print(f\"Expected annual return: {mu2*100:.1f}%\")\n",
        "print(f\"Annual volatility: {sigma2*100:.1f}%\")\n",
        "print(f\"Sharpe Ratio: {sharpe2:.2f}\")"
      ]
    },
    {
      "cell_type": "code",
      "execution_count": 25,
      "metadata": {
        "colab": {
          "base_uri": "https://localhost:8080/",
          "height": 447
        },
        "id": "y0BaaMYV-0oC",
        "outputId": "77f51042-f200-41d2-c4fe-14dc17c22709"
      },
      "outputs": [
        {
          "data": {
            "text/plain": [
              "<Axes: >"
            ]
          },
          "execution_count": 78,
          "metadata": {},
          "output_type": "execute_result"
        },
        {
          "data": {
            "image/png": "[encoded data removed]",
            "text/plain": [
              "<Figure size 640x480 with 1 Axes>"
            ]
          },
          "metadata": {},
          "output_type": "display_data"
        }
      ],
      "source": [
        "pd.Series(ef.clean_weights()).plot.barh()"
      ]
    }
  ],
  "metadata": {
    "colab": {
      "provenance": []
    },
    "kernelspec": {
      "display_name": "Python 3.9.13 ('venv': venv)",
      "language": "python",
      "name": "python3"
    },
    "language_info": {
      "codemirror_mode": {
        "name": "ipython",
        "version": 3
      },
      "file_extension": ".py",
      "mimetype": "text/x-python",
      "name": "python",
      "nbconvert_exporter": "python",
      "pygments_lexer": "ipython3",
      "version": "3.9.13"
    },
    "vscode": {
      "interpreter": {
        "hash": "f848cddd71240b43e0ed72421413d4d333821702b87f1d51f57304cea288bd62"
      }
    },
    "widgets": {
      "application/vnd.jupyter.widget-state+json": {
        "1c1d7914263a4547a7f3f4a8f0c7198f": {
          "model_module": "@jupyter-widgets/base",
          "model_module_version": "1.2.0",
          "model_name": "LayoutModel",
          "state": {
            "_model_module": "@jupyter-widgets/base",
            "_model_module_version": "1.2.0",
            "_model_name": "LayoutModel",
            "_view_count": null,
            "_view_module": "@jupyter-widgets/base",
            "_view_module_version": "1.2.0",
            "_view_name": "LayoutView",
            "align_content": null,
            "align_items": null,
            "align_self": null,
            "border": null,
            "bottom": null,
            "display": null,
            "flex": null,
            "flex_flow": null,
            "grid_area": null,
            "grid_auto_columns": null,
            "grid_auto_flow": null,
            "grid_auto_rows": null,
            "grid_column": null,
            "grid_gap": null,
            "grid_row": null,
            "grid_template_areas": null,
            "grid_template_columns": null,
            "grid_template_rows": null,
            "height": null,
            "justify_content": null,
            "justify_items": null,
            "left": null,
            "margin": null,
            "max_height": null,
            "max_width": null,
            "min_height": null,
            "min_width": null,
            "object_fit": null,
            "object_position": null,
            "order": null,
            "overflow": null,
            "overflow_x": null,
            "overflow_y": null,
            "padding": null,
            "right": null,
            "top": null,
            "visibility": null,
            "width": null
          }
        },
        "24e614c3a26949bb83429fe4739955a3": {
          "model_module": "@jupyter-widgets/controls",
          "model_module_version": "1.5.0",
          "model_name": "VBoxModel",
          "state": {
            "_dom_classes": [],
            "_model_module": "@jupyter-widgets/controls",
            "_model_module_version": "1.5.0",
            "_model_name": "VBoxModel",
            "_view_count": null,
            "_view_module": "@jupyter-widgets/controls",
            "_view_module_version": "1.5.0",
            "_view_name": "VBoxView",
            "box_style": "",
            "children": [
              "IPY_MODEL_ccd94628ec3447ca9058c58f4406cc52",
              "IPY_MODEL_59535a1240a840498f756adbc1d025da",
              "IPY_MODEL_61612e0643f744a584b06f53f7d47513",
              "IPY_MODEL_cf9ef3b9716941949a1ef052ef3e7724"
            ],
            "layout": "IPY_MODEL_37de7596b0704304b2648232fecfe3a6"
          }
        },
        "2f9735fd81ee473fb174a6ca294f942b": {
          "model_module": "@jupyter-widgets/base",
          "model_module_version": "1.2.0",
          "model_name": "LayoutModel",
          "state": {
            "_model_module": "@jupyter-widgets/base",
            "_model_module_version": "1.2.0",
            "_model_name": "LayoutModel",
            "_view_count": null,
            "_view_module": "@jupyter-widgets/base",
            "_view_module_version": "1.2.0",
            "_view_name": "LayoutView",
            "align_content": null,
            "align_items": null,
            "align_self": null,
            "border": null,
            "bottom": null,
            "display": null,
            "flex": null,
            "flex_flow": null,
            "grid_area": null,
            "grid_auto_columns": null,
            "grid_auto_flow": null,
            "grid_auto_rows": null,
            "grid_column": null,
            "grid_gap": null,
            "grid_row": null,
            "grid_template_areas": null,
            "grid_template_columns": null,
            "grid_template_rows": null,
            "height": null,
            "justify_content": null,
            "justify_items": null,
            "left": null,
            "margin": null,
            "max_height": null,
            "max_width": null,
            "min_height": null,
            "min_width": null,
            "object_fit": null,
            "object_position": null,
            "order": null,
            "overflow": null,
            "overflow_x": null,
            "overflow_y": null,
            "padding": null,
            "right": null,
            "top": null,
            "visibility": null,
            "width": null
          }
        },
        "37de7596b0704304b2648232fecfe3a6": {
          "model_module": "@jupyter-widgets/base",
          "model_module_version": "1.2.0",
          "model_name": "LayoutModel",
          "state": {
            "_model_module": "@jupyter-widgets/base",
            "_model_module_version": "1.2.0",
            "_model_name": "LayoutModel",
            "_view_count": null,
            "_view_module": "@jupyter-widgets/base",
            "_view_module_version": "1.2.0",
            "_view_name": "LayoutView",
            "align_content": null,
            "align_items": null,
            "align_self": null,
            "border": null,
            "bottom": null,
            "display": null,
            "flex": null,
            "flex_flow": null,
            "grid_area": null,
            "grid_auto_columns": null,
            "grid_auto_flow": null,
            "grid_auto_rows": null,
            "grid_column": null,
            "grid_gap": null,
            "grid_row": null,
            "grid_template_areas": null,
            "grid_template_columns": null,
            "grid_template_rows": null,
            "height": null,
            "justify_content": null,
            "justify_items": null,
            "left": null,
            "margin": null,
            "max_height": null,
            "max_width": null,
            "min_height": null,
            "min_width": null,
            "object_fit": null,
            "object_position": null,
            "order": null,
            "overflow": null,
            "overflow_x": null,
            "overflow_y": null,
            "padding": null,
            "right": null,
            "top": null,
            "visibility": null,
            "width": null
          }
        },
        "59535a1240a840498f756adbc1d025da": {
          "model_module": "@jupyter-widgets/controls",
          "model_module_version": "1.5.0",
          "model_name": "HBoxModel",
          "state": {
            "_dom_classes": [],
            "_model_module": "@jupyter-widgets/controls",
            "_model_module_version": "1.5.0",
            "_model_name": "HBoxModel",
            "_view_count": null,
            "_view_module": "@jupyter-widgets/controls",
            "_view_module_version": "1.5.0",
            "_view_name": "HBoxView",
            "box_style": "",
            "children": [
              "IPY_MODEL_5deacf8b9a2c4eaab22c6b6c26cc0a60"
            ],
            "layout": "IPY_MODEL_833ed6750604434884a666b64885240a"
          }
        },
        "5deacf8b9a2c4eaab22c6b6c26cc0a60": {
          "model_module": "@jupyter-widgets/controls",
          "model_module_version": "1.5.0",
          "model_name": "TextModel",
          "state": {
            "_dom_classes": [],
            "_model_module": "@jupyter-widgets/controls",
            "_model_module_version": "1.5.0",
            "_model_name": "TextModel",
            "_view_count": null,
            "_view_module": "@jupyter-widgets/controls",
            "_view_module_version": "1.5.0",
            "_view_name": "TextView",
            "continuous_update": true,
            "description": "License UUID:",
            "description_tooltip": null,
            "disabled": false,
            "layout": "IPY_MODEL_1c1d7914263a4547a7f3f4a8f0c7198f",
            "placeholder": "​",
            "style": "IPY_MODEL_80e9ab713c9c4ce3ba7f2460dbb782a0",
            "value": ""
          }
        },
        "61612e0643f744a584b06f53f7d47513": {
          "model_module": "@jupyter-widgets/output",
          "model_module_version": "1.0.0",
          "model_name": "OutputModel",
          "state": {
            "_dom_classes": [],
            "_model_module": "@jupyter-widgets/output",
            "_model_module_version": "1.0.0",
            "_model_name": "OutputModel",
            "_view_count": null,
            "_view_module": "@jupyter-widgets/output",
            "_view_module_version": "1.0.0",
            "_view_name": "OutputView",
            "layout": "IPY_MODEL_2f9735fd81ee473fb174a6ca294f942b",
            "msg_id": "",
            "outputs": []
          }
        },
        "80e9ab713c9c4ce3ba7f2460dbb782a0": {
          "model_module": "@jupyter-widgets/controls",
          "model_module_version": "1.5.0",
          "model_name": "DescriptionStyleModel",
          "state": {
            "_model_module": "@jupyter-widgets/controls",
            "_model_module_version": "1.5.0",
            "_model_name": "DescriptionStyleModel",
            "_view_count": null,
            "_view_module": "@jupyter-widgets/base",
            "_view_module_version": "1.2.0",
            "_view_name": "StyleView",
            "description_width": "initial"
          }
        },
        "833ed6750604434884a666b64885240a": {
          "model_module": "@jupyter-widgets/base",
          "model_module_version": "1.2.0",
          "model_name": "LayoutModel",
          "state": {
            "_model_module": "@jupyter-widgets/base",
            "_model_module_version": "1.2.0",
            "_model_name": "LayoutModel",
            "_view_count": null,
            "_view_module": "@jupyter-widgets/base",
            "_view_module_version": "1.2.0",
            "_view_name": "LayoutView",
            "align_content": null,
            "align_items": null,
            "align_self": null,
            "border": null,
            "bottom": null,
            "display": null,
            "flex": null,
            "flex_flow": null,
            "grid_area": null,
            "grid_auto_columns": null,
            "grid_auto_flow": null,
            "grid_auto_rows": null,
            "grid_column": null,
            "grid_gap": null,
            "grid_row": null,
            "grid_template_areas": null,
            "grid_template_columns": null,
            "grid_template_rows": null,
            "height": null,
            "justify_content": null,
            "justify_items": null,
            "left": null,
            "margin": null,
            "max_height": null,
            "max_width": null,
            "min_height": null,
            "min_width": null,
            "object_fit": null,
            "object_position": null,
            "order": null,
            "overflow": null,
            "overflow_x": null,
            "overflow_y": null,
            "padding": null,
            "right": null,
            "top": null,
            "visibility": null,
            "width": null
          }
        },
        "99f2762bd44d4bef926f84d31e36c3ee": {
          "model_module": "@jupyter-widgets/base",
          "model_module_version": "1.2.0",
          "model_name": "LayoutModel",
          "state": {
            "_model_module": "@jupyter-widgets/base",
            "_model_module_version": "1.2.0",
            "_model_name": "LayoutModel",
            "_view_count": null,
            "_view_module": "@jupyter-widgets/base",
            "_view_module_version": "1.2.0",
            "_view_name": "LayoutView",
            "align_content": null,
            "align_items": null,
            "align_self": null,
            "border": null,
            "bottom": null,
            "display": null,
            "flex": null,
            "flex_flow": null,
            "grid_area": null,
            "grid_auto_columns": null,
            "grid_auto_flow": null,
            "grid_auto_rows": null,
            "grid_column": null,
            "grid_gap": null,
            "grid_row": null,
            "grid_template_areas": null,
            "grid_template_columns": null,
            "grid_template_rows": null,
            "height": null,
            "justify_content": null,
            "justify_items": null,
            "left": null,
            "margin": null,
            "max_height": null,
            "max_width": null,
            "min_height": null,
            "min_width": null,
            "object_fit": null,
            "object_position": null,
            "order": null,
            "overflow": null,
            "overflow_x": null,
            "overflow_y": null,
            "padding": null,
            "right": null,
            "top": null,
            "visibility": null,
            "width": null
          }
        },
        "a4b701ca8db546bea71442daafe7d2a6": {
          "model_module": "@jupyter-widgets/base",
          "model_module_version": "1.2.0",
          "model_name": "LayoutModel",
          "state": {
            "_model_module": "@jupyter-widgets/base",
            "_model_module_version": "1.2.0",
            "_model_name": "LayoutModel",
            "_view_count": null,
            "_view_module": "@jupyter-widgets/base",
            "_view_module_version": "1.2.0",
            "_view_name": "LayoutView",
            "align_content": null,
            "align_items": null,
            "align_self": null,
            "border": null,
            "bottom": null,
            "display": null,
            "flex": null,
            "flex_flow": null,
            "grid_area": null,
            "grid_auto_columns": null,
            "grid_auto_flow": null,
            "grid_auto_rows": null,
            "grid_column": null,
            "grid_gap": null,
            "grid_row": null,
            "grid_template_areas": null,
            "grid_template_columns": null,
            "grid_template_rows": null,
            "height": null,
            "justify_content": null,
            "justify_items": null,
            "left": null,
            "margin": null,
            "max_height": null,
            "max_width": null,
            "min_height": null,
            "min_width": null,
            "object_fit": null,
            "object_position": null,
            "order": null,
            "overflow": null,
            "overflow_x": null,
            "overflow_y": null,
            "padding": null,
            "right": null,
            "top": null,
            "visibility": null,
            "width": null
          }
        },
        "ccd94628ec3447ca9058c58f4406cc52": {
          "model_module": "@jupyter-widgets/output",
          "model_module_version": "1.0.0",
          "model_name": "OutputModel",
          "state": {
            "_dom_classes": [],
            "_model_module": "@jupyter-widgets/output",
            "_model_module_version": "1.0.0",
            "_model_name": "OutputModel",
            "_view_count": null,
            "_view_module": "@jupyter-widgets/output",
            "_view_module_version": "1.0.0",
            "_view_name": "OutputView",
            "layout": "IPY_MODEL_99f2762bd44d4bef926f84d31e36c3ee",
            "msg_id": "",
            "outputs": [
              {
                "name": "stdout",
                "output_type": "stream",
                "text": [
                  "AMPL License UUID (you can use free https://ampl.com/ce or https://ampl.com/courses licenses):\n"
                ]
              }
            ]
          }
        },
        "cf9ef3b9716941949a1ef052ef3e7724": {
          "model_module": "@jupyter-widgets/output",
          "model_module_version": "1.0.0",
          "model_name": "OutputModel",
          "state": {
            "_dom_classes": [],
            "_model_module": "@jupyter-widgets/output",
            "_model_module_version": "1.0.0",
            "_model_name": "OutputModel",
            "_view_count": null,
            "_view_module": "@jupyter-widgets/output",
            "_view_module_version": "1.0.0",
            "_view_name": "OutputView",
            "layout": "IPY_MODEL_a4b701ca8db546bea71442daafe7d2a6",
            "msg_id": "",
            "outputs": [
              {
                "name": "stdout",
                "output_type": "stream",
                "text": [
                  "Licensed to AMPL Community Edition License for the AMPL Model Colaboratory (https://ampl.com/colab).\n"
                ]
              }
            ]
          }
        }
      }
    }
  },
  "nbformat": 4,
  "nbformat_minor": 0
}
