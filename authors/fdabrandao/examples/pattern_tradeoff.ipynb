{
  "cells": [
    {
      "cell_type": "markdown",
      "metadata": {},
      "source": [
        "# Roll Cutting - Revision 1 & 2\n",
        "[![pattern_tradeoff.ipynb](https://img.shields.io/badge/github-%23121011.svg?logo=github)](https://github.com/ampl/colab.ampl.com/blob/master/authors/fdabrandao/examples/pattern_tradeoff.ipynb) [![Open In Colab](https://colab.research.google.com/assets/colab-badge.svg)](https://colab.research.google.com/github/ampl/colab.ampl.com/blob/master/authors/fdabrandao/examples/pattern_tradeoff.ipynb) [![Kaggle](https://kaggle.com/static/images/open-in-kaggle.svg)](https://kaggle.com/kernels/welcome?src=https://github.com/ampl/colab.ampl.com/blob/master/authors/fdabrandao/examples/pattern_tradeoff.ipynb) [![Gradient](https://assets.paperspace.io/img/gradient-badge.svg)](https://console.paperspace.com/github/ampl/colab.ampl.com/blob/master/authors/fdabrandao/examples/pattern_tradeoff.ipynb) [![Open In SageMaker Studio Lab](https://studiolab.sagemaker.aws/studiolab.svg)](https://studiolab.sagemaker.aws/import/github/ampl/colab.ampl.com/blob/master/authors/fdabrandao/examples/pattern_tradeoff.ipynb) [![Hits](https://h.ampl.com/https://github.com/ampl/colab.ampl.com/blob/master/authors/fdabrandao/examples/pattern_tradeoff.ipynb)](https://colab.ampl.com)\n",
        "\n",
        "Description: Pattern tradeoff example with amplpy\n",
        "\n",
        "Tags: amplpy, example\n",
        "\n",
        "Notebook author: Filipe Brandão <<fdabrandao@gmail.com>>\n",
        "\n",
        "Model author: N/A\n",
        "\n",
        "References: N/A"
      ]
    },
    {
      "cell_type": "code",
      "execution_count": 1,
      "metadata": {},
      "outputs": [],
      "source": [
        "# Install dependencies\n",
        "%pip install -q amplpy==0.15.0b2"
      ]
    },
    {
      "cell_type": "code",
      "execution_count": 2,
      "metadata": {},
      "outputs": [],
      "source": [
        "# Google Colab & Kaggle integration\n",
        "from amplpy import AMPL, ampl_notebook\n",
        "\n",
        "ampl = ampl_notebook(\n",
        "    modules=[\"gurobi\"],  # modules to install\n",
        "    license_uuid=\"default\",  # license to use\n",
        ")  # instantiate AMPL object and register magics"
      ]
    },
    {
      "cell_type": "markdown",
      "metadata": {},
      "source": [
        "## Roll Cutting - Revision 1"
      ]
    },
    {
      "cell_type": "code",
      "execution_count": 3,
      "metadata": {},
      "outputs": [],
      "source": [
        "%%ampl_eval\n",
        "param roll_width > 0;\n",
        "\n",
        "set WIDTHS;\n",
        "param orders {WIDTHS} > 0;\n",
        "\n",
        "param nPAT integer >= 0;\n",
        "param nbr {WIDTHS,1..nPAT} integer >= 0;\n",
        "\n",
        "var Cut {1..nPAT} integer >= 0;\n",
        "\n",
        "minimize Number:\n",
        "   sum {j in 1..nPAT} Cut[j];\n",
        "minimize Waste:\n",
        "   sum {j in 1..nPAT} Cut[j] * (roll_width - sum {i in WIDTHS} i * nbr[i,j]);\n",
        "\n",
        "subj to Fulfill {i in WIDTHS}:\n",
        "   sum {j in 1..nPAT} nbr[i,j] * Cut[j] >= orders[i];"
      ]
    },
    {
      "cell_type": "code",
      "execution_count": 4,
      "metadata": {},
      "outputs": [],
      "source": [
        "%%ampl_eval\n",
        "data;\n",
        "param roll_width := 64.5;\n",
        "\n",
        "param: WIDTHS: orders :=\n",
        "         6.77    10\n",
        "         7.56    40\n",
        "        17.46    33\n",
        "        18.76    10 ;\n",
        "\n",
        "param nPAT := 9 ;\n",
        "\n",
        "param nbr:  1  2  3  4  5  6  7  8  9 :=\n",
        "     6.77   0  1  1  0  3  2  0  1  4\n",
        "     7.56   1  0  2  1  1  4  6  5  2\n",
        "    17.46   0  1  0  2  1  0  1  1  1\n",
        "    18.76   3  2  2  1  1  1  0  0  0 ;"
      ]
    },
    {
      "cell_type": "markdown",
      "metadata": {},
      "source": [
        "### Optimal solution for the objective Number"
      ]
    },
    {
      "cell_type": "code",
      "execution_count": 5,
      "metadata": {},
      "outputs": [
        {
          "name": "stdout",
          "output_type": "stream",
          "text": [
            "Gurobi 9.5.0: optimal solution; objective 20\n",
            "3 simplex iterations\n",
            "1 branch-and-cut nodes\n",
            "Number = 20\n",
            "Waste = 63.62\n",
            "\n"
          ]
        }
      ],
      "source": [
        "ampl.option[\"solver\"] = \"gurobi\"\n",
        "ampl.eval(\"objective Number; solve;\")\n",
        "ampl.display(\"Number\", \"Waste\")"
      ]
    },
    {
      "cell_type": "markdown",
      "metadata": {},
      "source": [
        "### Optimal solution for the objective Waste"
      ]
    },
    {
      "cell_type": "code",
      "execution_count": 6,
      "metadata": {},
      "outputs": [
        {
          "name": "stdout",
          "output_type": "stream",
          "text": [
            "Gurobi 9.5.0: optimal solution; objective 15.62\n",
            "2 simplex iterations\n",
            "1 branch-and-cut nodes\n",
            "Number = 35\n",
            "Waste = 15.62\n",
            "\n"
          ]
        }
      ],
      "source": [
        "ampl.eval(\"objective Waste; solve;\")\n",
        "ampl.display(\"Number\", \"Waste\")"
      ]
    },
    {
      "cell_type": "markdown",
      "metadata": {},
      "source": [
        "### Reset session in order to load a new model"
      ]
    },
    {
      "cell_type": "code",
      "execution_count": 7,
      "metadata": {},
      "outputs": [],
      "source": [
        "ampl.reset()"
      ]
    },
    {
      "cell_type": "markdown",
      "metadata": {},
      "source": [
        "## Roll Cutting - Revision 2"
      ]
    },
    {
      "cell_type": "code",
      "execution_count": 8,
      "metadata": {},
      "outputs": [],
      "source": [
        "%%ampl_eval\n",
        "param roll_width > 0;\n",
        "param over_lim integer >= 0;\n",
        "\n",
        "set WIDTHS;\n",
        "param orders {WIDTHS} > 0;\n",
        "\n",
        "param nPAT integer >= 0;\n",
        "param nbr {WIDTHS,1..nPAT} integer >= 0;\n",
        "\n",
        "var Cut {1..nPAT} integer >= 0;\n",
        "\n",
        "minimize Number:\n",
        "   sum {j in 1..nPAT} Cut[j];\n",
        "minimize Waste:\n",
        "   sum {j in 1..nPAT} Cut[j] * (roll_width - sum {i in WIDTHS} i * nbr[i,j]);\n",
        "\n",
        "subj to Fulfill {i in WIDTHS}:\n",
        "   orders[i] <= sum {j in 1..nPAT} nbr[i,j] * Cut[j] <= orders[i] + over_lim;"
      ]
    },
    {
      "cell_type": "code",
      "execution_count": 9,
      "metadata": {},
      "outputs": [],
      "source": [
        "%%ampl_eval\n",
        "data;\n",
        "param roll_width := 64.5;\n",
        "param over_lim := 10 ;\n",
        "\n",
        "param: WIDTHS: orders :=\n",
        "         6.77    10\n",
        "         7.56    40\n",
        "        17.46    33\n",
        "        18.76    10 ;\n",
        "\n",
        "param nPAT := 9 ;\n",
        "\n",
        "param nbr:  1  2  3  4  5  6  7  8  9 :=\n",
        "     6.77   0  1  1  0  3  2  0  1  4\n",
        "     7.56   1  0  2  1  1  4  6  5  2\n",
        "    17.46   0  1  0  2  1  0  1  1  1\n",
        "    18.76   3  2  2  1  1  1  0  0  0 ;"
      ]
    },
    {
      "cell_type": "markdown",
      "metadata": {},
      "source": [
        "### Initial solve"
      ]
    },
    {
      "cell_type": "code",
      "execution_count": 10,
      "metadata": {},
      "outputs": [
        {
          "name": "stdout",
          "output_type": "stream",
          "text": [
            "Gurobi 9.5.0: optimal solution; objective 20\n",
            "7 simplex iterations\n",
            "1 branch-and-cut nodes\n"
          ]
        }
      ],
      "source": [
        "ampl.option[\"solver\"] = \"gurobi\"\n",
        "ampl.eval(\"objective Number; solve;\")\n",
        "min_number = ampl.get_value(\"Number\")\n",
        "min_numwaste = ampl.get_value(\"Waste\")\n",
        "ampl.eval(\"objective Waste;\")"
      ]
    },
    {
      "cell_type": "code",
      "execution_count": 11,
      "metadata": {},
      "outputs": [
        {
          "name": "stdout",
          "output_type": "stream",
          "text": [
            "Gurobi 9.5.0: optimal solution; objective 46.72\n",
            "4 simplex iterations\n",
            "1 branch-and-cut nodes\n",
            "Gurobi 9.5.0: optimal solution; objective 46.72\n",
            "4 simplex iterations\n",
            "1 branch-and-cut nodes\n",
            "Gurobi 9.5.0: optimal solution; objective 47.89\n",
            "4 simplex iterations\n",
            "1 branch-and-cut nodes\n",
            "Gurobi 9.5.0: optimal solution; objective 49.16\n",
            "4 simplex iterations\n",
            "1 branch-and-cut nodes\n",
            "Gurobi 9.5.0: optimal solution; objective 54.76\n",
            "5 simplex iterations\n",
            "1 branch-and-cut nodes\n"
          ]
        }
      ],
      "source": [
        "over_lim = int(ampl.param[\"over_lim\"].value())\n",
        "prev_number = float(\"inf\")\n",
        "min_waste = {}\n",
        "min_wastenum = {}\n",
        "for k in reversed(range(over_lim)):\n",
        "    ampl.param[\"over_lim\"] = k\n",
        "    ampl.solve()\n",
        "    if ampl.solve_result == \"infeasible\":\n",
        "        break\n",
        "    number = ampl.get_value(\"Number\")\n",
        "    if number < prev_number:\n",
        "        min_waste[k] = ampl.get_value(\"Waste\")\n",
        "        min_wastenum[k] = number\n",
        "        prev_number = number\n",
        "    if number == min_number:\n",
        "        break"
      ]
    },
    {
      "cell_type": "markdown",
      "metadata": {},
      "source": [
        "### Report"
      ]
    },
    {
      "cell_type": "code",
      "execution_count": 12,
      "metadata": {},
      "outputs": [
        {
          "name": "stdout",
          "output_type": "stream",
          "text": [
            "Min 20 rolls with waste 62.04\n",
            "\n",
            "Over\tWaste\tNumber\n",
            "9\t46.71999999999988\t22\n",
            "7\t47.88999999999987\t21\n",
            "5\t54.75999999999988\t20\n"
          ]
        }
      ],
      "source": [
        "print(\"Min{:3.0f} rolls with waste{:6.2f}\\n\".format(min_number, min_numwaste))\n",
        "print(\"Over\\tWaste\\tNumber\")\n",
        "for k in sorted(min_waste.keys(), reverse=True):\n",
        "    print(\"{}\\t{}\\t{:.0f}\".format(k, min_waste[k], min_wastenum[k]))"
      ]
    },
    {
      "cell_type": "code",
      "execution_count": 13,
      "metadata": {},
      "outputs": [],
      "source": []
    }
  ],
  "metadata": {
    "kernelspec": {
      "display_name": "Python 3.9.13 ('venv': venv)",
      "language": "python",
      "name": "python3"
    },
    "language_info": {
      "codemirror_mode": {
        "name": "ipython",
        "version": 3
      },
      "file_extension": ".py",
      "mimetype": "text/x-python",
      "name": "python",
      "nbconvert_exporter": "python",
      "pygments_lexer": "ipython3",
      "version": "3.9.13"
    },
    "vscode": {
      "interpreter": {
        "hash": "ee4198aac13dae9b6fccd443041680d99c2643c4956ef7c80ff6dcc0057cb523"
      }
    }
  },
  "nbformat": 4,
  "nbformat_minor": 2
}
