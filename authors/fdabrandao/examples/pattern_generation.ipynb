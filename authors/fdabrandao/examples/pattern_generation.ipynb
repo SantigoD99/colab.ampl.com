{
  "cells": [
    {
      "cell_type": "markdown",
      "metadata": {},
      "source": [
        "# Pattern Generation\n",
        "[![pattern_generation.ipynb](https://img.shields.io/badge/github-%23121011.svg?logo=github)](https://github.com/ampl/colab.ampl.com/blob/master/authors/fdabrandao/examples/pattern_generation.ipynb) [![Open In Colab](https://colab.research.google.com/assets/colab-badge.svg)](https://colab.research.google.com/github/ampl/colab.ampl.com/blob/master/authors/fdabrandao/examples/pattern_generation.ipynb) [![Open In Deepnote](https://deepnote.com/buttons/launch-in-deepnote-small.svg)](https://deepnote.com/launch?url=https://github.com/ampl/colab.ampl.com/blob/master/authors/fdabrandao/examples/pattern_generation.ipynb) [![Open In Kaggle](https://kaggle.com/static/images/open-in-kaggle.svg)](https://kaggle.com/kernels/welcome?src=https://github.com/ampl/colab.ampl.com/blob/master/authors/fdabrandao/examples/pattern_generation.ipynb) [![Open In Gradient](https://assets.paperspace.io/img/gradient-badge.svg)](https://console.paperspace.com/github/ampl/colab.ampl.com/blob/master/authors/fdabrandao/examples/pattern_generation.ipynb) [![Open In SageMaker Studio Lab](https://studiolab.sagemaker.aws/studiolab.svg)](https://studiolab.sagemaker.aws/import/github/ampl/colab.ampl.com/blob/master/authors/fdabrandao/examples/pattern_generation.ipynb) [![Powered by AMPL](https://h.ampl.com/https://github.com/ampl/colab.ampl.com/blob/master/authors/fdabrandao/examples/pattern_generation.ipynb)](https://ampl.com)\n",
        "\n",
        "Description: Pattern generation example with amplpy\n",
        "\n",
        "Tags: amplpy, example\n",
        "\n",
        "Notebook author: Filipe Brandão <<fdabrandao@gmail.com>>\n",
        "\n",
        "Model author: N/A\n",
        "\n",
        "References: N/A"
      ]
    },
    {
      "cell_type": "code",
      "execution_count": 1,
      "metadata": {},
      "outputs": [],
      "source": [
        "# Install dependencies\n",
        "%pip install -q amplpy matplotlib numpy"
      ]
    },
    {
      "cell_type": "code",
      "execution_count": 2,
      "metadata": {},
      "outputs": [],
      "source": [
        "# Google Colab & Kaggle integration\n",
        "from amplpy import AMPL, ampl_notebook\n",
        "\n",
        "ampl = ampl_notebook(\n",
        "    modules=[\"gurobi\"],  # modules to install\n",
        "    license_uuid=\"default\",  # license to use\n",
        ")  # instantiate AMPL object and register magics"
      ]
    },
    {
      "cell_type": "markdown",
      "metadata": {},
      "source": [
        "## Basic pattern-cutting model"
      ]
    },
    {
      "cell_type": "code",
      "execution_count": 3,
      "metadata": {},
      "outputs": [],
      "source": [
        "%%ampl_eval\n",
        "param nPatterns integer > 0;\n",
        "set PATTERNS = 1..nPatterns; # patterns\n",
        "set WIDTHS; # finished widths\n",
        "param order {WIDTHS} >= 0; # rolls of width j ordered\n",
        "param overrun; # permitted overrun on any width\n",
        "param rolls {WIDTHS,PATTERNS} >= 0 default 0; # rolls of width i in pattern j\n",
        "\n",
        "var Cut {PATTERNS} integer >= 0; # raw rolls to cut in each pattern\n",
        "\n",
        "minimize TotalRawRolls: sum {p in PATTERNS} Cut[p];\n",
        "\n",
        "subject to FinishedRollLimits {w in WIDTHS}:\n",
        "  order[w] <= sum {p in PATTERNS} rolls[w,p] * Cut[p] <= order[w] + overrun;"
      ]
    },
    {
      "cell_type": "markdown",
      "metadata": {},
      "source": [
        "## Plotting routine"
      ]
    },
    {
      "cell_type": "code",
      "execution_count": 4,
      "metadata": {},
      "outputs": [],
      "source": [
        "def cuttingPlot(roll_width, widths, solution):\n",
        "    import numpy as np\n",
        "    import matplotlib.pyplot as plt\n",
        "\n",
        "    ind = np.arange(len(solution))\n",
        "    acc = [0] * len(solution)\n",
        "    for p, (patt, rep) in enumerate(solution):\n",
        "        for i in range(len(widths)):\n",
        "            for j in range(patt[i]):\n",
        "                vec = [0] * len(solution)\n",
        "                vec[p] = widths[i]\n",
        "                plt.bar(ind, vec, width=0.35, bottom=acc)\n",
        "                acc[p] += widths[i]\n",
        "    plt.title(\"Solution\")\n",
        "    plt.xticks(ind, tuple(\"x {:}\".format(rep) for patt, rep in solution))\n",
        "    plt.yticks(np.arange(0, roll_width, 10))\n",
        "    plt.show()"
      ]
    },
    {
      "cell_type": "markdown",
      "metadata": {},
      "source": [
        "## Set data"
      ]
    },
    {
      "cell_type": "code",
      "execution_count": 5,
      "metadata": {},
      "outputs": [],
      "source": [
        "roll_width = 64.5\n",
        "overrun = 6\n",
        "orders = {6.77: 10, 7.56: 40, 17.46: 33, 18.76: 10}\n",
        "widths = list(sorted(orders.keys(), reverse=True))"
      ]
    },
    {
      "cell_type": "markdown",
      "metadata": {},
      "source": [
        "## Send data to AMPL (Java/C++ style)"
      ]
    },
    {
      "cell_type": "code",
      "execution_count": 6,
      "metadata": {},
      "outputs": [],
      "source": [
        "from math import floor\n",
        "\n",
        "# Send scalar values\n",
        "ampl.get_parameter(\"overrun\").set(overrun)\n",
        "ampl.get_parameter(\"nPatterns\").set(len(widths))\n",
        "# Send order vector\n",
        "ampl.get_set(\"WIDTHS\").set_values(widths)\n",
        "ampl.get_parameter(\"order\").set_values(orders)\n",
        "# Generate and send initial pattern matrix\n",
        "ampl.get_parameter(\"rolls\").set_values(\n",
        "    {(widths[i], 1 + i): int(floor(roll_width / widths[i])) for i in range(len(widths))}\n",
        ")"
      ]
    },
    {
      "cell_type": "markdown",
      "metadata": {},
      "source": [
        "## Send data to AMPL (alternative style)"
      ]
    },
    {
      "cell_type": "code",
      "execution_count": 7,
      "metadata": {},
      "outputs": [],
      "source": [
        "# Send scalar values\n",
        "ampl.param[\"overrun\"] = overrun\n",
        "ampl.param[\"nPatterns\"] = len(widths)\n",
        "# Send order vector\n",
        "ampl.set[\"WIDTHS\"] = widths\n",
        "ampl.param[\"order\"] = orders\n",
        "# Generate and send initial pattern matrix\n",
        "ampl.param[\"rolls\"] = {\n",
        "    (widths[i], 1 + i): int(floor(roll_width / widths[i])) for i in range(len(widths))\n",
        "}"
      ]
    },
    {
      "cell_type": "markdown",
      "metadata": {},
      "source": [
        "## Set up for generation loop"
      ]
    },
    {
      "cell_type": "code",
      "execution_count": 8,
      "metadata": {},
      "outputs": [],
      "source": [
        "# Set solve options\n",
        "ampl.option[\"relax_integrality\"] = 1\n",
        "\n",
        "# Create a param for sending AMPL new patterns\n",
        "ampl.eval(\"param newpat {WIDTHS} integer >= 0;\")\n",
        "new_pattern = ampl.param[\"newpat\"]"
      ]
    },
    {
      "cell_type": "markdown",
      "metadata": {},
      "source": [
        "## Define the knapsack subproblem"
      ]
    },
    {
      "cell_type": "code",
      "execution_count": 9,
      "metadata": {},
      "outputs": [],
      "source": [
        "# Define the knapsack subproblem\n",
        "subprob = AMPL()\n",
        "subprob.eval(\n",
        "    \"\"\"\n",
        "    set WIDTHS;\n",
        "    param W >= 0;\n",
        "    param v{WIDTHS} >= 0;\n",
        "    var x{WIDTHS} integer >= 0;\n",
        "    maximize profit: sum {w in WIDTHS} v[w]*x[w];\n",
        "    subject to capacity: sum {w in WIDTHS} w*x[w] <= W;\n",
        "\"\"\"\n",
        ")\n",
        "subprob.set[\"WIDTHS\"] = widths\n",
        "subprob.param[\"W\"] = roll_width\n",
        "values = subprob.param[\"v\"]\n",
        "kpsolution = subprob.var[\"x\"]\n",
        "profit = subprob.obj[\"profit\"]"
      ]
    },
    {
      "cell_type": "markdown",
      "metadata": {},
      "source": [
        "## Loop"
      ]
    },
    {
      "cell_type": "code",
      "execution_count": 10,
      "metadata": {},
      "outputs": [
        {
          "name": "stdout",
          "output_type": "stream",
          "text": [
            "Master problem:\n",
            "Gurobi 9.5.0: optimal solution; objective 20.44444444\n",
            "\n",
            "Subproblem:\n",
            "Gurobi 9.5.0: optimal solution; objective 1.152777778\n",
            "1 simplex iterations\n",
            "1 branch-and-cut nodes\n",
            "\n",
            "Master problem:\n",
            "Gurobi 9.5.0: optimal solution; objective 18.77777778\n",
            "1 simplex iterations\n",
            "\n",
            "Subproblem:\n",
            "Gurobi 9.5.0: optimal solution; objective 1.111111111\n",
            "\n",
            "Master problem:\n",
            "Gurobi 9.5.0: optimal solution; objective 18.375\n",
            "3 simplex iterations\n",
            "\n",
            "Subproblem:\n",
            "Gurobi 9.5.0: optimal solution; objective 1.125\n",
            "1 simplex iterations\n",
            "1 branch-and-cut nodes\n",
            "\n",
            "Master problem:\n",
            "Gurobi 9.5.0: optimal solution; objective 17.95833333\n",
            "5 simplex iterations\n",
            "\n",
            "Subproblem:\n",
            "Gurobi 9.5.0: optimal solution; objective 1.041666667\n",
            "2 simplex iterations\n",
            "1 branch-and-cut nodes\n",
            "\n",
            "Master problem:\n",
            "Gurobi 9.5.0: optimal solution; objective 17.94117647\n",
            "5 simplex iterations\n",
            "\n",
            "Subproblem:\n",
            "Gurobi 9.5.0: optimal solution; objective 1\n",
            "1 simplex iterations\n",
            "1 branch-and-cut nodes\n",
            "\n"
          ]
        }
      ],
      "source": [
        "limits = ampl.get_constraint(\"FinishedRollLimits\")\n",
        "while True:\n",
        "    print(\"Master problem:\")\n",
        "    ampl.solve(solver=\"gurobi\")\n",
        "    assert ampl.solve_result == \"solved\", ampl.solve_result\n",
        "\n",
        "    # Retrieve duals & look for new pattern\n",
        "    # Solve knapsack problem for potential new pattern\n",
        "    values.set_values(limits.get_values())\n",
        "    print(\"\\nSubproblem:\")\n",
        "    subprob.solve(solver=\"gurobi\")\n",
        "    assert subprob.solve_result == \"solved\", subprob.solve_result\n",
        "    print()\n",
        "    if profit.value() <= 1.000001:\n",
        "        break\n",
        "\n",
        "    # Send new pattern to AMPL\n",
        "    new_pattern.set_values(kpsolution.get_values())\n",
        "    ampl.eval(\"let nPatterns := nPatterns + 1;\")\n",
        "    ampl.eval(\"let {w in WIDTHS} rolls[w, nPatterns] := newpat[w];\")"
      ]
    },
    {
      "cell_type": "markdown",
      "metadata": {},
      "source": [
        "## Compute and display integer solution"
      ]
    },
    {
      "cell_type": "code",
      "execution_count": 11,
      "metadata": {},
      "outputs": [
        {
          "name": "stdout",
          "output_type": "stream",
          "text": [
            "Gurobi 9.5.0: optimal solution; objective 19\n",
            "5 simplex iterations\n",
            "1 branch-and-cut nodes\n",
            "[0.0, 0.0, 0.0, 0.0, 10.0, 4.0, 4.0, 1.0]\n"
          ]
        },
        {
          "data": {
            "image/png": "[encoded data removed]",
            "text/plain": [
              "<Figure size 432x288 with 1 Axes>"
            ]
          },
          "metadata": {
            "needs_background": "light"
          },
          "output_type": "display_data"
        }
      ],
      "source": [
        "# Compute and display integer solution\n",
        "ampl.option[\"relax_integrality\"] = 0\n",
        "ampl.solve(solver=\"gurobi\")\n",
        "assert ampl.solve_result == \"solved\", ampl.solve_result\n",
        "\n",
        "# Retrieve solution\n",
        "cutvec = ampl.var[\"Cut\"].to_list(skip_index=True)\n",
        "\n",
        "# Display solution\n",
        "rolls = ampl.param[\"rolls\"]\n",
        "npatterns = int(ampl.param[\"nPatterns\"].value())\n",
        "solution = [\n",
        "    ([int(rolls[widths[i], p]) for i in range(len(widths))], int(cutvec[p]))\n",
        "    for p in range(npatterns)\n",
        "    if cutvec[p] > 0\n",
        "]\n",
        "cuttingPlot(roll_width, widths, solution)"
      ]
    }
  ],
  "metadata": {
    "kernelspec": {
      "display_name": "Python 3.9.13 ('venv': venv)",
      "language": "python",
      "name": "python3"
    },
    "language_info": {
      "codemirror_mode": {
        "name": "ipython",
        "version": 3
      },
      "file_extension": ".py",
      "mimetype": "text/x-python",
      "name": "python",
      "nbconvert_exporter": "python",
      "pygments_lexer": "ipython3",
      "version": "3.9.13"
    },
    "vscode": {
      "interpreter": {
        "hash": "ee4198aac13dae9b6fccd443041680d99c2643c4956ef7c80ff6dcc0057cb523"
      }
    }
  },
  "nbformat": 4,
  "nbformat_minor": 2
}
