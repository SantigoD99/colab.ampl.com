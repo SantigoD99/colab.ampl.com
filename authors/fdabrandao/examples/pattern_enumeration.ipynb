{
  "cells": [
    {
      "cell_type": "markdown",
      "metadata": {},
      "source": [
        "# Pattern Enumeration\n",
        "[![pattern_enumeration.ipynb](https://img.shields.io/badge/github-%23121011.svg?logo=github)](https://github.com/ampl/colab.ampl.com/blob/master/authors/fdabrandao/examples/pattern_enumeration.ipynb) [![Open In Colab](https://colab.research.google.com/assets/colab-badge.svg)](https://colab.research.google.com/github/ampl/colab.ampl.com/blob/master/authors/fdabrandao/examples/pattern_enumeration.ipynb) [![Kaggle](https://kaggle.com/static/images/open-in-kaggle.svg)](https://kaggle.com/kernels/welcome?src=https://github.com/ampl/colab.ampl.com/blob/master/authors/fdabrandao/examples/pattern_enumeration.ipynb) [![Gradient](https://assets.paperspace.io/img/gradient-badge.svg)](https://console.paperspace.com/github/ampl/colab.ampl.com/blob/master/authors/fdabrandao/examples/pattern_enumeration.ipynb) [![Open In SageMaker Studio Lab](https://studiolab.sagemaker.aws/studiolab.svg)](https://studiolab.sagemaker.aws/import/github/ampl/colab.ampl.com/blob/master/authors/fdabrandao/examples/pattern_enumeration.ipynb) [![Hits](https://h.ampl.com/https://github.com/ampl/colab.ampl.com/blob/master/authors/fdabrandao/examples/pattern_enumeration.ipynb)](https://colab.ampl.com)\n",
        "\n",
        "Description: Pattern enumeration example with amplpy\n",
        "\n",
        "Tags: amplpy, example\n",
        "\n",
        "Notebook author: Filipe Brandão <<fdabrandao@gmail.com>>\n",
        "\n",
        "Model author: N/A\n",
        "\n",
        "References: N/A"
      ]
    },
    {
      "cell_type": "code",
      "execution_count": 1,
      "metadata": {},
      "outputs": [],
      "source": [
        "# Install dependencies\n",
        "%pip install -q amplpy==0.15.0b2 amplpy matplotlib numpy"
      ]
    },
    {
      "cell_type": "code",
      "execution_count": 2,
      "metadata": {},
      "outputs": [],
      "source": [
        "# Google Colab & Kaggle integration\n",
        "from amplpy import AMPL, ampl_notebook\n",
        "\n",
        "ampl = ampl_notebook(\n",
        "    modules=[\"gurobi\"],  # modules to install\n",
        "    license_uuid=\"default\",  # license to use\n",
        ")  # instantiate AMPL object and register magics"
      ]
    },
    {
      "cell_type": "markdown",
      "metadata": {},
      "source": [
        "## Basic pattern-cutting model"
      ]
    },
    {
      "cell_type": "code",
      "execution_count": 3,
      "metadata": {},
      "outputs": [],
      "source": [
        "%%ampl_eval\n",
        "param nPatterns integer > 0;\n",
        "set PATTERNS = 1..nPatterns; # patterns\n",
        "set WIDTHS; # finished widths\n",
        "param order {WIDTHS} >= 0; # rolls of width j ordered\n",
        "param overrun; # permitted overrun on any width\n",
        "param rolls {WIDTHS,PATTERNS} >= 0 default 0; # rolls of width i in pattern j\n",
        "\n",
        "var Cut {PATTERNS} integer >= 0; # raw rolls to cut in each pattern\n",
        "\n",
        "minimize TotalRawRolls: sum {p in PATTERNS} Cut[p];\n",
        "\n",
        "subject to FinishedRollLimits {w in WIDTHS}:\n",
        "  order[w] <= sum {p in PATTERNS} rolls[w,p] * Cut[p] <= order[w] + overrun;"
      ]
    },
    {
      "cell_type": "markdown",
      "metadata": {},
      "source": [
        "## Enumeration routine"
      ]
    },
    {
      "cell_type": "code",
      "execution_count": 4,
      "metadata": {},
      "outputs": [],
      "source": [
        "from math import floor\n",
        "\n",
        "\n",
        "def patternEnum(roll_width, widths, prefix=[]):\n",
        "    max_rep = int(floor(roll_width / widths[0]))\n",
        "    if len(widths) == 1:\n",
        "        patmat = [prefix + [max_rep]]\n",
        "    else:\n",
        "        patmat = []\n",
        "        for n in reversed(range(max_rep + 1)):\n",
        "            patmat += patternEnum(roll_width - n * widths[0], widths[1:], prefix + [n])\n",
        "    return patmat"
      ]
    },
    {
      "cell_type": "markdown",
      "metadata": {},
      "source": [
        "## Plotting routine"
      ]
    },
    {
      "cell_type": "code",
      "execution_count": 5,
      "metadata": {},
      "outputs": [],
      "source": [
        "def cuttingPlot(roll_width, widths, solution):\n",
        "    import numpy as np\n",
        "    import matplotlib.pyplot as plt\n",
        "\n",
        "    ind = np.arange(len(solution))\n",
        "    acc = [0] * len(solution)\n",
        "    for p, (patt, rep) in enumerate(solution):\n",
        "        for i in range(len(widths)):\n",
        "            for j in range(patt[i]):\n",
        "                vec = [0] * len(solution)\n",
        "                vec[p] = widths[i]\n",
        "                plt.bar(ind, vec, width=0.35, bottom=acc)\n",
        "                acc[p] += widths[i]\n",
        "    plt.title(\"Solution\")\n",
        "    plt.xticks(ind, tuple(\"x {:}\".format(rep) for patt, rep in solution))\n",
        "    plt.yticks(np.arange(0, roll_width, 10))\n",
        "    plt.show()"
      ]
    },
    {
      "cell_type": "markdown",
      "metadata": {},
      "source": [
        "## Set & generate data"
      ]
    },
    {
      "cell_type": "code",
      "execution_count": 6,
      "metadata": {},
      "outputs": [],
      "source": [
        "roll_width = 64.5\n",
        "overrun = 6\n",
        "orders = {6.77: 10, 7.56: 40, 17.46: 33, 18.76: 10}\n",
        "widths = list(sorted(orders.keys(), reverse=True))\n",
        "patmat = patternEnum(roll_width, widths)"
      ]
    },
    {
      "cell_type": "markdown",
      "metadata": {},
      "source": [
        "## Send data to AMPL (Java/C++ style)"
      ]
    },
    {
      "cell_type": "code",
      "execution_count": 7,
      "metadata": {},
      "outputs": [],
      "source": [
        "# Send scalar values\n",
        "ampl.get_parameter(\"overrun\").set(overrun)\n",
        "ampl.get_parameter(\"nPatterns\").set(len(patmat))\n",
        "# Send order vector\n",
        "ampl.get_set(\"WIDTHS\").set_values(widths)\n",
        "ampl.get_parameter(\"order\").set_values(orders)\n",
        "# Send pattern matrix\n",
        "ampl.get_parameter(\"rolls\").set_values(\n",
        "    {\n",
        "        (widths[i], 1 + p): patmat[p][i]\n",
        "        for i in range(len(widths))\n",
        "        for p in range(len(patmat))\n",
        "    }\n",
        ")"
      ]
    },
    {
      "cell_type": "markdown",
      "metadata": {},
      "source": [
        "## Send data to AMPL (alternative style)"
      ]
    },
    {
      "cell_type": "code",
      "execution_count": 8,
      "metadata": {},
      "outputs": [],
      "source": [
        "# Send scalar values\n",
        "ampl.param[\"overrun\"] = overrun\n",
        "ampl.param[\"nPatterns\"] = len(patmat)\n",
        "# Send order vector\n",
        "ampl.set[\"WIDTHS\"] = widths\n",
        "ampl.param[\"order\"] = orders\n",
        "# Send pattern matrixc\n",
        "ampl.param[\"rolls\"] = {\n",
        "    (widths[i], 1 + p): patmat[p][i]\n",
        "    for i in range(len(widths))\n",
        "    for p in range(len(patmat))\n",
        "}"
      ]
    },
    {
      "cell_type": "markdown",
      "metadata": {},
      "source": [
        "## Solve and report"
      ]
    },
    {
      "cell_type": "code",
      "execution_count": 9,
      "metadata": {},
      "outputs": [
        {
          "name": "stdout",
          "output_type": "stream",
          "text": [
            "Gurobi 9.5.0: optimal solution; objective 18\n",
            "6 simplex iterations\n",
            "1 branch-and-cut nodes\n"
          ]
        },
        {
          "data": {
            "image/png": "[encoded data removed]",
            "text/plain": [
              "<Figure size 432x288 with 1 Axes>"
            ]
          },
          "metadata": {
            "needs_background": "light"
          },
          "output_type": "display_data"
        }
      ],
      "source": [
        "# Solve\n",
        "ampl.solve(solver=\"gurobi\")\n",
        "assert ampl.solve_result == \"solved\"\n",
        "\n",
        "# Retrieve solution\n",
        "cutvec = ampl.var[\"Cut\"].to_list(skip_index=True)\n",
        "\n",
        "# Display solution\n",
        "solution = [(patmat[p], cutvec[p]) for p in range(len(patmat)) if cutvec[p] > 0]\n",
        "cuttingPlot(roll_width, widths, solution)"
      ]
    }
  ],
  "metadata": {
    "kernelspec": {
      "display_name": "Python 3.9.13 ('venv': venv)",
      "language": "python",
      "name": "python3"
    },
    "language_info": {
      "codemirror_mode": {
        "name": "ipython",
        "version": 3
      },
      "file_extension": ".py",
      "mimetype": "text/x-python",
      "name": "python",
      "nbconvert_exporter": "python",
      "pygments_lexer": "ipython3",
      "version": "3.9.13"
    },
    "vscode": {
      "interpreter": {
        "hash": "ee4198aac13dae9b6fccd443041680d99c2643c4956ef7c80ff6dcc0057cb523"
      }
    }
  },
  "nbformat": 4,
  "nbformat_minor": 2
}
