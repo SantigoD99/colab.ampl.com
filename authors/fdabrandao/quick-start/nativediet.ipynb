{
  "cells": [
    {
      "cell_type": "markdown",
      "metadata": {
        "id": "gprACN0E2fRM"
      },
      "source": [
        "# Quick Start using lists and dictionaries\n",
        "[![nativediet.ipynb](https://img.shields.io/badge/github-%23121011.svg?logo=github)](https://github.com/ampl/colab.ampl.com/blob/master/authors/fdabrandao/quick-start/nativediet.ipynb) [![Open In Colab](https://colab.research.google.com/assets/colab-badge.svg)](https://colab.research.google.com/github/ampl/colab.ampl.com/blob/master/authors/fdabrandao/quick-start/nativediet.ipynb) [![Kaggle](https://kaggle.com/static/images/open-in-kaggle.svg)](https://kaggle.com/kernels/welcome?src=https://github.com/ampl/colab.ampl.com/blob/master/authors/fdabrandao/quick-start/nativediet.ipynb) [![Gradient](https://assets.paperspace.io/img/gradient-badge.svg)](https://console.paperspace.com/github/ampl/colab.ampl.com/blob/master/authors/fdabrandao/quick-start/nativediet.ipynb) [![Open In SageMaker Studio Lab](https://studiolab.sagemaker.aws/studiolab.svg)](https://studiolab.sagemaker.aws/import/github/ampl/colab.ampl.com/blob/master/authors/fdabrandao/quick-start/nativediet.ipynb) [![Hits](https://h.ampl.com/https://github.com/ampl/colab.ampl.com/blob/master/authors/fdabrandao/quick-start/nativediet.ipynb)](https://colab.ampl.com)\n",
        "\n",
        "Description: Quick Start using lists and dictionaries to load and retrieve data\n",
        "\n",
        "Tags: amplpy, quick-start, highlights\n",
        "\n",
        "Notebook author: Filipe Brandão <<fdabrandao@gmail.com>>"
      ]
    },
    {
      "cell_type": "code",
      "execution_count": 1,
      "metadata": {
        "id": "N_yOBcbj3Ozx"
      },
      "outputs": [],
      "source": [
        "# Install dependencies\n",
        "%pip install -q amplpy==0.15.0b2 pandas numpy"
      ]
    },
    {
      "cell_type": "code",
      "execution_count": 2,
      "metadata": {
        "colab": {
          "base_uri": "https://localhost:8080/"
        },
        "id": "YZotGiKU3RZY",
        "outputId": "d3d702e4-1a99-4d4c-ee0b-5182bc7b5e70"
      },
      "outputs": [],
      "source": [
        "# Google Colab & Kaggle integration\n",
        "from amplpy import AMPL, ampl_notebook\n",
        "\n",
        "ampl = ampl_notebook(\n",
        "    modules=[\"highs\"],  # modules to install\n",
        "    license_uuid=\"default\",  # license to use\n",
        ")  # instantiate AMPL object and register magics"
      ]
    },
    {
      "cell_type": "markdown",
      "metadata": {
        "id": "BZ5JZD0FzXAg"
      },
      "source": [
        "## Diet Model\n",
        "\n",
        "Consider the problem of choosing prepared foods to meet certain nutritional requirements.\n",
        "\n",
        "Sets:\n",
        "- `NUTR`: set of nutrients to consider\n",
        "- `FOOD`: set of food to consider\n",
        "\n",
        "Parameters:\n",
        "- `cost {FOOD}`: cost of each food\n",
        "- `f_min {FOOD}`: minimum amount of food to buy\n",
        "- `f_max {FOOD}`: maximum amount of food to buy\n",
        "- `n_min {NUTR}`: minimum amount required of each nutrient\n",
        "- `n_max {NUTR}`: maximum amount allowed of each nutrient\n",
        "- `amt {NUTR, FOOD}`: amount of each nutrient in each food\n",
        "\n",
        "Variables:\n",
        "- `Buy {FOOD}`: amount of food to buy\n",
        "\n",
        "Objective:\n",
        "- `Total_Cost`: total cost of the diet\n",
        "\n",
        "Constraints:\n",
        "- `Diet {NUTR}`: ensure that the nutritional requirements are satisfied by the diet. \n",
        "\n",
        "The problem is then modeled as follows:"
      ]
    },
    {
      "cell_type": "code",
      "execution_count": 3,
      "metadata": {
        "id": "4oBfIvMzbnvk"
      },
      "outputs": [],
      "source": [
        "%%ampl_eval\n",
        "reset;\n",
        "set NUTR;\n",
        "set FOOD;\n",
        "\n",
        "param cost {FOOD} > 0;\n",
        "param f_min {FOOD} >= 0;\n",
        "param f_max {j in FOOD} >= f_min[j];\n",
        "\n",
        "param n_min {NUTR} >= 0;\n",
        "param n_max {i in NUTR} >= n_min[i];\n",
        "\n",
        "param amt {NUTR,FOOD} >= 0;\n",
        "\n",
        "var Buy {j in FOOD} >= f_min[j], <= f_max[j];\n",
        "\n",
        "minimize Total_Cost:  sum {j in FOOD} cost[j] * Buy[j];\n",
        "\n",
        "subject to Diet {i in NUTR}:\n",
        "n_min[i] <= sum {j in FOOD} amt[i,j] * Buy[j] <= n_max[i];"
      ]
    },
    {
      "cell_type": "markdown",
      "metadata": {
        "id": "tYA-jeGUxujz"
      },
      "source": [
        "## Load the data using lists and dictionaries"
      ]
    },
    {
      "cell_type": "code",
      "execution_count": 4,
      "metadata": {
        "id": "6CPg9YzCxuTT"
      },
      "outputs": [],
      "source": [
        "# foods[food] = (cost, f_min, f_max)\n",
        "foods = {\n",
        "    \"BEEF\": (3.59, 2, 10),\n",
        "    \"CHK\": (2.59, 2, 10),\n",
        "    \"FISH\": (2.29, 2, 10),\n",
        "    \"HAM\": (2.89, 2, 10),\n",
        "    \"MCH\": (1.89, 2, 10),\n",
        "    \"MTL\": (1.99, 2, 10),\n",
        "    \"SPG\": (1.99, 2, 10),\n",
        "    \"TUR\": (2.49, 2, 10),\n",
        "}\n",
        "# nutrients[nutr] = (n_min, n_max)\n",
        "nutrients = {\n",
        "    \"A\": (700, 20000),\n",
        "    \"C\": (700, 20000),\n",
        "    \"B1\": (700, 20000),\n",
        "    \"B2\": (700, 20000),\n",
        "    \"NA\": (0, 50000),\n",
        "    \"CAL\": (16000, 24000),\n",
        "}\n",
        "ampl.set[\"FOOD\"] = list(foods.keys())\n",
        "ampl.param[\"cost\"] = {food: cost for food, (cost, _, _) in foods.items()}\n",
        "ampl.param[\"f_min\"] = {food: f_min for food, (_, f_min, _) in foods.items()}\n",
        "ampl.param[\"f_max\"] = {food: f_max for food, (_, _, f_max) in foods.items()}\n",
        "ampl.set[\"NUTR\"] = list(nutrients.keys())\n",
        "ampl.param[\"n_min\"] = {nutr: n_min for nutr, (n_min, _) in nutrients.items()}\n",
        "ampl.param[\"n_max\"] = {nutr: n_max for nutr, (_, n_max) in nutrients.items()}\n",
        "amounts = [\n",
        "    [60, 8, 8, 40, 15, 70, 25, 60],\n",
        "    [20, 0, 10, 40, 35, 30, 50, 20],\n",
        "    [10, 20, 15, 35, 15, 15, 25, 15],\n",
        "    [15, 20, 10, 10, 15, 15, 15, 10],\n",
        "    [928, 2180, 945, 278, 1182, 896, 1329, 1397],\n",
        "    [295, 770, 440, 430, 315, 400, 379, 450],\n",
        "]\n",
        "ampl.param[\"amt\"] = {\n",
        "    (nutrient, food): amounts[i][j]\n",
        "    for i, nutrient in enumerate(nutrients)\n",
        "    for j, food in enumerate(foods)\n",
        "}"
      ]
    },
    {
      "cell_type": "markdown",
      "metadata": {
        "id": "6NnyUc2qxzIM"
      },
      "source": [
        "## Solve with HiGHS"
      ]
    },
    {
      "cell_type": "code",
      "execution_count": 5,
      "metadata": {
        "colab": {
          "base_uri": "https://localhost:8080/"
        },
        "id": "11ojqR5JyVqB",
        "outputId": "629b8eb0-1ffa-44d4-c923-f0d069752a39"
      },
      "outputs": [
        {
          "name": "stdout",
          "output_type": "stream",
          "text": [
            "HiGHS 1.4.0:HiGHS 1.4.0: optimal solution; objective 119.9897589\n",
            "4 simplex iterations\n",
            "0 barrier iterations\n",
            "absmipgap=119.99, relmipgap=inf\n",
            "Objective is: 119.98975893599335\n"
          ]
        }
      ],
      "source": [
        "# Specify the solver to use (e.g., HiGHS)\n",
        "ampl.option[\"solver\"] = \"highs\"\n",
        "# Solve\n",
        "ampl.solve()\n",
        "assert ampl.solve_result == \"solved\"\n",
        "# Get objective entity by AMPL name\n",
        "totalcost = ampl.get_objective(\"Total_Cost\")\n",
        "# Print it\n",
        "print(\"Objective is:\", totalcost.value())"
      ]
    },
    {
      "cell_type": "markdown",
      "metadata": {
        "id": "rrwelmdwygur"
      },
      "source": [
        "## Reassign data for specific instances and resolve"
      ]
    },
    {
      "cell_type": "code",
      "execution_count": 6,
      "metadata": {
        "colab": {
          "base_uri": "https://localhost:8080/"
        },
        "id": "plPCDhdhjivI",
        "outputId": "d43fc08a-8108-4f7a-ab6e-25a988998112"
      },
      "outputs": [
        {
          "name": "stdout",
          "output_type": "stream",
          "text": [
            "Increased costs of beef and ham.\n",
            "HiGHS 1.4.0:HiGHS 1.4.0: optimal solution; objective 144.0120033\n",
            "0 simplex iterations\n",
            "0 barrier iterations\n",
            "absmipgap=144.012, relmipgap=inf\n",
            "New objective value: 144.01200332502077\n"
          ]
        }
      ],
      "source": [
        "# Reassign data - specific instances\n",
        "cost = ampl.get_parameter(\"cost\")\n",
        "cost.set_values({\"BEEF\": 5.01, \"HAM\": 4.55})\n",
        "print(\"Increased costs of beef and ham.\")\n",
        "\n",
        "# Resolve and display objective\n",
        "ampl.solve()\n",
        "assert ampl.solve_result == \"solved\"\n",
        "\n",
        "print(\"New objective value:\", totalcost.value())"
      ]
    },
    {
      "cell_type": "markdown",
      "metadata": {
        "id": "-Mj4AP9Qy60F"
      },
      "source": [
        "### Reassign data for all instances and resolve"
      ]
    },
    {
      "cell_type": "code",
      "execution_count": 7,
      "metadata": {
        "colab": {
          "base_uri": "https://localhost:8080/"
        },
        "id": "j3j84nkVy6SD",
        "outputId": "a0e7dd44-72cf-476b-9b7e-95bc30c1e86f"
      },
      "outputs": [
        {
          "name": "stdout",
          "output_type": "stream",
          "text": [
            "Updated all costs.\n",
            "HiGHS 1.4.0:HiGHS 1.4.0: optimal solution; objective 164.10625\n",
            "4 simplex iterations\n",
            "0 barrier iterations\n",
            "absmipgap=164.106, relmipgap=inf\n",
            "New objective value: 164.10625\n"
          ]
        }
      ],
      "source": [
        "# Reassign data - all instances\n",
        "cost.set_values(\n",
        "    {\n",
        "        \"BEEF\": 3,\n",
        "        \"CHK\": 5,\n",
        "        \"FISH\": 5,\n",
        "        \"HAM\": 6,\n",
        "        \"MCH\": 1,\n",
        "        \"MTL\": 2,\n",
        "        \"SPG\": 5.01,\n",
        "        \"TUR\": 4.55,\n",
        "    }\n",
        ")\n",
        "print(\"Updated all costs.\")\n",
        "\n",
        "# Resolve and display objective\n",
        "ampl.solve()\n",
        "assert ampl.solve_result == \"solved\"\n",
        "\n",
        "print(\"New objective value:\", totalcost.value())"
      ]
    },
    {
      "cell_type": "markdown",
      "metadata": {
        "id": "zmmo0fWhzFPi"
      },
      "source": [
        "## Get the values of the variable Buy in a pandas.DataFrame object"
      ]
    },
    {
      "cell_type": "code",
      "execution_count": 8,
      "metadata": {
        "colab": {
          "base_uri": "https://localhost:8080/",
          "height": 300
        },
        "id": "5BFTCHMyzEOg",
        "outputId": "dff4e71f-929c-4535-c74d-701cd3d7075a"
      },
      "outputs": [
        {
          "data": {
            "text/html": [
              "<div>\n",
              "<style scoped>\n",
              "    .dataframe tbody tr th:only-of-type {\n",
              "        vertical-align: middle;\n",
              "    }\n",
              "\n",
              "    .dataframe tbody tr th {\n",
              "        vertical-align: top;\n",
              "    }\n",
              "\n",
              "    .dataframe thead th {\n",
              "        text-align: right;\n",
              "    }\n",
              "</style>\n",
              "<table border=\"1\" class=\"dataframe\">\n",
              "  <thead>\n",
              "    <tr style=\"text-align: right;\">\n",
              "      <th></th>\n",
              "      <th>Buy.val</th>\n",
              "    </tr>\n",
              "  </thead>\n",
              "  <tbody>\n",
              "    <tr>\n",
              "      <th>BEEF</th>\n",
              "      <td>10.000000</td>\n",
              "    </tr>\n",
              "    <tr>\n",
              "      <th>CHK</th>\n",
              "      <td>2.000000</td>\n",
              "    </tr>\n",
              "    <tr>\n",
              "      <th>FISH</th>\n",
              "      <td>2.000000</td>\n",
              "    </tr>\n",
              "    <tr>\n",
              "      <th>HAM</th>\n",
              "      <td>6.851974</td>\n",
              "    </tr>\n",
              "    <tr>\n",
              "      <th>MCH</th>\n",
              "      <td>10.000000</td>\n",
              "    </tr>\n",
              "    <tr>\n",
              "      <th>MTL</th>\n",
              "      <td>10.000000</td>\n",
              "    </tr>\n",
              "    <tr>\n",
              "      <th>SPG</th>\n",
              "      <td>6.765351</td>\n",
              "    </tr>\n",
              "    <tr>\n",
              "      <th>TUR</th>\n",
              "      <td>2.000000</td>\n",
              "    </tr>\n",
              "  </tbody>\n",
              "</table>\n",
              "</div>"
            ],
            "text/plain": [
              "        Buy.val\n",
              "BEEF  10.000000\n",
              "CHK    2.000000\n",
              "FISH   2.000000\n",
              "HAM    6.851974\n",
              "MCH   10.000000\n",
              "MTL   10.000000\n",
              "SPG    6.765351\n",
              "TUR    2.000000"
            ]
          },
          "execution_count": 8,
          "metadata": {},
          "output_type": "execute_result"
        }
      ],
      "source": [
        "df = ampl.get_variable(\"Buy\").to_pandas()\n",
        "df"
      ]
    },
    {
      "cell_type": "markdown",
      "metadata": {
        "id": "E9p--jVyzH7D"
      },
      "source": [
        "## Get the values of an expression into a pandas.DataFrame object"
      ]
    },
    {
      "cell_type": "code",
      "execution_count": 9,
      "metadata": {
        "colab": {
          "base_uri": "https://localhost:8080/",
          "height": 300
        },
        "id": "X-Zj8cWsyzOD",
        "outputId": "9461570f-ddcf-4135-ff71-910fddbb845d"
      },
      "outputs": [
        {
          "data": {
            "text/html": [
              "<div>\n",
              "<style scoped>\n",
              "    .dataframe tbody tr th:only-of-type {\n",
              "        vertical-align: middle;\n",
              "    }\n",
              "\n",
              "    .dataframe tbody tr th {\n",
              "        vertical-align: top;\n",
              "    }\n",
              "\n",
              "    .dataframe thead th {\n",
              "        text-align: right;\n",
              "    }\n",
              "</style>\n",
              "<table border=\"1\" class=\"dataframe\">\n",
              "  <thead>\n",
              "    <tr style=\"text-align: right;\">\n",
              "      <th></th>\n",
              "      <th>100*Buy[j]/(Buy[j].ub)</th>\n",
              "    </tr>\n",
              "  </thead>\n",
              "  <tbody>\n",
              "    <tr>\n",
              "      <th>BEEF</th>\n",
              "      <td>100.000000</td>\n",
              "    </tr>\n",
              "    <tr>\n",
              "      <th>CHK</th>\n",
              "      <td>20.000000</td>\n",
              "    </tr>\n",
              "    <tr>\n",
              "      <th>FISH</th>\n",
              "      <td>20.000000</td>\n",
              "    </tr>\n",
              "    <tr>\n",
              "      <th>HAM</th>\n",
              "      <td>68.519737</td>\n",
              "    </tr>\n",
              "    <tr>\n",
              "      <th>MCH</th>\n",
              "      <td>100.000000</td>\n",
              "    </tr>\n",
              "    <tr>\n",
              "      <th>MTL</th>\n",
              "      <td>100.000000</td>\n",
              "    </tr>\n",
              "    <tr>\n",
              "      <th>SPG</th>\n",
              "      <td>67.653509</td>\n",
              "    </tr>\n",
              "    <tr>\n",
              "      <th>TUR</th>\n",
              "      <td>20.000000</td>\n",
              "    </tr>\n",
              "  </tbody>\n",
              "</table>\n",
              "</div>"
            ],
            "text/plain": [
              "      100*Buy[j]/(Buy[j].ub)\n",
              "BEEF              100.000000\n",
              "CHK                20.000000\n",
              "FISH               20.000000\n",
              "HAM                68.519737\n",
              "MCH               100.000000\n",
              "MTL               100.000000\n",
              "SPG                67.653509\n",
              "TUR                20.000000"
            ]
          },
          "execution_count": 9,
          "metadata": {},
          "output_type": "execute_result"
        }
      ],
      "source": [
        "df = ampl.get_data(\"{j in FOOD} 100*Buy[j]/Buy[j].ub\").to_pandas()\n",
        "df"
      ]
    }
  ],
  "metadata": {
    "colab": {
      "provenance": []
    },
    "kernelspec": {
      "display_name": "Python 3",
      "language": "python",
      "name": "python3"
    },
    "language_info": {
      "codemirror_mode": {
        "name": "ipython",
        "version": 3
      },
      "file_extension": ".py",
      "mimetype": "text/x-python",
      "name": "python",
      "nbconvert_exporter": "python",
      "pygments_lexer": "ipython3",
      "version": "3.9.13"
    },
    "vscode": {
      "interpreter": {
        "hash": "24209f11fee719204716071d008026089e3b3353af3d540e4dfc4f270a7a7039"
      }
    }
  },
  "nbformat": 4,
  "nbformat_minor": 0
}
