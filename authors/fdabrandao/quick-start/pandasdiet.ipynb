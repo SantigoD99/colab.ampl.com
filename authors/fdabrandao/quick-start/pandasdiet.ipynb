{
  "cells": [
    {
      "attachments": {},
      "cell_type": "markdown",
      "metadata": {
        "id": "gprACN0E2fRM"
      },
      "source": [
        "# Quick Start using Pandas dataframes\n",
        "[![pandasdiet.ipynb](https://img.shields.io/badge/github-%23121011.svg?logo=github)](https://github.com/ampl/colab.ampl.com/blob/master/authors/fdabrandao/quick-start/pandasdiet.ipynb) [![Open In Colab](https://colab.research.google.com/assets/colab-badge.svg)](https://colab.research.google.com/github/ampl/colab.ampl.com/blob/master/authors/fdabrandao/quick-start/pandasdiet.ipynb) [![Open In Deepnote](https://deepnote.com/buttons/launch-in-deepnote-small.svg)](https://deepnote.com/launch?url=https://github.com/ampl/colab.ampl.com/blob/master/authors/fdabrandao/quick-start/pandasdiet.ipynb) [![Open In Kaggle](https://kaggle.com/static/images/open-in-kaggle.svg)](https://kaggle.com/kernels/welcome?src=https://github.com/ampl/colab.ampl.com/blob/master/authors/fdabrandao/quick-start/pandasdiet.ipynb) [![Open In Gradient](https://assets.paperspace.io/img/gradient-badge.svg)](https://console.paperspace.com/github/ampl/colab.ampl.com/blob/master/authors/fdabrandao/quick-start/pandasdiet.ipynb) [![Open In SageMaker Studio Lab](https://studiolab.sagemaker.aws/studiolab.svg)](https://studiolab.sagemaker.aws/import/github/ampl/colab.ampl.com/blob/master/authors/fdabrandao/quick-start/pandasdiet.ipynb) [![Powered by AMPL](https://h.ampl.com/https://github.com/ampl/colab.ampl.com/blob/master/authors/fdabrandao/quick-start/pandasdiet.ipynb)](https://ampl.com)\n",
        "\n",
        "Description: Quick Start using Pandas dataframes to load and retrieve data\n",
        "\n",
        "Tags: amplpy, quick-start, pandas, highlights\n",
        "\n",
        "Notebook author: Filipe Brandão <<fdabrandao@gmail.com>>"
      ]
    },
    {
      "cell_type": "code",
      "execution_count": 1,
      "metadata": {
        "id": "N_yOBcbj3Ozx"
      },
      "outputs": [],
      "source": [
        "# Install dependencies\n",
        "%pip install -q amplpy pandas numpy"
      ]
    },
    {
      "cell_type": "code",
      "execution_count": 2,
      "metadata": {
        "colab": {
          "base_uri": "https://localhost:8080/"
        },
        "id": "YZotGiKU3RZY",
        "outputId": "7d87d878-a777-4e23-bf76-cb79a333aba6"
      },
      "outputs": [],
      "source": [
        "# Google Colab & Kaggle integration\n",
        "from amplpy import AMPL, ampl_notebook\n",
        "\n",
        "ampl = ampl_notebook(\n",
        "    modules=[\"highs\"],  # modules to install\n",
        "    license_uuid=\"default\",  # license to use\n",
        ")  # instantiate AMPL object and register magics"
      ]
    },
    {
      "attachments": {},
      "cell_type": "markdown",
      "metadata": {
        "id": "BZ5JZD0FzXAg"
      },
      "source": [
        "## Diet Model\n",
        "\n",
        "Consider the problem of choosing prepared foods to meet certain nutritional requirements.\n",
        "\n",
        "Sets:\n",
        "- `NUTR`: set of nutrients to consider\n",
        "- `FOOD`: set of food to consider\n",
        "\n",
        "Parameters:\n",
        "- `cost {FOOD}`: cost of each food\n",
        "- `f_min {FOOD}`: minimum amount of food to buy\n",
        "- `f_max {FOOD}`: maximum amount of food to buy\n",
        "- `n_min {NUTR}`: minimum amount required of each nutrient\n",
        "- `n_max {NUTR}`: maximum amount allowed of each nutrient\n",
        "- `amt {NUTR, FOOD}`: amount of each nutrient in each food\n",
        "\n",
        "Variables:\n",
        "- `Buy {FOOD}`: amount of food to buy\n",
        "\n",
        "Objective:\n",
        "- `Total_Cost`: total cost of the diet\n",
        "\n",
        "Constraints:\n",
        "- `Diet {NUTR}`: ensure that the nutritional requirements are satisfied by the diet. \n",
        "\n",
        "The problem is then modeled as follows:"
      ]
    },
    {
      "cell_type": "code",
      "execution_count": 3,
      "metadata": {
        "id": "4oBfIvMzbnvk"
      },
      "outputs": [],
      "source": [
        "%%ampl_eval\n",
        "reset;\n",
        "set NUTR;\n",
        "set FOOD;\n",
        "\n",
        "param cost {FOOD} > 0;\n",
        "param f_min {FOOD} >= 0;\n",
        "param f_max {j in FOOD} >= f_min[j];\n",
        "\n",
        "param n_min {NUTR} >= 0;\n",
        "param n_max {i in NUTR} >= n_min[i];\n",
        "\n",
        "param amt {NUTR,FOOD} >= 0;\n",
        "\n",
        "var Buy {j in FOOD} >= f_min[j], <= f_max[j];\n",
        "\n",
        "minimize Total_Cost:  sum {j in FOOD} cost[j] * Buy[j];\n",
        "\n",
        "subject to Diet {i in NUTR}:\n",
        "n_min[i] <= sum {j in FOOD} amt[i,j] * Buy[j] <= n_max[i];"
      ]
    },
    {
      "attachments": {},
      "cell_type": "markdown",
      "metadata": {
        "id": "DVPF1DQixgSl"
      },
      "source": [
        "## Prepare `pandas.DataFrame` objects will all the data"
      ]
    },
    {
      "cell_type": "code",
      "execution_count": 4,
      "metadata": {
        "id": "-L5H4Wzoxd36"
      },
      "outputs": [],
      "source": [
        "import pandas as pd\n",
        "import numpy as np\n",
        "\n",
        "food_df = pd.DataFrame(\n",
        "    [\n",
        "        (\"BEEF\", 3.59, 2, 10),\n",
        "        (\"CHK\", 2.59, 2, 10),\n",
        "        (\"FISH\", 2.29, 2, 10),\n",
        "        (\"HAM\", 2.89, 2, 10),\n",
        "        (\"MCH\", 1.89, 2, 10),\n",
        "        (\"MTL\", 1.99, 2, 10),\n",
        "        (\"SPG\", 1.99, 2, 10),\n",
        "        (\"TUR\", 2.49, 2, 10),\n",
        "    ],\n",
        "    columns=[\"FOOD\", \"cost\", \"f_min\", \"f_max\"],\n",
        ").set_index(\"FOOD\")\n",
        "\n",
        "# Create a pandas.DataFrame with data for n_min, n_max\n",
        "nutr_df = pd.DataFrame(\n",
        "    [\n",
        "        (\"A\", 700, 20000),\n",
        "        (\"C\", 700, 20000),\n",
        "        (\"B1\", 700, 20000),\n",
        "        (\"B2\", 700, 20000),\n",
        "        (\"NA\", 0, 50000),\n",
        "        (\"CAL\", 16000, 24000),\n",
        "    ],\n",
        "    columns=[\"NUTR\", \"n_min\", \"n_max\"],\n",
        ").set_index(\"NUTR\")\n",
        "\n",
        "amt_df = pd.DataFrame(\n",
        "    np.matrix(\n",
        "        [\n",
        "            [60, 8, 8, 40, 15, 70, 25, 60],\n",
        "            [20, 0, 10, 40, 35, 30, 50, 20],\n",
        "            [10, 20, 15, 35, 15, 15, 25, 15],\n",
        "            [15, 20, 10, 10, 15, 15, 15, 10],\n",
        "            [928, 2180, 945, 278, 1182, 896, 1329, 1397],\n",
        "            [295, 770, 440, 430, 315, 400, 379, 450],\n",
        "        ]\n",
        "    ),\n",
        "    columns=food_df.index.tolist(),\n",
        "    index=nutr_df.index.tolist(),\n",
        ")"
      ]
    },
    {
      "attachments": {},
      "cell_type": "markdown",
      "metadata": {
        "id": "RtOMAi0KzobG"
      },
      "source": [
        "## Pandas dataframes\n",
        "\n",
        "Cost, minimum, and maximum amount of each food:"
      ]
    },
    {
      "cell_type": "code",
      "execution_count": 5,
      "metadata": {
        "colab": {
          "base_uri": "https://localhost:8080/",
          "height": 332
        },
        "id": "dlA9U_2Vzg28",
        "outputId": "64ebdbf5-9980-4b2c-a03c-87624cbd4d63"
      },
      "outputs": [
        {
          "data": {
            "text/html": [
              "<div>\n",
              "<style scoped>\n",
              "    .dataframe tbody tr th:only-of-type {\n",
              "        vertical-align: middle;\n",
              "    }\n",
              "\n",
              "    .dataframe tbody tr th {\n",
              "        vertical-align: top;\n",
              "    }\n",
              "\n",
              "    .dataframe thead th {\n",
              "        text-align: right;\n",
              "    }\n",
              "</style>\n",
              "<table border=\"1\" class=\"dataframe\">\n",
              "  <thead>\n",
              "    <tr style=\"text-align: right;\">\n",
              "      <th></th>\n",
              "      <th>cost</th>\n",
              "      <th>f_min</th>\n",
              "      <th>f_max</th>\n",
              "    </tr>\n",
              "    <tr>\n",
              "      <th>FOOD</th>\n",
              "      <th></th>\n",
              "      <th></th>\n",
              "      <th></th>\n",
              "    </tr>\n",
              "  </thead>\n",
              "  <tbody>\n",
              "    <tr>\n",
              "      <th>BEEF</th>\n",
              "      <td>3.59</td>\n",
              "      <td>2</td>\n",
              "      <td>10</td>\n",
              "    </tr>\n",
              "    <tr>\n",
              "      <th>CHK</th>\n",
              "      <td>2.59</td>\n",
              "      <td>2</td>\n",
              "      <td>10</td>\n",
              "    </tr>\n",
              "    <tr>\n",
              "      <th>FISH</th>\n",
              "      <td>2.29</td>\n",
              "      <td>2</td>\n",
              "      <td>10</td>\n",
              "    </tr>\n",
              "    <tr>\n",
              "      <th>HAM</th>\n",
              "      <td>2.89</td>\n",
              "      <td>2</td>\n",
              "      <td>10</td>\n",
              "    </tr>\n",
              "    <tr>\n",
              "      <th>MCH</th>\n",
              "      <td>1.89</td>\n",
              "      <td>2</td>\n",
              "      <td>10</td>\n",
              "    </tr>\n",
              "    <tr>\n",
              "      <th>MTL</th>\n",
              "      <td>1.99</td>\n",
              "      <td>2</td>\n",
              "      <td>10</td>\n",
              "    </tr>\n",
              "    <tr>\n",
              "      <th>SPG</th>\n",
              "      <td>1.99</td>\n",
              "      <td>2</td>\n",
              "      <td>10</td>\n",
              "    </tr>\n",
              "    <tr>\n",
              "      <th>TUR</th>\n",
              "      <td>2.49</td>\n",
              "      <td>2</td>\n",
              "      <td>10</td>\n",
              "    </tr>\n",
              "  </tbody>\n",
              "</table>\n",
              "</div>"
            ],
            "text/plain": [
              "      cost  f_min  f_max\n",
              "FOOD                    \n",
              "BEEF  3.59      2     10\n",
              "CHK   2.59      2     10\n",
              "FISH  2.29      2     10\n",
              "HAM   2.89      2     10\n",
              "MCH   1.89      2     10\n",
              "MTL   1.99      2     10\n",
              "SPG   1.99      2     10\n",
              "TUR   2.49      2     10"
            ]
          },
          "execution_count": 5,
          "metadata": {},
          "output_type": "execute_result"
        }
      ],
      "source": [
        "food_df"
      ]
    },
    {
      "attachments": {},
      "cell_type": "markdown",
      "metadata": {
        "id": "6QHGKGRl1Sgw"
      },
      "source": [
        "Minimum and maximum amounts of each nutrient:"
      ]
    },
    {
      "cell_type": "code",
      "execution_count": 6,
      "metadata": {
        "colab": {
          "base_uri": "https://localhost:8080/",
          "height": 269
        },
        "id": "-nSsA-qBzjz5",
        "outputId": "5a1c70b5-7e69-4dba-c595-8be75a514c61"
      },
      "outputs": [
        {
          "data": {
            "text/html": [
              "<div>\n",
              "<style scoped>\n",
              "    .dataframe tbody tr th:only-of-type {\n",
              "        vertical-align: middle;\n",
              "    }\n",
              "\n",
              "    .dataframe tbody tr th {\n",
              "        vertical-align: top;\n",
              "    }\n",
              "\n",
              "    .dataframe thead th {\n",
              "        text-align: right;\n",
              "    }\n",
              "</style>\n",
              "<table border=\"1\" class=\"dataframe\">\n",
              "  <thead>\n",
              "    <tr style=\"text-align: right;\">\n",
              "      <th></th>\n",
              "      <th>n_min</th>\n",
              "      <th>n_max</th>\n",
              "    </tr>\n",
              "    <tr>\n",
              "      <th>NUTR</th>\n",
              "      <th></th>\n",
              "      <th></th>\n",
              "    </tr>\n",
              "  </thead>\n",
              "  <tbody>\n",
              "    <tr>\n",
              "      <th>A</th>\n",
              "      <td>700</td>\n",
              "      <td>20000</td>\n",
              "    </tr>\n",
              "    <tr>\n",
              "      <th>C</th>\n",
              "      <td>700</td>\n",
              "      <td>20000</td>\n",
              "    </tr>\n",
              "    <tr>\n",
              "      <th>B1</th>\n",
              "      <td>700</td>\n",
              "      <td>20000</td>\n",
              "    </tr>\n",
              "    <tr>\n",
              "      <th>B2</th>\n",
              "      <td>700</td>\n",
              "      <td>20000</td>\n",
              "    </tr>\n",
              "    <tr>\n",
              "      <th>NA</th>\n",
              "      <td>0</td>\n",
              "      <td>50000</td>\n",
              "    </tr>\n",
              "    <tr>\n",
              "      <th>CAL</th>\n",
              "      <td>16000</td>\n",
              "      <td>24000</td>\n",
              "    </tr>\n",
              "  </tbody>\n",
              "</table>\n",
              "</div>"
            ],
            "text/plain": [
              "      n_min  n_max\n",
              "NUTR              \n",
              "A       700  20000\n",
              "C       700  20000\n",
              "B1      700  20000\n",
              "B2      700  20000\n",
              "NA        0  50000\n",
              "CAL   16000  24000"
            ]
          },
          "execution_count": 6,
          "metadata": {},
          "output_type": "execute_result"
        }
      ],
      "source": [
        "nutr_df"
      ]
    },
    {
      "attachments": {},
      "cell_type": "markdown",
      "metadata": {
        "id": "mJ_3H1QA1hvY"
      },
      "source": [
        "Amount of each nutrient in each food:"
      ]
    },
    {
      "cell_type": "code",
      "execution_count": 7,
      "metadata": {
        "colab": {
          "base_uri": "https://localhost:8080/",
          "height": 300
        },
        "id": "GQD03caEzlX4",
        "outputId": "254e49e0-f961-4f5f-8767-c3e855d15ae5"
      },
      "outputs": [
        {
          "data": {
            "text/html": [
              "<div>\n",
              "<style scoped>\n",
              "    .dataframe tbody tr th:only-of-type {\n",
              "        vertical-align: middle;\n",
              "    }\n",
              "\n",
              "    .dataframe tbody tr th {\n",
              "        vertical-align: top;\n",
              "    }\n",
              "\n",
              "    .dataframe thead th {\n",
              "        text-align: right;\n",
              "    }\n",
              "</style>\n",
              "<table border=\"1\" class=\"dataframe\">\n",
              "  <thead>\n",
              "    <tr style=\"text-align: right;\">\n",
              "      <th></th>\n",
              "      <th>A</th>\n",
              "      <th>C</th>\n",
              "      <th>B1</th>\n",
              "      <th>B2</th>\n",
              "      <th>NA</th>\n",
              "      <th>CAL</th>\n",
              "    </tr>\n",
              "  </thead>\n",
              "  <tbody>\n",
              "    <tr>\n",
              "      <th>BEEF</th>\n",
              "      <td>60</td>\n",
              "      <td>20</td>\n",
              "      <td>10</td>\n",
              "      <td>15</td>\n",
              "      <td>928</td>\n",
              "      <td>295</td>\n",
              "    </tr>\n",
              "    <tr>\n",
              "      <th>CHK</th>\n",
              "      <td>8</td>\n",
              "      <td>0</td>\n",
              "      <td>20</td>\n",
              "      <td>20</td>\n",
              "      <td>2180</td>\n",
              "      <td>770</td>\n",
              "    </tr>\n",
              "    <tr>\n",
              "      <th>FISH</th>\n",
              "      <td>8</td>\n",
              "      <td>10</td>\n",
              "      <td>15</td>\n",
              "      <td>10</td>\n",
              "      <td>945</td>\n",
              "      <td>440</td>\n",
              "    </tr>\n",
              "    <tr>\n",
              "      <th>HAM</th>\n",
              "      <td>40</td>\n",
              "      <td>40</td>\n",
              "      <td>35</td>\n",
              "      <td>10</td>\n",
              "      <td>278</td>\n",
              "      <td>430</td>\n",
              "    </tr>\n",
              "    <tr>\n",
              "      <th>MCH</th>\n",
              "      <td>15</td>\n",
              "      <td>35</td>\n",
              "      <td>15</td>\n",
              "      <td>15</td>\n",
              "      <td>1182</td>\n",
              "      <td>315</td>\n",
              "    </tr>\n",
              "    <tr>\n",
              "      <th>MTL</th>\n",
              "      <td>70</td>\n",
              "      <td>30</td>\n",
              "      <td>15</td>\n",
              "      <td>15</td>\n",
              "      <td>896</td>\n",
              "      <td>400</td>\n",
              "    </tr>\n",
              "    <tr>\n",
              "      <th>SPG</th>\n",
              "      <td>25</td>\n",
              "      <td>50</td>\n",
              "      <td>25</td>\n",
              "      <td>15</td>\n",
              "      <td>1329</td>\n",
              "      <td>379</td>\n",
              "    </tr>\n",
              "    <tr>\n",
              "      <th>TUR</th>\n",
              "      <td>60</td>\n",
              "      <td>20</td>\n",
              "      <td>15</td>\n",
              "      <td>10</td>\n",
              "      <td>1397</td>\n",
              "      <td>450</td>\n",
              "    </tr>\n",
              "  </tbody>\n",
              "</table>\n",
              "</div>"
            ],
            "text/plain": [
              "       A   C  B1  B2    NA  CAL\n",
              "BEEF  60  20  10  15   928  295\n",
              "CHK    8   0  20  20  2180  770\n",
              "FISH   8  10  15  10   945  440\n",
              "HAM   40  40  35  10   278  430\n",
              "MCH   15  35  15  15  1182  315\n",
              "MTL   70  30  15  15   896  400\n",
              "SPG   25  50  25  15  1329  379\n",
              "TUR   60  20  15  10  1397  450"
            ]
          },
          "execution_count": 7,
          "metadata": {},
          "output_type": "execute_result"
        }
      ],
      "source": [
        "amt_df"
      ]
    },
    {
      "attachments": {},
      "cell_type": "markdown",
      "metadata": {
        "id": "tYA-jeGUxujz"
      },
      "source": [
        "## Load the data from the `pandas.DataFrame` objects"
      ]
    },
    {
      "cell_type": "code",
      "execution_count": 8,
      "metadata": {
        "id": "6CPg9YzCxuTT"
      },
      "outputs": [],
      "source": [
        "# 1. Send the data from \"amt_df\" to AMPL and initialize the indexing set \"FOOD\"\n",
        "ampl.set_data(food_df, \"FOOD\")\n",
        "# 2. Send the data from \"nutr_df\" to AMPL and initialize the indexing set \"NUTR\"\n",
        "ampl.set_data(nutr_df, \"NUTR\")\n",
        "# 3. Set the values for the parameter \"amt\" using \"amt_df\"\n",
        "ampl.get_parameter(\"amt\").set_values(amt_df)"
      ]
    },
    {
      "attachments": {},
      "cell_type": "markdown",
      "metadata": {
        "id": "6NnyUc2qxzIM"
      },
      "source": [
        "## Solve with HiGHS"
      ]
    },
    {
      "cell_type": "code",
      "execution_count": 9,
      "metadata": {
        "colab": {
          "base_uri": "https://localhost:8080/"
        },
        "id": "11ojqR5JyVqB",
        "outputId": "7cd7ae32-e9b8-45f0-d232-82f23832f1c8"
      },
      "outputs": [
        {
          "name": "stdout",
          "output_type": "stream",
          "text": [
            "HiGHS 1.4.0:HiGHS 1.4.0: optimal solution; objective 119.9897589\n",
            "4 simplex iterations\n",
            "0 barrier iterations\n",
            "absmipgap=119.99, relmipgap=inf\n",
            "Objective is: 119.98975893599335\n"
          ]
        }
      ],
      "source": [
        "# Solve and specify the solver to use (e.g., HiGHS)\n",
        "ampl.solve(solver=\"highs\")\n",
        "assert ampl.solve_result == \"solved\", ampl.solve_result\n",
        "# Get objective entity by AMPL name\n",
        "totalcost = ampl.get_objective(\"Total_Cost\")\n",
        "# Print it\n",
        "print(\"Objective is:\", totalcost.value())"
      ]
    },
    {
      "attachments": {},
      "cell_type": "markdown",
      "metadata": {
        "id": "rrwelmdwygur"
      },
      "source": [
        "## Reassign data for specific instances and resolve"
      ]
    },
    {
      "cell_type": "code",
      "execution_count": 10,
      "metadata": {
        "colab": {
          "base_uri": "https://localhost:8080/"
        },
        "id": "plPCDhdhjivI",
        "outputId": "9f77f712-afcb-4bea-eaee-b1f0471bdaff"
      },
      "outputs": [
        {
          "name": "stdout",
          "output_type": "stream",
          "text": [
            "Increased costs of beef and ham.\n",
            "HiGHS 1.4.0:HiGHS 1.4.0: optimal solution; objective 144.0120033\n",
            "0 simplex iterations\n",
            "0 barrier iterations\n",
            "absmipgap=144.012, relmipgap=inf\n",
            "New objective value: 144.01200332502077\n"
          ]
        }
      ],
      "source": [
        "# Reassign data - specific instances\n",
        "cost = ampl.get_parameter(\"cost\")\n",
        "cost.set_values({\"BEEF\": 5.01, \"HAM\": 4.55})\n",
        "print(\"Increased costs of beef and ham.\")\n",
        "\n",
        "# Resolve and display objective\n",
        "ampl.solve(solver=\"highs\")\n",
        "assert ampl.solve_result == \"solved\", ampl.solve_result\n",
        "print(\"New objective value:\", totalcost.value())"
      ]
    },
    {
      "attachments": {},
      "cell_type": "markdown",
      "metadata": {
        "id": "-Mj4AP9Qy60F"
      },
      "source": [
        "### Reassign data for all instances and resolve"
      ]
    },
    {
      "cell_type": "code",
      "execution_count": 11,
      "metadata": {
        "colab": {
          "base_uri": "https://localhost:8080/"
        },
        "id": "j3j84nkVy6SD",
        "outputId": "ab75fc49-701a-4543-b7b6-51bdd606b775"
      },
      "outputs": [
        {
          "name": "stdout",
          "output_type": "stream",
          "text": [
            "Updated all costs.\n",
            "HiGHS 1.4.0:HiGHS 1.4.0: optimal solution; objective 164.10625\n",
            "4 simplex iterations\n",
            "0 barrier iterations\n",
            "absmipgap=164.106, relmipgap=inf\n",
            "New objective value: 164.10625\n"
          ]
        }
      ],
      "source": [
        "# Reassign data - all instances\n",
        "cost.set_values(\n",
        "    {\n",
        "        \"BEEF\": 3,\n",
        "        \"CHK\": 5,\n",
        "        \"FISH\": 5,\n",
        "        \"HAM\": 6,\n",
        "        \"MCH\": 1,\n",
        "        \"MTL\": 2,\n",
        "        \"SPG\": 5.01,\n",
        "        \"TUR\": 4.55,\n",
        "    }\n",
        ")\n",
        "print(\"Updated all costs.\")\n",
        "\n",
        "# Resolve and display objective\n",
        "ampl.solve(solver=\"highs\")\n",
        "assert ampl.solve_result == \"solved\", ampl.solve_result\n",
        "print(\"New objective value:\", totalcost.value())"
      ]
    },
    {
      "attachments": {},
      "cell_type": "markdown",
      "metadata": {
        "id": "zmmo0fWhzFPi"
      },
      "source": [
        "## Get the values of the variable Buy in a pandas.DataFrame object"
      ]
    },
    {
      "cell_type": "code",
      "execution_count": 12,
      "metadata": {
        "colab": {
          "base_uri": "https://localhost:8080/",
          "height": 300
        },
        "id": "5BFTCHMyzEOg",
        "outputId": "3cb92934-9213-41ed-baa5-d05b84a1c54d"
      },
      "outputs": [
        {
          "data": {
            "text/html": [
              "<div>\n",
              "<style scoped>\n",
              "    .dataframe tbody tr th:only-of-type {\n",
              "        vertical-align: middle;\n",
              "    }\n",
              "\n",
              "    .dataframe tbody tr th {\n",
              "        vertical-align: top;\n",
              "    }\n",
              "\n",
              "    .dataframe thead th {\n",
              "        text-align: right;\n",
              "    }\n",
              "</style>\n",
              "<table border=\"1\" class=\"dataframe\">\n",
              "  <thead>\n",
              "    <tr style=\"text-align: right;\">\n",
              "      <th></th>\n",
              "      <th>Buy.val</th>\n",
              "    </tr>\n",
              "  </thead>\n",
              "  <tbody>\n",
              "    <tr>\n",
              "      <th>BEEF</th>\n",
              "      <td>10.000000</td>\n",
              "    </tr>\n",
              "    <tr>\n",
              "      <th>CHK</th>\n",
              "      <td>2.000000</td>\n",
              "    </tr>\n",
              "    <tr>\n",
              "      <th>FISH</th>\n",
              "      <td>2.000000</td>\n",
              "    </tr>\n",
              "    <tr>\n",
              "      <th>HAM</th>\n",
              "      <td>6.851974</td>\n",
              "    </tr>\n",
              "    <tr>\n",
              "      <th>MCH</th>\n",
              "      <td>10.000000</td>\n",
              "    </tr>\n",
              "    <tr>\n",
              "      <th>MTL</th>\n",
              "      <td>10.000000</td>\n",
              "    </tr>\n",
              "    <tr>\n",
              "      <th>SPG</th>\n",
              "      <td>6.765351</td>\n",
              "    </tr>\n",
              "    <tr>\n",
              "      <th>TUR</th>\n",
              "      <td>2.000000</td>\n",
              "    </tr>\n",
              "  </tbody>\n",
              "</table>\n",
              "</div>"
            ],
            "text/plain": [
              "        Buy.val\n",
              "BEEF  10.000000\n",
              "CHK    2.000000\n",
              "FISH   2.000000\n",
              "HAM    6.851974\n",
              "MCH   10.000000\n",
              "MTL   10.000000\n",
              "SPG    6.765351\n",
              "TUR    2.000000"
            ]
          },
          "execution_count": 12,
          "metadata": {},
          "output_type": "execute_result"
        }
      ],
      "source": [
        "df = ampl.get_variable(\"Buy\").to_pandas()\n",
        "df"
      ]
    },
    {
      "attachments": {},
      "cell_type": "markdown",
      "metadata": {
        "id": "E9p--jVyzH7D"
      },
      "source": [
        "## Get the values of an expression into a pandas.DataFrame object"
      ]
    },
    {
      "cell_type": "code",
      "execution_count": 13,
      "metadata": {
        "colab": {
          "base_uri": "https://localhost:8080/",
          "height": 300
        },
        "id": "X-Zj8cWsyzOD",
        "outputId": "6f9381fe-c329-4aab-91ed-69041e1d3170"
      },
      "outputs": [
        {
          "data": {
            "text/html": [
              "<div>\n",
              "<style scoped>\n",
              "    .dataframe tbody tr th:only-of-type {\n",
              "        vertical-align: middle;\n",
              "    }\n",
              "\n",
              "    .dataframe tbody tr th {\n",
              "        vertical-align: top;\n",
              "    }\n",
              "\n",
              "    .dataframe thead th {\n",
              "        text-align: right;\n",
              "    }\n",
              "</style>\n",
              "<table border=\"1\" class=\"dataframe\">\n",
              "  <thead>\n",
              "    <tr style=\"text-align: right;\">\n",
              "      <th></th>\n",
              "      <th>100*Buy[j]/(Buy[j].ub)</th>\n",
              "    </tr>\n",
              "  </thead>\n",
              "  <tbody>\n",
              "    <tr>\n",
              "      <th>BEEF</th>\n",
              "      <td>100.000000</td>\n",
              "    </tr>\n",
              "    <tr>\n",
              "      <th>CHK</th>\n",
              "      <td>20.000000</td>\n",
              "    </tr>\n",
              "    <tr>\n",
              "      <th>FISH</th>\n",
              "      <td>20.000000</td>\n",
              "    </tr>\n",
              "    <tr>\n",
              "      <th>HAM</th>\n",
              "      <td>68.519737</td>\n",
              "    </tr>\n",
              "    <tr>\n",
              "      <th>MCH</th>\n",
              "      <td>100.000000</td>\n",
              "    </tr>\n",
              "    <tr>\n",
              "      <th>MTL</th>\n",
              "      <td>100.000000</td>\n",
              "    </tr>\n",
              "    <tr>\n",
              "      <th>SPG</th>\n",
              "      <td>67.653509</td>\n",
              "    </tr>\n",
              "    <tr>\n",
              "      <th>TUR</th>\n",
              "      <td>20.000000</td>\n",
              "    </tr>\n",
              "  </tbody>\n",
              "</table>\n",
              "</div>"
            ],
            "text/plain": [
              "      100*Buy[j]/(Buy[j].ub)\n",
              "BEEF              100.000000\n",
              "CHK                20.000000\n",
              "FISH               20.000000\n",
              "HAM                68.519737\n",
              "MCH               100.000000\n",
              "MTL               100.000000\n",
              "SPG                67.653509\n",
              "TUR                20.000000"
            ]
          },
          "execution_count": 13,
          "metadata": {},
          "output_type": "execute_result"
        }
      ],
      "source": [
        "df = ampl.get_data(\"{j in FOOD} 100*Buy[j]/Buy[j].ub\").to_pandas()\n",
        "df"
      ]
    }
  ],
  "metadata": {
    "colab": {
      "provenance": []
    },
    "kernelspec": {
      "display_name": "Python 3",
      "language": "python",
      "name": "python3"
    },
    "language_info": {
      "codemirror_mode": {
        "name": "ipython",
        "version": 3
      },
      "file_extension": ".py",
      "mimetype": "text/x-python",
      "name": "python",
      "nbconvert_exporter": "python",
      "pygments_lexer": "ipython3",
      "version": "3.9.13"
    },
    "vscode": {
      "interpreter": {
        "hash": "24209f11fee719204716071d008026089e3b3353af3d540e4dfc4f270a7a7039"
      }
    }
  },
  "nbformat": 4,
  "nbformat_minor": 0
}
