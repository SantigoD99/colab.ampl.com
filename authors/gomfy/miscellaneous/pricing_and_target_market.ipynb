{
  "cells": [
    {
      "cell_type": "markdown",
      "metadata": {},
      "source": [
        "# Pricing and target-market\n",
        "[![pricing_and_target_market.ipynb](https://img.shields.io/badge/github-%23121011.svg?logo=github)](https://github.com/ampl/colab.ampl.com/blob/master/authors/gomfy/miscellaneous/pricing_and_target_market.ipynb) [![Open In Colab](https://colab.research.google.com/assets/colab-badge.svg)](https://colab.research.google.com/github/ampl/colab.ampl.com/blob/master/authors/gomfy/miscellaneous/pricing_and_target_market.ipynb) [![Kaggle](https://kaggle.com/static/images/open-in-kaggle.svg)](https://kaggle.com/kernels/welcome?src=https://github.com/ampl/colab.ampl.com/blob/master/authors/gomfy/miscellaneous/pricing_and_target_market.ipynb) [![Gradient](https://assets.paperspace.io/img/gradient-badge.svg)](https://console.paperspace.com/github/ampl/colab.ampl.com/blob/master/authors/gomfy/miscellaneous/pricing_and_target_market.ipynb) [![Open In SageMaker Studio Lab](https://studiolab.sagemaker.aws/studiolab.svg)](https://studiolab.sagemaker.aws/import/github/ampl/colab.ampl.com/blob/master/authors/gomfy/miscellaneous/pricing_and_target_market.ipynb) [![Hits](https://h.ampl.com/https://github.com/ampl/colab.ampl.com/blob/master/authors/gomfy/miscellaneous/pricing_and_target_market.ipynb)](https://colab.ampl.com)\n",
        "\n",
        "Description: Formulate a pricing optimization and target-market problem as a MILP.\n",
        "\n",
        "Tags: industry, pricing, milp, mip\n",
        "\n",
        "Notebook author: Gyorgy Matyasfalvi <<gyorgy@ampl.com>>\n",
        "\n",
        "Model author: Erwin Kalvelagen\n",
        "\n",
        "References:\n",
        "1. https://stackoverflow.com/questions/60669893/formulating-pricing-optimization-as-milp"
      ]
    },
    {
      "cell_type": "code",
      "execution_count": null,
      "metadata": {},
      "outputs": [],
      "source": [
        "# Install dependencies\n",
        "%pip install -q amplpy pandas"
      ]
    },
    {
      "cell_type": "code",
      "execution_count": null,
      "metadata": {},
      "outputs": [],
      "source": [
        "# Google Colab & Kaggle integration\n",
        "from amplpy import AMPL, ampl_notebook\n",
        "\n",
        "ampl = ampl_notebook(\n",
        "    modules=[\"cplex\"],  # modules to install\n",
        "    license_uuid=\"default\",  # license to use\n",
        ")  # instantiate AMPL object and register magics"
      ]
    },
    {
      "cell_type": "markdown",
      "metadata": {},
      "source": [
        "## Problem formulation\n",
        "We wish to find the optimal combination of a fixed fee $F$ and variable price $p$ for a product.\n",
        "\n",
        "We have $N$ types of clients who each want to purchase quantity $q_i (i \\in N)$ for which they are willing to pay a total price of $w_i (i \\in N)$.\n",
        "\n",
        "Our objective is to pick $F$ and $p$ such that we maximize revenue. \n",
        "\n",
        "We can describe the above problem as a MILP using the following formulation:\n",
        "\n",
        "$$\n",
        "\\begin{align}\n",
        "\\textrm{Objective:}  & \\\\\n",
        "                     & \\max \\sum_{i \\in N} y_i \\\\\n",
        "\\textrm{Subject to:} & \\\\\n",
        "                 s_i & = 1 \\Rightarrow y_i = F+p*q_i \\\\\n",
        "                 s_i & = 0 \\Rightarrow y_i = 0 \\\\\n",
        "                 s_i & \\in \\{0, 1\\} \\\\\n",
        "                   p & \\geq 0 \\\\ \n",
        "                   F & \\geq 0 \\\\\n",
        "                 y_i &\\in [0, w_i] \n",
        "\\end{align}\n",
        "$$\n",
        "\n",
        "Above we introduced binary variables $s_i (i \\in N)$, which indicate whether we can sell our product to client type $i$ (this will reveal our target market), along with defined variables $y_i (i \\in N)$ indicating the total revenue received from client $i$.\n",
        "\n",
        "\n",
        "\n",
        "## Use `amplpy` to solve our pricing model\n",
        "\n",
        "### Predict customer behavior"
      ]
    },
    {
      "cell_type": "code",
      "execution_count": null,
      "metadata": {},
      "outputs": [],
      "source": [
        "# Load modules\n",
        "from amplpy import AMPL\n",
        "\n",
        "\n",
        "# Define dummy prediction functions (in reality these will be a sophisticated ML method)\n",
        "def client_type():\n",
        "    return [\"genx\", \"geny\", \"genz\"]\n",
        "\n",
        "\n",
        "def quantity_pred(client):\n",
        "    if client == \"genx\":\n",
        "        return 5\n",
        "    if client == \"geny\":\n",
        "        return 10\n",
        "    if client == \"genz\":\n",
        "        return 20\n",
        "\n",
        "\n",
        "def wpay_pred(client):\n",
        "    if client == \"genx\":\n",
        "        return 40\n",
        "    if client == \"geny\":\n",
        "        return 45\n",
        "    if client == \"genz\":\n",
        "        return 25"
      ]
    },
    {
      "cell_type": "markdown",
      "metadata": {},
      "source": [
        "### Data prep "
      ]
    },
    {
      "cell_type": "code",
      "execution_count": null,
      "metadata": {},
      "outputs": [],
      "source": [
        "# Generate dictionaries from predictions (to be loaded as AMPL data later)\n",
        "quant_dict = {i: quantity_pred(i) for i in client_type()}\n",
        "wpay_dict = {i: wpay_pred(i) for i in client_type()}"
      ]
    },
    {
      "cell_type": "markdown",
      "metadata": {},
      "source": [
        "### Load AMPL model"
      ]
    },
    {
      "cell_type": "code",
      "execution_count": null,
      "metadata": {},
      "outputs": [],
      "source": [
        "# Define AMPL model\n",
        "ampl = AMPL()\n",
        "ampl.eval(\n",
        "    r\"\"\"\n",
        "    set N;                       # Types of clients\n",
        "    param q{N};                  # Purchase quantity per client type (e.g. GB of data)\n",
        "    param w{N};                  # Client's willingness to pay (e.g. USD per month)\n",
        "    var p >= 0;                  # Variable price (e.g. USD per GB of data)\n",
        "    var F >= 0;                  # Fixed fee (e.g. USD per month)\n",
        "    var s{i in N} binary;        # Ability to sell to client type product\n",
        "    var y{i in N} >=0, <= w[i];  # Revenue received from client\n",
        "\n",
        "    maximize total_revenue:\n",
        "         sum {i in N} y[i];\n",
        "\n",
        "    subject to ic_sell {i in N}:\n",
        "         s[i] = 1 ==> y[i] = F + p*q[i];\n",
        "    subject to ic_no_sell {i in N}:\n",
        "         s[i] = 0 ==> y[i] = 0;\n",
        "    \"\"\"\n",
        ")"
      ]
    },
    {
      "cell_type": "markdown",
      "metadata": {},
      "source": [
        "### Load data"
      ]
    },
    {
      "cell_type": "code",
      "execution_count": null,
      "metadata": {},
      "outputs": [],
      "source": [
        "# Load data into AMPL model\n",
        "ampl.set[\"N\"] = client_type()\n",
        "ampl.param[\"q\"] = quant_dict\n",
        "ampl.param[\"w\"] = wpay_dict"
      ]
    },
    {
      "cell_type": "markdown",
      "metadata": {},
      "source": [
        "### Solve problem and display solution"
      ]
    },
    {
      "cell_type": "code",
      "execution_count": null,
      "metadata": {},
      "outputs": [],
      "source": [
        "# Solve our problem using a solver that can handle logical constraints and MILPs\n",
        "ampl.solve(solver=\"cplex\")\n",
        "assert ampl.solve_result == \"solved\"\n",
        "\n",
        "# Print results\n",
        "tr = ampl.get_objective(\"total_revenue\")\n",
        "print(\"\\n\")\n",
        "print(\"Total revenue is:\", tr.get().value(), \"\\n\")\n",
        "tm_df = ampl.get_variable(\"s\").to_pandas()\n",
        "print(\"Target market:\")\n",
        "tm_sol = tm_df.loc[tm_df[\"s.val\"] == 1]\n",
        "print(tm_sol)"
      ]
    },
    {
      "cell_type": "code",
      "execution_count": null,
      "metadata": {},
      "outputs": [],
      "source": []
    }
  ],
  "metadata": {
    "kernelspec": {
      "display_name": "Python 3 (ipykernel)",
      "language": "python",
      "name": "python3"
    },
    "language_info": {
      "codemirror_mode": {
        "name": "ipython",
        "version": 3
      },
      "file_extension": ".py",
      "mimetype": "text/x-python",
      "name": "python",
      "nbconvert_exporter": "python",
      "pygments_lexer": "ipython3",
      "version": "3.8.10"
    },
    "vscode": {
      "interpreter": {
        "hash": "ee4198aac13dae9b6fccd443041680d99c2643c4956ef7c80ff6dcc0057cb523"
      }
    }
  },
  "nbformat": 4,
  "nbformat_minor": 2
}
