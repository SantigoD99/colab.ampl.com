{
  "cells": [
    {
      "cell_type": "markdown",
      "metadata": {},
      "source": [
        "# Production Model: lemonade stand example \n",
        "[![production_model.ipynb](https://img.shields.io/badge/github-%23121011.svg?logo=github)](https://github.com/ampl/colab.ampl.com/blob/master/authors/gomfy/ampl-lecture/production_model.ipynb) [![Open In Colab](https://colab.research.google.com/assets/colab-badge.svg)](https://colab.research.google.com/github/ampl/colab.ampl.com/blob/master/authors/gomfy/ampl-lecture/production_model.ipynb) [![Kaggle](https://kaggle.com/static/images/open-in-kaggle.svg)](https://kaggle.com/kernels/welcome?src=https://github.com/ampl/colab.ampl.com/blob/master/authors/gomfy/ampl-lecture/production_model.ipynb) [![Gradient](https://assets.paperspace.io/img/gradient-badge.svg)](https://console.paperspace.com/github/ampl/colab.ampl.com/blob/master/authors/gomfy/ampl-lecture/production_model.ipynb) [![Open In SageMaker Studio Lab](https://studiolab.sagemaker.aws/studiolab.svg)](https://studiolab.sagemaker.aws/import/github/ampl/colab.ampl.com/blob/master/authors/gomfy/ampl-lecture/production_model.ipynb) [![Hits](https://h.ampl.com/https://github.com/ampl/colab.ampl.com/blob/master/authors/gomfy/ampl-lecture/production_model.ipynb)](https://colab.ampl.com)\n",
        "\n",
        "Description: Basic introduction to AMPL's indexed entities and the Pygwalker Python package via a lemonade stand example\n",
        "\n",
        "Tags: ampl-lecture, amplpy, ampl, introduction, linear programming, sets, indexing, lemonade stand\n",
        "\n",
        "Notebook author: Gyorgy Matyasfalvi <<gyorgy@ampl.com>>\n",
        "\n",
        "References:\n",
        "\n",
        "* AMPL a Modeling Language for Mathematical Programming -- Robert Fourer et al."
      ]
    },
    {
      "cell_type": "code",
      "execution_count": 1,
      "metadata": {},
      "outputs": [],
      "source": [
        "# Install dependencies\n",
        "%pip install -q amplpy==0.15.0b2 pandas matplotlib"
      ]
    },
    {
      "cell_type": "code",
      "execution_count": 2,
      "metadata": {},
      "outputs": [],
      "source": [
        "# Google Colab & Kaggle integration\n",
        "from amplpy import AMPL, ampl_notebook\n",
        "\n",
        "ampl = ampl_notebook(\n",
        "    modules=[\"open\", \"gurobi\"],  # modules to install\n",
        "    license_uuid=\"default\",  # license to use\n",
        ")  # instantiate AMPL object and register magics"
      ]
    },
    {
      "cell_type": "code",
      "execution_count": 3,
      "metadata": {},
      "outputs": [],
      "source": [
        "# Import all necessary libraries\n",
        "import matplotlib.pyplot as plt\n",
        "import pandas as pd"
      ]
    },
    {
      "cell_type": "markdown",
      "metadata": {},
      "source": [
        "## Modeling and data\n",
        "\n",
        "In the upcoming sections, we will build upon our previous examples to formulate a generic production problem that encompasses both the lemonade and mulled wine scenarios. We’ll delve deeper into the usage of sets in AMPL, explore the creation and use of data files, and further investigate AMPL’s data mode and its interplay with APIs.\n",
        "\n",
        "As demonstrated by the lemonade and mulled wine example, the current approach of hard-coding problem coefficients in our model files necessitates modifications to the model itself each time our problem coefficients change. However, AMPL provides a rich set of features that allow for a convenient separation between our optimization model and its data, such as the problem instance’s coefficients. In AMPL, all model coefficients, such as resource constraints, recipes or profits can be declared as parameters. Values to these parameters can be supplied to AMPL in a separate data file or object, which AMPL can read when in data mode. AMPL’s data mode is optimized for fast ingestion of large data files or objects.\n",
        "\n",
        "Moving forward, we will refer to models where all problem coefficients are expressed as parameters as parametric models. The models we have seen so far were non-parametric because not all coefficients of our optimization model were expressed as parameters.\n",
        "\n",
        "Parametric models offer a more streamlined optimization workflow as they enable us to develop general abstract models applicable to all problems belonging to the same class, independent of the problem instances coefficients."
      ]
    },
    {
      "cell_type": "markdown",
      "metadata": {},
      "source": [
        "## Production problem formulation\n",
        "You may have noticed that the two models we discussed for the lemonade and mulled wine stands are quite similar. \n",
        "In reality, the core optimization problem we solved in each case is the same, only with different data.\n",
        "\n",
        "We express our generic production model as the following integer programming problem:\n",
        "\n",
        "$$\n",
        "\\begin{alignat*}{3}\n",
        "    & \\textrm{Maximize: }   &       & \\sum_{j \\in P} c_{j} x_{j} - C                    & \\\\\n",
        "    & \\textrm{Subject To: } & \\quad & \\sum_{{j \\in P}} a_{ij} x_j \\leq b_i,             & \\forall i \\in I \\\\\n",
        "    &                       & \\quad & \\quad \\quad \\quad  x_{j} \\in \\mathbb{Z},          &\\quad \\forall j \\in P\n",
        "\\end{alignat*}\n",
        "$$\n",
        "\n",
        "Where $P$ is the set of products, $I$ is the set of ingredients, $c_j$ is the profit per unit of product $j$, $x_j$ is the units of product $j$ made, C is a fixed cost, $a_{ij}$ is the usage of ingredient $i$ by unit of product $j$, and $b_i$ is the limit of ingredient $i$.\n",
        "\n",
        "**Fortunately, AMPL allows us to express the production problem introduced above with the same level of abstraction**."
      ]
    },
    {
      "cell_type": "markdown",
      "metadata": {},
      "source": [
        "## Model formulation in AMPL\n",
        "\n",
        "To formulate our generic production model introduced in (1) in AMPL, we have to introduce [sets](#sets), a fundamental component of AMPL.\n",
        "\n",
        "In the next section, we will focus on sets before moving on to formulating the parametric model in AMPL and introducing the associated model file. \n",
        "Once we have established the abstract model, we will talk about data files, which enable us to convert the abstract model into a specific problem instance.\n",
        "\n",
        "### Sets\n",
        "In a typical AMPL model, almost all of the parameters, variables, and constraints are indexed over sets, and many expressions contain operations (usually summations) over sets.\n",
        "Sets are fundamental in AMPL, and the language offers a wide variety of set types and operations.\n",
        "To provide a comprehensive understanding of sets, the AMPL book dedicates two full chapters, [Ch. 5](https://ampl.com/wp-content/uploads/Chapter-5-Simple-Sets-and-Indexing-AMPL-Book.pdf) and [Ch. 6](https://ampl.com/wp-content/uploads/Chapter-6-Compound-Sets-and-Indexing-AMPL-Book.pdf) on this topic, as well as sections A.2, A.3, A.4, and A.6 of the [appendix](https://ampl.com/wp-content/uploads/Appendix-A-AMPL-Book.pdf).\n",
        "\n",
        "For our production model we will declare two sets: one for our products and one for their ingredients.\n",
        "Set declarations in AMPL start with the `set` keyword, followed by a set name and a semicolon.\n",
        "\n",
        "```ampl\n",
        "# Define indexing sets\n",
        "set PROD;\n",
        "set INGR;\n",
        "```\n",
        "\n",
        "We will use these sets in our model to index our model parameters, variables, and constraints. \n",
        "`PROD` will contain product identifiers such as `lemonade` or `ice_tea`, essentially our non-parametric variable names.\n",
        "`INGR` will contain names of our ingredients such as `sugar`, `tea_bag` etc.\n",
        "\n",
        "It's important to note that at this point, we have not assigned any set members to the sets introduced above.\n",
        "Since we want to keep this model completely parametric, we will assign set members in the data file.\n",
        "However, AMPL does allow for set member assignment in the model file if desired, but doing so would not maintain the model's abstract nature.\n",
        "\n",
        "<pre style=\"background-color:None\">\n",
        "<code style=\"background-color:None\">\n",
        "    <span style=\"color: darkgreen; font-weight: bold\">set</span> <i>name alias<sub>opt</sub> indexing<sub>opt</sub> attributes<sub>opt</sub> </i>;\n",
        "\n",
        "    <i>attributes: </i>\n",
        "        <span style=\"color: darkgreen; font-weight: bold\">dimen</span> <i>n</i> \n",
        "        <span style=\"color: darkgreen; font-weight: bold\">within</span> <i>sexpr</i>\n",
        "        = <i>sexpr</i>\n",
        "        <span style=\"color: darkgreen; font-weight: bold\">default</span> <i>sexpr</i>\n",
        "</code>\n",
        "</pre>\n",
        "\n",
        "As noted earlier, here *sexpr* stands for set expression:\n",
        "\n",
        "A set's members may be strings or numbers, ordered or unordered; they may occur singly, or as ordered pairs, triples or longer \"tuples\". \n",
        "Sets may be defined by listing or computing their members explicitly, by applying operations like union and intersection to other sets, or by specifying arbitrary arithmetic or logical conditions for membership.\n",
        "\n",
        "For example, to generate a set whose members are odd numbers between 1 and 10 we can do the following in AMPL:\n",
        "\n",
        "```ampl\n",
        "ampl: set ODDS := {i in 1..10: i mod 2};\n",
        "ampl: display ODDS;\n",
        "set ODDS := 1 3 5 7 9;\n",
        "```\n",
        "\n",
        "The sequence `1..10` generates a dummy set whose members are: `{1, 2, 3, 4, 5, 6, 7, 8, 9, 10}`.\n",
        "Then, for all elements of the set `{1, 2, 3, 4, 5, 6, 7, 8, 9, 10}` AMPL performs the modulo operation specified after the colon.\n",
        "Non-zero return values evaluate to true, and hence odd numbers are included in the set, while the rest are discarded.\n",
        "\n",
        "Returning to our lemonade and mulled wine examples, if we create a set containing all our products: `{'lemonade', 'iced_tea', 'mulled_wine', 'hot_tea'}` and then would like to create another set with all the tea-based products, this can be achieved as follows in AMPL:\n",
        "\n",
        "```ampl\n",
        "ampl: set PROD := {'lemonade', 'iced_tea', 'mulled_wine', 'hot_tea'};\n",
        "ampl: set TEAS := {j in PROD: match(j, '[Tt][Ee][Aa]')}; \n",
        "ampl: display TEAS;\n",
        "set TEAS := iced_tea hot_tea;\n",
        "```\n",
        "\n",
        "For every product, we check the string against the regular expression `[Tt][Ee][Aa]`.\n",
        "If we find a match, then that string will be included in the `TEAS` set.\n",
        "In the example above, we have used one of AMPL's built-in regular expression function to perform the check.\n",
        "For more details regarding built-in string and regular expression functions, refer to [Ch. 13](https://ampl.com/wp-content/uploads/Chapter-13-Command-Scripts-AMPL-Book.pdf) and section A.4.2 of the [appendix](https://ampl.com/wp-content/uploads/Appendix-A-AMPL-Book.pdf) of the AMPL book.\n",
        "\n",
        "\n",
        "In general, any model component such as parameters or variables, as well as iterated operations like `for` or `let` statements, can be indexed over any set using a standard form of indexing expression.\n",
        "Additionally, sets themselves may be declared in collections indexed over other sets.\n",
        "The following sections will cover the indexed model entities necessary for our abstract production model."
      ]
    },
    {
      "cell_type": "markdown",
      "metadata": {},
      "source": [
        "## EXERCISE 8\n",
        "\n",
        "1. In the `%%ampl_eval` code cell below, generate a set named `EVENS` that contains all even numbers between 4 and 19. Begin by defining the range with `param begin` and `param end` parameters. Then construct your set using a condition (aka filter) that checks if the number modulo 2 (`mod 2`) equals zero with the `==` comparison operator. Instead of using the `print` command, utilize `display` to show your results, as it automatically formats the output for better readability.\n",
        "\n",
        "2. Referencing the previously defined `set PROD`, generate a set named `NONTEAS` with all elements that do not represent products categorized as teas. Use the `!` operator to exclude 'tea' products from your results. Utilize `display` to present your findings clearly.\n",
        "\n",
        "3. Use AMPL's built-in `card()` function to determine the cardinality of the `EVENS` set and the modified `NONTEAS` set you worked with in questions 1 and 2, respectively. Employ the `display` statement to report the cardinality of each set separately, which provides the number of elements contained in each set."
      ]
    },
    {
      "cell_type": "markdown",
      "metadata": {},
      "source": [
        "## SOLUTION"
      ]
    },
    {
      "cell_type": "code",
      "execution_count": 4,
      "metadata": {},
      "outputs": [
        {
          "name": "stdout",
          "output_type": "stream",
          "text": [
            "set EVENS := 4 6 8 10 12 14 16 18;\n",
            "\n",
            "set NONTEAS := lemonade mulled_wine;\n",
            "\n",
            "card(EVENS) = 8\n",
            "\n",
            "card(NONTEAS) = 2\n",
            "\n"
          ]
        }
      ],
      "source": [
        "%%ampl_eval\n",
        "reset;\n",
        "param begin := 4;\n",
        "param end := 19;\n",
        "set EVENS := {i in begin..end: i mod 2 == 0};\n",
        "display EVENS;\n",
        "\n",
        "set PROD := {'lemonade', 'iced_tea', 'mulled_wine', 'hot_tea'};\n",
        "set NONTEAS := {j in PROD: !match(j, '[Tt][Ee][Aa]')};\n",
        "display NONTEAS;\n",
        "\n",
        "display card(EVENS);\n",
        "display card(NONTEAS);"
      ]
    },
    {
      "cell_type": "markdown",
      "metadata": {},
      "source": [
        "## Sets Continued\n",
        "\n",
        "AMPL supports operators for standard set operations such as union, intersection, and difference. \n",
        "For instance, we could have derived our set of `NONTEAS` by calculating the difference between `PROD` and `TEAS`. Here's how this can be accomplished:"
      ]
    },
    {
      "cell_type": "code",
      "execution_count": 5,
      "metadata": {},
      "outputs": [
        {
          "name": "stdout",
          "output_type": "stream",
          "text": [
            "set NONTEAS := lemonade mulled_wine;\n",
            "\n",
            "card(NONTEAS) = 2\n",
            "\n"
          ]
        }
      ],
      "source": [
        "%%ampl_eval\n",
        "reset;\n",
        "set PROD := {'lemonade', 'iced_tea', 'mulled_wine', 'hot_tea'};\n",
        "set TEAS := {j in PROD: match(j, '[Tt][Ee][Aa]')};\n",
        "set NONTEAS := PROD diff TEAS;\n",
        "display NONTEAS;\n",
        "display card(NONTEAS);"
      ]
    },
    {
      "cell_type": "markdown",
      "metadata": {},
      "source": [
        "## Indexed variable declarations\n",
        "\n",
        "We begin by declaring our $x_j$ variables. \n",
        "However, in AMPL we can use a descriptive name for them such as `make`.\n",
        "\n",
        "To declare `make` in AMPL, we start with the `var` keyword, followed by the variable name, the **indexing set** enclosed in curly braces, integrality and nonnegativity attributes, and a semicolon.\n",
        "\n",
        "```ampl\n",
        "\n",
        "# Define the decision variables\n",
        "var make{PROD} integer, >= 0;\n",
        "```\n",
        "\n",
        "`make` is indexed over the set `PROD`, which as mentioned earlier will contain all product identifiers for our production model."
      ]
    },
    {
      "cell_type": "markdown",
      "metadata": {},
      "source": [
        "## Indexed parameter declarations\n",
        "We will declare all of the production model coefficients from (1) as parameters.\n",
        "\n",
        "Our fixed cost $C$ will be called `fee` and is not indexed, the only difference here to our earlier model files is that we don't assign any value to fee in the model file.\n",
        "\n",
        "The objective function coefficients $c_j$ indicating the profits per product will be represented by the parameter `profit_per_product` indexed over all products.\n",
        "\n",
        "The right hand side of our constraints $b_i$ will be named `limit` and indexed over all ingredients, as these are our resources limits.\n",
        "\n",
        "Finally, our constraint coefficients $a_{ij}$ are expressed as the `usage` parameter indexed over both the ingredients and the products, this matrix essentially encodes our recipes.\n",
        "\n",
        "In the case of parameters, just like with the variable declarations, the **indexing set** follows the name surrounded by curly braces ending with a semicolon:\n",
        "\n",
        "```ampl\n",
        "# Define model parameters\n",
        "param fee;\n",
        "param profit_per_product{PROD};\n",
        "param limit{INGR};\n",
        "param usage{INGR, PROD};\n",
        "```\n",
        "Our parameters are indexed over the sets `PROD` and `INGR` which, as mentioned earlier, will contain all product and ingredient identifiers for our specific problem instance."
      ]
    },
    {
      "cell_type": "markdown",
      "metadata": {},
      "source": [
        "## Objective declaration\n",
        "While we only have one objective function in (1), the function body: $\\sum_{j \\in P} c_{j} x_{j} - C$ contains an indexed summation.\n",
        "AMPL generalizes indexed operators, such as $\\sum$, by expressions for iterating operations over sets. \n",
        "\n",
        "Our objective declaration is similar to what we have seen before, first specifying the direction of optimization, followed by a name, a colon, an expression, and a semicolon:\n",
        "\n",
        "```ampl\n",
        "# Define the objective function\n",
        "maximize total_profit: \n",
        "    sum {i in PROD} profit_per_product[i] * make[i] - fee;\n",
        "```\n",
        "\n",
        "The keyword `sum` may be followed by any indexing expression. \n",
        "The subsequent arithmetic expression is evaluated once for each member of the index set (in our case `PROD`), and all the resulting values are added. \n",
        "\n",
        "Thus, the sum above represents the total profit made when selling our products.\n",
        "\n",
        "Before moving on to constraints, we mention that AMPL allows you to concisely declare multiple objective functions by indexing them.\n",
        "Since our production model only has one objective function, there is no need for that feature in this model."
      ]
    },
    {
      "cell_type": "markdown",
      "metadata": {},
      "source": [
        "## Indexed constraint declarations\n",
        "\n",
        "In (1) we have a constraint for each ingredient: $\\sum_{j \\in P} a_{ij} x_{j} \\leq b_i,\\; \\forall i \\in I$.\n",
        "Instead of listing each of them individually, as we have done in the past, we can concisely express all our constraint in essentially one line, since our `limit` and `usage` parameters are indexed by ingredients. \n",
        "\n",
        "To declare ingredient constraints in AMPL, we first use the keywords `subject to`, followed by a name, the **indexing set**, a colon, a constraint expression, and a semicolon:\n",
        "\n",
        "```ampl\n",
        "# Define the constraints\n",
        "subject to ingredient_constraints {i in INGR}:\n",
        "    sum {j in PROD} usage[i,j] * make[j] <= limit[i];\n",
        "```\n",
        "\n",
        "The constraint expression following the colon is enforced once for each member of the index set (in our case `INGR`)."
      ]
    },
    {
      "cell_type": "markdown",
      "metadata": {},
      "source": [
        "## The complete model\n",
        "Below we introduce the general production model in its parametric form in AMPL in its entirety. \n",
        "As you can see it looks very similar to the mathematical formulation in (1). \n",
        "\n",
        "```ampl\n",
        "# Define indexing sets\n",
        "set PROD;\n",
        "set INGR;\n",
        "\n",
        "# Define the decision variables\n",
        "var make{PROD} integer, >= 0;\n",
        "\n",
        "# Define model parameters\n",
        "param fee;\n",
        "param profit_per_product{PROD};\n",
        "param limit{INGR};\n",
        "param usage{INGR, PROD};\n",
        "\n",
        "# Define the objective function\n",
        "maximize total_profit: \n",
        "    sum {i in PROD} profit_per_product[i] * make[i] - fee;\n",
        "\n",
        "# Define the constraints\n",
        "subject to ingredient_constraints {i in INGR}:\n",
        "    sum {j in PROD} usage[i,j] * make[j] <= limit[i];\n",
        "```"
      ]
    },
    {
      "cell_type": "markdown",
      "metadata": {},
      "source": [
        "## Solving instances of our production model\n",
        "\n",
        "### Loading the model\n",
        "Let's attempt to access the `production.mod` file located in the `ampl_files/` directory.\n",
        "\n",
        "We will utilize AMPL's built-in `shell` command, which enables us to execute terminal commands from within AMPL—this saves us from having to exit the AMPL environment.\n",
        "\n",
        "First, we'll ascertain our current working directory:"
      ]
    },
    {
      "cell_type": "code",
      "execution_count": 6,
      "metadata": {},
      "outputs": [
        {
          "name": "stdout",
          "output_type": "stream",
          "text": [
            "/home/lentz/Developer/AMPL/colab.ampl.com/authors/gomfy/ampl-lecture\n"
          ]
        }
      ],
      "source": [
        "%%ampl_eval\n",
        "shell 'pwd';"
      ]
    },
    {
      "cell_type": "code",
      "execution_count": 7,
      "metadata": {},
      "outputs": [
        {
          "name": "stdout",
          "output_type": "stream",
          "text": [
            "Overwriting production.mod\n"
          ]
        }
      ],
      "source": [
        "%%writefile production.mod\n",
        "# Define indexing sets\n",
        "set PROD;\n",
        "set INGR;\n",
        "\n",
        "# Define the decision variables\n",
        "var make{PROD} integer, >= 0;\n",
        "\n",
        "# Define model parameters\n",
        "param fee;\n",
        "param profit_per_product{PROD};\n",
        "param limit{INGR};\n",
        "param usage{INGR, PROD};\n",
        "\n",
        "# Define the objective function\n",
        "maximize total_profit: \n",
        "    sum {i in PROD} profit_per_product[i] * make[i] - fee;\n",
        "\n",
        "# Define the constraints\n",
        "subject to ingredient_constraints {i in INGR}:\n",
        "    sum {j in PROD} usage[i,j] * make[j] <= limit[i];\n"
      ]
    },
    {
      "cell_type": "markdown",
      "metadata": {},
      "source": [
        "Next, we will locate the `production.mod` file, which encapsulates our model."
      ]
    },
    {
      "cell_type": "code",
      "execution_count": 8,
      "metadata": {},
      "outputs": [
        {
          "name": "stdout",
          "output_type": "stream",
          "text": [
            "../ampl-lecture/production.mod\n"
          ]
        }
      ],
      "source": [
        "%%ampl_eval\n",
        "shell 'find .. -name \"production.mod\"';"
      ]
    },
    {
      "cell_type": "markdown",
      "metadata": {},
      "source": [
        "Once identified, we will employ the `read()` command to load `production.mod` by providing the precise path revealed in the preceding step.\n",
        "\n",
        "To verify the successful loading of the model, we can use AMPL's `show;` command, which displays all the model entities. Observing the expected entities will confirm that the model is loaded correctly. Note that AMPL would generally issue an error if it were unable to find the file or if there were any issues with its contents.\n",
        "\n",
        "If we try to solve `production.mod` by itself, understandably, AMPL will complain that it is missing data for various declared entities such as sets and parameters."
      ]
    },
    {
      "cell_type": "code",
      "execution_count": 9,
      "metadata": {},
      "outputs": [
        {
          "name": "stdout",
          "output_type": "stream",
          "text": [
            "\n",
            "parameters:   fee   limit   profit_per_product   usage\n",
            "\n",
            "sets:   INGR   PROD\n",
            "\n",
            "variable:   make\n",
            "\n",
            "constraint:   ingredient_constraints\n",
            "\n",
            "objective:   total_profit\n"
          ]
        }
      ],
      "source": [
        "ampl = AMPL()\n",
        "ampl.read(\"production.mod\")\n",
        "ampl.eval(\"show;\")\n",
        "ampl.set_option(\"solver\", \"gurobi\")\n",
        "# ampl.solve() Attempting to solve would result in an error because the data file is missing"
      ]
    },
    {
      "cell_type": "code",
      "execution_count": 10,
      "metadata": {},
      "outputs": [
        {
          "name": "stdout",
          "output_type": "stream",
          "text": [
            "Overwriting lemonade.mod\n"
          ]
        }
      ],
      "source": [
        "%%writefile lemonade.mod\n",
        "# Define the decision variables\n",
        "var lemonade integer, >= 0;\n",
        "var iced_tea integer, >= 0;\n",
        "\n",
        "# Define the parameter(s)\n",
        "param fee = 2;\n",
        "\n",
        "# Define the objective function\n",
        "maximize profit: 1.5*lemonade + iced_tea - fee;\n",
        "\n",
        "# Define the constraints\n",
        "subject to lemon_constraint: lemonade <= 10;\n",
        "subject to tea_bag_constraint: iced_tea <= 8;\n",
        "subject to sugar_constraint: 2*lemonade + iced_tea <= 20;\n"
      ]
    },
    {
      "cell_type": "code",
      "execution_count": 11,
      "metadata": {},
      "outputs": [
        {
          "name": "stdout",
          "output_type": "stream",
          "text": [
            "Overwriting lemonade.dat\n"
          ]
        }
      ],
      "source": [
        "%%writefile lemonade.dat\n",
        "# Products (columns of constraint matrix, cardinality equals number of variables)\n",
        "set PROD := lemonade iced_tea;\n",
        "\n",
        "# Ingredients (rows of constraint matrix, cardinality equals number of constraints)\n",
        "set INGR := \n",
        "lemon \n",
        "tea_bag \n",
        "sugar;\n",
        "\n",
        "# Permit fee\n",
        "param fee := 2;\n",
        "\n",
        "# Objective function parameters\n",
        "param profit_per_product := lemonade 1.5 iced_tea 1.0;\n",
        "\n",
        "# Constraint right hand side values\n",
        "param limit := \n",
        "lemon     10 \n",
        "tea_bag    8 \n",
        "sugar     20;\n",
        "\n",
        "# Constraint matrix values\n",
        "param usage:  lemonade      iced_tea :=\n",
        "lemon         1.0           0.0   \n",
        "tea_bag       0.0           1.0  \n",
        "sugar         2.0           1.0 ;"
      ]
    },
    {
      "cell_type": "markdown",
      "metadata": {},
      "source": [
        "## Loading the data\n",
        "\n",
        "As expected, we can supply AMPL with the necessary data via the [APIs](https://ampl.com/products/ampl/apis/), [data connectors](https://ampl.com/products/ampl/data-connectors/) or AMPL data files.\n",
        "\n",
        "### Loading the data is easy (once you have a data file ;-)\n",
        "\n",
        "#### Pure AMPL version:"
      ]
    },
    {
      "cell_type": "code",
      "execution_count": 12,
      "metadata": {},
      "outputs": [
        {
          "name": "stdout",
          "output_type": "stream",
          "text": [
            "Gurobi 12.0.0:Gurobi 12.0.0: optimal solution; objective 15\n",
            "0 simplex iterations\n"
          ]
        }
      ],
      "source": [
        "%%ampl_eval\n",
        "reset;\n",
        "model production.mod\n",
        "data lemonade.dat\n",
        "option solver gurobi;\n",
        "solve;"
      ]
    },
    {
      "cell_type": "markdown",
      "metadata": {},
      "source": [
        "## Via Python API"
      ]
    },
    {
      "cell_type": "code",
      "execution_count": 13,
      "metadata": {},
      "outputs": [
        {
          "name": "stdout",
          "output_type": "stream",
          "text": [
            "Gurobi 12.0.0:Gurobi 12.0.0: optimal solution; objective 15\n",
            "0 simplex iterations\n"
          ]
        }
      ],
      "source": [
        "ampl = AMPL()\n",
        "ampl.read(\"production.mod\")\n",
        "ampl.read_data(\"lemonade.dat\")\n",
        "ampl.solve(solver=\"gurobi\")\n",
        "assert ampl.solve_result == \"solved\""
      ]
    },
    {
      "cell_type": "markdown",
      "metadata": {},
      "source": [
        "## How to read and create a data file?\n",
        "\n",
        "So far we have only used AMPL in model mode, but it also has a **data** mode.\n",
        "AMPL reads its data statements in data mode that is initiated by the `data` command. \n",
        "In its most common use, this command consists of the keyword `data` followed by the name of a file:\n",
        "\n",
        "<pre style=\"background-color:None\">\n",
        "<code style=\"background-color:None\">\n",
        "    <span style=\"color: darkgreen; font-weight: bold\">data</span> <i>filename </i>\n",
        "</code>\n",
        "</pre>\n",
        "\n",
        "Similarly as with `model`, the above is a shorthand for: \n",
        "\n",
        "<pre style=\"background-color:None\">\n",
        "<code style=\"background-color:None\">\n",
        "    <span style=\"color: darkgreen; font-weight: bold\">data</span> ; <span style=\"color: darkgreen; font-weight: bold\">include</span> <i>filename </i>\n",
        "</code>\n",
        "</pre>\n",
        "\n",
        "Once in data mode, AMPL interprets input differently then in model mode.\n",
        "Lexical rules of AMPL in data mode are designed to enable intuitive data entry.\n",
        "For example, AMPL treats all white space as a single space and ignores commas. \n",
        "This helps us to arrange data into easy-to-read lists and tables when applicable. \n",
        "\n",
        "In the next sections we will introduce data files (`.dat` files) by writing two of them, one for the lemonade problem and one for the mulled wine problem, in such a way that they will both work with our generic production model.\n",
        "These data files will suffice to introduce lists of one and two-dimensional sets and parameters.\n",
        "However, Chapters [9](https://ampl.com/wp-content/uploads/Chapter-9-Specifying-Data-AMPL-Book.pdf) and [10](https://ampl.com/wp-content/uploads/Chapter-10-Database-Access-AMPL-Book.pdf) of the AMPL book provide more information about specifying data in AMPL.\n",
        "\n",
        "\n",
        "**AMPL does not care about the file extensions, but it is customary to use `.dat` for files intended to be read in data mode.**\n",
        "\n",
        "\n",
        "### Lists of one dimensional sets and parameters\n",
        "For a parameter indexed over a one-dimensional set like the parameter `limit`, the specification of the set can be simply a listing of its members:\n",
        "\n",
        "```ampl\n",
        "# Ingredients (rows of constraint matrix, cardinality equals number of constraints)\n",
        "set INGR := \n",
        "lemon \n",
        "tea_bag \n",
        "sugar;\n",
        "```\n",
        "\n",
        "and the parameter's specification may be virtually the same except for the addition of a value after each set member:\n",
        "```ampl\n",
        "# Constraint right hand side values\n",
        "param limit := \n",
        "lemon     10 \n",
        "tea_bag    8 \n",
        "sugar     20;\n",
        "```\n",
        "\n",
        "The parameter specification could equally well be written as\n",
        "```ampl\n",
        "param limit := lemon 10 tea_bag 8 sugar 20;\n",
        "```\n",
        "since extra spaces and line breaks are ignored.\n",
        "\n",
        "### Lists of two-dimensional sets and parameters\n",
        "The extension of data lists to the two-dimensional case is largely straightforward, we will examine it in case of parameters, where two one dimensional sets are used for indexing. \n",
        "As an example, consider the following from our production model:\n",
        "\n",
        "```ampl\n",
        "# Define indexing sets\n",
        "set PROD;\n",
        "set INGR;\n",
        "param usage{INGR, PROD};\n",
        "```\n",
        "\n",
        "The members of `PROD` and `INGR` can be given as for any one-dimensional sets:\n",
        "\n",
        "```ampl\n",
        "# Products (columns of coefficient matrix, cardinality equals number of variables)\n",
        "set PROD := lemonade iced_tea;\n",
        "\n",
        "# Ingredients (rows of coefficient matrix, cardinality equals number of constraints)\n",
        "set INGR := \n",
        "lemon     10 \n",
        "tea_bag    8 \n",
        "sugar     20;\n",
        "```\n",
        "\n",
        "Data values for a parameter indexed over two sets, such as the parameter `usage` from our production model are naturally specified in a table as follows:\n",
        "\n",
        "```ampl\n",
        "# Constraint matrix values\n",
        "param usage:  lemonade      iced_tea :=\n",
        "lemon         1.0           0.0   \n",
        "tea_bag       0.0           1.0  \n",
        "sugar         2.0           1.0 ;\n",
        "```\n",
        "\n",
        "The row labels give the first index and the column labels the second index, so that for example usage[\"sugar\",\"lemonade\"] is set to 2.0. \n",
        "To enable AMPL to recognize this as a table, a colon must follow the parameter name, while the := operator follows the list of column labels."
      ]
    },
    {
      "cell_type": "markdown",
      "metadata": {},
      "source": [
        "## DATA FILE EXERCISE 9\n",
        "\n",
        "1. Using the information provided above, create a `.dat` file for the mulled wine problem. Start by adding a new cell below with the `%%writefile mulled_wine.dat` magic command.\n",
        "\n",
        "2. After creating the `.dat` file, load and solve the mulled wine problem in a new cell. You can use the `%%ampl_eval` magic command or the Python AMPL API with `ampl = AMPL()`. Ensure you first load the production model before solving the problem."
      ]
    },
    {
      "cell_type": "markdown",
      "metadata": {},
      "source": [
        "## DATA FILE SOLUTION "
      ]
    },
    {
      "cell_type": "code",
      "execution_count": 14,
      "metadata": {},
      "outputs": [
        {
          "name": "stdout",
          "output_type": "stream",
          "text": [
            "Overwriting mulled_wine.dat\n"
          ]
        }
      ],
      "source": [
        "%%writefile mulled_wine.dat\n",
        "# Products (columns of coefficient matrix, cardinality equals number of variables)\n",
        "set PROD := mulled_wine hot_tea;\n",
        "\n",
        "# Ingredients (rows of coefficient matrix, cardinality equals number of constraints)\n",
        "set INGR := \n",
        "spice \n",
        "tea_bag \n",
        "sugar\n",
        "wine;\n",
        "\n",
        "# Permit fee\n",
        "param fee := 2;\n",
        "\n",
        "# Objective function parameters\n",
        "param profit_per_product := mulled_wine 2.0 hot_tea 1.5;\n",
        "\n",
        "# Coefficient right hand side values\n",
        "param limit := \n",
        "spice     12 \n",
        "tea_bag    8 \n",
        "sugar     30\n",
        "wine      15;\n",
        "   \n",
        "# Coefficient matrix values \n",
        "param usage: mulled_wine   hot_tea   :=\n",
        "spice        2.0           0.0\n",
        "tea_bag      0.0           1.0 \n",
        "sugar        4.0           2.0\n",
        "wine         2.0           0.0;\n"
      ]
    },
    {
      "cell_type": "markdown",
      "metadata": {},
      "source": [
        "## `%%ampl_eval` solution"
      ]
    },
    {
      "cell_type": "code",
      "execution_count": 15,
      "metadata": {},
      "outputs": [
        {
          "name": "stdout",
          "output_type": "stream",
          "text": [
            "Gurobi 12.0.0:Gurobi 12.0.0: optimal solution; objective 16.5\n",
            "0 simplex iterations\n"
          ]
        }
      ],
      "source": [
        "%%ampl_eval\n",
        "reset;\n",
        "# Read the model file from the `ampl_files` directory\n",
        "model production.mod\n",
        "# Read the data file from the notebook directory as that is the directory where %%writefile wrote the data file\n",
        "data mulled_wine.dat\n",
        "option solver gurobi;\n",
        "solve;"
      ]
    },
    {
      "cell_type": "markdown",
      "metadata": {},
      "source": [
        "## Specifying data through APIs\n",
        "In this section, we will delve into how native objects, such as Pandas DataFrames, can be directly passed to AMPL using its APIs.\n",
        "AMPL's APIs provide a rich assortment of methods for data passing, the selection of which depends on the working environment (e.g., high-level interpreted languages like Python or compiled languages like C++).\n",
        "\n",
        "### Load data method\n",
        "This 'load data' method will load either the lemonade or mulled wine data into AMPL, depending on the argument passed to it.\n",
        "For more information about `amplpy` methods checkout the [methods section](https://amplpy.readthedocs.io/en/latest/classes/ampl.html#ampl) of the API documentation.\n",
        "\n",
        "#### Lemonade model and corresponding data in Python lists:\n",
        "<table>\n",
        "<tr>\n",
        "<td>\n",
        "\n",
        "<pre><code>\n",
        "# Define the objective function\n",
        "maximize profit: 1.5*lemonade + iced_tea - fee;\n",
        "\n",
        "# Define the constraints\n",
        "subject to lemon_constraint: lemonade <= 10;\n",
        "subject to tea_bag_constraint: iced_tea <= 8;\n",
        "subject to sugar_constraint: 2*lemonade + iced_tea <= 20;\n",
        "</code></pre>\n",
        "\n",
        "</td>\n",
        "<td>\n",
        "\n",
        "<pre><code>\n",
        "# Python lists for AMPL sets\n",
        "PROD = ['lemonade', 'iced_tea']\n",
        "INGR = ['lemon', 'tea_bag', 'sugar']\n",
        "\n",
        "# Python lists for AMPL params\n",
        "profit_per_product_data = [1.5, 1.0]\n",
        "limit_data = [10, 8, 20]\n",
        "usage_data = [1.0, 0.0,\n",
        "              0.0, 1.0,\n",
        "              2.0, 1.0]\n",
        "</code></pre>\n",
        "\n",
        "</td>\n",
        "</tr>\n",
        "</table>\n",
        "\n",
        "#### Mulled wine model and corresponding data in Python lists:\n",
        "<table>\n",
        "<tr>\n",
        "<td>\n",
        "\n",
        "<pre><code>\n",
        "# Define the objective function\n",
        "maximize profit: 2*mulled_wine + 1.5*hot_tea - fee;\n",
        "\n",
        "# Define the constraints\n",
        "subject to spice_constraint: 2*mulled_wine <= 12;\n",
        "subject to tea_bag_constraint: hot_tea <= 8;\n",
        "subject to sugar_constraint: 4*mulled_wine + 2*hot_tea <= 30;\n",
        "subject to wine_constraint: 2*mulled_wine <= 15;\n",
        "</code></pre>\n",
        "\n",
        "</td>\n",
        "<td>\n",
        "\n",
        "<pre><code>\n",
        "# Python lists for AMPL sets\n",
        "PROD = [\"mulled_wine\", \"hot_tea\"]\n",
        "INGR = [\"spice\", \"tea_bag\", \"sugar\", \"wine\"]\n",
        "\n",
        "# Python lists for AMPL params\n",
        "profit_per_product_data = [2.0, 1.5]\n",
        "limit_data = [12, 8, 30, 15]\n",
        "usage_data = [2.0, 0.0,\n",
        "              0.0, 1.0,\n",
        "              4.0, 2.0,\n",
        "              2.0, 0.0]\n",
        "</code></pre>\n",
        "\n",
        "</td>\n",
        "</tr>\n",
        "</table>\n",
        "\n",
        "\n",
        "In the example below we will create data frames from Python lists and then use those data frames and the `set_data()` method to load data into AMPL for our production model. Once the data is loaded we will solve it using Gurobi."
      ]
    },
    {
      "cell_type": "code",
      "execution_count": 16,
      "metadata": {},
      "outputs": [
        {
          "name": "stdout",
          "output_type": "stream",
          "text": [
            "Gurobi 12.0.0:Gurobi 12.0.0: optimal solution; objective 15\n",
            "0 simplex iterations\n"
          ]
        }
      ],
      "source": [
        "# Instantiate AMPL object\n",
        "ampl = AMPL()\n",
        "# Load the model\n",
        "ampl.read(\"production.mod\")\n",
        "\n",
        "# Create Python lists for AMPL sets\n",
        "PROD = [\"lemonade\", \"iced_tea\"]\n",
        "INGR = [\"lemon\", \"tea_bag\", \"sugar\"]\n",
        "# Create Python lists for AMPL params\n",
        "profit_per_product_data = [1.5, 1.0]\n",
        "limit_data = [10, 8, 20]\n",
        "usage_data = [1.0, 0.0, 0.0, 1.0, 2.0, 1.0]\n",
        "\n",
        "# For simple data it is convenient to use AMPL object properties such as\n",
        "# 'set' (i.e. ampl.set), or 'param' (i.e. ampl.param)\n",
        "# to assign data directly from lists.\n",
        "# However, for large amounts of data with custom indexing\n",
        "# we recommend using the 'set_data()' method,\n",
        "# which is illustrated below for loading parameter data.\n",
        "\n",
        "# Set scalar parameter fee (independent of data type (lemonade or mulled_wine))\n",
        "ampl.param[\"fee\"] = 2.0\n",
        "\n",
        "# Assign members to AMPL's set PROD\n",
        "ampl.set[\"PROD\"] = PROD\n",
        "\n",
        "# Assign members to AMPL's set INGR\n",
        "ampl.set[\"INGR\"] = INGR\n",
        "\n",
        "\n",
        "# When using Pandas DataFrames to load AMPL data we need to keep the following in mind:\n",
        "# 1. The column names correspond to the AMPL entities' names (e.g. parameter names)\n",
        "# 2. The Pandas index values need to be equivalent to the values of the AMPL indexing set.\n",
        "# 3. We can load data into multiple AMPL entities simultaneously using 'set_data()',\n",
        "#    as long as those entities are indexed over the same set.\n",
        "\n",
        "# Create Pandas DataFrame containing\n",
        "# param data: profit_per_product_data\n",
        "# indexing: PROD\n",
        "# and column (aka AMPL entity) name: profit_per_product\n",
        "profit_per_product = pd.DataFrame(\n",
        "    profit_per_product_data, index=PROD, columns=[\"profit_per_product\"]\n",
        ")\n",
        "# Load data into AMPL\n",
        "ampl.set_data(profit_per_product)\n",
        "\n",
        "# Create Pandas DataFrame containing param data, indexing, and AMPL entity name\n",
        "# With a more compact Pandas DataFrame declaration,\n",
        "# where the column name is inferred from the dictionary key.\n",
        "limit = pd.DataFrame({\"limit\": limit_data}, index=INGR)\n",
        "# Load data into AMPL\n",
        "ampl.set_data(limit)\n",
        "\n",
        "# usage_data is a 1D representation of the constraint coefficient matrix.\n",
        "# This is needed because each Pandas DataFrame column\n",
        "# corresponds to an entity and thus values for 2D (or 3D, etc.) entities\n",
        "# are also stored in one column.\n",
        "# Because 'param usage' is indexed over both INGR and PROD it is a 2D parameter.\n",
        "# Therefore we need to add tuples to the Pandas DataFrame index column.\n",
        "# These tuples can be created using:\n",
        "# pd.MultiIndex.from_tuples([(i,j) for i in INGR for j in PROD])\n",
        "# As usual the column name needs to correspond to the AMPL entity name\n",
        "usage = pd.DataFrame(\n",
        "    {\"usage\": usage_data},\n",
        "    index=pd.MultiIndex.from_tuples([(i, j) for i in INGR for j in PROD]),\n",
        ")\n",
        "# Load data into AMPL\n",
        "ampl.set_data(usage)\n",
        "\n",
        "# Solve\n",
        "ampl.solve(solver=\"gurobi\")\n",
        "assert ampl.solve_result == \"solved\""
      ]
    },
    {
      "cell_type": "markdown",
      "metadata": {},
      "source": [
        "## API EXERCISE 9\n",
        "\n",
        "1. Load the mulled wine data from the Python lists provided below into AMPL using the methods introduced above and solve the problem with Gurobi.\n",
        "\n",
        "    ```python\n",
        "\n",
        "    PROD = [\"mulled_wine\", \"hot_tea\"]\n",
        "    INGR = [\"spice\", \"tea_bag\", \"sugar\", \"wine\"]\n",
        "    fee = [2.0]\n",
        "    profit_per_product_data = [2.0, 1.5]\n",
        "    limit_data = [12, 8, 30, 15]\n",
        "    usage_data = [2.0, 0.0,\n",
        "                  0.0, 1.0,\n",
        "                  4.0, 2.0,\n",
        "                  2.0, 0.0]\n",
        "    ```"
      ]
    },
    {
      "cell_type": "markdown",
      "metadata": {},
      "source": [
        "## API SOLUTION"
      ]
    },
    {
      "cell_type": "code",
      "execution_count": 17,
      "metadata": {},
      "outputs": [
        {
          "name": "stdout",
          "output_type": "stream",
          "text": [
            "Gurobi 12.0.0:Gurobi 12.0.0: optimal solution; objective 16.5\n",
            "0 simplex iterations\n"
          ]
        }
      ],
      "source": [
        "# Instantiate AMPL object\n",
        "ampl = AMPL()\n",
        "# Load the model\n",
        "ampl.read(\"production.mod\")\n",
        "\n",
        "# Setup the data\n",
        "PROD = [\"mulled_wine\", \"hot_tea\"]\n",
        "INGR = [\"spice\", \"tea_bag\", \"sugar\", \"wine\"]\n",
        "fee = [2.0]\n",
        "profit_per_product_data = [2.0, 1.5]\n",
        "limit_data = [12, 8, 30, 15]\n",
        "usage_data = [2.0, 0.0, 0.0, 1.0, 4.0, 2.0, 2.0, 0.0]\n",
        "\n",
        "# Load data into AMPL\n",
        "ampl.set[\"PROD\"] = PROD\n",
        "ampl.set[\"INGR\"] = INGR\n",
        "ampl.param[\"fee\"] = fee\n",
        "profit_per_product = pd.DataFrame(\n",
        "    profit_per_product_data, index=PROD, columns=[\"profit_per_product\"]\n",
        ")\n",
        "ampl.set_data(profit_per_product)\n",
        "limit = pd.DataFrame({\"limit\": limit_data}, index=INGR)\n",
        "ampl.set_data(limit)\n",
        "usage = pd.DataFrame(\n",
        "    {\"usage\": usage_data},\n",
        "    index=pd.MultiIndex.from_tuples([(i, j) for i in INGR for j in PROD]),\n",
        ")\n",
        "ampl.set_data(usage)\n",
        "\n",
        "# Solve\n",
        "ampl.solve(solver=\"gurobi\")\n",
        "assert ampl.solve_result == \"solved\""
      ]
    },
    {
      "cell_type": "markdown",
      "metadata": {},
      "source": [
        "## PRESOLVE EXERCISE\n",
        "\n",
        "1. Load the production model along with the mulled wine data using any method of your choice (terminal commands, `%%ampl_eval` magic cell, or the Python AMPL API).\n",
        "\n",
        "2. Disable the presolve option by setting it to zero with the command: `option presolve 0;`.\n",
        "\n",
        "3. Execute the command `solexpand;` to see the \"solver's\" view.\n",
        "\n",
        "4. Re-enable the presolve option by setting it to ten with the command: `option presolve 10;`. And turn on statistics by setting `option show_stats 1;`.\n",
        "\n",
        "5. Execute `solexpand;` again. \n",
        "\n",
        "6. What observations can you make about the effects of the presolve option on the solution process?"
      ]
    },
    {
      "cell_type": "markdown",
      "metadata": {},
      "source": [
        "## PRESOLVE SOLUTION\n",
        "\n",
        "AMPL's presolve will streamline the problem by eliminating all but one constraint, specifically the sugar constraint. \n",
        "With presolve activated, the problem becomes more compact when presented to the solver. \n",
        "While most solvers, particularly commercial ones, have their own presolve mechanisms, it remains beneficial for AMPL to condense the problem size. \n",
        "This reduction can expedite the solver's problem intake process.\n",
        "\n",
        "\n",
        "In real-world scenarios, where problems may comprise millions of variables and constraints, the capacity of AMPL's presolve to condense a large-scale problem into an equivalent but more manageable and compact form can yield substantial efficiencies."
      ]
    },
    {
      "cell_type": "code",
      "execution_count": 18,
      "metadata": {},
      "outputs": [
        {
          "name": "stdout",
          "output_type": "stream",
          "text": [
            "Presolve off:\n",
            "maximize total_profit:\n",
            "\t2*make['mulled_wine'] + 1.5*make['hot_tea'] - 2;\n",
            "\n",
            "subject to ingredient_constraints['spice']:\n",
            "\t2*make['mulled_wine'] <= 12;\n",
            "\n",
            "subject to ingredient_constraints['tea_bag']:\n",
            "\tmake['hot_tea'] <= 8;\n",
            "\n",
            "subject to ingredient_constraints['sugar']:\n",
            "\t4*make['mulled_wine'] + 2*make['hot_tea'] <= 30;\n",
            "\n",
            "subject to ingredient_constraints['wine']:\n",
            "\t2*make['mulled_wine'] <= 15;\n",
            "\n",
            "\n",
            "Presolve on:\n",
            "\n",
            "Presolve eliminates 3 constraints.\n",
            "Adjusted problem:\n",
            "2 variables, all integer\n",
            "1 constraint, all linear; 2 nonzeros\n",
            "\t1 inequality constraint\n",
            "1 linear objective; 2 nonzeros.\n",
            "\n",
            "maximize total_profit:\n",
            "\t2*make['mulled_wine'] + 1.5*make['hot_tea'] - 2;\n",
            "\n",
            "subject to ingredient_constraints['sugar']:\n",
            "\t4*make['mulled_wine'] + 2*make['hot_tea'] <= 30;\n",
            "\n"
          ]
        }
      ],
      "source": [
        "%%ampl_eval\n",
        "reset;\n",
        "model production.mod\n",
        "data mulled_wine.dat\n",
        "option presolve 0;\n",
        "print \"Presolve off:\";\n",
        "solexpand;\n",
        "print;\n",
        "option presolve 10, show_stats 1;\n",
        "print \"Presolve on:\";\n",
        "solexpand;"
      ]
    },
    {
      "cell_type": "markdown",
      "metadata": {},
      "source": [
        "## EXERCISE 10\n",
        "\n",
        "Before exploring alternative data specification methods, let's revisit our integer programming problem with a new twist. Suppose we receive our inheritance at the year's start, allowing us to sell lemonade and iced tea in the winter and hot tea and mulled wine in the summer, albeit at a reduced profit. This scenario requires us to expand our model into what's known as a multi-period or multi-season production model.\n",
        "\n",
        "Your new data file looks as follows:\n",
        "\n",
        "```ampl\n",
        "# Seasons \n",
        "set SEASONS:= winter summer;\n",
        "\n",
        "# Products (times seasons) (columns of constraint matrix, cardinality equals number of variables)\n",
        "set PROD := lemonade iced_tea mulled_wine hot_tea;\n",
        "\n",
        "# Ingredients (rows of constraint matrix, cardinality equals number of constraints)\n",
        "set INGR := \n",
        "lemon \n",
        "tea_bag \n",
        "sugar\n",
        "spice \n",
        "wine;\n",
        "\n",
        "# Permit fee\n",
        "param fee := 2;\n",
        "\n",
        "# Objective function parameters\n",
        "param profit_per_product: winter summer :=\n",
        "        lemonade          0.5    1.5  \n",
        "        iced_tea          0.75   1.0  \n",
        "        mulled_wine       2      0.25\n",
        "        hot_tea           1.5    0.75; \n",
        "\n",
        "# Constraint right hand side values\n",
        "param limit := \n",
        "lemon     10 \n",
        "sugar     50\n",
        "tea_bag   16 \n",
        "spice     12 \n",
        "wine      15;\n",
        "\n",
        "# Constraint matrix values\n",
        "param usage:  lemonade      iced_tea    mulled_wine     hot_tea :=\n",
        "lemon         1.0           0.0         0.0             0.0 \n",
        "tea_bag       0.0           1.0         0.0             1.0 \n",
        "sugar         2.0           1.0         4.0             2.0 \n",
        "spice         0.0           0.0         2.0             0.0\n",
        "wine          0.0           0.0         2.0             0.0; \n",
        "```\n",
        "\n",
        "The updated Python data for our problem is as follows:\n",
        "\n",
        "```python\n",
        "# Product and ingredient lists expanded for multiple seasons\n",
        "PROD = [\"lemonade\", \"iced_tea\", \"mulled_wine\", \"hot_tea\"]\n",
        "INGR = [\"lemon\", \"sugar\", \"tea_bag\", \"spice\", \"wine\"]\n",
        "SEASONS = [\"winter\", \"summer\"]\n",
        "fee = [2.0]  # Fee remains unchanged\n",
        "\n",
        "# Profit adjustments to reflect off-season sales\n",
        "profit_per_product_data = [\n",
        "    0.5,  1.5,  # Lemonade profits for winter and summer\n",
        "    0.75, 1.0,  # Iced tea\n",
        "    2,    0.25, # Mulled wine\n",
        "    1.5,  0.75  # Hot tea\n",
        "]\n",
        "\n",
        "# Combined limit data from previous examples\n",
        "limit_data = [10, 50, 16, 12, 15]\n",
        "\n",
        "# Usage data - unchanged recipes across seasons\n",
        "usage_data = [\n",
        "    1.0, 0.0, 0.0, 0.0,  # Lemon usage for each product\n",
        "    2.0, 1.0, 4.0, 2.0,  # Sugar\n",
        "    0.0, 1.0, 0.0, 1.0,  # Tea bag\n",
        "    0.0, 0.0, 2.0, 0.0,  # Spice\n",
        "    0.0, 0.0, 2.0, 0.0   # Wine\n",
        "]\n",
        "```\n",
        "\n",
        "This data adjustment allows us to consider off-season product sales and thus, transforms our model into a multi-season framework. The products and ingredients lists are expanded to encompass the entire year, and profits are adjusted to reflect the seasonal prices. Our model will now be indexed over products and seasons, with the pricing parameter 'profit per product' also adapted for seasonal variations. The limits and usage data are aggregated from previous lemonade and mulled wine examples. Seasonal changes do not affect our recipes, allowing us to apply the same production process year-round.\n",
        "\n",
        "Tasks:\n",
        "\n",
        "1. With the description in mind, write a `multi_production.mod` model within a `%%writefile` magic cell.\n",
        "\n",
        "2. Load the provided data into your model, utilizing either a data file or pandas dataframes for the `profit_per_product`, `limit`, and `usage_data` parameters.\n",
        "\n",
        "3. Solve the updated problem using Gurobi and then HiGHS (turn off sending Gurobi's solution to HiGHS via `option reset_initial_guesses 1;`) and display the solution.\n",
        "\n",
        "4. Did you get the same solution? If not explain why?"
      ]
    },
    {
      "cell_type": "markdown",
      "metadata": {},
      "source": [
        "## SOLUTION W/ DATA FILE"
      ]
    },
    {
      "cell_type": "code",
      "execution_count": 19,
      "metadata": {},
      "outputs": [
        {
          "name": "stdout",
          "output_type": "stream",
          "text": [
            "Overwriting multi_production.mod\n"
          ]
        }
      ],
      "source": [
        "%%writefile multi_production.mod\n",
        "# Define indexing sets\n",
        "set PROD;\n",
        "set INGR;\n",
        "set SEASONS;\n",
        "\n",
        "# Define the decision variables\n",
        "var make{PROD, SEASONS} integer, >= 0;\n",
        "\n",
        "# Define model parameters\n",
        "param fee;\n",
        "param profit_per_product{PROD, SEASONS};\n",
        "param limit{INGR};\n",
        "param usage{INGR, PROD};\n",
        "\n",
        "# Define the objective function\n",
        "maximize total_profit: \n",
        "    sum {i in PROD, j in SEASONS} profit_per_product[i,j] * make[i,j] - fee;\n",
        "\n",
        "# Define the constraints\n",
        "subject to ingredient_constraints {i in INGR}:\n",
        "    sum {j in PROD, k in SEASONS} usage[i,j] * make[j,k] <= limit[i]; # Note that the usage parameter is identical for each season"
      ]
    },
    {
      "cell_type": "code",
      "execution_count": 20,
      "metadata": {},
      "outputs": [
        {
          "name": "stdout",
          "output_type": "stream",
          "text": [
            "Overwriting multi_production.dat\n"
          ]
        }
      ],
      "source": [
        "%%writefile multi_production.dat\n",
        "# Seasons \n",
        "set SEASONS:= winter summer;\n",
        "\n",
        "# Products (times seasons) (columns of constraint matrix, cardinality equals number of variables)\n",
        "set PROD := lemonade iced_tea mulled_wine hot_tea;\n",
        "\n",
        "# Ingredients (rows of constraint matrix, cardinality equals number of constraints)\n",
        "set INGR := \n",
        "lemon \n",
        "tea_bag \n",
        "sugar\n",
        "spice \n",
        "wine;\n",
        "\n",
        "# Permit fee\n",
        "param fee := 2;\n",
        "\n",
        "# Objective function parameters\n",
        "param profit_per_product: winter summer :=\n",
        "        lemonade          0.5    1.5  \n",
        "        iced_tea          0.75   1.0  \n",
        "        mulled_wine       2      0.25\n",
        "        hot_tea           1.5    0.75; \n",
        "\n",
        "# Constraint right hand side values\n",
        "param limit := \n",
        "lemon     10 \n",
        "sugar     50\n",
        "tea_bag   16 \n",
        "spice     12 \n",
        "wine      15;\n",
        "\n",
        "# Constraint matrix values\n",
        "param usage:  lemonade      iced_tea    mulled_wine     hot_tea :=\n",
        "lemon         1.0           0.0         0.0             0.0 \n",
        "tea_bag       0.0           1.0         0.0             1.0 \n",
        "sugar         2.0           1.0         4.0             2.0 \n",
        "spice         0.0           0.0         2.0             0.0\n",
        "wine          0.0           0.0         2.0             0.0; "
      ]
    },
    {
      "cell_type": "code",
      "execution_count": 21,
      "metadata": {},
      "outputs": [
        {
          "name": "stdout",
          "output_type": "stream",
          "text": [
            "subject to ingredient_constraints['lemon']:\n",
            "\tmake['lemonade','winter'] + make['lemonade','summer'] <= 10;\n",
            "\n",
            "subject to ingredient_constraints['tea_bag']:\n",
            "\tmake['iced_tea','winter'] + make['iced_tea','summer'] + \n",
            "\tmake['hot_tea','winter'] + make['hot_tea','summer'] <= 16;\n",
            "\n",
            "subject to ingredient_constraints['sugar']:\n",
            "\t2*make['lemonade','winter'] + 2*make['lemonade','summer'] + \n",
            "\tmake['iced_tea','winter'] + make['iced_tea','summer'] + \n",
            "\t4*make['mulled_wine','winter'] + 4*make['mulled_wine','summer'] + \n",
            "\t2*make['hot_tea','winter'] + 2*make['hot_tea','summer'] <= 50;\n",
            "\n",
            "subject to ingredient_constraints['spice']:\n",
            "\t2*make['mulled_wine','winter'] + 2*make['mulled_wine','summer'] <= 12;\n",
            "\n",
            "subject to ingredient_constraints['wine']:\n",
            "\t2*make['mulled_wine','winter'] + 2*make['mulled_wine','summer'] <= 15;\n",
            "\n",
            "Gurobi 12.0.0:Gurobi 12.0.0: optimal solution; objective 36\n",
            "1 simplex iteration\n",
            "1 branching node\n",
            "make :=\n",
            "hot_tea  winter   14\n",
            "iced_tea summer    2\n",
            "lemonade summer   10\n",
            ";\n",
            "\n",
            "HiGHS 1.7.1:HiGHS 1.7.1: optimal solution; objective 36\n",
            "2 simplex iterations\n",
            "1 branching nodes\n",
            "make :=\n",
            "hot_tea  winter   14\n",
            "iced_tea summer    2\n",
            "lemonade summer   10\n",
            ";\n",
            "\n"
          ]
        }
      ],
      "source": [
        "%%ampl_eval\n",
        "reset; reset option;\n",
        "model multi_production.mod\n",
        "data multi_production.dat\n",
        "# Since the recipe remains constant throughout the seasons, we can apply the same usage coefficients for each 'seasonal product'. \n",
        "# To ensure that our model accurately reflects this assumption, we should examine the ingredient constraints. \n",
        "# In AMPL, we can inspect entities in their original, \"un-presolved\" or \"unaltered\" state by using the expand command. \n",
        "# This command reveals each constraint with its expanded terms and coefficients, providing a detailed view of the model's construction.\n",
        "expand ingredient_constraints;\n",
        "\n",
        "# Solve with gurobi\n",
        "option solver gurobi;\n",
        "solve;\n",
        "\n",
        "# Since we are only interested in the non-zero values of make, we will use display options to filter the output accordingly.\n",
        "option omit_zero_cols 1, omit_zero_rows 1;\n",
        "display make;\n",
        "\n",
        "# Resolve with highs but don't send Gurobi's solution to HiGHS we can achieve this with the `reset_initial_guesses` option.\n",
        "option solver highs, reset_initial_guesses 1;\n",
        "solve;\n",
        "display make;"
      ]
    },
    {
      "cell_type": "markdown",
      "metadata": {},
      "source": [
        "## Why do we receive different solutions?\n",
        "As you can see, we received two different solutions depending on the solver used.\n",
        "Gurobi provides a more diverse solution, offering two products (hot tea and mulled wine) in the winter and two products (lemonade and iced tea) in the summer.\n",
        "In contrast, HiGHS suggests selling only hot tea during the winter and then lemonade and iced tea during the summer.\n",
        "However, notice that the objective function value is **36** for both solutions.\n",
        "This indicates that this particular problem has multiple solutions, a common occurrence for linear programming problems.\n",
        "What's more interesting is examining the total number of products each solution instructs us to sell.\n",
        "With Gurobi's solution, we are set to sell a total of 29 products, whereas HiGHS's solution achieves a profit of 36 by selling only 26 products.\n",
        "Economically, HiGHS's solution is more efficient as it utilizes fewer resources.\n",
        "Since resources don't have an associated cost, Gurobi's solution isn't penalized for using more ingredients than HiGHS's solution.\n",
        "To address this, we can introduce a unit cost for each product sold, akin to the cost of a paper cup for each item.\n",
        "It’s crucial to ensure that the cost of cups is less than the price of our least expensive product to avoid losses on cheaper items.\n",
        "Given that mulled wine costs $\\$0.25$, our cups must cost less than that.\n",
        "For this example, let's assume a paper cup costs $\\$0.1$, and we have an unlimited supply, thus no constraint is associated with the cups.\n",
        "The only requirement is to incorporate this cost into the objective function.\n",
        "Our modified problem is outlined as follows:"
      ]
    },
    {
      "cell_type": "code",
      "execution_count": 22,
      "metadata": {},
      "outputs": [
        {
          "name": "stdout",
          "output_type": "stream",
          "text": [
            "Gurobi 12.0.0:Gurobi 12.0.0: optimal solution; objective 33.4\n",
            "1 simplex iteration\n",
            "1 branching node\n",
            "make :=\n",
            "hot_tea  winter   14\n",
            "iced_tea summer    2\n",
            "lemonade summer   10\n",
            ";\n",
            "\n",
            "HiGHS 1.7.1:HiGHS 1.7.1: optimal solution; objective 33.4\n",
            "2 simplex iterations\n",
            "1 branching nodes\n",
            "make :=\n",
            "hot_tea  winter   14\n",
            "iced_tea summer    2\n",
            "lemonade summer   10\n",
            ";\n",
            "\n"
          ]
        }
      ],
      "source": [
        "%%ampl_eval\n",
        "reset; reset option;\n",
        "model multi_production.mod\n",
        "data multi_production.dat\n",
        "\n",
        "# In order to adjust our objective function according to the above we will use AMPL's redeclare:\n",
        "redeclare maximize total_profit: \n",
        "    sum {i in PROD, j in SEASONS} (profit_per_product[i,j] * make[i,j] - 0.1*make[i,j] ) - fee;\n",
        "\n",
        "# Solve with gurobi\n",
        "option solver gurobi;\n",
        "solve;\n",
        "\n",
        "# Since we are only interested in the non-zero values of make, we will use display options to filter the output accordingly.\n",
        "option omit_zero_cols 1, omit_zero_rows 1;\n",
        "display make;\n",
        "\n",
        "# Resolve with highs but don't send Gurobi's solution to HiGHS we can achieve this with the `reset_initial_guesses` option.\n",
        "option solver highs, reset_initial_guesses 1;\n",
        "solve;\n",
        "display make;"
      ]
    },
    {
      "cell_type": "markdown",
      "metadata": {},
      "source": [
        "## Visualizing the solution\n",
        "\n",
        "Next, we will demonstrate how to utilize a tool called Pygwalker for visualizing our results. \n",
        "\n",
        "The first step involves creating an AMPL script named `multi_production_adj.run`. \n",
        "We save this script using the `%%writefile` magic command. \n",
        "Within this file, we reset the AMPL state and load the necessary model and data files. \n",
        "Additionally, we introduce a parameter to represent the cost of cups and modify our objective function to include the cost of cups used for serving our products - lemonade, iced tea, mulled wine, and hot tea.\n",
        "\n",
        "After setting up this script, we load it into an AMPL object, select the appropriate solver, and then solve the problem.\n",
        "We then extract the results into a pandas DataFrame for visualization using Pygwalker. \n",
        "The DataFrame's columns form a list of fields from which we can drag and drop elements onto the graph: we place the 'season' field and then the 'product' field onto the x-axis slot, and the 'make' field onto the y-axis slot. \n",
        "Pygwalker will generate a graph providing a detailed breakdown of the quantities of items required per product per season."
      ]
    },
    {
      "cell_type": "code",
      "execution_count": 23,
      "metadata": {},
      "outputs": [
        {
          "name": "stdout",
          "output_type": "stream",
          "text": [
            "Overwriting multi_production_adj.run\n"
          ]
        }
      ],
      "source": [
        "%%writefile multi_production_adj.run\n",
        "# Reset the AMPL state\n",
        "reset; reset option;\n",
        "# Load the model and data\n",
        "model multi_production.mod\n",
        "data multi_production.dat\n",
        "\n",
        "# Adjust our objective function so that we account for the cost of the cups:\n",
        "param cup_cost = 0.1;\n",
        "redeclare maximize total_profit: \n",
        "    sum {i in PROD, j in SEASONS} (profit_per_product[i,j] * make[i,j] - cup_cost*make[i,j] ) - fee;"
      ]
    },
    {
      "cell_type": "code",
      "execution_count": 24,
      "metadata": {},
      "outputs": [
        {
          "name": "stdout",
          "output_type": "stream",
          "text": [
            "Gurobi 12.0.0:Gurobi 12.0.0: optimal solution; objective 33.4\n",
            "1 simplex iteration\n",
            "1 branching node\n"
          ]
        },
        {
          "data": {
            "image/png": "[encoded data removed]",
            "text/plain": [
              "<Figure size 1000x800 with 2 Axes>"
            ]
          },
          "metadata": {},
          "output_type": "display_data"
        }
      ],
      "source": [
        "# Create an AMPL object\n",
        "ampl = AMPL()\n",
        "\n",
        "# Load the AMPL script that contains the model and data as well as the objective function adjustment\n",
        "ampl.read(\"multi_production_adj.run\")\n",
        "\n",
        "# Set solver and solve\n",
        "ampl.solve(solver=\"gurobi\")\n",
        "assert ampl.solve_result == \"solved\"\n",
        "\n",
        "# Get the 'make' and 'profit_per_product' data from the model,\n",
        "# convert it to a pandas DataFrame, reset the index, and rename the index columns for better walkability\n",
        "sol_df = ampl.get_data(\"make\", \"profit_per_product\").to_pandas().reset_index()\n",
        "sol_df.rename(columns={\"index0\": \"product\", \"index1\": \"season\"}, inplace=True)\n",
        "\n",
        "# Walk the solution data frame\n",
        "fig, axes = plt.subplots(1, 2, figsize=(10, 8), sharex=True)\n",
        "\n",
        "y_min = 0\n",
        "y_max = sol_df[\"make\"].max() + 2\n",
        "\n",
        "summer_data = sol_df[sol_df[\"season\"] == \"summer\"]\n",
        "axes[0].bar(summer_data[\"product\"], summer_data[\"make\"])\n",
        "axes[0].set_title(\"summer\")\n",
        "axes[0].set_ylabel(\"make\")\n",
        "axes[0].set_xlabel(\"product\")\n",
        "axes[0].set_ylim(y_min, y_max)\n",
        "\n",
        "winter_data = sol_df[sol_df[\"season\"] == \"winter\"]\n",
        "axes[1].bar(winter_data[\"product\"], winter_data[\"make\"])\n",
        "axes[1].set_title(\"winter\")\n",
        "axes[1].set_ylabel(\"make\")\n",
        "axes[1].set_xlabel(\"product\")\n",
        "axes[1].set_ylim(y_min, y_max)\n",
        "\n",
        "fig.suptitle(\"season\", fontsize=16)\n",
        "\n",
        "plt.tight_layout()\n",
        "plt.show()"
      ]
    }
  ],
  "metadata": {
    "kernelspec": {
      "display_name": ".venv",
      "language": "python",
      "name": "python3"
    },
    "language_info": {
      "codemirror_mode": {
        "name": "ipython",
        "version": 3
      },
      "file_extension": ".py",
      "mimetype": "text/x-python",
      "name": "python",
      "nbconvert_exporter": "python",
      "pygments_lexer": "ipython3",
      "version": "3.10.12"
    }
  },
  "nbformat": 4,
  "nbformat_minor": 2
}
