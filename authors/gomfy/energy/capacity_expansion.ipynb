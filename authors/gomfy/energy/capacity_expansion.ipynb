{
  "cells": [
    {
      "cell_type": "markdown",
      "metadata": {},
      "source": [
        "# Capacity expansion of power generation\n",
        "[![capacity_expansion.ipynb](https://img.shields.io/badge/github-%23121011.svg?logo=github)](https://github.com/ampl/colab.ampl.com/blob/master/authors/gomfy/energy/capacity_expansion.ipynb) [![Open In Colab](https://colab.research.google.com/assets/colab-badge.svg)](https://colab.research.google.com/github/ampl/colab.ampl.com/blob/master/authors/gomfy/energy/capacity_expansion.ipynb) [![Kaggle](https://kaggle.com/static/images/open-in-kaggle.svg)](https://kaggle.com/kernels/welcome?src=https://github.com/ampl/colab.ampl.com/blob/master/authors/gomfy/energy/capacity_expansion.ipynb) [![Gradient](https://assets.paperspace.io/img/gradient-badge.svg)](https://console.paperspace.com/github/ampl/colab.ampl.com/blob/master/authors/gomfy/energy/capacity_expansion.ipynb) [![Open In SageMaker Studio Lab](https://studiolab.sagemaker.aws/studiolab.svg)](https://studiolab.sagemaker.aws/import/github/ampl/colab.ampl.com/blob/master/authors/gomfy/energy/capacity_expansion.ipynb) [![Hits](https://h.ampl.com/https://github.com/ampl/colab.ampl.com/blob/master/authors/gomfy/energy/capacity_expansion.ipynb)](https://colab.ampl.com)\n",
        "\n",
        "Description: Models the extensive form of a deterministic multi-stage capacity expansion problem. In this model we can have multiple resources of the same type which have identical properties. The model can be further developed into a stochastic one.\n",
        "\n",
        "Tags: ampl-only, energy, planning, mip, power-generation\n",
        "\n",
        "Notebook author: Gyorgy Matyasfalvi <<gyorgy@ampl.com>>\n",
        "\n",
        "Model author: Ahmed et al., Gyorgy Matyasfalvi\n",
        "\n",
        "References:\n",
        "1. Ahmed, S., King, A. J. and Parija G. (2003). \"A Multi-Stage Stochastich Integer Programming Approach for Capacity Expansion Under Uncertainty\". In: J. of Global Optimization 26.1 (May 2003), pp. 3-24. URL: https://doi.org/10.1023/A:1023062915106"
      ]
    },
    {
      "cell_type": "code",
      "execution_count": 1,
      "metadata": {},
      "outputs": [],
      "source": [
        "# Install dependencies\n",
        "%pip install -q amplpy"
      ]
    },
    {
      "cell_type": "code",
      "execution_count": 2,
      "metadata": {},
      "outputs": [],
      "source": [
        "# Google Colab & Kaggle integration\n",
        "from amplpy import AMPL, ampl_notebook\n",
        "\n",
        "ampl = ampl_notebook(\n",
        "    modules=[\"coin\"],  # modules to install\n",
        "    license_uuid=\"default\",  # license to use\n",
        ")  # instantiate AMPL object and register magics"
      ]
    },
    {
      "cell_type": "markdown",
      "metadata": {},
      "source": [
        "## Use `%%ampl_eval` to evaluate AMPL commands"
      ]
    },
    {
      "cell_type": "code",
      "execution_count": 3,
      "metadata": {},
      "outputs": [
        {
          "name": "stdout",
          "output_type": "stream",
          "text": [
            "option version 'AMPL Version 20230301 (Linux-5.15.0-1037-azure, 64-bit)\\\n",
            "Demo license with maintenance expiring 20240131.\\\n",
            "Using license file \"/home/gomfy/miniconda3/envs/tutorial/lib/python3.11/site-packages/ampl_module_base/bin/ampl.lic\".\\\n",
            "';\n"
          ]
        }
      ],
      "source": [
        "%%ampl_eval\n",
        "option version;"
      ]
    },
    {
      "cell_type": "markdown",
      "metadata": {},
      "source": [
        "## Use %%writeifile to create files"
      ]
    },
    {
      "cell_type": "code",
      "execution_count": 4,
      "metadata": {},
      "outputs": [
        {
          "name": "stdout",
          "output_type": "stream",
          "text": [
            "Writing cap_ef.mod\n"
          ]
        }
      ],
      "source": [
        "%%writefile cap_ef.mod\n",
        "\n",
        "# Declare index sets\n",
        "set STAGES ordered;\n",
        "set RESOURCES ordered;\n",
        "\n",
        "# Decision variables\n",
        "var cap_exp {STAGES, RESOURCES} >= 0;        # Variable cost associated with increase in capacity\n",
        "var cap_dec {STAGES, RESOURCES} integer; # Fixed cost associated with decision to involve a new resource\n",
        "\n",
        "# Parameters\n",
        "param var_cost {STAGES, RESOURCES} > 0;\n",
        "param fix_cost {STAGES, RESOURCES} > 0;\n",
        "param cap_ub {STAGES, RESOURCES} > 0;\n",
        "param demand {STAGES};\n",
        "\n",
        "# Objective function\n",
        "minimize total_cost: \n",
        "    sum{t in STAGES, i in RESOURCES} (var_cost[t,i]*cap_exp[t,i] + fix_cost[t,i]*cap_dec[t,i]);\n",
        "\n",
        "# Constraints\n",
        "subject to cap_acqu_bound {t in STAGES, i in RESOURCES}:\n",
        "        cap_exp[t,i] <= cap_ub[t,i]*cap_dec[t,i]; # Upper bounds on total capacity\n",
        "\n",
        "subject to statisfy_demand {T in STAGES}:\n",
        "        sum {t in STAGES, i in RESOURCES: ord(t) <= ord(T)} cap_exp[t,i] >= demand[T]; # Demand needs to be satisfied at all times\n",
        "\n",
        "subject to one_resource:\n",
        "        sum {t in STAGES} cap_dec[t,first(RESOURCES)] <= 1;\n"
      ]
    },
    {
      "cell_type": "code",
      "execution_count": 5,
      "metadata": {},
      "outputs": [
        {
          "name": "stdout",
          "output_type": "stream",
          "text": [
            "Writing cap_ef.dat\n"
          ]
        }
      ],
      "source": [
        "%%writefile cap_ef.dat\n",
        "\n",
        "# Index sets\n",
        "set STAGES := 2030 2040 2050;\n",
        "set RESOURCES := hydro nuclear coal;\n",
        "\n",
        "# Billions of USD\n",
        "param var_cost:    hydro  nuclear  coal   :=\n",
        "            2030   0.01   0.01    0.8\n",
        "            2040   0.011  0.013   1.9 \n",
        "            2050   0.012  0.014   2.7    ;\n",
        "\n",
        "# Billions of USD\n",
        "param fix_cost:    hydro  nuclear  coal   :=\n",
        "            2030   25     10       1\n",
        "            2040   28     11       2.3 \n",
        "            2050   25     11.5     3.8  ;\n",
        "\n",
        "# In GWH \n",
        "param cap_ub:      hydro  nuclear  coal   :=\n",
        "            2030   300    12       20\n",
        "            2040   290    15       21 \n",
        "            2050   280    18       20   ;\n",
        "\n",
        "# In GWH\n",
        "param demand := \n",
        "            2030 500 \n",
        "            2040 1000 \n",
        "            2050 1105   ;"
      ]
    },
    {
      "cell_type": "code",
      "execution_count": 6,
      "metadata": {},
      "outputs": [
        {
          "name": "stdout",
          "output_type": "stream",
          "text": [
            "Writing cap_ef.run\n"
          ]
        }
      ],
      "source": [
        "%%writefile cap_ef.run\n",
        "# ---------------------------------------------------------------\n",
        "# Solve capcity expansion problem then display decison variables\n",
        "# ---------------------------------------------------------------\n",
        "\n",
        "option solver cbc;\n",
        "option solution_round 6;\n",
        "\n",
        "model cap_ef.mod;\n",
        "data cap_ef.dat;\n",
        "solve;\n",
        "\n",
        "for {t in STAGES} {\n",
        "    printf \"\\n\\n\\t\\t**%s**\\n\", t;\n",
        "    printf {i in RESOURCES}: \"%s: %d\\t\", i, cap_dec[t,i];\n",
        "    printf \"\\n\";\n",
        "}\n",
        "printf \"\\n\";"
      ]
    },
    {
      "cell_type": "markdown",
      "metadata": {},
      "source": [
        "## Use `%%ampl_eval` to run the script cap_ef.run"
      ]
    },
    {
      "cell_type": "code",
      "execution_count": 7,
      "metadata": {},
      "outputs": [
        {
          "name": "stdout",
          "output_type": "stream",
          "text": [
            "cbc 2.10.7: \b\b\b\b\b\b\b\b\b\b\b\bcbc 2.10.7: optimal solution; objective 640.67\n",
            "212 simplex iterations\n",
            "212 barrier iterations\n",
            "4 branching nodes\n",
            "\n",
            "\n",
            "\t\t**2030**\n",
            "hydro: 1\tnuclear: 14\tcoal: 2\t\n",
            "\n",
            "\n",
            "\t\t**2040**\n",
            "hydro: 0\tnuclear: 34\tcoal: 0\t\n",
            "\n",
            "\n",
            "\t\t**2050**\n",
            "hydro: 0\tnuclear: 5\tcoal: 0\t\n",
            "\n"
          ]
        }
      ],
      "source": [
        "%%ampl_eval\n",
        "commands cap_ef.run;"
      ]
    },
    {
      "cell_type": "markdown",
      "metadata": {},
      "source": []
    }
  ],
  "metadata": {
    "kernelspec": {
      "display_name": "Python 3 (ipykernel)",
      "language": "python",
      "name": "python3"
    },
    "language_info": {
      "codemirror_mode": {
        "name": "ipython",
        "version": 3
      },
      "file_extension": ".py",
      "mimetype": "text/x-python",
      "name": "python",
      "nbconvert_exporter": "python",
      "pygments_lexer": "ipython3",
      "version": "3.11.3"
    },
    "vscode": {
      "interpreter": {
        "hash": "aee8b7b246df8f9039afb4144a1f6fd8d2ca17a180786b69acc140d282b71a49"
      }
    }
  },
  "nbformat": 4,
  "nbformat_minor": 4
}
