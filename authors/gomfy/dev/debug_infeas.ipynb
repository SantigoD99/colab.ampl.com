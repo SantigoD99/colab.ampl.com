{
  "cells": [
    {
      "cell_type": "markdown",
      "metadata": {},
      "source": [
        "# Debugging Model Infeasibility\n",
        "[![debug_infeas.ipynb](https://img.shields.io/badge/github-%23121011.svg?logo=github)](https://github.com/ampl/colab.ampl.com/blob/master/authors/gomfy/dev/debug_infeas.ipynb) [![Open In Colab](https://colab.research.google.com/assets/colab-badge.svg)](https://colab.research.google.com/github/ampl/colab.ampl.com/blob/master/authors/gomfy/dev/debug_infeas.ipynb) [![Kaggle](https://kaggle.com/static/images/open-in-kaggle.svg)](https://kaggle.com/kernels/welcome?src=https://github.com/ampl/colab.ampl.com/blob/master/authors/gomfy/dev/debug_infeas.ipynb) [![Gradient](https://assets.paperspace.io/img/gradient-badge.svg)](https://console.paperspace.com/github/ampl/colab.ampl.com/blob/master/authors/gomfy/dev/debug_infeas.ipynb) [![Open In SageMaker Studio Lab](https://studiolab.sagemaker.aws/studiolab.svg)](https://studiolab.sagemaker.aws/import/github/ampl/colab.ampl.com/blob/master/authors/gomfy/dev/debug_infeas.ipynb) [![Hits](https://h.ampl.com/https://github.com/ampl/colab.ampl.com/blob/master/authors/gomfy/dev/debug_infeas.ipynb)](https://colab.ampl.com)\n",
        "\n",
        "Description: This notebook offers a concise guide on troubleshooting model infeasibility using AMPL's presolve feature and other language capabilities.\n",
        "\n",
        "Tags: amplpy, ampl, debug, infeasibility\n",
        "\n",
        "Notebook author: Gyorgy Matyasfalvi <<gyorgy@ampl.com>>\n",
        "\n",
        "References:\n",
        "\n",
        "* AMPL a Modeling Language for Mathematical Programming -- Robert Fourer et al."
      ]
    },
    {
      "cell_type": "code",
      "execution_count": 1,
      "metadata": {},
      "outputs": [],
      "source": [
        "# Install dependencies\n",
        "%pip install -q amplpy"
      ]
    },
    {
      "cell_type": "code",
      "execution_count": 2,
      "metadata": {},
      "outputs": [],
      "source": [
        "# Google Colab & Kaggle integration\n",
        "from amplpy import AMPL, ampl_notebook\n",
        "\n",
        "ampl = ampl_notebook(\n",
        "    modules=[\"open\"],  # modules to install\n",
        "    license_uuid=\"default\",  # license to use\n",
        ")  # instantiate AMPL object and register magics"
      ]
    },
    {
      "cell_type": "markdown",
      "metadata": {},
      "source": [
        "## Introduction\n",
        "\n",
        "Understanding what causes the infeasibility is crucial, regardless of whether you're using the solver, AMPL, or both. \n",
        "This notebook offers some insight that might streamline this process. \n",
        "A clear understanding of how presolve works can guide one in devising a method to pinpoint the cause of infeasibility."
      ]
    },
    {
      "cell_type": "markdown",
      "metadata": {},
      "source": [
        "## Overview of presolve\n",
        "\n",
        "Presolve recursively executes the following tasks:\n",
        "\n",
        "1. Integrating singleton constraints (constraints with one variable) into variable bounds.\n",
        "2. Discarding inequalities that will always be slack.\n",
        "3. Inferring bounds from constraints that involve multiple bounded variables.\n",
        "\n",
        "In light of this, an 'infeasible' constraint is identified in step 3 of the above process, and arises when the deduced bounds violate the model's bounds. \n",
        "These bounds are inferred by examining the variables' bounds that form part of the constraint. \n",
        "For instance, a constraint's upper bound could be violated by the lower bounds on some variables present in the constraint with positive constants."
      ]
    },
    {
      "cell_type": "markdown",
      "metadata": {},
      "source": [
        "## Identifying the cause of infeasibility\n",
        "\n",
        "A sensible first step in identifying the cause of infeasibility is to scrutinize the variable bounds of the infeasible constraint. Try to determine which variables' bounds contribute to the infeasibility and, if any, find the constraints that led to the tightening of those bounds.\n",
        "\n",
        "Let's walk through a specific example to illustrate the process:"
      ]
    },
    {
      "cell_type": "code",
      "execution_count": 3,
      "metadata": {},
      "outputs": [
        {
          "name": "stdout",
          "output_type": "stream",
          "text": [
            "Writing infeas.run\n"
          ]
        }
      ],
      "source": [
        "%%writefile infeas.run\n",
        "\n",
        "# Declare sets\n",
        "set COMP1;\n",
        "set COMP2;\n",
        "\n",
        "# Variables\n",
        "var final_awt{COMP1} >= 0;\n",
        "var buy_comp{COMP2} >= 0;\n",
        "\n",
        "# Parameters\n",
        "param final_awt_lb{COMP1};\n",
        "param final_awt_ub{COMP1};\n",
        "param maxbuys >= 0;\n",
        "\n",
        "# Constraints\n",
        "subject to finalbounds {c in {'MSFT','AAPL'} inter COMP1}:\n",
        "    final_awt_lb[c] <= final_awt[c] <= final_awt_ub[c];\n",
        "\n",
        "subject to numbuys:\n",
        "    sum{c1 in COMP1} final_awt[c1] + sum{c2 in COMP2} buy_comp[c2] <= maxbuys;\n",
        "\n",
        "# Enter data mode and specify data\n",
        "data;\n",
        "param maxbuys := 4;\n",
        "set COMP2 := META;\n",
        "\n",
        "param: COMP1: final_awt_lb :=\n",
        "MSFT 3 AAPL 2 NVDA 0 AMZN 0 TSLA 0;\n",
        "\n",
        "param final_awt_ub :=\n",
        "MSFT 4 AAPL 3 NVDA 2 AMZN 2 TSLA 2;\n",
        "\n",
        "# Return to model mode\n",
        "model;"
      ]
    },
    {
      "cell_type": "markdown",
      "metadata": {},
      "source": [
        "### Running `infeas.mod`\n",
        "\n",
        "In the following sections, we'll utilize `%%ampl_eval` magic cells, enabling us to execute AMPL code directly from the notebook's code cells. \n",
        "`%%ampl_eval` cells are equivalent to invoking `ampl.eval(\"\"\"cell content\"\"\")`."
      ]
    },
    {
      "cell_type": "code",
      "execution_count": 4,
      "metadata": {},
      "outputs": [
        {
          "name": "stdout",
          "output_type": "stream",
          "text": [
            "\n",
            "Presolve eliminates 2 constraints.\n",
            "Adjusted problem:\n",
            "6 variables, all linear\n",
            "1 constraint, all linear; 6 nonzeros\n",
            "\t1 inequality constraint\n",
            "0 objectives.\n",
            "\n",
            "Warning:\n",
            "\tpresolve: constraint numbuys cannot hold:\n",
            "\t\tbody <= 4 cannot be >= 5; difference = -1\n"
          ]
        }
      ],
      "source": [
        "%%ampl_eval\n",
        "\n",
        "include infeas.run;\n",
        "option solver highs, show_stats 1;\n",
        "solve;"
      ]
    },
    {
      "cell_type": "markdown",
      "metadata": {},
      "source": [
        "The above output indicates that the constraint `numbuys` cannot hold due to the violation in bounds."
      ]
    },
    {
      "cell_type": "markdown",
      "metadata": {},
      "source": [
        "### Investigating the `numbuys` constraint\n",
        "\n",
        "To delve deeper, we can use the `show` or `expand` command in AMPL to investigate the `numbuys` constraint further."
      ]
    },
    {
      "cell_type": "code",
      "execution_count": 5,
      "metadata": {},
      "outputs": [
        {
          "name": "stdout",
          "output_type": "stream",
          "text": [
            "subject to numbuys: sum{c1 in COMP1} final_awt[c1] + sum{c2 in COMP2}\n",
            "  buy_comp[c2] <= maxbuys;\n",
            "\n",
            "subject to numbuys:\n",
            "\tfinal_awt['MSFT'] + final_awt['AAPL'] + final_awt['NVDA'] + \n",
            "\tfinal_awt['AMZN'] + final_awt['TSLA'] + buy_comp['META'] <= 4;\n",
            "\n"
          ]
        }
      ],
      "source": [
        "%%ampl_eval\n",
        "\n",
        "show numbuys; # Will display the constraint as it is in the model.\n",
        "print; # Used for newline\n",
        "expand numbuys; # This will expand the constraint and display the expanded form."
      ]
    },
    {
      "cell_type": "markdown",
      "metadata": {},
      "source": [
        "This reveals the variables involved in the `numbuys` constraint and its upper bound. The next step is to check if the sum of the lower bounds of these variables exceeds the constraint's upper bound."
      ]
    },
    {
      "cell_type": "code",
      "execution_count": 6,
      "metadata": {},
      "outputs": [
        {
          "name": "stdout",
          "output_type": "stream",
          "text": [
            "final_awt: Violation\n"
          ]
        }
      ],
      "source": [
        "%%ampl_eval\n",
        "\n",
        "if sum {c1 in COMP1} final_awt[c1].lb >= numbuys.ub then print \"final_awt: Violation\"; else print \"final_awt: No violation\";"
      ]
    },
    {
      "cell_type": "markdown",
      "metadata": {},
      "source": [
        "The output indicates a violation in the `final_awt` variable bounds. \n",
        "Next, we perform a similar check for the `buy_comp` variable."
      ]
    },
    {
      "cell_type": "code",
      "execution_count": 7,
      "metadata": {},
      "outputs": [
        {
          "name": "stdout",
          "output_type": "stream",
          "text": [
            "buy_comp: No violation\n"
          ]
        }
      ],
      "source": [
        "%%ampl_eval\n",
        "\n",
        "if sum {c2 in COMP2} buy_comp[c2].lb >= numbuys.ub then print \"buy_comp: Violation\"; else print \"buy_comp: No violation\";"
      ]
    },
    {
      "cell_type": "markdown",
      "metadata": {},
      "source": [
        "### Investigating variable bounds\n",
        "At this point we know that lower bounds on `final_awt` violate the constraint `numbuys`. \n",
        "There are two scenarios that could have lead to this violation:\n",
        "\n",
        "1. The initial bounds declared on `final_awt` violate `numbuys` \n",
        "OR\n",
        "2. presolve tightened the bounds, which then led to the violation.\n",
        "\n",
        "Modifying the above AMPL command to use suffix `.lb0` (initial lower bounds) will help determining this:"
      ]
    },
    {
      "cell_type": "code",
      "execution_count": 8,
      "metadata": {},
      "outputs": [
        {
          "name": "stdout",
          "output_type": "stream",
          "text": [
            "final_awt.lb0: No violation\n"
          ]
        }
      ],
      "source": [
        "%%ampl_eval\n",
        "\n",
        "if sum {c1 in COMP1} final_awt[c1].lb0 >= numbuys.ub then print \"final_awt.lb0: Violation\"; else print \"final_awt.lb0: No violation\";"
      ]
    },
    {
      "cell_type": "markdown",
      "metadata": {},
      "source": [
        "This means that presolve tightened the bounds, meaning the infeasibility is related to another constraint. \n",
        "We can use the `xref` command to check, which constraints depend on `final_awt`:"
      ]
    },
    {
      "cell_type": "code",
      "execution_count": 9,
      "metadata": {},
      "outputs": [
        {
          "name": "stdout",
          "output_type": "stream",
          "text": [
            "# 3 entities depend on final_awt:\n",
            "Initial\n",
            "finalbounds\n",
            "numbuys\n",
            "\n"
          ]
        }
      ],
      "source": [
        "%%ampl_eval\n",
        "\n",
        "xref final_awt;"
      ]
    },
    {
      "cell_type": "markdown",
      "metadata": {},
      "source": [
        "We can ignore `Initial` as that's the default environment AMPL starts in. \n",
        "This leaves us with `finalbounds`, which is indeed a constraint. \n",
        "Revealing the other constraint that causes the infeasibility. \n",
        "\n",
        "For this example all constraints in `finalbounds` cause a bound tightening that leads to the infeasibility. \n",
        "But we could further analyze the case by looking at which `final_awt`s were tightened by checking if there is a difference between `.lb0` and `.lb`:"
      ]
    },
    {
      "cell_type": "code",
      "execution_count": 10,
      "metadata": {},
      "outputs": [
        {
          "name": "stdout",
          "output_type": "stream",
          "text": [
            "'bound tightened' [*] :=\n",
            "AAPL  'bound tightened'\n",
            "MSFT  'bound tightened'\n",
            ";\n",
            "\n"
          ]
        }
      ],
      "source": [
        "%%ampl_eval\n",
        "\n",
        "display {c1 in COMP1: final_awt[c1].lb > final_awt[c1].lb0} 'bound tightened';"
      ]
    }
  ],
  "metadata": {
    "kernelspec": {
      "display_name": "Python 3 (ipykernel)",
      "language": "python",
      "name": "python3"
    },
    "language_info": {
      "codemirror_mode": {
        "name": "ipython",
        "version": 3
      },
      "file_extension": ".py",
      "mimetype": "text/x-python",
      "name": "python",
      "nbconvert_exporter": "python",
      "pygments_lexer": "ipython3",
      "version": "3.11.7"
    },
    "vscode": {
      "interpreter": {
        "hash": "ee4198aac13dae9b6fccd443041680d99c2643c4956ef7c80ff6dcc0057cb523"
      }
    }
  },
  "nbformat": 4,
  "nbformat_minor": 2
}
