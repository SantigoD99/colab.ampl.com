{
  "cells": [
    {
      "cell_type": "markdown",
      "metadata": {
        "id": "7RjB1ipC7KbS"
      },
      "source": [
        "# Pricing Optimization (Price Elasticity of Demand)\n",
        "\n",
        "[![Investment_project.ipynb](https://img.shields.io/badge/github-%23121011.svg?logo=github)](https://github.com/ampl/colab.ampl.com/blob/master/authors/mikhail/Demand_elasticity/demand_elasticity.ipynb) [![Open In Colab](https://colab.research.google.com/assets/colab-badge.svg)](https://colab.research.google.com/github/ampl/colab.ampl.com/blob/master/authors/mikhail/Demand_elasticity/demand_elasticity.ipynb) [![Kaggle](https://kaggle.com/static/images/open-in-kaggle.svg)](https://kaggle.com/kernels/welcome?src=https://github.com/ampl/colab.ampl.com/blob/master/authors/mikhail/Demand_elasticity/demand_elasticity.ipynb) [![Gradient](https://assets.paperspace.io/img/gradient-badge.svg)](https://console.paperspace.com/github/ampl/colab.ampl.com/blob/master/authors/mikhail/Demand_elasticity/demand_elasticity.ipynb) [![Open In SageMaker Studio Lab](https://studiolab.sagemaker.aws/studiolab.svg)](https://studiolab.sagemaker.aws/import/github/ampl/colab.ampl.com/blob/master/authors/mikhail/Demand_elasticity/demand_elasticity.ipynb) [![Hits](https://h.ampl.com/https://github.com/ampl/colab.ampl.com/blob/master/authors/mikhail/Demand_elasticity/demand_elasticity.ipynb)](https://colab.ampl.com)\n",
        "\n",
        "This model finds the point that maximizes profit based on price elasticity and cost.\n",
        "\n",
        "\n",
        "[*Partner with the AMPL team to transform complex problems into optimized solutions. AMPL consulting services combine deep technical knowledge with industry-leading insights, helping you unlock the full potential of optimization within your organization.*](https://ampl.com/services/)\n",
        "\n",
        "Tags: amplpy, MIP, pricing-optimization, demand-elasticity, profit-maximization, economic-modeling, cplex\n",
        "\n",
        "Notebook author: Mikhail Riabtsev <<mail@solverytic.com>>\n",
        "***"
      ]
    },
    {
      "cell_type": "markdown",
      "metadata": {},
      "source": [
        "# 1. Model Description\n",
        "\n",
        "This notebook describes 3 piecewise linear approaches to dealing with nonlinear dependencies and designed to optimize profit through optimal point or price-step selection based on demand and price parameters. Each approach employs unique strategies to achieve its objectives while adhering to specific constraints.\n",
        "\n",
        "## Key Components\n",
        "\n",
        "### Price-Demand Elastisity Function\n",
        "![alt text](Price_Demand_Elastisity.jpg)\n",
        "\n",
        "### General Parameters\n",
        "- **Demand and Price**: Represent demand and price at each point or step, respectively.\n",
        "- **Cost**: Unit cost (2 $ per unit).\n",
        "\n",
        "### Objective: \n",
        "It is necessary to determine the optimal level of sales price in order to obtain maximum profit:\n",
        "\n",
        "  $Maximize TotalProfit = \\sum_{𝑝 \\in POINTS}(price[𝑝] − cost[p]) × demand[𝑝])$\n",
        "\n",
        "  To linearize the existing elasticity of demand function from price changes, we need to select nodal points. The number of selected points and their location on the curve can be any.\n",
        "  For the purposes of our project, we will use the following corner points:\n",
        "  $[(1, 10), (3, 7), (5, 5), (7, 4), (9, 3.8), (11, 4), (13, 3), (15, 1), (17, 0.5), (19, 0)]$\n",
        "  \n",
        "  ![alt text](Price_Demand_Elastisity_2.jpg)"
      ]
    },
    {
      "cell_type": "markdown",
      "metadata": {},
      "source": [
        "# 2. Download Necessary Extensions and Libraries"
      ]
    },
    {
      "cell_type": "code",
      "execution_count": 1,
      "metadata": {},
      "outputs": [
        {
          "name": "stdout",
          "output_type": "stream",
          "text": [
            "Note: you may need to restart the kernel to use updated packages.\n"
          ]
        }
      ],
      "source": [
        "# Install dependencies\n",
        "%pip install -q amplpy pandas\n",
        "import pandas as pd                 # Loading panda to work with pandas.DataFrame objects (https://pandas.pydata.org/)\n",
        "import numpy as np                  # Loading numpy to perform multidimensional calculations numpy.matrix (https://numpy.org/)"
      ]
    },
    {
      "cell_type": "code",
      "execution_count": 2,
      "metadata": {},
      "outputs": [
        {
          "data": {
            "application/vnd.jupyter.widget-view+json": {
              "model_id": "be0108a333ee4326b3667a3b86a38eb0",
              "version_major": 2,
              "version_minor": 0
            },
            "text/plain": [
              "VBox(children=(Output(), HBox(children=(Text(value='', description='License UUID:', style=TextStyle(descriptio…"
            ]
          },
          "metadata": {},
          "output_type": "display_data"
        }
      ],
      "source": [
        "# Google Colab & Kaggle integration\n",
        "from amplpy import AMPL, ampl_notebook\n",
        "\n",
        "ampl = ampl_notebook(\n",
        "    modules=[\"cbc\", \"highs\", \"gurobi\"],  # modules to install\n",
        "    license_uuid=\"default\",  # license to use\n",
        ")  # instantiate AMPL object and register magics"
      ]
    },
    {
      "cell_type": "code",
      "execution_count": 3,
      "metadata": {},
      "outputs": [],
      "source": [
        "from amplpy import AMPL\n",
        "ampl = AMPL()                       # create a new AMPL object with all default settings"
      ]
    },
    {
      "cell_type": "markdown",
      "metadata": {},
      "source": [
        "# 3. Approach#1 (Optimal nodal point)\n",
        "This approach determines the nodal point with maximum profit.\n",
        "\n",
        "\n",
        "![alt text](Price_Demand_Elastisity_4.jpg)\n",
        "\n",
        "## 3.1. AMPL Model Formulation\n"
      ]
    },
    {
      "cell_type": "code",
      "execution_count": 4,
      "metadata": {},
      "outputs": [
        {
          "name": "stdout",
          "output_type": "stream",
          "text": [
            "Overwriting demand_elasticity__model.mod\n"
          ]
        }
      ],
      "source": [
        "%%writefile demand_elasticity__model.mod\n",
        "reset;\n",
        "# Model Name: Pricing Optimization (Price Elasticity of Demand)\n",
        "# Purpose: Select one point from a set of price level and demand to maximize total profit\n",
        "# Version: 1.0\n",
        "# Last Updated: Jan 2025\n",
        "\n",
        "\n",
        "### SETS & PARAMETERS\n",
        "# Input parameters defining total quantity, cost, price steps, and demand\n",
        "param unit_cost >= 0;                   # Unit cost of the product\n",
        "param n_step integer > 0;               # Number of steps in the piecewise linear price function\n",
        "param demand {1..n_step} >= 0;          # Demand values at each price step\n",
        "param price {1..n_step} >= 0;           # Price values for each demand step\n",
        "\n",
        "### VARIABLES\n",
        "# Define decision variables for point selection\n",
        "var IsSelect {1..n_step} binary;        # Binary decision variable: 1 if point is selected, 0 otherwise\n",
        "\n",
        "### OBJECTIVE\n",
        "# Maximize total profit based on selected point\n",
        "maximize TotalProfit:\n",
        "    sum {p in 1..n_step} demand[p] * (price[p] - unit_cost) * IsSelect[p];\n",
        "\n",
        "### CONSTRAINTS\n",
        "# Ensure exactly one point is selected\n",
        "subject to OnePriceSelected:\n",
        "    sum {p in 1..n_step} IsSelect[p] = 1;   # Exactly one point is selected"
      ]
    },
    {
      "cell_type": "markdown",
      "metadata": {},
      "source": [
        "## 3.2. Load data"
      ]
    },
    {
      "cell_type": "code",
      "execution_count": 5,
      "metadata": {},
      "outputs": [],
      "source": [
        "from scipy.interpolate import interp1d\n",
        "ampl.read('demand_elasticity__model.mod')                     # Load the AMPL model from the file\n",
        "\n",
        "# Data for demand and price\n",
        "data = [(1, 10), (3, 7), (5, 5), (7, 4), (9, 3.8), (11, 4), (13, 3), (15, 1), (17, 0.5), (19, 0)]\n",
        "\n",
        "ampl.param['unit_cost'] = 2                                     # Unit cost of the product\n",
        "ampl.param['n_step'] = len(data)                               # Number of discrete steps in the data\n",
        "\n",
        "demand_param = ampl.getParameter(\"demand\")                      # Get the 'demand' parameter\n",
        "price_param = ampl.getParameter(\"price\")                        # Get the 'price' parameter\n",
        "for i, (demand_value, price_value) in enumerate(data, start=1): # Loop through data points\n",
        "    demand_param.set(i, demand_value)                           # Assign demand value to each step\n",
        "    price_param.set(i, price_value)                             # Assign price value to each step"
      ]
    },
    {
      "cell_type": "markdown",
      "metadata": {},
      "source": [
        "## 3.3. Solve problem"
      ]
    },
    {
      "cell_type": "code",
      "execution_count": 6,
      "metadata": {},
      "outputs": [],
      "source": [
        "# Set the solver type for use in solving the problems\n",
        "solver = 'cplex'  # Use CBC solver for optimization tasks\n",
        "\n",
        "ampl.option['show_stats'] = 0 # Show problem size statistics (default: 0)\n",
        "ampl.option['display_1col'] = 0 # Disable single-column data display\n",
        "#ampl.option['omit_zero_rows'] = 1 # Hide rows with zero values\n",
        "#ampl.option['omit_zero_cols'] = 1 # Hide columns with zero values\n",
        "ampl.option['mp_options'] = 'outlev=1 lim:time=20'   # Configure CBC options (output level and time limit)\n",
        "\n",
        "ampl.solve(solver=solver, verbose=False)   # Solve the optimization problem using CBC solver  "
      ]
    },
    {
      "cell_type": "markdown",
      "metadata": {},
      "source": [
        "## 3.4. Display results"
      ]
    },
    {
      "cell_type": "code",
      "execution_count": 7,
      "metadata": {},
      "outputs": [
        {
          "name": "stdout",
          "output_type": "stream",
          "text": [
            ":       _varname    _var _var.lb _var.ub _var.rc _var.slack    :=\n",
            "1    'IsSelect[1]'    0      0       1       8        0\n",
            "2    'IsSelect[2]'    0      0       1      15        0\n",
            "3    'IsSelect[3]'    0      0       1      15        0\n",
            "4    'IsSelect[4]'    0      0       1      14        0\n",
            "5    'IsSelect[5]'    0      0       1      16.2      0\n",
            "6    'IsSelect[6]'    1      0       1      22        0\n",
            "7    'IsSelect[7]'    0      0       1      13        0\n",
            "8    'IsSelect[8]'    0      0       1     -15        0\n",
            "9    'IsSelect[9]'    0      0       1     -25.5      0\n",
            "10   'IsSelect[10]'   0      0       1     -38        0\n",
            ";\n",
            "\n",
            ":       _conname     _con _con.body _con.lb _con.ub _con.slack    :=\n",
            "1   OnePriceSelected   0       1        1       1        0\n",
            ";\n",
            "\n",
            ":    _objname   _obj    :=\n",
            "1   TotalProfit   22\n",
            ";\n",
            "\n"
          ]
        }
      ],
      "source": [
        "# Display results for key variables\n",
        "ampl.display('_varname', '_var', '_var.lb', '_var.ub', '_var.rc', '_var.slack')\n",
        "ampl.display('_conname', '_con', '_con.body', '_con.lb', '_con.ub', '_con.slack')\n",
        "ampl.display('_objname', '_obj')"
      ]
    },
    {
      "cell_type": "markdown",
      "metadata": {},
      "source": [
        "# 4. Approach#2 (Maximum demand for optimal price)\n",
        "Ultimately, this approach determines the maximum demand for a given price level by the key points.\n",
        "\n",
        "![alt text](Price_Demand_Elastisity_3.jpg)\n",
        "\n",
        "## 4.1. AMPL Model Formulation"
      ]
    },
    {
      "cell_type": "code",
      "execution_count": 8,
      "metadata": {},
      "outputs": [
        {
          "name": "stdout",
          "output_type": "stream",
          "text": [
            "Overwriting demand_elasticity_1_model.mod\n"
          ]
        }
      ],
      "source": [
        "%%writefile demand_elasticity_1_model.mod\n",
        "reset;\n",
        "\n",
        "# Model Name: # Pricing Optimization\n",
        "# Description: This model maximizes total revenue by selecting the optimal price step and managing quantity sold under piecewise linear pricing.\n",
        "# Version: 1.0\n",
        "# Last Updated: Jan 2025\n",
        "\n",
        "### PARAMETERS\n",
        "# Input parameters defining total quantity, cost, price steps, and demand\n",
        "param unit_cost >= 0;                   # Unit cost of the product\n",
        "param n_step integer > 0;               # Number of steps in the piecewise linear price function\n",
        "param demand {1..n_step+1} >= 0;        # Demand values at each price step\n",
        "param price {1..n_step+1} >= 0;         # Price values for each demand step\n",
        "\n",
        "### VARIABLES\n",
        "# Decision variables for managing quantity and selecting price steps\n",
        "var IsSelect {1..n_step} binary;        # Binary decision variable: 1 if point is selected, 0 otherwise\n",
        "var Quantity_Sold {1..n_step} >= 0, integer; # Quantity sold at each price step\n",
        "\n",
        "### OBJECTIVE\n",
        "maximize Total_Profit:                  # Maximize total revenue from sales while considering costs and constraints\n",
        "    sum{i in 1..n_step} Quantity_Sold[i] * (price[i] - unit_cost); \n",
        "\n",
        "### CONSTRAINTS\n",
        "# Ensure logical and physical constraints are met\n",
        "s.t. OnePriceSelected:                  # Only one price step can be selected\n",
        "    sum {i in 1..n_step} IsSelect[i] = 1;\n",
        "\n",
        "s.t. Demand_Upper_Bound {i in 1..n_step-1}:# Quantity sold must align with selected price step\n",
        "    Quantity_Sold[i] <= (demand[i+1] - 0.0001)  * IsSelect[i] ;"
      ]
    },
    {
      "cell_type": "markdown",
      "metadata": {},
      "source": [
        "## 4.2. Load data"
      ]
    },
    {
      "cell_type": "code",
      "execution_count": 9,
      "metadata": {},
      "outputs": [],
      "source": [
        "ampl.read('demand_elasticity_1_model.mod')                      # Load the AMPL model from the file\n",
        "\n",
        "# Data for demand and price\n",
        "data = [(1, 10), (3, 7), (5, 5), (7, 4), (9, 3.8), (11, 4), (13, 3), (15, 1), (17, 0.5), (19, 0)]\n",
        "\n",
        "ampl.param['unit_cost'] = 2                                     # Unit cost of the product\n",
        "ampl.param['n_step'] = len(data) -1                             # Number of discrete steps in the data\n",
        "\n",
        "demand_param = ampl.getParameter(\"demand\")                      # Get the 'demand' parameter\n",
        "price_param = ampl.getParameter(\"price\")                        # Get the 'price' parameter\n",
        "for i, (demand_value, price_value) in enumerate(data, start=1): # Loop through data points\n",
        "    demand_param.set(i, demand_value)                           # Assign demand value to each step\n",
        "    price_param.set(i, price_value)                             # Assign price value to each step"
      ]
    },
    {
      "cell_type": "markdown",
      "metadata": {},
      "source": [
        "## 4.3. Solve problem"
      ]
    },
    {
      "cell_type": "code",
      "execution_count": 10,
      "metadata": {},
      "outputs": [],
      "source": [
        "# Set the solver type for use in solving the problems\n",
        "solver = 'cplex'  # Use CBC solver for optimization tasks\n",
        "\n",
        "ampl.option['show_stats'] = 0 # Show problem size statistics (default: 0)\n",
        "ampl.option['display_1col'] = 0 # Disable single-column data display\n",
        "#ampl.option['omit_zero_rows'] = 1 # Hide rows with zero values\n",
        "#ampl.option['omit_zero_cols'] = 1 # Hide columns with zero values\n",
        "ampl.option['mp_options'] = 'outlev=1 lim:time=20'   # Configure CBC options (output level and time limit)\n",
        "\n",
        "ampl.solve(solver=solver, verbose=False)   # Solve the optimization problem using CBC solver  "
      ]
    },
    {
      "cell_type": "markdown",
      "metadata": {},
      "source": [
        "## 4.4. Display results"
      ]
    },
    {
      "cell_type": "code",
      "execution_count": 11,
      "metadata": {},
      "outputs": [
        {
          "name": "stdout",
          "output_type": "stream",
          "text": [
            ":         _varname      _var _var.lb   _var.ub  _var.rc _var.slack    :=\n",
            "1    'IsSelect[1]'         0     0            1    0         0\n",
            "2    'IsSelect[2]'         0     0            1    0         0\n",
            "3    'IsSelect[3]'         0     0            1    0         0\n",
            "4    'IsSelect[4]'         0     0            1    0         0\n",
            "5    'IsSelect[5]'         0     0            1    0         0\n",
            "6    'IsSelect[6]'         1     0            1    0         0\n",
            "7    'IsSelect[7]'         0     0            1    0         0\n",
            "8    'IsSelect[8]'         0     0            1    0         0\n",
            "9    'IsSelect[9]'         0     0            1    0         0\n",
            "10   'Quantity_Sold[1]'    0     0            2    8         0\n",
            "11   'Quantity_Sold[2]'    0     0            4    5         0\n",
            "12   'Quantity_Sold[3]'    0     0            6    3         0\n",
            "13   'Quantity_Sold[4]'    0     0            8    2         0\n",
            "14   'Quantity_Sold[5]'    0     0           10    1.8       0\n",
            "15   'Quantity_Sold[6]'   12     0           12    2         0\n",
            "16   'Quantity_Sold[7]'    0     0           14    1         0\n",
            "17   'Quantity_Sold[8]'    0     0           16   -1         0\n",
            "18   'Quantity_Sold[9]'    0     0     Infinity   -1.5       0\n",
            ";\n",
            "\n",
            ":          _conname         _con _con.body    _con.lb  _con.ub _con.slack    :=\n",
            "1   OnePriceSelected          0     1                1     1      0\n",
            "2   'Demand_Upper_Bound[1]'   0     0        -Infinity     0      0\n",
            "3   'Demand_Upper_Bound[2]'   0     0        -Infinity     0      0\n",
            "4   'Demand_Upper_Bound[3]'   0     0        -Infinity     0      0\n",
            "5   'Demand_Upper_Bound[4]'   0     0        -Infinity     0      0\n",
            "6   'Demand_Upper_Bound[5]'   0     0        -Infinity     0      0\n",
            "7   'Demand_Upper_Bound[6]'   0    -0.9999   -Infinity     0      0.9999\n",
            "8   'Demand_Upper_Bound[7]'   0     0        -Infinity     0      0\n",
            "9   'Demand_Upper_Bound[8]'   0     0        -Infinity     0      0\n",
            ";\n",
            "\n",
            ":     _objname   _obj    :=\n",
            "1   Total_Profit   24\n",
            ";\n",
            "\n"
          ]
        }
      ],
      "source": [
        "# Display results for key variables\n",
        "ampl.display('_varname', '_var', '_var.lb', '_var.ub', '_var.rc', '_var.slack')\n",
        "ampl.display('_conname', '_con', '_con.body', '_con.lb', '_con.ub', '_con.slack')\n",
        "ampl.display('_objname', '_obj')"
      ]
    },
    {
      "cell_type": "markdown",
      "metadata": {},
      "source": [
        "# 5. Approach#3 (Using the built-in AMPL piecewise linear function)\n",
        "\n",
        "![alt text](Price_Demand_Elastisity_3.jpg)\n",
        "\n",
        "## 5.1. AMPL Model Formulation"
      ]
    },
    {
      "cell_type": "code",
      "execution_count": 12,
      "metadata": {},
      "outputs": [
        {
          "name": "stdout",
          "output_type": "stream",
          "text": [
            "Overwriting demand_elasticity_2_model.mod\n"
          ]
        }
      ],
      "source": [
        "%%writefile demand_elasticity_2_model.mod\n",
        "reset;\n",
        "\n",
        "# Model Name: Pricing Optimization (AMPL Piecewise construction for Price Elasticity of Demand)\n",
        "# Version: 1.0\n",
        "# Last Updated: Jan 2025\n",
        "\n",
        "### PARAMETERS\n",
        "# Input parameters defining total quantity, cost, price steps, and demand\n",
        "param unit_cost >= 0;                   # Unit cost of the product\n",
        "param n_step integer > 0;               # Number of steps in the piecewise linear price function\n",
        "param demand {1..n_step+1} >= 0;        # Demand values at each price step\n",
        "param price {1..n_step+1} >= 0;         # Price values for each demand step\n",
        "\n",
        "### VARIABLES\n",
        "# Decision variables for managing quantity and selecting price steps\n",
        "var IsSelect {1..n_step} binary;        # Binary decision variable: 1 if point is selected, 0 otherwise\n",
        "var Quantity_Sold {1..n_step} >= 0, integer; # Quantity sold at each price step\n",
        "\n",
        "### OBJECTIVE\n",
        "maximize Total_Profit:                  # Maximize total revenue from sales while considering costs and constraints\n",
        "    sum {i in 1..n_step} \n",
        "    <<demand[i]; {p in i..i+1} (price[p]- unit_cost)>> Quantity_Sold[i];\n",
        " # Find more information about the piecewise linear function:  https://ampl.com/wp-content/uploads/Chapter-17-Piecewise-Linear-Programs-AMPL-Book.pdf\n",
        "\n",
        "### CONSTRAINTS\n",
        "# Ensure logical and physical constraints are met\n",
        "s.t. OnePriceSelected:                  # Only one price step can be selected\n",
        "    sum {i in 1..n_step} IsSelect[i] = 1;\n",
        "\n",
        "s.t. Demand_Upper_Bound {i in 1..n_step-1}:# Quantity sold must align with selected price step\n",
        "    Quantity_Sold[i] <= (demand[i+1] - 0.0001)  * IsSelect[i] ;"
      ]
    },
    {
      "cell_type": "markdown",
      "metadata": {},
      "source": [
        "## 5.2. Load data"
      ]
    },
    {
      "cell_type": "code",
      "execution_count": 13,
      "metadata": {},
      "outputs": [],
      "source": [
        "ampl.read('demand_elasticity_2_model.mod')                      # Load the AMPL model from the file\n",
        "\n",
        "# Data for demand and price\n",
        "data = [(1, 10), (3, 7), (5, 5), (7, 4), (9, 3.8), (11, 4), (13, 3), (15, 1), (17, 0.5), (19, 0)]\n",
        "\n",
        "ampl.param['unit_cost'] = 2                                     # Unit cost of the product\n",
        "ampl.param['n_step'] = len(data) -1                             # Number of discrete steps in the data\n",
        "\n",
        "demand_param = ampl.getParameter(\"demand\")                      # Get the 'demand' parameter\n",
        "price_param = ampl.getParameter(\"price\")                        # Get the 'price' parameter\n",
        "for i, (demand_value, price_value) in enumerate(data, start=1): # Loop through data points\n",
        "    demand_param.set(i, demand_value)                           # Assign demand value to each step\n",
        "    price_param.set(i, price_value)                             # Assign price value to each step"
      ]
    },
    {
      "cell_type": "markdown",
      "metadata": {},
      "source": [
        "## 5.3. Solve problem"
      ]
    },
    {
      "cell_type": "code",
      "execution_count": 14,
      "metadata": {},
      "outputs": [],
      "source": [
        "# Set the solver type for use in solving the problems\n",
        "solver = 'cplex'  # Use CBC solver for optimization tasks\n",
        "\n",
        "ampl.option['show_stats'] = 0 # Show problem size statistics (default: 0)\n",
        "ampl.option['display_1col'] = 0 # Disable single-column data display\n",
        "#ampl.option['omit_zero_rows'] = 1 # Hide rows with zero values\n",
        "#ampl.option['omit_zero_cols'] = 1 # Hide columns with zero values\n",
        "ampl.option['mp_options'] = 'outlev=1 lim:time=20'   # Configure CBC options (output level and time limit)\n",
        "\n",
        "ampl.solve(solver=solver, verbose=False)   # Solve the optimization problem using CBC solver  "
      ]
    },
    {
      "cell_type": "markdown",
      "metadata": {},
      "source": [
        "## 5.4. Display results"
      ]
    },
    {
      "cell_type": "code",
      "execution_count": 15,
      "metadata": {},
      "outputs": [
        {
          "name": "stdout",
          "output_type": "stream",
          "text": [
            ":         _varname      _var _var.lb   _var.ub  _var.rc _var.slack    :=\n",
            "1    'IsSelect[1]'         0     0            1    0         0\n",
            "2    'IsSelect[2]'         0     0            1    0         0\n",
            "3    'IsSelect[3]'         0     0            1    0         0\n",
            "4    'IsSelect[4]'         0     0            1    0         0\n",
            "5    'IsSelect[5]'         0     0            1    0         0\n",
            "6    'IsSelect[6]'         1     0            1    0         0\n",
            "7    'IsSelect[7]'         0     0            1    0         0\n",
            "8    'IsSelect[8]'         0     0            1    0         0\n",
            "9    'IsSelect[9]'         0     0            1    0         0\n",
            "10   'Quantity_Sold[1]'    0     0            2    8         0\n",
            "11   'Quantity_Sold[2]'    0     0            4    5         0\n",
            "12   'Quantity_Sold[3]'    0     0            6    3         0\n",
            "13   'Quantity_Sold[4]'    0     0            8    2         0\n",
            "14   'Quantity_Sold[5]'    0     0           10    1.8       0\n",
            "15   'Quantity_Sold[6]'   12     0           12    0         0\n",
            "16   'Quantity_Sold[7]'    0     0           14    1         0\n",
            "17   'Quantity_Sold[8]'    0     0           16    0         0\n",
            "18   'Quantity_Sold[9]'    0     0     Infinity    0         0\n",
            ";\n",
            "\n",
            ":          _conname         _con _con.body    _con.lb  _con.ub _con.slack    :=\n",
            "1   OnePriceSelected          0     1                1     1      0\n",
            "2   'Demand_Upper_Bound[1]'   0     0        -Infinity     0      0\n",
            "3   'Demand_Upper_Bound[2]'   0     0        -Infinity     0      0\n",
            "4   'Demand_Upper_Bound[3]'   0     0        -Infinity     0      0\n",
            "5   'Demand_Upper_Bound[4]'   0     0        -Infinity     0      0\n",
            "6   'Demand_Upper_Bound[5]'   0     0        -Infinity     0      0\n",
            "7   'Demand_Upper_Bound[6]'   0    -0.9999   -Infinity     0      0.9999\n",
            "8   'Demand_Upper_Bound[7]'   0     0        -Infinity     0      0\n",
            "9   'Demand_Upper_Bound[8]'   0     0        -Infinity     0      0\n",
            ";\n",
            "\n",
            ":     _objname   _obj    :=\n",
            "1   Total_Profit   23\n",
            ";\n",
            "\n"
          ]
        }
      ],
      "source": [
        "# Display results for key variables\n",
        "ampl.display('_varname', '_var', '_var.lb', '_var.ub', '_var.rc', '_var.slack')\n",
        "ampl.display('_conname', '_con', '_con.body', '_con.lb', '_con.ub', '_con.slack')\n",
        "ampl.display('_objname', '_obj')"
      ]
    },
    {
      "cell_type": "markdown",
      "metadata": {},
      "source": [
        "# 6. Function Refinement (linear interpolation of data between nodes)\n",
        "\n",
        "![alt text](Price_Demand_Elastisity_5.jpg)"
      ]
    },
    {
      "cell_type": "markdown",
      "metadata": {},
      "source": [
        "## 6.1. Linear interpolation"
      ]
    },
    {
      "cell_type": "code",
      "execution_count": 4,
      "metadata": {},
      "outputs": [],
      "source": [
        "from scipy.interpolate import interp1d\n",
        "ampl.read('demand_elasticity_2_model.mod')                  # Load the AMPL model from the file\n",
        "\n",
        "# Define the data points as (X, Y) pairs\n",
        "data = [(1, 10), (3, 7), (5, 5), (7, 4), (9, 3.8), (11, 4), (13, 3), (15, 1), (17, 0.5), (19, 0)]\n",
        "x_points, y_points = zip(*data)                             # Extract X and Y values from the data points\n",
        "x_points = [x * 1 for x in x_points]                       # Multiply each x_point by 1\n",
        "y_points = [y * 1 for y in y_points]                       # Multiply each y_point by 1\n",
        "linear_interp = interp1d(x_points, y_points, kind='linear') # Create the linear interpolator\n",
        "\n",
        "# Generate new points and compute X*Y\n",
        "x_new = np.arange(min(x_points), max(x_points) + 1)         # Integer X values\n",
        "y_new = linear_interp(x_new)                                # Interpolated Y values\n",
        "interpolated_points = [(int(x), float(y)) for x, y in zip(x_new, y_new)] # Combine the new points and X*Y values\n",
        "\n",
        "# Set data for AMPL\n",
        "ampl.param['unit_cost'] = 2                                 # Unit cost of the product\n",
        "\n",
        "# !!!! (-1 for demand_elasticity_2_model.mod)\n",
        "ampl.param['n_step'] = len(interpolated_points)-1          # Number of discrete steps in the data \n",
        "                                                \n",
        "ampl.param['demand'] = {i+1: p[0] for i, p in enumerate(interpolated_points)}\n",
        "ampl.param['price'] = {i+1: p[1] for i, p in enumerate(interpolated_points)}"
      ]
    },
    {
      "cell_type": "markdown",
      "metadata": {},
      "source": [
        "## 6.2. Solve problem & Display results"
      ]
    },
    {
      "cell_type": "code",
      "execution_count": 5,
      "metadata": {},
      "outputs": [
        {
          "name": "stdout",
          "output_type": "stream",
          "text": [
            ":         _varname       _var _var.lb   _var.ub  _var.rc _var.slack    :=\n",
            "1    'IsSelect[1]'          0     0            1     0        0\n",
            "2    'IsSelect[2]'          0     0            1     0        0\n",
            "3    'IsSelect[3]'          0     0            1     0        0\n",
            "4    'IsSelect[4]'          0     0            1     0        0\n",
            "5    'IsSelect[5]'          0     0            1     0        0\n",
            "6    'IsSelect[6]'          0     0            1     0        0\n",
            "7    'IsSelect[7]'          0     0            1     0        0\n",
            "8    'IsSelect[8]'          0     0            1     0        0\n",
            "9    'IsSelect[9]'          0     0            1     0        0\n",
            "10   'IsSelect[10]'         0     0            1     0        0\n",
            "11   'IsSelect[11]'         1     0            1     0        0\n",
            "12   'IsSelect[12]'         0     0            1     0        0\n",
            "13   'IsSelect[13]'         0     0            1     0        0\n",
            "14   'IsSelect[14]'         0     0            1     0        0\n",
            "15   'IsSelect[15]'         0     0            1     0        0\n",
            "16   'IsSelect[16]'         0     0            1     0        0\n",
            "17   'IsSelect[17]'         0     0            1     0        0\n",
            "18   'IsSelect[18]'         0     0            1     0        0\n",
            "19   'Quantity_Sold[1]'     0     0            1     0        0\n",
            "20   'Quantity_Sold[2]'     0     0            2     0        0\n",
            "21   'Quantity_Sold[3]'     0     0            3     0        0\n",
            "22   'Quantity_Sold[4]'     0     0            4     0        0\n",
            "23   'Quantity_Sold[5]'     0     0            5     0        0\n",
            "24   'Quantity_Sold[6]'     0     0            6     0        0\n",
            "25   'Quantity_Sold[7]'     0     0            7     0        0\n",
            "26   'Quantity_Sold[8]'     0     0            8     0        0\n",
            "27   'Quantity_Sold[9]'     0     0            9     0        0\n",
            "28   'Quantity_Sold[10]'    0     0           10     0        0\n",
            "29   'Quantity_Sold[11]'   11     0           11     0        0\n",
            "30   'Quantity_Sold[12]'    0     0           12     0        0\n",
            "31   'Quantity_Sold[13]'    0     0           13     0        0\n",
            "32   'Quantity_Sold[14]'    0     0           14     0        0\n",
            "33   'Quantity_Sold[15]'    0     0           15     0        0\n",
            "34   'Quantity_Sold[16]'    0     0           16     0        0\n",
            "35   'Quantity_Sold[17]'    0     0           17     0        0\n",
            "36   'Quantity_Sold[18]'    0     0     Infinity     0        0\n",
            ";\n",
            "\n",
            ":            _conname         _con _con.body    _con.lb  _con.ub _con.slack\n",
            " :=\n",
            "1    OnePriceSelected           0     1                1     1      0\n",
            "2    'Demand_Upper_Bound[1]'    0     0        -Infinity     0      0\n",
            "3    'Demand_Upper_Bound[2]'    0     0        -Infinity     0      0\n",
            "4    'Demand_Upper_Bound[3]'    0     0        -Infinity     0      0\n",
            "5    'Demand_Upper_Bound[4]'    0     0        -Infinity     0      0\n",
            "6    'Demand_Upper_Bound[5]'    0     0        -Infinity     0      0\n",
            "7    'Demand_Upper_Bound[6]'    0     0        -Infinity     0      0\n",
            "8    'Demand_Upper_Bound[7]'    0     0        -Infinity     0      0\n",
            "9    'Demand_Upper_Bound[8]'    0     0        -Infinity     0      0\n",
            "10   'Demand_Upper_Bound[9]'    0     0        -Infinity     0      0\n",
            "11   'Demand_Upper_Bound[10]'   0     0        -Infinity     0      0\n",
            "12   'Demand_Upper_Bound[11]'   0    -0.9999   -Infinity     0      0.9999\n",
            "13   'Demand_Upper_Bound[12]'   0     0        -Infinity     0      0\n",
            "14   'Demand_Upper_Bound[13]'   0     0        -Infinity     0      0\n",
            "15   'Demand_Upper_Bound[14]'   0     0        -Infinity     0      0\n",
            "16   'Demand_Upper_Bound[15]'   0     0        -Infinity     0      0\n",
            "17   'Demand_Upper_Bound[16]'   0     0        -Infinity     0      0\n",
            "18   'Demand_Upper_Bound[17]'   0     0        -Infinity     0      0\n",
            ";\n",
            "\n",
            ":     _objname   _obj    :=\n",
            "1   Total_Profit   22\n",
            ";\n",
            "\n"
          ]
        }
      ],
      "source": [
        "# Set the solver type for use in solving the problems\n",
        "solver = 'cbc'  # Use CBC solver for optimization tasks\n",
        "\n",
        "ampl.option['show_stats'] = 1 # Show problem size statistics (default: 0)\n",
        "ampl.option['display_1col'] = 0 # Disable single-column data display\n",
        "ampl.option['_solve_time'] = 1 \n",
        "#ampl.option['omit_zero_rows'] = 1 # Hide rows with zero values\n",
        "#ampl.option['omit_zero_cols'] = 1 # Hide columns with zero values\n",
        "ampl.option['mp_options'] = 'outlev=1 lim:time=20'   # Configure CBC options (output level and time limit)\n",
        "\n",
        "ampl.solve(solver=solver, verbose=False)   # Solve the optimization problem using CBC solver  \n",
        "\n",
        "# Display results for key variables\n",
        "ampl.display('_varname', '_var', '_var.lb', '_var.ub', '_var.rc', '_var.slack')\n",
        "ampl.display('_conname', '_con', '_con.body', '_con.lb', '_con.ub', '_con.slack')\n",
        "ampl.display('_objname', '_obj')"
      ]
    },
    {
      "cell_type": "markdown",
      "metadata": {},
      "source": [
        "# 7. Retrieve solution in Python"
      ]
    },
    {
      "cell_type": "code",
      "execution_count": 8,
      "metadata": {},
      "outputs": [
        {
          "name": "stdout",
          "output_type": "stream",
          "text": [
            "    Quantity_Sold.val\n",
            "11                 11\n"
          ]
        }
      ],
      "source": [
        "# Initialize an empty dictionary to store AMPL variable data\n",
        "amplvar = dict()\n",
        "\n",
        "# Prepare a list of AMPL variables\n",
        "list_of_ampl_variables = [item[0] for item in ampl.get_variables()]\n",
        "\n",
        "# Iterate over each variable name in the list\n",
        "for key_ampl in list_of_ampl_variables:\n",
        "    # Skip certain variables that are not to be processed (these variables won't be included in the output)\n",
        "    if key_ampl not in ['']:\n",
        "        # Convert the AMPL variable data to a pandas DataFrame\n",
        "        df = ampl.var[key_ampl].to_pandas()\n",
        "        # Filter the DataFrame to include only rows where the variable's value is greater than a small threshold (1e-5)\n",
        "        filtered_df = df[df[f\"{key_ampl}.val\"] > 1e-5]\n",
        "        # Round the values in the DataFrame to two decimal places\n",
        "        rounded_df = filtered_df.round(2)\n",
        "        # Convert the filtered DataFrame to a dictionary and add it to the amplvar dictionary\n",
        "        amplvar[key_ampl] = rounded_df #.to_dict(orient='records')\n",
        "print (amplvar[key_ampl])"
      ]
    },
    {
      "cell_type": "markdown",
      "metadata": {},
      "source": [
        "# 8. Comparison of performance of different approaches\n",
        "Performance measurements were performed over the period\n",
        "   ```Python\n",
        "   x_points = [x * 100 for x in x_points]                       # Multiply each x_point by 100\n",
        "   y_points = [y * 100 for y in y_points]                       # Multiply each y_point by 100"
      ]
    },
    {
      "cell_type": "markdown",
      "metadata": {},
      "source": [
        "<table>\n",
        "  <thead>\n",
        "    <tr>\n",
        "      <th rowspan=\"2\"><center>Approach</center></th>\n",
        "      <th colspan=\"4\"><center>Variables</center></th>\n",
        "      <th colspan=\"5\"><center>Constraints</center></th>\n",
        "      <th colspan=\"3\"><center>Objective</center></th>\n",
        "      <th rowspan=\"1\"><center>_total_solve_time</center></th>\n",
        "    </tr>\n",
        "    <tr>\n",
        "      <th><center>All</center></th>\n",
        "      <th><center>Continues</center></th>\n",
        "      <th><center>Integer</center></th>\n",
        "      <th><center>Binary</center></th>\n",
        "      <th><center>All</center></th>\n",
        "      <th><center>Linear</center></th>\n",
        "      <th><center>nonzeros</center></th>\n",
        "      <th><center>Equality</center></th>\n",
        "      <th><center>Inequality</center></th>\n",
        "      <th><center>Liner</center></th>\n",
        "      <th><center>nonzeros</center></th>\n",
        "      <th><center>Value</center></th>\n",
        "      <th><center>Value</center></th>\n",
        "    </tr>\n",
        "  </thead>\n",
        "  <tbody>\n",
        "    <tr>\n",
        "      <td>Approach#1</td>\n",
        "      <td><center>1801</center></td>\n",
        "      <td></td>\n",
        "      <td></td>\n",
        "      <td><center>1801</center></td>\n",
        "      <td><center>1</center></td>\n",
        "      <td><center>1</center></td>\n",
        "      <td><center>1801</center></td>\n",
        "      <td><center>1</center></td>\n",
        "      <td></td>\n",
        "      <td><center>1</center></td>\n",
        "      <td><center>1800</center></td>\n",
        "      <td><center>437800</center></td>\n",
        "      <td><center>0.03125</center></td>\n",
        "    </tr>\n",
        "    <tr>\n",
        "           <td>Approach#2</td>\n",
        "      <td><center>3602</center></td>\n",
        "      <td></td>\n",
        "      <td><center>1801</center></td>\n",
        "      <td><center>1801</center></td>\n",
        "      <td><center>1801</center></td>\n",
        "      <td><center>1801</center></td>\n",
        "      <td><center>5401</center></td>\n",
        "      <td><center>1</center></td>\n",
        "      <td><center>1800</center></td>\n",
        "      <td><center>1</center></td>\n",
        "      <td><center>1800</center></td>\n",
        "      <td><center>437800</center></td>\n",
        "      <td><center>0.09375</center></td>\n",
        "    </tr>\n",
        "    <tr>\n",
        "      <td>Approach#3</td>\n",
        "      <td><center>3602</center></td>\n",
        "      <td><center>2</center></td>\n",
        "      <td><center>1800</center></td>\n",
        "      <td><center>1800</center></td>\n",
        "      <td><center>1801</center></td>\n",
        "      <td><center>1801</center></td>\n",
        "      <td><center>5401</center></td>\n",
        "      <td><center>2</center></td>\n",
        "      <td><center>1799</center></td>\n",
        "      <td><center>1</center></td>\n",
        "      <td><center>1800</center></td>\n",
        "      <td><center>437800</center></td>\n",
        "      <td><center>0.09375</center></td>\n",
        "    </tr>\n",
        "  </tbody>\n",
        "</table>\n"
      ]
    },
    {
      "cell_type": "markdown",
      "metadata": {},
      "source": [
        "# 9. Visualization of the data and solution"
      ]
    },
    {
      "cell_type": "code",
      "execution_count": 25,
      "metadata": {},
      "outputs": [
        {
          "data": {
            "image/png": "[encoded data removed]",
            "text/plain": [
              "<Figure size 1000x600 with 1 Axes>"
            ]
          },
          "metadata": {},
          "output_type": "display_data"
        },
        {
          "name": "stdout",
          "output_type": "stream",
          "text": [
            "Keys in amplvar: dict_keys(['IsSelect', 'Quantity_Sold'])\n"
          ]
        }
      ],
      "source": [
        "import matplotlib.pyplot as plt\n",
        "\n",
        "# Separate the data into X and Y values\n",
        "x_values, y_values = zip(*interpolated_points)\n",
        "\n",
        "# Find the y-coordinate\n",
        "x_target = amplvar['Quantity_Sold']['Quantity_Sold.val'].iloc[0]\n",
        "if x_target in x_values:\n",
        "    y_target = y_values[x_values.index(x_target)]\n",
        "else:\n",
        "    # Interpolate y-coordinate if x_target is not in x_values\n",
        "    from scipy.interpolate import interp1d\n",
        "    interpolation_function = interp1d(x_values, y_values, kind='linear')\n",
        "    y_target = interpolation_function(x_target)\n",
        "\n",
        "# Create a plot\n",
        "plt.figure(figsize=(10, 6))  # Set the figure size\n",
        "plt.plot(x_values, y_values, marker='o', linestyle='-', color='b', label='Demand Elasticity')\n",
        "\n",
        "# Add a vertical line at x = 1100\n",
        "plt.axvline(x=x_target, color='r', linestyle='--', label=f'x = {x_target}')\n",
        "\n",
        "# Add a horizontal line at the intersection point\n",
        "plt.axhline(y=y_target, color='g', linestyle='--', label=f'y = {y_target:.2f}')\n",
        "\n",
        "# Mark the intersection point\n",
        "plt.scatter([x_target], [y_target], color='purple', zorder=5, label='Intersection Point')\n",
        "\n",
        "# Customize the plot\n",
        "plt.title(\"Demand Elasticity\", fontsize=16)\n",
        "plt.xlabel(\"Demand\", fontsize=12)\n",
        "plt.ylabel(\"Price\", fontsize=12)\n",
        "plt.grid(True, linestyle='--', alpha=0.7)  # Add a grid\n",
        "plt.legend(fontsize=12)  # Add a legend\n",
        "\n",
        "# Show the plot\n",
        "plt.show()\n",
        "print(\"Keys in amplvar:\", amplvar.keys())"
      ]
    }
  ],
  "metadata": {
    "colab": {
      "provenance": []
    },
    "kernelspec": {
      "display_name": "Python 3",
      "language": "python",
      "name": "python3"
    },
    "language_info": {
      "codemirror_mode": {
        "name": "ipython",
        "version": 3
      },
      "file_extension": ".py",
      "mimetype": "text/x-python",
      "name": "python",
      "nbconvert_exporter": "python",
      "pygments_lexer": "ipython3",
      "version": "3.12.5"
    },
    "widgets": {
      "application/vnd.jupyter.widget-state+json": {
        "056f1660a7d047b2a5462fae0a458c46": {
          "model_module": "@jupyter-widgets/output",
          "model_module_version": "1.0.0",
          "model_name": "OutputModel",
          "state": {
            "_dom_classes": [],
            "_model_module": "@jupyter-widgets/output",
            "_model_module_version": "1.0.0",
            "_model_name": "OutputModel",
            "_view_count": null,
            "_view_module": "@jupyter-widgets/output",
            "_view_module_version": "1.0.0",
            "_view_name": "OutputView",
            "layout": "IPY_MODEL_84b27f894fed4369a4eef2034fbe31b3",
            "msg_id": "",
            "outputs": [
              {
                "name": "stdout",
                "output_type": "stream",
                "text": [
                  "AMPL License UUID (you can use free https://ampl.com/ce or https://ampl.com/courses licenses):\n"
                ]
              }
            ]
          }
        },
        "22e725d8437b4d3fb97758ef7ad05fea": {
          "model_module": "@jupyter-widgets/output",
          "model_module_version": "1.0.0",
          "model_name": "OutputModel",
          "state": {
            "_dom_classes": [],
            "_model_module": "@jupyter-widgets/output",
            "_model_module_version": "1.0.0",
            "_model_name": "OutputModel",
            "_view_count": null,
            "_view_module": "@jupyter-widgets/output",
            "_view_module_version": "1.0.0",
            "_view_name": "OutputView",
            "layout": "IPY_MODEL_5eabe03160684b70b3605101c789e14f",
            "msg_id": "",
            "outputs": []
          }
        },
        "23be63195d4c45ea8bb2aa657b1e2312": {
          "model_module": "@jupyter-widgets/controls",
          "model_module_version": "1.5.0",
          "model_name": "TextModel",
          "state": {
            "_dom_classes": [],
            "_model_module": "@jupyter-widgets/controls",
            "_model_module_version": "1.5.0",
            "_model_name": "TextModel",
            "_view_count": null,
            "_view_module": "@jupyter-widgets/controls",
            "_view_module_version": "1.5.0",
            "_view_name": "TextView",
            "continuous_update": true,
            "description": "License UUID:",
            "description_tooltip": null,
            "disabled": false,
            "layout": "IPY_MODEL_91577267a4c9421b9910f43ae01abf1c",
            "placeholder": "​",
            "style": "IPY_MODEL_ed0ce2d62cde45b0b3036cddb0951655",
            "value": ""
          }
        },
        "5eabe03160684b70b3605101c789e14f": {
          "model_module": "@jupyter-widgets/base",
          "model_module_version": "1.2.0",
          "model_name": "LayoutModel",
          "state": {
            "_model_module": "@jupyter-widgets/base",
            "_model_module_version": "1.2.0",
            "_model_name": "LayoutModel",
            "_view_count": null,
            "_view_module": "@jupyter-widgets/base",
            "_view_module_version": "1.2.0",
            "_view_name": "LayoutView",
            "align_content": null,
            "align_items": null,
            "align_self": null,
            "border": null,
            "bottom": null,
            "display": null,
            "flex": null,
            "flex_flow": null,
            "grid_area": null,
            "grid_auto_columns": null,
            "grid_auto_flow": null,
            "grid_auto_rows": null,
            "grid_column": null,
            "grid_gap": null,
            "grid_row": null,
            "grid_template_areas": null,
            "grid_template_columns": null,
            "grid_template_rows": null,
            "height": null,
            "justify_content": null,
            "justify_items": null,
            "left": null,
            "margin": null,
            "max_height": null,
            "max_width": null,
            "min_height": null,
            "min_width": null,
            "object_fit": null,
            "object_position": null,
            "order": null,
            "overflow": null,
            "overflow_x": null,
            "overflow_y": null,
            "padding": null,
            "right": null,
            "top": null,
            "visibility": null,
            "width": null
          }
        },
        "6b3c2325c2824a0aa00cb18f163be220": {
          "model_module": "@jupyter-widgets/base",
          "model_module_version": "1.2.0",
          "model_name": "LayoutModel",
          "state": {
            "_model_module": "@jupyter-widgets/base",
            "_model_module_version": "1.2.0",
            "_model_name": "LayoutModel",
            "_view_count": null,
            "_view_module": "@jupyter-widgets/base",
            "_view_module_version": "1.2.0",
            "_view_name": "LayoutView",
            "align_content": null,
            "align_items": null,
            "align_self": null,
            "border": null,
            "bottom": null,
            "display": null,
            "flex": null,
            "flex_flow": null,
            "grid_area": null,
            "grid_auto_columns": null,
            "grid_auto_flow": null,
            "grid_auto_rows": null,
            "grid_column": null,
            "grid_gap": null,
            "grid_row": null,
            "grid_template_areas": null,
            "grid_template_columns": null,
            "grid_template_rows": null,
            "height": null,
            "justify_content": null,
            "justify_items": null,
            "left": null,
            "margin": null,
            "max_height": null,
            "max_width": null,
            "min_height": null,
            "min_width": null,
            "object_fit": null,
            "object_position": null,
            "order": null,
            "overflow": null,
            "overflow_x": null,
            "overflow_y": null,
            "padding": null,
            "right": null,
            "top": null,
            "visibility": null,
            "width": null
          }
        },
        "84b27f894fed4369a4eef2034fbe31b3": {
          "model_module": "@jupyter-widgets/base",
          "model_module_version": "1.2.0",
          "model_name": "LayoutModel",
          "state": {
            "_model_module": "@jupyter-widgets/base",
            "_model_module_version": "1.2.0",
            "_model_name": "LayoutModel",
            "_view_count": null,
            "_view_module": "@jupyter-widgets/base",
            "_view_module_version": "1.2.0",
            "_view_name": "LayoutView",
            "align_content": null,
            "align_items": null,
            "align_self": null,
            "border": null,
            "bottom": null,
            "display": null,
            "flex": null,
            "flex_flow": null,
            "grid_area": null,
            "grid_auto_columns": null,
            "grid_auto_flow": null,
            "grid_auto_rows": null,
            "grid_column": null,
            "grid_gap": null,
            "grid_row": null,
            "grid_template_areas": null,
            "grid_template_columns": null,
            "grid_template_rows": null,
            "height": null,
            "justify_content": null,
            "justify_items": null,
            "left": null,
            "margin": null,
            "max_height": null,
            "max_width": null,
            "min_height": null,
            "min_width": null,
            "object_fit": null,
            "object_position": null,
            "order": null,
            "overflow": null,
            "overflow_x": null,
            "overflow_y": null,
            "padding": null,
            "right": null,
            "top": null,
            "visibility": null,
            "width": null
          }
        },
        "91577267a4c9421b9910f43ae01abf1c": {
          "model_module": "@jupyter-widgets/base",
          "model_module_version": "1.2.0",
          "model_name": "LayoutModel",
          "state": {
            "_model_module": "@jupyter-widgets/base",
            "_model_module_version": "1.2.0",
            "_model_name": "LayoutModel",
            "_view_count": null,
            "_view_module": "@jupyter-widgets/base",
            "_view_module_version": "1.2.0",
            "_view_name": "LayoutView",
            "align_content": null,
            "align_items": null,
            "align_self": null,
            "border": null,
            "bottom": null,
            "display": null,
            "flex": null,
            "flex_flow": null,
            "grid_area": null,
            "grid_auto_columns": null,
            "grid_auto_flow": null,
            "grid_auto_rows": null,
            "grid_column": null,
            "grid_gap": null,
            "grid_row": null,
            "grid_template_areas": null,
            "grid_template_columns": null,
            "grid_template_rows": null,
            "height": null,
            "justify_content": null,
            "justify_items": null,
            "left": null,
            "margin": null,
            "max_height": null,
            "max_width": null,
            "min_height": null,
            "min_width": null,
            "object_fit": null,
            "object_position": null,
            "order": null,
            "overflow": null,
            "overflow_x": null,
            "overflow_y": null,
            "padding": null,
            "right": null,
            "top": null,
            "visibility": null,
            "width": null
          }
        },
        "9b984adffdda404e9e60862fbf27daab": {
          "model_module": "@jupyter-widgets/controls",
          "model_module_version": "1.5.0",
          "model_name": "VBoxModel",
          "state": {
            "_dom_classes": [],
            "_model_module": "@jupyter-widgets/controls",
            "_model_module_version": "1.5.0",
            "_model_name": "VBoxModel",
            "_view_count": null,
            "_view_module": "@jupyter-widgets/controls",
            "_view_module_version": "1.5.0",
            "_view_name": "VBoxView",
            "box_style": "",
            "children": [
              "IPY_MODEL_056f1660a7d047b2a5462fae0a458c46",
              "IPY_MODEL_9ff9e8a526424ff38a26f009d31593fd",
              "IPY_MODEL_22e725d8437b4d3fb97758ef7ad05fea",
              "IPY_MODEL_9efeb0f357954178a4001ce850eb20a3"
            ],
            "layout": "IPY_MODEL_6b3c2325c2824a0aa00cb18f163be220"
          }
        },
        "9efeb0f357954178a4001ce850eb20a3": {
          "model_module": "@jupyter-widgets/output",
          "model_module_version": "1.0.0",
          "model_name": "OutputModel",
          "state": {
            "_dom_classes": [],
            "_model_module": "@jupyter-widgets/output",
            "_model_module_version": "1.0.0",
            "_model_name": "OutputModel",
            "_view_count": null,
            "_view_module": "@jupyter-widgets/output",
            "_view_module_version": "1.0.0",
            "_view_name": "OutputView",
            "layout": "IPY_MODEL_b671885e2aab4ca0902eca16ce038a5a",
            "msg_id": "",
            "outputs": [
              {
                "name": "stdout",
                "output_type": "stream",
                "text": [
                  "Licensed to AMPL Community Edition License for the AMPL Model Colaboratory (https://ampl.com/colab).\n"
                ]
              }
            ]
          }
        },
        "9ff9e8a526424ff38a26f009d31593fd": {
          "model_module": "@jupyter-widgets/controls",
          "model_module_version": "1.5.0",
          "model_name": "HBoxModel",
          "state": {
            "_dom_classes": [],
            "_model_module": "@jupyter-widgets/controls",
            "_model_module_version": "1.5.0",
            "_model_name": "HBoxModel",
            "_view_count": null,
            "_view_module": "@jupyter-widgets/controls",
            "_view_module_version": "1.5.0",
            "_view_name": "HBoxView",
            "box_style": "",
            "children": [
              "IPY_MODEL_23be63195d4c45ea8bb2aa657b1e2312"
            ],
            "layout": "IPY_MODEL_b3855f2ba3d446d6a9d75bde3f50678d"
          }
        },
        "b3855f2ba3d446d6a9d75bde3f50678d": {
          "model_module": "@jupyter-widgets/base",
          "model_module_version": "1.2.0",
          "model_name": "LayoutModel",
          "state": {
            "_model_module": "@jupyter-widgets/base",
            "_model_module_version": "1.2.0",
            "_model_name": "LayoutModel",
            "_view_count": null,
            "_view_module": "@jupyter-widgets/base",
            "_view_module_version": "1.2.0",
            "_view_name": "LayoutView",
            "align_content": null,
            "align_items": null,
            "align_self": null,
            "border": null,
            "bottom": null,
            "display": null,
            "flex": null,
            "flex_flow": null,
            "grid_area": null,
            "grid_auto_columns": null,
            "grid_auto_flow": null,
            "grid_auto_rows": null,
            "grid_column": null,
            "grid_gap": null,
            "grid_row": null,
            "grid_template_areas": null,
            "grid_template_columns": null,
            "grid_template_rows": null,
            "height": null,
            "justify_content": null,
            "justify_items": null,
            "left": null,
            "margin": null,
            "max_height": null,
            "max_width": null,
            "min_height": null,
            "min_width": null,
            "object_fit": null,
            "object_position": null,
            "order": null,
            "overflow": null,
            "overflow_x": null,
            "overflow_y": null,
            "padding": null,
            "right": null,
            "top": null,
            "visibility": null,
            "width": null
          }
        },
        "b671885e2aab4ca0902eca16ce038a5a": {
          "model_module": "@jupyter-widgets/base",
          "model_module_version": "1.2.0",
          "model_name": "LayoutModel",
          "state": {
            "_model_module": "@jupyter-widgets/base",
            "_model_module_version": "1.2.0",
            "_model_name": "LayoutModel",
            "_view_count": null,
            "_view_module": "@jupyter-widgets/base",
            "_view_module_version": "1.2.0",
            "_view_name": "LayoutView",
            "align_content": null,
            "align_items": null,
            "align_self": null,
            "border": null,
            "bottom": null,
            "display": null,
            "flex": null,
            "flex_flow": null,
            "grid_area": null,
            "grid_auto_columns": null,
            "grid_auto_flow": null,
            "grid_auto_rows": null,
            "grid_column": null,
            "grid_gap": null,
            "grid_row": null,
            "grid_template_areas": null,
            "grid_template_columns": null,
            "grid_template_rows": null,
            "height": null,
            "justify_content": null,
            "justify_items": null,
            "left": null,
            "margin": null,
            "max_height": null,
            "max_width": null,
            "min_height": null,
            "min_width": null,
            "object_fit": null,
            "object_position": null,
            "order": null,
            "overflow": null,
            "overflow_x": null,
            "overflow_y": null,
            "padding": null,
            "right": null,
            "top": null,
            "visibility": null,
            "width": null
          }
        },
        "ed0ce2d62cde45b0b3036cddb0951655": {
          "model_module": "@jupyter-widgets/controls",
          "model_module_version": "1.5.0",
          "model_name": "DescriptionStyleModel",
          "state": {
            "_model_module": "@jupyter-widgets/controls",
            "_model_module_version": "1.5.0",
            "_model_name": "DescriptionStyleModel",
            "_view_count": null,
            "_view_module": "@jupyter-widgets/base",
            "_view_module_version": "1.2.0",
            "_view_name": "StyleView",
            "description_width": "initial"
          }
        }
      }
    }
  },
  "nbformat": 4,
  "nbformat_minor": 4
}
