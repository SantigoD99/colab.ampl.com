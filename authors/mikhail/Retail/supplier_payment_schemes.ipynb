{
  "cells": [
    {
      "cell_type": "markdown",
      "metadata": {
        "id": "7RjB1ipC7KbS"
      },
      "source": [
        "# Optimizing Procurement and Sales Strategies for a Retail Chain with Supplier Payment Schemes\n",
        "[![supplier_payment_schemes.ipynb](https://img.shields.io/badge/github-%23121011.svg?logo=github)](https://github.com/ampl/colab.ampl.com/blob/master/authors/mikhail/Retail/supplier_payment_schemes.ipynb) [![Open In Colab](https://colab.research.google.com/assets/colab-badge.svg)](https://colab.research.google.com/github/ampl/colab.ampl.com/blob/master/authors/mikhail/Retail/supplier_payment_schemes.ipynb) [![Kaggle](https://kaggle.com/static/images/open-in-kaggle.svg)](https://kaggle.com/kernels/welcome?src=https://github.com/ampl/colab.ampl.com/blob/master/authors/mikhail/Retail/supplier_payment_schemes.ipynb) [![Gradient](https://assets.paperspace.io/img/gradient-badge.svg)](https://console.paperspace.com/github/ampl/colab.ampl.com/blob/master/authors/mikhail/Retail/supplier_payment_schemes.ipynb) [![Open In SageMaker Studio Lab](https://studiolab.sagemaker.aws/studiolab.svg)](https://studiolab.sagemaker.aws/import/github/ampl/colab.ampl.com/blob/master/authors/mikhail/Retail/supplier_payment_schemes.ipynb) [![Hits](https://h.ampl.com/https://github.com/ampl/colab.ampl.com/blob/master/authors/mikhail/Retail/supplier_payment_schemes.ipynb)](https://colab.ampl.com)\n",
        "\n",
        "## Introduction\n",
        "\n",
        "In the competitive landscape of retail, managing procurement and sales strategies effectively is critical for profitability. This model addresses the complexities of retail operations by optimizing procurement plans, balancing supplier payment schemes, and accounting for variable demand, storage constraints, and losses. By incorporating a detailed financial framework, the model aims to maximize the retail chain's profit while adhering to operational and contractual requirements.\n",
        "\n",
        "[*Partner with the AMPL team to transform complex problems into optimized solutions. AMPL consulting services combine deep technical knowledge with industry-leading insights, helping you unlock the full potential of optimization within your organization.*](https://ampl.com/services/)\n",
        "\n",
        "Tags: amplpy, mip, inventory-management, cash-flow-management, payment-schemes, discounting, multi-period-planning, cost-minimization, cbc, open-source\n",
        "\n",
        "Notebook author: Mikhail Riabtsev <<mail@solverytic.com>>\n",
        "***"
      ]
    },
    {
      "cell_type": "markdown",
      "metadata": {},
      "source": [
        "# 1. Problem Statement  \n",
        "\n",
        "The retail chain ***\"YourRetail\"*** operates by offering a wide range of products sourced from suppliers and manufacturers. To maintain its competitive edge, ***\"YourRetail\"*** applies a standard trade markup of 25%. However, managing inventory, cash flow, and overall profitability is challenging due to the dynamic nature of demand, which is influenced by seasonal elasticity.  \n",
        "\n",
        "## Key Features of the Problem  \n",
        "\n",
        "### Product Assortment  \n",
        "- ***\"YourRetail\"*** offers 50 product types, [each with different purchase prices](https://raw.githubusercontent.com/ampl/colab.ampl.com/master/authors/mikhail/Retail/Price.csv) depending on the payment scheme used.  \n",
        "- Prices are categorized as follows:  \n",
        "  - **Price A**: Cost under Scheme A.  \n",
        "  - **Price B**: Cost under Scheme B (5% higher than Price A).  \n",
        "  - **Price C**: Cost under Scheme C (10% higher than Price A).  \n",
        "\n",
        "### Payment Schemes  \n",
        "***\"YourRetail\"*** employs three distinct payment schemes, each impacting cash flow and procurement costs:  \n",
        "- **Scheme A**: Full payment is made upon receipt of goods.  \n",
        "- **Scheme B**: Payment is split into two installments:  \n",
        "  - 50% upon delivery.  \n",
        "  - Remaining 50% after one month, with a 5% price increase compared to Scheme A.  \n",
        "- **Scheme C**: Goods are accepted on consignment, with full payment made one month after delivery. The purchase price increases by 10% compared to Scheme A.  \n",
        "\n",
        "### Demand and Planning Horizon  \n",
        "- [Weekly demand forecasts for all 50 products are available for the next 27 weeks.](https://raw.githubusercontent.com/ampl/colab.ampl.com/master/authors/mikhail/Retail/Retail.csv)  \n",
        "\n",
        "### Storage Capacity and Costs  \n",
        "- ***\"YourRetail\"*** operates a warehouse with a total capacity of **2,000 square meters**.  \n",
        "- Weekly storage cost is **$0.10 per square meter**.  \n",
        "\n",
        "### Financial Constraints  \n",
        "- Initial working capital: **$15,000**.  \n",
        "- Discount rate: **5% annually**, representing the time value of money.  "
      ]
    },
    {
      "cell_type": "markdown",
      "metadata": {
        "id": "S9cE7NlKbya3"
      },
      "source": [
        "## Objective\n",
        "\n",
        "### The goal is to maximize total profit over the 27-week planning horizon, considering the following factors:\n",
        "\n",
        "- Revenue generated from product sales.  \n",
        "- Costs incurred due to procurement, storage, and delayed payments under different schemes.  \n",
        "- Constraints on cash flow, warehouse capacity, and operational feasibility.  \n",
        "\n",
        "***"
      ]
    },
    {
      "cell_type": "markdown",
      "metadata": {
        "id": "JlNWxR89bya3"
      },
      "source": [
        "## 2. Download Necessary Extensions and Libraries\n",
        "Let's start by downloading the necessary extensions and libraries"
      ]
    },
    {
      "cell_type": "code",
      "execution_count": 1,
      "metadata": {
        "colab": {
          "base_uri": "https://localhost:8080/"
        },
        "id": "rQ50dBwL7KbX",
        "outputId": "e63bf372-11ab-410f-aa3a-0e712bba6372"
      },
      "outputs": [],
      "source": [
        "# Install dependencies\n",
        "%pip install -q amplpy pandas numpy\n",
        "import pandas as pd  # Loading panda to work with pandas.DataFrame objects (https://pandas.pydata.org/)\n",
        "import numpy as np  # Loading numpy to perform multidimensional calculations numpy.matrix (https://numpy.org/)\n",
        "import math"
      ]
    },
    {
      "cell_type": "code",
      "execution_count": 2,
      "metadata": {
        "colab": {
          "base_uri": "https://localhost:8080/",
          "height": 84,
          "referenced_widgets": [
            "9b984adffdda404e9e60862fbf27daab",
            "056f1660a7d047b2a5462fae0a458c46",
            "9ff9e8a526424ff38a26f009d31593fd",
            "22e725d8437b4d3fb97758ef7ad05fea",
            "9efeb0f357954178a4001ce850eb20a3",
            "6b3c2325c2824a0aa00cb18f163be220",
            "23be63195d4c45ea8bb2aa657b1e2312",
            "b3855f2ba3d446d6a9d75bde3f50678d",
            "91577267a4c9421b9910f43ae01abf1c",
            "ed0ce2d62cde45b0b3036cddb0951655",
            "84b27f894fed4369a4eef2034fbe31b3",
            "5eabe03160684b70b3605101c789e14f",
            "b671885e2aab4ca0902eca16ce038a5a"
          ]
        },
        "id": "s7DEaRp87KbY",
        "outputId": "f8a81236-e219-4892-9fd8-f7429dbca7fa"
      },
      "outputs": [],
      "source": [
        "# Google Colab & Kaggle integration\n",
        "from amplpy import AMPL, ampl_notebook\n",
        "\n",
        "ampl = ampl_notebook(\n",
        "    modules=[\"cbc\", \"highs\", \"gurobi\"],  # modules to install\n",
        "    license_uuid=\"default\",  # license to use\n",
        ")  # instantiate AMPL object and register magics"
      ]
    },
    {
      "cell_type": "markdown",
      "metadata": {
        "id": "m-L6M1tabya4"
      },
      "source": [
        "## 3. AMPL Model Formulation"
      ]
    },
    {
      "cell_type": "code",
      "execution_count": 3,
      "metadata": {},
      "outputs": [
        {
          "name": "stdout",
          "output_type": "stream",
          "text": [
            "Overwriting supplier_payment_schemes.mod\n"
          ]
        }
      ],
      "source": [
        "%%writefile supplier_payment_schemes.mod\n",
        "reset;\n",
        "\n",
        "# Model Name: Retail Chain Optimization\n",
        "# Version: 1.0\n",
        "# Last Updated: January 2025\n",
        "\n",
        "### SETS            \n",
        "param T >= 0;                                # Number of weeks in the planning horizon\n",
        "set PROD;                                    # Products, each modeled separately\n",
        "set CHAIN_ATTR;                              # Attributes of the retail chain (e.g., storage cost, warehouse space)\n",
        "set PAYMENT_SCHEME;                          # Different payment schemes ('A', 'B', 'C') with specific terms\n",
        "set PAYMENT_ATTR;                            # Attributes of payment schemes (e.g., fraction paid upfront, payment delay)\n",
        "set LINKS within {PROD, 1..T};               # Links between products and weeks for demand\n",
        "\n",
        "\n",
        "### PARAMETERS\n",
        "param demand {LINKS} >= 0;                  # Weekly demand for each product\n",
        "param area {PROD} default 1;                # Area occupied by each product\n",
        "param cost {PROD, PAYMENT_SCHEME} >= 0;     # Cost per product under each payment scheme\n",
        "param chain_attr {CHAIN_ATTR} >= 0;         # Retail chain attributes (e.g., storage cost, initial cash)\n",
        "param scheme_attr {PAYMENT_SCHEME, PAYMENT_ATTR} >= 0; # Attributes of each payment scheme\n",
        "param discount_rate >= 0;                   # Annual discount rate for time value of money\n",
        "param bigM = 10e4;                          # Large constant for constraint modeling\n",
        "\n",
        "\n",
        "### VARIABLES\n",
        "var Units_Purchased {PROD, 1..T, PAYMENT_SCHEME} >= 0;     # Units purchased for each scheme in each period\n",
        "var IsScheme_Selected {PROD, 1..T, PAYMENT_SCHEME} binary; # Binary indicator for chosen scheme per product and period\n",
        "var Units_Sold {(p,t) in LINKS, s in PAYMENT_SCHEME} >= 0; # Units sold per product, time, and payment scheme\n",
        "var Inventory_Level {PROD, 1..T, PAYMENT_SCHEME};          # Inventory level per product, scheme, and time\n",
        "var Cash_Flow {1..T} >= 0;                                 # Available cash flow per period\n",
        "\n",
        "\n",
        "### OBJECTIVE\n",
        "# Maximize total profit (revenues - costs - storage costs, discounted over time)\n",
        "maximize TotalProfit: \n",
        "    sum {t in 1..T, s in PAYMENT_SCHEME} (\n",
        "        sum {(p,t) in LINKS} Units_Sold[p,t,s] * cost[p,s] * chain_attr['markup']   # Revenue\n",
        "        - sum {p in PROD} Inventory_Level[p,t,s] * chain_attr['storage_cost'])      # Storage cost\n",
        "   * (1 / (1 + discount_rate)^t);                                                   # Discount factor\n",
        "\n",
        "### CONSTRAINTS\n",
        "# 1. Inventory dynamics: Update inventory levels based on purchases and sales\n",
        "s.t. InventoryDynamics {p in PROD, t in 1..T, s in PAYMENT_SCHEME}:\n",
        "    Inventory_Level[p,t,s] = \n",
        "        (if t = 1 then 0 else Inventory_Level[p,t-1,s])            # Previous period's inventory\n",
        "        + Units_Purchased[p,t,s]                                   # Current period purchases\n",
        "        - sum {(pp,tt) in LINKS: pp=p && tt=t} Units_Sold[p,t,s];  # Units sold in current period\n",
        "\n",
        "# 2. Cash flow dynamics: Update cash flow based on revenue, costs, and storage expenses\n",
        "s.t. CashFlowConstraint {t in 1..T}:\n",
        "    Cash_Flow[t] = \n",
        "        (if t = 1 then chain_attr['start_money'] else Cash_Flow[t-1]) +                    # Previous period's cash or initial cash\n",
        "        sum {(p,t) in LINKS, s in PAYMENT_SCHEME} (\n",
        "            Units_Sold[p,t,s] * cost[p,s] * (1 + chain_attr['markup'])                     # Revenue\n",
        "            - Units_Purchased[p,t,s] * cost[p,s] * scheme_attr[s, 'payment_fraction_now']  # Immediate payment\n",
        "            - sum {tt in 1..T: tt = t - scheme_attr[s, 'payment_delay'] and tt >= 1}\n",
        "                Units_Purchased[p,tt,s] * cost[p,s] * (1 - scheme_attr[s, 'payment_fraction_now'])     # Delayed payment\n",
        "        ) - sum {p in PROD, s in PAYMENT_SCHEME} Inventory_Level[p,t,s] * chain_attr['storage_cost'];  # Storage cost\n",
        "\n",
        "# 3. Scheme selection: Only one payment scheme can be selected for a product in each period\n",
        "s.t. SingleSchemeSelection {p in PROD, t in 1..T}:\n",
        "    sum {s in PAYMENT_SCHEME} IsScheme_Selected[p,t,s] = 1;\n",
        "\n",
        "# 4. Warehouse capacity: Total inventory across all products and schemes must fit within warehouse space\n",
        "s.t. WarehouseCapacity {t in 1..T}:\n",
        "    sum {p in PROD, s in PAYMENT_SCHEME} Inventory_Level[p,t,s] \n",
        "    <= chain_attr['warehouse_space'];\n",
        "\n",
        "# 5. Demand satisfaction: Total sales cannot exceed demand for each product in each period\n",
        "s.t. DemandSatisfaction {(p,t) in LINKS}:\n",
        "    sum {s in PAYMENT_SCHEME} Units_Sold[p,t,s] <= demand[p,t];\n",
        "\n",
        "# 6. Purchase balance: Ensure purchases stay within available cash flow\n",
        "s.t. PurchaseDynamics {t in 1..T}:\n",
        "    sum {p in PROD, s in PAYMENT_SCHEME} Units_Purchased[p,t,s] * cost[p,s] \n",
        "    <= Cash_Flow[t];\n",
        "\n",
        "# 7. Sales balance: Sales cannot exceed available inventory\n",
        "s.t. SalesBalance {(p,t) in LINKS, s in PAYMENT_SCHEME}:\n",
        "    Units_Sold[p,t,s] <= (if t = 1 then 0 else Inventory_Level[p,t-1,s]);\n",
        "\n",
        "# 8. Link purchases to selected schemes: Enforce purchases to match selected schemes\n",
        "s.t. PurchaseSchemeLink {p in PROD, t in 1..T, s in PAYMENT_SCHEME}:\n",
        "    Units_Purchased[p,t,s] - bigM * IsScheme_Selected[p,t,s] <= 0;\n"
      ]
    },
    {
      "cell_type": "markdown",
      "metadata": {
        "id": "o4k_ETtmbya5"
      },
      "source": [
        "## 4. Load data"
      ]
    },
    {
      "cell_type": "code",
      "execution_count": 4,
      "metadata": {
        "id": "426pSepKbya6"
      },
      "outputs": [],
      "source": [
        "ampl.read(\"supplier_payment_schemes.mod\")  # Load the AMPL model from the file\n",
        "\n",
        "# Load product data from CSV into pandas DataFrames\n",
        "df_1 = pd.read_csv(\"Price.csv\")  # Load product price data\n",
        "df_2 = pd.read_csv(\"Retail.csv\")  # Load retail demand data\n",
        "\n",
        "# Define the CHAIN_ATTR set with retail-specific attributes\n",
        "ampl.set[\"CHAIN_ATTR\"] = [\"start_money\", \"warehouse_space\", \"storage_cost\", \"markup\"]\n",
        "\n",
        "# Define the PAYMENT_SCHEME set with payment schemes 'A', 'B', 'C'\n",
        "ampl.set[\"PAYMENT_SCHEME\"] = [\"A\", \"B\", \"C\"]\n",
        "\n",
        "# Define the PAYMENT_ATTR set with payment-related attributes\n",
        "ampl.set[\"PAYMENT_ATTR\"] = [\"payment_fraction_now\", \"payment_delay\"]\n",
        "\n",
        "# Set the total number of periods based on the number of weeks in the retail data\n",
        "ampl.param[\"T\"] = max(df_2[\"week\"])\n",
        "\n",
        "# Assign product IDs to the PROD set in AMPL\n",
        "ampl.set[\"PROD\"] = set(df_1[\"prod_id\"])\n",
        "\n",
        "ampl.set[\"LINKS\"] = set(\n",
        "    tuple(x) for x in df_2[[\"prod_id\", \"week\"]].dropna().to_records(index=False)\n",
        ")\n",
        "\n",
        "# Prepare and assign demand data with integer keys (product ID, week) and demand values\n",
        "demand_data = {\n",
        "    (int(row[\"prod_id\"]), int(row[\"week\"])): int(row[\"demand\"])\n",
        "    for _, row in df_2.iterrows()\n",
        "}\n",
        "ampl.param[\"demand\"] = demand_data\n",
        "\n",
        "# Create the price data dictionary with product-price pairs for each scheme (A, B, C)\n",
        "price_data = {\n",
        "    (int(row[\"prod_id\"]), scheme): float(round(row[f\"price {scheme}\"], 2))\n",
        "    for _, row in df_1.iterrows()\n",
        "    for scheme in [\"A\", \"B\", \"C\"]\n",
        "}\n",
        "ampl.param[\"cost\"] = price_data\n",
        "\n",
        "# Assign specific retail chain parameters (e.g., start money, warehouse space, storage cost)\n",
        "ampl.param[\"chain_attr\"][\"start_money\"] = 15000\n",
        "ampl.param[\"chain_attr\"][\"warehouse_space\"] = 2000\n",
        "ampl.param[\"chain_attr\"][\"storage_cost\"] = 0.1\n",
        "ampl.param[\"chain_attr\"][\"markup\"] = 0.25\n",
        "\n",
        "# Define payment scheme attributes (payment fractions and delays)\n",
        "ampl.param[\"scheme_attr\"] = {\n",
        "    (\"A\", \"payment_fraction_now\"): 1,\n",
        "    (\"A\", \"payment_delay\"): 0,\n",
        "    (\"B\", \"payment_fraction_now\"): 0.5,\n",
        "    (\"B\", \"payment_delay\"): 4,\n",
        "    (\"C\", \"payment_fraction_now\"): 0,\n",
        "    (\"C\", \"payment_delay\"): 4,\n",
        "}\n",
        "\n",
        "# Define the discount rate as a weekly rate (annual discount rate divided by 52 weeks)\n",
        "ampl.param[\"discount_rate\"] = 0.05 / 52\n",
        "# ampl.display('LINKS', 'CHAIN_ATTR', 'PROD', 'PAYMENT_SCHEME', 'PAYMENT_ATTR', 'T', 'demand', 'cost', 'chain_attr', 'scheme_attr' )"
      ]
    },
    {
      "cell_type": "markdown",
      "metadata": {
        "id": "ji2yusGkbya6"
      },
      "source": [
        "## 5. Solve problem"
      ]
    },
    {
      "cell_type": "code",
      "execution_count": 5,
      "metadata": {
        "colab": {
          "base_uri": "https://localhost:8080/"
        },
        "id": "CX8CWK6sbya6",
        "outputId": "08d657cc-3d53-427a-d499-047a1ac17958"
      },
      "outputs": [],
      "source": [
        "# Set the solver type for use in solving the problems\n",
        "solver = \"cbc\"  # Use CBC solver for optimization tasks\n",
        "\n",
        "ampl.option[\"show_stats\"] = 1  # Show problem size statistics (default: 0)\n",
        "ampl.option[\"display_1col\"] = 0  # Disable single-column data display\n",
        "ampl.option[\"omit_zero_rows\"] = 1  # Hide rows with zero values\n",
        "ampl.option[\"omit_zero_cols\"] = 1  # Hide columns with zero values\n",
        "ampl.option[\"mp_options\"] = (\n",
        "    \"outlev=1 lim:time=20\"  # Configure CBC options (output level and time limit)\n",
        ")\n",
        "\n",
        "ampl.solve(\n",
        "    solver=solver, verbose=False\n",
        ")  # Solve the optimization problem using CBC solver"
      ]
    },
    {
      "cell_type": "markdown",
      "metadata": {},
      "source": [
        "## 6. Display results"
      ]
    },
    {
      "cell_type": "code",
      "execution_count": 6,
      "metadata": {},
      "outputs": [],
      "source": [
        "# Display results for key variables\n",
        "ampl.display(\n",
        "    \"Units_Sold\", \"Units_Purchased\", \"IsScheme_Selected\", \"Inventory_Level\", \"Cash_Flow\"\n",
        ")"
      ]
    },
    {
      "cell_type": "markdown",
      "metadata": {
        "id": "TbLRv2Tvbya6"
      },
      "source": [
        "## 7. Retrieve solution in Python"
      ]
    },
    {
      "cell_type": "code",
      "execution_count": 7,
      "metadata": {
        "id": "UlmVo33-bya6"
      },
      "outputs": [
        {
          "name": "stdout",
          "output_type": "stream",
          "text": [
            "                      Units_Sold.val\n",
            "index0 index1 index2                \n",
            "11704  2      B                  7.0\n",
            "       3      A                  2.0\n",
            "       4      B                  5.0\n",
            "       5      B                  5.0\n",
            "       6      C                 14.0\n",
            "...                              ...\n",
            "14561  23     C                 20.0\n",
            "       24     C                  6.0\n",
            "       25     C                 13.0\n",
            "       26     C                  9.0\n",
            "       27     C                  1.0\n",
            "\n",
            "[1183 rows x 1 columns]\n"
          ]
        }
      ],
      "source": [
        "# Initialize an empty dictionary to store AMPL variable data\n",
        "amplvar = dict()\n",
        "\n",
        "# Prepare a list of AMPL variables\n",
        "list_of_ampl_variables = [item[0] for item in ampl.get_variables()]\n",
        "\n",
        "# Iterate over each variable name in the list\n",
        "for key_ampl in list_of_ampl_variables:\n",
        "    # Skip certain variables that are not to be processed (these variables won't be included in the output)\n",
        "    if key_ampl not in [\"\"]:\n",
        "        # Convert the AMPL variable data to a pandas DataFrame\n",
        "        df = ampl.var[key_ampl].to_pandas()\n",
        "        # Filter the DataFrame to include only rows where the variable's value is greater than a small threshold (1e-5)\n",
        "        filtered_df = df[df[f\"{key_ampl}.val\"] > 1e-5]\n",
        "        # Round the values in the DataFrame to two decimal places\n",
        "        rounded_df = filtered_df.round(2)\n",
        "        # Convert the filtered DataFrame to a dictionary and add it to the amplvar dictionary\n",
        "        amplvar[key_ampl] = rounded_df  # .to_dict(orient='records')\n",
        "print(amplvar[key_ampl])"
      ]
    }
  ],
  "metadata": {
    "colab": {
      "provenance": []
    },
    "kernelspec": {
      "display_name": "Python 3 (ipykernel)",
      "language": "python",
      "name": "python3"
    },
    "language_info": {
      "codemirror_mode": {
        "name": "ipython",
        "version": 3
      },
      "file_extension": ".py",
      "mimetype": "text/x-python",
      "name": "python",
      "nbconvert_exporter": "python",
      "pygments_lexer": "ipython3",
      "version": "3.10.12"
    },
    "widgets": {
      "application/vnd.jupyter.widget-state+json": {
        "056f1660a7d047b2a5462fae0a458c46": {
          "model_module": "@jupyter-widgets/output",
          "model_module_version": "1.0.0",
          "model_name": "OutputModel",
          "state": {
            "_dom_classes": [],
            "_model_module": "@jupyter-widgets/output",
            "_model_module_version": "1.0.0",
            "_model_name": "OutputModel",
            "_view_count": null,
            "_view_module": "@jupyter-widgets/output",
            "_view_module_version": "1.0.0",
            "_view_name": "OutputView",
            "layout": "IPY_MODEL_84b27f894fed4369a4eef2034fbe31b3",
            "msg_id": "",
            "outputs": [
              {
                "name": "stdout",
                "output_type": "stream",
                "text": [
                  "AMPL License UUID (you can use free https://ampl.com/ce or https://ampl.com/courses licenses):\n"
                ]
              }
            ]
          }
        },
        "22e725d8437b4d3fb97758ef7ad05fea": {
          "model_module": "@jupyter-widgets/output",
          "model_module_version": "1.0.0",
          "model_name": "OutputModel",
          "state": {
            "_dom_classes": [],
            "_model_module": "@jupyter-widgets/output",
            "_model_module_version": "1.0.0",
            "_model_name": "OutputModel",
            "_view_count": null,
            "_view_module": "@jupyter-widgets/output",
            "_view_module_version": "1.0.0",
            "_view_name": "OutputView",
            "layout": "IPY_MODEL_5eabe03160684b70b3605101c789e14f",
            "msg_id": "",
            "outputs": []
          }
        },
        "23be63195d4c45ea8bb2aa657b1e2312": {
          "model_module": "@jupyter-widgets/controls",
          "model_module_version": "1.5.0",
          "model_name": "TextModel",
          "state": {
            "_dom_classes": [],
            "_model_module": "@jupyter-widgets/controls",
            "_model_module_version": "1.5.0",
            "_model_name": "TextModel",
            "_view_count": null,
            "_view_module": "@jupyter-widgets/controls",
            "_view_module_version": "1.5.0",
            "_view_name": "TextView",
            "continuous_update": true,
            "description": "License UUID:",
            "description_tooltip": null,
            "disabled": false,
            "layout": "IPY_MODEL_91577267a4c9421b9910f43ae01abf1c",
            "placeholder": "​",
            "style": "IPY_MODEL_ed0ce2d62cde45b0b3036cddb0951655",
            "value": ""
          }
        },
        "5eabe03160684b70b3605101c789e14f": {
          "model_module": "@jupyter-widgets/base",
          "model_module_version": "1.2.0",
          "model_name": "LayoutModel",
          "state": {
            "_model_module": "@jupyter-widgets/base",
            "_model_module_version": "1.2.0",
            "_model_name": "LayoutModel",
            "_view_count": null,
            "_view_module": "@jupyter-widgets/base",
            "_view_module_version": "1.2.0",
            "_view_name": "LayoutView",
            "align_content": null,
            "align_items": null,
            "align_self": null,
            "border": null,
            "bottom": null,
            "display": null,
            "flex": null,
            "flex_flow": null,
            "grid_area": null,
            "grid_auto_columns": null,
            "grid_auto_flow": null,
            "grid_auto_rows": null,
            "grid_column": null,
            "grid_gap": null,
            "grid_row": null,
            "grid_template_areas": null,
            "grid_template_columns": null,
            "grid_template_rows": null,
            "height": null,
            "justify_content": null,
            "justify_items": null,
            "left": null,
            "margin": null,
            "max_height": null,
            "max_width": null,
            "min_height": null,
            "min_width": null,
            "object_fit": null,
            "object_position": null,
            "order": null,
            "overflow": null,
            "overflow_x": null,
            "overflow_y": null,
            "padding": null,
            "right": null,
            "top": null,
            "visibility": null,
            "width": null
          }
        },
        "6b3c2325c2824a0aa00cb18f163be220": {
          "model_module": "@jupyter-widgets/base",
          "model_module_version": "1.2.0",
          "model_name": "LayoutModel",
          "state": {
            "_model_module": "@jupyter-widgets/base",
            "_model_module_version": "1.2.0",
            "_model_name": "LayoutModel",
            "_view_count": null,
            "_view_module": "@jupyter-widgets/base",
            "_view_module_version": "1.2.0",
            "_view_name": "LayoutView",
            "align_content": null,
            "align_items": null,
            "align_self": null,
            "border": null,
            "bottom": null,
            "display": null,
            "flex": null,
            "flex_flow": null,
            "grid_area": null,
            "grid_auto_columns": null,
            "grid_auto_flow": null,
            "grid_auto_rows": null,
            "grid_column": null,
            "grid_gap": null,
            "grid_row": null,
            "grid_template_areas": null,
            "grid_template_columns": null,
            "grid_template_rows": null,
            "height": null,
            "justify_content": null,
            "justify_items": null,
            "left": null,
            "margin": null,
            "max_height": null,
            "max_width": null,
            "min_height": null,
            "min_width": null,
            "object_fit": null,
            "object_position": null,
            "order": null,
            "overflow": null,
            "overflow_x": null,
            "overflow_y": null,
            "padding": null,
            "right": null,
            "top": null,
            "visibility": null,
            "width": null
          }
        },
        "84b27f894fed4369a4eef2034fbe31b3": {
          "model_module": "@jupyter-widgets/base",
          "model_module_version": "1.2.0",
          "model_name": "LayoutModel",
          "state": {
            "_model_module": "@jupyter-widgets/base",
            "_model_module_version": "1.2.0",
            "_model_name": "LayoutModel",
            "_view_count": null,
            "_view_module": "@jupyter-widgets/base",
            "_view_module_version": "1.2.0",
            "_view_name": "LayoutView",
            "align_content": null,
            "align_items": null,
            "align_self": null,
            "border": null,
            "bottom": null,
            "display": null,
            "flex": null,
            "flex_flow": null,
            "grid_area": null,
            "grid_auto_columns": null,
            "grid_auto_flow": null,
            "grid_auto_rows": null,
            "grid_column": null,
            "grid_gap": null,
            "grid_row": null,
            "grid_template_areas": null,
            "grid_template_columns": null,
            "grid_template_rows": null,
            "height": null,
            "justify_content": null,
            "justify_items": null,
            "left": null,
            "margin": null,
            "max_height": null,
            "max_width": null,
            "min_height": null,
            "min_width": null,
            "object_fit": null,
            "object_position": null,
            "order": null,
            "overflow": null,
            "overflow_x": null,
            "overflow_y": null,
            "padding": null,
            "right": null,
            "top": null,
            "visibility": null,
            "width": null
          }
        },
        "91577267a4c9421b9910f43ae01abf1c": {
          "model_module": "@jupyter-widgets/base",
          "model_module_version": "1.2.0",
          "model_name": "LayoutModel",
          "state": {
            "_model_module": "@jupyter-widgets/base",
            "_model_module_version": "1.2.0",
            "_model_name": "LayoutModel",
            "_view_count": null,
            "_view_module": "@jupyter-widgets/base",
            "_view_module_version": "1.2.0",
            "_view_name": "LayoutView",
            "align_content": null,
            "align_items": null,
            "align_self": null,
            "border": null,
            "bottom": null,
            "display": null,
            "flex": null,
            "flex_flow": null,
            "grid_area": null,
            "grid_auto_columns": null,
            "grid_auto_flow": null,
            "grid_auto_rows": null,
            "grid_column": null,
            "grid_gap": null,
            "grid_row": null,
            "grid_template_areas": null,
            "grid_template_columns": null,
            "grid_template_rows": null,
            "height": null,
            "justify_content": null,
            "justify_items": null,
            "left": null,
            "margin": null,
            "max_height": null,
            "max_width": null,
            "min_height": null,
            "min_width": null,
            "object_fit": null,
            "object_position": null,
            "order": null,
            "overflow": null,
            "overflow_x": null,
            "overflow_y": null,
            "padding": null,
            "right": null,
            "top": null,
            "visibility": null,
            "width": null
          }
        },
        "9b984adffdda404e9e60862fbf27daab": {
          "model_module": "@jupyter-widgets/controls",
          "model_module_version": "1.5.0",
          "model_name": "VBoxModel",
          "state": {
            "_dom_classes": [],
            "_model_module": "@jupyter-widgets/controls",
            "_model_module_version": "1.5.0",
            "_model_name": "VBoxModel",
            "_view_count": null,
            "_view_module": "@jupyter-widgets/controls",
            "_view_module_version": "1.5.0",
            "_view_name": "VBoxView",
            "box_style": "",
            "children": [
              "IPY_MODEL_056f1660a7d047b2a5462fae0a458c46",
              "IPY_MODEL_9ff9e8a526424ff38a26f009d31593fd",
              "IPY_MODEL_22e725d8437b4d3fb97758ef7ad05fea",
              "IPY_MODEL_9efeb0f357954178a4001ce850eb20a3"
            ],
            "layout": "IPY_MODEL_6b3c2325c2824a0aa00cb18f163be220"
          }
        },
        "9efeb0f357954178a4001ce850eb20a3": {
          "model_module": "@jupyter-widgets/output",
          "model_module_version": "1.0.0",
          "model_name": "OutputModel",
          "state": {
            "_dom_classes": [],
            "_model_module": "@jupyter-widgets/output",
            "_model_module_version": "1.0.0",
            "_model_name": "OutputModel",
            "_view_count": null,
            "_view_module": "@jupyter-widgets/output",
            "_view_module_version": "1.0.0",
            "_view_name": "OutputView",
            "layout": "IPY_MODEL_b671885e2aab4ca0902eca16ce038a5a",
            "msg_id": "",
            "outputs": [
              {
                "name": "stdout",
                "output_type": "stream",
                "text": [
                  "Licensed to AMPL Community Edition License for the AMPL Model Colaboratory (https://ampl.com/colab).\n"
                ]
              }
            ]
          }
        },
        "9ff9e8a526424ff38a26f009d31593fd": {
          "model_module": "@jupyter-widgets/controls",
          "model_module_version": "1.5.0",
          "model_name": "HBoxModel",
          "state": {
            "_dom_classes": [],
            "_model_module": "@jupyter-widgets/controls",
            "_model_module_version": "1.5.0",
            "_model_name": "HBoxModel",
            "_view_count": null,
            "_view_module": "@jupyter-widgets/controls",
            "_view_module_version": "1.5.0",
            "_view_name": "HBoxView",
            "box_style": "",
            "children": [
              "IPY_MODEL_23be63195d4c45ea8bb2aa657b1e2312"
            ],
            "layout": "IPY_MODEL_b3855f2ba3d446d6a9d75bde3f50678d"
          }
        },
        "b3855f2ba3d446d6a9d75bde3f50678d": {
          "model_module": "@jupyter-widgets/base",
          "model_module_version": "1.2.0",
          "model_name": "LayoutModel",
          "state": {
            "_model_module": "@jupyter-widgets/base",
            "_model_module_version": "1.2.0",
            "_model_name": "LayoutModel",
            "_view_count": null,
            "_view_module": "@jupyter-widgets/base",
            "_view_module_version": "1.2.0",
            "_view_name": "LayoutView",
            "align_content": null,
            "align_items": null,
            "align_self": null,
            "border": null,
            "bottom": null,
            "display": null,
            "flex": null,
            "flex_flow": null,
            "grid_area": null,
            "grid_auto_columns": null,
            "grid_auto_flow": null,
            "grid_auto_rows": null,
            "grid_column": null,
            "grid_gap": null,
            "grid_row": null,
            "grid_template_areas": null,
            "grid_template_columns": null,
            "grid_template_rows": null,
            "height": null,
            "justify_content": null,
            "justify_items": null,
            "left": null,
            "margin": null,
            "max_height": null,
            "max_width": null,
            "min_height": null,
            "min_width": null,
            "object_fit": null,
            "object_position": null,
            "order": null,
            "overflow": null,
            "overflow_x": null,
            "overflow_y": null,
            "padding": null,
            "right": null,
            "top": null,
            "visibility": null,
            "width": null
          }
        },
        "b671885e2aab4ca0902eca16ce038a5a": {
          "model_module": "@jupyter-widgets/base",
          "model_module_version": "1.2.0",
          "model_name": "LayoutModel",
          "state": {
            "_model_module": "@jupyter-widgets/base",
            "_model_module_version": "1.2.0",
            "_model_name": "LayoutModel",
            "_view_count": null,
            "_view_module": "@jupyter-widgets/base",
            "_view_module_version": "1.2.0",
            "_view_name": "LayoutView",
            "align_content": null,
            "align_items": null,
            "align_self": null,
            "border": null,
            "bottom": null,
            "display": null,
            "flex": null,
            "flex_flow": null,
            "grid_area": null,
            "grid_auto_columns": null,
            "grid_auto_flow": null,
            "grid_auto_rows": null,
            "grid_column": null,
            "grid_gap": null,
            "grid_row": null,
            "grid_template_areas": null,
            "grid_template_columns": null,
            "grid_template_rows": null,
            "height": null,
            "justify_content": null,
            "justify_items": null,
            "left": null,
            "margin": null,
            "max_height": null,
            "max_width": null,
            "min_height": null,
            "min_width": null,
            "object_fit": null,
            "object_position": null,
            "order": null,
            "overflow": null,
            "overflow_x": null,
            "overflow_y": null,
            "padding": null,
            "right": null,
            "top": null,
            "visibility": null,
            "width": null
          }
        },
        "ed0ce2d62cde45b0b3036cddb0951655": {
          "model_module": "@jupyter-widgets/controls",
          "model_module_version": "1.5.0",
          "model_name": "DescriptionStyleModel",
          "state": {
            "_model_module": "@jupyter-widgets/controls",
            "_model_module_version": "1.5.0",
            "_model_name": "DescriptionStyleModel",
            "_view_count": null,
            "_view_module": "@jupyter-widgets/base",
            "_view_module_version": "1.2.0",
            "_view_name": "StyleView",
            "description_width": "initial"
          }
        }
      }
    }
  },
  "nbformat": 4,
  "nbformat_minor": 4
}
