{
 "cells": [
  {
   "cell_type": "markdown",
   "metadata": {
    "id": "7RjB1ipC7KbS"
   },
   "source": [
    "# Balanced Task Assignment with Inverse Cost Scaling\n",
    "[![Inverse_cost.ipynb](https://img.shields.io/badge/github-%23121011.svg?logo=github)](https://github.com/ampl/colab.ampl.com/blob/master/authors/mikhail/Inverse_cost/Inverse_cost.ipynb) [![Open In Colab](https://colab.research.google.com/assets/colab-badge.svg)](https://colab.research.google.com/github/ampl/colab.ampl.com/blob/master/authors/mikhail/Inverse_cost/Inverse_cost.ipynb) [![Kaggle](https://kaggle.com/static/images/open-in-kaggle.svg)](https://kaggle.com/kernels/welcome?src=https://github.com/ampl/colab.ampl.com/blob/master/authors/mikhail/Inverse_cost/Inverse_cost.ipynb) [![Gradient](https://assets.paperspace.io/img/gradient-badge.svg)](https://console.paperspace.com/github/ampl/colab.ampl.com/blob/master/authors/mikhail/Inverse_cost/Inverse_cost.ipynb) [![Open In SageMaker Studio Lab](https://studiolab.sagemaker.aws/studiolab.svg)](https://studiolab.sagemaker.aws/import/github/ampl/colab.ampl.com/blob/master/authors/mikhail/Inverse_cost/Inverse_cost.ipynb) [![Hits](https://h.ampl.com/https://github.com/ampl/colab.ampl.com/blob/master/authors/mikhail/Inverse_cost/Inverse_cost.ipynb)](https://colab.ampl.com)\n",
    "\n",
    "This model addresses a task assignment problem where workers are assigned to tasks based on a cost matrix. The cost of assigning a task to a worker depends inversely on the number of tasks already assigned to that worker, encouraging balanced task allocation.\n",
    "The ***objective*** is to minimize the total cost while ensuring:\n",
    "- Each task is assigned to exactly one worker.\n",
    "- Each worker is assigned no more than a specified maximum number of tasks.\n",
    "\n",
    "[*Partner with the AMPL team to transform complex problems into optimized solutions. AMPL consulting services combine deep technical knowledge with industry-leading insights, helping you unlock the full potential of optimization within your organization.*](https://ampl.com/services/)\n",
    "\n",
    "Tags: amplpy, nonlinear, worker-task-assignment, cost-minimization, inverse-cost-scaling, task-scheduling, gurobi, global-optimization, assignment, scheduling\n",
    "\n",
    "Notebook author: Mikhail Riabtsev <<mail@solverytic.com>>\n",
    "***"
   ]
  },
  {
   "cell_type": "markdown",
   "metadata": {
    "id": "kQWQb8A4z4h2"
   },
   "source": [
    "# 1. Download Necessary Extensions and Libraries"
   ]
  },
  {
   "cell_type": "code",
   "execution_count": 1,
   "metadata": {
    "colab": {
     "base_uri": "https://localhost:8080/"
    },
    "id": "33XQI-HSz4h2",
    "outputId": "e0d8bbb5-627f-4615-f3f2-c7843d6c3371"
   },
   "outputs": [],
   "source": [
    "# Install dependencies\n",
    "%pip install -q amplpy pandas numpy\n",
    "import pandas as pd  # Loading panda to work with pandas.DataFrame objects (https://pandas.pydata.org/)\n",
    "import numpy as np  # Loading numpy to perform multidimensional calculations numpy.matrix (https://numpy.org/)"
   ]
  },
  {
   "cell_type": "code",
   "execution_count": 2,
   "metadata": {
    "colab": {
     "base_uri": "https://localhost:8080/",
     "height": 101,
     "referenced_widgets": [
      "35fae7841555451987fee05f55c8973f",
      "4546f7375dd84f68922d3a96a59b775a",
      "76a98da0c658427cafa4b2ba7d7cf6c8",
      "8d267c266dc74007828b23d1eeb99831",
      "abef61395a65436697777a65fffc8fb3",
      "79a33233687944ef9cca419ed815b428",
      "3bc284df271e437b98807356ffa354e9",
      "794011c8167f40fb889f1c7f21d63669",
      "320ebff6fc9c42bb8b02e5fde8245551",
      "41b2bf6dd82d43178e6511933b33c50d",
      "68c20cd2979f48a8a0f060b1758b5411",
      "d97efb95cd16457fb63fb57e117de8b3",
      "266dd6e9771f4cff81fb9f2784336da3"
     ]
    },
    "id": "-a5mP1UOz4h3",
    "outputId": "ce015056-c646-42bb-c48e-f561a971dea4"
   },
   "outputs": [],
   "source": [
    "# Google Colab & Kaggle integration\n",
    "from amplpy import AMPL, ampl_notebook\n",
    "\n",
    "ampl = ampl_notebook(\n",
    "    modules=[\"cbc\", \"highs\", \"gurobi\"],  # modules to install\n",
    "    license_uuid=\"default\",  # license to use\n",
    ")  # instantiate AMPL object and register magics"
   ]
  },
  {
   "cell_type": "markdown",
   "metadata": {
    "id": "NXMS9f37z4h4"
   },
   "source": [
    "# 2. Mathematical Formulation"
   ]
  },
  {
   "cell_type": "markdown",
   "metadata": {
    "id": "6_fMnGWAz4h4"
   },
   "source": [
    "#### **Sets**\n",
    "- $(W)$: Set of workers $W = {w_1, w_2, \\ldots, w_n}$\n",
    "- $(T)$: Set of tasks $T = {t_1, t_2, \\ldots, t_m}$\n",
    "\n",
    "#### **Parameters**\n",
    "- $cost[w, t]$: Cost of assigning worker $w$ to task $t$, where $w \\in W $ and $t \\in T $.\n",
    "- $max\\_tasks$: Maximum number of tasks that can be assigned to a single worker.\n",
    "\n",
    "#### **Decision Variables**\n",
    "- $x[w, t] \\in \\{0, 1\\} $: Binary variable, 1 if worker $w$ is assigned to task $t$, 0 otherwise.\n",
    "\n",
    "---\n",
    "\n",
    "#### **Objective Function**\n",
    "\n",
    "Minimize the total cost of assigning tasks to workers:\n",
    "\n",
    "$\\text{Minimize Z }= \\sum_{w \\in W} \\sum_{t \\in T} \\frac{\\text{cost}[w, t]}{1 + \\sum_{t' \\in T} x[w, t']} \\cdot x[w, t]$\n",
    "\n",
    "---\n",
    "\n",
    "#### **Constraints**\n",
    "\n",
    "1. **Task Assignment Constraint**:  \n",
    "   Each task must be assigned to exactly one worker:\n",
    "\n",
    "   $ \\sum_{w \\in W} x[w, t] = 1, \\quad \\forall t \\in T$\n",
    "\n",
    "2. **Worker Task Limit Constraint**:  \n",
    "   Each worker can be assigned at most $\\text{max\\_tasks} $ tasks:\n",
    "\n",
    "   $\\sum_{t \\in T} x[w, t] \\leq \\text{max\\_tasks}, \\quad \\forall w \\in W$\n",
    "\n",
    "3. **Binary Decision Variables**:  \n",
    "   Ensure the variables are binary:\n",
    "\n",
    "   $x[w, t] \\in \\{0, 1\\}, \\quad \\forall w \\in W, \\, t \\in T$"
   ]
  },
  {
   "cell_type": "markdown",
   "metadata": {
    "id": "InIX7e5Lz4h5"
   },
   "source": [
    "# 3. AMPL Model Formulation"
   ]
  },
  {
   "cell_type": "code",
   "execution_count": 3,
   "metadata": {
    "colab": {
     "base_uri": "https://localhost:8080/"
    },
    "id": "lbY3csxAz4h5",
    "outputId": "be817868-8e9f-41ca-e6af-fa8898963ece"
   },
   "outputs": [
    {
     "output_type": "stream",
     "name": "stdout",
     "text": [
      "Writing Inverse_cost_model.mod\n"
     ]
    }
   ],
   "source": [
    "%%writefile Inverse_cost_model.mod\n",
    "reset;\n",
    "\n",
    "# Model Name: Worker-Task Assignment\n",
    "### Optimize task assignments to workers, minimizing costs with an inverse relationship scaling.\n",
    "# Version: 1.0\n",
    "# Last Updated: Jan 2025\n",
    "\n",
    "### SETS\n",
    "# Define the set of workers and tasks\n",
    "set WORKERS;                             # All workers\n",
    "set TASKS;                               # All tasks\n",
    "\n",
    "### PARAMETERS\n",
    "# Define cost and constraints for assignments\n",
    "param cost {WORKERS, TASKS} >= 0;        # Cost of assigning a worker to a task\n",
    "param max_tasks integer >= 1;            # Maximum number of tasks per worker\n",
    "\n",
    "### VARIABLES\n",
    "# Decision variable: assignment of tasks to workers\n",
    "var IsAssigned {WORKERS, TASKS} binary;  # 1 if a worker is assigned to a task, 0 otherwise\n",
    "\n",
    "### OBJECTIVE\n",
    "# Minimize the total cost with an inverse relationship scaling\n",
    "# The cost of assigning a worker to a task decreases with the number of tasks already assigned to that worker.\n",
    "minimize TotalCost:\n",
    "    sum {w in WORKERS, t in TASKS}\n",
    "        (cost[w, t] / (1 + sum{t2 in TASKS} IsAssigned[w,t2])) * IsAssigned[w,t];\n",
    "\n",
    "### CONSTRAINTS\n",
    "subject to TaskAssignment{t in TASKS}:      # Each task must be assigned to exactly one worker\n",
    "    sum{w in WORKERS} IsAssigned[w,t] = 1;\n",
    "\n",
    "subject to WorkerTaskLimit{w in WORKERS}:   # Each worker is assigned at most max_tasks tasks\n",
    "    sum{t in TASKS} IsAssigned[w,t] <= max_tasks;"
   ]
  },
  {
   "cell_type": "markdown",
   "metadata": {
    "id": "2Rq1lLgsz4h7"
   },
   "source": [
    "# 4. Load data"
   ]
  },
  {
   "cell_type": "code",
   "execution_count": 4,
   "metadata": {
    "id": "mp7-MATcz4h7"
   },
   "outputs": [],
   "source": [
    "ampl.read(\"Inverse_cost_model.mod\")  # Load the AMPL model from the file\n",
    "ampl.set[\"WORKERS\"] = [\"Alice\", \"Bob\", \"Carol\", \"Dave\"]  # Set of workers\n",
    "ampl.set[\"TASKS\"] = [\n",
    "    \"Task1\",\n",
    "    \"Task2\",\n",
    "    \"Task3\",\n",
    "    \"Task4\",\n",
    "    \"Task5\",\n",
    "    \"Task6\",\n",
    "]  # Set of tasks\n",
    "ampl.param[\"max_tasks\"] = 3  # Maximum number of tasks that can be assigned to a worker\n",
    "\n",
    "ampl.param[\"cost\"] = {  # Cost matrix (cost of assigning a worker to a task)\n",
    "    (\"Alice\", \"Task1\"): 5,\n",
    "    (\"Alice\", \"Task2\"): 8,\n",
    "    (\"Alice\", \"Task3\"): 6,\n",
    "    (\"Alice\", \"Task4\"): 7,\n",
    "    (\"Alice\", \"Task5\"): 5,\n",
    "    (\"Alice\", \"Task6\"): 8,\n",
    "    (\"Bob\", \"Task1\"): 7,\n",
    "    (\"Bob\", \"Task2\"): 6,\n",
    "    (\"Bob\", \"Task3\"): 8,\n",
    "    (\"Bob\", \"Task4\"): 5,\n",
    "    (\"Bob\", \"Task5\"): 7,\n",
    "    (\"Bob\", \"Task6\"): 6,\n",
    "    (\"Carol\", \"Task1\"): 6,\n",
    "    (\"Carol\", \"Task2\"): 7,\n",
    "    (\"Carol\", \"Task3\"): 5,\n",
    "    (\"Carol\", \"Task4\"): 8,\n",
    "    (\"Carol\", \"Task5\"): 6,\n",
    "    (\"Carol\", \"Task6\"): 7,\n",
    "    (\"Dave\", \"Task1\"): 8,\n",
    "    (\"Dave\", \"Task2\"): 5,\n",
    "    (\"Dave\", \"Task3\"): 7,\n",
    "    (\"Dave\", \"Task4\"): 6,\n",
    "    (\"Dave\", \"Task5\"): 8,\n",
    "    (\"Dave\", \"Task6\"): 5,\n",
    "}"
   ]
  },
  {
   "cell_type": "markdown",
   "metadata": {
    "id": "sgCq-ixgz4h7"
   },
   "source": [
    "# 5. Solve problem"
   ]
  },
  {
   "cell_type": "code",
   "execution_count": 5,
   "metadata": {
    "colab": {
     "base_uri": "https://localhost:8080/"
    },
    "id": "B6qAOpI4z4h8",
    "outputId": "0e3e70f5-409b-4410-a6bc-e50fb5af1a6b"
   },
   "outputs": [
    {
     "output_type": "stream",
     "name": "stdout",
     "text": [
      "Gurobi 12.0.1:   tech:outlev = 0\n",
      "  lim:time = 20\n",
      "Gurobi 12.0.1: optimal solution; objective 8\n",
      "52 simplex iterations\n",
      "1 branching node\n"
     ]
    }
   ],
   "source": [
    "ampl.option[\"show_stats\"] = 0  # Show problem size statistics (default: 0)\n",
    "ampl.option[\"display_1col\"] = 0  # Disable single-column data display\n",
    "# ampl.option['omit_zero_rows'] = 1 # Hide rows with zero values\n",
    "# ampl.option['omit_zero_cols'] = 1 # Hide columns with zero values\n",
    "ampl.option[\"mp_options\"] = (\n",
    "    \"outlev=0 lim:time=20\"  # Configure CBC options (output level and time limit)\n",
    ")\n",
    "\n",
    "ampl.solve(solver=\"gurobi\", verbose=True)  # Solve the optimization problem\\\n",
    "assert ampl.solve_result == \"solved\""
   ]
  },
  {
   "cell_type": "markdown",
   "metadata": {
    "id": "CYFBU-Phz4h8"
   },
   "source": [
    "# 6. Retrieve solution in Python"
   ]
  },
  {
   "cell_type": "code",
   "execution_count": 6,
   "metadata": {
    "colab": {
     "base_uri": "https://localhost:8080/"
    },
    "id": "NjnbMbZ6z4h8",
    "outputId": "96f094f1-991b-4eb4-a0c5-9f7a248d3c78"
   },
   "outputs": [
    {
     "output_type": "stream",
     "name": "stdout",
     "text": [
      "Alice assigned to Task1\n",
      "Alice assigned to Task3\n",
      "Alice assigned to Task5\n",
      "Dave assigned to Task2\n",
      "Dave assigned to Task4\n",
      "Dave assigned to Task6\n"
     ]
    }
   ],
   "source": [
    "solution = ampl.get_solution(flat=False)\n",
    "for name_task, val in solution[\"IsAssigned\"].items():\n",
    "    name, task = name_task\n",
    "    print(f\"{name} assigned to {task}\")"
   ]
  }
 ],
 "metadata": {
  "colab": {
   "provenance": []
  },
  "kernelspec": {
   "display_name": "Python 3 (ipykernel)",
   "language": "python",
   "name": "python3"
  },
  "language_info": {
   "codemirror_mode": {
    "name": "ipython",
    "version": 3
   },
   "file_extension": ".py",
   "mimetype": "text/x-python",
   "name": "python",
   "nbconvert_exporter": "python",
   "pygments_lexer": "ipython3",
   "version": "3.10.12"
  },
  "widgets": {
   "application/vnd.jupyter.widget-state+json": {
    "35fae7841555451987fee05f55c8973f": {
     "model_module": "@jupyter-widgets/controls",
     "model_name": "VBoxModel",
     "model_module_version": "1.5.0",
     "state": {
      "_dom_classes": [],
      "_model_module": "@jupyter-widgets/controls",
      "_model_module_version": "1.5.0",
      "_model_name": "VBoxModel",
      "_view_count": null,
      "_view_module": "@jupyter-widgets/controls",
      "_view_module_version": "1.5.0",
      "_view_name": "VBoxView",
      "box_style": "",
      "children": [
       "IPY_MODEL_4546f7375dd84f68922d3a96a59b775a",
       "IPY_MODEL_76a98da0c658427cafa4b2ba7d7cf6c8",
       "IPY_MODEL_8d267c266dc74007828b23d1eeb99831",
       "IPY_MODEL_abef61395a65436697777a65fffc8fb3"
      ],
      "layout": "IPY_MODEL_79a33233687944ef9cca419ed815b428"
     }
    },
    "4546f7375dd84f68922d3a96a59b775a": {
     "model_module": "@jupyter-widgets/output",
     "model_name": "OutputModel",
     "model_module_version": "1.0.0",
     "state": {
      "_dom_classes": [],
      "_model_module": "@jupyter-widgets/output",
      "_model_module_version": "1.0.0",
      "_model_name": "OutputModel",
      "_view_count": null,
      "_view_module": "@jupyter-widgets/output",
      "_view_module_version": "1.0.0",
      "_view_name": "OutputView",
      "layout": "IPY_MODEL_68c20cd2979f48a8a0f060b1758b5411",
      "msg_id": "",
      "outputs": [
       {
        "output_type": "stream",
        "name": "stdout",
        "text": [
         "AMPL License UUID (you can use free https://ampl.com/ce or https://ampl.com/courses licenses):\n"
        ]
       }
      ]
     }
    },
    "76a98da0c658427cafa4b2ba7d7cf6c8": {
     "model_module": "@jupyter-widgets/controls",
     "model_name": "HBoxModel",
     "model_module_version": "1.5.0",
     "state": {
      "_dom_classes": [],
      "_model_module": "@jupyter-widgets/controls",
      "_model_module_version": "1.5.0",
      "_model_name": "HBoxModel",
      "_view_count": null,
      "_view_module": "@jupyter-widgets/controls",
      "_view_module_version": "1.5.0",
      "_view_name": "HBoxView",
      "box_style": "",
      "children": [
       "IPY_MODEL_3bc284df271e437b98807356ffa354e9"
      ],
      "layout": "IPY_MODEL_794011c8167f40fb889f1c7f21d63669"
     }
    },
    "8d267c266dc74007828b23d1eeb99831": {
     "model_module": "@jupyter-widgets/output",
     "model_name": "OutputModel",
     "model_module_version": "1.0.0",
     "state": {
      "_dom_classes": [],
      "_model_module": "@jupyter-widgets/output",
      "_model_module_version": "1.0.0",
      "_model_name": "OutputModel",
      "_view_count": null,
      "_view_module": "@jupyter-widgets/output",
      "_view_module_version": "1.0.0",
      "_view_name": "OutputView",
      "layout": "IPY_MODEL_d97efb95cd16457fb63fb57e117de8b3",
      "msg_id": "",
      "outputs": []
     }
    },
    "abef61395a65436697777a65fffc8fb3": {
     "model_module": "@jupyter-widgets/output",
     "model_name": "OutputModel",
     "model_module_version": "1.0.0",
     "state": {
      "_dom_classes": [],
      "_model_module": "@jupyter-widgets/output",
      "_model_module_version": "1.0.0",
      "_model_name": "OutputModel",
      "_view_count": null,
      "_view_module": "@jupyter-widgets/output",
      "_view_module_version": "1.0.0",
      "_view_name": "OutputView",
      "layout": "IPY_MODEL_266dd6e9771f4cff81fb9f2784336da3",
      "msg_id": "",
      "outputs": [
       {
        "output_type": "stream",
        "name": "stdout",
        "text": [
         "Licensed to AMPL Community Edition License for the AMPL Model Colaboratory (https://ampl.com/colab)."
        ]
       },
       {
        "output_type": "stream",
        "name": "stdout",
        "text": [
         "\n"
        ]
       }
      ]
     }
    },
    "79a33233687944ef9cca419ed815b428": {
     "model_module": "@jupyter-widgets/base",
     "model_name": "LayoutModel",
     "model_module_version": "1.2.0",
     "state": {
      "_model_module": "@jupyter-widgets/base",
      "_model_module_version": "1.2.0",
      "_model_name": "LayoutModel",
      "_view_count": null,
      "_view_module": "@jupyter-widgets/base",
      "_view_module_version": "1.2.0",
      "_view_name": "LayoutView",
      "align_content": null,
      "align_items": null,
      "align_self": null,
      "border": null,
      "bottom": null,
      "display": null,
      "flex": null,
      "flex_flow": null,
      "grid_area": null,
      "grid_auto_columns": null,
      "grid_auto_flow": null,
      "grid_auto_rows": null,
      "grid_column": null,
      "grid_gap": null,
      "grid_row": null,
      "grid_template_areas": null,
      "grid_template_columns": null,
      "grid_template_rows": null,
      "height": null,
      "justify_content": null,
      "justify_items": null,
      "left": null,
      "margin": null,
      "max_height": null,
      "max_width": null,
      "min_height": null,
      "min_width": null,
      "object_fit": null,
      "object_position": null,
      "order": null,
      "overflow": null,
      "overflow_x": null,
      "overflow_y": null,
      "padding": null,
      "right": null,
      "top": null,
      "visibility": null,
      "width": null
     }
    },
    "3bc284df271e437b98807356ffa354e9": {
     "model_module": "@jupyter-widgets/controls",
     "model_name": "TextModel",
     "model_module_version": "1.5.0",
     "state": {
      "_dom_classes": [],
      "_model_module": "@jupyter-widgets/controls",
      "_model_module_version": "1.5.0",
      "_model_name": "TextModel",
      "_view_count": null,
      "_view_module": "@jupyter-widgets/controls",
      "_view_module_version": "1.5.0",
      "_view_name": "TextView",
      "continuous_update": true,
      "description": "License UUID:",
      "description_tooltip": null,
      "disabled": false,
      "layout": "IPY_MODEL_320ebff6fc9c42bb8b02e5fde8245551",
      "placeholder": "​",
      "style": "IPY_MODEL_41b2bf6dd82d43178e6511933b33c50d",
      "value": ""
     }
    },
    "794011c8167f40fb889f1c7f21d63669": {
     "model_module": "@jupyter-widgets/base",
     "model_name": "LayoutModel",
     "model_module_version": "1.2.0",
     "state": {
      "_model_module": "@jupyter-widgets/base",
      "_model_module_version": "1.2.0",
      "_model_name": "LayoutModel",
      "_view_count": null,
      "_view_module": "@jupyter-widgets/base",
      "_view_module_version": "1.2.0",
      "_view_name": "LayoutView",
      "align_content": null,
      "align_items": null,
      "align_self": null,
      "border": null,
      "bottom": null,
      "display": null,
      "flex": null,
      "flex_flow": null,
      "grid_area": null,
      "grid_auto_columns": null,
      "grid_auto_flow": null,
      "grid_auto_rows": null,
      "grid_column": null,
      "grid_gap": null,
      "grid_row": null,
      "grid_template_areas": null,
      "grid_template_columns": null,
      "grid_template_rows": null,
      "height": null,
      "justify_content": null,
      "justify_items": null,
      "left": null,
      "margin": null,
      "max_height": null,
      "max_width": null,
      "min_height": null,
      "min_width": null,
      "object_fit": null,
      "object_position": null,
      "order": null,
      "overflow": null,
      "overflow_x": null,
      "overflow_y": null,
      "padding": null,
      "right": null,
      "top": null,
      "visibility": null,
      "width": null
     }
    },
    "320ebff6fc9c42bb8b02e5fde8245551": {
     "model_module": "@jupyter-widgets/base",
     "model_name": "LayoutModel",
     "model_module_version": "1.2.0",
     "state": {
      "_model_module": "@jupyter-widgets/base",
      "_model_module_version": "1.2.0",
      "_model_name": "LayoutModel",
      "_view_count": null,
      "_view_module": "@jupyter-widgets/base",
      "_view_module_version": "1.2.0",
      "_view_name": "LayoutView",
      "align_content": null,
      "align_items": null,
      "align_self": null,
      "border": null,
      "bottom": null,
      "display": null,
      "flex": null,
      "flex_flow": null,
      "grid_area": null,
      "grid_auto_columns": null,
      "grid_auto_flow": null,
      "grid_auto_rows": null,
      "grid_column": null,
      "grid_gap": null,
      "grid_row": null,
      "grid_template_areas": null,
      "grid_template_columns": null,
      "grid_template_rows": null,
      "height": null,
      "justify_content": null,
      "justify_items": null,
      "left": null,
      "margin": null,
      "max_height": null,
      "max_width": null,
      "min_height": null,
      "min_width": null,
      "object_fit": null,
      "object_position": null,
      "order": null,
      "overflow": null,
      "overflow_x": null,
      "overflow_y": null,
      "padding": null,
      "right": null,
      "top": null,
      "visibility": null,
      "width": null
     }
    },
    "41b2bf6dd82d43178e6511933b33c50d": {
     "model_module": "@jupyter-widgets/controls",
     "model_name": "DescriptionStyleModel",
     "model_module_version": "1.5.0",
     "state": {
      "_model_module": "@jupyter-widgets/controls",
      "_model_module_version": "1.5.0",
      "_model_name": "DescriptionStyleModel",
      "_view_count": null,
      "_view_module": "@jupyter-widgets/base",
      "_view_module_version": "1.2.0",
      "_view_name": "StyleView",
      "description_width": "initial"
     }
    },
    "68c20cd2979f48a8a0f060b1758b5411": {
     "model_module": "@jupyter-widgets/base",
     "model_name": "LayoutModel",
     "model_module_version": "1.2.0",
     "state": {
      "_model_module": "@jupyter-widgets/base",
      "_model_module_version": "1.2.0",
      "_model_name": "LayoutModel",
      "_view_count": null,
      "_view_module": "@jupyter-widgets/base",
      "_view_module_version": "1.2.0",
      "_view_name": "LayoutView",
      "align_content": null,
      "align_items": null,
      "align_self": null,
      "border": null,
      "bottom": null,
      "display": null,
      "flex": null,
      "flex_flow": null,
      "grid_area": null,
      "grid_auto_columns": null,
      "grid_auto_flow": null,
      "grid_auto_rows": null,
      "grid_column": null,
      "grid_gap": null,
      "grid_row": null,
      "grid_template_areas": null,
      "grid_template_columns": null,
      "grid_template_rows": null,
      "height": null,
      "justify_content": null,
      "justify_items": null,
      "left": null,
      "margin": null,
      "max_height": null,
      "max_width": null,
      "min_height": null,
      "min_width": null,
      "object_fit": null,
      "object_position": null,
      "order": null,
      "overflow": null,
      "overflow_x": null,
      "overflow_y": null,
      "padding": null,
      "right": null,
      "top": null,
      "visibility": null,
      "width": null
     }
    },
    "d97efb95cd16457fb63fb57e117de8b3": {
     "model_module": "@jupyter-widgets/base",
     "model_name": "LayoutModel",
     "model_module_version": "1.2.0",
     "state": {
      "_model_module": "@jupyter-widgets/base",
      "_model_module_version": "1.2.0",
      "_model_name": "LayoutModel",
      "_view_count": null,
      "_view_module": "@jupyter-widgets/base",
      "_view_module_version": "1.2.0",
      "_view_name": "LayoutView",
      "align_content": null,
      "align_items": null,
      "align_self": null,
      "border": null,
      "bottom": null,
      "display": null,
      "flex": null,
      "flex_flow": null,
      "grid_area": null,
      "grid_auto_columns": null,
      "grid_auto_flow": null,
      "grid_auto_rows": null,
      "grid_column": null,
      "grid_gap": null,
      "grid_row": null,
      "grid_template_areas": null,
      "grid_template_columns": null,
      "grid_template_rows": null,
      "height": null,
      "justify_content": null,
      "justify_items": null,
      "left": null,
      "margin": null,
      "max_height": null,
      "max_width": null,
      "min_height": null,
      "min_width": null,
      "object_fit": null,
      "object_position": null,
      "order": null,
      "overflow": null,
      "overflow_x": null,
      "overflow_y": null,
      "padding": null,
      "right": null,
      "top": null,
      "visibility": null,
      "width": null
     }
    },
    "266dd6e9771f4cff81fb9f2784336da3": {
     "model_module": "@jupyter-widgets/base",
     "model_name": "LayoutModel",
     "model_module_version": "1.2.0",
     "state": {
      "_model_module": "@jupyter-widgets/base",
      "_model_module_version": "1.2.0",
      "_model_name": "LayoutModel",
      "_view_count": null,
      "_view_module": "@jupyter-widgets/base",
      "_view_module_version": "1.2.0",
      "_view_name": "LayoutView",
      "align_content": null,
      "align_items": null,
      "align_self": null,
      "border": null,
      "bottom": null,
      "display": null,
      "flex": null,
      "flex_flow": null,
      "grid_area": null,
      "grid_auto_columns": null,
      "grid_auto_flow": null,
      "grid_auto_rows": null,
      "grid_column": null,
      "grid_gap": null,
      "grid_row": null,
      "grid_template_areas": null,
      "grid_template_columns": null,
      "grid_template_rows": null,
      "height": null,
      "justify_content": null,
      "justify_items": null,
      "left": null,
      "margin": null,
      "max_height": null,
      "max_width": null,
      "min_height": null,
      "min_width": null,
      "object_fit": null,
      "object_position": null,
      "order": null,
      "overflow": null,
      "overflow_x": null,
      "overflow_y": null,
      "padding": null,
      "right": null,
      "top": null,
      "visibility": null,
      "width": null
     }
    }
   }
  }
 },
 "nbformat": 4,
 "nbformat_minor": 0
}
