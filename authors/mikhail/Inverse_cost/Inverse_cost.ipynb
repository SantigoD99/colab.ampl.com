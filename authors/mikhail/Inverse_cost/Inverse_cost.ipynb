{
  "cells": [
    {
      "cell_type": "markdown",
      "metadata": {
        "id": "7RjB1ipC7KbS"
      },
      "source": [
        "# Balanced Task Assignment with Inverse Cost Scaling\n",
        "\n",
        "[![Investment_project.ipynb](https://img.shields.io/badge/github-%23121011.svg?logo=github)](https://github.com/ampl/colab.ampl.com/blob/master/authors/mikhail/Inverse_cost/Inverse_cost.ipynb) [![Open In Colab](https://colab.research.google.com/assets/colab-badge.svg)](https://colab.research.google.com/github/ampl/colab.ampl.com/blob/master/authors/mikhail/Inverse_cost/Inverse_cost.ipynb) [![Kaggle](https://kaggle.com/static/images/open-in-kaggle.svg)](https://kaggle.com/kernels/welcome?src=https://github.com/ampl/colab.ampl.com/blob/master/authors/mikhail/Inverse_cost/Inverse_cost.ipynb) [![Gradient](https://assets.paperspace.io/img/gradient-badge.svg)](https://console.paperspace.com/github/ampl/colab.ampl.com/blob/master/authors/mikhail/Inverse_cost/Inverse_cost.ipynb) [![Open In SageMaker Studio Lab](https://studiolab.sagemaker.aws/studiolab.svg)](https://studiolab.sagemaker.aws/import/github/ampl/colab.ampl.com/blob/master/authors/mikhail/Inverse_cost/Inverse_cost.ipynb) [![Hits](https://h.ampl.com/https://github.com/ampl/colab.ampl.com/blob/master/authors/mikhail/Inverse_cost/Inverse_cost.ipynb)](https://colab.ampl.com)\n",
        "\n",
        "This model addresses a task assignment problem where workers are assigned to tasks based on a cost matrix. The cost of assigning a task to a worker depends inversely on the number of tasks already assigned to that worker, encouraging balanced task allocation. \n",
        "The ***objective*** is to minimize the total cost while ensuring:\n",
        "- Each task is assigned to exactly one worker.\n",
        "- Each worker is assigned no more than a specified maximum number of tasks.\n",
        "\n",
        "[*Partner with the AMPL team to transform complex problems into optimized solutions. AMPL consulting services combine deep technical knowledge with industry-leading insights, helping you unlock the full potential of optimization within your organization.*](https://ampl.com/services/)\n",
        "\n",
        "Tags: amplpy, nonliner, worker-task-assignment, cost-minimization, inverse-cost-scaling, task-scheduling, minos \n",
        "\n",
        "Notebook author: Mikhail Riabtsev <<mail@solverytic.com>>\n",
        "***"
      ]
    },
    {
      "cell_type": "markdown",
      "metadata": {},
      "source": [
        "# 1. Download Necessary Extensions and Libraries"
      ]
    },
    {
      "cell_type": "code",
      "execution_count": 1,
      "metadata": {},
      "outputs": [
        {
          "name": "stdout",
          "output_type": "stream",
          "text": [
            "Note: you may need to restart the kernel to use updated packages.\n"
          ]
        }
      ],
      "source": [
        "# Install dependencies\n",
        "%pip install -q amplpy pandas\n",
        "import pandas as pd                 # Loading panda to work with pandas.DataFrame objects (https://pandas.pydata.org/)\n",
        "import numpy as np                  # Loading numpy to perform multidimensional calculations numpy.matrix (https://numpy.org/)"
      ]
    },
    {
      "cell_type": "code",
      "execution_count": 2,
      "metadata": {},
      "outputs": [
        {
          "data": {
            "application/vnd.jupyter.widget-view+json": {
              "model_id": "9341ddfbe52b44d5afa61b27c19cf133",
              "version_major": 2,
              "version_minor": 0
            },
            "text/plain": [
              "VBox(children=(Output(), HBox(children=(Text(value='', description='License UUID:', style=TextStyle(descriptio…"
            ]
          },
          "metadata": {},
          "output_type": "display_data"
        }
      ],
      "source": [
        "# Google Colab & Kaggle integration\n",
        "from amplpy import AMPL, ampl_notebook\n",
        "\n",
        "ampl = ampl_notebook(\n",
        "    modules=[\"cbc\", \"highs\", \"gurobi\"],  # modules to install\n",
        "    license_uuid=\"default\",  # license to use\n",
        ")  # instantiate AMPL object and register magics"
      ]
    },
    {
      "cell_type": "markdown",
      "metadata": {},
      "source": [
        "# 2. Mathematical Formulation"
      ]
    },
    {
      "cell_type": "markdown",
      "metadata": {},
      "source": [
        "#### **Sets**\n",
        "- $(W)$: Set of workers $W = {w_1, w_2, \\ldots, w_n}$\n",
        "- $(T)$: Set of tasks $T = {t_1, t_2, \\ldots, t_m}$\n",
        "\n",
        "#### **Parameters**\n",
        "- $cost[w, t]$: Cost of assigning worker $w$ to task $t$, where $w \\in W $ and $t \\in T $.\n",
        "- $max\\_tasks$: Maximum number of tasks that can be assigned to a single worker.\n",
        "\n",
        "#### **Decision Variables**\n",
        "- $x[w, t] \\in \\{0, 1\\} $: Binary variable, 1 if worker $w$ is assigned to task $t$, 0 otherwise.\n",
        "\n",
        "---\n",
        "\n",
        "#### **Objective Function**\n",
        "\n",
        "Minimize the total cost of assigning tasks to workers:\n",
        "\n",
        "$Minimize Z = \\sum_{w \\in W} \\sum_{t \\in T} \\frac{\\text{cost}[w, t]}{1 + \\sum_{t' \\in T} x[w, t']} \\cdot x[w, t]$\n",
        "\n",
        "---\n",
        "\n",
        "#### **Constraints**\n",
        "\n",
        "1. **Task Assignment Constraint**:  \n",
        "   Each task must be assigned to exactly one worker:\n",
        "\n",
        "   $ \\sum_{w \\in W} x[w, t] = 1, \\quad \\forall t \\in T$\n",
        "\n",
        "2. **Worker Task Limit Constraint**:  \n",
        "   Each worker can be assigned at most $\\text{max\\_tasks} $ tasks:\n",
        "\n",
        "   $\\sum_{t \\in T} x[w, t] \\leq \\text{max\\_tasks}, \\quad \\forall w \\in W$\n",
        "\n",
        "3. **Binary Decision Variables**:  \n",
        "   Ensure the variables are binary:\n",
        "\n",
        "   $x[w, t] \\in \\{0, 1\\}, \\quad \\forall w \\in W, \\, t \\in T$"
      ]
    },
    {
      "cell_type": "markdown",
      "metadata": {},
      "source": [
        "# 3. AMPL Model Formulation"
      ]
    },
    {
      "cell_type": "code",
      "execution_count": 3,
      "metadata": {},
      "outputs": [
        {
          "name": "stdout",
          "output_type": "stream",
          "text": [
            "Overwriting Inverse_cost_model.mod\n"
          ]
        }
      ],
      "source": [
        "%%writefile Inverse_cost_model.mod\n",
        "reset;\n",
        "\n",
        "# Model Name: Worker-Task Assignment\n",
        "### Optimize task assignments to workers, minimizing costs with an inverse relationship scaling.\n",
        "# Version: 1.0\n",
        "# Last Updated: Jan 2025\n",
        "\n",
        "### SETS\n",
        "# Define the set of workers and tasks\n",
        "set WORKERS;                             # All workers\n",
        "set TASKS;                               # All tasks\n",
        "\n",
        "### PARAMETERS\n",
        "# Define cost and constraints for assignments\n",
        "param cost {WORKERS, TASKS} >= 0;        # Cost of assigning a worker to a task\n",
        "param max_tasks integer >= 1;            # Maximum number of tasks per worker\n",
        "\n",
        "### VARIABLES\n",
        "# Decision variable: assignment of tasks to workers\n",
        "var IsAssigned {WORKERS, TASKS} binary;  # 1 if a worker is assigned to a task, 0 otherwise\n",
        "\n",
        "### OBJECTIVE\n",
        "# Minimize the total cost with an inverse relationship scaling\n",
        "# The cost of assigning a worker to a task decreases with the number of tasks already assigned to that worker.\n",
        "minimize TotalCost:\n",
        "    sum {w in WORKERS, t in TASKS} \n",
        "        (cost[w, t] / (1 + sum{t2 in TASKS} IsAssigned[w,t2])) * IsAssigned[w,t];\n",
        "\n",
        "### CONSTRAINTS\n",
        "subject to TaskAssignment{t in TASKS}:      # Each task must be assigned to exactly one worker\n",
        "    sum{w in WORKERS} IsAssigned[w,t] = 1;\n",
        "\n",
        "subject to WorkerTaskLimit{w in WORKERS}:   # Each worker is assigned at most max_tasks tasks\n",
        "    sum{t in TASKS} IsAssigned[w,t] <= max_tasks;"
      ]
    },
    {
      "cell_type": "markdown",
      "metadata": {},
      "source": [
        "# 4. Load data"
      ]
    },
    {
      "cell_type": "code",
      "execution_count": 4,
      "metadata": {},
      "outputs": [],
      "source": [
        "ampl.read('Inverse_cost_model.mod')                         # Load the AMPL model from the file\n",
        "ampl.set['WORKERS'] = ['Alice', 'Bob', 'Carol', 'Dave']     # Set of workers\n",
        "ampl.set['TASKS'] = ['Task1', 'Task2', 'Task3', 'Task4', 'Task5', 'Task6']  # Set of tasks\n",
        "ampl.param['max_tasks'] = 3                                 # Maximum number of tasks that can be assigned to a worker                 \n",
        "\n",
        "ampl.param['cost'] =  {                                     # Cost matrix (cost of assigning a worker to a task)\n",
        "    ('Alice', 'Task1'): 5, \n",
        "    ('Alice', 'Task2'): 8,\n",
        "    ('Alice', 'Task3'): 6,\n",
        "    ('Alice', 'Task4'): 7,\n",
        "    ('Alice', 'Task5'): 5,\n",
        "    ('Alice', 'Task6'): 8,\n",
        "    ('Bob', 'Task1'): 7, \n",
        "    ('Bob', 'Task2'): 6,\n",
        "    ('Bob', 'Task3'): 8,\n",
        "    ('Bob', 'Task4'): 5,\n",
        "    ('Bob', 'Task5'): 7,\n",
        "    ('Bob', 'Task6'): 6,\n",
        "    ('Carol', 'Task1'): 6, \n",
        "    ('Carol', 'Task2'): 7,\n",
        "    ('Carol', 'Task3'): 5,\n",
        "    ('Carol', 'Task4'): 8,\n",
        "    ('Carol', 'Task5'): 6,\n",
        "    ('Carol', 'Task6'): 7,\n",
        "    ('Dave', 'Task1'): 8, \n",
        "    ('Dave', 'Task2'): 5,\n",
        "    ('Dave', 'Task3'): 7,\n",
        "    ('Dave', 'Task4'): 6,\n",
        "    ('Dave', 'Task5'): 8,\n",
        "    ('Dave', 'Task6'): 5 }"
      ]
    },
    {
      "cell_type": "markdown",
      "metadata": {},
      "source": [
        "# 5. Solve problem"
      ]
    },
    {
      "cell_type": "code",
      "execution_count": 5,
      "metadata": {},
      "outputs": [],
      "source": [
        "# Set the solver type for use in solving the problems\n",
        "solver = 'minos'  # Use CBC solver for optimization tasks\n",
        "\n",
        "ampl.option['show_stats'] = 0 # Show problem size statistics (default: 0)\n",
        "ampl.option['display_1col'] = 0 # Disable single-column data display\n",
        "#ampl.option['omit_zero_rows'] = 1 # Hide rows with zero values\n",
        "#ampl.option['omit_zero_cols'] = 1 # Hide columns with zero values\n",
        "ampl.option['mp_options'] = 'outlev=1 lim:time=20'   # Configure CBC options (output level and time limit)\n",
        "\n",
        "ampl.solve(solver=solver, verbose=False)   # Solve the optimization problem using CBC solver  "
      ]
    },
    {
      "cell_type": "markdown",
      "metadata": {},
      "source": [
        "# 6. Display results"
      ]
    },
    {
      "cell_type": "code",
      "execution_count": 6,
      "metadata": {},
      "outputs": [
        {
          "name": "stdout",
          "output_type": "stream",
          "text": [
            ":              _varname                 _var     _var.lb _var.ub   _var.rc\n",
            " :=\n",
            "1    \"IsAssigned['Alice','Task1']\"   1               0       1     -0.4375\n",
            "2    \"IsAssigned['Alice','Task2']\"   0               0       1      0.5625\n",
            "3    \"IsAssigned['Alice','Task3']\"   1               0       1      0\n",
            "4    \"IsAssigned['Alice','Task4']\"   2.62587e-17     0       1      0\n",
            "5    \"IsAssigned['Alice','Task5']\"   1               0       1      0\n",
            "6    \"IsAssigned['Alice','Task6']\"   0               0       1      0\n",
            "7    \"IsAssigned['Bob','Task1']\"     0               0       1      0\n",
            "8    \"IsAssigned['Bob','Task2']\"     1               0       1      0\n",
            "9    \"IsAssigned['Bob','Task3']\"     0               0       1      0.4375\n",
            "10   \"IsAssigned['Bob','Task4']\"     1               0       1     -0.5625\n",
            "11   \"IsAssigned['Bob','Task5']\"     0               0       1      0.4375\n",
            "12   \"IsAssigned['Bob','Task6']\"     1               0       1     -0.5625\n",
            "13   \"IsAssigned['Carol','Task1']\"   0               0       1      5.3125\n",
            "14   \"IsAssigned['Carol','Task2']\"   0               0       1      6.5625\n",
            "15   \"IsAssigned['Carol','Task3']\"   0               0       1      4.5\n",
            "16   \"IsAssigned['Carol','Task4']\"   0               0       1      7.25\n",
            "17   \"IsAssigned['Carol','Task5']\"   0               0       1      5.75\n",
            "18   \"IsAssigned['Carol','Task6']\"   0               0       1      6\n",
            "19   \"IsAssigned['Dave','Task1']\"    0               0       1      7.3125\n",
            "20   \"IsAssigned['Dave','Task2']\"    0               0       1      4.5625\n",
            "21   \"IsAssigned['Dave','Task3']\"    0               0       1      6.5\n",
            "22   \"IsAssigned['Dave','Task4']\"    0               0       1      5.25\n",
            "23   \"IsAssigned['Dave','Task5']\"    0               0       1      7.75\n",
            "24   \"IsAssigned['Dave','Task6']\"    0               0       1      4\n",
            ";\n",
            ":    _var.slack     :=\n",
            "1    0\n",
            "2    0\n",
            "3    0\n",
            "4    2.62587e-17\n",
            "5    0\n",
            "6    0\n",
            "7    0\n",
            "8    0\n",
            "9    0\n",
            "10   0\n",
            "11   0\n",
            "12   0\n",
            "13   0\n",
            "14   0\n",
            "15   0\n",
            "16   0\n",
            "17   0\n",
            "18   0\n",
            "19   0\n",
            "20   0\n",
            "21   0\n",
            "22   0\n",
            "23   0\n",
            "24   0\n",
            ";\n",
            "\n",
            "# $6 = _con.slack\n",
            ":             _conname             _con  _con.body    _con.lb  _con.ub  $6\n",
            " :=\n",
            "1    \"TaskAssignment['Task1']\"    0.6875      1              1     1     0\n",
            "2    \"TaskAssignment['Task2']\"    0.4375      1              1     1     0\n",
            "3    \"TaskAssignment['Task3']\"    0.5         1              1     1     0\n",
            "4    \"TaskAssignment['Task4']\"    0.75        1              1     1     0\n",
            "5    \"TaskAssignment['Task5']\"    0.25        1              1     1     0\n",
            "6    \"TaskAssignment['Task6']\"    1           1              1     1     0\n",
            "7    \"WorkerTaskLimit['Alice']\"   0           3      -Infinity     3     0\n",
            "8    \"WorkerTaskLimit['Bob']\"     0           3      -Infinity     3     0\n",
            "9    \"WorkerTaskLimit['Carol']\"   0           0      -Infinity     3     3\n",
            "10   \"WorkerTaskLimit['Dave']\"    0           0      -Infinity     3     3\n",
            ";\n",
            "\n",
            ":   _objname    _obj    :=\n",
            "1   TotalCost   8.25\n",
            ";\n",
            "\n"
          ]
        }
      ],
      "source": [
        "# Display results for key variables\n",
        "ampl.display('_varname', '_var', '_var.lb', '_var.ub', '_var.rc', '_var.slack')\n",
        "ampl.display('_conname', '_con', '_con.body', '_con.lb', '_con.ub', '_con.slack')\n",
        "ampl.display('_objname', '_obj')"
      ]
    },
    {
      "cell_type": "markdown",
      "metadata": {},
      "source": [
        "# 7. Retrieve solution in Python"
      ]
    },
    {
      "cell_type": "code",
      "execution_count": 14,
      "metadata": {},
      "outputs": [
        {
          "name": "stdout",
          "output_type": "stream",
          "text": [
            "               x.val\n",
            "index0 index1       \n",
            "Alice  Task1     1.0\n",
            "       Task3     1.0\n",
            "       Task5     1.0\n",
            "Bob    Task2     1.0\n",
            "       Task4     1.0\n",
            "       Task6     1.0\n"
          ]
        }
      ],
      "source": [
        "# Initialize an empty dictionary to store AMPL variable data\n",
        "amplvar = dict()\n",
        "\n",
        "# Prepare a list of AMPL variables\n",
        "list_of_ampl_variables = [item[0] for item in ampl.get_variables()]\n",
        "\n",
        "# Iterate over each variable name in the list\n",
        "for key_ampl in list_of_ampl_variables:\n",
        "    # Skip certain variables that are not to be processed (these variables won't be included in the output)\n",
        "    if key_ampl not in ['']:\n",
        "        # Convert the AMPL variable data to a pandas DataFrame\n",
        "        df = ampl.var[key_ampl].to_pandas()\n",
        "        # Filter the DataFrame to include only rows where the variable's value is greater than a small threshold (1e-5)\n",
        "        filtered_df = df[df[f\"{key_ampl}.val\"] > 1e-5]\n",
        "        # Round the values in the DataFrame to two decimal places\n",
        "        rounded_df = filtered_df.round(2)\n",
        "        # Convert the filtered DataFrame to a dictionary and add it to the amplvar dictionary\n",
        "        amplvar[key_ampl] = rounded_df #.to_dict(orient='records')\n",
        "print (amplvar[key_ampl])"
      ]
    }
  ],
  "metadata": {
    "colab": {
      "provenance": []
    },
    "kernelspec": {
      "display_name": "Python 3",
      "language": "python",
      "name": "python3"
    },
    "language_info": {
      "codemirror_mode": {
        "name": "ipython",
        "version": 3
      },
      "file_extension": ".py",
      "mimetype": "text/x-python",
      "name": "python",
      "nbconvert_exporter": "python",
      "pygments_lexer": "ipython3",
      "version": "3.12.5"
    },
    "widgets": {
      "application/vnd.jupyter.widget-state+json": {
        "056f1660a7d047b2a5462fae0a458c46": {
          "model_module": "@jupyter-widgets/output",
          "model_module_version": "1.0.0",
          "model_name": "OutputModel",
          "state": {
            "_dom_classes": [],
            "_model_module": "@jupyter-widgets/output",
            "_model_module_version": "1.0.0",
            "_model_name": "OutputModel",
            "_view_count": null,
            "_view_module": "@jupyter-widgets/output",
            "_view_module_version": "1.0.0",
            "_view_name": "OutputView",
            "layout": "IPY_MODEL_84b27f894fed4369a4eef2034fbe31b3",
            "msg_id": "",
            "outputs": [
              {
                "name": "stdout",
                "output_type": "stream",
                "text": [
                  "AMPL License UUID (you can use free https://ampl.com/ce or https://ampl.com/courses licenses):\n"
                ]
              }
            ]
          }
        },
        "22e725d8437b4d3fb97758ef7ad05fea": {
          "model_module": "@jupyter-widgets/output",
          "model_module_version": "1.0.0",
          "model_name": "OutputModel",
          "state": {
            "_dom_classes": [],
            "_model_module": "@jupyter-widgets/output",
            "_model_module_version": "1.0.0",
            "_model_name": "OutputModel",
            "_view_count": null,
            "_view_module": "@jupyter-widgets/output",
            "_view_module_version": "1.0.0",
            "_view_name": "OutputView",
            "layout": "IPY_MODEL_5eabe03160684b70b3605101c789e14f",
            "msg_id": "",
            "outputs": []
          }
        },
        "23be63195d4c45ea8bb2aa657b1e2312": {
          "model_module": "@jupyter-widgets/controls",
          "model_module_version": "1.5.0",
          "model_name": "TextModel",
          "state": {
            "_dom_classes": [],
            "_model_module": "@jupyter-widgets/controls",
            "_model_module_version": "1.5.0",
            "_model_name": "TextModel",
            "_view_count": null,
            "_view_module": "@jupyter-widgets/controls",
            "_view_module_version": "1.5.0",
            "_view_name": "TextView",
            "continuous_update": true,
            "description": "License UUID:",
            "description_tooltip": null,
            "disabled": false,
            "layout": "IPY_MODEL_91577267a4c9421b9910f43ae01abf1c",
            "placeholder": "​",
            "style": "IPY_MODEL_ed0ce2d62cde45b0b3036cddb0951655",
            "value": ""
          }
        },
        "5eabe03160684b70b3605101c789e14f": {
          "model_module": "@jupyter-widgets/base",
          "model_module_version": "1.2.0",
          "model_name": "LayoutModel",
          "state": {
            "_model_module": "@jupyter-widgets/base",
            "_model_module_version": "1.2.0",
            "_model_name": "LayoutModel",
            "_view_count": null,
            "_view_module": "@jupyter-widgets/base",
            "_view_module_version": "1.2.0",
            "_view_name": "LayoutView",
            "align_content": null,
            "align_items": null,
            "align_self": null,
            "border": null,
            "bottom": null,
            "display": null,
            "flex": null,
            "flex_flow": null,
            "grid_area": null,
            "grid_auto_columns": null,
            "grid_auto_flow": null,
            "grid_auto_rows": null,
            "grid_column": null,
            "grid_gap": null,
            "grid_row": null,
            "grid_template_areas": null,
            "grid_template_columns": null,
            "grid_template_rows": null,
            "height": null,
            "justify_content": null,
            "justify_items": null,
            "left": null,
            "margin": null,
            "max_height": null,
            "max_width": null,
            "min_height": null,
            "min_width": null,
            "object_fit": null,
            "object_position": null,
            "order": null,
            "overflow": null,
            "overflow_x": null,
            "overflow_y": null,
            "padding": null,
            "right": null,
            "top": null,
            "visibility": null,
            "width": null
          }
        },
        "6b3c2325c2824a0aa00cb18f163be220": {
          "model_module": "@jupyter-widgets/base",
          "model_module_version": "1.2.0",
          "model_name": "LayoutModel",
          "state": {
            "_model_module": "@jupyter-widgets/base",
            "_model_module_version": "1.2.0",
            "_model_name": "LayoutModel",
            "_view_count": null,
            "_view_module": "@jupyter-widgets/base",
            "_view_module_version": "1.2.0",
            "_view_name": "LayoutView",
            "align_content": null,
            "align_items": null,
            "align_self": null,
            "border": null,
            "bottom": null,
            "display": null,
            "flex": null,
            "flex_flow": null,
            "grid_area": null,
            "grid_auto_columns": null,
            "grid_auto_flow": null,
            "grid_auto_rows": null,
            "grid_column": null,
            "grid_gap": null,
            "grid_row": null,
            "grid_template_areas": null,
            "grid_template_columns": null,
            "grid_template_rows": null,
            "height": null,
            "justify_content": null,
            "justify_items": null,
            "left": null,
            "margin": null,
            "max_height": null,
            "max_width": null,
            "min_height": null,
            "min_width": null,
            "object_fit": null,
            "object_position": null,
            "order": null,
            "overflow": null,
            "overflow_x": null,
            "overflow_y": null,
            "padding": null,
            "right": null,
            "top": null,
            "visibility": null,
            "width": null
          }
        },
        "84b27f894fed4369a4eef2034fbe31b3": {
          "model_module": "@jupyter-widgets/base",
          "model_module_version": "1.2.0",
          "model_name": "LayoutModel",
          "state": {
            "_model_module": "@jupyter-widgets/base",
            "_model_module_version": "1.2.0",
            "_model_name": "LayoutModel",
            "_view_count": null,
            "_view_module": "@jupyter-widgets/base",
            "_view_module_version": "1.2.0",
            "_view_name": "LayoutView",
            "align_content": null,
            "align_items": null,
            "align_self": null,
            "border": null,
            "bottom": null,
            "display": null,
            "flex": null,
            "flex_flow": null,
            "grid_area": null,
            "grid_auto_columns": null,
            "grid_auto_flow": null,
            "grid_auto_rows": null,
            "grid_column": null,
            "grid_gap": null,
            "grid_row": null,
            "grid_template_areas": null,
            "grid_template_columns": null,
            "grid_template_rows": null,
            "height": null,
            "justify_content": null,
            "justify_items": null,
            "left": null,
            "margin": null,
            "max_height": null,
            "max_width": null,
            "min_height": null,
            "min_width": null,
            "object_fit": null,
            "object_position": null,
            "order": null,
            "overflow": null,
            "overflow_x": null,
            "overflow_y": null,
            "padding": null,
            "right": null,
            "top": null,
            "visibility": null,
            "width": null
          }
        },
        "91577267a4c9421b9910f43ae01abf1c": {
          "model_module": "@jupyter-widgets/base",
          "model_module_version": "1.2.0",
          "model_name": "LayoutModel",
          "state": {
            "_model_module": "@jupyter-widgets/base",
            "_model_module_version": "1.2.0",
            "_model_name": "LayoutModel",
            "_view_count": null,
            "_view_module": "@jupyter-widgets/base",
            "_view_module_version": "1.2.0",
            "_view_name": "LayoutView",
            "align_content": null,
            "align_items": null,
            "align_self": null,
            "border": null,
            "bottom": null,
            "display": null,
            "flex": null,
            "flex_flow": null,
            "grid_area": null,
            "grid_auto_columns": null,
            "grid_auto_flow": null,
            "grid_auto_rows": null,
            "grid_column": null,
            "grid_gap": null,
            "grid_row": null,
            "grid_template_areas": null,
            "grid_template_columns": null,
            "grid_template_rows": null,
            "height": null,
            "justify_content": null,
            "justify_items": null,
            "left": null,
            "margin": null,
            "max_height": null,
            "max_width": null,
            "min_height": null,
            "min_width": null,
            "object_fit": null,
            "object_position": null,
            "order": null,
            "overflow": null,
            "overflow_x": null,
            "overflow_y": null,
            "padding": null,
            "right": null,
            "top": null,
            "visibility": null,
            "width": null
          }
        },
        "9b984adffdda404e9e60862fbf27daab": {
          "model_module": "@jupyter-widgets/controls",
          "model_module_version": "1.5.0",
          "model_name": "VBoxModel",
          "state": {
            "_dom_classes": [],
            "_model_module": "@jupyter-widgets/controls",
            "_model_module_version": "1.5.0",
            "_model_name": "VBoxModel",
            "_view_count": null,
            "_view_module": "@jupyter-widgets/controls",
            "_view_module_version": "1.5.0",
            "_view_name": "VBoxView",
            "box_style": "",
            "children": [
              "IPY_MODEL_056f1660a7d047b2a5462fae0a458c46",
              "IPY_MODEL_9ff9e8a526424ff38a26f009d31593fd",
              "IPY_MODEL_22e725d8437b4d3fb97758ef7ad05fea",
              "IPY_MODEL_9efeb0f357954178a4001ce850eb20a3"
            ],
            "layout": "IPY_MODEL_6b3c2325c2824a0aa00cb18f163be220"
          }
        },
        "9efeb0f357954178a4001ce850eb20a3": {
          "model_module": "@jupyter-widgets/output",
          "model_module_version": "1.0.0",
          "model_name": "OutputModel",
          "state": {
            "_dom_classes": [],
            "_model_module": "@jupyter-widgets/output",
            "_model_module_version": "1.0.0",
            "_model_name": "OutputModel",
            "_view_count": null,
            "_view_module": "@jupyter-widgets/output",
            "_view_module_version": "1.0.0",
            "_view_name": "OutputView",
            "layout": "IPY_MODEL_b671885e2aab4ca0902eca16ce038a5a",
            "msg_id": "",
            "outputs": [
              {
                "name": "stdout",
                "output_type": "stream",
                "text": [
                  "Licensed to AMPL Community Edition License for the AMPL Model Colaboratory (https://ampl.com/colab).\n"
                ]
              }
            ]
          }
        },
        "9ff9e8a526424ff38a26f009d31593fd": {
          "model_module": "@jupyter-widgets/controls",
          "model_module_version": "1.5.0",
          "model_name": "HBoxModel",
          "state": {
            "_dom_classes": [],
            "_model_module": "@jupyter-widgets/controls",
            "_model_module_version": "1.5.0",
            "_model_name": "HBoxModel",
            "_view_count": null,
            "_view_module": "@jupyter-widgets/controls",
            "_view_module_version": "1.5.0",
            "_view_name": "HBoxView",
            "box_style": "",
            "children": [
              "IPY_MODEL_23be63195d4c45ea8bb2aa657b1e2312"
            ],
            "layout": "IPY_MODEL_b3855f2ba3d446d6a9d75bde3f50678d"
          }
        },
        "b3855f2ba3d446d6a9d75bde3f50678d": {
          "model_module": "@jupyter-widgets/base",
          "model_module_version": "1.2.0",
          "model_name": "LayoutModel",
          "state": {
            "_model_module": "@jupyter-widgets/base",
            "_model_module_version": "1.2.0",
            "_model_name": "LayoutModel",
            "_view_count": null,
            "_view_module": "@jupyter-widgets/base",
            "_view_module_version": "1.2.0",
            "_view_name": "LayoutView",
            "align_content": null,
            "align_items": null,
            "align_self": null,
            "border": null,
            "bottom": null,
            "display": null,
            "flex": null,
            "flex_flow": null,
            "grid_area": null,
            "grid_auto_columns": null,
            "grid_auto_flow": null,
            "grid_auto_rows": null,
            "grid_column": null,
            "grid_gap": null,
            "grid_row": null,
            "grid_template_areas": null,
            "grid_template_columns": null,
            "grid_template_rows": null,
            "height": null,
            "justify_content": null,
            "justify_items": null,
            "left": null,
            "margin": null,
            "max_height": null,
            "max_width": null,
            "min_height": null,
            "min_width": null,
            "object_fit": null,
            "object_position": null,
            "order": null,
            "overflow": null,
            "overflow_x": null,
            "overflow_y": null,
            "padding": null,
            "right": null,
            "top": null,
            "visibility": null,
            "width": null
          }
        },
        "b671885e2aab4ca0902eca16ce038a5a": {
          "model_module": "@jupyter-widgets/base",
          "model_module_version": "1.2.0",
          "model_name": "LayoutModel",
          "state": {
            "_model_module": "@jupyter-widgets/base",
            "_model_module_version": "1.2.0",
            "_model_name": "LayoutModel",
            "_view_count": null,
            "_view_module": "@jupyter-widgets/base",
            "_view_module_version": "1.2.0",
            "_view_name": "LayoutView",
            "align_content": null,
            "align_items": null,
            "align_self": null,
            "border": null,
            "bottom": null,
            "display": null,
            "flex": null,
            "flex_flow": null,
            "grid_area": null,
            "grid_auto_columns": null,
            "grid_auto_flow": null,
            "grid_auto_rows": null,
            "grid_column": null,
            "grid_gap": null,
            "grid_row": null,
            "grid_template_areas": null,
            "grid_template_columns": null,
            "grid_template_rows": null,
            "height": null,
            "justify_content": null,
            "justify_items": null,
            "left": null,
            "margin": null,
            "max_height": null,
            "max_width": null,
            "min_height": null,
            "min_width": null,
            "object_fit": null,
            "object_position": null,
            "order": null,
            "overflow": null,
            "overflow_x": null,
            "overflow_y": null,
            "padding": null,
            "right": null,
            "top": null,
            "visibility": null,
            "width": null
          }
        },
        "ed0ce2d62cde45b0b3036cddb0951655": {
          "model_module": "@jupyter-widgets/controls",
          "model_module_version": "1.5.0",
          "model_name": "DescriptionStyleModel",
          "state": {
            "_model_module": "@jupyter-widgets/controls",
            "_model_module_version": "1.5.0",
            "_model_name": "DescriptionStyleModel",
            "_view_count": null,
            "_view_module": "@jupyter-widgets/base",
            "_view_module_version": "1.2.0",
            "_view_name": "StyleView",
            "description_width": "initial"
          }
        }
      }
    }
  },
  "nbformat": 4,
  "nbformat_minor": 4
}
