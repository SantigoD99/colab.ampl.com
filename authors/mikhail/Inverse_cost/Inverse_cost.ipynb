{
 "cells": [
  {
   "cell_type": "markdown",
   "metadata": {
    "id": "7RjB1ipC7KbS"
   },
   "source": [
    "# Balanced Task Assignment with Inverse Cost Scaling\n",
    "\n",
    "[![Investment_project.ipynb](https://img.shields.io/badge/github-%23121011.svg?logo=github)](https://github.com/ampl/colab.ampl.com/blob/master/authors/mikhail/Inverse_cost/Inverse_cost.ipynb) [![Open In Colab](https://colab.research.google.com/assets/colab-badge.svg)](https://colab.research.google.com/github/ampl/colab.ampl.com/blob/master/authors/mikhail/Inverse_cost/Inverse_cost.ipynb) [![Kaggle](https://kaggle.com/static/images/open-in-kaggle.svg)](https://kaggle.com/kernels/welcome?src=https://github.com/ampl/colab.ampl.com/blob/master/authors/mikhail/Inverse_cost/Inverse_cost.ipynb) [![Gradient](https://assets.paperspace.io/img/gradient-badge.svg)](https://console.paperspace.com/github/ampl/colab.ampl.com/blob/master/authors/mikhail/Inverse_cost/Inverse_cost.ipynb) [![Open In SageMaker Studio Lab](https://studiolab.sagemaker.aws/studiolab.svg)](https://studiolab.sagemaker.aws/import/github/ampl/colab.ampl.com/blob/master/authors/mikhail/Inverse_cost/Inverse_cost.ipynb) [![Hits](https://h.ampl.com/https://github.com/ampl/colab.ampl.com/blob/master/authors/mikhail/Inverse_cost/Inverse_cost.ipynb)](https://colab.ampl.com)\n",
    "\n",
    "This model addresses a task assignment problem where workers are assigned to tasks based on a cost matrix. The cost of assigning a task to a worker depends inversely on the number of tasks already assigned to that worker, encouraging balanced task allocation. \n",
    "The ***objective*** is to minimize the total cost while ensuring:\n",
    "- Each task is assigned to exactly one worker.\n",
    "- Each worker is assigned no more than a specified maximum number of tasks.\n",
    "\n",
    "[*Partner with the AMPL team to transform complex problems into optimized solutions. AMPL consulting services combine deep technical knowledge with industry-leading insights, helping you unlock the full potential of optimization within your organization.*](https://ampl.com/services/)\n",
    "\n",
    "Tags: amplpy, nonlinear, worker-task-assignment, cost-minimization, inverse-cost-scaling, task-scheduling, gurobi, global-optimization, assignment, scheduling\n",
    "\n",
    "Notebook author: Mikhail Riabtsev <<mail@solverytic.com>>\n",
    "***"
   ]
  },
  {
   "cell_type": "markdown",
   "metadata": {},
   "source": [
    "# 1. Download Necessary Extensions and Libraries"
   ]
  },
  {
   "cell_type": "code",
   "execution_count": null,
   "metadata": {},
   "outputs": [],
   "source": [
    "# Install dependencies\n",
    "%pip install -q amplpy pandas\n",
    "import pandas as pd                 # Loading panda to work with pandas.DataFrame objects (https://pandas.pydata.org/)\n",
    "import numpy as np                  # Loading numpy to perform multidimensional calculations numpy.matrix (https://numpy.org/)"
   ]
  },
  {
   "cell_type": "code",
   "execution_count": null,
   "metadata": {},
   "outputs": [],
   "source": [
    "# Google Colab & Kaggle integration\n",
    "from amplpy import AMPL, ampl_notebook\n",
    "\n",
    "ampl = ampl_notebook(\n",
    "    modules=[\"cbc\", \"highs\", \"gurobi\"],  # modules to install\n",
    "    license_uuid=\"default\",  # license to use\n",
    ")  # instantiate AMPL object and register magics"
   ]
  },
  {
   "cell_type": "markdown",
   "metadata": {},
   "source": [
    "# 2. Mathematical Formulation"
   ]
  },
  {
   "cell_type": "markdown",
   "metadata": {},
   "source": [
    "#### **Sets**\n",
    "- $(W)$: Set of workers $W = {w_1, w_2, \\ldots, w_n}$\n",
    "- $(T)$: Set of tasks $T = {t_1, t_2, \\ldots, t_m}$\n",
    "\n",
    "#### **Parameters**\n",
    "- $cost[w, t]$: Cost of assigning worker $w$ to task $t$, where $w \\in W $ and $t \\in T $.\n",
    "- $max\\_tasks$: Maximum number of tasks that can be assigned to a single worker.\n",
    "\n",
    "#### **Decision Variables**\n",
    "- $x[w, t] \\in \\{0, 1\\} $: Binary variable, 1 if worker $w$ is assigned to task $t$, 0 otherwise.\n",
    "\n",
    "---\n",
    "\n",
    "#### **Objective Function**\n",
    "\n",
    "Minimize the total cost of assigning tasks to workers:\n",
    "\n",
    "$\\text{Minimize Z }= \\sum_{w \\in W} \\sum_{t \\in T} \\frac{\\text{cost}[w, t]}{1 + \\sum_{t' \\in T} x[w, t']} \\cdot x[w, t]$\n",
    "\n",
    "---\n",
    "\n",
    "#### **Constraints**\n",
    "\n",
    "1. **Task Assignment Constraint**:  \n",
    "   Each task must be assigned to exactly one worker:\n",
    "\n",
    "   $ \\sum_{w \\in W} x[w, t] = 1, \\quad \\forall t \\in T$\n",
    "\n",
    "2. **Worker Task Limit Constraint**:  \n",
    "   Each worker can be assigned at most $\\text{max\\_tasks} $ tasks:\n",
    "\n",
    "   $\\sum_{t \\in T} x[w, t] \\leq \\text{max\\_tasks}, \\quad \\forall w \\in W$\n",
    "\n",
    "3. **Binary Decision Variables**:  \n",
    "   Ensure the variables are binary:\n",
    "\n",
    "   $x[w, t] \\in \\{0, 1\\}, \\quad \\forall w \\in W, \\, t \\in T$"
   ]
  },
  {
   "cell_type": "markdown",
   "metadata": {},
   "source": [
    "# 3. AMPL Model Formulation"
   ]
  },
  {
   "cell_type": "code",
   "execution_count": 3,
   "metadata": {},
   "outputs": [
    {
     "name": "stdout",
     "output_type": "stream",
     "text": [
      "Overwriting Inverse_cost_model.mod\n"
     ]
    }
   ],
   "source": [
    "%%writefile Inverse_cost_model.mod\n",
    "reset;\n",
    "\n",
    "# Model Name: Worker-Task Assignment\n",
    "### Optimize task assignments to workers, minimizing costs with an inverse relationship scaling.\n",
    "# Version: 1.0\n",
    "# Last Updated: Jan 2025\n",
    "\n",
    "### SETS\n",
    "# Define the set of workers and tasks\n",
    "set WORKERS;                             # All workers\n",
    "set TASKS;                               # All tasks\n",
    "\n",
    "### PARAMETERS\n",
    "# Define cost and constraints for assignments\n",
    "param cost {WORKERS, TASKS} >= 0;        # Cost of assigning a worker to a task\n",
    "param max_tasks integer >= 1;            # Maximum number of tasks per worker\n",
    "\n",
    "### VARIABLES\n",
    "# Decision variable: assignment of tasks to workers\n",
    "var IsAssigned {WORKERS, TASKS} binary;  # 1 if a worker is assigned to a task, 0 otherwise\n",
    "\n",
    "### OBJECTIVE\n",
    "# Minimize the total cost with an inverse relationship scaling\n",
    "# The cost of assigning a worker to a task decreases with the number of tasks already assigned to that worker.\n",
    "minimize TotalCost:\n",
    "    sum {w in WORKERS, t in TASKS} \n",
    "        (cost[w, t] / (1 + sum{t2 in TASKS} IsAssigned[w,t2])) * IsAssigned[w,t];\n",
    "\n",
    "### CONSTRAINTS\n",
    "subject to TaskAssignment{t in TASKS}:      # Each task must be assigned to exactly one worker\n",
    "    sum{w in WORKERS} IsAssigned[w,t] = 1;\n",
    "\n",
    "subject to WorkerTaskLimit{w in WORKERS}:   # Each worker is assigned at most max_tasks tasks\n",
    "    sum{t in TASKS} IsAssigned[w,t] <= max_tasks;"
   ]
  },
  {
   "cell_type": "markdown",
   "metadata": {},
   "source": [
    "# 4. Load data"
   ]
  },
  {
   "cell_type": "code",
   "execution_count": 4,
   "metadata": {},
   "outputs": [],
   "source": [
    "ampl.read('Inverse_cost_model.mod')                         # Load the AMPL model from the file\n",
    "ampl.set['WORKERS'] = ['Alice', 'Bob', 'Carol', 'Dave']     # Set of workers\n",
    "ampl.set['TASKS'] = ['Task1', 'Task2', 'Task3', 'Task4', 'Task5', 'Task6']  # Set of tasks\n",
    "ampl.param['max_tasks'] = 3                                 # Maximum number of tasks that can be assigned to a worker                 \n",
    "\n",
    "ampl.param['cost'] =  {                                     # Cost matrix (cost of assigning a worker to a task)\n",
    "    ('Alice', 'Task1'): 5, \n",
    "    ('Alice', 'Task2'): 8,\n",
    "    ('Alice', 'Task3'): 6,\n",
    "    ('Alice', 'Task4'): 7,\n",
    "    ('Alice', 'Task5'): 5,\n",
    "    ('Alice', 'Task6'): 8,\n",
    "    ('Bob', 'Task1'): 7, \n",
    "    ('Bob', 'Task2'): 6,\n",
    "    ('Bob', 'Task3'): 8,\n",
    "    ('Bob', 'Task4'): 5,\n",
    "    ('Bob', 'Task5'): 7,\n",
    "    ('Bob', 'Task6'): 6,\n",
    "    ('Carol', 'Task1'): 6, \n",
    "    ('Carol', 'Task2'): 7,\n",
    "    ('Carol', 'Task3'): 5,\n",
    "    ('Carol', 'Task4'): 8,\n",
    "    ('Carol', 'Task5'): 6,\n",
    "    ('Carol', 'Task6'): 7,\n",
    "    ('Dave', 'Task1'): 8, \n",
    "    ('Dave', 'Task2'): 5,\n",
    "    ('Dave', 'Task3'): 7,\n",
    "    ('Dave', 'Task4'): 6,\n",
    "    ('Dave', 'Task5'): 8,\n",
    "    ('Dave', 'Task6'): 5 }"
   ]
  },
  {
   "cell_type": "markdown",
   "metadata": {},
   "source": [
    "# 5. Solve problem"
   ]
  },
  {
   "cell_type": "code",
   "execution_count": 18,
   "metadata": {},
   "outputs": [
    {
     "name": "stdout",
     "output_type": "stream",
     "text": [
      "Gurobi 12.0.0:   tech:outlev = 0\n",
      "  lim:time = 20\n",
      "Gurobi 12.0.0: optimal solution; objective 8\n",
      "66 simplex iterations\n",
      "1 branching node\n"
     ]
    }
   ],
   "source": [
    "# Set the solver type for use in solving the problems\n",
    "solver = 'gurobi'\n",
    "\n",
    "ampl.option['show_stats'] = 0 # Show problem size statistics (default: 0)\n",
    "ampl.option['display_1col'] = 0 # Disable single-column data display\n",
    "#ampl.option['omit_zero_rows'] = 1 # Hide rows with zero values\n",
    "#ampl.option['omit_zero_cols'] = 1 # Hide columns with zero values\n",
    "ampl.option['mp_options'] = 'outlev=0 lim:time=20'   # Configure CBC options (output level and time limit)\n",
    "\n",
    "ampl.solve(solver=solver, verbose=True)   # Solve the optimization problem using CBC solver  "
   ]
  },
  {
   "cell_type": "markdown",
   "metadata": {},
   "source": [
    "# 6. Retrieve solution in Python"
   ]
  },
  {
   "cell_type": "code",
   "execution_count": 17,
   "metadata": {},
   "outputs": [
    {
     "name": "stdout",
     "output_type": "stream",
     "text": [
      "Alice assigned to Task1\n",
      "Alice assigned to Task3\n",
      "Alice assigned to Task5\n",
      "Dave assigned to Task2\n",
      "Dave assigned to Task4\n",
      "Dave assigned to Task6\n"
     ]
    }
   ],
   "source": [
    "solution = ampl.get_solution(flat=False)\n",
    "for name_task,val in solution['IsAssigned'].items():\n",
    "    name, task = name_task\n",
    "    print (f\"{name} assigned to {task}\")"
   ]
  }
 ],
 "metadata": {
  "colab": {
   "provenance": []
  },
  "kernelspec": {
   "display_name": "Python 3 (ipykernel)",
   "language": "python",
   "name": "python3"
  },
  "language_info": {
   "codemirror_mode": {
    "name": "ipython",
    "version": 3
   },
   "file_extension": ".py",
   "mimetype": "text/x-python",
   "name": "python",
   "nbconvert_exporter": "python",
   "pygments_lexer": "ipython3",
   "version": "3.10.12"
  },
  "widgets": {
   "application/vnd.jupyter.widget-state+json": {
    "056f1660a7d047b2a5462fae0a458c46": {
     "model_module": "@jupyter-widgets/output",
     "model_module_version": "1.0.0",
     "model_name": "OutputModel",
     "state": {
      "_dom_classes": [],
      "_model_module": "@jupyter-widgets/output",
      "_model_module_version": "1.0.0",
      "_model_name": "OutputModel",
      "_view_count": null,
      "_view_module": "@jupyter-widgets/output",
      "_view_module_version": "1.0.0",
      "_view_name": "OutputView",
      "layout": "IPY_MODEL_84b27f894fed4369a4eef2034fbe31b3",
      "msg_id": "",
      "outputs": [
       {
        "name": "stdout",
        "output_type": "stream",
        "text": [
         "AMPL License UUID (you can use free https://ampl.com/ce or https://ampl.com/courses licenses):\n"
        ]
       }
      ]
     }
    },
    "22e725d8437b4d3fb97758ef7ad05fea": {
     "model_module": "@jupyter-widgets/output",
     "model_module_version": "1.0.0",
     "model_name": "OutputModel",
     "state": {
      "_dom_classes": [],
      "_model_module": "@jupyter-widgets/output",
      "_model_module_version": "1.0.0",
      "_model_name": "OutputModel",
      "_view_count": null,
      "_view_module": "@jupyter-widgets/output",
      "_view_module_version": "1.0.0",
      "_view_name": "OutputView",
      "layout": "IPY_MODEL_5eabe03160684b70b3605101c789e14f",
      "msg_id": "",
      "outputs": []
     }
    },
    "23be63195d4c45ea8bb2aa657b1e2312": {
     "model_module": "@jupyter-widgets/controls",
     "model_module_version": "1.5.0",
     "model_name": "TextModel",
     "state": {
      "_dom_classes": [],
      "_model_module": "@jupyter-widgets/controls",
      "_model_module_version": "1.5.0",
      "_model_name": "TextModel",
      "_view_count": null,
      "_view_module": "@jupyter-widgets/controls",
      "_view_module_version": "1.5.0",
      "_view_name": "TextView",
      "continuous_update": true,
      "description": "License UUID:",
      "description_tooltip": null,
      "disabled": false,
      "layout": "IPY_MODEL_91577267a4c9421b9910f43ae01abf1c",
      "placeholder": "​",
      "style": "IPY_MODEL_ed0ce2d62cde45b0b3036cddb0951655",
      "value": ""
     }
    },
    "5eabe03160684b70b3605101c789e14f": {
     "model_module": "@jupyter-widgets/base",
     "model_module_version": "1.2.0",
     "model_name": "LayoutModel",
     "state": {
      "_model_module": "@jupyter-widgets/base",
      "_model_module_version": "1.2.0",
      "_model_name": "LayoutModel",
      "_view_count": null,
      "_view_module": "@jupyter-widgets/base",
      "_view_module_version": "1.2.0",
      "_view_name": "LayoutView",
      "align_content": null,
      "align_items": null,
      "align_self": null,
      "border": null,
      "bottom": null,
      "display": null,
      "flex": null,
      "flex_flow": null,
      "grid_area": null,
      "grid_auto_columns": null,
      "grid_auto_flow": null,
      "grid_auto_rows": null,
      "grid_column": null,
      "grid_gap": null,
      "grid_row": null,
      "grid_template_areas": null,
      "grid_template_columns": null,
      "grid_template_rows": null,
      "height": null,
      "justify_content": null,
      "justify_items": null,
      "left": null,
      "margin": null,
      "max_height": null,
      "max_width": null,
      "min_height": null,
      "min_width": null,
      "object_fit": null,
      "object_position": null,
      "order": null,
      "overflow": null,
      "overflow_x": null,
      "overflow_y": null,
      "padding": null,
      "right": null,
      "top": null,
      "visibility": null,
      "width": null
     }
    },
    "6b3c2325c2824a0aa00cb18f163be220": {
     "model_module": "@jupyter-widgets/base",
     "model_module_version": "1.2.0",
     "model_name": "LayoutModel",
     "state": {
      "_model_module": "@jupyter-widgets/base",
      "_model_module_version": "1.2.0",
      "_model_name": "LayoutModel",
      "_view_count": null,
      "_view_module": "@jupyter-widgets/base",
      "_view_module_version": "1.2.0",
      "_view_name": "LayoutView",
      "align_content": null,
      "align_items": null,
      "align_self": null,
      "border": null,
      "bottom": null,
      "display": null,
      "flex": null,
      "flex_flow": null,
      "grid_area": null,
      "grid_auto_columns": null,
      "grid_auto_flow": null,
      "grid_auto_rows": null,
      "grid_column": null,
      "grid_gap": null,
      "grid_row": null,
      "grid_template_areas": null,
      "grid_template_columns": null,
      "grid_template_rows": null,
      "height": null,
      "justify_content": null,
      "justify_items": null,
      "left": null,
      "margin": null,
      "max_height": null,
      "max_width": null,
      "min_height": null,
      "min_width": null,
      "object_fit": null,
      "object_position": null,
      "order": null,
      "overflow": null,
      "overflow_x": null,
      "overflow_y": null,
      "padding": null,
      "right": null,
      "top": null,
      "visibility": null,
      "width": null
     }
    },
    "84b27f894fed4369a4eef2034fbe31b3": {
     "model_module": "@jupyter-widgets/base",
     "model_module_version": "1.2.0",
     "model_name": "LayoutModel",
     "state": {
      "_model_module": "@jupyter-widgets/base",
      "_model_module_version": "1.2.0",
      "_model_name": "LayoutModel",
      "_view_count": null,
      "_view_module": "@jupyter-widgets/base",
      "_view_module_version": "1.2.0",
      "_view_name": "LayoutView",
      "align_content": null,
      "align_items": null,
      "align_self": null,
      "border": null,
      "bottom": null,
      "display": null,
      "flex": null,
      "flex_flow": null,
      "grid_area": null,
      "grid_auto_columns": null,
      "grid_auto_flow": null,
      "grid_auto_rows": null,
      "grid_column": null,
      "grid_gap": null,
      "grid_row": null,
      "grid_template_areas": null,
      "grid_template_columns": null,
      "grid_template_rows": null,
      "height": null,
      "justify_content": null,
      "justify_items": null,
      "left": null,
      "margin": null,
      "max_height": null,
      "max_width": null,
      "min_height": null,
      "min_width": null,
      "object_fit": null,
      "object_position": null,
      "order": null,
      "overflow": null,
      "overflow_x": null,
      "overflow_y": null,
      "padding": null,
      "right": null,
      "top": null,
      "visibility": null,
      "width": null
     }
    },
    "91577267a4c9421b9910f43ae01abf1c": {
     "model_module": "@jupyter-widgets/base",
     "model_module_version": "1.2.0",
     "model_name": "LayoutModel",
     "state": {
      "_model_module": "@jupyter-widgets/base",
      "_model_module_version": "1.2.0",
      "_model_name": "LayoutModel",
      "_view_count": null,
      "_view_module": "@jupyter-widgets/base",
      "_view_module_version": "1.2.0",
      "_view_name": "LayoutView",
      "align_content": null,
      "align_items": null,
      "align_self": null,
      "border": null,
      "bottom": null,
      "display": null,
      "flex": null,
      "flex_flow": null,
      "grid_area": null,
      "grid_auto_columns": null,
      "grid_auto_flow": null,
      "grid_auto_rows": null,
      "grid_column": null,
      "grid_gap": null,
      "grid_row": null,
      "grid_template_areas": null,
      "grid_template_columns": null,
      "grid_template_rows": null,
      "height": null,
      "justify_content": null,
      "justify_items": null,
      "left": null,
      "margin": null,
      "max_height": null,
      "max_width": null,
      "min_height": null,
      "min_width": null,
      "object_fit": null,
      "object_position": null,
      "order": null,
      "overflow": null,
      "overflow_x": null,
      "overflow_y": null,
      "padding": null,
      "right": null,
      "top": null,
      "visibility": null,
      "width": null
     }
    },
    "9b984adffdda404e9e60862fbf27daab": {
     "model_module": "@jupyter-widgets/controls",
     "model_module_version": "1.5.0",
     "model_name": "VBoxModel",
     "state": {
      "_dom_classes": [],
      "_model_module": "@jupyter-widgets/controls",
      "_model_module_version": "1.5.0",
      "_model_name": "VBoxModel",
      "_view_count": null,
      "_view_module": "@jupyter-widgets/controls",
      "_view_module_version": "1.5.0",
      "_view_name": "VBoxView",
      "box_style": "",
      "children": [
       "IPY_MODEL_056f1660a7d047b2a5462fae0a458c46",
       "IPY_MODEL_9ff9e8a526424ff38a26f009d31593fd",
       "IPY_MODEL_22e725d8437b4d3fb97758ef7ad05fea",
       "IPY_MODEL_9efeb0f357954178a4001ce850eb20a3"
      ],
      "layout": "IPY_MODEL_6b3c2325c2824a0aa00cb18f163be220"
     }
    },
    "9efeb0f357954178a4001ce850eb20a3": {
     "model_module": "@jupyter-widgets/output",
     "model_module_version": "1.0.0",
     "model_name": "OutputModel",
     "state": {
      "_dom_classes": [],
      "_model_module": "@jupyter-widgets/output",
      "_model_module_version": "1.0.0",
      "_model_name": "OutputModel",
      "_view_count": null,
      "_view_module": "@jupyter-widgets/output",
      "_view_module_version": "1.0.0",
      "_view_name": "OutputView",
      "layout": "IPY_MODEL_b671885e2aab4ca0902eca16ce038a5a",
      "msg_id": "",
      "outputs": [
       {
        "name": "stdout",
        "output_type": "stream",
        "text": [
         "Licensed to AMPL Community Edition License for the AMPL Model Colaboratory (https://ampl.com/colab).\n"
        ]
       }
      ]
     }
    },
    "9ff9e8a526424ff38a26f009d31593fd": {
     "model_module": "@jupyter-widgets/controls",
     "model_module_version": "1.5.0",
     "model_name": "HBoxModel",
     "state": {
      "_dom_classes": [],
      "_model_module": "@jupyter-widgets/controls",
      "_model_module_version": "1.5.0",
      "_model_name": "HBoxModel",
      "_view_count": null,
      "_view_module": "@jupyter-widgets/controls",
      "_view_module_version": "1.5.0",
      "_view_name": "HBoxView",
      "box_style": "",
      "children": [
       "IPY_MODEL_23be63195d4c45ea8bb2aa657b1e2312"
      ],
      "layout": "IPY_MODEL_b3855f2ba3d446d6a9d75bde3f50678d"
     }
    },
    "b3855f2ba3d446d6a9d75bde3f50678d": {
     "model_module": "@jupyter-widgets/base",
     "model_module_version": "1.2.0",
     "model_name": "LayoutModel",
     "state": {
      "_model_module": "@jupyter-widgets/base",
      "_model_module_version": "1.2.0",
      "_model_name": "LayoutModel",
      "_view_count": null,
      "_view_module": "@jupyter-widgets/base",
      "_view_module_version": "1.2.0",
      "_view_name": "LayoutView",
      "align_content": null,
      "align_items": null,
      "align_self": null,
      "border": null,
      "bottom": null,
      "display": null,
      "flex": null,
      "flex_flow": null,
      "grid_area": null,
      "grid_auto_columns": null,
      "grid_auto_flow": null,
      "grid_auto_rows": null,
      "grid_column": null,
      "grid_gap": null,
      "grid_row": null,
      "grid_template_areas": null,
      "grid_template_columns": null,
      "grid_template_rows": null,
      "height": null,
      "justify_content": null,
      "justify_items": null,
      "left": null,
      "margin": null,
      "max_height": null,
      "max_width": null,
      "min_height": null,
      "min_width": null,
      "object_fit": null,
      "object_position": null,
      "order": null,
      "overflow": null,
      "overflow_x": null,
      "overflow_y": null,
      "padding": null,
      "right": null,
      "top": null,
      "visibility": null,
      "width": null
     }
    },
    "b671885e2aab4ca0902eca16ce038a5a": {
     "model_module": "@jupyter-widgets/base",
     "model_module_version": "1.2.0",
     "model_name": "LayoutModel",
     "state": {
      "_model_module": "@jupyter-widgets/base",
      "_model_module_version": "1.2.0",
      "_model_name": "LayoutModel",
      "_view_count": null,
      "_view_module": "@jupyter-widgets/base",
      "_view_module_version": "1.2.0",
      "_view_name": "LayoutView",
      "align_content": null,
      "align_items": null,
      "align_self": null,
      "border": null,
      "bottom": null,
      "display": null,
      "flex": null,
      "flex_flow": null,
      "grid_area": null,
      "grid_auto_columns": null,
      "grid_auto_flow": null,
      "grid_auto_rows": null,
      "grid_column": null,
      "grid_gap": null,
      "grid_row": null,
      "grid_template_areas": null,
      "grid_template_columns": null,
      "grid_template_rows": null,
      "height": null,
      "justify_content": null,
      "justify_items": null,
      "left": null,
      "margin": null,
      "max_height": null,
      "max_width": null,
      "min_height": null,
      "min_width": null,
      "object_fit": null,
      "object_position": null,
      "order": null,
      "overflow": null,
      "overflow_x": null,
      "overflow_y": null,
      "padding": null,
      "right": null,
      "top": null,
      "visibility": null,
      "width": null
     }
    },
    "ed0ce2d62cde45b0b3036cddb0951655": {
     "model_module": "@jupyter-widgets/controls",
     "model_module_version": "1.5.0",
     "model_name": "DescriptionStyleModel",
     "state": {
      "_model_module": "@jupyter-widgets/controls",
      "_model_module_version": "1.5.0",
      "_model_name": "DescriptionStyleModel",
      "_view_count": null,
      "_view_module": "@jupyter-widgets/base",
      "_view_module_version": "1.2.0",
      "_view_name": "StyleView",
      "description_width": "initial"
     }
    }
   }
  }
 },
 "nbformat": 4,
 "nbformat_minor": 4
}
