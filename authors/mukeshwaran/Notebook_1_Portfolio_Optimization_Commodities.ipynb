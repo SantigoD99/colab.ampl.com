{
 "cells": [
  {
   "cell_type": "markdown",
   "metadata": {
    "id": "wGT__K50Hpk-"
   },
   "source": [
    "# Optimized Portfolio Optimization in Python with AMPL using EIA Data\n",
    "[![Notebook_1_Portfolio_Optimization_Commodities.ipynb](https://img.shields.io/badge/github-%23121011.svg?logo=github)](https://github.com/ampl/colab.ampl.com/blob/master/authors/mukeshwaran/Notebook_1_Portfolio_Optimization_Commodities.ipynb) [![Open In Colab](https://colab.research.google.com/assets/colab-badge.svg)](https://colab.research.google.com/github/ampl/colab.ampl.com/blob/master/authors/mukeshwaran/Notebook_1_Portfolio_Optimization_Commodities.ipynb) [![Kaggle](https://kaggle.com/static/images/open-in-kaggle.svg)](https://kaggle.com/kernels/welcome?src=https://github.com/ampl/colab.ampl.com/blob/master/authors/mukeshwaran/Notebook_1_Portfolio_Optimization_Commodities.ipynb) [![Gradient](https://assets.paperspace.io/img/gradient-badge.svg)](https://console.paperspace.com/github/ampl/colab.ampl.com/blob/master/authors/mukeshwaran/Notebook_1_Portfolio_Optimization_Commodities.ipynb) [![Open In SageMaker Studio Lab](https://studiolab.sagemaker.aws/studiolab.svg)](https://studiolab.sagemaker.aws/import/github/ampl/colab.ampl.com/blob/master/authors/mukeshwaran/Notebook_1_Portfolio_Optimization_Commodities.ipynb) [![Hits](https://h.ampl.com/https://github.com/ampl/colab.ampl.com/blob/master/authors/mukeshwaran/Notebook_1_Portfolio_Optimization_Commodities.ipynb)](https://colab.ampl.com)\n",
    "\n",
    "Description: Portfolio Optimization across Crude Oil, Gold, Natural Gas, Silver, and the S&P 500.\n",
    "\n",
    "Tags: finance, portfolio-optimization, mean-variance\n",
    "\n",
    "Notebook author: Mukeshwaran Baskaran <<mukesh96official@gmail.com>>"
   ]
  },
  {
   "cell_type": "markdown",
   "metadata": {
    "id": "TqTaPeT6sa-X"
   },
   "source": [
    "### **What the Code Does:**\n",
    "This code is a **portfolio optimization tool** that helps you decide how to invest in different assets (like Crude Oil, Gold, Natural Gas, Silver, and the S&P 500) to achieve specific financial goals. It uses historical data and advanced math to find the best way to distribute your money across these assets.\n",
    "\n",
    "---\n",
    "\n",
    "### **Steps in the Code:**\n",
    "\n",
    "1. **Install Required Tools:**\n",
    "   - The code installs necessary Python libraries like `amplpy` (for optimization) and `yfinance` (to get financial data).\n",
    "\n",
    "2. **Import Libraries:**\n",
    "   - It imports tools for data analysis (`pandas`, `numpy`), visualization (`matplotlib`, `seaborn`), and fetching data (`yfinance`, `requests`).\n",
    "\n",
    "3. **Enter API Key:**\n",
    "   - It asks for the API key to be used to fetch data from the **[EIA (Energy Information Administration)](https://www.eia.gov/opendata/)** regarding crude oil inventories.\n",
    "\n",
    "4. **Define Assets and Time Period:**\n",
    "   - The code focuses on 5 assets: Crude Oil, Gold, Natural Gas, Silver, and the S&P 500 (SPY).\n",
    "   - It sets a time period (from January 1, 2020, to January 1, 2025) to analyze historical data.\n",
    "\n",
    "5. **Fetch Data:**\n",
    "   - **Crude Oil Inventories:** It fetches weekly crude oil inventory data from the EIA API.\n",
    "   - **Commodity Prices:** It downloads historical price data for the 5 assets using `yfinance`.\n",
    "\n",
    "6. **Calculate Statistics:**\n",
    "   - It calculates:\n",
    "     - **Daily Returns:** How much the price of each asset changes daily.\n",
    "     - **Covariance Matrix:** How the assets move in relation to each other.\n",
    "     - **Mean Returns:** The average daily return for each asset.\n",
    "\n",
    "7. **Initialize AMPL:**\n",
    "   - AMPL is a tool for solving optimization problems. The code sets it up with specific modules and a license.\n",
    "\n",
    "8. **Define Optimization Functions:**\n",
    "   - The code defines three types of portfolio optimization:\n",
    "     - **Mean-Variance Optimization:** Finds the portfolio with the lowest risk for a given level of return.\n",
    "     - **Risk Parity Optimization:** Balances risk equally across all assets.\n",
    "     - **Maximum Sharpe Ratio Optimization:** Finds the portfolio with the best risk-adjusted return.\n",
    "\n",
    "9. **Plot Results:**\n",
    "   - It creates **pie charts** to visualize how much money should be invested in each asset based on the optimization results.\n",
    "\n",
    "10. **Run Optimizations:**\n",
    "    - It runs each optimization (Mean-Variance, Risk Parity, and Maximum Sharpe Ratio) and displays the results as pie charts.\n",
    "\n",
    "---\n",
    "\n",
    "### **Outputs:**\n",
    "- **Mean-Variance Portfolio:** A pie chart showing how to distribute investments to minimize risk.\n",
    "- **Risk Parity Portfolio:** A pie chart showing how to balance risk equally across assets.\n",
    "- **Maximum Sharpe Ratio Portfolio:** A pie chart showing how to maximize returns relative to risk.\n"
   ]
  },
  {
   "cell_type": "code",
   "execution_count": 76,
   "metadata": {
    "id": "MljZs5oUsaJy"
   },
   "outputs": [],
   "source": [
    "# Install dependencies\n",
    "%pip install amplpy yfinance matplotlib seaborn pandas numpy requests -q"
   ]
  },
  {
   "cell_type": "code",
   "execution_count": 77,
   "metadata": {
    "colab": {
     "base_uri": "https://localhost:8080/",
     "height": 84,
     "referenced_widgets": [
      "dde4d20b4d804797bc90635a0c0d71e9",
      "68c1de83e21d4dd2b25dc3958492744c",
      "b3ba9f3dac0649aea3690bf556fa28ec",
      "d73d8979e59642e690618fe691bdbd3e",
      "85f212a4a1a54bab92250fecafc976c2",
      "44188735f90b4f52947a7c592d278630",
      "dc8fdd7895a246f7964b555478f2078c",
      "6197efd18c954882b327c72366d857ec",
      "530fbec9b1a74baa84e6c90a41fc8bff",
      "3c07bed5ae2441f78a657a29b67d9888",
      "04af792214ff4d159400c2a8bb865522",
      "1e9a74e192204d65973e5f5f87b484be",
      "e6d064cb03c449aba96f76ba068950be"
     ]
    },
    "id": "0rQnWzwIHplC",
    "outputId": "7fb7e7ef-e41a-45a5-96ac-5237aa1a5d1c"
   },
   "outputs": [],
   "source": [
    "# Google Colab & Kaggle integration\n",
    "from amplpy import AMPL, ampl_notebook\n",
    "\n",
    "ampl = ampl_notebook(\n",
    "    modules=[\"gurobi\"],  # modules to install\n",
    "    license_uuid=\"default\",  # license to use\n",
    ")  # instantiate AMPL object and register magics"
   ]
  },
  {
   "cell_type": "markdown",
   "source": [
    "## Prompt for EIA API key\n",
    "\n",
    "You need to provide the API key to be used to fetch data from the **[EIA (Energy Information Administration)](https://www.eia.gov/opendata/)** regarding crude oil inventories."
   ],
   "metadata": {
    "id": "omLlpp1vZBCn"
   }
  },
  {
   "cell_type": "code",
   "execution_count": 78,
   "metadata": {
    "colab": {
     "base_uri": "https://localhost:8080/"
    },
    "id": "R0GkVhYWHplD",
    "outputId": "e41e37fe-2fb0-4986-e64a-090aa3a8878f"
   },
   "outputs": [
    {
     "output_type": "stream",
     "name": "stdout",
     "text": [
      "API Key already stored!\n"
     ]
    }
   ],
   "source": [
    "import os\n",
    "from getpass import getpass\n",
    "\n",
    "if os.environ.get(\"EIA_API_KEY\", \"\") == \"\":\n",
    "    # Prompt the user to enter their API key securely\n",
    "    os.environ[\"EIA_API_KEY\"] = getpass(\"Enter your EIA API key: \")\n",
    "    print(\"API Key stored successfully!\")\n",
    "else:\n",
    "    print(\"API Key already stored!\")"
   ]
  },
  {
   "cell_type": "markdown",
   "source": [
    "## Implementation\n",
    "\n",
    "### Import libraries"
   ],
   "metadata": {
    "id": "8WATJfhDJgVB"
   }
  },
  {
   "cell_type": "code",
   "source": [
    "# Import libraries\n",
    "import yfinance as yf\n",
    "import pandas as pd\n",
    "import numpy as np\n",
    "import matplotlib.pyplot as plt\n",
    "import seaborn as sns\n",
    "import requests"
   ],
   "metadata": {
    "id": "6Lk85A8bLt7Y"
   },
   "execution_count": 79,
   "outputs": []
  },
  {
   "cell_type": "markdown",
   "source": [
    "### Define constants"
   ],
   "metadata": {
    "id": "oskFXXy0aBE2"
   }
  },
  {
   "cell_type": "code",
   "source": [
    "# Define commodities and fetch data\n",
    "COMMODITIES = [\n",
    "    \"CL=F\",\n",
    "    \"GC=F\",\n",
    "    \"NG=F\",\n",
    "    \"SI=F\",\n",
    "    \"SPY\",\n",
    "]  # Crude Oil, Gold, Natural Gas, Silver, SPY,\n",
    "\n",
    "START_DATE = \"2020-01-01\"\n",
    "END_DATE = \"2025-01-01\""
   ],
   "metadata": {
    "id": "pmMmt4KyZ9uV"
   },
   "execution_count": 80,
   "outputs": []
  },
  {
   "cell_type": "markdown",
   "source": [
    "### Fetch crude oil inventories from EIA API"
   ],
   "metadata": {
    "id": "Gwh5rOx3Z-Jf"
   }
  },
  {
   "cell_type": "code",
   "execution_count": 81,
   "metadata": {
    "id": "cL7wz3kMoz7w"
   },
   "outputs": [],
   "source": [
    "def fetch_crude_inventories(api_key):\n",
    "    \"\"\"Fetch crude oil inventories data from EIA API.\"\"\"\n",
    "    base_url = \"https://api.eia.gov/v2/petroleum/stoc/wstk/data/\"\n",
    "    params = {\n",
    "        \"frequency\": \"weekly\",\n",
    "        \"data[0]\": \"value\",\n",
    "        \"facets[series][]\": \"WTTSTUS1\",\n",
    "        \"sort[0][column]\": \"period\",\n",
    "        \"sort[0][direction]\": \"desc\",\n",
    "        \"offset\": 0,\n",
    "        \"length\": 5000,\n",
    "        \"api_key\": api_key,\n",
    "    }\n",
    "    response = requests.get(base_url, params=params)\n",
    "    if response.status_code == 200:\n",
    "        data = response.json()\n",
    "        df = pd.DataFrame(data[\"response\"][\"data\"])\n",
    "        df[\"period\"] = pd.to_datetime(df[\"period\"])\n",
    "        df.set_index(\"period\", inplace=True)\n",
    "        return df[[\"value\"]].rename(columns={\"value\": \"Inventories\"})\n",
    "    else:\n",
    "        raise Exception(f\"Failed to fetch data: {response.status_code}\")"
   ]
  },
  {
   "cell_type": "markdown",
   "source": [
    "### Download historical data for commodities"
   ],
   "metadata": {
    "id": "m95OtuIKaKWH"
   }
  },
  {
   "cell_type": "code",
   "source": [
    "def fetch_commodities_data(tickers, start_date, end_date):\n",
    "    \"\"\"Fetch historical data for given tickers.\"\"\"\n",
    "    data = yf.download(tickers, start=start_date, end=end_date)[\"Close\"]\n",
    "    return data"
   ],
   "metadata": {
    "id": "Mi10dcK4aNau"
   },
   "execution_count": 82,
   "outputs": []
  },
  {
   "cell_type": "markdown",
   "source": [
    "### Calculate returns and covariance matrix"
   ],
   "metadata": {
    "id": "wPwq1RnsKuqw"
   }
  },
  {
   "cell_type": "code",
   "source": [
    "def calculate_statistics(data):\n",
    "    \"\"\"Calculate daily returns and covariance matrix.\"\"\"\n",
    "    returns = data.pct_change(fill_method=None).dropna()\n",
    "    cov_matrix = returns.cov().values\n",
    "    mean_returns = returns.mean().values\n",
    "    return returns, cov_matrix, mean_returns"
   ],
   "metadata": {
    "id": "6TvHhJsbKtAk"
   },
   "execution_count": 83,
   "outputs": []
  },
  {
   "cell_type": "markdown",
   "source": [
    "### Plot a pie chart of portfolio weights"
   ],
   "metadata": {
    "id": "o2dFnsKAJ275"
   }
  },
  {
   "cell_type": "code",
   "source": [
    "def plot_pie_chart(weights, title):\n",
    "    \"\"\"Plot a pie chart of portfolio weights with improved visuals.\"\"\"\n",
    "\n",
    "    # Define a dictionary to map tickers to their respective names\n",
    "    ticker_to_name = {\n",
    "        \"CL=F\": \"Crude Oil\",\n",
    "        \"GC=F\": \"Gold\",\n",
    "        \"NG=F\": \"Natural Gas\",\n",
    "        \"SI=F\": \"Silver\",\n",
    "        \"SPY\": \"S&P 500\",\n",
    "    }\n",
    "\n",
    "    # Map the tickers in the portfolio to their actual names\n",
    "    labels = [ticker_to_name[ticker] for ticker in weights.index]\n",
    "\n",
    "    # Filter out the tickers with weight less than or equal to 1e-4\n",
    "    filtered_weights = weights[weights > 1e-4]\n",
    "    filtered_labels = [\n",
    "        label\n",
    "        for label, ticker in zip(labels, weights.index)\n",
    "        if ticker in filtered_weights.index\n",
    "    ]\n",
    "\n",
    "    # Set color palette\n",
    "    palette = sns.color_palette(\"Set3\", len(filtered_weights))\n",
    "\n",
    "    # Plot the pie chart\n",
    "    plt.figure(figsize=(8, 8))\n",
    "    wedges, texts, autotexts = plt.pie(\n",
    "        filtered_weights,\n",
    "        labels=filtered_labels,\n",
    "        autopct=\"%1.1f%%\",\n",
    "        startangle=90,\n",
    "        colors=palette,\n",
    "        explode=[0.1]\n",
    "        * len(filtered_weights),  # Slightly \"explode\" all slices for emphasis\n",
    "        wedgeprops={\"edgecolor\": \"black\", \"linewidth\": 1, \"linestyle\": \"solid\"},\n",
    "    )\n",
    "\n",
    "    # Improve text labels\n",
    "    for text in texts:\n",
    "        text.set_fontsize(14)\n",
    "        text.set_fontweight(\"bold\")\n",
    "    for autotext in autotexts:\n",
    "        autotext.set_fontsize(12)\n",
    "        autotext.set_fontweight(\"bold\")\n",
    "\n",
    "    # Add title\n",
    "    plt.title(title, fontsize=18, fontweight=\"bold\")\n",
    "\n",
    "    # Equal aspect ratio ensures that pie is drawn as a circle.\n",
    "    plt.axis(\"equal\")\n",
    "\n",
    "    # Show the plot\n",
    "    plt.show()"
   ],
   "metadata": {
    "id": "E3UKxD8gJwGD"
   },
   "execution_count": 84,
   "outputs": []
  },
  {
   "cell_type": "markdown",
   "source": [
    "### Mean-Variance Optimization"
   ],
   "metadata": {
    "id": "_iU6WZM-J7IJ"
   }
  },
  {
   "cell_type": "code",
   "source": [
    "def mean_variance_optimization(tickers, cov_matrix, mean_returns, risk_tolerance):\n",
    "    \"\"\"Perform Markowitz mean-variance optimization.\"\"\"\n",
    "    ampl = AMPL()\n",
    "    # Define the AMPL model\n",
    "    ampl.eval(\n",
    "        r\"\"\"\n",
    "        set A ordered;  # Set of assets\n",
    "        param S{A, A};  # Covariance matrix\n",
    "        param mu{A};    # Expected returns\n",
    "        param gamma;    # Risk tolerance\n",
    "        var w{A} >= 0 <= 1;  # Portfolio weights\n",
    "\n",
    "        maximize expected_return:\n",
    "            sum {i in A} mu[i] * w[i];  # Objective: maximize expected return\n",
    "\n",
    "        s.t. portfolio_weights:\n",
    "            sum {i in A} w[i] = 1;  # Constraint: weights sum to 1\n",
    "\n",
    "        s.t. risk_constraint:\n",
    "            sum {i in A, j in A} w[i] * S[i, j] * w[j] <= gamma;  # Risk constraint\n",
    "    \"\"\"\n",
    "    )\n",
    "\n",
    "    # Set data in AMPL\n",
    "    ampl.set[\"A\"] = tickers\n",
    "    ampl.param[\"S\"] = pd.DataFrame(cov_matrix, index=tickers, columns=tickers)\n",
    "    ampl.param[\"mu\"] = pd.Series(mean_returns, index=tickers)\n",
    "    ampl.param[\"gamma\"] = risk_tolerance\n",
    "\n",
    "    # Solve the optimization problem\n",
    "    ampl.solve(solver=\"gurobi\", mp_options=\"outlev=1\")\n",
    "\n",
    "    # Extract and return portfolio weights\n",
    "    return pd.Series(ampl.var[\"w\"].to_dict())"
   ],
   "metadata": {
    "id": "GbSXaZzQJsSd"
   },
   "execution_count": 85,
   "outputs": []
  },
  {
   "cell_type": "markdown",
   "source": [
    "### Risk Parity Optimization"
   ],
   "metadata": {
    "id": "K8eIj0itKOL7"
   }
  },
  {
   "cell_type": "code",
   "source": [
    "def risk_parity_optimization(tickers, cov_matrix, total_volatility):\n",
    "    \"\"\"Perform risk parity optimization.\"\"\"\n",
    "    ampl = AMPL()\n",
    "    # Define the AMPL model\n",
    "    ampl.eval(\n",
    "        r\"\"\"\n",
    "        set A ordered;  # Set of assets\n",
    "        param S{A, A};  # Covariance matrix\n",
    "        param total_volatility;  # Total portfolio volatility\n",
    "        var w{A} >= 0 <= 1;  # Portfolio weights\n",
    "\n",
    "        minimize risk_parity:\n",
    "            sum {i in A} (w[i] * sum {j in A} S[i, j] * w[j]) / total_volatility;  # Objective: risk parity\n",
    "\n",
    "        s.t. portfolio_weights:\n",
    "            sum {i in A} w[i] = 1;  # Constraint: weights sum to 1\n",
    "        \"\"\"\n",
    "    )\n",
    "\n",
    "    # Set data in AMPL\n",
    "    ampl.set[\"A\"] = tickers\n",
    "    ampl.param[\"S\"] = pd.DataFrame(cov_matrix, index=tickers, columns=tickers)\n",
    "    ampl.param[\"total_volatility\"] = total_volatility\n",
    "\n",
    "    # Solve the optimization problem\n",
    "    ampl.solve(solver=\"gurobi\", mp_options=\"outlev=1\")\n",
    "\n",
    "    # Extract and return portfolio weights\n",
    "    return pd.Series(ampl.var[\"w\"].to_dict())"
   ],
   "metadata": {
    "id": "mIQn1jb6KFg5"
   },
   "execution_count": 86,
   "outputs": []
  },
  {
   "cell_type": "markdown",
   "source": [
    "### Maximum Sharpe Ratio Optimization\n"
   ],
   "metadata": {
    "id": "h2xsakqWKIcg"
   }
  },
  {
   "cell_type": "code",
   "source": [
    "def max_sharpe_optimization(tickers, cov_matrix, mean_returns, risk_free_rate=0.02):\n",
    "    \"\"\"Perform maximum Sharpe ratio optimization.\"\"\"\n",
    "    ampl = AMPL()\n",
    "    # Define the AMPL model\n",
    "    ampl.eval(\n",
    "        r\"\"\"\n",
    "        set A ordered;  # Set of assets\n",
    "        param S{A, A};  # Covariance matrix\n",
    "        param mu{A};  # Mean returns\n",
    "        param risk_free_rate;  # Risk-free rate\n",
    "        var w{A} >= 0 <= 1;  # Portfolio weights\n",
    "\n",
    "        maximize sharpe_ratio:\n",
    "            (sum {i in A} mu[i] * w[i] - risk_free_rate) /\n",
    "            sqrt(sum {i in A, j in A} w[i] * S[i, j] * w[j]);  # Objective: maximize Sharpe ratio\n",
    "\n",
    "        s.t. portfolio_weights:\n",
    "            sum {i in A} w[i] = 1;  # Constraint: weights sum to 1\n",
    "        \"\"\"\n",
    "    )\n",
    "\n",
    "    # Set data in AMPL\n",
    "    ampl.set[\"A\"] = tickers\n",
    "    ampl.param[\"S\"] = pd.DataFrame(cov_matrix, index=tickers, columns=tickers)\n",
    "    ampl.param[\"mu\"] = pd.Series(mean_returns, index=tickers).to_dict()\n",
    "    ampl.param[\"risk_free_rate\"] = risk_free_rate\n",
    "\n",
    "    # Solve the optimization problem\n",
    "    ampl.solve(solver=\"gurobi\", mp_options=\"outlev=1\")\n",
    "\n",
    "    # Extract and return portfolio weights\n",
    "    return pd.Series(ampl.var[\"w\"].to_dict())"
   ],
   "metadata": {
    "id": "RxsO07_sKHc7"
   },
   "execution_count": 87,
   "outputs": []
  },
  {
   "cell_type": "markdown",
   "metadata": {
    "id": "Br8zz20Np_9-"
   },
   "source": [
    "## Execution\n",
    "\n",
    "### Fetch EIA data"
   ]
  },
  {
   "cell_type": "code",
   "source": [
    "crude_inventories = fetch_crude_inventories(os.environ[\"EIA_API_KEY\"])\n",
    "commodities_data = fetch_commodities_data(COMMODITIES, START_DATE, END_DATE)"
   ],
   "metadata": {
    "id": "wZLPtje_bGmo",
    "outputId": "03199eeb-cdc2-447a-f956-91c012010605",
    "colab": {
     "base_uri": "https://localhost:8080/"
    }
   },
   "execution_count": 88,
   "outputs": [
    {
     "output_type": "stream",
     "name": "stderr",
     "text": [
      "[*********************100%***********************]  5 of 5 completed\n"
     ]
    }
   ]
  },
  {
   "cell_type": "markdown",
   "source": [
    "### Calculate statistics"
   ],
   "metadata": {
    "id": "umhqcGIzbMGe"
   }
  },
  {
   "cell_type": "code",
   "source": [
    "returns, cov_matrix, mean_returns = calculate_statistics(commodities_data)"
   ],
   "metadata": {
    "id": "w1go43hfbNB1"
   },
   "execution_count": 89,
   "outputs": []
  },
  {
   "cell_type": "markdown",
   "source": [
    "### Mean-Variance Optimization"
   ],
   "metadata": {
    "id": "xzvAgHo4bDH9"
   }
  },
  {
   "cell_type": "code",
   "execution_count": 90,
   "metadata": {
    "colab": {
     "base_uri": "https://localhost:8080/",
     "height": 1000
    },
    "id": "UZxE--Ncp5QS",
    "outputId": "b3e7f886-23a4-48f8-ce5e-3ddd0edce389"
   },
   "outputs": [
    {
     "output_type": "stream",
     "name": "stdout",
     "text": [
      "Gurobi 12.0.1: Set parameter LogToConsole to value 1\n",
      "  tech:outlev = 1\n",
      "\n",
      "AMPL MP initial flat model has 5 variables (0 integer, 0 binary);\n",
      "Objectives: 1 linear; \n",
      "Constraints:  1 linear; 1 quadratic;\n",
      "\n",
      "AMPL MP final model has 5 variables (0 integer, 0 binary);\n",
      "Objectives: 1 linear; \n",
      "Constraints:  1 linear; 1 quadratic;\n",
      "\n",
      "\n",
      "Set parameter InfUnbdInfo to value 1\n",
      "Gurobi Optimizer version 12.0.1 build v12.0.1rc0 (linux64 - \"Ubuntu 22.04.4 LTS\")\n",
      "\n",
      "CPU model: Intel(R) Xeon(R) CPU @ 2.20GHz, instruction set [SSE2|AVX|AVX2]\n",
      "Thread count: 1 physical cores, 2 logical processors, using up to 2 threads\n",
      "\n",
      "Non-default parameters:\n",
      "InfUnbdInfo  1\n",
      "\n",
      "Optimize a model with 1 rows, 5 columns and 5 nonzeros\n",
      "Model fingerprint: 0xe6499714\n",
      "Model has 1 quadratic constraint\n",
      "Coefficient statistics:\n",
      "  Matrix range     [1e+00, 1e+00]\n",
      "  QMatrix range    [2e-05, 1e-02]\n",
      "  Objective range  [5e-04, 2e-03]\n",
      "  Bounds range     [1e+00, 1e+00]\n",
      "  RHS range        [1e+00, 1e+00]\n",
      "  QRHS range       [1e-02, 1e-02]\n",
      "Presolve time: 0.01s\n",
      "Presolved: 6 rows, 11 columns, 25 nonzeros\n",
      "Presolved model has 1 second-order cone constraint\n",
      "Ordering time: 0.00s\n",
      "\n",
      "Barrier statistics:\n",
      " AA' NZ     : 1.500e+01\n",
      " Factor NZ  : 2.100e+01\n",
      " Factor Ops : 9.100e+01 (less than 1 second per iteration)\n",
      " Threads    : 1\n",
      "\n",
      "                  Objective                Residual\n",
      "Iter       Primal          Dual         Primal    Dual     Compl     Time\n",
      "   0   3.05203426e-04  5.09886629e-04  5.00e-01 8.71e-02  1.96e-02     0s\n",
      "   1   8.13535516e-04  9.84179460e-04  5.50e-07 4.54e-02  3.50e-03     0s\n",
      "   2   1.56040833e-03  1.66262088e-03  5.54e-10 1.22e-10  3.85e-04     0s\n",
      "   3   1.56952131e-03  1.56967543e-03  4.09e-14 1.98e-13  5.80e-07     0s\n",
      "\n",
      "Barrier solved model in 3 iterations and 0.01 seconds (0.00 work units)\n",
      "Optimal objective 1.56952131e-03\n",
      "\n",
      "Warning: to get QCP duals, please set parameter QCPDual to 1\n",
      "Gurobi 12.0.1: optimal solution; objective 0.001569521313\n",
      "0 simplex iterations\n",
      "3 barrier iterations\n"
     ]
    },
    {
     "output_type": "display_data",
     "data": {
      "text/plain": [
       "<Figure size 800x800 with 1 Axes>"
      ],
      "image/png": "[encoded data removed]"
     },
     "metadata": {}
    }
   ],
   "source": [
    "risk_tolerance = 0.01  # Set risk tolerance (gamma)\n",
    "mean_variance_weights = mean_variance_optimization(\n",
    "    COMMODITIES, cov_matrix, mean_returns, risk_tolerance\n",
    ")\n",
    "plot_pie_chart(mean_variance_weights, \"Mean-Variance Optimization Portfolio\")"
   ]
  },
  {
   "cell_type": "markdown",
   "metadata": {
    "id": "E8ysnaUgqEzV"
   },
   "source": [
    "### Risk Parity Optimization"
   ]
  },
  {
   "cell_type": "code",
   "execution_count": 91,
   "metadata": {
    "colab": {
     "base_uri": "https://localhost:8080/",
     "height": 1000
    },
    "id": "oylmtQ0Ppa0H",
    "outputId": "15f9a1ed-7622-4678-e0ac-a8ab932df436"
   },
   "outputs": [
    {
     "output_type": "stream",
     "name": "stdout",
     "text": [
      "Gurobi 12.0.1: Set parameter LogToConsole to value 1\n",
      "  tech:outlev = 1\n",
      "\n",
      "AMPL MP initial flat model has 5 variables (0 integer, 0 binary);\n",
      "Objectives: 1 quadratic; \n",
      "Constraints:  1 linear;\n",
      "\n",
      "AMPL MP final model has 5 variables (0 integer, 0 binary);\n",
      "Objectives: 1 quadratic; \n",
      "Constraints:  1 linear;\n",
      "\n",
      "\n",
      "Set parameter InfUnbdInfo to value 1\n",
      "Gurobi Optimizer version 12.0.1 build v12.0.1rc0 (linux64 - \"Ubuntu 22.04.4 LTS\")\n",
      "\n",
      "CPU model: Intel(R) Xeon(R) CPU @ 2.20GHz, instruction set [SSE2|AVX|AVX2]\n",
      "Thread count: 1 physical cores, 2 logical processors, using up to 2 threads\n",
      "\n",
      "Non-default parameters:\n",
      "InfUnbdInfo  1\n",
      "\n",
      "Optimize a model with 1 rows, 5 columns and 5 nonzeros\n",
      "Model fingerprint: 0xfcd63839\n",
      "Model has 15 quadratic objective terms\n",
      "Coefficient statistics:\n",
      "  Matrix range     [1e+00, 1e+00]\n",
      "  Objective range  [0e+00, 0e+00]\n",
      "  QObjective range [2e-01, 8e+01]\n",
      "  Bounds range     [1e+00, 1e+00]\n",
      "  RHS range        [1e+00, 1e+00]\n",
      "Presolve time: 0.00s\n",
      "Presolved: 1 rows, 5 columns, 5 nonzeros\n",
      "Presolved model has 15 quadratic objective terms\n",
      "Ordering time: 0.00s\n",
      "\n",
      "Barrier statistics:\n",
      " Free vars  : 4\n",
      " AA' NZ     : 1.000e+01\n",
      " Factor NZ  : 1.500e+01\n",
      " Factor Ops : 5.500e+01 (less than 1 second per iteration)\n",
      " Threads    : 1\n",
      "\n",
      "                  Objective                Residual\n",
      "Iter       Primal          Dual         Primal    Dual     Compl     Time\n",
      "   0   2.78832253e+06 -2.78832253e+06  2.54e+03 6.79e-07  2.70e+05     0s\n",
      "   1   9.30586873e+04 -9.46563498e+04  2.01e+02 5.36e-08  2.36e+04     0s\n",
      "   2   3.79456521e+03 -6.31951849e+03  7.73e+00 2.06e-09  1.03e+03     0s\n",
      "   3   1.37694437e+01 -2.68239094e+03  7.73e-06 1.26e-13  3.37e+01     0s\n",
      "   4   1.33697286e+01 -1.56986044e+01  5.12e-08 2.22e-16  3.63e-01     0s\n",
      "   5   1.86487254e+00 -1.10618752e+01  5.12e-14 1.75e-15  1.62e-01     0s\n",
      "   6   7.58098847e-01 -7.66313473e-02  2.78e-16 5.55e-17  1.04e-02     0s\n",
      "   7   3.73429178e-01  2.50225031e-01  5.55e-17 1.11e-16  1.54e-03     0s\n",
      "   8   3.15925444e-01  3.01868511e-01  2.78e-17 6.94e-17  1.76e-04     0s\n",
      "   9   3.09299458e-01  3.07418093e-01  6.11e-16 2.78e-17  2.35e-05     0s\n",
      "  10   3.08303061e-01  3.08054827e-01  1.72e-15 1.39e-17  3.10e-06     0s\n",
      "  11   3.08129206e-01  3.08107080e-01  1.33e-14 2.78e-17  2.77e-07     0s\n",
      "  12   3.08108678e-01  3.08108472e-01  1.63e-14 5.55e-17  2.58e-09     0s\n",
      "  13   3.08108474e-01  3.08108474e-01  2.81e-14 3.47e-18  2.58e-12     0s\n",
      "\n",
      "Barrier solved model in 13 iterations and 0.00 seconds (0.00 work units)\n",
      "Optimal objective 3.08108474e-01\n",
      "\n",
      "Gurobi 12.0.1: optimal solution; objective 0.308108474\n",
      "0 simplex iterations\n",
      "13 barrier iterations\n"
     ]
    },
    {
     "output_type": "display_data",
     "data": {
      "text/plain": [
       "<Figure size 800x800 with 1 Axes>"
      ],
      "image/png": "[encoded data removed]"
     },
     "metadata": {}
    }
   ],
   "source": [
    "total_volatility = np.sqrt(np.dot(mean_returns, np.dot(cov_matrix, mean_returns)))\n",
    "risk_parity_weights = risk_parity_optimization(\n",
    "    COMMODITIES, cov_matrix, total_volatility\n",
    ")\n",
    "plot_pie_chart(risk_parity_weights, \"Risk Parity Optimization Portfolio\")"
   ]
  },
  {
   "cell_type": "markdown",
   "metadata": {
    "id": "ycEMg31BqIp9"
   },
   "source": [
    "### Max Sharpe Optimization"
   ]
  },
  {
   "cell_type": "code",
   "execution_count": 92,
   "metadata": {
    "colab": {
     "base_uri": "https://localhost:8080/",
     "height": 1000
    },
    "id": "_m82a-pbp9bd",
    "outputId": "2eee5b3a-8b41-4990-8494-7452f15b581d"
   },
   "outputs": [
    {
     "output_type": "stream",
     "name": "stdout",
     "text": [
      "Gurobi 12.0.1: Set parameter LogToConsole to value 1\n",
      "  tech:outlev = 1\n",
      "\n",
      "AMPL MP initial flat model has 5 variables (0 integer, 0 binary);\n",
      "Objectives: 1 linear; \n",
      "Constraints:  2 linear; 1 quadratic;\n",
      "Algebraic expressions:  1 div; 1 powconstexp;\n",
      "\n",
      "AMPL MP final model has 9 variables (0 integer, 0 binary);\n",
      "Objectives: 1 linear; \n",
      "Constraints:  2 linear; 1 quadratic;\n",
      "Algebraic expressions:  1 div; 1 powconstexp;\n",
      "\n",
      "\n",
      "Set parameter InfUnbdInfo to value 1\n",
      "Gurobi Optimizer version 12.0.1 build v12.0.1rc0 (linux64 - \"Ubuntu 22.04.4 LTS\")\n",
      "\n",
      "CPU model: Intel(R) Xeon(R) CPU @ 2.20GHz, instruction set [SSE2|AVX|AVX2]\n",
      "Thread count: 1 physical cores, 2 logical processors, using up to 2 threads\n",
      "\n",
      "Non-default parameters:\n",
      "InfUnbdInfo  1\n",
      "\n",
      "Optimize a model with 1 rows, 9 columns and 5 nonzeros\n",
      "Model fingerprint: 0x2dd5ab5a\n",
      "Model has 1 general nonlinear constraint (17 nonlinear terms)\n",
      "Variable types: 9 continuous, 0 integer (0 binary)\n",
      "Coefficient statistics:\n",
      "  Matrix range     [1e+00, 1e+00]\n",
      "  Objective range  [1e+00, 1e+00]\n",
      "  Bounds range     [8e-05, 1e+00]\n",
      "  RHS range        [1e+00, 1e+00]\n",
      "Presolve model has 1 nlconstr\n",
      "Added 33 variables to disaggregate expressions.\n",
      "Presolve removed 0 rows and 3 columns\n",
      "Presolve time: 0.00s\n",
      "Presolved: 82 rows, 40 columns, 182 nonzeros\n",
      "Presolved model has 16 bilinear constraint(s)\n",
      "Presolved model has 1 nonlinear constraint(s)\n",
      "\n",
      "Solving non-convex MINLP\n",
      "\n",
      "Variable types: 40 continuous, 0 integer (0 binary)\n",
      "Found heuristic solution: objective -0.2237351\n",
      "\n",
      "Root relaxation: interrupted, 20 iterations, 0.00 seconds (0.00 work units)\n",
      "\n",
      "    Nodes    |    Current Node    |     Objective Bounds      |     Work\n",
      " Expl Unexpl |  Obj  Depth IntInf | Incumbent    BestBd   Gap | It/Node Time\n",
      "\n",
      "     0     0          -    0        -0.22374   -0.22372  0.01%     -    0s\n",
      "\n",
      "Explored 1 nodes (20 simplex iterations) in 0.01 seconds (0.00 work units)\n",
      "Thread count was 2 (of 2 available processors)\n",
      "\n",
      "Solution count 1: -0.223735 \n",
      "\n",
      "Optimal solution found (tolerance 1.00e-04)\n",
      "Best objective -2.237350923262e-01, best bound -2.237198990814e-01, gap 0.0068%\n",
      "Gurobi 12.0.1: optimal solution; objective -0.2237350923\n",
      "20 simplex iterations\n",
      "1 branching node\n",
      "absmipgap=1.51932e-05, relmipgap=6.79073e-05\n"
     ]
    },
    {
     "output_type": "display_data",
     "data": {
      "text/plain": [
       "<Figure size 800x800 with 1 Axes>"
      ],
      "image/png": "[encoded data removed]"
     },
     "metadata": {}
    }
   ],
   "source": [
    "# Maximum Sharpe Ratio Optimization\n",
    "max_sharpe_weights = max_sharpe_optimization(COMMODITIES, cov_matrix, mean_returns)\n",
    "plot_pie_chart(max_sharpe_weights, \"Maximum Sharpe Ratio Portfolio\")"
   ]
  }
 ],
 "metadata": {
  "colab": {
   "provenance": []
  },
  "kernelspec": {
   "display_name": "venv",
   "language": "python",
   "name": "python3"
  },
  "language_info": {
   "codemirror_mode": {
    "name": "ipython",
    "version": 3
   },
   "file_extension": ".py",
   "mimetype": "text/x-python",
   "name": "python",
   "nbconvert_exporter": "python",
   "pygments_lexer": "ipython3",
   "version": "3.11.6"
  },
  "widgets": {
   "application/vnd.jupyter.widget-state+json": {
    "dde4d20b4d804797bc90635a0c0d71e9": {
     "model_module": "@jupyter-widgets/controls",
     "model_name": "VBoxModel",
     "model_module_version": "1.5.0",
     "state": {
      "_dom_classes": [],
      "_model_module": "@jupyter-widgets/controls",
      "_model_module_version": "1.5.0",
      "_model_name": "VBoxModel",
      "_view_count": null,
      "_view_module": "@jupyter-widgets/controls",
      "_view_module_version": "1.5.0",
      "_view_name": "VBoxView",
      "box_style": "",
      "children": [
       "IPY_MODEL_68c1de83e21d4dd2b25dc3958492744c",
       "IPY_MODEL_b3ba9f3dac0649aea3690bf556fa28ec",
       "IPY_MODEL_d73d8979e59642e690618fe691bdbd3e",
       "IPY_MODEL_85f212a4a1a54bab92250fecafc976c2"
      ],
      "layout": "IPY_MODEL_44188735f90b4f52947a7c592d278630"
     }
    },
    "68c1de83e21d4dd2b25dc3958492744c": {
     "model_module": "@jupyter-widgets/output",
     "model_name": "OutputModel",
     "model_module_version": "1.0.0",
     "state": {
      "_dom_classes": [],
      "_model_module": "@jupyter-widgets/output",
      "_model_module_version": "1.0.0",
      "_model_name": "OutputModel",
      "_view_count": null,
      "_view_module": "@jupyter-widgets/output",
      "_view_module_version": "1.0.0",
      "_view_name": "OutputView",
      "layout": "IPY_MODEL_04af792214ff4d159400c2a8bb865522",
      "msg_id": "",
      "outputs": [
       {
        "output_type": "stream",
        "name": "stdout",
        "text": [
         "AMPL License UUID (you can use free https://ampl.com/ce or https://ampl.com/courses licenses):\n"
        ]
       }
      ]
     }
    },
    "b3ba9f3dac0649aea3690bf556fa28ec": {
     "model_module": "@jupyter-widgets/controls",
     "model_name": "HBoxModel",
     "model_module_version": "1.5.0",
     "state": {
      "_dom_classes": [],
      "_model_module": "@jupyter-widgets/controls",
      "_model_module_version": "1.5.0",
      "_model_name": "HBoxModel",
      "_view_count": null,
      "_view_module": "@jupyter-widgets/controls",
      "_view_module_version": "1.5.0",
      "_view_name": "HBoxView",
      "box_style": "",
      "children": [
       "IPY_MODEL_dc8fdd7895a246f7964b555478f2078c"
      ],
      "layout": "IPY_MODEL_6197efd18c954882b327c72366d857ec"
     }
    },
    "d73d8979e59642e690618fe691bdbd3e": {
     "model_module": "@jupyter-widgets/output",
     "model_name": "OutputModel",
     "model_module_version": "1.0.0",
     "state": {
      "_dom_classes": [],
      "_model_module": "@jupyter-widgets/output",
      "_model_module_version": "1.0.0",
      "_model_name": "OutputModel",
      "_view_count": null,
      "_view_module": "@jupyter-widgets/output",
      "_view_module_version": "1.0.0",
      "_view_name": "OutputView",
      "layout": "IPY_MODEL_1e9a74e192204d65973e5f5f87b484be",
      "msg_id": "",
      "outputs": []
     }
    },
    "85f212a4a1a54bab92250fecafc976c2": {
     "model_module": "@jupyter-widgets/output",
     "model_name": "OutputModel",
     "model_module_version": "1.0.0",
     "state": {
      "_dom_classes": [],
      "_model_module": "@jupyter-widgets/output",
      "_model_module_version": "1.0.0",
      "_model_name": "OutputModel",
      "_view_count": null,
      "_view_module": "@jupyter-widgets/output",
      "_view_module_version": "1.0.0",
      "_view_name": "OutputView",
      "layout": "IPY_MODEL_e6d064cb03c449aba96f76ba068950be",
      "msg_id": "",
      "outputs": [
       {
        "output_type": "stream",
        "name": "stdout",
        "text": [
         "Licensed to AMPL Community Edition License for the AMPL Model Colaboratory (https://ampl.com/colab).\n"
        ]
       }
      ]
     }
    },
    "44188735f90b4f52947a7c592d278630": {
     "model_module": "@jupyter-widgets/base",
     "model_name": "LayoutModel",
     "model_module_version": "1.2.0",
     "state": {
      "_model_module": "@jupyter-widgets/base",
      "_model_module_version": "1.2.0",
      "_model_name": "LayoutModel",
      "_view_count": null,
      "_view_module": "@jupyter-widgets/base",
      "_view_module_version": "1.2.0",
      "_view_name": "LayoutView",
      "align_content": null,
      "align_items": null,
      "align_self": null,
      "border": null,
      "bottom": null,
      "display": null,
      "flex": null,
      "flex_flow": null,
      "grid_area": null,
      "grid_auto_columns": null,
      "grid_auto_flow": null,
      "grid_auto_rows": null,
      "grid_column": null,
      "grid_gap": null,
      "grid_row": null,
      "grid_template_areas": null,
      "grid_template_columns": null,
      "grid_template_rows": null,
      "height": null,
      "justify_content": null,
      "justify_items": null,
      "left": null,
      "margin": null,
      "max_height": null,
      "max_width": null,
      "min_height": null,
      "min_width": null,
      "object_fit": null,
      "object_position": null,
      "order": null,
      "overflow": null,
      "overflow_x": null,
      "overflow_y": null,
      "padding": null,
      "right": null,
      "top": null,
      "visibility": null,
      "width": null
     }
    },
    "dc8fdd7895a246f7964b555478f2078c": {
     "model_module": "@jupyter-widgets/controls",
     "model_name": "TextModel",
     "model_module_version": "1.5.0",
     "state": {
      "_dom_classes": [],
      "_model_module": "@jupyter-widgets/controls",
      "_model_module_version": "1.5.0",
      "_model_name": "TextModel",
      "_view_count": null,
      "_view_module": "@jupyter-widgets/controls",
      "_view_module_version": "1.5.0",
      "_view_name": "TextView",
      "continuous_update": true,
      "description": "License UUID:",
      "description_tooltip": null,
      "disabled": false,
      "layout": "IPY_MODEL_530fbec9b1a74baa84e6c90a41fc8bff",
      "placeholder": "​",
      "style": "IPY_MODEL_3c07bed5ae2441f78a657a29b67d9888",
      "value": ""
     }
    },
    "6197efd18c954882b327c72366d857ec": {
     "model_module": "@jupyter-widgets/base",
     "model_name": "LayoutModel",
     "model_module_version": "1.2.0",
     "state": {
      "_model_module": "@jupyter-widgets/base",
      "_model_module_version": "1.2.0",
      "_model_name": "LayoutModel",
      "_view_count": null,
      "_view_module": "@jupyter-widgets/base",
      "_view_module_version": "1.2.0",
      "_view_name": "LayoutView",
      "align_content": null,
      "align_items": null,
      "align_self": null,
      "border": null,
      "bottom": null,
      "display": null,
      "flex": null,
      "flex_flow": null,
      "grid_area": null,
      "grid_auto_columns": null,
      "grid_auto_flow": null,
      "grid_auto_rows": null,
      "grid_column": null,
      "grid_gap": null,
      "grid_row": null,
      "grid_template_areas": null,
      "grid_template_columns": null,
      "grid_template_rows": null,
      "height": null,
      "justify_content": null,
      "justify_items": null,
      "left": null,
      "margin": null,
      "max_height": null,
      "max_width": null,
      "min_height": null,
      "min_width": null,
      "object_fit": null,
      "object_position": null,
      "order": null,
      "overflow": null,
      "overflow_x": null,
      "overflow_y": null,
      "padding": null,
      "right": null,
      "top": null,
      "visibility": null,
      "width": null
     }
    },
    "530fbec9b1a74baa84e6c90a41fc8bff": {
     "model_module": "@jupyter-widgets/base",
     "model_name": "LayoutModel",
     "model_module_version": "1.2.0",
     "state": {
      "_model_module": "@jupyter-widgets/base",
      "_model_module_version": "1.2.0",
      "_model_name": "LayoutModel",
      "_view_count": null,
      "_view_module": "@jupyter-widgets/base",
      "_view_module_version": "1.2.0",
      "_view_name": "LayoutView",
      "align_content": null,
      "align_items": null,
      "align_self": null,
      "border": null,
      "bottom": null,
      "display": null,
      "flex": null,
      "flex_flow": null,
      "grid_area": null,
      "grid_auto_columns": null,
      "grid_auto_flow": null,
      "grid_auto_rows": null,
      "grid_column": null,
      "grid_gap": null,
      "grid_row": null,
      "grid_template_areas": null,
      "grid_template_columns": null,
      "grid_template_rows": null,
      "height": null,
      "justify_content": null,
      "justify_items": null,
      "left": null,
      "margin": null,
      "max_height": null,
      "max_width": null,
      "min_height": null,
      "min_width": null,
      "object_fit": null,
      "object_position": null,
      "order": null,
      "overflow": null,
      "overflow_x": null,
      "overflow_y": null,
      "padding": null,
      "right": null,
      "top": null,
      "visibility": null,
      "width": null
     }
    },
    "3c07bed5ae2441f78a657a29b67d9888": {
     "model_module": "@jupyter-widgets/controls",
     "model_name": "DescriptionStyleModel",
     "model_module_version": "1.5.0",
     "state": {
      "_model_module": "@jupyter-widgets/controls",
      "_model_module_version": "1.5.0",
      "_model_name": "DescriptionStyleModel",
      "_view_count": null,
      "_view_module": "@jupyter-widgets/base",
      "_view_module_version": "1.2.0",
      "_view_name": "StyleView",
      "description_width": "initial"
     }
    },
    "04af792214ff4d159400c2a8bb865522": {
     "model_module": "@jupyter-widgets/base",
     "model_name": "LayoutModel",
     "model_module_version": "1.2.0",
     "state": {
      "_model_module": "@jupyter-widgets/base",
      "_model_module_version": "1.2.0",
      "_model_name": "LayoutModel",
      "_view_count": null,
      "_view_module": "@jupyter-widgets/base",
      "_view_module_version": "1.2.0",
      "_view_name": "LayoutView",
      "align_content": null,
      "align_items": null,
      "align_self": null,
      "border": null,
      "bottom": null,
      "display": null,
      "flex": null,
      "flex_flow": null,
      "grid_area": null,
      "grid_auto_columns": null,
      "grid_auto_flow": null,
      "grid_auto_rows": null,
      "grid_column": null,
      "grid_gap": null,
      "grid_row": null,
      "grid_template_areas": null,
      "grid_template_columns": null,
      "grid_template_rows": null,
      "height": null,
      "justify_content": null,
      "justify_items": null,
      "left": null,
      "margin": null,
      "max_height": null,
      "max_width": null,
      "min_height": null,
      "min_width": null,
      "object_fit": null,
      "object_position": null,
      "order": null,
      "overflow": null,
      "overflow_x": null,
      "overflow_y": null,
      "padding": null,
      "right": null,
      "top": null,
      "visibility": null,
      "width": null
     }
    },
    "1e9a74e192204d65973e5f5f87b484be": {
     "model_module": "@jupyter-widgets/base",
     "model_name": "LayoutModel",
     "model_module_version": "1.2.0",
     "state": {
      "_model_module": "@jupyter-widgets/base",
      "_model_module_version": "1.2.0",
      "_model_name": "LayoutModel",
      "_view_count": null,
      "_view_module": "@jupyter-widgets/base",
      "_view_module_version": "1.2.0",
      "_view_name": "LayoutView",
      "align_content": null,
      "align_items": null,
      "align_self": null,
      "border": null,
      "bottom": null,
      "display": null,
      "flex": null,
      "flex_flow": null,
      "grid_area": null,
      "grid_auto_columns": null,
      "grid_auto_flow": null,
      "grid_auto_rows": null,
      "grid_column": null,
      "grid_gap": null,
      "grid_row": null,
      "grid_template_areas": null,
      "grid_template_columns": null,
      "grid_template_rows": null,
      "height": null,
      "justify_content": null,
      "justify_items": null,
      "left": null,
      "margin": null,
      "max_height": null,
      "max_width": null,
      "min_height": null,
      "min_width": null,
      "object_fit": null,
      "object_position": null,
      "order": null,
      "overflow": null,
      "overflow_x": null,
      "overflow_y": null,
      "padding": null,
      "right": null,
      "top": null,
      "visibility": null,
      "width": null
     }
    },
    "e6d064cb03c449aba96f76ba068950be": {
     "model_module": "@jupyter-widgets/base",
     "model_name": "LayoutModel",
     "model_module_version": "1.2.0",
     "state": {
      "_model_module": "@jupyter-widgets/base",
      "_model_module_version": "1.2.0",
      "_model_name": "LayoutModel",
      "_view_count": null,
      "_view_module": "@jupyter-widgets/base",
      "_view_module_version": "1.2.0",
      "_view_name": "LayoutView",
      "align_content": null,
      "align_items": null,
      "align_self": null,
      "border": null,
      "bottom": null,
      "display": null,
      "flex": null,
      "flex_flow": null,
      "grid_area": null,
      "grid_auto_columns": null,
      "grid_auto_flow": null,
      "grid_auto_rows": null,
      "grid_column": null,
      "grid_gap": null,
      "grid_row": null,
      "grid_template_areas": null,
      "grid_template_columns": null,
      "grid_template_rows": null,
      "height": null,
      "justify_content": null,
      "justify_items": null,
      "left": null,
      "margin": null,
      "max_height": null,
      "max_width": null,
      "min_height": null,
      "min_width": null,
      "object_fit": null,
      "object_position": null,
      "order": null,
      "overflow": null,
      "overflow_x": null,
      "overflow_y": null,
      "padding": null,
      "right": null,
      "top": null,
      "visibility": null,
      "width": null
     }
    }
   }
  }
 },
 "nbformat": 4,
 "nbformat_minor": 0
}
