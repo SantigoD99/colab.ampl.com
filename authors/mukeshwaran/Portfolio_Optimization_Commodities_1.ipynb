{
  "cells": [
    {
      "cell_type": "markdown",
      "metadata": {
        "id": "wGT__K50Hpk-"
      },
      "source": [
        "# Optimized Portfolio Optimization with AMPL and EIA Data\n",
        "[![Portfolio_Optimization_Commodities_1.ipynb](https://img.shields.io/badge/github-%23121011.svg?logo=github)](https://github.com/ampl/colab.ampl.com/blob/master/authors/mukeshwaran/Portfolio_Optimization_Commodities_1.ipynb) [![Open In Colab](https://colab.research.google.com/assets/colab-badge.svg)](https://colab.research.google.com/github/ampl/colab.ampl.com/blob/master/authors/mukeshwaran/Portfolio_Optimization_Commodities_1.ipynb) [![Kaggle](https://kaggle.com/static/images/open-in-kaggle.svg)](https://kaggle.com/kernels/welcome?src=https://github.com/ampl/colab.ampl.com/blob/master/authors/mukeshwaran/Portfolio_Optimization_Commodities_1.ipynb) [![Gradient](https://assets.paperspace.io/img/gradient-badge.svg)](https://console.paperspace.com/github/ampl/colab.ampl.com/blob/master/authors/mukeshwaran/Portfolio_Optimization_Commodities_1.ipynb) [![Open In SageMaker Studio Lab](https://studiolab.sagemaker.aws/studiolab.svg)](https://studiolab.sagemaker.aws/import/github/ampl/colab.ampl.com/blob/master/authors/mukeshwaran/Portfolio_Optimization_Commodities_1.ipynb) [![Hits](https://h.ampl.com/https://github.com/ampl/colab.ampl.com/blob/master/authors/mukeshwaran/Portfolio_Optimization_Commodities_1.ipynb)](https://colab.ampl.com)\n",
        "\n",
        "Description: Portfolio Optimization across Crude Oil, Gold, Natural Gas, Silver, and the S&P 500.\n",
        "\n",
        "Tags: finance, portfolio-optimization, mean-variance\n",
        "\n",
        "Notebook author: Mukeshwaran Baskaran <<mukesh96official@gmail.com>>"
      ]
    },
    {
      "cell_type": "markdown",
      "metadata": {
        "id": "TqTaPeT6sa-X"
      },
      "source": [
        "### **What the Code Does:**\n",
        "This code is a **portfolio optimization tool** that helps you decide how to invest in different assets (like Crude Oil, Gold, Natural Gas, Silver, and the S&P 500) to achieve specific financial goals. It uses historical data and advanced math to find the best way to distribute your money across these assets.\n",
        "\n",
        "---\n",
        "\n",
        "### **Steps in the Code:**\n",
        "\n",
        "1. **Install Required Tools:**\n",
        "   - The code installs necessary Python libraries like `amplpy` (for optimization) and `yfinance` (to get financial data).\n",
        "\n",
        "2. **Import Libraries:**\n",
        "   - It imports tools for data analysis (`pandas`, `numpy`), visualization (`matplotlib`, `seaborn`), and fetching data (`yfinance`, `requests`).\n",
        "\n",
        "3. **Enter API Key:**\n",
        "   - It asks for the API key to be used to fetch data from the **[EIA (Energy Information Administration)](https://www.eia.gov/opendata/)** regarding crude oil inventories.\n",
        "\n",
        "4. **Define Assets and Time Period:**\n",
        "   - The code focuses on 5 assets: Crude Oil, Gold, Natural Gas, Silver, and the S&P 500 (SPY).\n",
        "   - It sets a time period (from January 1, 2020, to January 1, 2025) to analyze historical data.\n",
        "\n",
        "5. **Fetch Data:**\n",
        "   - **Crude Oil Inventories:** It fetches weekly crude oil inventory data from the EIA API.\n",
        "   - **Commodity Prices:** It downloads historical price data for the 5 assets using `yfinance`.\n",
        "\n",
        "6. **Calculate Statistics:**\n",
        "   - It calculates:\n",
        "     - **Daily Returns:** How much the price of each asset changes daily.\n",
        "     - **Covariance Matrix:** How the assets move in relation to each other.\n",
        "     - **Mean Returns:** The average daily return for each asset.\n",
        "\n",
        "7. **Initialize AMPL:**\n",
        "   - AMPL is a tool for solving optimization problems. The code sets it up with specific modules and a license.\n",
        "\n",
        "8. **Define Optimization Functions:**\n",
        "   - The code defines three types of portfolio optimization:\n",
        "     - **Mean-Variance Optimization:** Finds the portfolio with the lowest risk for a given level of return.\n",
        "     - **Risk Parity Optimization:** Balances risk equally across all assets.\n",
        "     - **Maximum Sharpe Ratio Optimization:** Finds the portfolio with the best risk-adjusted return.\n",
        "\n",
        "9. **Plot Results:**\n",
        "   - It creates **pie charts** to visualize how much money should be invested in each asset based on the optimization results.\n",
        "\n",
        "10. **Run Optimizations:**\n",
        "    - It runs each optimization (Mean-Variance, Risk Parity, and Maximum Sharpe Ratio) and displays the results as pie charts.\n",
        "\n",
        "---\n",
        "\n",
        "### **Outputs:**\n",
        "- **Mean-Variance Portfolio:** A pie chart showing how to distribute investments to minimize risk.\n",
        "- **Risk Parity Portfolio:** A pie chart showing how to balance risk equally across assets.\n",
        "- **Maximum Sharpe Ratio Portfolio:** A pie chart showing how to maximize returns relative to risk.\n"
      ]
    },
    {
      "cell_type": "code",
      "execution_count": 63,
      "metadata": {
        "id": "MljZs5oUsaJy"
      },
      "outputs": [],
      "source": [
        "# Install dependencies\n",
        "%pip install amplpy yfinance matplotlib seaborn pandas numpy requests -q"
      ]
    },
    {
      "cell_type": "code",
      "execution_count": 64,
      "metadata": {
        "colab": {
          "base_uri": "https://localhost:8080/",
          "height": 84,
          "referenced_widgets": [
            "209d2c17c1a44dd7b130698f339d00b5",
            "30f169328773489f9b2ae3b9f1ead796",
            "2559da3ea1744f6db72966e171f2eac7",
            "c2cf29392ddc4a3a95af4a81781f8f26",
            "d1ada9c7971d4d8aa3459f9e123cbf8a",
            "741db7223c114f62b105bb8836549fc9",
            "540e003509c34bb1bff00e4bf64685cd",
            "b8ddacbe25b74cc1870b9731c903306d",
            "8e5b4e5fbfc94f1681ee22bf7eb5427e",
            "813e6c18bb814145852c13077877ec62",
            "c1cf7514fbd14003b814eebc1fd45a7b",
            "16a54df3e76c4f9cbaf43b3ef6106896",
            "b398aa69604e43289b2ae8b4e07de467"
          ]
        },
        "id": "0rQnWzwIHplC",
        "outputId": "e2935fd1-9cc3-4001-f3af-6dd804e2d99c"
      },
      "outputs": [],
      "source": [
        "# Google Colab & Kaggle integration\n",
        "from amplpy import AMPL, ampl_notebook\n",
        "\n",
        "ampl = ampl_notebook(\n",
        "    modules=[\"gurobi\"],  # modules to install\n",
        "    license_uuid=\"default\",  # license to use\n",
        ")  # instantiate AMPL object and register magics"
      ]
    },
    {
      "cell_type": "code",
      "execution_count": 65,
      "metadata": {
        "colab": {
          "base_uri": "https://localhost:8080/"
        },
        "id": "R0GkVhYWHplD",
        "outputId": "8c0f0371-3b68-4888-b3aa-a5fb03aa1051"
      },
      "outputs": [
        {
          "output_type": "stream",
          "name": "stdout",
          "text": [
            "API Key already stored!\n"
          ]
        }
      ],
      "source": [
        "import os\n",
        "from getpass import getpass\n",
        "\n",
        "if os.environ.get(\"EIA_API_KEY\", \"\") == \"\":\n",
        "    # Prompt the user to enter their API key securely\n",
        "    os.environ[\"EIA_API_KEY\"] = getpass(\"Enter your EIA API key: \")\n",
        "    print(\"API Key stored successfully!\")\n",
        "else:\n",
        "    print(\"API Key already stored!\")"
      ]
    },
    {
      "cell_type": "markdown",
      "source": [
        "## Utility functions\n",
        "\n",
        "### Fetch data from EIA and yfinance"
      ],
      "metadata": {
        "id": "8WATJfhDJgVB"
      }
    },
    {
      "cell_type": "code",
      "source": [
        "# Import libraries\n",
        "import yfinance as yf\n",
        "import pandas as pd\n",
        "import numpy as np\n",
        "import matplotlib.pyplot as plt\n",
        "import seaborn as sns\n",
        "import requests"
      ],
      "metadata": {
        "id": "6Lk85A8bLt7Y"
      },
      "execution_count": 66,
      "outputs": []
    },
    {
      "cell_type": "code",
      "execution_count": 67,
      "metadata": {
        "id": "cL7wz3kMoz7w"
      },
      "outputs": [],
      "source": [
        "# Define commodities and fetch data\n",
        "COMMODITIES = [\n",
        "    \"CL=F\",\n",
        "    \"GC=F\",\n",
        "    \"NG=F\",\n",
        "    \"SI=F\",\n",
        "    \"SPY\",\n",
        "]  # Crude Oil, Gold, Natural Gas, Silver, SPY,\n",
        "START_DATE = \"2020-01-01\"\n",
        "END_DATE = \"2025-01-01\"\n",
        "\n",
        "\n",
        "# Fetch crude oil inventories from EIA API\n",
        "def fetch_crude_inventories(api_key):\n",
        "    \"\"\"Fetch crude oil inventories data from EIA API.\"\"\"\n",
        "    base_url = \"https://api.eia.gov/v2/petroleum/stoc/wstk/data/\"\n",
        "    params = {\n",
        "        \"frequency\": \"weekly\",\n",
        "        \"data[0]\": \"value\",\n",
        "        \"facets[series][]\": \"WTTSTUS1\",\n",
        "        \"sort[0][column]\": \"period\",\n",
        "        \"sort[0][direction]\": \"desc\",\n",
        "        \"offset\": 0,\n",
        "        \"length\": 5000,\n",
        "        \"api_key\": api_key,\n",
        "    }\n",
        "    response = requests.get(base_url, params=params)\n",
        "    if response.status_code == 200:\n",
        "        data = response.json()\n",
        "        df = pd.DataFrame(data[\"response\"][\"data\"])\n",
        "        df[\"period\"] = pd.to_datetime(df[\"period\"])\n",
        "        df.set_index(\"period\", inplace=True)\n",
        "        return df[[\"value\"]].rename(columns={\"value\": \"Inventories\"})\n",
        "    else:\n",
        "        raise Exception(f\"Failed to fetch data: {response.status_code}\")\n",
        "\n",
        "\n",
        "# Download historical data for commodities\n",
        "def fetch_commodities_data(tickers, start_date, end_date):\n",
        "    \"\"\"Fetch historical data for given tickers.\"\"\"\n",
        "    data = yf.download(tickers, start=start_date, end=end_date)[\"Close\"]\n",
        "    return data"
      ]
    },
    {
      "cell_type": "markdown",
      "source": [
        "### Calculate statistics"
      ],
      "metadata": {
        "id": "wPwq1RnsKuqw"
      }
    },
    {
      "cell_type": "code",
      "source": [
        "# Calculate returns and covariance matrix\n",
        "def calculate_statistics(data):\n",
        "    \"\"\"Calculate daily returns and covariance matrix.\"\"\"\n",
        "    returns = data.pct_change().dropna()\n",
        "    cov_matrix = returns.cov().values\n",
        "    mean_returns = returns.mean().values\n",
        "    return returns, cov_matrix, mean_returns"
      ],
      "metadata": {
        "id": "6TvHhJsbKtAk"
      },
      "execution_count": 68,
      "outputs": []
    },
    {
      "cell_type": "markdown",
      "source": [
        "### Plot charts"
      ],
      "metadata": {
        "id": "o2dFnsKAJ275"
      }
    },
    {
      "cell_type": "code",
      "source": [
        "import matplotlib.pyplot as plt\n",
        "import seaborn as sns"
      ],
      "metadata": {
        "id": "qLT_W-cnJ1mm"
      },
      "execution_count": 69,
      "outputs": []
    },
    {
      "cell_type": "code",
      "source": [
        "def plot_pie_chart(weights, title):\n",
        "    \"\"\"Plot a pie chart of portfolio weights with improved visuals.\"\"\"\n",
        "\n",
        "    # Define a dictionary to map tickers to their respective names\n",
        "    ticker_to_name = {\n",
        "        \"CL=F\": \"Crude Oil\",\n",
        "        \"GC=F\": \"Gold\",\n",
        "        \"NG=F\": \"Natural Gas\",\n",
        "        \"SI=F\": \"Silver\",\n",
        "        \"SPY\": \"S&P 500\",\n",
        "    }\n",
        "\n",
        "    # Map the tickers in the portfolio to their actual names\n",
        "    labels = [ticker_to_name[ticker] for ticker in weights.index]\n",
        "\n",
        "    # Filter out the tickers with weight less than or equal to 10e-6\n",
        "    filtered_weights = weights[weights > 10e-6]\n",
        "    filtered_labels = [\n",
        "        label\n",
        "        for label, ticker in zip(labels, weights.index)\n",
        "        if ticker in filtered_weights.index\n",
        "    ]\n",
        "\n",
        "    # Set color palette\n",
        "    palette = sns.color_palette(\"Set3\", len(filtered_weights))\n",
        "\n",
        "    # Plot the pie chart\n",
        "    plt.figure(figsize=(8, 8))\n",
        "    wedges, texts, autotexts = plt.pie(\n",
        "        filtered_weights,\n",
        "        labels=filtered_labels,\n",
        "        autopct=\"%1.1f%%\",\n",
        "        startangle=90,\n",
        "        colors=palette,\n",
        "        explode=[0.1]\n",
        "        * len(filtered_weights),  # Slightly \"explode\" all slices for emphasis\n",
        "        wedgeprops={\"edgecolor\": \"black\", \"linewidth\": 1, \"linestyle\": \"solid\"},\n",
        "    )\n",
        "\n",
        "    # Improve text labels\n",
        "    for text in texts:\n",
        "        text.set_fontsize(14)\n",
        "        text.set_fontweight(\"bold\")\n",
        "    for autotext in autotexts:\n",
        "        autotext.set_fontsize(12)\n",
        "        autotext.set_fontweight(\"bold\")\n",
        "\n",
        "    # Add title\n",
        "    plt.title(title, fontsize=18, fontweight=\"bold\")\n",
        "\n",
        "    # Equal aspect ratio ensures that pie is drawn as a circle.\n",
        "    plt.axis(\"equal\")\n",
        "\n",
        "    # Show the plot\n",
        "    plt.show()"
      ],
      "metadata": {
        "id": "E3UKxD8gJwGD"
      },
      "execution_count": 70,
      "outputs": []
    },
    {
      "cell_type": "markdown",
      "source": [
        "### Mean-Variance Optimization Implementation"
      ],
      "metadata": {
        "id": "_iU6WZM-J7IJ"
      }
    },
    {
      "cell_type": "code",
      "source": [
        "def mean_variance_optimization(tickers, cov_matrix):\n",
        "    \"\"\"Perform mean-variance optimization.\"\"\"\n",
        "    ampl = AMPL()\n",
        "    # Define the AMPL model\n",
        "    ampl.eval(\n",
        "        r\"\"\"\n",
        "        set A ordered;  # Set of assets\n",
        "        param S{A, A};  # Covariance matrix\n",
        "        var w{A} >= 0 <= 1;  # Portfolio weights\n",
        "\n",
        "        minimize portfolio_variance:\n",
        "            sum {i in A, j in A} w[i] * S[i, j] * w[j];  # Objective: minimize variance\n",
        "\n",
        "        s.t. portfolio_weights:\n",
        "            sum {i in A} w[i] = 1;  # Constraint: weights sum to 1\n",
        "        \"\"\"\n",
        "    )\n",
        "\n",
        "    # Set data in AMPL\n",
        "    ampl.set[\"A\"] = tickers\n",
        "    ampl.param[\"S\"] = pd.DataFrame(cov_matrix, index=tickers, columns=tickers)\n",
        "\n",
        "    # Solve the optimization problem\n",
        "    ampl.solve(solver=\"gurobi\", gurobi_options=\"outlev=1\")\n",
        "\n",
        "    # Extract and return portfolio weights\n",
        "    return ampl.var[\"w\"].to_pandas()[\"w.val\"]"
      ],
      "metadata": {
        "id": "GbSXaZzQJsSd"
      },
      "execution_count": 71,
      "outputs": []
    },
    {
      "cell_type": "markdown",
      "source": [
        "### Risk Parity Optimization Implementation"
      ],
      "metadata": {
        "id": "K8eIj0itKOL7"
      }
    },
    {
      "cell_type": "code",
      "source": [
        "def risk_parity_optimization(tickers, cov_matrix, total_volatility):\n",
        "    \"\"\"Perform risk parity optimization.\"\"\"\n",
        "    ampl = AMPL()\n",
        "    # Define the AMPL model\n",
        "    ampl.eval(\n",
        "        r\"\"\"\n",
        "        set A ordered;  # Set of assets\n",
        "        param S{A, A};  # Covariance matrix\n",
        "        param total_volatility;  # Total portfolio volatility\n",
        "        var w{A} >= 0 <= 1;  # Portfolio weights\n",
        "\n",
        "        minimize risk_parity:\n",
        "            sum {i in A} (w[i] * sum {j in A} S[i, j] * w[j]) / total_volatility;  # Objective: risk parity\n",
        "\n",
        "        s.t. portfolio_weights:\n",
        "            sum {i in A} w[i] = 1;  # Constraint: weights sum to 1\n",
        "        \"\"\"\n",
        "    )\n",
        "\n",
        "    # Set data in AMPL\n",
        "    ampl.set[\"A\"] = tickers\n",
        "    ampl.param[\"S\"] = pd.DataFrame(cov_matrix, index=tickers, columns=tickers)\n",
        "    ampl.param[\"total_volatility\"] = total_volatility\n",
        "\n",
        "    # Solve the optimization problem\n",
        "    ampl.solve(solver=\"gurobi\", gurobi_options=\"outlev=1\")\n",
        "\n",
        "    # Extract and return portfolio weights\n",
        "    return ampl.var[\"w\"].to_pandas()[\"w.val\"]"
      ],
      "metadata": {
        "id": "mIQn1jb6KFg5"
      },
      "execution_count": 72,
      "outputs": []
    },
    {
      "cell_type": "markdown",
      "source": [
        "## Maximum Sharpe Ratio Optimization Implementation\n"
      ],
      "metadata": {
        "id": "h2xsakqWKIcg"
      }
    },
    {
      "cell_type": "code",
      "source": [
        "def max_sharpe_optimization(\n",
        "    tickers, cov_matrix, mean_returns, risk_free_rate=0.02\n",
        "):\n",
        "    \"\"\"Perform maximum Sharpe ratio optimization.\"\"\"\n",
        "    ampl = AMPL()\n",
        "    # Define the AMPL model\n",
        "    ampl.eval(\n",
        "        r\"\"\"\n",
        "        set A ordered;  # Set of assets\n",
        "        param S{A, A};  # Covariance matrix\n",
        "        param mu{A};  # Mean returns\n",
        "        param risk_free_rate;  # Risk-free rate\n",
        "        var w{A} >= 0 <= 1;  # Portfolio weights\n",
        "\n",
        "        maximize sharpe_ratio:\n",
        "            (sum {i in A} mu[i] * w[i] - risk_free_rate) /\n",
        "            sqrt(sum {i in A, j in A} w[i] * S[i, j] * w[j]);  # Objective: maximize Sharpe ratio\n",
        "\n",
        "        s.t. portfolio_weights:\n",
        "            sum {i in A} w[i] = 1;  # Constraint: weights sum to 1\n",
        "        \"\"\"\n",
        "    )\n",
        "\n",
        "    # Set data in AMPL\n",
        "    ampl.set[\"A\"] = tickers\n",
        "    ampl.param[\"S\"] = pd.DataFrame(cov_matrix, index=tickers, columns=tickers)\n",
        "    ampl.param[\"mu\"] = pd.Series(mean_returns, index=tickers).to_dict()\n",
        "    ampl.param[\"risk_free_rate\"] = risk_free_rate\n",
        "\n",
        "    # Solve the optimization problem\n",
        "    ampl.solve(solver=\"gurobi\", gurobi_options=\"outlev=1\")\n",
        "\n",
        "    # Extract and return portfolio weights\n",
        "    return ampl.var[\"w\"].to_pandas()[\"w.val\"]"
      ],
      "metadata": {
        "id": "RxsO07_sKHc7"
      },
      "execution_count": 73,
      "outputs": []
    },
    {
      "cell_type": "markdown",
      "metadata": {
        "id": "Br8zz20Np_9-"
      },
      "source": [
        "## Mean-Variance Optimization"
      ]
    },
    {
      "cell_type": "code",
      "execution_count": 74,
      "metadata": {
        "colab": {
          "base_uri": "https://localhost:8080/",
          "height": 1000
        },
        "id": "UZxE--Ncp5QS",
        "outputId": "10a29263-a571-48c5-d2b7-57e9f8a0ec42"
      },
      "outputs": [
        {
          "output_type": "stream",
          "name": "stderr",
          "text": [
            "[*********************100%***********************]  5 of 5 completed\n",
            "<ipython-input-68-262237bf351b>:4: FutureWarning: The default fill_method='pad' in DataFrame.pct_change is deprecated and will be removed in a future version. Either fill in any non-leading NA values prior to calling pct_change or specify 'fill_method=None' to not fill NA values.\n",
            "  returns = data.pct_change().dropna()\n"
          ]
        },
        {
          "output_type": "stream",
          "name": "stdout",
          "text": [
            "Gurobi 12.0.1: Set parameter LogToConsole to value 1\n",
            "  tech:outlev = 1\n",
            "Set parameter InfUnbdInfo to value 1\n",
            "Gurobi Optimizer version 12.0.1 build v12.0.1rc0 (linux64 - \"Ubuntu 22.04.4 LTS\")\n",
            "\n",
            "CPU model: Intel(R) Xeon(R) CPU @ 2.20GHz, instruction set [SSE2|AVX|AVX2]\n",
            "Thread count: 1 physical cores, 2 logical processors, using up to 2 threads\n",
            "\n",
            "Non-default parameters:\n",
            "InfUnbdInfo  1\n",
            "\n",
            "Optimize a model with 1 rows, 5 columns and 5 nonzeros\n",
            "Model fingerprint: 0xf5b53e7c\n",
            "Model has 15 quadratic objective terms\n",
            "Coefficient statistics:\n",
            "  Matrix range     [1e+00, 1e+00]\n",
            "  Objective range  [0e+00, 0e+00]\n",
            "  QObjective range [5e-05, 2e-02]\n",
            "  Bounds range     [1e+00, 1e+00]\n",
            "  RHS range        [1e+00, 1e+00]\n",
            "Presolve time: 0.00s\n",
            "Presolved: 1 rows, 5 columns, 5 nonzeros\n",
            "Presolved model has 15 quadratic objective terms\n",
            "Ordering time: 0.00s\n",
            "\n",
            "Barrier statistics:\n",
            " Free vars  : 4\n",
            " AA' NZ     : 1.000e+01\n",
            " Factor NZ  : 1.500e+01\n",
            " Factor Ops : 5.500e+01 (less than 1 second per iteration)\n",
            " Threads    : 1\n",
            "\n",
            "                  Objective                Residual\n",
            "Iter       Primal          Dual         Primal    Dual     Compl     Time\n",
            "   0   2.63090112e+03 -2.63090112e+03  2.25e+03 2.70e-07  2.50e+05     0s\n",
            "   1   5.00114160e+02 -5.01458979e+02  2.43e+02 2.92e-08  3.22e+04     0s\n",
            "   2   3.94288533e+01 -4.16895661e+01  1.85e+01 2.22e-09  2.78e+03     0s\n",
            "   3   1.56225933e-02 -2.91974974e+00  1.21e-01 1.44e-11  3.67e+01     0s\n",
            "   4   4.36523957e-03 -7.22068602e-01  1.21e-07 5.55e-17  4.65e+00     0s\n",
            "   5   4.26451246e-03 -4.85867704e-03  1.51e-09 5.55e-17  5.84e-02     0s\n",
            "   6   5.70426476e-04 -2.43281468e-03  1.53e-15 1.39e-16  1.92e-02     0s\n",
            "   7   2.05375197e-04 -5.59800439e-05  5.55e-17 1.98e-16  1.67e-03     0s\n",
            "   8   9.12464623e-05  4.89884369e-05  2.78e-17 1.39e-17  2.70e-04     0s\n",
            "   9   7.49653082e-05  7.01197812e-05  3.47e-18 3.47e-18  3.10e-05     0s\n",
            "  10   7.30077162e-05  7.23982266e-05  6.52e-16 6.94e-18  3.90e-06     0s\n",
            "  11   7.27266074e-05  7.26554420e-05  1.29e-15 6.94e-18  4.55e-07     0s\n",
            "  12   7.26783967e-05  7.26715401e-05  8.60e-16 6.94e-18  4.39e-08     0s\n",
            "  13   7.26721403e-05  7.26720451e-05  3.09e-15 6.94e-18  6.09e-10     0s\n",
            "\n",
            "Barrier solved model in 13 iterations and 0.01 seconds (0.00 work units)\n",
            "Optimal objective 7.26721403e-05\n",
            "\n",
            "Gurobi 12.0.1: optimal solution; objective 7.26721403e-05\n",
            "0 simplex iterations\n",
            "13 barrier iterations\n"
          ]
        },
        {
          "output_type": "display_data",
          "data": {
            "text/plain": [
              "<Figure size 800x800 with 1 Axes>"
            ],
            "image/png": "[encoded data removed]"
          },
          "metadata": {}
        }
      ],
      "source": [
        "crude_inventories = fetch_crude_inventories(os.environ[\"EIA_API_KEY\"])\n",
        "commodities_data = fetch_commodities_data(COMMODITIES, START_DATE, END_DATE)\n",
        "returns, cov_matrix, mean_returns = calculate_statistics(commodities_data)\n",
        "\n",
        "# Mean-Variance Optimization\n",
        "mean_variance_weights = mean_variance_optimization(COMMODITIES, cov_matrix)\n",
        "plot_pie_chart(mean_variance_weights, \"Mean-Variance Optimization Portfolio\")"
      ]
    },
    {
      "cell_type": "markdown",
      "metadata": {
        "id": "E8ysnaUgqEzV"
      },
      "source": [
        "## Risk Parity Optimization"
      ]
    },
    {
      "cell_type": "code",
      "execution_count": 75,
      "metadata": {
        "colab": {
          "base_uri": "https://localhost:8080/",
          "height": 1000
        },
        "id": "oylmtQ0Ppa0H",
        "outputId": "099bd884-3cad-4096-bc6d-e13200124360"
      },
      "outputs": [
        {
          "output_type": "stream",
          "name": "stdout",
          "text": [
            "Gurobi 12.0.1: Set parameter LogToConsole to value 1\n",
            "  tech:outlev = 1\n",
            "Set parameter InfUnbdInfo to value 1\n",
            "Gurobi Optimizer version 12.0.1 build v12.0.1rc0 (linux64 - \"Ubuntu 22.04.4 LTS\")\n",
            "\n",
            "CPU model: Intel(R) Xeon(R) CPU @ 2.20GHz, instruction set [SSE2|AVX|AVX2]\n",
            "Thread count: 1 physical cores, 2 logical processors, using up to 2 threads\n",
            "\n",
            "Non-default parameters:\n",
            "InfUnbdInfo  1\n",
            "\n",
            "Optimize a model with 1 rows, 5 columns and 5 nonzeros\n",
            "Model fingerprint: 0x1daa3581\n",
            "Model has 15 quadratic objective terms\n",
            "Coefficient statistics:\n",
            "  Matrix range     [1e+00, 1e+00]\n",
            "  Objective range  [0e+00, 0e+00]\n",
            "  QObjective range [2e-01, 8e+01]\n",
            "  Bounds range     [1e+00, 1e+00]\n",
            "  RHS range        [1e+00, 1e+00]\n",
            "Presolve time: 0.00s\n",
            "Presolved: 1 rows, 5 columns, 5 nonzeros\n",
            "Presolved model has 15 quadratic objective terms\n",
            "Ordering time: 0.00s\n",
            "\n",
            "Barrier statistics:\n",
            " Free vars  : 4\n",
            " AA' NZ     : 1.000e+01\n",
            " Factor NZ  : 1.500e+01\n",
            " Factor Ops : 5.500e+01 (less than 1 second per iteration)\n",
            " Threads    : 1\n",
            "\n",
            "                  Objective                Residual\n",
            "Iter       Primal          Dual         Primal    Dual     Compl     Time\n",
            "   0   2.77624384e+06 -2.77624384e+06  2.54e+03 6.74e-07  2.69e+05     0s\n",
            "   1   9.34658298e+04 -9.50588354e+04  2.02e+02 5.36e-08  2.37e+04     0s\n",
            "   2   3.84183441e+03 -6.36299934e+03  7.80e+00 2.07e-09  1.03e+03     0s\n",
            "   3   1.37974550e+01 -2.68192258e+03  7.80e-06 1.03e-13  3.37e+01     0s\n",
            "   4   1.33961068e+01 -1.57253068e+01  5.18e-08 5.55e-17  3.64e-01     0s\n",
            "   5   1.87611945e+00 -1.09723916e+01  5.18e-14 3.08e-15  1.61e-01     0s\n",
            "   6   7.57110720e-01 -7.87494755e-02  2.78e-16 5.62e-16  1.04e-02     0s\n",
            "   7   3.71954487e-01  2.48420962e-01  2.22e-16 1.11e-16  1.54e-03     0s\n",
            "   8   3.14466939e-01  3.00358722e-01  2.78e-17 5.55e-17  1.76e-04     0s\n",
            "   9   3.07824297e-01  3.05933954e-01  1.39e-16 1.39e-17  2.36e-05     0s\n",
            "  10   3.06824712e-01  3.06575069e-01  8.88e-16 1.39e-17  3.12e-06     0s\n",
            "  11   3.06650315e-01  3.06627918e-01  5.02e-15 2.78e-17  2.80e-07     0s\n",
            "  12   3.06629561e-01  3.06629345e-01  8.83e-15 1.83e-17  2.70e-09     0s\n",
            "  13   3.06629347e-01  3.06629347e-01  2.18e-14 3.47e-18  2.70e-12     0s\n",
            "\n",
            "Barrier solved model in 13 iterations and 0.01 seconds (0.00 work units)\n",
            "Optimal objective 3.06629347e-01\n",
            "\n",
            "Gurobi 12.0.1: optimal solution; objective 0.3066293474\n",
            "0 simplex iterations\n",
            "13 barrier iterations\n"
          ]
        },
        {
          "output_type": "display_data",
          "data": {
            "text/plain": [
              "<Figure size 800x800 with 1 Axes>"
            ],
            "image/png": "[encoded data removed]"
          },
          "metadata": {}
        }
      ],
      "source": [
        "# Risk Parity Optimization\n",
        "total_volatility = np.sqrt(np.dot(mean_returns, np.dot(cov_matrix, mean_returns)))\n",
        "risk_parity_weights = risk_parity_optimization(\n",
        "    COMMODITIES, cov_matrix, total_volatility\n",
        ")\n",
        "plot_pie_chart(risk_parity_weights, \"Risk Parity Optimization Portfolio\")"
      ]
    },
    {
      "cell_type": "markdown",
      "metadata": {
        "id": "ycEMg31BqIp9"
      },
      "source": [
        "## Max Sharpe Optimization"
      ]
    },
    {
      "cell_type": "code",
      "execution_count": 76,
      "metadata": {
        "colab": {
          "base_uri": "https://localhost:8080/",
          "height": 1000
        },
        "id": "_m82a-pbp9bd",
        "outputId": "bdbc16c6-8be6-4e3c-c720-0f5f62ba0715"
      },
      "outputs": [
        {
          "output_type": "stream",
          "name": "stdout",
          "text": [
            "Gurobi 12.0.1: Set parameter LogToConsole to value 1\n",
            "  tech:outlev = 1\n",
            "Set parameter InfUnbdInfo to value 1\n",
            "Gurobi Optimizer version 12.0.1 build v12.0.1rc0 (linux64 - \"Ubuntu 22.04.4 LTS\")\n",
            "\n",
            "CPU model: Intel(R) Xeon(R) CPU @ 2.20GHz, instruction set [SSE2|AVX|AVX2]\n",
            "Thread count: 1 physical cores, 2 logical processors, using up to 2 threads\n",
            "\n",
            "Non-default parameters:\n",
            "InfUnbdInfo  1\n",
            "\n",
            "Optimize a model with 1 rows, 9 columns and 5 nonzeros\n",
            "Model fingerprint: 0x477461ec\n",
            "Model has 1 general nonlinear constraint (27 nonlinear terms)\n",
            "Variable types: 9 continuous, 0 integer (0 binary)\n",
            "Coefficient statistics:\n",
            "  Matrix range     [1e+00, 1e+00]\n",
            "  Objective range  [1e+00, 1e+00]\n",
            "  Bounds range     [8e-05, 1e+00]\n",
            "  RHS range        [1e+00, 1e+00]\n",
            "Presolve model has 1 nlconstr\n",
            "Added 33 variables to disaggregate expressions.\n",
            "Presolve removed 0 rows and 3 columns\n",
            "Presolve time: 0.00s\n",
            "Presolved: 82 rows, 40 columns, 182 nonzeros\n",
            "Presolved model has 16 bilinear constraint(s)\n",
            "Presolved model has 1 nonlinear constraint(s)\n",
            "\n",
            "Solving non-convex MINLP\n",
            "\n",
            "Variable types: 40 continuous, 0 integer (0 binary)\n",
            "Found heuristic solution: objective -0.2240361\n",
            "\n",
            "Root relaxation: interrupted, 20 iterations, 0.00 seconds (0.00 work units)\n",
            "\n",
            "    Nodes    |    Current Node    |     Objective Bounds      |     Work\n",
            " Expl Unexpl |  Obj  Depth IntInf | Incumbent    BestBd   Gap | It/Node Time\n",
            "\n",
            "     0     0          -    0        -0.22404   -0.22402  0.01%     -    0s\n",
            "\n",
            "Explored 1 nodes (20 simplex iterations) in 0.03 seconds (0.00 work units)\n",
            "Thread count was 2 (of 2 available processors)\n",
            "\n",
            "Solution count 1: -0.224036 \n",
            "\n",
            "Optimal solution found (tolerance 1.00e-04)\n",
            "Best objective -2.240361471278e-01, best bound -2.240208721585e-01, gap 0.0068%\n",
            "Gurobi 12.0.1: optimal solution; objective -0.2240361471\n",
            "20 simplex iterations\n",
            "1 branching node\n",
            "absmipgap=1.5275e-05, relmipgap=6.81808e-05\n"
          ]
        },
        {
          "output_type": "display_data",
          "data": {
            "text/plain": [
              "<Figure size 800x800 with 1 Axes>"
            ],
            "image/png": "[encoded data removed]"
          },
          "metadata": {}
        }
      ],
      "source": [
        "# Maximum Sharpe Ratio Optimization\n",
        "max_sharpe_weights = max_sharpe_optimization(\n",
        "    COMMODITIES, cov_matrix, mean_returns\n",
        ")\n",
        "plot_pie_chart(max_sharpe_weights, \"Maximum Sharpe Ratio Portfolio\")"
      ]
    }
  ],
  "metadata": {
    "colab": {
      "provenance": []
    },
    "kernelspec": {
      "display_name": "venv",
      "language": "python",
      "name": "python3"
    },
    "language_info": {
      "codemirror_mode": {
        "name": "ipython",
        "version": 3
      },
      "file_extension": ".py",
      "mimetype": "text/x-python",
      "name": "python",
      "nbconvert_exporter": "python",
      "pygments_lexer": "ipython3",
      "version": "3.11.6"
    },
    "widgets": {
      "application/vnd.jupyter.widget-state+json": {
        "209d2c17c1a44dd7b130698f339d00b5": {
          "model_module": "@jupyter-widgets/controls",
          "model_name": "VBoxModel",
          "model_module_version": "1.5.0",
          "state": {
            "_dom_classes": [],
            "_model_module": "@jupyter-widgets/controls",
            "_model_module_version": "1.5.0",
            "_model_name": "VBoxModel",
            "_view_count": null,
            "_view_module": "@jupyter-widgets/controls",
            "_view_module_version": "1.5.0",
            "_view_name": "VBoxView",
            "box_style": "",
            "children": [
              "IPY_MODEL_30f169328773489f9b2ae3b9f1ead796",
              "IPY_MODEL_2559da3ea1744f6db72966e171f2eac7",
              "IPY_MODEL_c2cf29392ddc4a3a95af4a81781f8f26",
              "IPY_MODEL_d1ada9c7971d4d8aa3459f9e123cbf8a"
            ],
            "layout": "IPY_MODEL_741db7223c114f62b105bb8836549fc9"
          }
        },
        "30f169328773489f9b2ae3b9f1ead796": {
          "model_module": "@jupyter-widgets/output",
          "model_name": "OutputModel",
          "model_module_version": "1.0.0",
          "state": {
            "_dom_classes": [],
            "_model_module": "@jupyter-widgets/output",
            "_model_module_version": "1.0.0",
            "_model_name": "OutputModel",
            "_view_count": null,
            "_view_module": "@jupyter-widgets/output",
            "_view_module_version": "1.0.0",
            "_view_name": "OutputView",
            "layout": "IPY_MODEL_c1cf7514fbd14003b814eebc1fd45a7b",
            "msg_id": "",
            "outputs": [
              {
                "output_type": "stream",
                "name": "stdout",
                "text": [
                  "AMPL License UUID (you can use free https://ampl.com/ce or https://ampl.com/courses licenses):\n"
                ]
              }
            ]
          }
        },
        "2559da3ea1744f6db72966e171f2eac7": {
          "model_module": "@jupyter-widgets/controls",
          "model_name": "HBoxModel",
          "model_module_version": "1.5.0",
          "state": {
            "_dom_classes": [],
            "_model_module": "@jupyter-widgets/controls",
            "_model_module_version": "1.5.0",
            "_model_name": "HBoxModel",
            "_view_count": null,
            "_view_module": "@jupyter-widgets/controls",
            "_view_module_version": "1.5.0",
            "_view_name": "HBoxView",
            "box_style": "",
            "children": [
              "IPY_MODEL_540e003509c34bb1bff00e4bf64685cd"
            ],
            "layout": "IPY_MODEL_b8ddacbe25b74cc1870b9731c903306d"
          }
        },
        "c2cf29392ddc4a3a95af4a81781f8f26": {
          "model_module": "@jupyter-widgets/output",
          "model_name": "OutputModel",
          "model_module_version": "1.0.0",
          "state": {
            "_dom_classes": [],
            "_model_module": "@jupyter-widgets/output",
            "_model_module_version": "1.0.0",
            "_model_name": "OutputModel",
            "_view_count": null,
            "_view_module": "@jupyter-widgets/output",
            "_view_module_version": "1.0.0",
            "_view_name": "OutputView",
            "layout": "IPY_MODEL_16a54df3e76c4f9cbaf43b3ef6106896",
            "msg_id": "",
            "outputs": []
          }
        },
        "d1ada9c7971d4d8aa3459f9e123cbf8a": {
          "model_module": "@jupyter-widgets/output",
          "model_name": "OutputModel",
          "model_module_version": "1.0.0",
          "state": {
            "_dom_classes": [],
            "_model_module": "@jupyter-widgets/output",
            "_model_module_version": "1.0.0",
            "_model_name": "OutputModel",
            "_view_count": null,
            "_view_module": "@jupyter-widgets/output",
            "_view_module_version": "1.0.0",
            "_view_name": "OutputView",
            "layout": "IPY_MODEL_b398aa69604e43289b2ae8b4e07de467",
            "msg_id": "",
            "outputs": [
              {
                "output_type": "stream",
                "name": "stdout",
                "text": [
                  "Licensed to AMPL Community Edition License for the AMPL Model Colaboratory (https://ampl.com/colab).\n"
                ]
              }
            ]
          }
        },
        "741db7223c114f62b105bb8836549fc9": {
          "model_module": "@jupyter-widgets/base",
          "model_name": "LayoutModel",
          "model_module_version": "1.2.0",
          "state": {
            "_model_module": "@jupyter-widgets/base",
            "_model_module_version": "1.2.0",
            "_model_name": "LayoutModel",
            "_view_count": null,
            "_view_module": "@jupyter-widgets/base",
            "_view_module_version": "1.2.0",
            "_view_name": "LayoutView",
            "align_content": null,
            "align_items": null,
            "align_self": null,
            "border": null,
            "bottom": null,
            "display": null,
            "flex": null,
            "flex_flow": null,
            "grid_area": null,
            "grid_auto_columns": null,
            "grid_auto_flow": null,
            "grid_auto_rows": null,
            "grid_column": null,
            "grid_gap": null,
            "grid_row": null,
            "grid_template_areas": null,
            "grid_template_columns": null,
            "grid_template_rows": null,
            "height": null,
            "justify_content": null,
            "justify_items": null,
            "left": null,
            "margin": null,
            "max_height": null,
            "max_width": null,
            "min_height": null,
            "min_width": null,
            "object_fit": null,
            "object_position": null,
            "order": null,
            "overflow": null,
            "overflow_x": null,
            "overflow_y": null,
            "padding": null,
            "right": null,
            "top": null,
            "visibility": null,
            "width": null
          }
        },
        "540e003509c34bb1bff00e4bf64685cd": {
          "model_module": "@jupyter-widgets/controls",
          "model_name": "TextModel",
          "model_module_version": "1.5.0",
          "state": {
            "_dom_classes": [],
            "_model_module": "@jupyter-widgets/controls",
            "_model_module_version": "1.5.0",
            "_model_name": "TextModel",
            "_view_count": null,
            "_view_module": "@jupyter-widgets/controls",
            "_view_module_version": "1.5.0",
            "_view_name": "TextView",
            "continuous_update": true,
            "description": "License UUID:",
            "description_tooltip": null,
            "disabled": false,
            "layout": "IPY_MODEL_8e5b4e5fbfc94f1681ee22bf7eb5427e",
            "placeholder": "​",
            "style": "IPY_MODEL_813e6c18bb814145852c13077877ec62",
            "value": ""
          }
        },
        "b8ddacbe25b74cc1870b9731c903306d": {
          "model_module": "@jupyter-widgets/base",
          "model_name": "LayoutModel",
          "model_module_version": "1.2.0",
          "state": {
            "_model_module": "@jupyter-widgets/base",
            "_model_module_version": "1.2.0",
            "_model_name": "LayoutModel",
            "_view_count": null,
            "_view_module": "@jupyter-widgets/base",
            "_view_module_version": "1.2.0",
            "_view_name": "LayoutView",
            "align_content": null,
            "align_items": null,
            "align_self": null,
            "border": null,
            "bottom": null,
            "display": null,
            "flex": null,
            "flex_flow": null,
            "grid_area": null,
            "grid_auto_columns": null,
            "grid_auto_flow": null,
            "grid_auto_rows": null,
            "grid_column": null,
            "grid_gap": null,
            "grid_row": null,
            "grid_template_areas": null,
            "grid_template_columns": null,
            "grid_template_rows": null,
            "height": null,
            "justify_content": null,
            "justify_items": null,
            "left": null,
            "margin": null,
            "max_height": null,
            "max_width": null,
            "min_height": null,
            "min_width": null,
            "object_fit": null,
            "object_position": null,
            "order": null,
            "overflow": null,
            "overflow_x": null,
            "overflow_y": null,
            "padding": null,
            "right": null,
            "top": null,
            "visibility": null,
            "width": null
          }
        },
        "8e5b4e5fbfc94f1681ee22bf7eb5427e": {
          "model_module": "@jupyter-widgets/base",
          "model_name": "LayoutModel",
          "model_module_version": "1.2.0",
          "state": {
            "_model_module": "@jupyter-widgets/base",
            "_model_module_version": "1.2.0",
            "_model_name": "LayoutModel",
            "_view_count": null,
            "_view_module": "@jupyter-widgets/base",
            "_view_module_version": "1.2.0",
            "_view_name": "LayoutView",
            "align_content": null,
            "align_items": null,
            "align_self": null,
            "border": null,
            "bottom": null,
            "display": null,
            "flex": null,
            "flex_flow": null,
            "grid_area": null,
            "grid_auto_columns": null,
            "grid_auto_flow": null,
            "grid_auto_rows": null,
            "grid_column": null,
            "grid_gap": null,
            "grid_row": null,
            "grid_template_areas": null,
            "grid_template_columns": null,
            "grid_template_rows": null,
            "height": null,
            "justify_content": null,
            "justify_items": null,
            "left": null,
            "margin": null,
            "max_height": null,
            "max_width": null,
            "min_height": null,
            "min_width": null,
            "object_fit": null,
            "object_position": null,
            "order": null,
            "overflow": null,
            "overflow_x": null,
            "overflow_y": null,
            "padding": null,
            "right": null,
            "top": null,
            "visibility": null,
            "width": null
          }
        },
        "813e6c18bb814145852c13077877ec62": {
          "model_module": "@jupyter-widgets/controls",
          "model_name": "DescriptionStyleModel",
          "model_module_version": "1.5.0",
          "state": {
            "_model_module": "@jupyter-widgets/controls",
            "_model_module_version": "1.5.0",
            "_model_name": "DescriptionStyleModel",
            "_view_count": null,
            "_view_module": "@jupyter-widgets/base",
            "_view_module_version": "1.2.0",
            "_view_name": "StyleView",
            "description_width": "initial"
          }
        },
        "c1cf7514fbd14003b814eebc1fd45a7b": {
          "model_module": "@jupyter-widgets/base",
          "model_name": "LayoutModel",
          "model_module_version": "1.2.0",
          "state": {
            "_model_module": "@jupyter-widgets/base",
            "_model_module_version": "1.2.0",
            "_model_name": "LayoutModel",
            "_view_count": null,
            "_view_module": "@jupyter-widgets/base",
            "_view_module_version": "1.2.0",
            "_view_name": "LayoutView",
            "align_content": null,
            "align_items": null,
            "align_self": null,
            "border": null,
            "bottom": null,
            "display": null,
            "flex": null,
            "flex_flow": null,
            "grid_area": null,
            "grid_auto_columns": null,
            "grid_auto_flow": null,
            "grid_auto_rows": null,
            "grid_column": null,
            "grid_gap": null,
            "grid_row": null,
            "grid_template_areas": null,
            "grid_template_columns": null,
            "grid_template_rows": null,
            "height": null,
            "justify_content": null,
            "justify_items": null,
            "left": null,
            "margin": null,
            "max_height": null,
            "max_width": null,
            "min_height": null,
            "min_width": null,
            "object_fit": null,
            "object_position": null,
            "order": null,
            "overflow": null,
            "overflow_x": null,
            "overflow_y": null,
            "padding": null,
            "right": null,
            "top": null,
            "visibility": null,
            "width": null
          }
        },
        "16a54df3e76c4f9cbaf43b3ef6106896": {
          "model_module": "@jupyter-widgets/base",
          "model_name": "LayoutModel",
          "model_module_version": "1.2.0",
          "state": {
            "_model_module": "@jupyter-widgets/base",
            "_model_module_version": "1.2.0",
            "_model_name": "LayoutModel",
            "_view_count": null,
            "_view_module": "@jupyter-widgets/base",
            "_view_module_version": "1.2.0",
            "_view_name": "LayoutView",
            "align_content": null,
            "align_items": null,
            "align_self": null,
            "border": null,
            "bottom": null,
            "display": null,
            "flex": null,
            "flex_flow": null,
            "grid_area": null,
            "grid_auto_columns": null,
            "grid_auto_flow": null,
            "grid_auto_rows": null,
            "grid_column": null,
            "grid_gap": null,
            "grid_row": null,
            "grid_template_areas": null,
            "grid_template_columns": null,
            "grid_template_rows": null,
            "height": null,
            "justify_content": null,
            "justify_items": null,
            "left": null,
            "margin": null,
            "max_height": null,
            "max_width": null,
            "min_height": null,
            "min_width": null,
            "object_fit": null,
            "object_position": null,
            "order": null,
            "overflow": null,
            "overflow_x": null,
            "overflow_y": null,
            "padding": null,
            "right": null,
            "top": null,
            "visibility": null,
            "width": null
          }
        },
        "b398aa69604e43289b2ae8b4e07de467": {
          "model_module": "@jupyter-widgets/base",
          "model_name": "LayoutModel",
          "model_module_version": "1.2.0",
          "state": {
            "_model_module": "@jupyter-widgets/base",
            "_model_module_version": "1.2.0",
            "_model_name": "LayoutModel",
            "_view_count": null,
            "_view_module": "@jupyter-widgets/base",
            "_view_module_version": "1.2.0",
            "_view_name": "LayoutView",
            "align_content": null,
            "align_items": null,
            "align_self": null,
            "border": null,
            "bottom": null,
            "display": null,
            "flex": null,
            "flex_flow": null,
            "grid_area": null,
            "grid_auto_columns": null,
            "grid_auto_flow": null,
            "grid_auto_rows": null,
            "grid_column": null,
            "grid_gap": null,
            "grid_row": null,
            "grid_template_areas": null,
            "grid_template_columns": null,
            "grid_template_rows": null,
            "height": null,
            "justify_content": null,
            "justify_items": null,
            "left": null,
            "margin": null,
            "max_height": null,
            "max_width": null,
            "min_height": null,
            "min_width": null,
            "object_fit": null,
            "object_position": null,
            "order": null,
            "overflow": null,
            "overflow_x": null,
            "overflow_y": null,
            "padding": null,
            "right": null,
            "top": null,
            "visibility": null,
            "width": null
          }
        }
      }
    }
  },
  "nbformat": 4,
  "nbformat_minor": 0
}
