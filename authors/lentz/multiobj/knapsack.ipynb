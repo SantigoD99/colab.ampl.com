{
 "cells": [
  {
   "attachments": {},
   "cell_type": "markdown",
   "metadata": {
    "id": "7RjB1ipC7KbS"
   },
   "source": [
    "# Multiple-objective Knapsack Problem with amplpy\n",
    "[![bpp.ipynb](https://img.shields.io/badge/github-%23121011.svg?logo=github)](https://github.com/ampl/colab.ampl.com/blob/master/authors/lentz/multiobj/knapsack.ipynb) [![Open In Colab](https://colab.research.google.com/assets/colab-badge.svg)](https://colab.research.google.com/github/ampl/colab.ampl.com/blob/master/authors/lentz/multiobj/knapsack.ipynb) [![Open In Deepnote](https://deepnote.com/buttons/launch-in-deepnote-small.svg)](https://deepnote.com/launch?url=https://github.com/ampl/colab.ampl.com/blob/master/authors/lentz/multiobj/knapsack.ipynb) [![Open In Kaggle](https://kaggle.com/static/images/open-in-kaggle.svg)](https://kaggle.com/kernels/welcome?src=https://github.com/ampl/colab.ampl.com/blob/master/authors/lentz/multiobj/knapsack.ipynb) [![Open In Gradient](https://assets.paperspace.io/img/gradient-badge.svg)](https://console.paperspace.com/github/ampl/colab.ampl.com/blob/master/authors/lentz/multiobj/knapsack.ipynb) [![Open In SageMaker Studio Lab](https://studiolab.sagemaker.aws/studiolab.svg)](https://studiolab.sagemaker.aws/import/github/ampl/colab.ampl.com/blob/master/authors/lentz/multiobj/knapsack.ipynb) [![Powered by AMPL](https://h.ampl.com/https://github.com/ampl/colab.ampl.com/blob/master/authors/lentz/multiobj/knapsack.ipynb)](https://ampl.com)\n",
    "\n",
    "Description: Knapsack Problem using Multiple Objectives\n",
    "\n",
    "Tags: multiple-objectives, knapsack, amplpy, highlights\n",
    "\n",
    "Notebook author: Jurgen Lentz <<jurgenlentz26@gmail.com>>\n",
    "\n",
    "This notebook demonstrates how to solve a **multiple-objective knapsack problem** via `amplpy`.\n",
    "We will:\n",
    "- Set up a knapsack model with two objectives (e.g., maximize profit & minimize weight).\n",
    "- Compute the **Pareto frontier**.\n",
    "- Visualize trade-offs between objectives.\n",
    "\n",
    "By the end, you’ll understand how to use AMPL for multi-objective optimization and interpret Pareto‐optimal solutions."
   ]
  },
  {
   "cell_type": "code",
   "execution_count": 17,
   "metadata": {
    "id": "rQ50dBwL7KbX"
   },
   "outputs": [
    {
     "name": "stdout",
     "output_type": "stream",
     "text": [
      "Note: you may need to restart the kernel to use updated packages.\n"
     ]
    }
   ],
   "source": [
    "# Install dependencies\n",
    "%pip install -q amplpy"
   ]
  },
  {
   "cell_type": "code",
   "execution_count": 18,
   "metadata": {
    "colab": {
     "base_uri": "https://localhost:8080/",
     "height": 101,
     "referenced_widgets": [
      "5c52a4f288924ca8bbf5182a951af6a8",
      "5a786f2dd2584199a4001c8bebefd757",
      "9a901424b8c04687b39b5e1251ee3919",
      "fcf080abd68144728d12fa81f879d5d5",
      "b2d8e84e2f6545bc98bbaf40294b9ad8",
      "de8c25d11df34ae2b86964266defdfdc",
      "a1e4bcf9de474b4f835419c6278d4e42",
      "45de4f35c7f04c37b87cad70c3e3b224",
      "59a30522756c4d668323600e0800a022",
      "4510b5e780f24d44ace00a42c38cf6dc",
      "5bec63a60fab4e628b18b6576859f23d",
      "4cfacef2f3e44067b81ac133fe17ae5b",
      "c9f8c186dbec4424895eb43630e458f2",
      "a0a3a52262a340debb5a29ce65170164"
     ]
    },
    "id": "s7DEaRp87KbY",
    "outputId": "7ccc087a-1af8-445e-c56d-31f3371b0c38"
   },
   "outputs": [
    {
     "name": "stdout",
     "output_type": "stream",
     "text": [
      "AMPL Version 20250515 (Linux-6.8.0-1027-azure, 64-bit)\n",
      "Demo license with maintenance expiring 20270131.\n",
      "Using license file \"/home/lentz/.local/lib/python3.10/site-packages/ampl_module_base/bin/ampl.lic\".\n",
      "\n"
     ]
    }
   ],
   "source": [
    "# Google Colab & Kaggle integration\n",
    "from amplpy import AMPL, ampl_notebook\n",
    "\n",
    "ampl = ampl_notebook(\n",
    "    modules=[\"gurobi\", \"highs\", \"cbc\"],  # modules to install\n",
    "    license_uuid=\"default\",  # license to use\n",
    ")  # instantiate AMPL object and register magics"
   ]
  },
  {
   "cell_type": "markdown",
   "metadata": {},
   "source": [
    "## Instantiate the AMPL environment\n",
    "\n",
    "This cell initializes an AMPL session in amplpy, sets the solver to Gurobi but you can choose another solver (e.g., HiGHS, CBC), and activates the MP multi-objective emulation (you can set obj:multi to 1 if you want to use multi-objective functionalities of the solver)."
   ]
  },
  {
   "cell_type": "code",
   "execution_count": 19,
   "metadata": {
    "id": "aEtyesqs7KbZ"
   },
   "outputs": [],
   "source": [
    "from amplpy import AMPL\n",
    "\n",
    "# Initialize AMPL\n",
    "ampl = AMPL()\n",
    "\n",
    "ampl.setOption(\"solver\", \"gurobi\")  # or 'highs' or 'cbc'\n",
    "ampl.setOption(\"gurobi_options\", \"obj:multi=2\")  # enable lexicographic MO support"
   ]
  },
  {
   "cell_type": "markdown",
   "metadata": {},
   "source": [
    "\n",
    "We create the binary knapsack model but use two different objective functions, `TotalValue` to maximize the total profits of the items packed in knapsack and `NumItems` to minimize the number of items packed in the knapsack. The suffix `objpriority` specifies the lexicographical order of the objective functions.  "
   ]
  },
  {
   "cell_type": "code",
   "execution_count": 20,
   "metadata": {},
   "outputs": [],
   "source": [
    "%%ampl_eval\n",
    "suffix objpriority;\n",
    "suffix option_timelimit;\n",
    "suffix option_mipgap;\n",
    "\n",
    "set ITEMS;\n",
    "param weight{ITEMS};\n",
    "param value{ITEMS};\n",
    "param capacity;\n",
    "\n",
    "var x{ITEMS} binary;\n",
    "\n",
    "# Objective 1: maximize total value\n",
    "maximize TotalValue:\n",
    "    sum {i in ITEMS} value[i] * x[i]\n",
    "    suffix objpriority 2;  # highest priority\n",
    "\n",
    "# Objective 2: minimize number of items\n",
    "minimize NumItems:\n",
    "    sum {i in ITEMS} x[i]\n",
    "    suffix objpriority 1;\n",
    "\n",
    "subject to CapacityConstraint:\n",
    "    sum {i in ITEMS} weight[i] * x[i] <= capacity;"
   ]
  },
  {
   "cell_type": "markdown",
   "metadata": {},
   "source": [
    "We provide data for the set `ITEMS` and assign corresponding values to the parameters `weight`, `value`, and `capacity`."
   ]
  },
  {
   "cell_type": "code",
   "execution_count": null,
   "metadata": {},
   "outputs": [],
   "source": [
    "items = [\"item1\", \"item2\", \"item3\", \"item4\", \"item5\"]\n",
    "weights = [2, 3, 4, 5, 9]\n",
    "values = [3, 4, 8, 8, 10]\n",
    "capacity = 10\n",
    "\n",
    "ampl.set[\"ITEMS\"] = items\n",
    "ampl.param[\"weight\"] = dict(zip(items, weights))\n",
    "ampl.param[\"value\"] = dict(zip(items, values))\n",
    "ampl.param[\"capacity\"] = capacity"
   ]
  },
  {
   "cell_type": "markdown",
   "metadata": {},
   "source": [
    "You can specify options for each objective by creating a suffix in AMPL with the name starting with `option_` followed by the option name as obtained by the solver. Here, we set the `timelimit` and `mipgap` of the objective `TotalValue`."
   ]
  },
  {
   "cell_type": "code",
   "execution_count": null,
   "metadata": {},
   "outputs": [],
   "source": [
    "ampl.eval(\n",
    "    \"\"\"\n",
    "    let TotalValue.option_timelimit := 60;\n",
    "    let TotalValue.option_mipgap := 0.01;\n",
    "    \"\"\"\n",
    ")"
   ]
  },
  {
   "cell_type": "code",
   "execution_count": 23,
   "metadata": {},
   "outputs": [
    {
     "name": "stdout",
     "output_type": "stream",
     "text": [
      "Gurobi 12.0.2:   obj:multi = 2\n",
      "Gurobi 12.0.2: optimal solution; objective 16\n",
      "Individual objective values:\n",
      "\t_sobj[1] = 16\n",
      "\t_sobj[2] = 2\n",
      "0 simplex iterations\n",
      "Objective = TotalValue\n"
     ]
    }
   ],
   "source": [
    "# Solve\n",
    "ampl.solve()"
   ]
  },
  {
   "cell_type": "code",
   "execution_count": 24,
   "metadata": {},
   "outputs": [
    {
     "name": "stdout",
     "output_type": "stream",
     "text": [
      "🏅 TotalValue = 16.0\n",
      "🧩 NumItems = 2\n",
      "✅ Selected items: ['item3', 'item4']\n"
     ]
    }
   ],
   "source": [
    "# Retrieve and display results\n",
    "tv = ampl.getObjective(\"TotalValue\").value()\n",
    "ni = sum(int(ampl.getVariable(\"x\")[i].value()) for i in items)\n",
    "sel = [i for i in items if int(ampl.getVariable(\"x\")[i].value()) == 1]\n",
    "\n",
    "print(f\"🏅 TotalValue = {tv}\")\n",
    "print(f\"🧩 NumItems = {ni}\")\n",
    "print(\"✅ Selected items:\", sel)"
   ]
  }
 ],
 "metadata": {
  "colab": {
   "provenance": []
  },
  "kernelspec": {
   "display_name": "Python 3",
   "language": "python",
   "name": "python3"
  },
  "language_info": {
   "codemirror_mode": {
    "name": "ipython",
    "version": 3
   },
   "file_extension": ".py",
   "mimetype": "text/x-python",
   "name": "python",
   "nbconvert_exporter": "python",
   "pygments_lexer": "ipython3",
   "version": "3.10.12"
  },
  "widgets": {
   "application/vnd.jupyter.widget-state+json": {
    "4510b5e780f24d44ace00a42c38cf6dc": {
     "model_module": "@jupyter-widgets/controls",
     "model_module_version": "1.5.0",
     "model_name": "ButtonStyleModel",
     "state": {
      "_model_module": "@jupyter-widgets/controls",
      "_model_module_version": "1.5.0",
      "_model_name": "ButtonStyleModel",
      "_view_count": null,
      "_view_module": "@jupyter-widgets/base",
      "_view_module_version": "1.2.0",
      "_view_name": "StyleView",
      "button_color": null,
      "font_weight": ""
     }
    },
    "45de4f35c7f04c37b87cad70c3e3b224": {
     "model_module": "@jupyter-widgets/base",
     "model_module_version": "1.2.0",
     "model_name": "LayoutModel",
     "state": {
      "_model_module": "@jupyter-widgets/base",
      "_model_module_version": "1.2.0",
      "_model_name": "LayoutModel",
      "_view_count": null,
      "_view_module": "@jupyter-widgets/base",
      "_view_module_version": "1.2.0",
      "_view_name": "LayoutView",
      "align_content": null,
      "align_items": null,
      "align_self": null,
      "border": null,
      "bottom": null,
      "display": null,
      "flex": null,
      "flex_flow": null,
      "grid_area": null,
      "grid_auto_columns": null,
      "grid_auto_flow": null,
      "grid_auto_rows": null,
      "grid_column": null,
      "grid_gap": null,
      "grid_row": null,
      "grid_template_areas": null,
      "grid_template_columns": null,
      "grid_template_rows": null,
      "height": null,
      "justify_content": null,
      "justify_items": null,
      "left": null,
      "margin": null,
      "max_height": null,
      "max_width": null,
      "min_height": null,
      "min_width": null,
      "object_fit": null,
      "object_position": null,
      "order": null,
      "overflow": null,
      "overflow_x": null,
      "overflow_y": null,
      "padding": null,
      "right": null,
      "top": null,
      "visibility": null,
      "width": null
     }
    },
    "4cfacef2f3e44067b81ac133fe17ae5b": {
     "model_module": "@jupyter-widgets/controls",
     "model_module_version": "1.5.0",
     "model_name": "DescriptionStyleModel",
     "state": {
      "_model_module": "@jupyter-widgets/controls",
      "_model_module_version": "1.5.0",
      "_model_name": "DescriptionStyleModel",
      "_view_count": null,
      "_view_module": "@jupyter-widgets/base",
      "_view_module_version": "1.2.0",
      "_view_name": "StyleView",
      "description_width": ""
     }
    },
    "59a30522756c4d668323600e0800a022": {
     "model_module": "@jupyter-widgets/base",
     "model_module_version": "1.2.0",
     "model_name": "LayoutModel",
     "state": {
      "_model_module": "@jupyter-widgets/base",
      "_model_module_version": "1.2.0",
      "_model_name": "LayoutModel",
      "_view_count": null,
      "_view_module": "@jupyter-widgets/base",
      "_view_module_version": "1.2.0",
      "_view_name": "LayoutView",
      "align_content": null,
      "align_items": null,
      "align_self": null,
      "border": null,
      "bottom": null,
      "display": null,
      "flex": null,
      "flex_flow": null,
      "grid_area": null,
      "grid_auto_columns": null,
      "grid_auto_flow": null,
      "grid_auto_rows": null,
      "grid_column": null,
      "grid_gap": null,
      "grid_row": null,
      "grid_template_areas": null,
      "grid_template_columns": null,
      "grid_template_rows": null,
      "height": null,
      "justify_content": null,
      "justify_items": null,
      "left": null,
      "margin": null,
      "max_height": null,
      "max_width": null,
      "min_height": null,
      "min_width": null,
      "object_fit": null,
      "object_position": null,
      "order": null,
      "overflow": null,
      "overflow_x": null,
      "overflow_y": null,
      "padding": null,
      "right": null,
      "top": null,
      "visibility": null,
      "width": null
     }
    },
    "5a786f2dd2584199a4001c8bebefd757": {
     "model_module": "@jupyter-widgets/controls",
     "model_module_version": "1.5.0",
     "model_name": "HBoxModel",
     "state": {
      "_dom_classes": [],
      "_model_module": "@jupyter-widgets/controls",
      "_model_module_version": "1.5.0",
      "_model_name": "HBoxModel",
      "_view_count": null,
      "_view_module": "@jupyter-widgets/controls",
      "_view_module_version": "1.5.0",
      "_view_name": "HBoxView",
      "box_style": "",
      "children": [
       "IPY_MODEL_de8c25d11df34ae2b86964266defdfdc",
       "IPY_MODEL_a1e4bcf9de474b4f835419c6278d4e42"
      ],
      "layout": "IPY_MODEL_45de4f35c7f04c37b87cad70c3e3b224"
     }
    },
    "5bec63a60fab4e628b18b6576859f23d": {
     "model_module": "@jupyter-widgets/base",
     "model_module_version": "1.2.0",
     "model_name": "LayoutModel",
     "state": {
      "_model_module": "@jupyter-widgets/base",
      "_model_module_version": "1.2.0",
      "_model_name": "LayoutModel",
      "_view_count": null,
      "_view_module": "@jupyter-widgets/base",
      "_view_module_version": "1.2.0",
      "_view_name": "LayoutView",
      "align_content": null,
      "align_items": null,
      "align_self": null,
      "border": null,
      "bottom": null,
      "display": null,
      "flex": null,
      "flex_flow": null,
      "grid_area": null,
      "grid_auto_columns": null,
      "grid_auto_flow": null,
      "grid_auto_rows": null,
      "grid_column": null,
      "grid_gap": null,
      "grid_row": null,
      "grid_template_areas": null,
      "grid_template_columns": null,
      "grid_template_rows": null,
      "height": null,
      "justify_content": null,
      "justify_items": null,
      "left": null,
      "margin": null,
      "max_height": null,
      "max_width": null,
      "min_height": null,
      "min_width": null,
      "object_fit": null,
      "object_position": null,
      "order": null,
      "overflow": null,
      "overflow_x": null,
      "overflow_y": null,
      "padding": null,
      "right": null,
      "top": null,
      "visibility": null,
      "width": null
     }
    },
    "5c52a4f288924ca8bbf5182a951af6a8": {
     "model_module": "@jupyter-widgets/controls",
     "model_module_version": "1.5.0",
     "model_name": "VBoxModel",
     "state": {
      "_dom_classes": [],
      "_model_module": "@jupyter-widgets/controls",
      "_model_module_version": "1.5.0",
      "_model_name": "VBoxModel",
      "_view_count": null,
      "_view_module": "@jupyter-widgets/controls",
      "_view_module_version": "1.5.0",
      "_view_name": "VBoxView",
      "box_style": "",
      "children": [
       "IPY_MODEL_5a786f2dd2584199a4001c8bebefd757",
       "IPY_MODEL_9a901424b8c04687b39b5e1251ee3919",
       "IPY_MODEL_fcf080abd68144728d12fa81f879d5d5"
      ],
      "layout": "IPY_MODEL_b2d8e84e2f6545bc98bbaf40294b9ad8"
     }
    },
    "9a901424b8c04687b39b5e1251ee3919": {
     "model_module": "@jupyter-widgets/output",
     "model_module_version": "1.0.0",
     "model_name": "OutputModel",
     "state": {
      "_dom_classes": [],
      "_model_module": "@jupyter-widgets/output",
      "_model_module_version": "1.0.0",
      "_model_name": "OutputModel",
      "_view_count": null,
      "_view_module": "@jupyter-widgets/output",
      "_view_module_version": "1.0.0",
      "_view_name": "OutputView",
      "layout": "IPY_MODEL_c9f8c186dbec4424895eb43630e458f2",
      "msg_id": "",
      "outputs": [
       {
        "name": "stdout",
        "output_type": "stream",
        "text": [
         "Using existing license.\n"
        ]
       }
      ]
     }
    },
    "a0a3a52262a340debb5a29ce65170164": {
     "model_module": "@jupyter-widgets/base",
     "model_module_version": "1.2.0",
     "model_name": "LayoutModel",
     "state": {
      "_model_module": "@jupyter-widgets/base",
      "_model_module_version": "1.2.0",
      "_model_name": "LayoutModel",
      "_view_count": null,
      "_view_module": "@jupyter-widgets/base",
      "_view_module_version": "1.2.0",
      "_view_name": "LayoutView",
      "align_content": null,
      "align_items": null,
      "align_self": null,
      "border": null,
      "bottom": null,
      "display": null,
      "flex": null,
      "flex_flow": null,
      "grid_area": null,
      "grid_auto_columns": null,
      "grid_auto_flow": null,
      "grid_auto_rows": null,
      "grid_column": null,
      "grid_gap": null,
      "grid_row": null,
      "grid_template_areas": null,
      "grid_template_columns": null,
      "grid_template_rows": null,
      "height": null,
      "justify_content": null,
      "justify_items": null,
      "left": null,
      "margin": null,
      "max_height": null,
      "max_width": null,
      "min_height": null,
      "min_width": null,
      "object_fit": null,
      "object_position": null,
      "order": null,
      "overflow": null,
      "overflow_x": null,
      "overflow_y": null,
      "padding": null,
      "right": null,
      "top": null,
      "visibility": null,
      "width": null
     }
    },
    "a1e4bcf9de474b4f835419c6278d4e42": {
     "model_module": "@jupyter-widgets/controls",
     "model_module_version": "1.5.0",
     "model_name": "TextModel",
     "state": {
      "_dom_classes": [],
      "_model_module": "@jupyter-widgets/controls",
      "_model_module_version": "1.5.0",
      "_model_name": "TextModel",
      "_view_count": null,
      "_view_module": "@jupyter-widgets/controls",
      "_view_module_version": "1.5.0",
      "_view_name": "TextView",
      "continuous_update": true,
      "description": "UUID:",
      "description_tooltip": null,
      "disabled": false,
      "layout": "IPY_MODEL_5bec63a60fab4e628b18b6576859f23d",
      "placeholder": "​",
      "style": "IPY_MODEL_4cfacef2f3e44067b81ac133fe17ae5b",
      "value": ""
     }
    },
    "b2d8e84e2f6545bc98bbaf40294b9ad8": {
     "model_module": "@jupyter-widgets/base",
     "model_module_version": "1.2.0",
     "model_name": "LayoutModel",
     "state": {
      "_model_module": "@jupyter-widgets/base",
      "_model_module_version": "1.2.0",
      "_model_name": "LayoutModel",
      "_view_count": null,
      "_view_module": "@jupyter-widgets/base",
      "_view_module_version": "1.2.0",
      "_view_name": "LayoutView",
      "align_content": null,
      "align_items": null,
      "align_self": null,
      "border": null,
      "bottom": null,
      "display": null,
      "flex": null,
      "flex_flow": null,
      "grid_area": null,
      "grid_auto_columns": null,
      "grid_auto_flow": null,
      "grid_auto_rows": null,
      "grid_column": null,
      "grid_gap": null,
      "grid_row": null,
      "grid_template_areas": null,
      "grid_template_columns": null,
      "grid_template_rows": null,
      "height": null,
      "justify_content": null,
      "justify_items": null,
      "left": null,
      "margin": null,
      "max_height": null,
      "max_width": null,
      "min_height": null,
      "min_width": null,
      "object_fit": null,
      "object_position": null,
      "order": null,
      "overflow": null,
      "overflow_x": null,
      "overflow_y": null,
      "padding": null,
      "right": null,
      "top": null,
      "visibility": null,
      "width": null
     }
    },
    "c9f8c186dbec4424895eb43630e458f2": {
     "model_module": "@jupyter-widgets/base",
     "model_module_version": "1.2.0",
     "model_name": "LayoutModel",
     "state": {
      "_model_module": "@jupyter-widgets/base",
      "_model_module_version": "1.2.0",
      "_model_name": "LayoutModel",
      "_view_count": null,
      "_view_module": "@jupyter-widgets/base",
      "_view_module_version": "1.2.0",
      "_view_name": "LayoutView",
      "align_content": null,
      "align_items": null,
      "align_self": null,
      "border": null,
      "bottom": null,
      "display": null,
      "flex": null,
      "flex_flow": null,
      "grid_area": null,
      "grid_auto_columns": null,
      "grid_auto_flow": null,
      "grid_auto_rows": null,
      "grid_column": null,
      "grid_gap": null,
      "grid_row": null,
      "grid_template_areas": null,
      "grid_template_columns": null,
      "grid_template_rows": null,
      "height": null,
      "justify_content": null,
      "justify_items": null,
      "left": null,
      "margin": null,
      "max_height": null,
      "max_width": null,
      "min_height": null,
      "min_width": null,
      "object_fit": null,
      "object_position": null,
      "order": null,
      "overflow": null,
      "overflow_x": null,
      "overflow_y": null,
      "padding": null,
      "right": null,
      "top": null,
      "visibility": null,
      "width": null
     }
    },
    "de8c25d11df34ae2b86964266defdfdc": {
     "model_module": "@jupyter-widgets/controls",
     "model_module_version": "1.5.0",
     "model_name": "ButtonModel",
     "state": {
      "_dom_classes": [],
      "_model_module": "@jupyter-widgets/controls",
      "_model_module_version": "1.5.0",
      "_model_name": "ButtonModel",
      "_view_count": null,
      "_view_module": "@jupyter-widgets/controls",
      "_view_module_version": "1.5.0",
      "_view_name": "ButtonView",
      "button_style": "",
      "description": "Use existing license",
      "disabled": false,
      "icon": "",
      "layout": "IPY_MODEL_59a30522756c4d668323600e0800a022",
      "style": "IPY_MODEL_4510b5e780f24d44ace00a42c38cf6dc",
      "tooltip": ""
     }
    },
    "fcf080abd68144728d12fa81f879d5d5": {
     "model_module": "@jupyter-widgets/output",
     "model_module_version": "1.0.0",
     "model_name": "OutputModel",
     "state": {
      "_dom_classes": [],
      "_model_module": "@jupyter-widgets/output",
      "_model_module_version": "1.0.0",
      "_model_name": "OutputModel",
      "_view_count": null,
      "_view_module": "@jupyter-widgets/output",
      "_view_module_version": "1.0.0",
      "_view_name": "OutputView",
      "layout": "IPY_MODEL_a0a3a52262a340debb5a29ce65170164",
      "msg_id": "",
      "outputs": [
       {
        "name": "stdout",
        "output_type": "stream",
        "text": [
         "Licensed to Default AMPL Community Edition License for the AMPL Model Colaboratory.\n"
        ]
       }
      ]
     }
    }
   }
  }
 },
 "nbformat": 4,
 "nbformat_minor": 0
}
