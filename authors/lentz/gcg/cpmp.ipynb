{
  "cells": [
    {
      "attachments": {},
      "cell_type": "markdown",
      "metadata": {
        "id": "7RjB1ipC7KbS"
      },
      "source": [
        "# AMPL Capacitated p-Median Problem with GCG\n",
        "[![cpmp.ipynb](https://img.shields.io/badge/github-%23121011.svg?logo=github)](https://github.com/ampl/colab.ampl.com/blob/master/authors/lentz/gcg/cpmp.ipynb) [![Open In Colab](https://colab.research.google.com/assets/colab-badge.svg)](https://colab.research.google.com/github/ampl/colab.ampl.com/blob/master/authors/lentz/gcg/cpmp.ipynb) [![Kaggle](https://kaggle.com/static/images/open-in-kaggle.svg)](https://kaggle.com/kernels/welcome?src=https://github.com/ampl/colab.ampl.com/blob/master/authors/lentz/gcg/cpmp.ipynb) [![Gradient](https://assets.paperspace.io/img/gradient-badge.svg)](https://console.paperspace.com/github/ampl/colab.ampl.com/blob/master/authors/lentz/gcg/cpmp.ipynb) [![Open In SageMaker Studio Lab](https://studiolab.sagemaker.aws/studiolab.svg)](https://studiolab.sagemaker.aws/import/github/ampl/colab.ampl.com/blob/master/authors/lentz/gcg/cpmp.ipynb) [![Hits](https://h.ampl.com/https://github.com/ampl/colab.ampl.com/blob/master/authors/lentz/gcg/cpmp.ipynb)](https://colab.ampl.com)\n",
        "\n",
        "Description: Dantzig-Wolfe decomposition for Capacitated p-Median Problem with GCG\n",
        "\n",
        "Tags: GCG, cpmp, amplpy, dantzig-wolfe decomposition, branch-price-and-cut, highlights\n",
        "\n",
        "Notebook author: Jurgen Lentz <<jurgenlentz26@gmail.com>>"
      ]
    },
    {
      "cell_type": "code",
      "execution_count": 1,
      "metadata": {
        "id": "rQ50dBwL7KbX"
      },
      "outputs": [],
      "source": [
        "# Install dependencies\n",
        "%pip install -q amplpy"
      ]
    },
    {
      "cell_type": "code",
      "execution_count": 2,
      "metadata": {
        "colab": {
          "base_uri": "https://localhost:8080/",
          "height": 101,
          "referenced_widgets": [
            "5c52a4f288924ca8bbf5182a951af6a8",
            "5a786f2dd2584199a4001c8bebefd757",
            "9a901424b8c04687b39b5e1251ee3919",
            "fcf080abd68144728d12fa81f879d5d5",
            "b2d8e84e2f6545bc98bbaf40294b9ad8",
            "de8c25d11df34ae2b86964266defdfdc",
            "a1e4bcf9de474b4f835419c6278d4e42",
            "45de4f35c7f04c37b87cad70c3e3b224",
            "59a30522756c4d668323600e0800a022",
            "4510b5e780f24d44ace00a42c38cf6dc",
            "5bec63a60fab4e628b18b6576859f23d",
            "4cfacef2f3e44067b81ac133fe17ae5b",
            "c9f8c186dbec4424895eb43630e458f2",
            "a0a3a52262a340debb5a29ce65170164"
          ]
        },
        "id": "s7DEaRp87KbY",
        "outputId": "7ccc087a-1af8-445e-c56d-31f3371b0c38"
      },
      "outputs": [],
      "source": [
        "# Google Colab & Kaggle integration\n",
        "from amplpy import AMPL, ampl_notebook\n",
        "\n",
        "ampl = ampl_notebook(\n",
        "    modules=[\"gcg\"],  # modules to install\n",
        "    license_uuid=\"default\",  # license to use\n",
        ")  # instantiate AMPL object and register magics"
      ]
    },
    {
      "attachments": {},
      "cell_type": "markdown",
      "metadata": {
        "id": "twrd0pLo7KbZ"
      },
      "source": [
        "## Capacitated $p$-median problem"
      ]
    },
    {
      "attachments": {},
      "cell_type": "markdown",
      "metadata": {},
      "source": [
        "The goal of the capacitated $p$-median problem (CPMP) is to fix $p \\in \\mathbb{N}$ locations as medians from a given number of $n \\in \\mathbb{N}$ locations. Furthermore, we are given demands $q_{i} \\geq 0$ and capacities $Q_{i} \\geq 0$ for every location $i \\in \\{1,\\ldots,n\\}$ as well as distances $d_{ij} \\geq 0$ for each pair of locations $i,j \\in \\{1,\\ldots,n\\}$. While fixing the medians, we also assign every location $i \\in \\{1,\\ldots,n\\}$ to exactly one median such that the demands of all locations assigned to the median can be satisfied by the capacity of the median. An assignment of locations to a median is called a cluster. The overall objective is to minimize the total distance between the medians and their assigned locations.\n",
        "\n",
        "CPMP can be modeled as follows (see [Ceselli et al.](http://yalma.fime.uanl.mx/~roger/work/teaching/class_tso/docs_project/problems/CPMP/2005-nets-A%20Branch-and-Price%20Algorithm%20for%20the%20Capacitated%20p-Median%20Problem.pdf)):\n",
        "\n",
        "$$\n",
        "\\begin{aligned}\n",
        "\\text{minimize} \\quad &\\sum_{i = 1}^{n} \\sum_{j = 1}^{n} d_{i j}  x_{i j} \\\\\n",
        "\\text{subject to} \\quad &\\sum_{j = 1}^{n} x_{i j} = 1 \\quad \\forall i \\in \\{1,...,n\\} \\\\\n",
        "&\\sum_{i = 1}^{n} q_{i} x_{i j} \\leq Q_{j} y_{j} \\quad \\forall j \\in \\{1,...,n\\} \\\\\n",
        "&\\sum_{j = 1}^{n} y_{j} = p \\\\\n",
        "&x_{i j} \\in \\{0,1\\} \\quad \\forall i,j \\in \\{1,...,n\\} \\\\\n",
        "&y_{j} \\in \\{0,1\\} \\quad \\forall j \\in \\{1,...,n\\}\n",
        "\\end{aligned}\n",
        "$$"
      ]
    },
    {
      "attachments": {},
      "cell_type": "markdown",
      "metadata": {},
      "source": [
        "We will solve an CPMP instance using Dantzig-Wolfe decomposition with the GCG solver in AMPL. Therefore, we first model CPMP in AMPL (shown below)."
      ]
    },
    {
      "cell_type": "code",
      "execution_count": 3,
      "metadata": {
        "id": "aEtyesqs7KbZ"
      },
      "outputs": [],
      "source": [
        "%%ampl_eval\n",
        "param n;\n",
        "param p;\n",
        "\n",
        "set I = 1..n ordered;\n",
        "set J = 1..n ordered;\n",
        "\n",
        "param d {I,J};\n",
        "param w {I};\n",
        "param C {J};\n",
        "\n",
        "var x {I,J} binary;\n",
        "var y {J} binary;\n",
        "\n",
        "minimize Cost:  sum {i in I} sum {j in J} d[i,j] * x[i,j];\n",
        "\n",
        "subject to Allocate {i in I}:\n",
        "   sum {j in J} x[i,j] = 1;\n",
        "\n",
        "subject to Capacity {j in J}:\n",
        "   sum {i in I} w[i] * x[i,j] <= C[j] * y[j];\n",
        "\n",
        "subject to NFacilities:\n",
        "  sum{j in J} y[j] <= p;"
      ]
    },
    {
      "attachments": {},
      "cell_type": "markdown",
      "metadata": {},
      "source": [
        "We generate a small instance with 5 locations and 2 locations as medians."
      ]
    },
    {
      "cell_type": "code",
      "execution_count": 4,
      "metadata": {
        "id": "jYDiBDD_7Kba"
      },
      "outputs": [],
      "source": [
        "ampl.param[\"n\"] = 5\n",
        "ampl.param[\"p\"] = 2\n",
        "\n",
        "d = [\n",
        "    [0, 6, 54, 52, 19],\n",
        "    [6, 0, 28, 75, 61],\n",
        "    [54, 28, 0, 91, 40],\n",
        "    [52, 75, 91, 0, 28],\n",
        "    [19, 61, 40, 28, 0],\n",
        "]\n",
        "ampl.param[\"d\"] = {(i, j): d[i - 1][j - 1] for i in range(1, 6) for j in range(1, 6)}\n",
        "\n",
        "ampl.param[\"w\"] = [14, 13, 9, 15, 6]\n",
        "ampl.param[\"C\"] = [39, 39, 39, 39, 39]"
      ]
    },
    {
      "attachments": {},
      "cell_type": "markdown",
      "metadata": {
        "id": "uftSUdTh9eZY"
      },
      "source": [
        "## Automatic Mode in GCG with AMPL"
      ]
    },
    {
      "attachments": {},
      "cell_type": "markdown",
      "metadata": {},
      "source": [
        "We use AMPL to call the solver GCG to solve our CPMP instance automatically without providing any information about the Dantzig-Wolfe decomposition. Here, GCG detects different decompositions and chooses heuristically the best decomposition. Afterwards, the solver uses a branch-price-and-cut algorithm to solve it to optimality."
      ]
    },
    {
      "cell_type": "code",
      "execution_count": 5,
      "metadata": {
        "colab": {
          "base_uri": "https://localhost:8080/"
        },
        "id": "j6pPuSOi8nPH",
        "outputId": "096f397f-7680-4a1e-f3f3-e5126edfc931"
      },
      "outputs": [
        {
          "name": "stdout",
          "output_type": "stream",
          "text": [
            "GCG 4.0.0:   tech:outlev = 1\n",
            "presolving:\n",
            "(round 1, exhaustive) 0 del vars, 0 del conss, 0 add conss, 0 chg bounds, 0 chg sides, 0 chg coeffs, 10 upgd conss, 0 impls, 5 clqs\n",
            "(round 2, exhaustive) 0 del vars, 0 del conss, 0 add conss, 0 chg bounds, 0 chg sides, 0 chg coeffs, 11 upgd conss, 0 impls, 30 clqs\n",
            "   (0.0s) probing cycle finished: starting next cycle\n",
            "presolving (3 rounds: 3 fast, 3 medium, 3 exhaustive):\n",
            " 0 deleted vars, 0 deleted constraints, 0 added constraints, 0 tightened bounds, 0 added holes, 0 changed sides, 0 changed coefficients\n",
            " 0 implications, 30 cliques\n",
            "presolved problem has 30 variables (30 bin, 0 int, 0 impl, 0 cont) and 11 constraints\n",
            "      6 constraints of type <knapsack>\n",
            "      5 constraints of type <setppc>\n",
            "transformed objective value is always integral (scale: 1)\n",
            "Presolving Time: 0.00\n",
            " Consclassifier \"nonzeros\" yields a classification with 2  different constraint classes \n",
            " Consclassifier \"constypes\" yields a classification with 2 different constraint classes \n",
            " Consclassifier \"constypes according to miplib\" yields a classification with 3 different constraint classes \n",
            " Consclassifier \"gamsdomain\" yields a classification with 1  different constraint classes \n",
            " Consclassifier \"gamssymbols\" yields a classification with 1  different constraint classes \n",
            " Conspartition \"gamssymbols\" is not considered since it offers the same structure as \"gamsdomain\" conspartition\n",
            " Varclassifier \"gamsdomain\" yields a classification with 1  different variable classes \n",
            " Varclassifier \"gamssymbols\" yields a classification with 1  different variable classes \n",
            " Varpartition \"gamssymbols\" is not considered since it offers the same structure as \"gamsdomain\"\n",
            " Varclassifier \"vartypes\" yields a classification with 1 different variable classes\n",
            " Varpartition \"vartypes\" is not considered since it offers the same structure as \"gamsdomain\"\n",
            " Varclassifier \"varobjvals\" yields a classification with 10 different variable classes\n",
            " Varclassifier \"varobjvalsigns\" yields a classification with 2 different variable classes\n",
            " Added reduced version of varpartition varobjvals with 9 different variable classes\n",
            " in dec_consclass: there are 4 different constraint classes   \n",
            "  the current constraint classifier \"nonzeros\" consists of 2 different classes   \n",
            "  the current constraint classifier \"constypes\" consists of 2 different classes   \n",
            "  the current constraint classifier \"constypes according to miplib\" consists of 3 different classes   \n",
            "  the current constraint classifier \"gamsdomain\" consists of 1 different classes   \n",
            " dec_consclass found 14 new partialdecs \n",
            "dec_densemasterconss found 1 new partialdec \n",
            "dec_neighborhoodmaster found 1 new partialdec \n",
            " the current varclass distribution includes 10 classes but only 9 are allowed for propagatePartialdec() of var class detector\n",
            "POSTPROCESSING of decompositions. Added 0 new decomps. \n",
            "Found 521 finished decompositions.\n",
            "Measured running time per detector:\n",
            "Detector consclass                 worked on        7 finished decompositions and took a total time of      0.000\n",
            "Detector neighborhoodmaster        worked on        1 finished decompositions and took a total time of      0.000\n",
            "Detector connectedbase             worked on      520 finished decompositions and took a total time of      0.003\n",
            "Detector varclass                  worked on      512 finished decompositions and took a total time of      0.002\n",
            "Detection Time: 0.02\n",
            "\n",
            "A Dantzig-Wolfe reformulation is applied to solve the original problem.\n",
            "Chosen structure has 6 blocks and 5 linking constraints.\n",
            "This decomposition has a maxwhite score of 0.454545.\n",
            "Matrix has 6 blocks, using 6 pricing problems.\n",
            "\n",
            "  time | node  | left  |SLP iter|MLP iter|LP it/n| mem |mdpt |ovars|mvars|ocons|mcons|mcuts|  dualbound   | primalbound  |  deg   |  gap   \n",
            "p  0.0s|     1 |     0 |      0 |      0 |     - |3798k|   0 |  30 |   0 |  12 |   0 |   0 | 0.000000e+00 | 1.480000e+02 |   --   |    Inf \n",
            "p  0.0s|     1 |     0 |      0 |      0 |     - |3799k|   0 |  30 |   0 |  12 |   0 |   0 | 0.000000e+00 | 8.800000e+01 |   --   |    Inf \n",
            "p  0.0s|     1 |     0 |      0 |      0 |     - |3797k|   0 |  30 |   0 |  12 |   0 |   0 | 0.000000e+00 | 6.200000e+01 |   --   |    Inf \n",
            "   0.0s|     1 |     0 |      0 |      0 |     - |3793k|   0 |  30 |   0 |  12 |   0 |   0 | 0.000000e+00 | 6.200000e+01 |   --   |    Inf \n",
            "\n",
            "     \n",
            "   0.0s|     1 |     0 |      0 |      0 |     - |3857k|   0 |  30 |   6 |  12 |  12 |   0 | 0.000000e+00 | 6.200000e+01 |   0.00%|    Inf \n",
            "   0.0s|     1 |     0 |      0 |      0 |     - |3886k|   0 |  30 |  18 |  12 |  12 |   0 | 0.000000e+00 | 6.200000e+01 |   0.00%|    Inf \n",
            "Starting reduced cost pricing...\n",
            "   0.0s|     1 |     0 |     14 |     14 |     - |3899k|   0 |  30 |  21 |  12 |  12 |   0 | 0.000000e+00 | 6.200000e+01 |   9.09%|    Inf \n",
            "   0.0s|     1 |     0 |     26 |     26 |     - |3923k|   0 |  30 |  22 |  12 |  12 |   3 | 0.000000e+00 | 6.200000e+01 |   6.06%|    Inf \n",
            "   0.0s|     1 |     0 |     28 |     28 |     - |3929k|   0 |  30 |  24 |  12 |  12 |   3 | 3.542308e+01 | 6.200000e+01 |   5.41%|  75.03%\n",
            "   0.0s|     1 |     0 |     31 |     31 |     - |3943k|   0 |  30 |  24 |  12 |  12 |   4 | 3.979412e+01 | 6.200000e+01 |   5.59%|  55.80%\n",
            "   0.0s|     1 |     0 |     32 |     32 |     - |3954k|   0 |  30 |  24 |  12 |  12 |   5 | 4.047059e+01 | 6.200000e+01 |   4.89%|  53.20%\n",
            "   0.0s|     1 |     0 |     33 |     33 |     - |3961k|   0 |  30 |  24 |  12 |  12 |   6 | 4.047059e+01 | 6.200000e+01 |   4.89%|  53.20%\n",
            "   0.0s|     1 |     0 |     33 |     33 |     - |3994k|   0 |  30 |  24 |  12 |  12 |   6 | 6.200000e+01 | 6.200000e+01 |   --   |   0.00%\n",
            "\n",
            "SCIP Status        : problem is solved [optimal solution found]\n",
            "Solving Time (sec) : 0.05\n",
            "Solving Nodes      : 1\n",
            "Primal Bound       : +6.20000000000000e+01 (5 solutions)\n",
            "Dual Bound         : +6.20000000000000e+01\n",
            "Gap                : 0.00 %\n",
            "WARNING: Dual information only available for pure LPs (only continuous variables).\n",
            "GCG 4.0.0: optimal solution; objective 62\n",
            "10 simplex iterations\n",
            "1 branching nodes\n"
          ]
        }
      ],
      "source": [
        "ampl.solve(solver=\"gcg\", gcg_options=\"outlev=1\")\n",
        "assert ampl.solve_result == \"solved\""
      ]
    },
    {
      "attachments": {},
      "cell_type": "markdown",
      "metadata": {
        "id": "6Xb28Bg7ODqV"
      },
      "source": [
        "## Using a custom decomposition in GCG with AMPL"
      ]
    },
    {
      "attachments": {},
      "cell_type": "markdown",
      "metadata": {},
      "source": [
        "AMPL allows the users to create their own decomposition and forwards it to GCG using suffixes. Here, we assign the allocation and pmedian constraints to the master/linking constraints and each capacity constraint to a different pricing problem."
      ]
    },
    {
      "cell_type": "code",
      "execution_count": 6,
      "metadata": {
        "colab": {
          "base_uri": "https://localhost:8080/",
          "height": 300
        },
        "id": "CY0IJakEOG7u",
        "outputId": "e104ffdd-3030-4783-c13c-e7d926e546f2"
      },
      "outputs": [],
      "source": [
        "%%ampl_eval\n",
        "\n",
        "suffix master IN, binary;\n",
        "suffix block IN, integer;\n",
        "\n",
        "let {i in I}\n",
        "   Allocate[i].master := 1;\n",
        "\n",
        "let NFacilities.master := 1;\n",
        "\n",
        "let {j in J}\n",
        "   Capacity[j].block := j;"
      ]
    },
    {
      "cell_type": "code",
      "execution_count": 7,
      "metadata": {},
      "outputs": [
        {
          "name": "stdout",
          "output_type": "stream",
          "text": [
            "GCG 4.0.0:   tech:outlev = 1\n",
            " added complete decomp for original problem with 5 blocks and 6 masterconss, 0 linkingvars, 0 mastervars, and max white score of   0.363636 \n",
            "presolving:\n",
            "(round 1, exhaustive) 0 del vars, 0 del conss, 0 add conss, 0 chg bounds, 0 chg sides, 0 chg coeffs, 10 upgd conss, 0 impls, 5 clqs\n",
            "(round 2, exhaustive) 0 del vars, 0 del conss, 0 add conss, 0 chg bounds, 0 chg sides, 0 chg coeffs, 11 upgd conss, 0 impls, 30 clqs\n",
            "   (0.0s) probing cycle finished: starting next cycle\n",
            "presolving (3 rounds: 3 fast, 3 medium, 3 exhaustive):\n",
            " 0 deleted vars, 0 deleted constraints, 0 added constraints, 0 tightened bounds, 0 added holes, 0 changed sides, 0 changed coefficients\n",
            " 0 implications, 30 cliques\n",
            "presolved problem has 30 variables (30 bin, 0 int, 0 impl, 0 cont) and 11 constraints\n",
            "      6 constraints of type <knapsack>\n",
            "      5 constraints of type <setppc>\n",
            "transformed objective value is always integral (scale: 1)\n",
            "Presolving Time: 0.00\n",
            " calculated translation; number of missing constraints: 0; number of other partialdecs: 1 \n",
            "Preexisting decomposition found. Solution process started...\n",
            "\n",
            "A Dantzig-Wolfe reformulation is applied to solve the original problem.\n",
            "Chosen structure has 5 blocks and 6 linking constraints.\n",
            "This decomposition has a maxwhite score of 0.363636.\n",
            "Matrix has 5 blocks, using 5 pricing problems.\n",
            "\n",
            "  time | node  | left  |SLP iter|MLP iter|LP it/n| mem |mdpt |ovars|mvars|ocons|mcons|mcuts|  dualbound   | primalbound  |  deg   |  gap   \n",
            "p  0.0s|     1 |     0 |      0 |      0 |     - |2766k|   0 |  30 |   0 |  12 |   0 |   0 | 0.000000e+00 | 1.480000e+02 |   --   |    Inf \n",
            "p  0.0s|     1 |     0 |      0 |      0 |     - |2767k|   0 |  30 |   0 |  12 |   0 |   0 | 0.000000e+00 | 8.800000e+01 |   --   |    Inf \n",
            "p  0.0s|     1 |     0 |      0 |      0 |     - |2765k|   0 |  30 |   0 |  12 |   0 |   0 | 0.000000e+00 | 6.200000e+01 |   --   |    Inf \n",
            "   0.0s|     1 |     0 |      0 |      0 |     - |2761k|   0 |  30 |   0 |  12 |   0 |   0 | 0.000000e+00 | 6.200000e+01 |   --   |    Inf \n",
            "\n",
            "     \n",
            "   0.0s|     1 |     0 |      0 |      0 |     - |2825k|   0 |  30 |   5 |  12 |  12 |   0 | 0.000000e+00 | 6.200000e+01 |   0.00%|    Inf \n",
            "   0.0s|     1 |     0 |      0 |      0 |     - |2850k|   0 |  30 |  15 |  12 |  12 |   0 | 0.000000e+00 | 6.200000e+01 |   0.00%|    Inf \n",
            "Starting reduced cost pricing...\n",
            "   0.0s|     1 |     0 |     16 |     16 |     - |2888k|   0 |  30 |  26 |  12 |  12 |   0 | 6.200000e+01 | 6.200000e+01 |  54.55%|   0.00%\n",
            "   0.0s|     1 |     0 |     16 |     16 |     - |2862k|   0 |  30 |  15 |  12 |  12 |   0 | 6.200000e+01 | 6.200000e+01 |   --   |   0.00%\n",
            "\n",
            "SCIP Status        : problem is solved [optimal solution found]\n",
            "Solving Time (sec) : 0.01\n",
            "Solving Nodes      : 1\n",
            "Primal Bound       : +6.20000000000000e+01 (3 solutions)\n",
            "Dual Bound         : +6.20000000000000e+01\n",
            "Gap                : 0.00 %\n",
            "WARNING: Dual information only available for pure LPs (only continuous variables).\n",
            "GCG 4.0.0: optimal solution; objective 62\n",
            "10 simplex iterations\n",
            "1 branching nodes\n"
          ]
        }
      ],
      "source": [
        "ampl.solve()\n",
        "assert ampl.solve_result == \"solved\""
      ]
    },
    {
      "attachments": {},
      "cell_type": "markdown",
      "metadata": {},
      "source": [
        "Analogously, the user can fix constraints as pricing block or master constraint and variables as pricing block, master or linking variables. It is not needed to provide a complete decomposition. If the user provides a partial decomposition, GCG completes the decomposition by fixing only the left constraints and variables using its detection loop.\n",
        "\n",
        "**_NOTE:_**  The index of pricing block constraints/variables starts at 1."
      ]
    }
  ],
  "metadata": {
    "colab": {
      "provenance": []
    },
    "kernelspec": {
      "display_name": ".venv",
      "language": "python",
      "name": "python3"
    },
    "language_info": {
      "codemirror_mode": {
        "name": "ipython",
        "version": 3
      },
      "file_extension": ".py",
      "mimetype": "text/x-python",
      "name": "python",
      "nbconvert_exporter": "python",
      "pygments_lexer": "ipython3",
      "version": "3.10.12"
    },
    "widgets": {
      "application/vnd.jupyter.widget-state+json": {
        "4510b5e780f24d44ace00a42c38cf6dc": {
          "model_module": "@jupyter-widgets/controls",
          "model_module_version": "1.5.0",
          "model_name": "ButtonStyleModel",
          "state": {
            "_model_module": "@jupyter-widgets/controls",
            "_model_module_version": "1.5.0",
            "_model_name": "ButtonStyleModel",
            "_view_count": null,
            "_view_module": "@jupyter-widgets/base",
            "_view_module_version": "1.2.0",
            "_view_name": "StyleView",
            "button_color": null,
            "font_weight": ""
          }
        },
        "45de4f35c7f04c37b87cad70c3e3b224": {
          "model_module": "@jupyter-widgets/base",
          "model_module_version": "1.2.0",
          "model_name": "LayoutModel",
          "state": {
            "_model_module": "@jupyter-widgets/base",
            "_model_module_version": "1.2.0",
            "_model_name": "LayoutModel",
            "_view_count": null,
            "_view_module": "@jupyter-widgets/base",
            "_view_module_version": "1.2.0",
            "_view_name": "LayoutView",
            "align_content": null,
            "align_items": null,
            "align_self": null,
            "border": null,
            "bottom": null,
            "display": null,
            "flex": null,
            "flex_flow": null,
            "grid_area": null,
            "grid_auto_columns": null,
            "grid_auto_flow": null,
            "grid_auto_rows": null,
            "grid_column": null,
            "grid_gap": null,
            "grid_row": null,
            "grid_template_areas": null,
            "grid_template_columns": null,
            "grid_template_rows": null,
            "height": null,
            "justify_content": null,
            "justify_items": null,
            "left": null,
            "margin": null,
            "max_height": null,
            "max_width": null,
            "min_height": null,
            "min_width": null,
            "object_fit": null,
            "object_position": null,
            "order": null,
            "overflow": null,
            "overflow_x": null,
            "overflow_y": null,
            "padding": null,
            "right": null,
            "top": null,
            "visibility": null,
            "width": null
          }
        },
        "4cfacef2f3e44067b81ac133fe17ae5b": {
          "model_module": "@jupyter-widgets/controls",
          "model_module_version": "1.5.0",
          "model_name": "DescriptionStyleModel",
          "state": {
            "_model_module": "@jupyter-widgets/controls",
            "_model_module_version": "1.5.0",
            "_model_name": "DescriptionStyleModel",
            "_view_count": null,
            "_view_module": "@jupyter-widgets/base",
            "_view_module_version": "1.2.0",
            "_view_name": "StyleView",
            "description_width": ""
          }
        },
        "59a30522756c4d668323600e0800a022": {
          "model_module": "@jupyter-widgets/base",
          "model_module_version": "1.2.0",
          "model_name": "LayoutModel",
          "state": {
            "_model_module": "@jupyter-widgets/base",
            "_model_module_version": "1.2.0",
            "_model_name": "LayoutModel",
            "_view_count": null,
            "_view_module": "@jupyter-widgets/base",
            "_view_module_version": "1.2.0",
            "_view_name": "LayoutView",
            "align_content": null,
            "align_items": null,
            "align_self": null,
            "border": null,
            "bottom": null,
            "display": null,
            "flex": null,
            "flex_flow": null,
            "grid_area": null,
            "grid_auto_columns": null,
            "grid_auto_flow": null,
            "grid_auto_rows": null,
            "grid_column": null,
            "grid_gap": null,
            "grid_row": null,
            "grid_template_areas": null,
            "grid_template_columns": null,
            "grid_template_rows": null,
            "height": null,
            "justify_content": null,
            "justify_items": null,
            "left": null,
            "margin": null,
            "max_height": null,
            "max_width": null,
            "min_height": null,
            "min_width": null,
            "object_fit": null,
            "object_position": null,
            "order": null,
            "overflow": null,
            "overflow_x": null,
            "overflow_y": null,
            "padding": null,
            "right": null,
            "top": null,
            "visibility": null,
            "width": null
          }
        },
        "5a786f2dd2584199a4001c8bebefd757": {
          "model_module": "@jupyter-widgets/controls",
          "model_module_version": "1.5.0",
          "model_name": "HBoxModel",
          "state": {
            "_dom_classes": [],
            "_model_module": "@jupyter-widgets/controls",
            "_model_module_version": "1.5.0",
            "_model_name": "HBoxModel",
            "_view_count": null,
            "_view_module": "@jupyter-widgets/controls",
            "_view_module_version": "1.5.0",
            "_view_name": "HBoxView",
            "box_style": "",
            "children": [
              "IPY_MODEL_de8c25d11df34ae2b86964266defdfdc",
              "IPY_MODEL_a1e4bcf9de474b4f835419c6278d4e42"
            ],
            "layout": "IPY_MODEL_45de4f35c7f04c37b87cad70c3e3b224"
          }
        },
        "5bec63a60fab4e628b18b6576859f23d": {
          "model_module": "@jupyter-widgets/base",
          "model_module_version": "1.2.0",
          "model_name": "LayoutModel",
          "state": {
            "_model_module": "@jupyter-widgets/base",
            "_model_module_version": "1.2.0",
            "_model_name": "LayoutModel",
            "_view_count": null,
            "_view_module": "@jupyter-widgets/base",
            "_view_module_version": "1.2.0",
            "_view_name": "LayoutView",
            "align_content": null,
            "align_items": null,
            "align_self": null,
            "border": null,
            "bottom": null,
            "display": null,
            "flex": null,
            "flex_flow": null,
            "grid_area": null,
            "grid_auto_columns": null,
            "grid_auto_flow": null,
            "grid_auto_rows": null,
            "grid_column": null,
            "grid_gap": null,
            "grid_row": null,
            "grid_template_areas": null,
            "grid_template_columns": null,
            "grid_template_rows": null,
            "height": null,
            "justify_content": null,
            "justify_items": null,
            "left": null,
            "margin": null,
            "max_height": null,
            "max_width": null,
            "min_height": null,
            "min_width": null,
            "object_fit": null,
            "object_position": null,
            "order": null,
            "overflow": null,
            "overflow_x": null,
            "overflow_y": null,
            "padding": null,
            "right": null,
            "top": null,
            "visibility": null,
            "width": null
          }
        },
        "5c52a4f288924ca8bbf5182a951af6a8": {
          "model_module": "@jupyter-widgets/controls",
          "model_module_version": "1.5.0",
          "model_name": "VBoxModel",
          "state": {
            "_dom_classes": [],
            "_model_module": "@jupyter-widgets/controls",
            "_model_module_version": "1.5.0",
            "_model_name": "VBoxModel",
            "_view_count": null,
            "_view_module": "@jupyter-widgets/controls",
            "_view_module_version": "1.5.0",
            "_view_name": "VBoxView",
            "box_style": "",
            "children": [
              "IPY_MODEL_5a786f2dd2584199a4001c8bebefd757",
              "IPY_MODEL_9a901424b8c04687b39b5e1251ee3919",
              "IPY_MODEL_fcf080abd68144728d12fa81f879d5d5"
            ],
            "layout": "IPY_MODEL_b2d8e84e2f6545bc98bbaf40294b9ad8"
          }
        },
        "9a901424b8c04687b39b5e1251ee3919": {
          "model_module": "@jupyter-widgets/output",
          "model_module_version": "1.0.0",
          "model_name": "OutputModel",
          "state": {
            "_dom_classes": [],
            "_model_module": "@jupyter-widgets/output",
            "_model_module_version": "1.0.0",
            "_model_name": "OutputModel",
            "_view_count": null,
            "_view_module": "@jupyter-widgets/output",
            "_view_module_version": "1.0.0",
            "_view_name": "OutputView",
            "layout": "IPY_MODEL_c9f8c186dbec4424895eb43630e458f2",
            "msg_id": "",
            "outputs": [
              {
                "name": "stdout",
                "output_type": "stream",
                "text": [
                  "Using existing license.\n"
                ]
              }
            ]
          }
        },
        "a0a3a52262a340debb5a29ce65170164": {
          "model_module": "@jupyter-widgets/base",
          "model_module_version": "1.2.0",
          "model_name": "LayoutModel",
          "state": {
            "_model_module": "@jupyter-widgets/base",
            "_model_module_version": "1.2.0",
            "_model_name": "LayoutModel",
            "_view_count": null,
            "_view_module": "@jupyter-widgets/base",
            "_view_module_version": "1.2.0",
            "_view_name": "LayoutView",
            "align_content": null,
            "align_items": null,
            "align_self": null,
            "border": null,
            "bottom": null,
            "display": null,
            "flex": null,
            "flex_flow": null,
            "grid_area": null,
            "grid_auto_columns": null,
            "grid_auto_flow": null,
            "grid_auto_rows": null,
            "grid_column": null,
            "grid_gap": null,
            "grid_row": null,
            "grid_template_areas": null,
            "grid_template_columns": null,
            "grid_template_rows": null,
            "height": null,
            "justify_content": null,
            "justify_items": null,
            "left": null,
            "margin": null,
            "max_height": null,
            "max_width": null,
            "min_height": null,
            "min_width": null,
            "object_fit": null,
            "object_position": null,
            "order": null,
            "overflow": null,
            "overflow_x": null,
            "overflow_y": null,
            "padding": null,
            "right": null,
            "top": null,
            "visibility": null,
            "width": null
          }
        },
        "a1e4bcf9de474b4f835419c6278d4e42": {
          "model_module": "@jupyter-widgets/controls",
          "model_module_version": "1.5.0",
          "model_name": "TextModel",
          "state": {
            "_dom_classes": [],
            "_model_module": "@jupyter-widgets/controls",
            "_model_module_version": "1.5.0",
            "_model_name": "TextModel",
            "_view_count": null,
            "_view_module": "@jupyter-widgets/controls",
            "_view_module_version": "1.5.0",
            "_view_name": "TextView",
            "continuous_update": true,
            "description": "UUID:",
            "description_tooltip": null,
            "disabled": false,
            "layout": "IPY_MODEL_5bec63a60fab4e628b18b6576859f23d",
            "placeholder": "​",
            "style": "IPY_MODEL_4cfacef2f3e44067b81ac133fe17ae5b",
            "value": ""
          }
        },
        "b2d8e84e2f6545bc98bbaf40294b9ad8": {
          "model_module": "@jupyter-widgets/base",
          "model_module_version": "1.2.0",
          "model_name": "LayoutModel",
          "state": {
            "_model_module": "@jupyter-widgets/base",
            "_model_module_version": "1.2.0",
            "_model_name": "LayoutModel",
            "_view_count": null,
            "_view_module": "@jupyter-widgets/base",
            "_view_module_version": "1.2.0",
            "_view_name": "LayoutView",
            "align_content": null,
            "align_items": null,
            "align_self": null,
            "border": null,
            "bottom": null,
            "display": null,
            "flex": null,
            "flex_flow": null,
            "grid_area": null,
            "grid_auto_columns": null,
            "grid_auto_flow": null,
            "grid_auto_rows": null,
            "grid_column": null,
            "grid_gap": null,
            "grid_row": null,
            "grid_template_areas": null,
            "grid_template_columns": null,
            "grid_template_rows": null,
            "height": null,
            "justify_content": null,
            "justify_items": null,
            "left": null,
            "margin": null,
            "max_height": null,
            "max_width": null,
            "min_height": null,
            "min_width": null,
            "object_fit": null,
            "object_position": null,
            "order": null,
            "overflow": null,
            "overflow_x": null,
            "overflow_y": null,
            "padding": null,
            "right": null,
            "top": null,
            "visibility": null,
            "width": null
          }
        },
        "c9f8c186dbec4424895eb43630e458f2": {
          "model_module": "@jupyter-widgets/base",
          "model_module_version": "1.2.0",
          "model_name": "LayoutModel",
          "state": {
            "_model_module": "@jupyter-widgets/base",
            "_model_module_version": "1.2.0",
            "_model_name": "LayoutModel",
            "_view_count": null,
            "_view_module": "@jupyter-widgets/base",
            "_view_module_version": "1.2.0",
            "_view_name": "LayoutView",
            "align_content": null,
            "align_items": null,
            "align_self": null,
            "border": null,
            "bottom": null,
            "display": null,
            "flex": null,
            "flex_flow": null,
            "grid_area": null,
            "grid_auto_columns": null,
            "grid_auto_flow": null,
            "grid_auto_rows": null,
            "grid_column": null,
            "grid_gap": null,
            "grid_row": null,
            "grid_template_areas": null,
            "grid_template_columns": null,
            "grid_template_rows": null,
            "height": null,
            "justify_content": null,
            "justify_items": null,
            "left": null,
            "margin": null,
            "max_height": null,
            "max_width": null,
            "min_height": null,
            "min_width": null,
            "object_fit": null,
            "object_position": null,
            "order": null,
            "overflow": null,
            "overflow_x": null,
            "overflow_y": null,
            "padding": null,
            "right": null,
            "top": null,
            "visibility": null,
            "width": null
          }
        },
        "de8c25d11df34ae2b86964266defdfdc": {
          "model_module": "@jupyter-widgets/controls",
          "model_module_version": "1.5.0",
          "model_name": "ButtonModel",
          "state": {
            "_dom_classes": [],
            "_model_module": "@jupyter-widgets/controls",
            "_model_module_version": "1.5.0",
            "_model_name": "ButtonModel",
            "_view_count": null,
            "_view_module": "@jupyter-widgets/controls",
            "_view_module_version": "1.5.0",
            "_view_name": "ButtonView",
            "button_style": "",
            "description": "Use existing license",
            "disabled": false,
            "icon": "",
            "layout": "IPY_MODEL_59a30522756c4d668323600e0800a022",
            "style": "IPY_MODEL_4510b5e780f24d44ace00a42c38cf6dc",
            "tooltip": ""
          }
        },
        "fcf080abd68144728d12fa81f879d5d5": {
          "model_module": "@jupyter-widgets/output",
          "model_module_version": "1.0.0",
          "model_name": "OutputModel",
          "state": {
            "_dom_classes": [],
            "_model_module": "@jupyter-widgets/output",
            "_model_module_version": "1.0.0",
            "_model_name": "OutputModel",
            "_view_count": null,
            "_view_module": "@jupyter-widgets/output",
            "_view_module_version": "1.0.0",
            "_view_name": "OutputView",
            "layout": "IPY_MODEL_a0a3a52262a340debb5a29ce65170164",
            "msg_id": "",
            "outputs": [
              {
                "name": "stdout",
                "output_type": "stream",
                "text": [
                  "Licensed to Default AMPL Community Edition License for the AMPL Model Colaboratory.\n"
                ]
              }
            ]
          }
        }
      }
    }
  },
  "nbformat": 4,
  "nbformat_minor": 0
}
