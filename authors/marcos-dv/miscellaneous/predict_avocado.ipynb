{
 "cells": [
  {
   "cell_type": "markdown",
   "metadata": {},
   "source": [
    "# Predicting and Optimizing Avocado Sales with Python + Amplpy\n",
    "[![predict_avocado.ipynb](https://img.shields.io/badge/github-%23121011.svg?logo=github)](https://github.com/ampl/colab.ampl.com/blob/master/authors/marcos-dv/miscellaneous/predict_avocado.ipynb) [![Open In Colab](https://colab.research.google.com/assets/colab-badge.svg)](https://colab.research.google.com/github/ampl/colab.ampl.com/blob/master/authors/marcos-dv/miscellaneous/predict_avocado.ipynb) [![Open In Deepnote](https://deepnote.com/buttons/launch-in-deepnote-small.svg)](https://deepnote.com/launch?url=https://github.com/ampl/colab.ampl.com/blob/master/authors/marcos-dv/miscellaneous/predict_avocado.ipynb) [![Open In Kaggle](https://kaggle.com/static/images/open-in-kaggle.svg)](https://kaggle.com/kernels/welcome?src=https://github.com/ampl/colab.ampl.com/blob/master/authors/marcos-dv/miscellaneous/predict_avocado.ipynb) [![Open In Gradient](https://assets.paperspace.io/img/gradient-badge.svg)](https://console.paperspace.com/github/ampl/colab.ampl.com/blob/master/authors/marcos-dv/miscellaneous/predict_avocado.ipynb) [![Open In SageMaker Studio Lab](https://studiolab.sagemaker.aws/studiolab.svg)](https://studiolab.sagemaker.aws/import/github/ampl/colab.ampl.com/blob/master/authors/marcos-dv/miscellaneous/predict_avocado.ipynb) [![Powered by AMPL](https://h.ampl.com/https://github.com/ampl/colab.ampl.com/blob/master/authors/marcos-dv/miscellaneous/predict_avocado.ipynb)](https://ampl.com)\n",
    "\n",
    "Description: In this notebook, we explore a real-world example of demand estimation and supply optimization using a Kaggle dataset on avocado sales. We start by training a machine learning model to estimate demand and then formulate and solve an optimization model in AMPL to maximize revenue while minimizing waste and transportation costs.\n",
    "\n",
    "Tags: scikit-learn, machine-learning, price-prediction, forecast, gurobi, amplpy, kaggle\n",
    "\n",
    "Notebook author: Marcos Dominguez Velad <<marcos@ampl.com>>\n",
    "\n",
    "Model author: N/A"
   ]
  },
  {
   "cell_type": "code",
   "execution_count": null,
   "metadata": {
    "colab": {
     "base_uri": "https://localhost:8080/"
    },
    "id": "PISixqT1Y-Nx",
    "outputId": "95de3f22-fe57-4a77-822b-66f10c55160d"
   },
   "outputs": [],
   "source": [
    "!pip install -q numpy pandas scikit-learn amplpy"
   ]
  },
  {
   "cell_type": "code",
   "execution_count": null,
   "metadata": {},
   "outputs": [],
   "source": [
    "# Google Colab & Kaggle integration\n",
    "from amplpy import AMPL, ampl_notebook\n",
    "\n",
    "ampl = ampl_notebook(\n",
    "    modules=[\"gurobi\"],  # modules to install\n",
    "    license_uuid=\"default\",  # license to use\n",
    ")  # instantiate AMPL object and register magics"
   ]
  },
  {
   "cell_type": "markdown",
   "metadata": {},
   "source": [
    "### 🔍 Step 1: Clean, Load and Prepare the Data\n",
    "\n",
    "We begin by loading a dataset from [Kaggle](https://www.kaggle.com/datasets/neuromusic/avocado-prices), which contains historical data on **avocado prices and sales volumes** across various U.S. regions. This dataset is widely used for time-series analysis and demand forecasting.\n",
    "\n",
    "Our focus is on **conventional avocados** (as opposed to organic) sold in three selected regions:\n",
    "\n",
    "* Albany\n",
    "* Northeast\n",
    "* SouthCentral\n",
    "\n",
    "To prepare the data for modeling, we:\n",
    "\n",
    "* Clean column names to avoid formatting issues\n",
    "* Filter the dataset to include only conventional avocados in the selected regions\n",
    "* Convert the `Date` column to datetime format and extract the **month**\n",
    "* Add a binary `peak` indicator for peak demand months (November, December, January)\n",
    "* Create a **year index** (e.g., 2015 → 0, 2016 → 1, etc.)\n",
    "* Encode `region` as numeric codes for use in modeling\n",
    "\n",
    "This preprocessed dataset is the foundation for training our demand prediction model and setting up the optimization problem."
   ]
  },
  {
   "cell_type": "code",
   "execution_count": 3,
   "metadata": {
    "id": "I5KqTtMdX_BF"
   },
   "outputs": [],
   "source": [
    "import pandas as pd\n",
    "import numpy as np\n",
    "\n",
    "df = pd.read_csv(\"https://raw.githubusercontent.com/ampl/colab.ampl.com/master/authors/marcos-dv/miscellaneous/avocado.csv\")\n",
    "\n",
    "# Clean column names\n",
    "df.columns = df.columns.str.strip()\n",
    "\n",
    "# Filter: only 'conventional' avocados and selected regions\n",
    "df = df[df['type'] == 'conventional']\n",
    "selected_regions = ['Albany', 'Northeast', 'SouthCentral']\n",
    "df = df[df['region'].isin(selected_regions)]\n",
    "\n",
    "# Extract month from Date\n",
    "df['Date'] = pd.to_datetime(df['Date'])\n",
    "df['month'] = df['Date'].dt.month\n",
    "df['peak'] = df['month'].isin([11, 12, 1]).astype(int)\n",
    "df['year_index'] = df['year'] - 2015\n",
    "\n",
    "# Encode region as categorical code\n",
    "df['region_code'] = df['region'].astype('category').cat.codes"
   ]
  },
  {
   "cell_type": "markdown",
   "metadata": {},
   "source": [
    "### 🤖 Step 2: Train a Linear Regression Model\n",
    "\n",
    "We use a simple **linear regression** model from scikit-learn to predict avocado demand (i.e., `Total Volume`) based on the following features:\n",
    "\n",
    "* **AveragePrice** of avocados\n",
    "* **Year index** (how many years since 2015)\n",
    "* **Peak season** indicator\n",
    "* **Region code** (encoded as categorical numeric values)\n",
    "\n",
    "This model helps us estimate demand patterns across time and regions."
   ]
  },
  {
   "cell_type": "code",
   "execution_count": 4,
   "metadata": {},
   "outputs": [],
   "source": [
    "from sklearn.linear_model import LinearRegression\n",
    "\n",
    "# Set input features and target\n",
    "X = df[['AveragePrice', 'year_index', 'peak', 'region_code']]\n",
    "y = df['Total Volume']  # This is the demand\n",
    "\n",
    "# Map region codes back to names\n",
    "region_map = dict(zip(df['region'], df['region_code']))\n",
    "region_codes = dict((v, k) for k, v in region_map.items())\n",
    "\n",
    "# === Step 2: Train regression model ===\n",
    "model = LinearRegression()\n",
    "model.fit(X, y)\n",
    "\n",
    "# === Step 3: Extract coefficients for AMPL ===\n",
    "intercept = model.intercept_\n",
    "coef_price, coef_year_index, coef_peak, _ = model.coef_\n",
    "\n",
    "# Estimate per-region demand adjustment using residuals\n",
    "df['residual'] = y - model.predict(X)\n",
    "region_effects = df.groupby('region_code')['residual'].mean().to_dict()\n",
    "\n"
   ]
  },
  {
   "cell_type": "markdown",
   "metadata": {},
   "source": [
    "### 🧮 Step 3: Define and Load the AMPL Model\n",
    "\n",
    "We define an optimization model in AMPL using the parameters from our regression step. The model includes:\n",
    "\n",
    "* A **demand expression** based on the trained ML model\n",
    "* Decision variables for **price** and **quantity** per region\n",
    "* Calculations for **sales**, **revenue**, **waste**, and **costs**\n",
    "* A constraint to ensure total supply is fixed\n",
    "* An objective function to **maximize net profit**\n",
    "\n",
    "Once defined, we use the `amplpy` package to load the model and inject all parameters into the AMPL environment."
   ]
  },
  {
   "cell_type": "code",
   "execution_count": 5,
   "metadata": {},
   "outputs": [
    {
     "name": "stdout",
     "output_type": "stream",
     "text": [
      "Overwriting avocados.mod\n"
     ]
    }
   ],
   "source": [
    "%%writefile avocados.mod\n",
    "reset;\n",
    "set R;\n",
    "\n",
    "param cost_waste;\n",
    "param cost_transport {R};\n",
    "param price_min;\n",
    "param price_max;\n",
    "param quantity_min {R};\n",
    "param quantity_max {R};\n",
    "param total_amount_of_supply;\n",
    "param coefficients_intercept;\n",
    "param coefficients_region {R};\n",
    "param coefficients_price;\n",
    "param coefficients_year_index;\n",
    "param coefficients_peak;\n",
    "param data_year;\n",
    "param data_peak;\n",
    "\n",
    "var price {r in R} >= price_min, <= price_max;\n",
    "var quantity {r in R} >= quantity_min[r], <= quantity_max[r];\n",
    "\n",
    "var demand_expr {r in R} =\n",
    "    coefficients_intercept +\n",
    "    coefficients_region[r] +\n",
    "    coefficients_price * price[r] +\n",
    "    coefficients_year_index * (data_year - 2015) +\n",
    "    coefficients_peak * data_peak;\n",
    "\n",
    "var sales {r in R} = min(demand_expr[r], quantity[r]);\n",
    "var revenue {r in R} = sales[r] * price[r];\n",
    "var waste {r in R} = quantity[r] - demand_expr[r];\n",
    "var costs {r in R} = cost_waste * waste[r] + cost_transport[r] * quantity[r];\n",
    "\n",
    "maximize obj: sum {r in R} (revenue[r] - costs[r]);\n",
    "\n",
    "subject to supply: sum {r in R} quantity[r] = total_amount_of_supply;"
   ]
  },
  {
   "cell_type": "markdown",
   "metadata": {},
   "source": [
    "### 📉 Step 4: Extract Model Coefficients and Load Data into Ampl\n",
    "\n",
    "After training the model, we extract the regression coefficients to quantify the impact of each variable on avocado demand. We also compute **region-specific residual averages** to capture localized adjustments to the global model.\n",
    "\n",
    "These coefficients will be used directly in our optimization model.\n",
    "\n",
    "We construct a set of parameters to be passed to AMPL. These include:\n",
    "\n",
    "* Cost parameters for waste and transport\n",
    "* Price and quantity bounds per region\n",
    "* Estimated demand function coefficients\n",
    "* Region-specific demand adjustments\n",
    "* Total supply capacity for distribution\n",
    "\n",
    "The goal is to find the optimal price and quantity allocation across regions that maximizes net revenue."
   ]
  },
  {
   "cell_type": "code",
   "execution_count": 6,
   "metadata": {},
   "outputs": [],
   "source": [
    "regions = list(region_codes.values())\n",
    "data_year = 2020\n",
    "data_peak = 1\n",
    "total_supply = 500000\n",
    "\n",
    "parameters = {\n",
    "    'R': regions,\n",
    "    'cost_waste': 0.2,\n",
    "    'cost_transport': {r: 0.1 for r in regions},\n",
    "    'price_min': 0.5,\n",
    "    'price_max': 2.5,\n",
    "    'quantity_min': {r: 10000 for r in regions},\n",
    "    'quantity_max': {r: 300000 for r in regions},\n",
    "    'total_amount_of_supply': total_supply,\n",
    "    'coefficients_intercept': intercept,\n",
    "    'coefficients_price': coef_price,\n",
    "    'coefficients_year_index': coef_year_index,\n",
    "    'coefficients_peak': coef_peak,\n",
    "    'coefficients_region': {\n",
    "        region_codes[i]: region_effects.get(i, 0) for i in region_codes\n",
    "    },\n",
    "    'data_year': data_year,\n",
    "    'data_peak': data_peak,\n",
    "}"
   ]
  },
  {
   "cell_type": "code",
   "execution_count": 7,
   "metadata": {},
   "outputs": [
    {
     "name": "stdout",
     "output_type": "stream",
     "text": [
      "Gurobi 12.0.1:Gurobi 12.0.1: optimal solution; objective 1712697.331\n",
      "3 simplex iterations\n",
      "1 branching node\n"
     ]
    }
   ],
   "source": [
    "ampl.read('avocados.mod')\n",
    "\n",
    "# Load data into AMPL\n",
    "ampl.set['R'] = parameters['R']\n",
    "ampl.param['cost_waste'] = parameters['cost_waste']\n",
    "ampl.param['price_min'] = parameters['price_min']\n",
    "ampl.param['price_max'] = parameters['price_max']\n",
    "ampl.param['coefficients_intercept'] = parameters['coefficients_intercept']\n",
    "ampl.param['coefficients_price'] = parameters['coefficients_price']\n",
    "ampl.param['coefficients_year_index'] = parameters['coefficients_year_index']\n",
    "ampl.param['coefficients_peak'] = parameters['coefficients_peak']\n",
    "ampl.param['data_year'] = parameters['data_year']\n",
    "ampl.param['data_peak'] = parameters['data_peak']\n",
    "ampl.param['total_amount_of_supply'] = parameters['total_amount_of_supply']\n",
    "\n",
    "ampl.param['cost_transport'] = parameters['cost_transport']\n",
    "ampl.param['quantity_min'] = parameters['quantity_min']\n",
    "ampl.param['quantity_max'] = parameters['quantity_max']\n",
    "ampl.param['coefficients_region'] = parameters['coefficients_region']\n",
    "\n",
    "# === Step 6: Solve and show results ===\n",
    "ampl.solve(solver='gurobi')\n",
    "assert ampl.solve_result == \"solved\", ampl.solve_result"
   ]
  },
  {
   "cell_type": "markdown",
   "metadata": {
    "colab": {
     "base_uri": "https://localhost:8080/",
     "height": 136,
     "referenced_widgets": [
      "8b297299440e49e9991dd2faa607abc0",
      "412c9167174748658169e3b6a4000e2e",
      "73c6b3f71f8e4b82bab12a64beb25d35",
      "2bfc7d5e0fe04a2ea14f3c9fbd9cfd70",
      "c915279d581b423f946137bc09e5b3ab",
      "02c2e0e40e3b42448f7fe848a6043d33",
      "ab0405ff2b2345dbbaa5bce832ff6f86",
      "9e8033f515fc40c081c3eef477cfda60",
      "ea1be61eea94489285bfc29a17468d55",
      "79e33300b17f49a38c910e6608fcfa02",
      "aa84ac508b4045789e7ffea92fd573ca",
      "537fc71a9f7045fcafd4d6c5f13da6c3",
      "a98dfd2b77a94a6194ba2cd68a25c9d8"
     ]
    },
    "id": "q4ZoFncwYqIN",
    "outputId": "c86b810b-c8d0-4c9d-ba18-2840cfd96e02"
   },
   "source": [
    "### 🚀 Step 6: Solve and Analyze Results\n",
    "\n",
    "We use the Gurobi solver to solve the optimization problem. The solution provides us with:\n",
    "\n",
    "* Optimal **price** for avocados in each region\n",
    "* Optimal **quantity** of avocados to allocate per region\n",
    "\n",
    "Finally, we print out the results, offering actionable insights into how pricing and distribution should be managed across the selected markets.\n"
   ]
  },
  {
   "cell_type": "code",
   "execution_count": 10,
   "metadata": {
    "colab": {
     "base_uri": "https://localhost:8080/"
    },
    "id": "Os8JU2TuYB3o",
    "outputId": "b2ebb6d7-ce3d-4e44-f9c6-25a76235befb"
   },
   "outputs": [
    {
     "name": "stdout",
     "output_type": "stream",
     "text": [
      "\n",
      "Optimal Prices and Quantities:\n",
      "Region Albany: Price = $0.50, Quantity = 10000\n",
      "Region Northeast: Price = $2.50, Quantity = 300000\n",
      "Region SouthCentral: Price = $2.50, Quantity = 190000\n"
     ]
    }
   ],
   "source": [
    "# Output results\n",
    "print(\"\\nOptimal Prices and Quantities:\")\n",
    "price = ampl.var['price'].to_dict()\n",
    "quantity = ampl.var['quantity'].to_dict()\n",
    "for r in parameters['R']:\n",
    "    print(f\"Region {r}: Price = ${price[r]:.2f}, Quantity = {quantity[r]:.0f}\")"
   ]
  },
  {
   "cell_type": "markdown",
   "metadata": {},
   "source": [
    "### ✅ Summary\n",
    "\n",
    "This notebook combines:\n",
    "\n",
    "* Machine learning for **demand forecasting**\n",
    "* Mathematical programming for **decision optimization**\n",
    "\n",
    "Together, they form a powerful workflow for data-driven supply chain planning.\n",
    "\n",
    "Want to learn more?\n",
    "📘 Check out [mobook.ampl.com](https://mobook.ampl.com) for 50+ optimization case studies using AMPL and Python."
   ]
  }
 ],
 "metadata": {
  "colab": {
   "provenance": []
  },
  "kernelspec": {
   "display_name": "Python 3 (ipykernel)",
   "language": "python",
   "name": "python3"
  },
  "language_info": {
   "codemirror_mode": {
    "name": "ipython",
    "version": 3
   },
   "file_extension": ".py",
   "mimetype": "text/x-python",
   "name": "python",
   "nbconvert_exporter": "python",
   "pygments_lexer": "ipython3",
   "version": "3.10.12"
  },
  "widgets": {
   "application/vnd.jupyter.widget-state+json": {
    "02c2e0e40e3b42448f7fe848a6043d33": {
     "model_module": "@jupyter-widgets/base",
     "model_module_version": "1.2.0",
     "model_name": "LayoutModel",
     "state": {
      "_model_module": "@jupyter-widgets/base",
      "_model_module_version": "1.2.0",
      "_model_name": "LayoutModel",
      "_view_count": null,
      "_view_module": "@jupyter-widgets/base",
      "_view_module_version": "1.2.0",
      "_view_name": "LayoutView",
      "align_content": null,
      "align_items": null,
      "align_self": null,
      "border": null,
      "bottom": null,
      "display": null,
      "flex": null,
      "flex_flow": null,
      "grid_area": null,
      "grid_auto_columns": null,
      "grid_auto_flow": null,
      "grid_auto_rows": null,
      "grid_column": null,
      "grid_gap": null,
      "grid_row": null,
      "grid_template_areas": null,
      "grid_template_columns": null,
      "grid_template_rows": null,
      "height": null,
      "justify_content": null,
      "justify_items": null,
      "left": null,
      "margin": null,
      "max_height": null,
      "max_width": null,
      "min_height": null,
      "min_width": null,
      "object_fit": null,
      "object_position": null,
      "order": null,
      "overflow": null,
      "overflow_x": null,
      "overflow_y": null,
      "padding": null,
      "right": null,
      "top": null,
      "visibility": null,
      "width": null
     }
    },
    "2bfc7d5e0fe04a2ea14f3c9fbd9cfd70": {
     "model_module": "@jupyter-widgets/output",
     "model_module_version": "1.0.0",
     "model_name": "OutputModel",
     "state": {
      "_dom_classes": [],
      "_model_module": "@jupyter-widgets/output",
      "_model_module_version": "1.0.0",
      "_model_name": "OutputModel",
      "_view_count": null,
      "_view_module": "@jupyter-widgets/output",
      "_view_module_version": "1.0.0",
      "_view_name": "OutputView",
      "layout": "IPY_MODEL_537fc71a9f7045fcafd4d6c5f13da6c3",
      "msg_id": "",
      "outputs": []
     }
    },
    "412c9167174748658169e3b6a4000e2e": {
     "model_module": "@jupyter-widgets/output",
     "model_module_version": "1.0.0",
     "model_name": "OutputModel",
     "state": {
      "_dom_classes": [],
      "_model_module": "@jupyter-widgets/output",
      "_model_module_version": "1.0.0",
      "_model_name": "OutputModel",
      "_view_count": null,
      "_view_module": "@jupyter-widgets/output",
      "_view_module_version": "1.0.0",
      "_view_name": "OutputView",
      "layout": "IPY_MODEL_aa84ac508b4045789e7ffea92fd573ca",
      "msg_id": "",
      "outputs": [
       {
        "name": "stdout",
        "output_type": "stream",
        "text": [
         "AMPL License UUID (you can use free https://ampl.com/ce or https://ampl.com/courses licenses):\n"
        ]
       }
      ]
     }
    },
    "537fc71a9f7045fcafd4d6c5f13da6c3": {
     "model_module": "@jupyter-widgets/base",
     "model_module_version": "1.2.0",
     "model_name": "LayoutModel",
     "state": {
      "_model_module": "@jupyter-widgets/base",
      "_model_module_version": "1.2.0",
      "_model_name": "LayoutModel",
      "_view_count": null,
      "_view_module": "@jupyter-widgets/base",
      "_view_module_version": "1.2.0",
      "_view_name": "LayoutView",
      "align_content": null,
      "align_items": null,
      "align_self": null,
      "border": null,
      "bottom": null,
      "display": null,
      "flex": null,
      "flex_flow": null,
      "grid_area": null,
      "grid_auto_columns": null,
      "grid_auto_flow": null,
      "grid_auto_rows": null,
      "grid_column": null,
      "grid_gap": null,
      "grid_row": null,
      "grid_template_areas": null,
      "grid_template_columns": null,
      "grid_template_rows": null,
      "height": null,
      "justify_content": null,
      "justify_items": null,
      "left": null,
      "margin": null,
      "max_height": null,
      "max_width": null,
      "min_height": null,
      "min_width": null,
      "object_fit": null,
      "object_position": null,
      "order": null,
      "overflow": null,
      "overflow_x": null,
      "overflow_y": null,
      "padding": null,
      "right": null,
      "top": null,
      "visibility": null,
      "width": null
     }
    },
    "73c6b3f71f8e4b82bab12a64beb25d35": {
     "model_module": "@jupyter-widgets/controls",
     "model_module_version": "1.5.0",
     "model_name": "HBoxModel",
     "state": {
      "_dom_classes": [],
      "_model_module": "@jupyter-widgets/controls",
      "_model_module_version": "1.5.0",
      "_model_name": "HBoxModel",
      "_view_count": null,
      "_view_module": "@jupyter-widgets/controls",
      "_view_module_version": "1.5.0",
      "_view_name": "HBoxView",
      "box_style": "",
      "children": [
       "IPY_MODEL_ab0405ff2b2345dbbaa5bce832ff6f86"
      ],
      "layout": "IPY_MODEL_9e8033f515fc40c081c3eef477cfda60"
     }
    },
    "79e33300b17f49a38c910e6608fcfa02": {
     "model_module": "@jupyter-widgets/controls",
     "model_module_version": "1.5.0",
     "model_name": "DescriptionStyleModel",
     "state": {
      "_model_module": "@jupyter-widgets/controls",
      "_model_module_version": "1.5.0",
      "_model_name": "DescriptionStyleModel",
      "_view_count": null,
      "_view_module": "@jupyter-widgets/base",
      "_view_module_version": "1.2.0",
      "_view_name": "StyleView",
      "description_width": "initial"
     }
    },
    "8b297299440e49e9991dd2faa607abc0": {
     "model_module": "@jupyter-widgets/controls",
     "model_module_version": "1.5.0",
     "model_name": "VBoxModel",
     "state": {
      "_dom_classes": [],
      "_model_module": "@jupyter-widgets/controls",
      "_model_module_version": "1.5.0",
      "_model_name": "VBoxModel",
      "_view_count": null,
      "_view_module": "@jupyter-widgets/controls",
      "_view_module_version": "1.5.0",
      "_view_name": "VBoxView",
      "box_style": "",
      "children": [
       "IPY_MODEL_412c9167174748658169e3b6a4000e2e",
       "IPY_MODEL_73c6b3f71f8e4b82bab12a64beb25d35",
       "IPY_MODEL_2bfc7d5e0fe04a2ea14f3c9fbd9cfd70",
       "IPY_MODEL_c915279d581b423f946137bc09e5b3ab"
      ],
      "layout": "IPY_MODEL_02c2e0e40e3b42448f7fe848a6043d33"
     }
    },
    "9e8033f515fc40c081c3eef477cfda60": {
     "model_module": "@jupyter-widgets/base",
     "model_module_version": "1.2.0",
     "model_name": "LayoutModel",
     "state": {
      "_model_module": "@jupyter-widgets/base",
      "_model_module_version": "1.2.0",
      "_model_name": "LayoutModel",
      "_view_count": null,
      "_view_module": "@jupyter-widgets/base",
      "_view_module_version": "1.2.0",
      "_view_name": "LayoutView",
      "align_content": null,
      "align_items": null,
      "align_self": null,
      "border": null,
      "bottom": null,
      "display": null,
      "flex": null,
      "flex_flow": null,
      "grid_area": null,
      "grid_auto_columns": null,
      "grid_auto_flow": null,
      "grid_auto_rows": null,
      "grid_column": null,
      "grid_gap": null,
      "grid_row": null,
      "grid_template_areas": null,
      "grid_template_columns": null,
      "grid_template_rows": null,
      "height": null,
      "justify_content": null,
      "justify_items": null,
      "left": null,
      "margin": null,
      "max_height": null,
      "max_width": null,
      "min_height": null,
      "min_width": null,
      "object_fit": null,
      "object_position": null,
      "order": null,
      "overflow": null,
      "overflow_x": null,
      "overflow_y": null,
      "padding": null,
      "right": null,
      "top": null,
      "visibility": null,
      "width": null
     }
    },
    "a98dfd2b77a94a6194ba2cd68a25c9d8": {
     "model_module": "@jupyter-widgets/base",
     "model_module_version": "1.2.0",
     "model_name": "LayoutModel",
     "state": {
      "_model_module": "@jupyter-widgets/base",
      "_model_module_version": "1.2.0",
      "_model_name": "LayoutModel",
      "_view_count": null,
      "_view_module": "@jupyter-widgets/base",
      "_view_module_version": "1.2.0",
      "_view_name": "LayoutView",
      "align_content": null,
      "align_items": null,
      "align_self": null,
      "border": null,
      "bottom": null,
      "display": null,
      "flex": null,
      "flex_flow": null,
      "grid_area": null,
      "grid_auto_columns": null,
      "grid_auto_flow": null,
      "grid_auto_rows": null,
      "grid_column": null,
      "grid_gap": null,
      "grid_row": null,
      "grid_template_areas": null,
      "grid_template_columns": null,
      "grid_template_rows": null,
      "height": null,
      "justify_content": null,
      "justify_items": null,
      "left": null,
      "margin": null,
      "max_height": null,
      "max_width": null,
      "min_height": null,
      "min_width": null,
      "object_fit": null,
      "object_position": null,
      "order": null,
      "overflow": null,
      "overflow_x": null,
      "overflow_y": null,
      "padding": null,
      "right": null,
      "top": null,
      "visibility": null,
      "width": null
     }
    },
    "aa84ac508b4045789e7ffea92fd573ca": {
     "model_module": "@jupyter-widgets/base",
     "model_module_version": "1.2.0",
     "model_name": "LayoutModel",
     "state": {
      "_model_module": "@jupyter-widgets/base",
      "_model_module_version": "1.2.0",
      "_model_name": "LayoutModel",
      "_view_count": null,
      "_view_module": "@jupyter-widgets/base",
      "_view_module_version": "1.2.0",
      "_view_name": "LayoutView",
      "align_content": null,
      "align_items": null,
      "align_self": null,
      "border": null,
      "bottom": null,
      "display": null,
      "flex": null,
      "flex_flow": null,
      "grid_area": null,
      "grid_auto_columns": null,
      "grid_auto_flow": null,
      "grid_auto_rows": null,
      "grid_column": null,
      "grid_gap": null,
      "grid_row": null,
      "grid_template_areas": null,
      "grid_template_columns": null,
      "grid_template_rows": null,
      "height": null,
      "justify_content": null,
      "justify_items": null,
      "left": null,
      "margin": null,
      "max_height": null,
      "max_width": null,
      "min_height": null,
      "min_width": null,
      "object_fit": null,
      "object_position": null,
      "order": null,
      "overflow": null,
      "overflow_x": null,
      "overflow_y": null,
      "padding": null,
      "right": null,
      "top": null,
      "visibility": null,
      "width": null
     }
    },
    "ab0405ff2b2345dbbaa5bce832ff6f86": {
     "model_module": "@jupyter-widgets/controls",
     "model_module_version": "1.5.0",
     "model_name": "TextModel",
     "state": {
      "_dom_classes": [],
      "_model_module": "@jupyter-widgets/controls",
      "_model_module_version": "1.5.0",
      "_model_name": "TextModel",
      "_view_count": null,
      "_view_module": "@jupyter-widgets/controls",
      "_view_module_version": "1.5.0",
      "_view_name": "TextView",
      "continuous_update": true,
      "description": "License UUID:",
      "description_tooltip": null,
      "disabled": false,
      "layout": "IPY_MODEL_ea1be61eea94489285bfc29a17468d55",
      "placeholder": "​",
      "style": "IPY_MODEL_79e33300b17f49a38c910e6608fcfa02",
      "value": ""
     }
    },
    "c915279d581b423f946137bc09e5b3ab": {
     "model_module": "@jupyter-widgets/output",
     "model_module_version": "1.0.0",
     "model_name": "OutputModel",
     "state": {
      "_dom_classes": [],
      "_model_module": "@jupyter-widgets/output",
      "_model_module_version": "1.0.0",
      "_model_name": "OutputModel",
      "_view_count": null,
      "_view_module": "@jupyter-widgets/output",
      "_view_module_version": "1.0.0",
      "_view_name": "OutputView",
      "layout": "IPY_MODEL_a98dfd2b77a94a6194ba2cd68a25c9d8",
      "msg_id": "",
      "outputs": [
       {
        "name": "stdout",
        "output_type": "stream",
        "text": [
         "Licensed to AMPL Community Edition License for the AMPL Model Colaboratory (https://ampl.com/colab).\n"
        ]
       }
      ]
     }
    },
    "ea1be61eea94489285bfc29a17468d55": {
     "model_module": "@jupyter-widgets/base",
     "model_module_version": "1.2.0",
     "model_name": "LayoutModel",
     "state": {
      "_model_module": "@jupyter-widgets/base",
      "_model_module_version": "1.2.0",
      "_model_name": "LayoutModel",
      "_view_count": null,
      "_view_module": "@jupyter-widgets/base",
      "_view_module_version": "1.2.0",
      "_view_name": "LayoutView",
      "align_content": null,
      "align_items": null,
      "align_self": null,
      "border": null,
      "bottom": null,
      "display": null,
      "flex": null,
      "flex_flow": null,
      "grid_area": null,
      "grid_auto_columns": null,
      "grid_auto_flow": null,
      "grid_auto_rows": null,
      "grid_column": null,
      "grid_gap": null,
      "grid_row": null,
      "grid_template_areas": null,
      "grid_template_columns": null,
      "grid_template_rows": null,
      "height": null,
      "justify_content": null,
      "justify_items": null,
      "left": null,
      "margin": null,
      "max_height": null,
      "max_width": null,
      "min_height": null,
      "min_width": null,
      "object_fit": null,
      "object_position": null,
      "order": null,
      "overflow": null,
      "overflow_x": null,
      "overflow_y": null,
      "padding": null,
      "right": null,
      "top": null,
      "visibility": null,
      "width": null
     }
    }
   }
  }
 },
 "nbformat": 4,
 "nbformat_minor": 4
}
