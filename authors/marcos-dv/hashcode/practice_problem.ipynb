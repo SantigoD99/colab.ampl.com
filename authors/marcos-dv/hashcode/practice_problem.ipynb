{
  "cells": [
    {
      "cell_type": "markdown",
      "metadata": {
        "id": "APznptbwRdyv"
      },
      "source": [
        "# Google Hashcode 2022\n",
        "[![practice_problem.ipynb](https://img.shields.io/badge/github-%23121011.svg?logo=github)](https://github.com/ampl/colab.ampl.com/blob/master/authors/marcos-dv/hashcode/practice_problem.ipynb) [![Open In Colab](https://colab.research.google.com/assets/colab-badge.svg)](https://colab.research.google.com/github/ampl/colab.ampl.com/blob/master/authors/marcos-dv/hashcode/practice_problem.ipynb) [![Kaggle](https://kaggle.com/static/images/open-in-kaggle.svg)](https://kaggle.com/kernels/welcome?src=https://github.com/ampl/colab.ampl.com/blob/master/authors/marcos-dv/hashcode/practice_problem.ipynb) [![Gradient](https://assets.paperspace.io/img/gradient-badge.svg)](https://console.paperspace.com/github/ampl/colab.ampl.com/blob/master/authors/marcos-dv/hashcode/practice_problem.ipynb) [![Open In SageMaker Studio Lab](https://studiolab.sagemaker.aws/studiolab.svg)](https://studiolab.sagemaker.aws/import/github/ampl/colab.ampl.com/blob/master/authors/marcos-dv/hashcode/practice_problem.ipynb) [![Hits](https://h.ampl.com/https://github.com/ampl/colab.ampl.com/blob/master/authors/marcos-dv/hashcode/practice_problem.ipynb)](https://colab.ampl.com)\n",
        "\n",
        "Description: Google Hashcode 2022 Practice Problem\n",
        "\n",
        "Tags: amplpy, heuristics, engineering, scheduling, complexity\n",
        "\n",
        "Notebook author: Marcos Dominguez Velad <<marcos@ampl.com>>\n",
        "\n",
        "Model author: Marcos Dominguez Velad <<marcos@ampl.com>>\n",
        "\n",
        "References: N/A\n",
        "\n",
        "[Google Hashcode](https://codingcompetitions.withgoogle.com/hashcode) is a team programming competition to solve a complex **engineering problem**.\n",
        "\n",
        "In this notebook we are showing how Mathematical Optimization methods as ***Mixed Integer Programming*** (MIP) are useful to solve this kind of problems, as they are really easy to implement and give optimal solutions (not only _trade-off_ ones), as opposed to greedy approaches or heuristics. We are solving the *pizza* **warm-up exercise**.\n",
        "\n",
        "We are using [AMPL](https://ampl.com) as the modeling language to formulate the problem from two different approaches (not all the formulations are the same in terms of complexity), coming up with enhancements or alternative approaches is an important part of the solving process.\n",
        "\n",
        "As an instructive example of how to face this kind of problems, we are using the AMPL API for Python (AMPLPY), so we can read the input of the problem, translate easily to data for AMPL, and retrieve the solution to get the score. Because of using MIP approach, the score will be the highest possible for the problem.\n",
        "\n",
        "## Problem statement\n",
        "\n",
        "The statement of this year is related to a pizzeria, the goal is to maximize the number of customers coming, and we want to pick the ingredients for the only pizza that is going to be sold:\n",
        "\n",
        "* Each customer has a list of ingredients he loves, and a list of those he does not like.\n",
        "* A customer will come to the pizzeria if the pizza has all the ingredients he likes, and does not have any disgusting ingredient for him.\n",
        "\n",
        "**Task**: choose the exact ingredients the pizza should have so it maximizes the number of customers given their lists of preferences. The score is the number of customers coming to eat the pizza.\n",
        "\n",
        "(The statement can be found [here](https://bytefreaks.net/google/google-hash-code-2022-practice-problem))"
      ]
    },
    {
      "cell_type": "markdown",
      "metadata": {
        "id": "hee6hOeeRdy1"
      },
      "source": [
        "## First formulation\n",
        "\n",
        "The first MIP formulation will be straightforward. We have to define the variables we are going to use, and then the objective function and constraints will be easy to figure out.\n",
        "\n",
        "### Variables\n",
        "\n",
        "We have to decide which ingredients to pick, so\n",
        "* $x_i$ = 1 if the ingredient *i* is in the pizza, 0 otherwise.\n",
        "* $y_j$ = 1 if the customer will come to the pizzeria, 0 otherwise.\n",
        "\n",
        "Where $i = 1, .., I$ and $j = 1, .., c$ (*c* = total of customers and *I* = total of ingredients).\n",
        "\n",
        "### Objective function\n",
        "\n",
        "The goal is to maximize the number of customers, so this is clear:\n",
        "\n",
        "$$\n",
        "    maximize \\ \\sum \\limits_{j = 1}^c y_j\n",
        "$$\n",
        "\n",
        "Finally, we need to tie the variables to have the meaning we need by using constraints.\n",
        "\n",
        "### Constraints\n",
        "\n",
        "If the *j* customer comes, his favourite ingredients should be picked (mathematically $y_j=1$ implies all the $x_i = 1$). So, for each $j = 1, .., c$:\n",
        "\n",
        "$$\n",
        "    |Likes_j| \\cdot y_j \\leq \\sum \\limits_{i \\in Likes_j} x_i\n",
        "$$\n",
        "    \n",
        "Where $Likes_j$ is the set of ingredients $j$ customer likes, and $|Likes_j|$ the number of elements of the set.\n",
        "\n",
        "If any of the disliked ingredients is in the pizza, customer $j$ can't come (any $x_i = 1$ implies $y_j = 0$). For each customer $j = 1, .., c$:\n",
        "\n",
        "$$\n",
        "    \\sum \\limits_{i \\in Dislikes_j} x_i \\leq \\frac{1}{2}+(|Dislikes_j|+\\frac{1}{2})\\cdot(1-y_j)\n",
        "$$\n",
        "\n",
        "So when customer $j$ comes, the right side is equal to\n",
        "\n",
        "$$\n",
        "    \\frac{1}{2}+(|Dislikes_j|+\\frac{1}{2})\\cdot(1-1) = \\frac{1}{2} + 0 = \\frac{1}{2}\n",
        "$$\n",
        "\n",
        "This implies the left side to be zero, because the $x_i$ variables are binary. If the customer $j$ does not come, the inequality is satisfied trivially."
      ]
    },
    {
      "cell_type": "markdown",
      "metadata": {
        "id": "exLThNHq0ztJ"
      },
      "source": [
        "We will need the input data files from the problem, they are available in the amplpy Github repository:"
      ]
    },
    {
      "cell_type": "code",
      "execution_count": 1,
      "metadata": {
        "id": "YK0M3R9l1vTF"
      },
      "outputs": [],
      "source": [
        "import os\n",
        "\n",
        "if not os.path.isdir(\"input_data\"):\n",
        "    os.system(\"git clone https://github.com/ampl/colab.ampl.com.git\")\n",
        "    os.chdir(\"colab.ampl.com/authors/marcos-dv/hashcode\")\n",
        "\n",
        "if not os.path.isdir(\"ampl_input\"):\n",
        "    os.mkdir(\"ampl_input\")"
      ]
    },
    {
      "cell_type": "markdown",
      "metadata": {
        "id": "K_tSgg3Ki75t"
      },
      "source": [
        "Let's use AMPL to formulate the previous problem. The following section setup AMPL to run in also in the cloud (not only locally) with Google Colab.\n",
        "\n",
        "## AMPLPY Setup in the cloud\n",
        "\n",
        "Here is some documentation and examples of the API: [Documentation](https://amplpy.readthedocs.io), [GitHub Repository](https://github.com/ampl/amplpy), [PyPI Repository](https://pypi.python.org/pypi/amplpy), other [Jupyter Notebooks](https://github.com/ampl/amplpy/tree/master/notebooks). The following cell is enough to install it. We are using *ampl* (modeling language) and *COIN* (contains aasdasdasdasdasdasdasdasd*CBC* open-source solver) modules."
      ]
    },
    {
      "cell_type": "code",
      "execution_count": 2,
      "metadata": {
        "id": "5F5ueIrDi751"
      },
      "outputs": [],
      "source": [
        "# Install dependencies\n",
        "%pip install -q amplpy"
      ]
    },
    {
      "cell_type": "code",
      "execution_count": 3,
      "metadata": {
        "colab": {
          "base_uri": "https://localhost:8080/",
          "height": 510,
          "referenced_widgets": [
            "433cfe06e966484a803ff3ceed14f8d7",
            "7ab2e86a128b4a3281707e59f324138d",
            "3e4f503d71fa4a96b9cbc7df63d7a12f",
            "ed9e8434d036431fa1ec4f162d154d20",
            "c740d0b4551c4cc2aa325e7640bc0e53",
            "caeefebc5bfa47cb9f5dbf251cd2bb3e",
            "8038ee8823804280bbf37b62484d93ad",
            "0106a3caf9c14d30b4ea61fd13f4760c",
            "6a734baf6d6c4e30a5368133b0af88f4",
            "25ef510d5eff4757985692f7e089ba14",
            "144d96273a364e37bb00cb55769a788c",
            "a483a1b9fc164c52b926aa37748ac89d",
            "e5c5e6e102734e188c95f9fa9d26b5c6",
            "60a4e46a8813489aaa530863b1ef1408"
          ]
        },
        "id": "bRmgn-hJi756",
        "outputId": "a41f44ea-613f-48a3-b285-a9478ea351c7"
      },
      "outputs": [],
      "source": [
        "# Google Colab & Kaggle integration\n",
        "from amplpy import AMPL, ampl_notebook\n",
        "\n",
        "ampl = ampl_notebook(\n",
        "    modules=[\"coin\"],  # modules to install\n",
        "    license_uuid=\"default\",  # license to use\n",
        ")  # instantiate AMPL object and register magics"
      ]
    },
    {
      "cell_type": "markdown",
      "metadata": {
        "id": "VRqGGLo36kww"
      },
      "source": [
        "## Solving problem with AMPL\n",
        "\n",
        "First, we need to write a model containing the mathematical formulation. After that, we will add the data to solve the different instances of the Hashcode problem."
      ]
    },
    {
      "cell_type": "code",
      "execution_count": 4,
      "metadata": {
        "id": "a5TgTF9Yi76B"
      },
      "outputs": [],
      "source": [
        "%%ampl_eval\n",
        "\n",
        "# PARAMETERS AND SETS\n",
        "param total_customers;\n",
        "\n",
        "# Set of ingredients\n",
        "set INGR;\n",
        "# Customers lists of preferences\n",
        "set Likes{1..total_customers};\n",
        "set Dislikes{1..total_customers};\n",
        "\n",
        "# VARIABLES\n",
        "\n",
        "# Take or not to take the ingredient\n",
        "var x{i in INGR}, binary;\n",
        "# customer comes OR NOT\n",
        "var y{j in 1..total_customers}, binary;\n",
        "\n",
        "# OBJECTIVE FUNCTION\n",
        "maximize Total_Customers: sum{j in 1..total_customers} y[j];\n",
        "\n",
        "s.t.\n",
        "Customer_Likes{j in 1..total_customers}:\n",
        "\tcard(Likes[j])*y[j] <= sum{i in Likes[j]} x[i];\n",
        "\n",
        "param eps := 0.5;\n",
        "\n",
        "Customer_Dislikes{j in 1..total_customers}:\n",
        "\tsum{i in Dislikes[j]} x[i] <= 1-eps+(card(Dislikes[j])+eps)*(1-y[j]);"
      ]
    },
    {
      "cell_type": "markdown",
      "metadata": {
        "id": "v099o0dX9KaU"
      },
      "source": [
        "### Translate input with Python\n",
        "\n",
        "The input files are in the folder `input_data/`, but they do not have the AMPL data format. Fortunately, we can easily parse the original input files to generate AMPL data."
      ]
    },
    {
      "cell_type": "code",
      "execution_count": 5,
      "metadata": {
        "id": "JQa0hdJHi76D"
      },
      "outputs": [],
      "source": [
        "import sys\n",
        "\n",
        "# dict to map chars to hashcode original filenames\n",
        "filename = {\n",
        "    \"a\": \"input_data/a_an_example.in.txt\",\n",
        "    \"b\": \"input_data/b_basic.in.txt\",\n",
        "    \"c\": \"input_data/c_coarse.in.txt\",\n",
        "    \"d\": \"input_data/d_difficult.in.txt\",\n",
        "    \"e\": \"input_data/e_elaborate.in.txt\",\n",
        "}\n",
        "\n",
        "\n",
        "def read(testcase):\n",
        "    with open(filename[testcase]) as input_file, open(\n",
        "        \"ampl_input/pizza_\" + testcase + \".dat\", \"w+\"\n",
        "    ) as output_data_file:\n",
        "        # total_customers\n",
        "        total_customers = int(input_file.readline())\n",
        "        ampl.param[\"total_customers\"] = total_customers\n",
        "\n",
        "        # loop over customers\n",
        "        ingr = set()\n",
        "        for c in range(1, total_customers + 1):\n",
        "            likes = input_file.readline().split()\n",
        "            ampl.set[\"Likes\"][c] = likes[1:]\n",
        "            dislikes = input_file.readline().split()\n",
        "            ampl.set[\"Dislikes\"][c] = dislikes[1:]\n",
        "            ingr = ingr.union(set(likes))\n",
        "            ingr = ingr.union(set(dislikes))\n",
        "        ampl.set[\"INGR\"] = ingr\n",
        "\n",
        "\n",
        "# Let's try with problem 'c' from hashcode\n",
        "read(\"c\")"
      ]
    },
    {
      "cell_type": "markdown",
      "metadata": {
        "id": "coH505b0RdzO"
      },
      "source": [
        "Now, **solve the problem** usign *AMPL* and *CBC* (mip solver)"
      ]
    },
    {
      "cell_type": "code",
      "execution_count": 6,
      "metadata": {
        "colab": {
          "base_uri": "https://localhost:8080/"
        },
        "id": "-Oht3CaIRdzP",
        "outputId": "6c5e1eeb-3ff0-4016-a495-eaa3a56a9aca"
      },
      "outputs": [
        {
          "name": "stdout",
          "output_type": "stream",
          "text": [
            "CBC 2.10.5: \b\b\b\b\b\b\b\b\b\b\b\bCBC 2.10.5 optimal, objective -5\n",
            "0 nodes, 3 iterations, 0.00673 seconds\n",
            ":       x   y    :=\n",
            "1       .   0\n",
            "2       .   0\n",
            "3       .   1\n",
            "4       .   1\n",
            "5       .   1\n",
            "6       .   0\n",
            "7       .   1\n",
            "8       .   1\n",
            "9       .   0\n",
            "10      .   0\n",
            "'0'     0   .\n",
            "'1'     0   .\n",
            "'3'     0   .\n",
            "akuof   1   .\n",
            "byyii   1   .\n",
            "dlust   1   .\n",
            "luncl   1   .\n",
            "qzfyo   0   .\n",
            "sunhp   0   .\n",
            "tfeej   1   .\n",
            "vxglq   1   .\n",
            "xdozp   1   .\n",
            "xveqd   1   .\n",
            ";\n",
            "\n"
          ]
        }
      ],
      "source": [
        "%%ampl_eval\n",
        "option solver cbc;\n",
        "solve;\n",
        "display x, y;"
      ]
    },
    {
      "cell_type": "markdown",
      "metadata": {
        "id": "P5ltxAt7RdzR"
      },
      "source": [
        "So the ingredients we should pick are:\n",
        "* byyii, dlust, luncl, tfeej, vxglq, xdozp and xveqd.\n",
        "* Customers coming are: 4, 5, 7, 8, 10. Total score: 5.\n",
        "\n",
        "We can **write an output file** in the hashcode format:"
      ]
    },
    {
      "cell_type": "code",
      "execution_count": 7,
      "metadata": {
        "colab": {
          "base_uri": "https://localhost:8080/"
        },
        "id": "gK369MvyRdzR",
        "outputId": "a7c851c7-15e6-4d2f-b950-7c492505021e"
      },
      "outputs": [
        {
          "name": "stdout",
          "output_type": "stream",
          "text": [
            "8 luncl dlust xveqd byyii tfeej xdozp vxglq akuof "
          ]
        }
      ],
      "source": [
        "%%ampl_eval\n",
        "printf \"%d \", sum{i in INGR} x[i] > output_file.out;\n",
        "for{i in INGR}{\n",
        "    if x[i] = 1 then printf \"%s \", i >> output_file.out;\n",
        "}\n",
        "shell 'cat output_file.out';"
      ]
    },
    {
      "cell_type": "markdown",
      "metadata": {
        "id": "d4acJqBoRdzU"
      },
      "source": [
        "## You can try this with the other practice instances!\n",
        "\n",
        "The big ones can take several hours to get the optimal solution, as MIP problems are usually hard because of the integrity constraints of the variables. That's why it is often necessary to reformulate the problem, or try to improve an existing formulation by adding of combining constraints / variables. In the following section, we present an alternative point of view to attack the Hashcode practice problem, hoping the solver finds a solution earlier this way.\n",
        "\n",
        "## Alternative formulation\n",
        "\n",
        "We could exploit the relations between customers and see if we can figure out of them. Actually, the goal is to get the biggest set of independent customers that are compatible (so none of their favourite ingredients are in the pizza). The ingredients we are picking may be deduced from the particular customers preferences we want to have.\n",
        "\n",
        "With this idea, let's propose a ***graph approach*** where each customer is represented by node, and two nodes are connected by an edge if and only if the two customers are compatible. This is translated to the problem as:\n",
        "\n",
        "* Customer *i* loved ingredients are not in the disliked ingredients list of *j* (and vice versa).\n",
        "\n",
        "With sets, this is:\n",
        "\n",
        "$$Liked_i \\cap Disliked_j = Liked_j \\cap Disliked_i = \\emptyset $$\n",
        "\n",
        "So the problem is reduced to find the maximal [clique](https://en.wikipedia.org/wiki/Clique_problem) in the graph (a clique is a subset of nodes and edges such as every pair of nodes are connected by an edge), which is an [*NP-Complete*](https://en.wikipedia.org/wiki/NP-completeness) problem. The clique is maximal respect to the number of nodes.\n",
        "\n",
        "### New variables\n",
        "\n",
        "To solve the clique problem we may use the binary variables:\n",
        "* $x_i$ = 1 if the node belongs to the maximal clique, 0 otherwise. For each $i = 1, .., c$.\n",
        "\n",
        "### Objective function\n",
        "\n",
        "It is the same as in the previous approach, as a node $i$ is in the maximal clique if and only if the customer $i$ is coming to the pizzeria in the corresponding optimal solution to the original problem. A bigger clique would induce a better solution, or a better solution would imply the solution customers to generate a bigger clique as all of them are compatible.\n",
        "\n",
        "$$maximize \\ \\sum \\limits_{i = 1}^c x_i$$\n",
        "\n",
        "\n",
        "### New constraints\n",
        "\n",
        "The constraints are quite simple now. Two nodes that are not connected can't be in the same clique. For each pair of nodes not connected $i$ and $j$:\n",
        "\n",
        "$$x_i + x_j \\leq 1$$\n",
        "\n",
        "### Formulation with AMPL\n",
        "\n",
        "We are writing a new model file (very similar to the previous one). In order to reuse data (*read* function), we will keep the *INGR* set although it is not going to be used anymore.\n",
        "\n",
        "The most interesting feature in the model could be the condition to check that two customers are incompatible to generate a constraint. The condition is:\n",
        "\n",
        "$$Liked_i \\cap Disliked_j \\neq \\emptyset \\ \\text{ or } \\ Liked_j \\cap Disliked_i \\neq \\emptyset$$\n",
        "\n",
        "A set is not empty if its cardinality is greater or equal to one, so in AMPL we could write:\n",
        "\n",
        "`card(Likes[i] inter Dislikes[j]) >= 1 or card(Likes[j] inter Dislikes[i]) >= 1`"
      ]
    },
    {
      "cell_type": "code",
      "execution_count": 8,
      "metadata": {
        "id": "RZ45qesQRdzV"
      },
      "outputs": [],
      "source": [
        "%%ampl_eval\n",
        "reset;\n",
        "# PARAMETERS AND SETS\n",
        "param total_customers;\n",
        "\n",
        "# Set of ingredients\n",
        "set INGR;\n",
        "# Customers lists of preferences\n",
        "set Likes{1..total_customers};\n",
        "set Dislikes{1..total_customers};\n",
        "\n",
        "# VARIABLES\n",
        "\n",
        "# customer comes OR NOT <=> node in the clique or not\n",
        "var x{i in 1..total_customers}, binary;\n",
        "\n",
        "# OBJECTIVE FUNCTION\n",
        "maximize Total_Customers: sum{i in 1..total_customers} x[i];\n",
        "\n",
        "s.t.\n",
        "# Using the set operations to check if two nodes are not connected\n",
        "Compatible{i in 1..total_customers-1, j in i+1..total_customers : card(Likes[i] inter Dislikes[j]) >= 1 or card(Likes[j] inter Dislikes[i]) >= 1}:\n",
        "\tx[i]+x[j] <= 1;\n"
      ]
    },
    {
      "cell_type": "markdown",
      "metadata": {
        "id": "hZxTq4bED_Bh"
      },
      "source": [
        "Read the data and solve:"
      ]
    },
    {
      "cell_type": "code",
      "execution_count": 9,
      "metadata": {
        "id": "RjStn_8ofn8S"
      },
      "outputs": [],
      "source": [
        "read(\"c\")"
      ]
    },
    {
      "cell_type": "code",
      "execution_count": 10,
      "metadata": {
        "colab": {
          "base_uri": "https://localhost:8080/"
        },
        "id": "yHW9epELRdzX",
        "outputId": "a1ea6e54-794b-4b01-d7b8-34267ac213e3"
      },
      "outputs": [
        {
          "name": "stdout",
          "output_type": "stream",
          "text": [
            "CBC 2.10.5: \b\b\b\b\b\b\b\b\b\b\b\bCBC 2.10.5 optimal, objective -5\n",
            "0 nodes, 0 iterations, 0.002318 seconds\n",
            "x [*] :=\n",
            " 1  0\n",
            " 2  0\n",
            " 3  1\n",
            " 4  1\n",
            " 5  1\n",
            " 6  0\n",
            " 7  1\n",
            " 8  1\n",
            " 9  0\n",
            "10  0\n",
            ";\n",
            "\n"
          ]
        }
      ],
      "source": [
        "%%ampl_eval\n",
        "option solver cbc;\n",
        "solve;\n",
        "display x;"
      ]
    },
    {
      "cell_type": "code",
      "execution_count": 11,
      "metadata": {
        "colab": {
          "base_uri": "https://localhost:8080/"
        },
        "id": "qV9VQarGRdzY",
        "outputId": "44857436-f8f4-4df4-8e50-be0509c09d12"
      },
      "outputs": [
        {
          "name": "stdout",
          "output_type": "stream",
          "text": [
            "8 akuof luncl vxglq dlust xveqd tfeej xdozp byyii "
          ]
        }
      ],
      "source": [
        "%%ampl_eval\n",
        "set picked_ingr default {};\n",
        "for{i in 1..total_customers}{\n",
        "    if x[i] = 1 then let picked_ingr := picked_ingr union Likes[i];\n",
        "}\n",
        "\n",
        "printf \"%d \", card(picked_ingr) > output_file.out;\n",
        "for{i in picked_ingr}{\n",
        "    printf \"%s \", i >> output_file.out;\n",
        "}\n",
        "shell 'cat output_file.out';"
      ]
    },
    {
      "cell_type": "markdown",
      "metadata": {
        "id": "maQRrv6_RdzZ"
      },
      "source": [
        "## Conclusion\n",
        "\n",
        "First, let's compare the size of the two models.\n",
        "\n",
        "* First approach size: $c+I$ variables + $2c$ constraints.\n",
        "* Second approach size: $c$ variables + $c(c-1)/2$ constraints (potentially).\n",
        "\n",
        "Also in the second approach, each constraint has only two non-zero coefficients along with variables, which is an advantage to have more sparse coefficient matrices.\n",
        "\n",
        "The choice of one model or another will depend on the concrete instance of the problem, so the sparsity of the matrix and the real number of constraints can change (actually, the constraints of the two models are compatible). AMPL will take care of building the coefficient matrix efficiently, so there is no extra effort to compute the constraints or sums within them once the model is prepared and sent to the solver, and we can focus on thinking algorithmically. Also a lot of constraints and variables would be removed by presolve. To know more about the AMPL modeling language you can take a look to the [manual](https://ampl.com/resources/the-ampl-book/).\n",
        "\n",
        "Some of the **advantages** of this approach are:\n",
        "* It is really easy to implement solutions.\n",
        "* There is no need to debug algorithms, only the correctness of the model.\n",
        "* Models are very flexible, so new constraints could be added while the rest of the model remains the same.\n",
        "\n",
        "**Disadvantages**:\n",
        "* It is hard to estimate how long it is going to take, even in simple models like the ones presented.\n",
        "* Sometimes it is hard to formulate the problem, as some of the constraints or the objective function could not adjust to the usual mathematical language. The problem could be non-linear so convergence would be more difficult and even optimal solutions would not be guaranteed.\n",
        "* For simple problems, more efficient algorithmic techniques could also give the best solution (Dynamic Programming, optimal greedy approaches...).\n",
        "\n",
        "**Enhancements**:\n",
        "* Study the problem to come up with presolve heuristics in order to get smaller models.\n",
        "* Add termination criterias (solver options) so the solver can stop prematurely when finding a enough good solution (there is a little gap between the best found solution and the known bounds), or even a time limit. If you are lucky the solution could be the optimal one but the optimality was not proved yet.\n",
        "* If the solver could not find the optimal solution on time, but we used a termination criteria, we could retrieve a good solution and run some kind of algorithm over it so we can improve and get closer to the optimal (*GRASP* or *Genetic Algorithms*, for instance). Actually, when solving a real engineering problem is desirable to combine *exact methods* as MIP, *heuristics* (greedy approaches) or *metaheuristics* (GRASP, Simulated Annealing, ...) among others, to reach better solutions.\n",
        "\n",
        "\n",
        "--\n",
        "\n",
        "*Author: Marcos Dominguez Velad. Software engineer at AMPL.*\n",
        "\n",
        "<marcos@ampl.com>"
      ]
    }
  ],
  "metadata": {
    "colab": {
      "collapsed_sections": [],
      "name": "practice_problem.ipynb",
      "provenance": []
    },
    "kernelspec": {
      "display_name": "Python 3.9.13 ('venv': venv)",
      "language": "python",
      "name": "python3"
    },
    "language_info": {
      "codemirror_mode": {
        "name": "ipython",
        "version": 3
      },
      "file_extension": ".py",
      "mimetype": "text/x-python",
      "name": "python",
      "nbconvert_exporter": "python",
      "pygments_lexer": "ipython3",
      "version": "3.9.13"
    },
    "vscode": {
      "interpreter": {
        "hash": "ee4198aac13dae9b6fccd443041680d99c2643c4956ef7c80ff6dcc0057cb523"
      }
    },
    "widgets": {
      "application/vnd.jupyter.widget-state+json": {
        "0106a3caf9c14d30b4ea61fd13f4760c": {
          "model_module": "@jupyter-widgets/base",
          "model_module_version": "1.2.0",
          "model_name": "LayoutModel",
          "state": {
            "_model_module": "@jupyter-widgets/base",
            "_model_module_version": "1.2.0",
            "_model_name": "LayoutModel",
            "_view_count": null,
            "_view_module": "@jupyter-widgets/base",
            "_view_module_version": "1.2.0",
            "_view_name": "LayoutView",
            "align_content": null,
            "align_items": null,
            "align_self": null,
            "border": null,
            "bottom": null,
            "display": null,
            "flex": null,
            "flex_flow": null,
            "grid_area": null,
            "grid_auto_columns": null,
            "grid_auto_flow": null,
            "grid_auto_rows": null,
            "grid_column": null,
            "grid_gap": null,
            "grid_row": null,
            "grid_template_areas": null,
            "grid_template_columns": null,
            "grid_template_rows": null,
            "height": null,
            "justify_content": null,
            "justify_items": null,
            "left": null,
            "margin": null,
            "max_height": null,
            "max_width": null,
            "min_height": null,
            "min_width": null,
            "object_fit": null,
            "object_position": null,
            "order": null,
            "overflow": null,
            "overflow_x": null,
            "overflow_y": null,
            "padding": null,
            "right": null,
            "top": null,
            "visibility": null,
            "width": null
          }
        },
        "144d96273a364e37bb00cb55769a788c": {
          "model_module": "@jupyter-widgets/base",
          "model_module_version": "1.2.0",
          "model_name": "LayoutModel",
          "state": {
            "_model_module": "@jupyter-widgets/base",
            "_model_module_version": "1.2.0",
            "_model_name": "LayoutModel",
            "_view_count": null,
            "_view_module": "@jupyter-widgets/base",
            "_view_module_version": "1.2.0",
            "_view_name": "LayoutView",
            "align_content": null,
            "align_items": null,
            "align_self": null,
            "border": null,
            "bottom": null,
            "display": null,
            "flex": null,
            "flex_flow": null,
            "grid_area": null,
            "grid_auto_columns": null,
            "grid_auto_flow": null,
            "grid_auto_rows": null,
            "grid_column": null,
            "grid_gap": null,
            "grid_row": null,
            "grid_template_areas": null,
            "grid_template_columns": null,
            "grid_template_rows": null,
            "height": null,
            "justify_content": null,
            "justify_items": null,
            "left": null,
            "margin": null,
            "max_height": null,
            "max_width": null,
            "min_height": null,
            "min_width": null,
            "object_fit": null,
            "object_position": null,
            "order": null,
            "overflow": null,
            "overflow_x": null,
            "overflow_y": null,
            "padding": null,
            "right": null,
            "top": null,
            "visibility": null,
            "width": null
          }
        },
        "25ef510d5eff4757985692f7e089ba14": {
          "model_module": "@jupyter-widgets/controls",
          "model_module_version": "1.5.0",
          "model_name": "ButtonStyleModel",
          "state": {
            "_model_module": "@jupyter-widgets/controls",
            "_model_module_version": "1.5.0",
            "_model_name": "ButtonStyleModel",
            "_view_count": null,
            "_view_module": "@jupyter-widgets/base",
            "_view_module_version": "1.2.0",
            "_view_name": "StyleView",
            "button_color": null,
            "font_weight": ""
          }
        },
        "3e4f503d71fa4a96b9cbc7df63d7a12f": {
          "model_module": "@jupyter-widgets/output",
          "model_module_version": "1.0.0",
          "model_name": "OutputModel",
          "state": {
            "_dom_classes": [],
            "_model_module": "@jupyter-widgets/output",
            "_model_module_version": "1.0.0",
            "_model_name": "OutputModel",
            "_view_count": null,
            "_view_module": "@jupyter-widgets/output",
            "_view_module_version": "1.0.0",
            "_view_name": "OutputView",
            "layout": "IPY_MODEL_e5c5e6e102734e188c95f9fa9d26b5c6",
            "msg_id": "",
            "outputs": [
              {
                "name": "stdout",
                "output_type": "stream",
                "text": [
                  "Using demo license.\n"
                ]
              }
            ]
          }
        },
        "433cfe06e966484a803ff3ceed14f8d7": {
          "model_module": "@jupyter-widgets/controls",
          "model_module_version": "1.5.0",
          "model_name": "VBoxModel",
          "state": {
            "_dom_classes": [],
            "_model_module": "@jupyter-widgets/controls",
            "_model_module_version": "1.5.0",
            "_model_name": "VBoxModel",
            "_view_count": null,
            "_view_module": "@jupyter-widgets/controls",
            "_view_module_version": "1.5.0",
            "_view_name": "VBoxView",
            "box_style": "",
            "children": [
              "IPY_MODEL_7ab2e86a128b4a3281707e59f324138d",
              "IPY_MODEL_3e4f503d71fa4a96b9cbc7df63d7a12f",
              "IPY_MODEL_ed9e8434d036431fa1ec4f162d154d20"
            ],
            "layout": "IPY_MODEL_c740d0b4551c4cc2aa325e7640bc0e53"
          }
        },
        "60a4e46a8813489aaa530863b1ef1408": {
          "model_module": "@jupyter-widgets/base",
          "model_module_version": "1.2.0",
          "model_name": "LayoutModel",
          "state": {
            "_model_module": "@jupyter-widgets/base",
            "_model_module_version": "1.2.0",
            "_model_name": "LayoutModel",
            "_view_count": null,
            "_view_module": "@jupyter-widgets/base",
            "_view_module_version": "1.2.0",
            "_view_name": "LayoutView",
            "align_content": null,
            "align_items": null,
            "align_self": null,
            "border": null,
            "bottom": null,
            "display": null,
            "flex": null,
            "flex_flow": null,
            "grid_area": null,
            "grid_auto_columns": null,
            "grid_auto_flow": null,
            "grid_auto_rows": null,
            "grid_column": null,
            "grid_gap": null,
            "grid_row": null,
            "grid_template_areas": null,
            "grid_template_columns": null,
            "grid_template_rows": null,
            "height": null,
            "justify_content": null,
            "justify_items": null,
            "left": null,
            "margin": null,
            "max_height": null,
            "max_width": null,
            "min_height": null,
            "min_width": null,
            "object_fit": null,
            "object_position": null,
            "order": null,
            "overflow": null,
            "overflow_x": null,
            "overflow_y": null,
            "padding": null,
            "right": null,
            "top": null,
            "visibility": null,
            "width": null
          }
        },
        "6a734baf6d6c4e30a5368133b0af88f4": {
          "model_module": "@jupyter-widgets/base",
          "model_module_version": "1.2.0",
          "model_name": "LayoutModel",
          "state": {
            "_model_module": "@jupyter-widgets/base",
            "_model_module_version": "1.2.0",
            "_model_name": "LayoutModel",
            "_view_count": null,
            "_view_module": "@jupyter-widgets/base",
            "_view_module_version": "1.2.0",
            "_view_name": "LayoutView",
            "align_content": null,
            "align_items": null,
            "align_self": null,
            "border": null,
            "bottom": null,
            "display": null,
            "flex": null,
            "flex_flow": null,
            "grid_area": null,
            "grid_auto_columns": null,
            "grid_auto_flow": null,
            "grid_auto_rows": null,
            "grid_column": null,
            "grid_gap": null,
            "grid_row": null,
            "grid_template_areas": null,
            "grid_template_columns": null,
            "grid_template_rows": null,
            "height": null,
            "justify_content": null,
            "justify_items": null,
            "left": null,
            "margin": null,
            "max_height": null,
            "max_width": null,
            "min_height": null,
            "min_width": null,
            "object_fit": null,
            "object_position": null,
            "order": null,
            "overflow": null,
            "overflow_x": null,
            "overflow_y": null,
            "padding": null,
            "right": null,
            "top": null,
            "visibility": null,
            "width": null
          }
        },
        "7ab2e86a128b4a3281707e59f324138d": {
          "model_module": "@jupyter-widgets/controls",
          "model_module_version": "1.5.0",
          "model_name": "HBoxModel",
          "state": {
            "_dom_classes": [],
            "_model_module": "@jupyter-widgets/controls",
            "_model_module_version": "1.5.0",
            "_model_name": "HBoxModel",
            "_view_count": null,
            "_view_module": "@jupyter-widgets/controls",
            "_view_module_version": "1.5.0",
            "_view_name": "HBoxView",
            "box_style": "",
            "children": [
              "IPY_MODEL_caeefebc5bfa47cb9f5dbf251cd2bb3e",
              "IPY_MODEL_8038ee8823804280bbf37b62484d93ad"
            ],
            "layout": "IPY_MODEL_0106a3caf9c14d30b4ea61fd13f4760c"
          }
        },
        "8038ee8823804280bbf37b62484d93ad": {
          "model_module": "@jupyter-widgets/controls",
          "model_module_version": "1.5.0",
          "model_name": "TextModel",
          "state": {
            "_dom_classes": [],
            "_model_module": "@jupyter-widgets/controls",
            "_model_module_version": "1.5.0",
            "_model_name": "TextModel",
            "_view_count": null,
            "_view_module": "@jupyter-widgets/controls",
            "_view_module_version": "1.5.0",
            "_view_name": "TextView",
            "continuous_update": true,
            "description": "UUID:",
            "description_tooltip": null,
            "disabled": false,
            "layout": "IPY_MODEL_144d96273a364e37bb00cb55769a788c",
            "placeholder": "​",
            "style": "IPY_MODEL_a483a1b9fc164c52b926aa37748ac89d",
            "value": ""
          }
        },
        "a483a1b9fc164c52b926aa37748ac89d": {
          "model_module": "@jupyter-widgets/controls",
          "model_module_version": "1.5.0",
          "model_name": "DescriptionStyleModel",
          "state": {
            "_model_module": "@jupyter-widgets/controls",
            "_model_module_version": "1.5.0",
            "_model_name": "DescriptionStyleModel",
            "_view_count": null,
            "_view_module": "@jupyter-widgets/base",
            "_view_module_version": "1.2.0",
            "_view_name": "StyleView",
            "description_width": ""
          }
        },
        "c740d0b4551c4cc2aa325e7640bc0e53": {
          "model_module": "@jupyter-widgets/base",
          "model_module_version": "1.2.0",
          "model_name": "LayoutModel",
          "state": {
            "_model_module": "@jupyter-widgets/base",
            "_model_module_version": "1.2.0",
            "_model_name": "LayoutModel",
            "_view_count": null,
            "_view_module": "@jupyter-widgets/base",
            "_view_module_version": "1.2.0",
            "_view_name": "LayoutView",
            "align_content": null,
            "align_items": null,
            "align_self": null,
            "border": null,
            "bottom": null,
            "display": null,
            "flex": null,
            "flex_flow": null,
            "grid_area": null,
            "grid_auto_columns": null,
            "grid_auto_flow": null,
            "grid_auto_rows": null,
            "grid_column": null,
            "grid_gap": null,
            "grid_row": null,
            "grid_template_areas": null,
            "grid_template_columns": null,
            "grid_template_rows": null,
            "height": null,
            "justify_content": null,
            "justify_items": null,
            "left": null,
            "margin": null,
            "max_height": null,
            "max_width": null,
            "min_height": null,
            "min_width": null,
            "object_fit": null,
            "object_position": null,
            "order": null,
            "overflow": null,
            "overflow_x": null,
            "overflow_y": null,
            "padding": null,
            "right": null,
            "top": null,
            "visibility": null,
            "width": null
          }
        },
        "caeefebc5bfa47cb9f5dbf251cd2bb3e": {
          "model_module": "@jupyter-widgets/controls",
          "model_module_version": "1.5.0",
          "model_name": "ButtonModel",
          "state": {
            "_dom_classes": [],
            "_model_module": "@jupyter-widgets/controls",
            "_model_module_version": "1.5.0",
            "_model_name": "ButtonModel",
            "_view_count": null,
            "_view_module": "@jupyter-widgets/controls",
            "_view_module_version": "1.5.0",
            "_view_name": "ButtonView",
            "button_style": "",
            "description": "Use demo license",
            "disabled": false,
            "icon": "",
            "layout": "IPY_MODEL_6a734baf6d6c4e30a5368133b0af88f4",
            "style": "IPY_MODEL_25ef510d5eff4757985692f7e089ba14",
            "tooltip": ""
          }
        },
        "e5c5e6e102734e188c95f9fa9d26b5c6": {
          "model_module": "@jupyter-widgets/base",
          "model_module_version": "1.2.0",
          "model_name": "LayoutModel",
          "state": {
            "_model_module": "@jupyter-widgets/base",
            "_model_module_version": "1.2.0",
            "_model_name": "LayoutModel",
            "_view_count": null,
            "_view_module": "@jupyter-widgets/base",
            "_view_module_version": "1.2.0",
            "_view_name": "LayoutView",
            "align_content": null,
            "align_items": null,
            "align_self": null,
            "border": null,
            "bottom": null,
            "display": null,
            "flex": null,
            "flex_flow": null,
            "grid_area": null,
            "grid_auto_columns": null,
            "grid_auto_flow": null,
            "grid_auto_rows": null,
            "grid_column": null,
            "grid_gap": null,
            "grid_row": null,
            "grid_template_areas": null,
            "grid_template_columns": null,
            "grid_template_rows": null,
            "height": null,
            "justify_content": null,
            "justify_items": null,
            "left": null,
            "margin": null,
            "max_height": null,
            "max_width": null,
            "min_height": null,
            "min_width": null,
            "object_fit": null,
            "object_position": null,
            "order": null,
            "overflow": null,
            "overflow_x": null,
            "overflow_y": null,
            "padding": null,
            "right": null,
            "top": null,
            "visibility": null,
            "width": null
          }
        },
        "ed9e8434d036431fa1ec4f162d154d20": {
          "model_module": "@jupyter-widgets/output",
          "model_module_version": "1.0.0",
          "model_name": "OutputModel",
          "state": {
            "_dom_classes": [],
            "_model_module": "@jupyter-widgets/output",
            "_model_module_version": "1.0.0",
            "_model_name": "OutputModel",
            "_view_count": null,
            "_view_module": "@jupyter-widgets/output",
            "_view_module_version": "1.0.0",
            "_view_name": "OutputView",
            "layout": "IPY_MODEL_60a4e46a8813489aaa530863b1ef1408",
            "msg_id": "",
            "outputs": [
              {
                "name": "stdout",
                "output_type": "stream",
                "text": [
                  "\n",
                  "AMPL Version 20220310 (Linux-5.4.0-1070-azure, 64-bit)\n",
                  "Demo license with maintenance expiring 20240131.\n",
                  "Using license file \"/content/amplcolab/miscellaneous/hashcode/ampl.linux-intel64/ampl.lic\".\n",
                  "\n"
                ]
              }
            ]
          }
        }
      }
    }
  },
  "nbformat": 4,
  "nbformat_minor": 0
}
