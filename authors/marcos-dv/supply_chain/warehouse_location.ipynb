{
  "cells": [
    {
      "cell_type": "markdown",
      "metadata": {
        "id": "YtLCXIV5Nkeu"
      },
      "source": [
        "# Warehouse location and transport\n",
        "[![warehouse_location.ipynb](https://img.shields.io/badge/github-%23121011.svg?logo=github)](https://github.com/ampl/colab.ampl.com/blob/master/authors/marcos-dv/supply_chain/warehouse_location.ipynb) [![Open In Colab](https://colab.research.google.com/assets/colab-badge.svg)](https://colab.research.google.com/github/ampl/colab.ampl.com/blob/master/authors/marcos-dv/supply_chain/warehouse_location.ipynb) [![Open In Deepnote](https://deepnote.com/buttons/launch-in-deepnote-small.svg)](https://deepnote.com/launch?url=https://github.com/ampl/colab.ampl.com/blob/master/authors/marcos-dv/supply_chain/warehouse_location.ipynb) [![Open In Kaggle](https://kaggle.com/static/images/open-in-kaggle.svg)](https://kaggle.com/kernels/welcome?src=https://github.com/ampl/colab.ampl.com/blob/master/authors/marcos-dv/supply_chain/warehouse_location.ipynb) [![Open In Gradient](https://assets.paperspace.io/img/gradient-badge.svg)](https://console.paperspace.com/github/ampl/colab.ampl.com/blob/master/authors/marcos-dv/supply_chain/warehouse_location.ipynb) [![Open In SageMaker Studio Lab](https://studiolab.sagemaker.aws/studiolab.svg)](https://studiolab.sagemaker.aws/import/github/ampl/colab.ampl.com/blob/master/authors/marcos-dv/supply_chain/warehouse_location.ipynb) [![Powered by AMPL](https://h.ampl.com/https://github.com/ampl/colab.ampl.com/blob/master/authors/marcos-dv/supply_chain/warehouse_location.ipynb)](https://ampl.com)\n",
        "\n",
        "Description: Model for warehouse allocation. Farms (suppliers) send feedstock to warehouses, and later on, those warehouses send it to a production plant. The problem involves modeling a storage facility location problem with a transportation component to the final plant.\n",
        "\n",
        "The problem is a MILP one solved with Ampl + Highs.\n",
        "\n",
        "Tags: facility location, highs, mip, mixed-integer-linear, supply_chain, network, transportation, graphs, networkx, transportation, mp\n",
        "\n",
        "Notebook author: Marcos Dominguez Velad <<marcos@ampl.com>>\n",
        "\n",
        "Model author: Marcos Dominguez Velad <<marcos@ampl.com>>"
      ]
    },
    {
      "cell_type": "code",
      "execution_count": 1,
      "metadata": {
        "id": "ez4l3wsNF7iO"
      },
      "outputs": [],
      "source": [
        "# Install dependencies\n",
        "%pip install -q amplpy matplotlib networkx"
      ]
    },
    {
      "cell_type": "code",
      "execution_count": 2,
      "metadata": {
        "colab": {
          "base_uri": "https://localhost:8080/"
        },
        "id": "3xDtAc-Fa6An",
        "outputId": "7bf52de5-4cad-4d86-beb0-52abd7b9efd7"
      },
      "outputs": [],
      "source": [
        "# Google Colab & Kaggle integration\n",
        "from amplpy import AMPL, ampl_notebook\n",
        "\n",
        "ampl = ampl_notebook(\n",
        "    modules=[\"highs\"],  # modules to install\n",
        "    license_uuid=\"default\",  # license to use\n",
        ")  # instantiate AMPL object and register magics"
      ]
    },
    {
      "cell_type": "markdown",
      "metadata": {
        "id": "jy19YglqFwIn"
      },
      "source": [
        "## Problem\n",
        "\n",
        "Feedstock needs to be sent from farms (suppliers) to storage facilities, and from there to a processing plant (the only consumer). Given the demand for the processing plant, decide which storage centers to use in order to store and later transport the feedstock so that transportation costs get minimized.\n",
        "\n",
        "Variants of this problem are fundamental in supply chain industry. The idea of this notebook is to showcase how to solve the problem in a simple way through a simple Mathematical formulation, and visualize the solution via networkx in Python.\n",
        "\n",
        "## Formulation\n",
        "\n",
        "### Facility Location Problem\n",
        "\n",
        "**Sets:**\n",
        "- $S$: Set of potential facility locations.\n",
        "- $F$: Set of demand points.\n",
        "\n",
        "**Parameters:**\n",
        "- $d_{fs}$: Distance from farm $f$ to storage center $s$.\n",
        "- $d_{sp}$: Distance from storage center $s$ to plant.\n",
        "- $c_{\\text{transport}}$: Cost of transportation per unit.\n",
        "- $c_{\\text{open}}$: Cost of using a storage center.\n",
        "- $F_f$: Capacity of farm $f$.\n",
        "- $D_p$: Demand at plant $p$.\n",
        "\n",
        "**Decision Variables:**\n",
        "- $y_s$: Binary decision variable; 1 if a facility is placed at location $s$, 0 otherwise.\n",
        "- $x_{fs}$: Amount of shipment from farm $f$ to facility $s$. This is constrained by the capacity $F_f$ of farm $f$.\n",
        "- $x_{sp}$: Amount of shipment from facility $s$ to the plant. This is constrained by the demand $D_p$ at the plant.\n",
        "\n",
        "**Objective Function:**\n",
        "Minimize the total transportation cost:\n",
        "\n",
        "$$\n",
        "\\text{Minimize } \\text{Total_cost} = \\sum_{f \\in F, s \\in S} d_{fs} \\cdot x_{fs} \\cdot c_{\\text{transport}} + \\sum_{s \\in S} d_{sp} \\cdot x_{sp} \\cdot c_{\\text{transport}}\n",
        "$$\n",
        "\n",
        "**Constraints:**\n",
        "\n",
        "1. **Facility Constraint:**\n",
        "   Ensure at least one facility is chosen:\n",
        "\n",
        "   $$\n",
        "   \\sum_{s \\in S} y_s \\geq 1\n",
        "   $$\n",
        "\n",
        "2. **Capacity Constraint:**\n",
        "   The total shipment from a farm $f$ to all facilities $s$ must not exceed the farm's capacity:\n",
        "\n",
        "   $$\n",
        "   \\sum_{s \\in S} x_{fs} \\leq F_f \\quad \\forall f \\in F\n",
        "   $$\n",
        "\n",
        "3. **Demand Satisfaction:**\n",
        "   The total shipment from all facilities $s$ to the plant must meet the plant's demand:\n",
        "\n",
        "   $$\n",
        "   \\sum_{s \\in S} x_{sp} \\geq D_p\n",
        "   $$\n",
        "\n",
        "4. **Balance equation:**\n",
        "   Ensure flow conservation at each storage center $s$, where the input equals the output:\n",
        "\n",
        "   $$\n",
        "   \\sum_{f \\in F} x_{fs} = x_{sp} \\quad \\forall s \\in S\n",
        "   $$\n",
        "\n",
        "5. **Linking constraints**\n",
        "   - If no facility is placed at location $s$, then no shipment should occur from any farm $f$ to that location:\n",
        "\n",
        "     $$\n",
        "     y_s = 0 \\Rightarrow x_{fs} = 0 \\quad \\forall f \\in F, \\forall s \\in S\n",
        "     $$\n",
        "\n",
        "   - Similarly, if no facility is placed at location $s$, then no shipment should occur from that location to the plant:\n",
        "\n",
        "     $$\n",
        "     y_s = 0 \\Rightarrow x_{sp} = 0 \\quad \\forall s \\in S\n",
        "     $$\n",
        "\n",
        "Notice that these are \"indicator constraints\" that may be linearized, but Ampl handles them automatically so Highs solver (a MIP solver) can deal with them. Read more about automatic reformulations and advanced modeling features in\n",
        "\n",
        "https://mp.ampl.com/model-guide.html"
      ]
    },
    {
      "cell_type": "code",
      "execution_count": 3,
      "metadata": {
        "colab": {
          "base_uri": "https://localhost:8080/"
        },
        "id": "4oBfIvMzbnvk",
        "outputId": "a503f113-a4cf-463f-d11f-e437802ef209"
      },
      "outputs": [
        {
          "name": "stdout",
          "output_type": "stream",
          "text": [
            "Overwriting storage_center_location.mod\n"
          ]
        }
      ],
      "source": [
        "%%writefile storage_center_location.mod\n",
        "reset;\n",
        "# Sets\n",
        "set S;  # Set of potential facility locations\n",
        "set F;  # Set of demand points\n",
        "\n",
        "# Parameters\n",
        "# distances\n",
        "param d_fs{F,S}; #distance from farm to storage center\n",
        "param d_sp{S}; #distance from storage center to plant\n",
        "param c_transport; # cost of transportation (per unit)\n",
        "param c_open; # cost of using a storage center\n",
        "\n",
        "param F_f{F}; # Capacity of farm f\n",
        "param D_p; # Demand at plant p\n",
        "\n",
        "# Decision Variables\n",
        "var y{s in S} binary;  # Binary decision variable whether a facility is placed at location s\n",
        "var x_fs{f in F, s in S} >= 0 <= F_f[f];  # Shipment from facility s to demand point f\n",
        "var x_sp{s in S} >= 0 <= D_p;  # Shipment from the supply point to facility s\n",
        "\n",
        "# Objective Function\n",
        "minimize Total_cost:\n",
        "    sum {f in F, s in S} d_fs[f,s] * x_fs[f,s] * c_transport +\n",
        "    sum {s in S} d_sp[s] * x_sp[s] * c_transport +\n",
        "    sum {s in S} y[s] * c_open;\n",
        "\n",
        "# Constraints\n",
        "\n",
        "# Ensure at least one facility is chosen\n",
        "subject to Facility_Constraint:\n",
        "    sum {s in S} y[s] >= 1;\n",
        "\n",
        "# Farm supply constraint\n",
        "subject to Capacity_Constraint {f in F}:\n",
        "    sum {s in S} x_fs[f,s] <= F_f[f];\n",
        "\n",
        "# Demand satisfaction\n",
        "subject to Demand_Constraint:\n",
        "    sum {s in S} x_sp[s] >= D_p;\n",
        "\n",
        "# Flow conservation at storage centers, input = output\n",
        "subject to Flow_Conservation {s in S}:\n",
        "    sum {f in F} x_fs[f,s] = x_sp[s];\n",
        "\n",
        "# Logical linking between flow and opened storage\n",
        "subject to Flow_Limit_fs {f in F, s in S}:\n",
        "    y[s] == 0 ==> x_fs[f,s] == 0;\n",
        "\n",
        "subject to Flow_Limit_sp {s in S}:\n",
        "    y[s] == 0 ==> x_sp[s] == 0;"
      ]
    },
    {
      "cell_type": "markdown",
      "metadata": {
        "id": "Q0au6AkXQW-I"
      },
      "source": [
        "## Load the data"
      ]
    },
    {
      "cell_type": "code",
      "execution_count": 4,
      "metadata": {
        "id": "plPCDhdhjivI"
      },
      "outputs": [],
      "source": [
        "# Define our data\n",
        "# Sets\n",
        "F = [\"F\" + str(i) for i in range(1, 5)]\n",
        "S = [\"S\" + str(i) for i in range(1, 11)]\n",
        "\n",
        "from random import randint\n",
        "\n",
        "\n",
        "def generate_coordinates(F, S, minX=-50, maxX=50, minY=-50, maxY=50):\n",
        "    # Generate random coordinates for the nodes\n",
        "    coordinates_F = {}\n",
        "    coordinates_S = {}\n",
        "    for f in F:\n",
        "        coordinates_F[f] = (randint(minX, maxX), randint(minY, maxY))\n",
        "    for s in S:\n",
        "        coordinates_S[s] = (randint(minX, maxX), randint(minY, maxY))\n",
        "    coordinates_Plant = (randint(minX, maxX), randint(minY, maxY))\n",
        "    return coordinates_F, coordinates_S, coordinates_Plant\n",
        "\n",
        "\n",
        "coordinates_F, coordinates_S, coordinates_Plant = generate_coordinates(F, S)\n",
        "\n",
        "\n",
        "def dist(x, y):\n",
        "    return ((x[0] - y[0]) ** 2 + (x[1] - y[1]) ** 2) ** 0.5\n",
        "\n",
        "\n",
        "# Parameters\n",
        "\n",
        "d_fs = {(f, s): dist(coordinates_F[f], coordinates_S[s]) for f in F for s in S}\n",
        "d_sp = {s: dist(coordinates_S[s], coordinates_Plant) for s in S}\n",
        "c_transport = 3\n",
        "c_open = 1000\n",
        "F_f = {f: 100 for f in F}\n",
        "D_p = 300\n",
        "\n",
        "# Load data into AMPL\n",
        "# First read the model\n",
        "ampl.read(\"storage_center_location.mod\")\n",
        "# Then load the data into the model entities\n",
        "\n",
        "# Sets\n",
        "ampl.set[\"F\"] = F\n",
        "ampl.set[\"S\"] = S\n",
        "\n",
        "# Parameters\n",
        "ampl.param[\"d_fs\"] = d_fs\n",
        "ampl.param[\"d_sp\"] = d_sp\n",
        "ampl.param[\"c_transport\"] = c_transport\n",
        "ampl.param[\"c_open\"] = c_open\n",
        "ampl.param[\"F_f\"] = F_f\n",
        "ampl.param[\"D_p\"] = D_p"
      ]
    },
    {
      "cell_type": "markdown",
      "metadata": {
        "id": "ovwrtzmsQbtA"
      },
      "source": [
        "## Solve and process the solution"
      ]
    },
    {
      "cell_type": "code",
      "execution_count": 5,
      "metadata": {
        "colab": {
          "base_uri": "https://localhost:8080/"
        },
        "id": "pVEzgmn9QbJU",
        "outputId": "f01b7c7c-4ace-417e-cee0-95a800d494c6"
      },
      "outputs": [
        {
          "name": "stdout",
          "output_type": "stream",
          "text": [
            "HiGHS 1.10.0: \b\b\b\b\b\b\b\b\b\b\b\b\b\bHiGHS 1.10.0: optimal solution; objective 59698.70705\n",
            "9 simplex iterations\n",
            "1 branching nodes\n",
            "Facility location decision y(s):\n",
            "{'S1': 0, 'S10': 0, 'S2': 0, 'S3': 1, 'S4': 0, 'S5': 0, 'S6': 0, 'S7': 0, 'S8': 0, 'S9': 0}\n",
            "Shipment from facilities to demand points x_fs(f,s):\n",
            "{('F1', 'S1'): 0, ('F1', 'S10'): 0, ('F1', 'S2'): 0, ('F1', 'S3'): 0, ('F1', 'S4'): 0, ('F1', 'S5'): 0, ('F1', 'S6'): 0, ('F1', 'S7'): 0, ('F1', 'S8'): 0, ('F1', 'S9'): 0, ('F2', 'S1'): 0, ('F2', 'S10'): 0, ('F2', 'S2'): 0, ('F2', 'S3'): 100, ('F2', 'S4'): 0, ('F2', 'S5'): 0, ('F2', 'S6'): 0, ('F2', 'S7'): 0, ('F2', 'S8'): 0, ('F2', 'S9'): 0, ('F3', 'S1'): 0, ('F3', 'S10'): 0, ('F3', 'S2'): 0, ('F3', 'S3'): 100, ('F3', 'S4'): 0, ('F3', 'S5'): 0, ('F3', 'S6'): 0, ('F3', 'S7'): 0, ('F3', 'S8'): 0, ('F3', 'S9'): 0, ('F4', 'S1'): 0, ('F4', 'S10'): 0, ('F4', 'S2'): 0, ('F4', 'S3'): 100, ('F4', 'S4'): 0, ('F4', 'S5'): 0, ('F4', 'S6'): 0, ('F4', 'S7'): 0, ('F4', 'S8'): 0, ('F4', 'S9'): 0}\n",
            "Shipment from supply point to facilities x_sp(s):\n",
            "{'S1': 0, 'S10': 0, 'S2': 0, 'S3': 300, 'S4': 0, 'S5': 0, 'S6': 0, 'S7': 0, 'S8': 0, 'S9': 0}\n"
          ]
        }
      ],
      "source": [
        "# Solve the model\n",
        "ampl.solve(solver=\"highs\")\n",
        "assert ampl.solve_result == \"solved\", ampl.solve_result\n",
        "\n",
        "# Get results\n",
        "y_values = ampl.getVariable(\"y\").getValues().to_dict()\n",
        "x_fs_values = ampl.getVariable(\"x_fs\").getValues().to_dict()\n",
        "x_sp_values = ampl.getVariable(\"x_sp\").getValues().to_dict()\n",
        "\n",
        "# Display results\n",
        "print(\"Facility location decision y(s):\")\n",
        "print(y_values)\n",
        "\n",
        "print(\"Shipment from facilities to demand points x_fs(f,s):\")\n",
        "print(x_fs_values)\n",
        "\n",
        "print(\"Shipment from supply point to facilities x_sp(s):\")\n",
        "print(x_sp_values)"
      ]
    },
    {
      "cell_type": "markdown",
      "metadata": {
        "id": "akW0SxP2QT-P"
      },
      "source": [
        "## Visualize the solution"
      ]
    },
    {
      "cell_type": "code",
      "execution_count": 6,
      "metadata": {
        "colab": {
          "base_uri": "https://localhost:8080/",
          "height": 539
        },
        "id": "_hZYo8w7MGXn",
        "outputId": "eb03a2c0-cc78-4e5a-c068-358c6600e9ea"
      },
      "outputs": [
        {
          "data": {
            "image/png": "[encoded data removed]",
            "text/plain": [
              "<Figure size 640x480 with 1 Axes>"
            ]
          },
          "metadata": {},
          "output_type": "display_data"
        }
      ],
      "source": [
        "import networkx as nx\n",
        "import matplotlib.pyplot as plt\n",
        "\n",
        "\n",
        "def generate_network(\n",
        "    y_values, x_fs_values, x_sp_values, coordinates_F, coordinates_S, coordinates_Plant\n",
        "):\n",
        "    # Create a directed graph\n",
        "    G = nx.DiGraph()\n",
        "\n",
        "    # Add the farms (F) as nodes in blue\n",
        "    farms = set([f for f, s in x_fs_values.keys()])\n",
        "    G.add_nodes_from(farms, color=\"blue\", label=\"Farm\")\n",
        "\n",
        "    # Add the storage centers (S) as nodes\n",
        "    storage_centers = set([s for f, s in x_fs_values.keys()])\n",
        "    for s in storage_centers:\n",
        "        color = \"green\" if y_values[s] == 1 else \"red\"\n",
        "        G.add_node(s, color=color, label=\"Storage Center\")\n",
        "\n",
        "    # Add the processing plant (P) as an extra node in blue\n",
        "    G.add_node(\"P\", color=\"blue\", label=\"Processing Plant\")\n",
        "\n",
        "    # Add edges from farms to storage centers with the flow values\n",
        "    for (f, s), flow_value in x_fs_values.items():\n",
        "        if flow_value > 0:\n",
        "            G.add_edge(f, s, weight=flow_value)\n",
        "\n",
        "    # Add edges from storage centers to the processing plant with the flow values\n",
        "    for s, flow_value in x_sp_values.items():\n",
        "        if flow_value > 0:\n",
        "            G.add_edge(s, \"P\", weight=flow_value)\n",
        "\n",
        "    # Define the positions using the provided coordinates\n",
        "    pos = {}\n",
        "\n",
        "    # Add positions for farms\n",
        "    for farm, coord in coordinates_F.items():\n",
        "        pos[farm] = coord\n",
        "\n",
        "    # Add positions for storage centers\n",
        "    for storage, coord in coordinates_S.items():\n",
        "        pos[storage] = coord\n",
        "\n",
        "    # Add position for the processing plant\n",
        "    pos[\"P\"] = coordinates_Plant\n",
        "\n",
        "    # Extract node colors\n",
        "    colors = [G.nodes[node][\"color\"] for node in G.nodes]\n",
        "    labels = {node: node for node in G.nodes}\n",
        "    edge_labels = nx.get_edge_attributes(G, \"weight\")\n",
        "\n",
        "    # Draw the graph with provided coordinates\n",
        "    nx.draw(\n",
        "        G,\n",
        "        pos,\n",
        "        node_color=colors,\n",
        "        with_labels=True,\n",
        "        labels=labels,\n",
        "        node_size=1000,\n",
        "        font_size=10,\n",
        "        font_color=\"white\",\n",
        "    )\n",
        "    nx.draw_networkx_edge_labels(G, pos, edge_labels=edge_labels, font_color=\"black\")\n",
        "\n",
        "    plt.title(\"Facility Location and Transportation Network\")\n",
        "    plt.show()\n",
        "\n",
        "\n",
        "# Example usage with your retrieved data\n",
        "generate_network(\n",
        "    y_values, x_fs_values, x_sp_values, coordinates_F, coordinates_S, coordinates_Plant\n",
        ")"
      ]
    },
    {
      "cell_type": "markdown",
      "metadata": {
        "id": "mqUbsMqcM7hD"
      },
      "source": [
        "[AMPL Website](https://ampl.com) | [AMPL Colab](https://colab.ampl.com) | [Community Edition]( https://ampl.com/ce/) | [Twitter](https://twitter.com/AMPLopt) | [LinkedIn](https://www.linkedin.com/company/ampl)"
      ]
    }
  ],
  "metadata": {
    "colab": {
      "provenance": []
    },
    "kernelspec": {
      "display_name": "Python 3 (ipykernel)",
      "language": "python",
      "name": "python3"
    },
    "language_info": {
      "codemirror_mode": {
        "name": "ipython",
        "version": 3
      },
      "file_extension": ".py",
      "mimetype": "text/x-python",
      "name": "python",
      "nbconvert_exporter": "python",
      "pygments_lexer": "ipython3",
      "version": "3.10.12"
    },
    "vscode": {
      "interpreter": {
        "hash": "ee4198aac13dae9b6fccd443041680d99c2643c4956ef7c80ff6dcc0057cb523"
      }
    }
  },
  "nbformat": 4,
  "nbformat_minor": 0
}
