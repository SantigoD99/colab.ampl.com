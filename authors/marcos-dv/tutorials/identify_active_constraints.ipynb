{
 "cells": [
  {
   "cell_type": "markdown",
   "metadata": {
    "id": "QPR6phHo-vEV"
   },
   "source": [
    "# Identifying active constraints with Ampl\n",
    "\n",
    "[![identify_active_constraints.ipynb](https://img.shields.io/badge/github-%23121011.svg?logo=github)](https://github.com/ampl/colab.ampl.com/blob/master/authors/marcos-dv/tutorials/identify_active_constraints.ipynb) [![Open In Colab](https://colab.research.google.com/assets/colab-badge.svg)](https://colab.research.google.com/github/ampl/colab.ampl.com/blob/master/authors/marcos-dv/tutorials/identify_active_constraints.ipynb) [![Kaggle](https://kaggle.com/static/images/open-in-kaggle.svg)](https://kaggle.com/kernels/welcome?src=https://github.com/ampl/colab.ampl.com/blob/master/authors/marcos-dv/tutorials/identify_active_constraints.ipynb) [![Gradient](https://assets.paperspace.io/img/gradient-badge.svg)](https://console.paperspace.com/github/ampl/colab.ampl.com/blob/master/authors/marcos-dv/tutorials/identify_active_constraints.ipynb) [![Open In SageMaker Studio Lab](https://studiolab.sagemaker.aws/studiolab.svg)](https://studiolab.sagemaker.aws/import/github/ampl/colab.ampl.com/blob/master/authors/marcos-dv/tutorials/identify_active_constraints.ipynb) [![Hits](https://h.ampl.com/https://github.com/ampl/colab.ampl.com/blob/master/authors/marcos-dv/tutorials/identify_active_constraints.ipynb)](https://colab.ampl.com)\n",
    "\n",
    "Description: This notebook demonstrates how to inspect the status of constraints in an AMPL model using the astatus() method provided by amplpy. It shows how to identify which constraints are currently active (i.e., participating in the optimization) and filter out those that have been dropped, presolved, or otherwise excluded\n",
    "\n",
    "Tags: tutorials\n",
    "\n",
    "Notebook author: Marcos Dominguez Velad <<marcos@ampl.com>>\n",
    "\n",
    "Model author: N/A\n"
   ]
  },
  {
   "cell_type": "code",
   "execution_count": null,
   "metadata": {
    "colab": {
     "base_uri": "https://localhost:8080/"
    },
    "id": "3xDtAc-Fa6An",
    "outputId": "7ee8fe5a-8ddb-4d59-f62e-9ad809a7e1dc"
   },
   "outputs": [],
   "source": [
    "# The only 3 lines you need to install and use AMPL with any solver on Colab\n",
    "%pip install -q amplpy pandas\n",
    "from amplpy import AMPL, ampl_notebook\n",
    "\n",
    "ampl = ampl_notebook(\n",
    "    modules=[\"highs\"],  # modules to install\n",
    "    license_uuid=\"your-license-uuid\",  # license to use\n",
    ")  # instantiate AMPL object and register magics"
   ]
  },
  {
   "cell_type": "markdown",
   "metadata": {
    "id": "vkQvumUOP3Xx"
   },
   "source": [
    "## Identifying Active Constraints using `amplpy`\n",
    "\n",
    "When working with optimization models in Amplpy, it is often useful to know which constraints are currently *active*, i.e., those that are not dropped. `amplpy` provides a convenient method for checking the status of constraints using the `astatus()` function.\n",
    "\n",
    "The `astatus()` function returns the AMPL-level status of a constraint, such as:\n",
    "\n",
    "| Status   | Description                           |\n",
    "| -------- | ------------------------------------- |\n",
    "| `in`     | Constraint is in the problem (active) |\n",
    "| `drop`   | Removed by the `drop` command         |\n",
    "| `pre`    | Eliminated by presolve                |\n",
    "| `fix`    | Fixed by `fix` command                |\n",
    "| `sub`    | Defined variable; substituted out     |\n",
    "| `unused` | Not used in the current problem       |\n",
    "\n",
    "For detailed information, see the official documentation:\n",
    "👉 [amplpy.Constraint.astatus](https://amplpy.ampl.com/en/latest/classes/constraint.html#amplpy.Constraint.astatus)\n",
    "\n",
    "\n",
    "\n",
    "### Example: Getting and Printing Active Constraints\n",
    "\n",
    "In the example below, we use a helper function `get_active_constraints()` that scans all constraints in the model and filters only those whose status is not `'drop'`. A second function, `print_constraints_status()`, is used to display the status of each constraint, making it easy to debug or audit the model.\n",
    "\n",
    "```python\n",
    "# Return a list of tuples for every active constraint in the problem\n",
    "def get_active_constraints(model):\n",
    "    status_cons = [ (name, index, con, con.astatus())\n",
    "                    for name, constraint_family in model.get_constraints()\n",
    "                    for index, con in constraint_family ]\n",
    "    active_cons = [ (name, index, con, status)\n",
    "                    for name, index, con, status in status_cons if status != 'drop']\n",
    "    return active_cons\n",
    "\n",
    "# Print the status of all constraints in the model\n",
    "def print_constraints_status(model):\n",
    "    for name, constraint_family in model.get_constraints():\n",
    "        print(f\"++ Constraint: {name}, status:\")\n",
    "        for index, con in constraint_family:\n",
    "            if index:\n",
    "                print(f\"-{name}[{index}]: {con.astatus()}\")\n",
    "            else:\n",
    "                print(f\"-{name}: {con.astatus()}\")\n",
    "```\n",
    "\n",
    "The example includes a small production planning problem. After loading the model and its data, we explicitly drop a family of constraints (`Resource_Limit`). When we then call `get_active_constraints()`, only the remaining constraints will be listed as active.\n",
    "\n",
    "This allows us to programmatically determine which constraints are currently affecting the solution process."
   ]
  },
  {
   "cell_type": "code",
   "execution_count": 2,
   "metadata": {
    "colab": {
     "base_uri": "https://localhost:8080/"
    },
    "id": "7bJnLGRNO_rg",
    "outputId": "7cde0bbb-00fc-454c-c09b-a7690bebff3c"
   },
   "outputs": [
    {
     "name": "stdout",
     "output_type": "stream",
     "text": [
      "Overwriting m.mod\n"
     ]
    }
   ],
   "source": [
    "%%writefile m.mod\n",
    "# Sets\n",
    "set PRODUCTS;  # Set of products\n",
    "set RESOURCES; # Set of resources\n",
    "\n",
    "# Parameters\n",
    "param profit{PRODUCTS};       # Profit per unit of each product\n",
    "param demand{PRODUCTS};       # Maximum demand for each product\n",
    "param available{RESOURCES};   # Available amount of each resource\n",
    "param usage{RESOURCES,PRODUCTS}; # Resource usage per unit of product\n",
    "param min_production{PRODUCTS} default 0; # Minimum production requirements\n",
    "\n",
    "# Variables\n",
    "var Make{p in PRODUCTS} >= max(0, min_production[p]), <= demand[p]; # Production amount\n",
    "\n",
    "# Objective: Maximize total profit\n",
    "maximize Total_Profit:\n",
    "    sum{p in PRODUCTS} profit[p] * Make[p];\n",
    "\n",
    "# Constraints: Don't exceed available resources\n",
    "subject to Resource_Limit{r in RESOURCES}:\n",
    "    sum{p in PRODUCTS} usage[r,p] * Make[p] <= available[r];\n",
    "\n",
    "# Must meet minimum production requirements\n",
    "subject to Minimum_Production{p in PRODUCTS}:\n",
    "    Make[p] >= min_production[p];\n",
    "\n",
    "# Maintain product mix ratio\n",
    "subject to Product_Mix_Ratio:\n",
    "    Make['A'] >= 0.3 * sum{p in PRODUCTS} Make[p];"
   ]
  },
  {
   "cell_type": "code",
   "execution_count": 3,
   "metadata": {
    "id": "WZ3P-N4lSvJ1"
   },
   "outputs": [],
   "source": [
    "# Simply load data for the problem\n",
    "def load_data(model):\n",
    "    # Sets\n",
    "    PRODUCTS = [\"A\", \"B\", \"C\"]\n",
    "    RESOURCES = [\"Machine\", \"Labor\", \"Material\"]\n",
    "\n",
    "    # Parameters\n",
    "    profit = {\"A\": 12.50, \"B\": 8.75, \"C\": 10.00}\n",
    "\n",
    "    demand = {\"A\": 100, \"B\": 150, \"C\": 80}\n",
    "\n",
    "    available = {\"Machine\": 2000, \"Labor\": 1500, \"Material\": 5000}\n",
    "\n",
    "    usage = {\n",
    "        (\"Machine\", \"A\"): 5,\n",
    "        (\"Machine\", \"B\"): 3,\n",
    "        (\"Machine\", \"C\"): 4,\n",
    "        (\"Labor\", \"A\"): 2,\n",
    "        (\"Labor\", \"B\"): 4,\n",
    "        (\"Labor\", \"C\"): 1,\n",
    "        (\"Material\", \"A\"): 8,\n",
    "        (\"Material\", \"B\"): 6,\n",
    "        (\"Material\", \"C\"): 7,\n",
    "    }\n",
    "\n",
    "    min_production = {\"A\": 20, \"B\": 0, \"C\": 10}\n",
    "\n",
    "    # Load into Amplpy\n",
    "    model.set[\"PRODUCTS\"] = PRODUCTS\n",
    "    model.set[\"RESOURCES\"] = RESOURCES\n",
    "\n",
    "    model.param[\"profit\"] = profit\n",
    "    model.param[\"demand\"] = demand\n",
    "    model.param[\"available\"] = available\n",
    "    model.param[\"usage\"] = usage\n",
    "    model.param[\"min_production\"] = min_production"
   ]
  },
  {
   "cell_type": "code",
   "execution_count": 4,
   "metadata": {
    "colab": {
     "base_uri": "https://localhost:8080/"
    },
    "id": "Qe4Vtg19cFCA",
    "outputId": "a9373171-e20a-42d0-c7ac-cfaf4d8639d9"
   },
   "outputs": [
    {
     "name": "stdout",
     "output_type": "stream",
     "text": [
      "Minimum_Production[A] is an active constraint\n",
      "Minimum_Production[B] is an active constraint\n",
      "Minimum_Production[C] is an active constraint\n",
      "Product_Mix_Ratio is an active constraint\n"
     ]
    }
   ],
   "source": [
    "from amplpy import AMPL\n",
    "\n",
    "# Return a list of tuples for every active constraint in the problem\n",
    "# Each tuple has name, index (optional in case of non-indexed constraints),\n",
    "# the constraint object, and the status associated to the constraints\n",
    "\n",
    "\n",
    "def get_active_constraints(model):\n",
    "    status_cons = [\n",
    "        (name, index, con, con.astatus())\n",
    "        for name, constraint_family in model.get_constraints()\n",
    "        for index, con in constraint_family\n",
    "    ]\n",
    "    # for name, index, status in status_cons:\n",
    "    #    print(name, index, status)\n",
    "    active_cons = [\n",
    "        (name, index, con, status)\n",
    "        for name, index, con, status in status_cons\n",
    "        if status != \"drop\"\n",
    "    ]\n",
    "    return active_cons\n",
    "\n",
    "\n",
    "def print_constraints_status(model):\n",
    "    for name, constraint_family in model.get_constraints():\n",
    "        print(f\"++ Constraint: {name}, status:\")\n",
    "        for index, con in constraint_family:\n",
    "            if index:\n",
    "                print(f\"-{name}[{index}]: {con.astatus()}\")\n",
    "            else:\n",
    "                print(f\"-{name}: {con.astatus()}\")\n",
    "\n",
    "\n",
    "# Create Ampl object\n",
    "model = AMPL()\n",
    "# Read model and load data\n",
    "model.read(\"m.mod\")\n",
    "load_data(model)\n",
    "# Drop Resource_Limit constraints\n",
    "model.eval(\"drop Resource_Limit;\")\n",
    "\n",
    "# Get active constraints and print them\n",
    "active_cons = get_active_constraints(model)\n",
    "for name, index, _, _ in active_cons:\n",
    "    if not index:\n",
    "        print(f\"{name} is an active constraint\")\n",
    "    else:\n",
    "        print(f\"{name}[{index}] is an active constraint\")"
   ]
  },
  {
   "cell_type": "code",
   "execution_count": 5,
   "metadata": {},
   "outputs": [
    {
     "name": "stdout",
     "output_type": "stream",
     "text": [
      "HiGHS 1.8.1:HiGHS 1.8.1: optimal solution; objective 3362.5\n",
      "0 simplex iterations\n",
      "0 barrier iterations\n",
      "\n",
      "++ Constraint: Minimum_Production, status:\n",
      "-Minimum_Production[A]: pre\n",
      "-Minimum_Production[B]: pre\n",
      "-Minimum_Production[C]: pre\n",
      "++ Constraint: Product_Mix_Ratio, status:\n",
      "-Product_Mix_Ratio: in\n",
      "++ Constraint: Resource_Limit, status:\n",
      "-Resource_Limit[Labor]: drop\n",
      "-Resource_Limit[Machine]: drop\n",
      "-Resource_Limit[Material]: drop\n"
     ]
    }
   ],
   "source": [
    "# Show status after solving\n",
    "model.solve(solver=\"highs\")\n",
    "assert model.solve_result == \"solved\", model.solve_result\n",
    "\n",
    "print()\n",
    "print_constraints_status(model)"
   ]
  }
 ],
 "metadata": {
  "colab": {
   "provenance": []
  },
  "kernelspec": {
   "display_name": "Python 3 (ipykernel)",
   "language": "python",
   "name": "python3"
  },
  "language_info": {
   "codemirror_mode": {
    "name": "ipython",
    "version": 3
   },
   "file_extension": ".py",
   "mimetype": "text/x-python",
   "name": "python",
   "nbconvert_exporter": "python",
   "pygments_lexer": "ipython3",
   "version": "3.10.12"
  },
  "vscode": {
   "interpreter": {
    "hash": "ee4198aac13dae9b6fccd443041680d99c2643c4956ef7c80ff6dcc0057cb523"
   }
  }
 },
 "nbformat": 4,
 "nbformat_minor": 4
}
