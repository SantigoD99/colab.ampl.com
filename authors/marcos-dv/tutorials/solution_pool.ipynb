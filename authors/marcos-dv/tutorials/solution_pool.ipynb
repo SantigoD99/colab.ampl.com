{
  "cells": [
    {
      "cell_type": "markdown",
      "metadata": {
        "id": "sg1Cwg2GwByK"
      },
      "source": [
        "# Retrieve Solution pool with AMPL and Gurobi\n",
        "[![solution_pool.ipynb](https://img.shields.io/badge/github-%23121011.svg?logo=github)](https://github.com/ampl/colab.ampl.com/blob/master/authors/marcos-dv/tutorials/solution_pool.ipynb) [![Open In Colab](https://colab.research.google.com/assets/colab-badge.svg)](https://colab.research.google.com/github/ampl/colab.ampl.com/blob/master/authors/marcos-dv/tutorials/solution_pool.ipynb) [![Kaggle](https://kaggle.com/static/images/open-in-kaggle.svg)](https://kaggle.com/kernels/welcome?src=https://github.com/ampl/colab.ampl.com/blob/master/authors/marcos-dv/tutorials/solution_pool.ipynb) [![Gradient](https://assets.paperspace.io/img/gradient-badge.svg)](https://console.paperspace.com/github/ampl/colab.ampl.com/blob/master/authors/marcos-dv/tutorials/solution_pool.ipynb) [![Open In SageMaker Studio Lab](https://studiolab.sagemaker.aws/studiolab.svg)](https://studiolab.sagemaker.aws/import/github/ampl/colab.ampl.com/blob/master/authors/marcos-dv/tutorials/solution_pool.ipynb) [![Hits](https://h.ampl.com/https://github.com/ampl/colab.ampl.com/blob/master/authors/marcos-dv/tutorials/solution_pool.ipynb)](https://colab.ampl.com)\n",
        "\n",
        "Description: This notebook describes how to retrieve multiple solutions from the solver's solution pool. Optimization problems usually have several optimal solutions, one is returned by the solver but the others are discarded. These alternative solutions can also be retrieved by AMPL.\n",
        "\n",
        "Tags: solution pool, gurobi, cplex, xpress, mip, mixed-integer-linear, mp\n",
        "\n",
        "Notebook author: Marcos Dominguez Velad <<marcos@ampl.com>>, Gleb Belov <<gleb@ampl.com>>\n",
        "\n",
        "Model author: Marcos Dominguez Velad <<marcos@ampl.com>>"
      ]
    },
    {
      "cell_type": "code",
      "execution_count": 1,
      "metadata": {
        "id": "8vXn8T1axHBz"
      },
      "outputs": [],
      "source": [
        "# Install dependencies\n",
        "%pip install -q amplpy"
      ]
    },
    {
      "cell_type": "code",
      "execution_count": 2,
      "metadata": {
        "id": "3xDtAc-Fa6An"
      },
      "outputs": [],
      "source": [
        "# Google Colab & Kaggle integration\n",
        "from amplpy import AMPL, ampl_notebook\n",
        "\n",
        "ampl = ampl_notebook(\n",
        "    modules=[\"gurobi\", \"xpress\", \"cplex\", \"copt\"],  # modules to install\n",
        "    license_uuid=\"default\",  # license to use\n",
        ")  # instantiate AMPL object and register magics"
      ]
    },
    {
      "cell_type": "markdown",
      "metadata": {
        "id": "NYwoB5O14CAR"
      },
      "source": [
        "## Solution pool\n",
        "\n",
        "More often than not, optimization problems have more than one optimal solution; moreover, during the solution process, MIP solvers usually find sub-optimal solutions, which are normally discarded. They can be however be kept, and in most cases there are solver-specific options to control how the search for additional solutions is performed.\n",
        "\n",
        "The main (and generic) options that controls the search are `sol:stub` and `sol:count`, which control respectively the base-name for the files where additional solution will be stored and if to count additional solutions and return them in the nsol problem suffix. Specifying a stub name automatically enables the solutions count; found solutions are written to files [solutionstub1.sol', … solutionstub<nsol>.sol].\n",
        "\n",
        "This is one of the features of the MP drivers, see other advanced modeling in:\n",
        "\n",
        "https://mp.ampl.com/features-guide.html\n",
        "\n",
        "To illustrate this behavior, a simple model with random weights and multiple solutions is proposed. After that, different solvers supporting Solution Pool are used, and the different solutions are retrieved by AMPL once the problem is solved.\n",
        "\n",
        "Solvers that allow multiple solutions: gurobi, xpress, cplex, copt, scip.\n",
        "\n",
        "### Model"
      ]
    },
    {
      "cell_type": "code",
      "execution_count": 3,
      "metadata": {},
      "outputs": [
        {
          "name": "stdout",
          "output_type": "stream",
          "text": [
            "Overwriting weights.mod\n"
          ]
        }
      ],
      "source": [
        "%%writefile weights.mod\n",
        "param n;\n",
        "set I := 1..n;\n",
        "var x{I} integer >= 0 <= 2;\n",
        "param w{i in I} := 10 + floor(Uniform(0,500)) mod 200;\n",
        "\n",
        "maximize profit:\n",
        "    sum{i in I} w[i] * x[i];\n",
        "\n",
        "s.t. capacity:\n",
        "    sum{i in I} x[i] <= 133;"
      ]
    },
    {
      "cell_type": "markdown",
      "metadata": {},
      "source": [
        "### Activate solution pool\n",
        "\n",
        "Each solution will go into a separated \".sol\" file.\n",
        "- `sol:stub` option controls the base name of the solution files (synonym for ams_stub, solstub, solutionstub).\n",
        "- `sol:poollimit` is the maximum of solutions that can be retrieved (synonym for ams_limit, poollimit, solnlimit).\n",
        "- `sol:poolgap` is the relative tolerance for reporting alternate MIP solutions (default: Infinity, no limit) (synonym for ams_eps, poolgap).\n",
        "- `sol:poolgapabs` is absolute tolerance for reporting alternate MIP solutions (default: Infinity, no limit) (synonym for ams_epsabs, poolgapabs).\n",
        "- `sol:count`: 0*/1: Whether to count the number of solutions and return it in the \".nsol\" problem suffix. The number and kind of solutions are controlled by the sol:pool... parameters. Value 1 implied by sol:stub.\n",
        "- `sol:poolmode` search mode for MIP solutions when sol:stub/sol:count are specified to request finding several alternative solutions:\n",
        "    - 0 - Just collect solutions during normal solve, and sort them\n",
        "          best-first\n",
        "    - 1 - Make some effort at finding additional solutions\n",
        "    - 2 - Seek \"poollimit\" best solutions (default). 'Best solutions' are defined by the poolgap(abs) parameters.\n",
        "\n",
        "There may be more options to customize the behavior of the solution pool, please, check the specific options of your solver to know more:\n",
        "\n",
        "- Gurobi options:\n",
        "https://dev.ampl.com/solvers/gurobi/options.html\n",
        "- Xpress options:\n",
        "https://dev.ampl.com/solvers/xpress/options.html\n",
        "- Cplex options:\n",
        "https://dev.ampl.com/solvers/cplex/options.html"
      ]
    },
    {
      "cell_type": "code",
      "execution_count": 4,
      "metadata": {
        "id": "Fo6WDbK44BSq"
      },
      "outputs": [],
      "source": [
        "from amplpy import AMPL\n",
        "\n",
        "\n",
        "def run_problem(solver):\n",
        "    ampl = AMPL()\n",
        "    # read model\n",
        "    ampl.read(\"weights.mod\")\n",
        "    ampl.param[\"n\"] = 1200\n",
        "\n",
        "    # enable solution pool\n",
        "    ampl.option[\n",
        "        \"mp_options\"\n",
        "    ] = f\"sol:stub=savesol_{solver} sol:poollimit=5 sol:poolmode=2\"\n",
        "    # call the solver\n",
        "    ampl.solve(solver=solver)\n",
        "\n",
        "    # retrieve solutions as a dictionary\n",
        "    solution_pool = []\n",
        "    for i in range(1, ampl.get_value(\"profit.npool\") + 1):\n",
        "        ampl.eval(f\"solution savesol_{solver}{i}.sol;\")\n",
        "        sol = ampl.get_solution(flat=False, zeros=False)\n",
        "        solution_pool.append(sol)\n",
        "    return solution_pool"
      ]
    },
    {
      "cell_type": "markdown",
      "metadata": {},
      "source": [
        "### Run with Gurobi"
      ]
    },
    {
      "cell_type": "code",
      "execution_count": 5,
      "metadata": {},
      "outputs": [
        {
          "name": "stdout",
          "output_type": "stream",
          "text": [
            "Gurobi 12.0.1:   sol:stub = savesol_gurobi\n",
            "  sol:poollimit = 5\n",
            "  sol:poolmode = 2\n",
            "Gurobi 12.0.1: optimal solution; objective 27061\n",
            "60 simplex iterations\n",
            "551 branching nodes\n",
            " \n",
            "5 alternative solution(s)\n",
            "  with objective values 27061..27059\n",
            "  written to 'savesol_gurobi1.sol' ... 'savesol_gurobi5.sol'.\n",
            "\n",
            "suffix nsol OUT;\n",
            "suffix npool OUT;\n",
            "Gurobi 12.0.1: Alternative solution 1, objective 27061\n",
            "Gurobi 12.0.1: Alternative solution 2, objective 27061\n",
            "Gurobi 12.0.1: Alternative solution 3, objective 27061\n",
            "Gurobi 12.0.1: Alternative solution 4, objective 27059\n",
            "Gurobi 12.0.1: Alternative solution 5, objective 27059\n",
            "Solution 0:\n",
            "{19: 2, 37: 2, 45: 2, 48: 2, 61: 2, 71: 2, 97: 2, 107: 2, 145: 2, 167: 2, 183: 2, 206: 2, 256: 2, 263: 2, 266: 2, 272: 2, 305: 2, 369: 2, 379: 2, 399: 2, 401: 2, 416: 2, 434: 2, 444: 2, 449: 2, 452: 2, 496: 2, 507: 2, 520: 2, 563: 2, 568: 2, 583: 2, 585: 2, 623: 2, 630: 2, 644: 2, 646: 2, 649: 2, 661: 2, 680: 2, 681: 2, 712: 2, 758: 2, 771: 2, 810: 2, 827: 2, 829: 2, 831: 2, 858: 2, 860: 2, 871: 2, 925: 2, 926: 2, 928: 2, 931: 2, 949: 2, 993: 1, 999: 2, 1020: 2, 1088: 2, 1092: 2, 1104: 2, 1105: 2, 1142: 2, 1165: 2, 1176: 2, 1197: 2}\n",
            "Solution 1:\n",
            "{19: 2, 37: 2, 45: 2, 48: 2, 61: 2, 71: 2, 97: 1, 107: 2, 145: 2, 167: 2, 183: 2, 206: 2, 256: 2, 263: 2, 266: 2, 272: 2, 305: 2, 369: 2, 379: 2, 399: 2, 401: 2, 416: 2, 434: 2, 444: 2, 449: 2, 452: 2, 496: 2, 507: 2, 520: 2, 563: 2, 568: 2, 583: 2, 585: 2, 623: 2, 630: 2, 644: 2, 646: 2, 649: 2, 661: 2, 680: 2, 681: 2, 712: 2, 758: 2, 771: 2, 810: 2, 827: 2, 829: 2, 831: 2, 858: 2, 860: 2, 871: 2, 925: 2, 926: 2, 928: 2, 931: 2, 949: 2, 993: 2, 999: 2, 1020: 2, 1088: 2, 1092: 2, 1104: 2, 1105: 2, 1142: 2, 1165: 2, 1176: 2, 1197: 2}\n",
            "Solution 2:\n",
            "{19: 2, 37: 2, 45: 2, 48: 2, 61: 2, 71: 2, 107: 2, 145: 2, 167: 2, 183: 2, 206: 2, 256: 2, 263: 2, 266: 2, 272: 2, 305: 2, 369: 2, 379: 2, 399: 2, 401: 2, 416: 2, 434: 2, 444: 2, 449: 2, 452: 2, 496: 2, 507: 2, 520: 2, 563: 2, 568: 2, 583: 2, 585: 2, 623: 2, 630: 2, 644: 2, 646: 2, 649: 2, 661: 2, 680: 2, 681: 2, 712: 2, 758: 2, 771: 2, 810: 2, 827: 2, 829: 2, 831: 2, 858: 2, 860: 2, 871: 2, 889: 1, 925: 2, 926: 2, 928: 2, 931: 2, 949: 2, 993: 2, 999: 2, 1020: 2, 1088: 2, 1092: 2, 1104: 2, 1105: 2, 1142: 2, 1165: 2, 1176: 2, 1197: 2}\n",
            "Solution 3:\n",
            "{19: 2, 37: 2, 45: 2, 48: 2, 61: 2, 71: 2, 107: 2, 145: 2, 167: 2, 183: 1, 206: 2, 256: 2, 263: 2, 266: 2, 272: 2, 305: 2, 369: 2, 379: 2, 399: 2, 401: 2, 416: 2, 434: 2, 444: 2, 449: 2, 452: 2, 496: 2, 507: 2, 520: 2, 563: 2, 568: 2, 583: 2, 585: 2, 623: 2, 630: 2, 644: 2, 646: 2, 649: 2, 661: 2, 680: 2, 681: 2, 712: 2, 758: 2, 771: 2, 810: 2, 827: 2, 829: 2, 831: 2, 858: 2, 860: 2, 871: 2, 889: 2, 925: 2, 926: 2, 928: 2, 931: 2, 949: 2, 993: 2, 999: 2, 1020: 2, 1088: 2, 1092: 2, 1104: 2, 1105: 2, 1142: 2, 1165: 2, 1176: 2, 1197: 2}\n",
            "Solution 4:\n",
            "{19: 2, 37: 2, 45: 2, 48: 2, 61: 2, 71: 2, 97: 2, 107: 2, 145: 2, 167: 2, 183: 1, 206: 2, 256: 2, 263: 2, 266: 2, 272: 2, 305: 2, 369: 2, 379: 2, 399: 2, 401: 2, 416: 2, 434: 2, 444: 2, 449: 2, 452: 2, 496: 2, 507: 2, 520: 2, 563: 2, 568: 2, 583: 2, 585: 2, 623: 2, 630: 2, 644: 2, 646: 2, 649: 2, 661: 2, 680: 2, 681: 2, 712: 2, 758: 2, 771: 2, 810: 2, 827: 2, 829: 2, 831: 2, 858: 2, 860: 2, 871: 2, 925: 2, 926: 2, 928: 2, 931: 2, 949: 2, 993: 2, 999: 2, 1020: 2, 1088: 2, 1092: 2, 1104: 2, 1105: 2, 1142: 2, 1165: 2, 1176: 2, 1197: 2}\n"
          ]
        }
      ],
      "source": [
        "solver = \"gurobi\"\n",
        "solutions = run_problem(solver=solver)\n",
        "for i, sol in enumerate(solutions):\n",
        "    print(f\"Solution {i}:\")\n",
        "    print(sol[\"x\"])"
      ]
    },
    {
      "cell_type": "markdown",
      "metadata": {},
      "source": [
        "### Run with Cplex"
      ]
    },
    {
      "cell_type": "code",
      "execution_count": 6,
      "metadata": {},
      "outputs": [
        {
          "name": "stdout",
          "output_type": "stream",
          "text": [
            "CPLEX 22.1.1:   sol:stub = savesol_cplex\n",
            "  sol:poollimit = 5\n",
            "  sol:poolmode = 2\n",
            "CPLEX 22.1.1: optimal solution; objective 27061\n",
            "1 simplex iterations\n",
            " \n",
            "5 alternative solution(s)\n",
            "  with objective values 27061..0\n",
            "  written to 'savesol_cplex1.sol' ... 'savesol_cplex5.sol'.\n",
            "\n",
            "suffix nsol OUT;\n",
            "suffix npool OUT;\n",
            "CPLEX 22.1.1: Alternative solution 1, objective 27061\n",
            "CPLEX 22.1.1: Alternative solution 2, objective 26538\n",
            "CPLEX 22.1.1: Alternative solution 3, objective 26512\n",
            "CPLEX 22.1.1: Alternative solution 4, objective 0\n",
            "CPLEX 22.1.1: Alternative solution 5, objective 26680\n",
            "Solution 0:\n",
            "{19: 2, 37: 2, 45: 2, 48: 2, 61: 2, 71: 2, 97: 2, 107: 2, 145: 2, 167: 2, 183: 2, 206: 2, 256: 2, 263: 2, 266: 2, 272: 2, 274: 1, 305: 2, 369: 2, 379: 2, 399: 2, 401: 2, 416: 2, 434: 2, 444: 2, 449: 2, 452: 2, 496: 2, 507: 2, 520: 2, 563: 2, 568: 2, 583: 2, 585: 2, 623: 2, 630: 2, 644: 2, 646: 2, 649: 2, 661: 2, 680: 2, 681: 2, 712: 2, 758: 2, 771: 2, 810: 2, 827: 2, 829: 2, 831: 2, 858: 2, 860: 2, 871: 2, 925: 2, 926: 2, 928: 2, 931: 2, 949: 2, 999: 2, 1020: 2, 1088: 2, 1092: 2, 1104: 2, 1105: 2, 1142: 2, 1165: 2, 1176: 2, 1197: 2}\n",
            "Solution 1:\n",
            "{1: 1, 2: 2, 3: 2, 19: 2, 37: 2, 45: 2, 48: 2, 61: 2, 71: 2, 107: 2, 145: 2, 167: 2, 183: 2, 206: 2, 256: 2, 263: 2, 266: 2, 272: 2, 305: 2, 369: 2, 379: 2, 399: 2, 401: 2, 416: 2, 434: 2, 444: 2, 449: 2, 452: 2, 507: 2, 520: 2, 563: 2, 568: 2, 583: 2, 585: 2, 623: 2, 630: 2, 644: 2, 646: 2, 649: 2, 661: 2, 680: 2, 681: 2, 712: 2, 758: 2, 771: 2, 810: 2, 827: 2, 829: 2, 831: 2, 858: 2, 860: 2, 871: 2, 925: 2, 926: 2, 928: 2, 931: 2, 949: 2, 999: 2, 1020: 2, 1088: 2, 1092: 2, 1104: 2, 1105: 2, 1142: 2, 1165: 2, 1176: 2, 1197: 2}\n",
            "Solution 2:\n",
            "{2: 2, 3: 2, 4: 1, 19: 2, 37: 2, 45: 2, 48: 2, 61: 2, 71: 2, 107: 2, 145: 2, 167: 2, 183: 2, 206: 2, 256: 2, 263: 2, 266: 2, 272: 2, 305: 2, 369: 2, 379: 2, 399: 2, 401: 2, 416: 2, 434: 2, 444: 2, 449: 2, 452: 2, 507: 2, 520: 2, 563: 2, 568: 2, 583: 2, 585: 2, 623: 2, 630: 2, 644: 2, 646: 2, 649: 2, 661: 2, 680: 2, 681: 2, 712: 2, 758: 2, 771: 2, 810: 2, 827: 2, 829: 2, 831: 2, 858: 2, 860: 2, 871: 2, 925: 2, 926: 2, 928: 2, 931: 2, 949: 2, 999: 2, 1020: 2, 1088: 2, 1092: 2, 1104: 2, 1105: 2, 1142: 2, 1165: 2, 1176: 2, 1197: 2}\n",
            "Solution 3:\n",
            "Trivial solution\n",
            "Solution 4:\n",
            "{1: 1, 2: 2, 7: 1, 19: 2, 37: 2, 45: 2, 48: 2, 61: 2, 71: 2, 107: 2, 145: 2, 167: 2, 183: 2, 206: 2, 256: 2, 263: 2, 266: 2, 272: 2, 305: 2, 369: 2, 379: 2, 399: 2, 401: 2, 416: 2, 434: 2, 444: 2, 449: 2, 452: 2, 496: 1, 507: 2, 520: 2, 563: 2, 568: 2, 583: 2, 585: 2, 623: 2, 630: 2, 644: 2, 646: 2, 649: 2, 661: 2, 680: 2, 681: 2, 712: 2, 758: 2, 771: 2, 810: 2, 827: 2, 829: 2, 831: 2, 858: 2, 860: 2, 871: 2, 925: 2, 926: 2, 928: 2, 931: 2, 949: 2, 999: 2, 1020: 2, 1088: 2, 1092: 2, 1104: 2, 1105: 2, 1142: 2, 1165: 2, 1176: 2, 1197: 2}\n"
          ]
        }
      ],
      "source": [
        "solver = \"cplex\"\n",
        "solutions = run_problem(solver=solver)\n",
        "for i, sol in enumerate(solutions):\n",
        "    print(f\"Solution {i}:\")\n",
        "    if \"x\" in sol:  # cplex may have the trivial solution in the pool, that it's empty\n",
        "        print(sol[\"x\"])\n",
        "    else:\n",
        "        print(\"Trivial solution\")"
      ]
    },
    {
      "cell_type": "markdown",
      "metadata": {
        "id": "mqUbsMqcM7hD"
      },
      "source": [
        "[AMPL Website](https://ampl.com) | [AMPL Colab](https://colab.ampl.com) | [Community Edition]( https://ampl.com/ce/) | [Twitter](https://twitter.com/AMPLopt) | [LinkedIn](https://www.linkedin.com/company/ampl)"
      ]
    }
  ],
  "metadata": {
    "colab": {
      "provenance": []
    },
    "kernelspec": {
      "display_name": "Python 3 (ipykernel)",
      "language": "python",
      "name": "python3"
    },
    "language_info": {
      "codemirror_mode": {
        "name": "ipython",
        "version": 3
      },
      "file_extension": ".py",
      "mimetype": "text/x-python",
      "name": "python",
      "nbconvert_exporter": "python",
      "pygments_lexer": "ipython3",
      "version": "3.10.12"
    },
    "vscode": {
      "interpreter": {
        "hash": "ee4198aac13dae9b6fccd443041680d99c2643c4956ef7c80ff6dcc0057cb523"
      }
    }
  },
  "nbformat": 4,
  "nbformat_minor": 4
}
