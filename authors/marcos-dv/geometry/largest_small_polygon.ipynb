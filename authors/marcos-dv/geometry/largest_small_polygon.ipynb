{
  "cells": [
    {
      "cell_type": "markdown",
      "metadata": {
        "id": "cvozYYJ3vA5s"
      },
      "source": [
        "# Largest small polygon\n",
        "[![largest_small_polygon.ipynb](https://img.shields.io/badge/github-%23121011.svg?logo=github)](https://github.com/ampl/colab.ampl.com/blob/master/authors/marcos-dv/geometry/largest_small_polygon.ipynb) [![Open In Colab](https://colab.research.google.com/assets/colab-badge.svg)](https://colab.research.google.com/github/ampl/colab.ampl.com/blob/master/authors/marcos-dv/geometry/largest_small_polygon.ipynb) [![Kaggle](https://kaggle.com/static/images/open-in-kaggle.svg)](https://kaggle.com/kernels/welcome?src=https://github.com/ampl/colab.ampl.com/blob/master/authors/marcos-dv/geometry/largest_small_polygon.ipynb) [![Gradient](https://assets.paperspace.io/img/gradient-badge.svg)](https://console.paperspace.com/github/ampl/colab.ampl.com/blob/master/authors/marcos-dv/geometry/largest_small_polygon.ipynb) [![Open In SageMaker Studio Lab](https://studiolab.sagemaker.aws/studiolab.svg)](https://studiolab.sagemaker.aws/import/github/ampl/colab.ampl.com/blob/master/authors/marcos-dv/geometry/largest_small_polygon.ipynb) [![Hits](https://h.ampl.com/https://github.com/ampl/colab.ampl.com/blob/master/authors/marcos-dv/geometry/largest_small_polygon.ipynb)](https://colab.ampl.com)\n",
        "\n",
        "Description: lecture about models for the Largest Small Polygon Problem\n",
        "\n",
        "Tags: geometry, non-linear, amplpy, ipopt, educational\n",
        "\n",
        "Notebook author: Marcos Dominguez Velad <<marcos@ampl.com>>\n",
        "\n",
        "Model author: Marcos Dominguez Velad <<marcos@ampl.com>> et al.\n",
        "\n",
        "References:\n",
        "1. Bingane, C. (2022). *Largest small polygons: A sequential convex optimization approach*. Optimization Letters, 1-13.\n",
        "2. Graham, R. L. (1975). *The largest small hexagon*. Journal of Combinatorial Theory, Series A, 18(2), 165-170.\n",
        "3. Reinhardt, K. (1922). *Extremale Polygone gegebenen Durchmessers*. Jahresbericht der Deutschen Mathematiker-Vereinigung, 31, 251-270.\n",
        "4. [Netlib repository](https://netlib.org/ampl/models/)"
      ]
    },
    {
      "cell_type": "code",
      "execution_count": null,
      "metadata": {
        "id": "fd_HVI1VvA5x"
      },
      "outputs": [],
      "source": [
        "# Install dependencies\n",
        "%pip install -q amplpy numpy matplotlib"
      ]
    },
    {
      "cell_type": "code",
      "execution_count": null,
      "metadata": {
        "id": "b213Q6XzvA5y"
      },
      "outputs": [],
      "source": [
        "# Google Colab & Kaggle integration\n",
        "from amplpy import AMPL, ampl_notebook\n",
        "\n",
        "ampl = ampl_notebook(\n",
        "    modules=[\"open\", \"knitro\"],  # modules to install\n",
        "    license_uuid=\"default\",  # license to use\n",
        ")  # instantiate AMPL object and register magics"
      ]
    },
    {
      "cell_type": "markdown",
      "metadata": {
        "id": "RxZ4DFi1vA50"
      },
      "source": [
        "A small polygon is a unit diameter polygon. Finding the polygon with maximum area is known as the \"Largest Small Polygon\" (LSP) problem. We are proposing some non-linear formulations to find the small polygon that maximizes the area for a given number of sides to solve the problem computationally. This is an open geometry problem, so we are providing a computational and approximate way to tackle it. \n",
        "\n",
        "## Problem statement\n",
        "\n",
        "Given a number *n*, find the n-sided polygon that has diameter one and that has the largest area among all diameter-one n-gons. The diameter of a polygon is the maximum distance between any two vertices in the polygon, and distances between points are assumed to be Euclidean distances.\n",
        "\n",
        "### Some theoretical results\n",
        "\n",
        "The LSP problem has been solved for odd number of sides. In 1922, Reinhardt showed that the optimal solution for $n = 2k+1$ is the regular n-gon. The area of the regular unit n-gon is:\n",
        "\n",
        "$$\\frac{n}{2}(sin\\frac{\\pi}{n}-tan\\frac{\\pi}{2n}) \\text{ ,   when n is odd}$$\n",
        "\n",
        "$$\\frac{n}{8}sin\\frac{2\\pi}{n} \\text{ ,   when n is even}$$\n",
        "\n",
        "These are lower bounds for our problem, but the even one might be improved from the regular polygon of $n-1$ sides:\n",
        "\n",
        "* Take the odd regular $n-1$-gon. Add a vertex (at distance 1) along the bisectriz of any angle.\n",
        "\n",
        "* The obtained polygon will be larger than the even regular $n$-gon. This fact proves that the regular polygon is not optimal for $n \\geq 6$.\n",
        "\n",
        "Although LSP has not been solved for general even number of sides, there are some conjectures related to the solutions and variants of the problem that assume some kind of symmetry in terms of the *diameter graph* of the polygon (the diameter graph of a small polygon is the graph with the vertices of the polygon, where vertices are connected if and only if the distance between them is equal to 1).\n",
        "\n",
        "## Model with polar coordinates\n",
        "\n",
        "The problem can be stated and solved by describing the problem in an straightforward way, formulating a non linear problem in polar coordinates. We are proposing a similar model to the one in the [netlib repository](https://netlib.org/ampl/models/), an AMPL model (by David M. Gay) that started as a GAMS model by Francisco J. Prieto. This model solves the general *n* instance of the problem.\n",
        "\n",
        "### Variables\n",
        "\n",
        "If $(x_i, y_i)$ are the cartesian coordinates (real numbers) of the points, they will be the vertices of a small polygon if the distances between them are less or equal to 1.\n",
        "\n",
        "* For all $i = 1..n, j = 1..i-1$, \n",
        "\n",
        "$$\\sqrt{(x_i-x_j)^2+(y_i-y_j)^2} \\leq 1$$\n",
        "\n",
        "That is equivalent to:\n",
        "\n",
        "$$(x_i-x_j)^2+(y_i-y_j)^2 \\leq 1$$\n",
        "\n",
        "\n",
        "### Compute area\n",
        "\n",
        "Given the *n* vertices of a polygon, we can compute the area of the polygon by using the [Shoelace formula](https://en.wikipedia.org/wiki/Shoelace_formula), like a 2D determinant:\n",
        "\n",
        "<figure>\n",
        "  <img src=\"https://raw.githubusercontent.com/ampl/colab.ampl.com/master/authors/marcos-dv/geometry/imgs/rule.png\" width=\"600\" height=\"360\">\n",
        "</figure>\n",
        "\n",
        "Example:\n",
        "\n",
        "The area of the polygon defined with the vertices\n",
        "{(-1,0), (0.2,1), (2,0.7), (2,-1)} is\n",
        "\n",
        "<img src=\"https://raw.githubusercontent.com/ampl/colab.ampl.com/master/authors/marcos-dv/geometry/imgs/trapezoid.png\" width=\"200\" height=\"140\">\n",
        "\n",
        "$$\\frac{1}{2}|-1\\times1+0.2\\times0.7+2\\times(-1)+2\\times0-0\\times0.2-1\\times2-0.7\\times2-(-1)\\times(-1)| = 3.63$$\n",
        "\n",
        "The formula works when the points are sorted counter clock-wise or clock-wise, then, in order to use the formula is is necessary to ensure the order of the points along the perimeter. How could we impose an order among the vertices, so first vertex (x1, y1) is connected to the second (x2, y2), which at the same time is connected to (x3, y3)... and so on until closing the polygon?\n",
        "\n",
        "$$\\frac{1}{2}\\sum_{i=1}^{n-1}(x_i \\cdot y_{i+1} - y_i \\cdot x_{i+1})+\\frac{1}{2}(x_n \\cdot y_1 - y_n \\cdot x_1)$$\n",
        "\n",
        "### Polar coordinates to sort vertices\n",
        "\n",
        "We need to sort vertices somehow. Intuitively, we could sort them by angle respect to any point in the plane.\n",
        "\n",
        "We are using polar coordinates to sort vertices by angle in a straightforward way. We are sorting respect to (0,0). Each cartesian point $(x,y)$ distinct to (0,0) is matched to a polar point $(r, t)$, where $r$ is the radius of the point respect to the origin, and $t$ the angle respect to the $X$ axis, with $0 < r$, and $0 \\leq t < 2\\pi$.\n",
        "\n",
        "$$x = r \\cdot cos(t)$$\n",
        "$$y = r \\cdot sin(t)$$\n",
        "\n",
        "We can substitute $x$ and $y$ as a function of $r$ and $t$, adding sorting constraints as:\n",
        "\n",
        "* For all $i = 2..n$,\n",
        "\n",
        "$$t_i >= t_{i-1}$$\n",
        "\n",
        "Two vertices having the same angle would cause a suboptimal solution as there would be three points in the same line (origin vertex and two others).\n",
        "\n",
        "### Complete model\n",
        "\n",
        "Substitute $x$ and $y$ by their polar transformation coordinates. Notice that is is assumed vertex (x1,y1) = (0,0) = (r1, t1), as we can always fix one of the vertices.\n",
        "\n",
        "* Variables, for all $i = 1..n$:\n",
        "\n",
        "$$r_i >= 0$$\n",
        "\n",
        "$$0 <= t_i <= \\pi$$\n",
        "\n",
        "With the $\\pi$ bound over $t$ we force the polygon to happen over the first semiplane (y >= 0).\n",
        "\n",
        "* Objective: maximize area,\n",
        "\n",
        "$$\\frac{1}{2}\\sum_{i=1}^{n-1}(r_i \\cdot cos(t_i) \\cdot r_{i+1} \\cdot sin(t_{i+1}))-(r_i \\cdot sin(t_i) \\cdot r_{i+1} \\cdot cos(t_{i+1}))+\\frac{1}{2}(r_n \\cdot cos(t_n) \\cdot r_1 \\cdot sin(t_1))-(r_n \\cdot sin(t_n) \\cdot r_1 \\cdot cos(t_1))$$\n",
        "\n",
        "We can simplify the previous expression. Rearrange each term:\n",
        "\n",
        "$$r_i \\cdot cos(t_i) \\cdot r_{i+1} \\cdot sin(t_{i+1})-r_i \\cdot sin(t_i) \\cdot r_{i+1} \\cdot cos(t_{i+1}) = $$\n",
        "$$ = r_i r_{i+1} (cos(t_i) \\cdot sin(t_{i+1})-sin(t_i) \\cdot cos(t_{i+1})$$\n",
        "\n",
        "Sine of the sum of $t_{i+1}$, $-t_{i}$:\n",
        "\n",
        "$$r_i r_{i+1} sin(t_{i+1}-t_i)$$\n",
        "\n",
        "The objective can be rewritten as:\n",
        "$$\\frac{1}{2}\\sum_{i=1}^{n-1}(r_i r_{i+1} sin(t_{i+1}-t_i))+\\frac{1}{2}(r_1 r_n \\cdot sin(t_1-t_n))$$\n",
        "\n",
        "* Constraints:\n",
        "\n",
        "1. Distance between vertices. For all $i = 1..n, j = i+1..n$, \n",
        "\n",
        "$$(r_i \\cdot cos(t_i)-r_j \\cdot cos(t_j))^2+(r_i \\cdot sin(t_i)^2-r_j \\cdot sin(t_j))^2 \\leq 1$$\n",
        "\n",
        "$$(r_i \\cdot cos(t_i)-r_j \\cdot cos(t_j))^2 = r_i^2 cos^2(t_i) + r_j^2 cos^2(t_j) - 2r_ir_jcos(t_i)cos(t_j)$$\n",
        "$$(r_i \\cdot sin(t_i)-r_j \\cdot sin(t_j))^2 = r_i^2 sin^2(t_i) + r_j^2 sin^2(t_j) - 2r_ir_jsin(t_i)sin(t_j)$$\n",
        "\n",
        "Sum both:\n",
        "\n",
        "$$r_i^2 + r_j^2 - 2r_ir_j(cos(t_i)cos(t_j) + sin(t_i)sin(t_j)) = r_i^2 + r_j^2 - 2r_ir_j cos(t_i-t_j)$$\n",
        "\n",
        "So the constraints could be rewritten as:\n",
        "\n",
        "$$r_i^2 + r_j^2 - 2r_ir_j cos(t_i-t_j) \\leq 1$$\n",
        "\n",
        "This way, non-linear expressions in the model are simpler, there are less sines and cosines, so it will be easier to find better solutions more efficiently.\n",
        "\n",
        "2. Angle order. For all $i = 2..n$, \n",
        "\n",
        "$$t_i >= t_{i-1}$$\n",
        "\n",
        "Finally, we can fix one of the vertices:\n",
        "\n",
        "$$r_1 = 0, \\ t_1 = 0$$\n",
        "\n",
        "### AMPL model\n",
        "\n",
        "An `area_lb` parameter is introduced so we can add better lower bounds for the area. This way it is easier to deal with suboptimal and degenerated solutions. By default, the lower bound is 0."
      ]
    },
    {
      "cell_type": "code",
      "execution_count": null,
      "metadata": {
        "colab": {
          "base_uri": "https://localhost:8080/"
        },
        "id": "g2hQVY8VvA56",
        "outputId": "a03a64b9-30fc-48fe-870b-cb066c6e3bef"
      },
      "outputs": [
        {
          "name": "stdout",
          "output_type": "stream",
          "text": [
            "Overwriting polar_polygon.mod\n"
          ]
        }
      ],
      "source": [
        "%%writefile polar_polygon.mod\n",
        "\n",
        "# Number of sides\n",
        "param N integer > 0;\n",
        "set I := 1..N;\n",
        "\n",
        "param pi := 4*atan(1.);\n",
        "param max_diam := 1;\n",
        "# area lower bound, might help to avoid degenerated solutions\n",
        "param area_lb default 0;\n",
        "\n",
        "# Variables\n",
        "var r{i in I} <= max_diam, >= 0\t# polar radius (distance to origin)\n",
        "\t\t:=  4*i*(N + 1 - i)/(N+1)**2; # initial guess\n",
        "\n",
        "var t{i in I} >= 0 <= pi # polar angle\n",
        "\t\t:= pi*i/N; # uniform distribution over the positive semicircle\n",
        "\n",
        "var area >= area_lb; # objective\n",
        "\n",
        "# Constraints\n",
        "# Distance between vertices\n",
        "s.t. vertices_distance{i in 1..N, j in i+1 .. N}:\n",
        "\tr[i]**2 + r[j]**2 - 2*r[i]*r[j]*cos(t[j]-t[i]) <= max_diam*max_diam;\n",
        "\n",
        "# Sort by polar angle\n",
        "s.t. sort_vertices{i in 2..N}:\n",
        "\tt[i] >= t[i-1];\n",
        "\n",
        "# Fixed vertex\n",
        "s.t. fix_angle: t[1] = 0;\n",
        "s.t. fix_radius:   r[1] = 0;\n",
        "s.t. area_formula: area = .5*sum{i in 1..N-1} r[i+1]*r[i]*sin(t[i+1]-t[i]) + .5*(r[1]*r[N]*sin(t[N]-t[1]));\n",
        "\n",
        "maximize total_area: area;"
      ]
    },
    {
      "cell_type": "markdown",
      "metadata": {
        "id": "LaawhvbEzRUE"
      },
      "source": [
        "We use `ipopt` (version 3.12.13) open source solver for cloud usage. The output is very verbose, so we set \"outlev=0\"."
      ]
    },
    {
      "cell_type": "code",
      "execution_count": null,
      "metadata": {
        "colab": {
          "base_uri": "https://localhost:8080/"
        },
        "id": "i29_flLkvA57",
        "outputId": "034be4b7-4b0e-41d2-a3d8-43d3e1e60486"
      },
      "outputs": [
        {
          "name": "stdout",
          "output_type": "stream",
          "text": [
            "Ipopt 3.12.13: outlev=0\n",
            "\n",
            "\n",
            "******************************************************************************\n",
            "This program contains Ipopt, a library for large-scale nonlinear optimization.\n",
            " Ipopt is released as open source code under the Eclipse Public License (EPL).\n",
            "         For more information visit http://projects.coin-or.org/Ipopt\n",
            "******************************************************************************\n",
            "\n",
            " \n",
            "Ipopt 3.12.13: Optimal Solution Found\n",
            "\n",
            "suffix ipopt_zU_out OUT;\n",
            "suffix ipopt_zL_out OUT;\n"
          ]
        }
      ],
      "source": [
        "%%ampl_eval\n",
        "reset;\n",
        "model polar_polygon.mod;\n",
        "# option solver knitro; # try it locally\n",
        "option solver ipopt;\n",
        "option ipopt_options 'outlev=0';\n",
        "let N := 10;\n",
        "solve;"
      ]
    },
    {
      "cell_type": "markdown",
      "metadata": {
        "id": "56uihJVdvA57"
      },
      "source": [
        "Now that we have the solution, we are going to plot it with `matplotlib`.\n",
        "\n",
        "We define the `solve_polar()` method to call AMPL and solve the problem for $N$ sides. `polar2cart()` transforms from polar to cartesian coordinates. `plot_polygon()` draws the result."
      ]
    },
    {
      "cell_type": "code",
      "execution_count": null,
      "metadata": {
        "id": "BsHZmZOHvA58"
      },
      "outputs": [],
      "source": [
        "import numpy as np\n",
        "import matplotlib.pyplot as plt\n",
        "\n",
        "\n",
        "# solve the problem for n sides, return solution (polar coords) and area\n",
        "def solve_polar(n, prev_sol=0):\n",
        "    ampl.reset()\n",
        "    ampl.read(\"polar_polygon.mod\")\n",
        "    ampl.param[\"N\"] = n\n",
        "    ampl.param[\"area_lb\"] = prev_sol\n",
        "    ampl.solve()\n",
        "\n",
        "    # Get result from AMPL\n",
        "    r = [ampl.var[\"r\"][i].value() for i in range(1, n + 1)]\n",
        "    t = [ampl.var[\"t\"][i].value() for i in range(1, n + 1)]\n",
        "\n",
        "    # To plot easier, repeat the first point in the last position\n",
        "    # (to close the polygon)\n",
        "    r.append(r[0])\n",
        "    t.append(t[0])\n",
        "\n",
        "    return r, t, ampl.obj[\"total_area\"].value()\n",
        "\n",
        "\n",
        "# Transformation from polar to cartesian\n",
        "def polar2cart(r, angle):\n",
        "    xs = np.array(r) * np.sin(np.array(angle))\n",
        "    ys = np.array(r) * np.cos(np.array(angle))\n",
        "    return xs, ys\n",
        "\n",
        "\n",
        "def plot_polygon(sides, xs, ys, area):\n",
        "    print(\"\\nSides: \", sides)\n",
        "    print(\"Area: \", area)\n",
        "    plt.figure()\n",
        "    plt.plot(xs, ys)\n",
        "    plt.show()"
      ]
    },
    {
      "cell_type": "markdown",
      "metadata": {
        "id": "HsX4aYwtR9Qq"
      },
      "source": [
        "In the below loop, solve the problem for all the sides between `min_sides` and `max_sides`."
      ]
    },
    {
      "cell_type": "code",
      "execution_count": null,
      "metadata": {
        "colab": {
          "base_uri": "https://localhost:8080/",
          "height": 1000
        },
        "id": "9d6dO6k4vA59",
        "outputId": "04af511b-22e1-46dc-ef50-beab55d69082"
      },
      "outputs": [
        {
          "name": "stdout",
          "output_type": "stream",
          "text": [
            "\n",
            "Problem size:  10\n",
            "Ipopt 3.12.13: outlev=0\n",
            "\n",
            "\n",
            "******************************************************************************\n",
            "This program contains Ipopt, a library for large-scale nonlinear optimization.\n",
            " Ipopt is released as open source code under the Eclipse Public License (EPL).\n",
            "         For more information visit http://projects.coin-or.org/Ipopt\n",
            "******************************************************************************\n",
            "\n",
            " \n",
            "Ipopt 3.12.13: Optimal Solution Found\n",
            "\n",
            "suffix ipopt_zU_out OUT;\n",
            "suffix ipopt_zL_out OUT;\n",
            "\n",
            "Problem size:  11\n",
            "Ipopt 3.12.13: outlev=0\n",
            "\n",
            "\n",
            "******************************************************************************\n",
            "This program contains Ipopt, a library for large-scale nonlinear optimization.\n",
            " Ipopt is released as open source code under the Eclipse Public License (EPL).\n",
            "         For more information visit http://projects.coin-or.org/Ipopt\n",
            "******************************************************************************\n",
            "\n",
            " \n",
            "Ipopt 3.12.13: Optimal Solution Found\n",
            "\n",
            "suffix ipopt_zU_out OUT;\n",
            "suffix ipopt_zL_out OUT;\n",
            "\n",
            "Problem size:  12\n",
            "Ipopt 3.12.13: outlev=0\n",
            "\n",
            "\n",
            "******************************************************************************\n",
            "This program contains Ipopt, a library for large-scale nonlinear optimization.\n",
            " Ipopt is released as open source code under the Eclipse Public License (EPL).\n",
            "         For more information visit http://projects.coin-or.org/Ipopt\n",
            "******************************************************************************\n",
            "\n",
            " \n",
            "Ipopt 3.12.13: Optimal Solution Found\n",
            "\n",
            "suffix ipopt_zU_out OUT;\n",
            "suffix ipopt_zL_out OUT;\n",
            "\n",
            "Sides:  10\n",
            "Area:  0.7491373270801958\n"
          ]
        },
        {
          "data": {
            "image/png": "[encoded data removed]",
            "text/plain": [
              "<Figure size 432x288 with 1 Axes>"
            ]
          },
          "metadata": {
            "needs_background": "light"
          },
          "output_type": "display_data"
        },
        {
          "name": "stdout",
          "output_type": "stream",
          "text": [
            "\n",
            "Sides:  11\n",
            "Area:  0.7587484213086267\n"
          ]
        },
        {
          "data": {
            "image/png": "[encoded data removed]",
            "text/plain": [
              "<Figure size 432x288 with 1 Axes>"
            ]
          },
          "metadata": {
            "needs_background": "light"
          },
          "output_type": "display_data"
        },
        {
          "name": "stdout",
          "output_type": "stream",
          "text": [
            "\n",
            "Sides:  12\n",
            "Area:  0.760729846642839\n"
          ]
        },
        {
          "data": {
            "image/png": "[encoded data removed]",
            "text/plain": [
              "<Figure size 432x288 with 1 Axes>"
            ]
          },
          "metadata": {
            "needs_background": "light"
          },
          "output_type": "display_data"
        }
      ],
      "source": [
        "min_sides = 10\n",
        "max_sides = 12\n",
        "\n",
        "# save previous solutions to plot\n",
        "solutions = {}\n",
        "# save last optimal value to be used as lower bound\n",
        "prev_sol = 0\n",
        "\n",
        "for sides in range(min_sides, max_sides + 1):\n",
        "    print(\"\\nProblem size: \", sides)\n",
        "    solutions[sides] = solve_polar(sides, prev_sol)\n",
        "    prev_sol = solutions[sides][2]\n",
        "\n",
        "for sides in range(min_sides, max_sides + 1):\n",
        "    radius, angle, area = solutions[sides]\n",
        "    xs, ys = polar2cart(radius, angle)\n",
        "    plot_polygon(sides, xs, ys, area)"
      ]
    },
    {
      "cell_type": "markdown",
      "metadata": {
        "id": "DPYJ_aDJvA5-"
      },
      "source": [
        "## Second model with cartesian coordinates\n",
        "\n",
        "There is a way to deal with orientation without using polar coordinates. It is easy to check if three points within the plane are clockwise or counter-clockwise oriented. We are going to undo the polar transformation and use new angle constraints, so that the objective and the distance constraints get simplified.\n",
        "\n",
        "### Three points orientation\n",
        "\n",
        "Given three points, $A=(A_x, A_y)$, $B=(B_x,B_y)$, $C=(C_x,C_y)$, we can compute the slopes of the vectors $AB$ and $BC$.\n",
        "\n",
        "<img src=\"https://drive.google.com/uc?export=view&id=1Hoz9MGwWOkqp1gKuxtAgPN_eniDgXl1v\" width=\"500\" height=\"390\">\n",
        "\n",
        "$$AB_s = \\frac{B_y-A_y}{B_x-A_x}$$\n",
        "$$BC_s = \\frac{C_y-B_y}{C_x-B_x}$$\n",
        "\n",
        "If both slopes are positive, BC's slope being less (greater) than AB's implies that the three points will be (counter-)clockwise oriented. The comparison could be flipped if some of the slopes is negative, but in the end, the following expression let's us know the orientation:\n",
        "\n",
        "$$AB_s-BC_s = \\frac{B_y-A_y}{B_x-A_x}-\\frac{C_y-B_y}{C_x-B_x} = \\frac{(B_y-A_y)(C_x-B_x)-(C_y-B_y)(B_x-A_x)}{(B_x-A_x)(C_x-B_x)}$$\n",
        "\n",
        "* If the numerator is positive, points are clockwise.\n",
        "* If the numerator is negative, points are counter-clockwise.\n",
        "* If the numerator is 0, points belong to the same line.\n",
        "\n",
        "### Orientation in the model\n",
        "\n",
        "As we are fixing one of the vertices (0,0), we can force all the other points to have the same orientation. For $i = 2..N-1$, we can force the same orientation for $A=(0,0)$, $B=(x_i,y_i)$, and $C=(x_{i+1},y_{i+1})$. This way, vertices are going to end up ordered. By using the previous formula, this is possible if we have the same sign in the following expression for each $i$:\n",
        "\n",
        "$$(B_y-A_y)(C_x-B_x)-(C_y-B_y)(B_x-A_x) = y_i(x_{i+1}-x_i)-(y_{i+1}-y_i)x_i = $$\n",
        "$$ = y_i x_{i+1}- y_i x_i - x_i y_{i+1} + x_i y_i = y_i x_{i+1} - x_i y_{i+1}$$\n",
        "\n",
        "Then, we can simply add the following constraint to order our vertices counter-clockwise. For each $i = 2..N-1$:\n",
        "\n",
        "$$y_i x_{i+1} - x_i y_{i+1} < 0$$\n",
        "$$x_i y_{i+1} - y_i x_{i+1} > 0$$\n",
        "\n",
        "By simplicity, in the model we are using the non-strict inequality. Three vertices should not be places in the same segment as that is a suboptimal solution. It would be suboptimal as the point in the middle is pointless, but the polygon could be bigger by using it (just place it in the mediatrix of two other vertices).\n",
        "\n",
        "For further information about this formula and orientation of polygons, take a look to [Graham's scan Algorithm](https://en.wikipedia.org/wiki/Graham_scan), where the formula is used to compute convex hulls.\n",
        "\n",
        "### Area computation with triangles\n",
        "\n",
        "Now, we can use cartesian coordinates as variables, and simplify constraints and objective (by removing sines and cosines).\n",
        "\n",
        "If we project a ray from the fixed vertex of the polygon to each other vertex, we are generating triangles whose area is (half of the area of the parallelogram computed via scalar product):\n",
        "\n",
        "$$u_i = \\frac{1}{2}(x_i y_{i+1} - y_i x_{i+1})$$\n",
        "\n",
        "<img src=\"https://drive.google.com/uc?export=view&id=1FzeP6wz6h7ZdbS68aSVAdMrjE20ZAT4W\" width=\"400\" height=\"360\">\n",
        "\n",
        "The area of the polygon is equal to the sum of areas of these triangles, so we could add continuous variables $u_i$ for $i = 2..N-1$, where $u_i$ is the area of the triangle that contains vertices $(0,0)$, $(x_i,y_i)$, and $(x_{i+1},y_{i+1})$. These variables are non-negative, and at optimality, they should be equal to the area of their triangle.\n",
        "\n",
        "Then, the objective function is rewritten as:\n",
        "\n",
        "$$maximize \\quad \\sum_{i=2..N-1} u_i$$\n",
        "\n",
        "$u_i$ should not exceed the area:\n",
        "\n",
        "$$u_i \\leq \\frac{1}{2}(x_i y_{i+1} - y_i x_{i+1})$$\n",
        "$$2u_i \\leq x_i y_{i+1} - y_i x_{i+1}$$\n",
        "\n",
        "So we are replacing orientation constraints with:\n",
        "\n",
        "$$0 \\leq 2u_i \\leq x_i y_{i+1} - y_i x_{i+1}$$\n",
        "\n",
        "This idea is used in state-of-the-art models such as the one published by Christian Bingane (2022), *Largest small polygons: A sequential convex optimization approach*.\n",
        "\n",
        "### Final model\n",
        "\n",
        "We are placing the polygon in the half-plane $y \\geq 0$."
      ]
    },
    {
      "cell_type": "code",
      "execution_count": null,
      "metadata": {
        "colab": {
          "base_uri": "https://localhost:8080/"
        },
        "id": "qW74os5DvA5-",
        "outputId": "b2584464-d5dd-4687-b09a-10472c29ca75"
      },
      "outputs": [
        {
          "name": "stdout",
          "output_type": "stream",
          "text": [
            "Overwriting cartesian_polygon.mod\n"
          ]
        }
      ],
      "source": [
        "%%writefile cartesian_polygon.mod\n",
        "\n",
        "# Number of sides\n",
        "param N integer > 0;\n",
        "set I := 1..N;\n",
        "\n",
        "param max_diam := 1;\n",
        "# area lower bound, might help to avoid degenerated solutions\n",
        "param area_lb default 0;\n",
        "\n",
        "# Variables\n",
        "var x{i in I} <= max_diam, >= -max_diam\n",
        "\t\t:=  1.5*(N-i)/(N+1)-0.5; # initial guess that could be improved\n",
        "\t\t# :=  4*i*(N + 1 - i)/(N+1)**2; # initial guess that could be improved\n",
        "\n",
        "var y{i in I} >= 0, <= max_diam\n",
        "\t\t:=  4*i*(N + 1 - i)/(N+1)**2; # initial guess\n",
        "\n",
        "var u{2..N-1} >= 0; # triangle area\n",
        "\n",
        "var area >= area_lb; # objective\n",
        "\n",
        "# Constraints\n",
        "# Distance between vertices\n",
        "s.t. vertices_distance{i in 1..N, j in i+1 .. N}:\n",
        "\t(x[i]-x[j])**2 + (y[i]-y[j])**2 <= max_diam**2;\n",
        "\n",
        "# Orientation + Area\n",
        "s.t. orientation_triangle_area{i in 2..N-1}:\n",
        "    x[i]*y[i+1] - y[i]*x[i+1] >= 2*u[i];\n",
        "\n",
        "# Fixed vertex\n",
        "s.t. fix_x: x[1] = 0;\n",
        "s.t. fix_y: y[1] = 0;\n",
        "\n",
        "s.t. area_formula: area = sum{i in 2..N-1} u[i];\n",
        "\n",
        "maximize total_area: area;"
      ]
    },
    {
      "cell_type": "code",
      "execution_count": null,
      "metadata": {
        "id": "rRTZ9buavA5_"
      },
      "outputs": [],
      "source": [
        "# solve the problem for n sides, return solution (cartesian coords) and area\n",
        "def solve_cartesian(n, prev_sol=0):\n",
        "    ampl.reset()\n",
        "    ampl.read(\"cartesian_polygon.mod\")\n",
        "    ampl.param[\"N\"] = n\n",
        "    ampl.param[\"area_lb\"] = prev_sol\n",
        "    ampl.solve()\n",
        "\n",
        "    # Get result from AMPL\n",
        "    x = [ampl.var[\"x\"][i].value() for i in range(1, n + 1)]\n",
        "    y = [ampl.var[\"y\"][i].value() for i in range(1, n + 1)]\n",
        "\n",
        "    # To plot easier, repeat the first point in the last position\n",
        "    # (to close the polygon)\n",
        "    x.append(x[0])\n",
        "    y.append(y[0])\n",
        "\n",
        "    return x, y, ampl.obj[\"total_area\"].value()"
      ]
    },
    {
      "cell_type": "code",
      "execution_count": null,
      "metadata": {
        "colab": {
          "base_uri": "https://localhost:8080/",
          "height": 1000
        },
        "id": "GioSJwomvA5_",
        "outputId": "398e013b-9ea5-470d-df61-1d46325f61d0"
      },
      "outputs": [
        {
          "name": "stdout",
          "output_type": "stream",
          "text": [
            "Problem size:  10\n",
            "Ipopt 3.12.13: outlev=0\n",
            "\n",
            "\n",
            "******************************************************************************\n",
            "This program contains Ipopt, a library for large-scale nonlinear optimization.\n",
            " Ipopt is released as open source code under the Eclipse Public License (EPL).\n",
            "         For more information visit http://projects.coin-or.org/Ipopt\n",
            "******************************************************************************\n",
            "\n",
            " \n",
            "Ipopt 3.12.13: Optimal Solution Found\n",
            "\n",
            "suffix ipopt_zU_out OUT;\n",
            "suffix ipopt_zL_out OUT;\n",
            "Problem size:  11\n",
            "Ipopt 3.12.13: outlev=0\n",
            "\n",
            "\n",
            "******************************************************************************\n",
            "This program contains Ipopt, a library for large-scale nonlinear optimization.\n",
            " Ipopt is released as open source code under the Eclipse Public License (EPL).\n",
            "         For more information visit http://projects.coin-or.org/Ipopt\n",
            "******************************************************************************\n",
            "\n",
            " \n",
            "Ipopt 3.12.13: Optimal Solution Found\n",
            "\n",
            "suffix ipopt_zU_out OUT;\n",
            "suffix ipopt_zL_out OUT;\n",
            "Problem size:  12\n",
            "Ipopt 3.12.13: outlev=0\n",
            "\n",
            "\n",
            "******************************************************************************\n",
            "This program contains Ipopt, a library for large-scale nonlinear optimization.\n",
            " Ipopt is released as open source code under the Eclipse Public License (EPL).\n",
            "         For more information visit http://projects.coin-or.org/Ipopt\n",
            "******************************************************************************\n",
            "\n",
            " \n",
            "Ipopt 3.12.13: Optimal Solution Found\n",
            "\n",
            "suffix ipopt_zU_out OUT;\n",
            "suffix ipopt_zL_out OUT;\n",
            "\n",
            "Sides:  10\n",
            "Area:  0.7335979126944925\n"
          ]
        },
        {
          "data": {
            "image/png": "[encoded data removed]",
            "text/plain": [
              "<Figure size 432x288 with 1 Axes>"
            ]
          },
          "metadata": {
            "needs_background": "light"
          },
          "output_type": "display_data"
        },
        {
          "name": "stdout",
          "output_type": "stream",
          "text": [
            "\n",
            "Sides:  11\n",
            "Area:  0.7521931144677444\n"
          ]
        },
        {
          "data": {
            "image/png": "[encoded data removed]",
            "text/plain": [
              "<Figure size 432x288 with 1 Axes>"
            ]
          },
          "metadata": {
            "needs_background": "light"
          },
          "output_type": "display_data"
        },
        {
          "name": "stdout",
          "output_type": "stream",
          "text": [
            "\n",
            "Sides:  12\n",
            "Area:  0.7542668674915548\n"
          ]
        },
        {
          "data": {
            "image/png": "[encoded data removed]",
            "text/plain": [
              "<Figure size 432x288 with 1 Axes>"
            ]
          },
          "metadata": {
            "needs_background": "light"
          },
          "output_type": "display_data"
        }
      ],
      "source": [
        "min_sides = 10\n",
        "max_sides = 12\n",
        "\n",
        "# save previous solutions to plot\n",
        "solutions = {}\n",
        "# save last optimal value to be used as lower bound\n",
        "prev_sol = 0\n",
        "\n",
        "for sides in range(min_sides, max_sides + 1):\n",
        "    print(\"Problem size: \", sides)\n",
        "    solutions[sides] = solve_cartesian(sides, prev_sol)\n",
        "    prev_sol = solutions[sides][2]\n",
        "\n",
        "for sides in range(min_sides, max_sides + 1):\n",
        "    xs, ys, area = solutions[sides]\n",
        "    plot_polygon(sides, xs, ys, area)"
      ]
    },
    {
      "cell_type": "markdown",
      "metadata": {
        "id": "FeWsbxoPvA6A"
      },
      "source": [
        "## Conclusion\n",
        "\n",
        "We have presented two different non-linear models to solve the Largest Small Polygon problem.\n",
        "\n",
        "1. The first one uses **polar coordinates** to sort the vertices by the angle. It uses $2(n-1)$ variables and $n(n-1)/2+(n-1)$ constraints. However, there are sines, cosines, and quadratic terms in most of the constraints and objective, so it might be less efficient.\n",
        "\n",
        "2. The second model uses **cartesian coordinates** and sort the vertices by another method. It gets rid of sines and cosines in constraints, and objective becomes linear by introducing $n-2$ new variables. The number of constraints is the same. This model is used in **state-of-the-art research**, and solves the problem for any $n$ without assuming symmetry, so it solves the general problem.\n",
        "\n",
        "There are other models that might be more efficient, these assume *Graham Conjecture*, related to symmetry properties in the diameter graph.\n",
        "\n",
        "* Multiple non-linear solvers could be used to tackle this problem when the number of sides become big: knitro, ipopt, octeract. For this particular problem, **knitro** (13.2.0) gave the best performance in terms of speed and optimality of solutions."
      ]
    }
  ],
  "metadata": {
    "colab": {
      "provenance": []
    },
    "kernelspec": {
      "display_name": "Python 3 (ipykernel)",
      "language": "python",
      "name": "python3"
    },
    "language_info": {
      "codemirror_mode": {
        "name": "ipython",
        "version": 3
      },
      "file_extension": ".py",
      "mimetype": "text/x-python",
      "name": "python",
      "nbconvert_exporter": "python",
      "pygments_lexer": "ipython3",
      "version": "3.10.12"
    },
    "vscode": {
      "interpreter": {
        "hash": "aee8b7b246df8f9039afb4144a1f6fd8d2ca17a180786b69acc140d282b71a49"
      }
    }
  },
  "nbformat": 4,
  "nbformat_minor": 4
}
