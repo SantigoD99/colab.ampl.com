{
  "cells": [
    {
      "cell_type": "markdown",
      "metadata": {
        "id": "sg1Cwg2GwByK"
      },
      "source": [
        "# Labs scheduling\n",
        "[![labs_scheduling.ipynb](https://img.shields.io/badge/github-%23121011.svg?logo=github)](https://github.com/ampl/colab.ampl.com/blob/master/authors/marcos-dv/scheduling/labs_scheduling.ipynb) [![Open In Colab](https://colab.research.google.com/assets/colab-badge.svg)](https://colab.research.google.com/github/ampl/colab.ampl.com/blob/master/authors/marcos-dv/scheduling/labs_scheduling.ipynb) [![Open In Deepnote](https://deepnote.com/buttons/launch-in-deepnote-small.svg)](https://deepnote.com/launch?url=https://github.com/ampl/colab.ampl.com/blob/master/authors/marcos-dv/scheduling/labs_scheduling.ipynb) [![Open In Kaggle](https://kaggle.com/static/images/open-in-kaggle.svg)](https://kaggle.com/kernels/welcome?src=https://github.com/ampl/colab.ampl.com/blob/master/authors/marcos-dv/scheduling/labs_scheduling.ipynb) [![Open In Gradient](https://assets.paperspace.io/img/gradient-badge.svg)](https://console.paperspace.com/github/ampl/colab.ampl.com/blob/master/authors/marcos-dv/scheduling/labs_scheduling.ipynb) [![Open In SageMaker Studio Lab](https://studiolab.sagemaker.aws/studiolab.svg)](https://studiolab.sagemaker.aws/import/github/ampl/colab.ampl.com/blob/master/authors/marcos-dv/scheduling/labs_scheduling.ipynb) [![Powered by AMPL](https://h.ampl.com/https://github.com/ampl/colab.ampl.com/blob/master/authors/marcos-dv/scheduling/labs_scheduling.ipynb)](https://ampl.com)\n",
        "\n",
        "Description: Model for laboratories scheduling. Some labs are needed to handle requests from researchers, and departments have to assign labs and locations to the requests.\n",
        "\n",
        "The problem is a MILP with two objectives for penalties, solved with Ampl + Highs using advanced modeling techniques.\n",
        "\n",
        "Tags: facility location, highs, mip, mixed-integer-linear, scheduling, multi-objective, mp\n",
        "\n",
        "Notebook author: Marcos Dominguez Velad <<marcos@ampl.com>>\n",
        "\n",
        "Model author: Marcos Dominguez Velad <<marcos@ampl.com>>"
      ]
    },
    {
      "cell_type": "code",
      "execution_count": 1,
      "metadata": {},
      "outputs": [],
      "source": [
        "# Install dependencies\n",
        "%pip install -q amplpy"
      ]
    },
    {
      "cell_type": "code",
      "execution_count": 2,
      "metadata": {
        "colab": {
          "base_uri": "https://localhost:8080/"
        },
        "id": "3xDtAc-Fa6An",
        "outputId": "99ea7d1d-44f6-4dbe-cd1f-f02ebd8637b2"
      },
      "outputs": [],
      "source": [
        "# Google Colab & Kaggle integration\n",
        "from amplpy import AMPL, ampl_notebook\n",
        "\n",
        "ampl = ampl_notebook(\n",
        "    modules=[\"highs\"],  # modules to install\n",
        "    license_uuid=\"default\",  # license to use\n",
        ")  # instantiate AMPL object and register magics"
      ]
    },
    {
      "cell_type": "markdown",
      "metadata": {
        "id": "NYwoB5O14CAR"
      },
      "source": [
        "## The problem\n",
        "\n",
        "The problem consists in scheduling a list of request to book laboratory rooms in order avoid conflicts.\n",
        "\n",
        "There are multiple departments containing laboratories, and each laboratory is different. Staff in charge of the departments is limited, so it is necessary to minimize the simultaneous usage of a same type of lab in different departments. The reservations are related to a certain timeslot.\n",
        "\n",
        "- Each request consists on a person-in-charge name and a list of laboratories.\n",
        "- There is a list of departments.\n",
        "- There is a list of available timeslots.\n",
        "\n",
        "Rules:\n",
        "- Each request must be attended once.\n",
        "- Each department can handle only one request in a timeslot.\n",
        "- A person may have ordered more than one request, but they cannot be attended in the same timeslot (even if they are in different departments).\n",
        "- Ideally, a lab may be used in a single department at a time. If a lab of the same type may be used in other departments in parallel, but this should only be done if there are no available timeslots.\n",
        "\n",
        "Solving the problem with ampl community edition + highs open-source MILP solver.\n",
        "\n",
        "https://amplpy.ampl.com/en/latest/\n",
        "\n",
        "https://highs.dev\n",
        "\n",
        "## Data\n",
        "\n",
        "Example with 7 timeslots. Three people are ordering labs, Adam, Bella, and Charlie. Adam request to book a Lab of type 'A' and a Lab of type 'B' in the same session, a session in a Lab A, and another session in a Lab B. Similarly, Bella needs a session in Labs A and B, and another session only in Lab A. Finally, Charlie needs to book simultaneously Labs A and C.\n",
        "\n",
        "We assume there are 2 departments. Each department has a lab of each type available."
      ]
    },
    {
      "cell_type": "code",
      "execution_count": 3,
      "metadata": {
        "id": "Fo6WDbK44BSq"
      },
      "outputs": [],
      "source": [
        "# Sample data\n",
        "times = range(1, 7)\n",
        "departments = [\"Department 1\", \"Department 2\"]\n",
        "\n",
        "requests = [\n",
        "    (\"Adam\", [\"Lab A\", \"Lab B\"]),\n",
        "    (\"Adam\", [\"Lab A\"]),\n",
        "    (\"Bella\", [\"Lab A\", \"Lab B\"]),\n",
        "    (\"Bella\", [\"Lab A\"]),\n",
        "    (\"Adam\", [\"Lab B\"]),\n",
        "    (\"Charlie\", [\"Lab A\", \"Lab C\"]),\n",
        "]\n",
        "\n",
        "requests_id_name = {i: name for i, (name, c) in enumerate(requests)}"
      ]
    },
    {
      "cell_type": "markdown",
      "metadata": {
        "id": "WOsayYaUdQbt"
      },
      "source": [
        "A valid scheduling for the data would be:\n",
        "\n",
        "| Requests | 1 | 2 | 3 | 4 | 5 |\n",
        "|---|---|---|---|---|---|\n",
        "| Department 1 | R4 | R0 | R1 | R2 | R3 |\n",
        "| Department 2 | R5 |  |  |  |  |\n",
        "\n",
        "In the first timeslot, Adam's request for Lab B is scheduled in Department 1, and Charlie's request will be scheduled in Department 2.\n",
        "\n",
        "In the second timeslot, we will let Adam use Labs A and B in Department 1.\n",
        "\n",
        "In the third slot, Adam will use Lab A. In the fourth slot, Bella will use Labs A and B, and in the fifth slot, Bella will use Lab A.\n",
        "\n",
        "Only 5 slots were necessary to handle the requests, and the staff of the same kind of Lab do not split over departments, as it was desired.\n",
        "\n",
        "In the following section, we are going to describe a model to solve this problem for larger instances."
      ]
    },
    {
      "cell_type": "markdown",
      "metadata": {
        "id": "y_sHBb18SsRF"
      },
      "source": [
        "## Model\n",
        "\n",
        "### Sets\n",
        "- `TIMES`: Set of time slots.\n",
        "- `DEPARTMENTS`: Set of departments.\n",
        "- `REQUESTS`: Set of requests.\n",
        "- `REQUEST_LABS[r]`: Set of labs required for request r.\n",
        "- `LABS`: Set of all labs,\n",
        "\n",
        "$$\n",
        "\\text{LABS} = \\bigcup_{r \\in \\text{REQUESTS}} \\text{REQUEST_LABS}[r]\n",
        "$$\n",
        "\n",
        "### Parameters\n",
        "- `REQUEST_NAME[r]`: Person name associated with request r.\n",
        "\n",
        "### Variables\n",
        "- `x[t, s, r]`: Binary variable, equals 1 if request r is assigned to department s at time t, otherwise 0.\n",
        "- `y[t, c]`: Number of usages of lab c at time t.\n",
        "- `Penalty_Usage`: Penalty incurred for using a lab more than once at a timeslot.\n",
        "- `Penalty_Time`: Penalty for the timing of requests.\n",
        "\n",
        "### Constraints\n",
        "\n",
        "#### Assignment Constraint\n",
        "Each request must be assigned exactly once:\n",
        "\n",
        "$$\\sum_{t \\in \\text{TIMES}, s \\in \\text{DEPARTMENTS}} x[t, s, r] = 1 \\quad \\forall r \\in \\text{REQUESTS}$$\n",
        "\n",
        "#### Department Capacity Constraint\n",
        "Each department can handle at most one request at a time:\n",
        "\n",
        "$$\\sum_{r \\in \\text{REQUESTS}} x[t, s, r] \\leq 1 \\quad \\forall t \\in \\text{TIMES}, \\forall s \\in \\text{DEPARTMENTS}$$\n",
        "\n",
        "#### Person Assignment Constraint\n",
        "Each person can only be assigned to one department at any time:\n",
        "\n",
        "$$\\sum \\limits_{\\substack{s \\in \\text{DEPARTMENTS}, r \\in \\text{REQUESTS} : \\\\ \\text{name} = \\text{name}[r]}} x[t, s, r] \\leq 1 \\quad \\forall t \\in \\text{TIMES}, \\forall \\text{name} \\in \\text{NAMES}$$\n",
        "\n",
        "Should loop over the name space and look for constraints such that `name = name[r]`.\n",
        "\n",
        "#### Usage Count\n",
        "The number of usages of lab c at time t is:\n",
        "\n",
        "$$y[t, c] = \\sum_{\\substack{s \\in \\text{DEPARTMENTS}, r \\in \\text{REQUESTS} : \\\\ c \\in \\text{LABS}[r]}} x[t, s, r] \\quad \\forall t \\in \\text{TIMES}$$\n",
        "\n",
        "### Objective Function\n",
        "\n",
        "We are going to have 2 objective functions so that we can first minimize the simultaneous usage of the same Lab in different departments. After that, we are going to minimize the number of necessary timeslots to accomplish the schedule.\n",
        "\n",
        "$$\\text{minimize (first)} : \\text{Penalty_Usage}$$\n",
        "\n",
        "$$\\text{minimize (second)} : \\text{Penalty_Time}$$\n",
        "\n",
        "Where:\n",
        "\n",
        "$$\\text{Penalty_Usage} = \\sum_{t \\in \\text{TIMES}, c \\in \\text{LABS}} \\left( \\text{if } y[t, c] \\leq 1 \\text{ then } 0 \\text{ else } 1 \\right)$$\n",
        "\n",
        "$$\\text{Penalty_Time} = \\sum_{t \\in \\text{TIMES}, s \\in \\text{DEPARTMENTS}, r \\in \\text{REQUESTS}} t \\cdot x[t, s, r]$$\n",
        "\n",
        "The penalty will count the number of labs of the same type that are used more than once at the same time. If there are more than one, the penalty for that kind of Lab will be 1 (for each timeslot). Notice that the expression inside the sum of Penalty_Usage is a non-linear expression that is being reformulated with Ampl into a linear constraint. Read more about automatic reformulations and advanced modeling features in\n",
        "\n",
        "https://mp.ampl.com/model-guide.html\n",
        "\n",
        "See how multi-objectives are handled below in the model."
      ]
    },
    {
      "cell_type": "code",
      "execution_count": 4,
      "metadata": {
        "colab": {
          "base_uri": "https://localhost:8080/"
        },
        "id": "4oBfIvMzbnvk",
        "outputId": "4adb8493-a78b-4a90-b610-37bcd58292e8"
      },
      "outputs": [
        {
          "name": "stdout",
          "output_type": "stream",
          "text": [
            "Overwriting labs.mod\n"
          ]
        }
      ],
      "source": [
        "%%writefile labs.mod\n",
        "reset;\n",
        "set TIMES;             # Set of time slots 1..t\n",
        "set DEPARTMENTS;          # Set of departments\n",
        "set REQUESTS; # id\n",
        "set REQUEST_LABS {REQUESTS};\n",
        "param REQUEST_NAME {REQUESTS} symbolic;\n",
        "# total labs\n",
        "set LABS := union{r in REQUESTS} REQUEST_LABS[r];\n",
        "\n",
        "var x{TIMES, DEPARTMENTS, REQUESTS} binary;  # Assignment variable\n",
        "\n",
        "# Schedule a request once\n",
        "subject to assign_once{r in REQUESTS}:\n",
        "    sum{t in TIMES, s in DEPARTMENTS} x[t, s, r] = 1;  # Each request is assigned exactly once\n",
        "\n",
        "# each time, each department, at most 1 request\n",
        "subject to department_capacity{t in TIMES, s in DEPARTMENTS}:\n",
        "    sum{r in REQUESTS} x[t, s, r] <= 1;  # Each request is assigned at most once\n",
        "\n",
        "# each person only at one department at most\n",
        "# so no more than 1 request with the same person at the same time\n",
        "subject to person_in_one_department{ t in TIMES, r in REQUESTS }:\n",
        "    sum{s in DEPARTMENTS, rr in REQUESTS: REQUEST_NAME[r] == REQUEST_NAME[rr]} x[t,s,rr] <= 1;\n",
        "\n",
        "# number of usages of lab c in time t\n",
        "var y {t in TIMES, c in LABS}\n",
        "    = sum{s in DEPARTMENTS, r in REQUESTS: c in REQUEST_LABS[r]} x[t,s,r];\n",
        "\n",
        "# if we used a lab more than once, add '1' to the objective (as a penalty that should be minimized)\n",
        "# while if the lab is used only once, add '0' to the objective (so add nothing)\n",
        "var Penalty_Usage = sum{t in TIMES, c in LABS} (if y[t,c] <= 1 then 0 else 1);\n",
        "\n",
        "# do it as soon as possible\n",
        "var Penalty_Time = sum{t in TIMES, s in DEPARTMENTS, r in REQUESTS} t * x[t, s, r];\n",
        "\n",
        "# Suffix to assign priority to the multiple objectives\n",
        "suffix objpriority;\n",
        "\n",
        "# this is a penalty over number of usages per lab, y[t,c] is ideally 1, if more, it penalties the objective\n",
        "minimize Extra_Usages: Penalty_Usage\n",
        "  suffix objpriority 10; # most prioritary objective\n",
        "\n",
        "# this is a penalty over time, the latest we assign, the bigger the penalty\n",
        "minimize Delay: Penalty_Time\n",
        "  suffix objpriority 1; # least prioritary objective"
      ]
    },
    {
      "cell_type": "markdown",
      "metadata": {
        "id": "7HaOl0Rj4ESD"
      },
      "source": [
        "## Solving"
      ]
    },
    {
      "cell_type": "code",
      "execution_count": 5,
      "metadata": {
        "id": "INULMKcHfJZV"
      },
      "outputs": [],
      "source": [
        "# Define data for the problem\n",
        "def simple_problem():\n",
        "    times = range(1, 6 + 1)\n",
        "    departments = [\"Department 1\", \"Department 2\"]\n",
        "\n",
        "    requests = [\n",
        "        (\"Adam\", [\"Lab A\", \"Lab B\"]),\n",
        "        (\"Adam\", [\"Lab A\"]),\n",
        "        (\"Bella\", [\"Lab A\", \"Lab B\"]),\n",
        "        (\"Bella\", [\"Lab A\"]),\n",
        "        (\"Adam\", [\"Lab B\"]),\n",
        "        (\"Charlie\", [\"Lab A\", \"Lab C\"]),\n",
        "    ]\n",
        "\n",
        "    requests_id_name = {i: name for i, (name, c) in enumerate(requests)}\n",
        "    return (times, departments, requests, requests_id_name)\n",
        "\n",
        "\n",
        "# Define data for the problem\n",
        "def bigger_problem():\n",
        "    times = range(1, 12 + 1)\n",
        "    departments = [\"Department 1\", \"Department 2\", \"Department 3\"]\n",
        "\n",
        "    requests = [\n",
        "        (\"Adam\", [\"Lab A\", \"Lab B\"]),\n",
        "        (\"Adam\", [\"Lab A\"]),\n",
        "        (\"Bella\", [\"Lab A\", \"Lab B\"]),\n",
        "        (\"Bella\", [\"Lab C\"]),\n",
        "        (\"Bella\", [\"Lab A\", \"Lab B\"]),\n",
        "        (\"Adam\", [\"Lab B\", \"Lab D\", \"Lab A\"]),\n",
        "        (\"Adam\", [\"Lab C\"]),\n",
        "        (\"Adam\", [\"Lab B\", \"Lab D\", \"Lab C\"]),\n",
        "        (\"Charlie\", [\"Lab A\", \"Lab C\"]),\n",
        "        (\"Charlie\", [\"Lab A\", \"Lab B\", \"Lab C\", \"Lab D\"]),\n",
        "        (\"Dave\", [\"Lab A\", \"Lab C\"]),\n",
        "        (\"Dave\", [\"Lab C\"]),\n",
        "        (\"Charlie\", [\"Lab A\", \"Lab C\"]),\n",
        "        (\"Emilia\", [\"Lab A\", \"Lab B\"]),\n",
        "        (\"Dave\", [\"Lab B\"]),\n",
        "        (\"Charlie\", [\"Lab A\", \"Lab C\"]),\n",
        "        (\"Dave\", [\"Lab A\", \"Lab D\"]),\n",
        "        (\"Dave\", [\"Lab B\", \"Lab C\"]),\n",
        "        (\"Emilia\", [\"Lab D\", \"Lab B\"]),\n",
        "        (\"Emilia\", [\"Lab C\", \"Lab A\"]),\n",
        "    ]\n",
        "\n",
        "    requests_id_name = {i: name for i, (name, c) in enumerate(requests)}\n",
        "    return (times, departments, requests, requests_id_name)\n",
        "\n",
        "\n",
        "problem_data = bigger_problem()"
      ]
    },
    {
      "cell_type": "code",
      "execution_count": 6,
      "metadata": {
        "colab": {
          "base_uri": "https://localhost:8080/"
        },
        "id": "plPCDhdhjivI",
        "outputId": "0f78d09c-098b-45bb-dcdd-ccf899532006"
      },
      "outputs": [
        {
          "name": "stdout",
          "output_type": "stream",
          "text": [
            "HiGHS 1.7.1:   obj:multi = 2\n",
            "  tech:outlev = 1\n",
            "\n",
            "\n",
            "==============================================================================\n",
            "MULTI-OBJECTIVE MODE: starting with 2 objectives (2 combined) ...\n",
            "==============================================================================\n",
            "==============================================================================\n",
            "\n",
            "Running HiGHS 1.7.1 (git hash: dcf3813): Copyright (c) 2024 HiGHS under MIT licence terms\n",
            "\n",
            "\n",
            "MULTI-OBJECTIVE MODE: objective 1 (out of 2) ...\n",
            "==============================================================================\n",
            "\n",
            "Coefficient ranges:\n",
            "  Matrix [1e+00, 4e+01]\n",
            "  Cost   [1e+00, 1e+00]\n",
            "  Bound  [1e+00, 5e+01]\n",
            "  RHS    [1e+00, 4e+01]\n",
            "Presolving model\n",
            "392 rows, 816 cols, 6012 nonzeros  0s\n",
            "164 rows, 768 cols, 3612 nonzeros  0s\n",
            "164 rows, 768 cols, 3612 nonzeros  0s\n",
            "Objective function is integral with scale 1\n",
            "\n",
            "Solving MIP model with:\n",
            "   164 rows\n",
            "   768 cols (768 binary, 0 integer, 0 implied int., 0 continuous)\n",
            "   3612 nonzeros\n",
            "\n",
            "        Nodes      |    B&B Tree     |            Objective Bounds              |  Dynamic Constraints |       Work      \n",
            "     Proc. InQueue |  Leaves   Expl. | BestBound       BestSol              Gap |   Cuts   InLp Confl. | LpIters     Time\n",
            "\n",
            "         0       0         0   0.00%   0               inf                  inf        0      0      0         0     0.0s\n",
            " R       0       0         0   0.00%   0.0263157895    10                99.74%        0      0      0        74     0.0s\n",
            " C       0       0         0   0.00%   0.0263157895    9                 99.71%      202     16      0       142     0.1s\n",
            " L       0       0         0   0.00%   0.0263157895    1                 97.37%      352     56      0       801     1.3s\n",
            "\n",
            "Solving report\n",
            "  Status            Optimal\n",
            "  Primal bound      1\n",
            "  Dual bound        1\n",
            "  Gap               0% (tolerance: 0.01%)\n",
            "  Solution status   feasible\n",
            "                    1 (objective)\n",
            "                    0 (bound viol.)\n",
            "                    1.44328993201e-15 (int. viol.)\n",
            "                    0 (row viol.)\n",
            "  Timing            1.34 (total)\n",
            "                    0.02 (presolve)\n",
            "                    0.00 (postsolve)\n",
            "  Nodes             1\n",
            "  LP iterations     1517 (total)\n",
            "                    0 (strong br.)\n",
            "                    727 (separation)\n",
            "                    714 (heuristics)\n",
            "\n",
            "\n",
            "MULTI-OBJECTIVE MODE: objective 2 (out of 2) ...\n",
            "==============================================================================\n",
            "\n",
            "Coefficient ranges:\n",
            "  Matrix [1e+00, 4e+01]\n",
            "  Cost   [1e+00, 1e+01]\n",
            "  Bound  [1e+00, 5e+01]\n",
            "  RHS    [1e+00, 4e+01]\n",
            "Presolving model\n",
            "393 rows, 817 cols, 6061 nonzeros  0s\n",
            "165 rows, 769 cols, 3661 nonzeros  0s\n",
            "165 rows, 768 cols, 3660 nonzeros  0s\n",
            "Objective function is integral with scale 1\n",
            "\n",
            "Solving MIP model with:\n",
            "   165 rows\n",
            "   768 cols (768 binary, 0 integer, 0 implied int., 0 continuous)\n",
            "   3660 nonzeros\n",
            "\n",
            "        Nodes      |    B&B Tree     |            Objective Bounds              |  Dynamic Constraints |       Work      \n",
            "     Proc. InQueue |  Leaves   Expl. | BestBound       BestSol              Gap |   Cuts   InLp Confl. | LpIters     Time\n",
            "\n",
            "         0       0         0   0.00%   0               inf                  inf        0      0      0         0     0.0s\n",
            "         0       0         0   0.00%   77              inf                  inf        0      0      2       145     0.0s\n",
            " R       0       0         0   0.00%   79.53888918     121               34.27%      877    121     46      3372     0.9s\n",
            "\n",
            "Symmetry detection completed in 0.0s\n",
            "Found 27 generators\n",
            "\n",
            " L       0       0         0   0.00%   92.39830098     109               15.23%     1276     33     46      6931     7.5s\n",
            " B      11       0         2   3.32%   92.39830098     108               14.45%     1295     33    299     11962     7.7s\n",
            " B      35       1        15   4.69%   92.39830098     107               13.65%     1340     33   1509     14332     8.1s\n",
            "\n",
            "Solving report\n",
            "  Status            Optimal\n",
            "  Primal bound      107\n",
            "  Dual bound        107\n",
            "  Gap               0% (tolerance: 0.01%)\n",
            "  Solution status   feasible\n",
            "                    107 (objective)\n",
            "                    0 (bound viol.)\n",
            "                    2.59126053948e-13 (int. viol.)\n",
            "                    0 (row viol.)\n",
            "  Timing            10.86 (total)\n",
            "                    0.03 (presolve)\n",
            "                    0.00 (postsolve)\n",
            "  Nodes             688\n",
            "  LP iterations     39038 (total)\n",
            "                    7755 (strong br.)\n",
            "                    5476 (separation)\n",
            "                    4993 (heuristics)\n",
            "\n",
            "\n",
            "==============================================================================\n",
            "MULTI-OBJECTIVE MODE: done.\n",
            "\n",
            "HiGHS 1.7.1: optimal solution; objective 1\n",
            "Individual objective values:\n",
            "\t_sobj[1] = 1\n",
            "\t_sobj[2] = 107\n",
            "39038 simplex iterations\n",
            "688 branching nodes\n",
            " \n",
            "------------ WARNINGS ------------\n",
            "WARNING:  \"Tolerance violations\"\n",
            "  Type                         MaxAbs [Name]   MaxRel [Name]\n",
            "  objective(s)                 5E+00           8E-01         \n",
            "Documentation: mp.ampl.com/modeling-tools.html#automatic-solution-check.\n",
            "Objective = Extra_Usages\n"
          ]
        }
      ],
      "source": [
        "from amplpy import AMPL\n",
        "\n",
        "\n",
        "def load_data(model, problem_data):\n",
        "    times, departments, requests, requests_id_name = problem_data\n",
        "    model.set[\"TIMES\"] = times\n",
        "    model.set[\"DEPARTMENTS\"] = departments\n",
        "    model.set[\"REQUESTS\"] = [i for i in requests_id_name.keys()]\n",
        "    # labs are in the second element of requests[i], so requests[i][1]\n",
        "    model.set[\"REQUEST_LABS\"] = {i: requests[i][1] for i in requests_id_name.keys()}\n",
        "    model.param[\"REQUEST_NAME\"] = requests_id_name\n",
        "\n",
        "    # Debug or show the model\n",
        "    # model.display('REQUESTS')\n",
        "    # model.display('REQUEST_LABS')\n",
        "    # model.display('REQUEST_NAME')\n",
        "    # model.display('DEPARTMENTS')\n",
        "    # model.display('TIMES')\n",
        "    # model.eval('expand;')\n",
        "\n",
        "\n",
        "# create an ampl object to read the model\n",
        "ampl.read(\"labs.mod\")\n",
        "load_data(ampl, problem_data)\n",
        "\n",
        "# solve with solver highs\n",
        "solver = \"highs\"\n",
        "ampl.option[\"highs_options\"] = (\n",
        "    \"obj:multi=2 outlev=1\"  # verbose output and multi-objective\n",
        ")\n",
        "ampl.solve(solver=solver)\n",
        "assert ampl.solve_result == \"solved\", ampl.solve_result"
      ]
    },
    {
      "cell_type": "markdown",
      "metadata": {
        "id": "I9wm2GcmfUEG"
      },
      "source": [
        "## Solution\n",
        "\n",
        "Retrieve solution and generate a markdown table with the schedule"
      ]
    },
    {
      "cell_type": "code",
      "execution_count": 7,
      "metadata": {
        "colab": {
          "base_uri": "https://localhost:8080/"
        },
        "id": "y23DEcEi2TS0",
        "outputId": "71f0f824-01e2-48ae-f04f-d5575e139361"
      },
      "outputs": [
        {
          "name": "stdout",
          "output_type": "stream",
          "text": [
            "Time  1  Department  Department 1  Req  1\n",
            "Time  1  Department  Department 1  Req  14\n",
            "Time  1  Department  Department 1  Req  15\n",
            "Time  1  Department  Department 2  Req  4\n",
            "Time  1  Department  Department 3  Req  12\n",
            "Time  1  Department  Department 3  Req  16\n",
            "Time  2  Department  Department 1  Req  10\n",
            "Time  2  Department  Department 2  Req  14\n",
            "Time  2  Department  Department 2  Req  16\n",
            "Time  2  Department  Department 3  Req  3\n",
            "Time  2  Department  Department 3  Req  18\n",
            "Time  3  Department  Department 1  Req  19\n",
            "Time  3  Department  Department 2  Req  0\n",
            "Time  3  Department  Department 2  Req  14\n",
            "Time  4  Department  Department 1  Req  2\n",
            "Time  4  Department  Department 3  Req  6\n",
            "Time  5  Department  Department 1  Req  3\n",
            "Time  5  Department  Department 1  Req  11\n",
            "Time  5  Department  Department 2  Req  5\n",
            "Time  6  Department  Department 1  Req  1\n",
            "Time  6  Department  Department 3  Req  17\n",
            "Time  7  Department  Department 1  Req  0\n",
            "Time  7  Department  Department 1  Req  8\n",
            "Time  7  Department  Department 1  Req  14\n",
            "Time  7  Department  Department 2  Req  11\n",
            "Time  7  Department  Department 3  Req  13\n",
            "Time  7  Department  Department 3  Req  18\n",
            "Time  8  Department  Department 3  Req  9\n",
            "Time  9  Department  Department 1  Req  7\n",
            "Time  10  Department  Department 2  Req  0\n",
            "Time  10  Department  Department 2  Req  8\n",
            "Time  10  Department  Department 2  Req  13\n",
            "Time  11  Department  Department 2  Req  12\n",
            "Time  12  Department  Department 3  Req  8\n",
            "Objective value: 6.0\n"
          ]
        }
      ],
      "source": [
        "# Retrieve results\n",
        "solution = ampl.get_solution(flat=False, zeros=False)\n",
        "for t, s, r in solution[\"x\"].keys():\n",
        "    print(\"Time \", t, \" Department \", s, \" Req \", r)\n",
        "\n",
        "# Also, to see other outputs or objective values:\n",
        "print(\"Objective value:\", ampl.getObjective(\"Extra_Usages\").value())"
      ]
    },
    {
      "cell_type": "code",
      "execution_count": 8,
      "metadata": {
        "colab": {
          "base_uri": "https://localhost:8080/"
        },
        "id": "R5wcbORJMZcc",
        "outputId": "d8faef59-69fc-4cb4-8367-c348e368a2a8"
      },
      "outputs": [
        {
          "name": "stdout",
          "output_type": "stream",
          "text": [
            "| Slots | 1 | 2 | 3 | 4 | 5 | 6 | 7 | 8 | 9 | 10 | 11 | 12 |\n",
            "|---|---|---|---|---|---|---|---|---|---|---|---|---|\n",
            "| Department 1 | 15 | 10 | 19 | 2 | 11 | 1 | 14 |  | 7 |  |  |  |\n",
            "| Department 2 | 4 | 16 | 14 |  | 5 |  | 11 |  |  | 13 | 12 |  |\n",
            "| Department 3 | 16 | 18 |  | 6 |  | 17 | 18 | 9 |  |  |  | 8 |\n",
            "Extra Lab usages: 6.0\n"
          ]
        }
      ],
      "source": [
        "def print_solution_table(data):\n",
        "    table_data = {\n",
        "        (str(department), str(time)): str(req) for time, department, req in data\n",
        "    }\n",
        "    times = [\n",
        "        str(t)\n",
        "        for t in sorted(set([int(time) for department, time in table_data.keys()]))\n",
        "    ]\n",
        "    departments = sorted(set([department for department, time in table_data.keys()]))\n",
        "\n",
        "    # Step 3: Generate the markdown table\n",
        "    # Create the header row (with times as columns)\n",
        "    header = \"| Slots | \" + \" | \".join(times) + \" |\"\n",
        "    separator = \"|---\" * (len(times) + 1) + \"|\"\n",
        "\n",
        "    # Create the rows (one row for each department)\n",
        "    rows = []\n",
        "    for department in departments:\n",
        "        row = (\n",
        "            f\"| {department} | \"\n",
        "            + \" | \".join(\n",
        "                [\n",
        "                    (\n",
        "                        table_data[department, time]\n",
        "                        if table_data.get((department, time))\n",
        "                        else \"\"\n",
        "                    )\n",
        "                    for time in times\n",
        "                ]\n",
        "            )\n",
        "            + \" |\"\n",
        "        )\n",
        "        rows.append(row)\n",
        "\n",
        "    # Combine header, separator, and rows\n",
        "    markdown_table = \"\\n\".join([header, separator] + rows)\n",
        "    return markdown_table\n",
        "\n",
        "\n",
        "# Print the markdown table\n",
        "print(print_solution_table(solution[\"x\"].keys()))\n",
        "print(\"Extra Lab usages:\", ampl.getObjective(\"Extra_Usages\").value())"
      ]
    },
    {
      "cell_type": "markdown",
      "metadata": {
        "id": "U7aKEdhhP3p5"
      },
      "source": [
        "This would be an optimal solution for the problem with 12 timeslots and 6 extra Lab usages.\n",
        "\n",
        "| Slots | 1 | 2 | 3 | 4 | 5 | 6 | 7 | 8 | 9 | 10 | 11 | 12 |\n",
        "|---|---|---|---|---|---|---|---|---|---|---|---|---|\n",
        "| Department 1 | 15 | 10 | 19 | 2 | 11 | 1 | 14 |  | 7 |  |  |  |\n",
        "| Department 2 | 4 | 16 | 14 |  | 5 |  | 11 |  |  | 13 | 12 |  |\n",
        "| Department 3 | 16 | 18 |  | 6 |  | 17 | 18 | 9 |  |  |  | 8 |"
      ]
    },
    {
      "cell_type": "markdown",
      "metadata": {
        "id": "Ku6IRNju38fb"
      },
      "source": [
        "* What if we want to minimize the number of timeslots?"
      ]
    },
    {
      "cell_type": "code",
      "execution_count": 9,
      "metadata": {
        "colab": {
          "base_uri": "https://localhost:8080/"
        },
        "id": "miL6IxqN3_of",
        "outputId": "e84783d2-36ff-426d-94e5-2627fa3fc9b0"
      },
      "outputs": [
        {
          "name": "stdout",
          "output_type": "stream",
          "text": [
            "| Slots | 1 | 2 | 3 | 4 | 5 | 6 | 7 |\n",
            "|---|---|---|---|---|---|---|---|\n",
            "| Department 1 | 4 | 12 | 13 | 2 | 16 | 6 | 5 |\n",
            "| Department 2 | 18 | 10 | 14 | 1 | 0 | 9 | 3 |\n",
            "| Department 3 | 17 | 19 | 7 | 8 | 15 | 11 |  |\n",
            "Extra Lab usages: 8.0\n"
          ]
        }
      ],
      "source": [
        "ampl.eval(\"let Delay.objpriority := 100;\")  # main objective\n",
        "ampl.option[\"highs_options\"] = \"obj:multi=2\"  # multi-objective\n",
        "ampl.solve(solver=solver, verbose=False)\n",
        "assert ampl.solve_result == \"solved\", ampl.solve_result\n",
        "solution = ampl.get_solution(flat=False, zeros=False)\n",
        "print(print_solution_table(solution[\"x\"].keys()))\n",
        "print(\"Extra Lab usages:\", ampl.getObjective(\"Extra_Usages\").value())"
      ]
    },
    {
      "cell_type": "markdown",
      "metadata": {
        "id": "K6fQP_lS4pa0"
      },
      "source": [
        "Solution with 7 slots and 8 extra Lab usages\n",
        "\n",
        "| Slots | 1 | 2 | 3 | 4 | 5 | 6 | 7 |\n",
        "|---|---|---|---|---|---|---|---|\n",
        "| Department 1 | 4 | 12 | 13 | 2 | 16 | 6 | 5 |\n",
        "| Department 2 | 18 | 10 | 14 | 1 | 0 | 9 | 3 |\n",
        "| Department 3 | 17 | 19 | 7 | 8 | 15 | 11 |  |"
      ]
    },
    {
      "cell_type": "markdown",
      "metadata": {
        "id": "mqUbsMqcM7hD"
      },
      "source": [
        "[AMPL Website](https://ampl.com) | [AMPL Colab](https://colab.ampl.com) | [Community Edition]( https://ampl.com/ce/) | [Twitter](https://twitter.com/AMPLopt) | [LinkedIn](https://www.linkedin.com/company/ampl)"
      ]
    }
  ],
  "metadata": {
    "colab": {
      "provenance": []
    },
    "kernelspec": {
      "display_name": "Python 3 (ipykernel)",
      "language": "python",
      "name": "python3"
    },
    "language_info": {
      "codemirror_mode": {
        "name": "ipython",
        "version": 3
      },
      "file_extension": ".py",
      "mimetype": "text/x-python",
      "name": "python",
      "nbconvert_exporter": "python",
      "pygments_lexer": "ipython3",
      "version": "3.10.12"
    },
    "vscode": {
      "interpreter": {
        "hash": "ee4198aac13dae9b6fccd443041680d99c2643c4956ef7c80ff6dcc0057cb523"
      }
    }
  },
  "nbformat": 4,
  "nbformat_minor": 4
}
