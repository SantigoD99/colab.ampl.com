{
  "cells": [
    {
      "cell_type": "markdown",
      "metadata": {
        "id": "bchS7uHDaLmT"
      },
      "source": [
        "# Sudoku Generator\n",
        "[![sudoku_gen.ipynb](https://img.shields.io/badge/github-%23121011.svg?logo=github)](https://github.com/ampl/colab.ampl.com/blob/master/authors/marcos-dv/puzzles/sudoku_gen.ipynb) [![Open In Colab](https://colab.research.google.com/assets/colab-badge.svg)](https://colab.research.google.com/github/ampl/colab.ampl.com/blob/master/authors/marcos-dv/puzzles/sudoku_gen.ipynb) [![Kaggle](https://kaggle.com/static/images/open-in-kaggle.svg)](https://kaggle.com/kernels/welcome?src=https://github.com/ampl/colab.ampl.com/blob/master/authors/marcos-dv/puzzles/sudoku_gen.ipynb) [![Gradient](https://assets.paperspace.io/img/gradient-badge.svg)](https://console.paperspace.com/github/ampl/colab.ampl.com/blob/master/authors/marcos-dv/puzzles/sudoku_gen.ipynb) [![Open In SageMaker Studio Lab](https://studiolab.sagemaker.aws/studiolab.svg)](https://studiolab.sagemaker.aws/import/github/ampl/colab.ampl.com/blob/master/authors/marcos-dv/puzzles/sudoku_gen.ipynb) [![Hits](https://h.ampl.com/https://github.com/ampl/colab.ampl.com/blob/master/authors/marcos-dv/puzzles/sudoku_gen.ipynb)](https://colab.ampl.com)\n",
        "\n",
        "Description: Generate Sudoku boards with unique solution via iterative method and mip formulation.\n",
        "\n",
        "Tags: mip, heuristics, puzzles, amplpy\n",
        "\n",
        "Notebook author: Marcos Dominguez Velad <<marcos@ampl.com>>\n",
        "\n",
        "Model author: Marcos Dominguez Velad <<marcos@ampl.com>>"
      ]
    },
    {
      "cell_type": "markdown",
      "metadata": {
        "id": "APznptbwRdyv"
      },
      "source": [
        "Solving Sudokus with Mixed-Integer Linear Programming techniques is one of the most well-known examples to show Mathematical Optimization potential.\n",
        "\n",
        "This popular puzzle can be solved in many different ways, from using bitmasks to speed-up a backtracking approach, to Constraint Programming solvers. There are many Sudoku variants (take a look to [Cracking the Cryptic's](https://www.youtube.com/@CrackingTheCryptic/featured) Youtube channel), but what about **puzzle generation**? Getting Sudoku instances is also a hard problem.\n",
        "\n",
        "Sudokus are usually unique, in the sense that, given a grid partially filled, **there should only exists one solution**. Gary McGuire, Bastian Tugemann, and Gilles Civario proved that [at least 17 numbers](https://www.math.ie/McGuire_V1.pdf) are necessary to ensure the uniqueness of a partially filled Sudoku (2012). If there are less than 17 clues, there are, for sure, multiple solution. However, if there are 20 clues, it is possible that there are multiple solutions.\n",
        "\n",
        "A partially filled Sudoku is called \"**irreducible**\" if there is only one way to complete it, and removing any of the clues allows multiple solutions.\n",
        "\n",
        "Find out whether a Sudoku is irreducible or not is not straightforward. We are integrating AMPL and Highs within an iterative method to generate irreducible puzzles.\n",
        "\n",
        "## Algorithm description\n",
        "\n",
        "1. First, **generate a completely filled Sudoku**. Given an empty Sudoku, it is not difficult to find one solution by shifting consecutive blocks of 3 numbers, and permuting them correctly.\n",
        "\n",
        "```\n",
        "123 . 456 . 789\n",
        "456 . 789 . 123\n",
        "789 . 123 . 456\n",
        "...............\n",
        "231 . 564 . 897\n",
        "564 . 897 . 231\n",
        "897 . 231 . 564\n",
        "...............\n",
        "312 . 645 . 987\n",
        "645 . 987 . 312\n",
        "987 . 312 . 645\n",
        "```\n",
        "\n",
        "2. **Save solved Sudoku** solution in $T$ matrix (template).\n",
        "\n",
        "3. Guess which clues are necessary. **Loop over all the tiles** (i in 1..9, j in 1..9). For each tile $(a,b)$:\n",
        "\n",
        "  3.1. **Solve the Sudoku** using a MIP solver. Sudoku models use binary variables `x[i,j,k]` whose value is 1 if the tile $(i,j)$ ends up having the value $k$, 0 otherwise. There are a couple of *tweaks* before solving:\n",
        "\n",
        "    Drop the \"Fix tile $(a,b)$\" constraint, so $(a,b)$ is not forced to take the value $T_{a,b}$. This is the same as forgetting this clue for this particular solve.\n",
        "\n",
        "    Add the following objective function:\n",
        "$$\n",
        "minimize \\quad x_{a,b,T_{a,b}}\n",
        "$$\n",
        "\n",
        "    If the Sudoku has a unique solution, the optimal value is going to be 1, and tile $(a,b)$ is going to be the same as $T_{a,b}$. If the solution is not unique, the $(a,b)$ tile can be filled in more than one way, so the solver will not use $x[a,b,k]=1$ to minimize: there will be some $k' \\neq T_{a,b}$ (not added to the objective) such that $x[a,b,k']=1$, so the optimal value will be 0. Solve this problem.\n",
        "\n",
        "  3.2. **Analyze the optimal value** found. If the solution was unique (objective = 1) remove $T_{a,b}$ clue and the Sudoku would be determined. If not (objective = 0), keep $T_{a,b}$ clue (since removing it prevents the Sudoku from being irreducible).\n",
        "\n",
        "4. If there are remaining tiles, back to step 3.\n",
        "\n",
        "5. Finally, $T$ template must contain an *irreducible Sudoku*.\n",
        "\n",
        "* **Theorem**: the previous algorithm returns an irreducible Sudoku. Proof:\n",
        "\n",
        "  By induction, let's show that $T$ will have a unique solution after each iteration. In the first iteration the solution is unique. Suppose $T$ provides a Sudoku template with unique solution after $k$ iterations. In the iteration $k+1$, remove clue $(a,b)$ (if not, the template remains the same). If the solution is not unique, there should be many ways to complete the Sudoku, and $(a,b)$ value must be different from $T_{a,b}$. Fix that tile according to step 3.2, so the template is the same as in iteration $k$, which had unique solution. It is possible to determine if the solution is unique or not by checking the optimal value of the problem solved in step 3.1.\n",
        "\n",
        "  We have proved that the solution is unique. Let's see that the Sudoku obtained is also irreducible. By contradiction, suppose there exist some tiles $(i,j)$ with $T_{i,j}$ filled such that when any of them is removed, the solution is still unique. Pick the last one of these tiles that was processed in the iterative method. When iterated over that $(i,j)$, multiple solutions should have been found since the tile is fixed. But that is a contradiction, because later steps would only clear or keep clues, so the alternative solutions that show up when removing $(i,j)$ clue are feasible if the clue is removed."
      ]
    },
    {
      "cell_type": "markdown",
      "metadata": {
        "id": "K_tSgg3Ki75t"
      },
      "source": [
        "## Model"
      ]
    },
    {
      "cell_type": "code",
      "execution_count": 1,
      "metadata": {
        "id": "5F5ueIrDi751"
      },
      "outputs": [],
      "source": [
        "# Install dependencies\n",
        "%pip install -q amplpy"
      ]
    },
    {
      "cell_type": "code",
      "execution_count": 2,
      "metadata": {
        "colab": {
          "base_uri": "https://localhost:8080/"
        },
        "id": "bRmgn-hJi756",
        "outputId": "512ec4d5-d203-454b-e1b4-3e0d732f5b0b"
      },
      "outputs": [],
      "source": [
        "# Google Colab & Kaggle integration\n",
        "from amplpy import AMPL, ampl_notebook\n",
        "\n",
        "ampl = ampl_notebook(\n",
        "    modules=[\"highs\"],  # modules to install\n",
        "    license_uuid=\"default\",  # license to use\n",
        ")  # instantiate AMPL object and register magics"
      ]
    },
    {
      "cell_type": "markdown",
      "metadata": {
        "id": "VRqGGLo36kww"
      },
      "source": [
        "The algorithm and mixed-integer linear model is generalized to any (square) Sudoku size.\n",
        "\n",
        "We are using a **weighted objective function** to simplify the algorithm implementation. When processing tile $(a,b)$, set $w_{a,b,T_{a,b}} = 1$, and $w_{i,j,k} = 0$ for any other tile. Only the $x$ variable whose digit is $T_{a,b}$ is added to the objective. Any non-processed tile should have a $T_{a,b}$ value, as the initial template is filled.\n",
        "\n",
        "Another alternative to obtain a initial Sudoku could be using random weights in the objective function and solving the problem with that objective."
      ]
    },
    {
      "cell_type": "code",
      "execution_count": 3,
      "metadata": {
        "id": "a5TgTF9Yi76B"
      },
      "outputs": [],
      "source": [
        "%%ampl_eval\n",
        "reset;\n",
        "\n",
        "# PARAMETERS AND SETS\n",
        "param n; # Sudoku size, usually n=3\n",
        "set ROWS := 1..n^2;\n",
        "set COLS := 1..n^2;\n",
        "set DIGITS := 1..n^2;\n",
        "set SUBSQUARES{sr in 1..n, sc in 1..n} =\n",
        "    setof {i in ROWS, j in COLS : sr = ceil(i/n) and sc = ceil(j/n)} (i,j);\n",
        "\n",
        "param T{ROWS, COLS} default 0 <= n^2; # Template\n",
        "param Weights{ROWS, COLS, DIGITS} default 0; # Objective function\n",
        "\n",
        "# VARIABLES\n",
        "var x{ROWS,COLS,DIGITS}, binary;\n",
        "\n",
        "# CONSTRAINTS\n",
        "subject to Diff_Rows{i in ROWS, k in DIGITS}:\n",
        "\tsum{j in COLS} x[i,j,k] = 1;\n",
        "\n",
        "Diff_Cols{j in COLS, k in DIGITS}:\n",
        "\tsum{i in ROWS} x[i,j,k] = 1;\n",
        "\n",
        "Diff_Subsq{sr in 1..n, sc in 1..n, k in DIGITS}:\n",
        "\tsum{(i,j) in SUBSQUARES[sr,sc]} x[i,j,k] = 1;\n",
        "\n",
        "One_Digit{i in ROWS, j in COLS}:\n",
        "\tsum{k in DIGITS} x[i,j,k] = 1;\n",
        "\n",
        "Fill_Tile{i in ROWS, j in COLS : T[i,j] > 0}:\n",
        "\tx[i,j,T[i,j]] = 1;\n",
        "    \n",
        "minimize f: sum{i in ROWS, j in COLS : T[i,j] > 0} Weights[i,j,T[i,j]]*x[i,j,T[i,j]];"
      ]
    },
    {
      "cell_type": "markdown",
      "metadata": {
        "id": "v099o0dX9KaU"
      },
      "source": [
        "## First template\n",
        "\n",
        "To start the algorithm (step 1) we need a completely filled Sudoku."
      ]
    },
    {
      "cell_type": "code",
      "execution_count": 4,
      "metadata": {
        "colab": {
          "base_uri": "https://localhost:8080/"
        },
        "id": "JQa0hdJHi76D",
        "outputId": "49f4f2cf-a941-4e56-86c8-d9255f7218e3"
      },
      "outputs": [
        {
          "name": "stdout",
          "output_type": "stream",
          "text": [
            "Solution determined by presolve;\n",
            "objective f = 0.\n"
          ]
        }
      ],
      "source": [
        "import itertools\n",
        "\n",
        "n = 3\n",
        "ampl.param[\"n\"] = n\n",
        "\n",
        "solution = [\n",
        "    [1, 2, 3, 4, 5, 6, 7, 8, 9],\n",
        "    [4, 5, 6, 7, 8, 9, 1, 2, 3],\n",
        "    [7, 8, 9, 1, 2, 3, 4, 5, 6],\n",
        "    [2, 3, 1, 5, 6, 4, 8, 9, 7],\n",
        "    [5, 6, 4, 8, 9, 7, 2, 3, 1],\n",
        "    [8, 9, 7, 2, 3, 1, 5, 6, 4],\n",
        "    [3, 1, 2, 6, 4, 5, 9, 7, 8],\n",
        "    [6, 4, 5, 9, 7, 8, 3, 1, 2],\n",
        "    [9, 7, 8, 3, 1, 2, 6, 4, 5],\n",
        "]\n",
        "\n",
        "rows = range(1, n * n + 1)  # 1..n^2\n",
        "ampl.param[\"T\"] = {\n",
        "    (i, j): solution[i - 1][j - 1] for i, j in itertools.product(rows, rows)\n",
        "}\n",
        "ampl.solve(solver=\"highs\")\n",
        "assert ampl.solve_result == \"solved\""
      ]
    },
    {
      "cell_type": "markdown",
      "metadata": {
        "id": "coH505b0RdzO"
      },
      "source": [
        "## Iterative method\n",
        "\n",
        "As the order of the tiles matter, iterate over them in a random order. For example, first processed tiles are going to be cleaned, so if they are not ordered, the resulting Sudoku will have many empty squares on the top.\n",
        "\n",
        "Drop the constraint related to the clue, set the weight value to 1, solve, analyze the optimal value in order to clean the clue or restore the constraint, and finally set the weight to 0.\n",
        "\n",
        "We use Highs (open source MIP solver) to solve the MIP instances."
      ]
    },
    {
      "cell_type": "code",
      "execution_count": 5,
      "metadata": {
        "colab": {
          "base_uri": "https://localhost:8080/"
        },
        "id": "-Oht3CaIRdzP",
        "outputId": "3672d7d4-15c0-4417-b756-6ab56e6706e2"
      },
      "outputs": [
        {
          "name": "stdout",
          "output_type": "stream",
          "text": [
            "Solution determined by presolve;\n",
            "objective f = 1.\n",
            "Solution determined by presolve;\n",
            "objective f = 1.\n",
            "Solution determined by presolve;\n",
            "objective f = 1.\n",
            "Solution determined by presolve;\n",
            "objective f = 1.\n",
            "Solution determined by presolve;\n",
            "objective f = 1.\n",
            "Solution determined by presolve;\n",
            "objective f = 1.\n",
            "Solution determined by presolve;\n",
            "objective f = 1.\n",
            "Solution determined by presolve;\n",
            "objective f = 1.\n",
            "Solution determined by presolve;\n",
            "objective f = 1.\n",
            "Solution determined by presolve;\n",
            "objective f = 1.\n",
            "Solution determined by presolve;\n",
            "objective f = 1.\n",
            "Solution determined by presolve;\n",
            "objective f = 1.\n",
            "Solution determined by presolve;\n",
            "objective f = 1.\n",
            "Solution determined by presolve;\n",
            "objective f = 1.\n",
            "Solution determined by presolve;\n",
            "objective f = 1.\n",
            "Solution determined by presolve;\n",
            "objective f = 1.\n",
            "Solution determined by presolve;\n",
            "objective f = 1.\n",
            "Solution determined by presolve;\n",
            "objective f = 1.\n",
            "Solution determined by presolve;\n",
            "objective f = 1.\n",
            "Solution determined by presolve;\n",
            "objective f = 1.\n",
            "Solution determined by presolve;\n",
            "objective f = 1.\n",
            "Solution determined by presolve;\n",
            "objective f = 1.\n",
            "Solution determined by presolve;\n",
            "objective f = 1.\n",
            "Solution determined by presolve;\n",
            "objective f = 1.\n",
            "Solution determined by presolve;\n",
            "objective f = 1.\n",
            "Solution determined by presolve;\n",
            "objective f = 1.\n",
            "Solution determined by presolve;\n",
            "objective f = 1.\n",
            "Solution determined by presolve;\n",
            "objective f = 1.\n",
            "Solution determined by presolve;\n",
            "objective f = 1.\n",
            "HiGHS 1.4.0: \b\b\b\b\b\b\b\b\b\b\b\b\bHiGHS 1.4.0: optimal solution; objective 0\n",
            "0 simplex iterations\n",
            "0 branching nodes\n",
            "Solution determined by presolve;\n",
            "objective f = 1.\n",
            "Solution determined by presolve;\n",
            "objective f = 1.\n",
            "Solution determined by presolve;\n",
            "objective f = 1.\n",
            "Solution determined by presolve;\n",
            "objective f = 1.\n",
            "Solution determined by presolve;\n",
            "objective f = 1.\n",
            "Solution determined by presolve;\n",
            "objective f = 1.\n",
            "Solution determined by presolve;\n",
            "objective f = 1.\n",
            "Solution determined by presolve;\n",
            "objective f = 1.\n",
            "Solution determined by presolve;\n",
            "objective f = 1.\n",
            "Solution determined by presolve;\n",
            "objective f = 1.\n",
            "Solution determined by presolve;\n",
            "objective f = 1.\n",
            "HiGHS 1.4.0: \b\b\b\b\b\b\b\b\b\b\b\b\bHiGHS 1.4.0: optimal solution; objective 0\n",
            "0 simplex iterations\n",
            "0 branching nodes\n",
            "Solution determined by presolve;\n",
            "objective f = 1.\n",
            "Solution determined by presolve;\n",
            "objective f = 1.\n",
            "HiGHS 1.4.0: \b\b\b\b\b\b\b\b\b\b\b\b\bHiGHS 1.4.0: optimal solution; objective 0\n",
            "0 simplex iterations\n",
            "0 branching nodes\n",
            "HiGHS 1.4.0: \b\b\b\b\b\b\b\b\b\b\b\b\bHiGHS 1.4.0: optimal solution; objective 0\n",
            "0 simplex iterations\n",
            "0 branching nodes\n",
            "HiGHS 1.4.0: \b\b\b\b\b\b\b\b\b\b\b\b\bHiGHS 1.4.0: optimal solution; objective 0\n",
            "0 simplex iterations\n",
            "0 branching nodes\n",
            "Solution determined by presolve;\n",
            "objective f = 1.\n",
            "Solution determined by presolve;\n",
            "objective f = 1.\n",
            "Solution determined by presolve;\n",
            "objective f = 1.\n",
            "Solution determined by presolve;\n",
            "objective f = 1.\n",
            "Solution determined by presolve;\n",
            "objective f = 1.\n",
            "Solution determined by presolve;\n",
            "objective f = 1.\n",
            "Solution determined by presolve;\n",
            "objective f = 1.\n",
            "Solution determined by presolve;\n",
            "objective f = 1.\n",
            "HiGHS 1.4.0: \b\b\b\b\b\b\b\b\b\b\b\b\bHiGHS 1.4.0: optimal solution; objective 0\n",
            "0 simplex iterations\n",
            "0 branching nodes\n",
            "HiGHS 1.4.0: \b\b\b\b\b\b\b\b\b\b\b\b\bHiGHS 1.4.0: optimal solution; objective 0\n",
            "0 simplex iterations\n",
            "0 branching nodes\n",
            "HiGHS 1.4.0: \b\b\b\b\b\b\b\b\b\b\b\b\bHiGHS 1.4.0: optimal solution; objective 0\n",
            "0 simplex iterations\n",
            "0 branching nodes\n",
            "HiGHS 1.4.0: \b\b\b\b\b\b\b\b\b\b\b\b\bHiGHS 1.4.0: optimal solution; objective 0\n",
            "0 simplex iterations\n",
            "0 branching nodes\n",
            "HiGHS 1.4.0: \b\b\b\b\b\b\b\b\b\b\b\b\bHiGHS 1.4.0: optimal solution; objective 0\n",
            "0 simplex iterations\n",
            "0 branching nodes\n",
            "HiGHS 1.4.0: \b\b\b\b\b\b\b\b\b\b\b\b\bHiGHS 1.4.0: optimal solution; objective 0\n",
            "0 simplex iterations\n",
            "0 branching nodes\n",
            "Solution determined by presolve;\n",
            "objective f = 1.\n",
            "HiGHS 1.4.0: \b\b\b\b\b\b\b\b\b\b\b\b\bHiGHS 1.4.0: optimal solution; objective 0\n",
            "0 simplex iterations\n",
            "0 branching nodes\n",
            "HiGHS 1.4.0: \b\b\b\b\b\b\b\b\b\b\b\b\bHiGHS 1.4.0: optimal solution; objective 0\n",
            "0 simplex iterations\n",
            "0 branching nodes\n",
            "Solution determined by presolve;\n",
            "objective f = 1.\n",
            "Solution determined by presolve;\n",
            "objective f = 1.\n",
            "HiGHS 1.4.0: \b\b\b\b\b\b\b\b\b\b\b\b\bHiGHS 1.4.0: optimal solution; objective 0\n",
            "0 simplex iterations\n",
            "0 branching nodes\n",
            "HiGHS 1.4.0: 0; Iter: Time   9.775e-08; average =   9.775e-09; Bound =   9.932e-06\n",
            "\b\b\b\b\b\b\b\b\b\b\b\b\bHiGHS 1.4.0: optimal solution; objective 0\n",
            "0 simplex iterations\n",
            "1 branching nodes\n",
            "HiGHS 1.4.0: 0; Iter: Time   4.053e-08; average =   4.053e-09; Bound =   4.069e-06\n",
            "\b\b\b\b\b\b\b\b\b\b\b\b\bHiGHS 1.4.0: optimal solution; objective 0\n",
            "0 simplex iterations\n",
            "1 branching nodes\n",
            "HiGHS 1.4.0: \b\b\b\b\b\b\b\b\b\b\b\b\bHiGHS 1.4.0: optimal solution; objective 0\n",
            "0 simplex iterations\n",
            "0 branching nodes\n",
            "HiGHS 1.4.0: \b\b\b\b\b\b\b\b\b\b\b\b\bHiGHS 1.4.0: optimal solution; objective 0\n",
            "0 simplex iterations\n",
            "0 branching nodes\n",
            "HiGHS 1.4.0: \b\b\b\b\b\b\b\b\b\b\b\b\bHiGHS 1.4.0: optimal solution; objective 0\n",
            "0 simplex iterations\n",
            "0 branching nodes\n",
            "HiGHS 1.4.0: \b\b\b\b\b\b\b\b\b\b\b\b\bHiGHS 1.4.0: optimal solution; objective 0\n",
            "0 simplex iterations\n",
            "0 branching nodes\n",
            "HiGHS 1.4.0: \b\b\b\b\b\b\b\b\b\b\b\b\bHiGHS 1.4.0: optimal solution; objective 0\n",
            "0 simplex iterations\n",
            "0 branching nodes\n",
            "HiGHS 1.4.0: \b\b\b\b\b\b\b\b\b\b\b\b\bHiGHS 1.4.0: optimal solution; objective 0\n",
            "0 simplex iterations\n",
            "0 branching nodes\n",
            "Solution determined by presolve;\n",
            "objective f = 1.\n",
            "HiGHS 1.4.0: \b\b\b\b\b\b\b\b\b\b\b\b\bHiGHS 1.4.0: optimal solution; objective 0\n",
            "0 simplex iterations\n",
            "0 branching nodes\n",
            "HiGHS 1.4.0: \b\b\b\b\b\b\b\b\b\b\b\b\bHiGHS 1.4.0: optimal solution; objective 0\n",
            "0 simplex iterations\n",
            "0 branching nodes\n",
            "Solution determined by presolve;\n",
            "objective f = 1.\n",
            "Solution determined by presolve;\n",
            "objective f = 1.\n",
            "HiGHS 1.4.0: \b\b\b\b\b\b\b\b\b\b\b\b\bHiGHS 1.4.0: optimal solution; objective 0\n",
            "0 simplex iterations\n",
            "0 branching nodes\n"
          ]
        }
      ],
      "source": [
        "import random\n",
        "import time\n",
        "\n",
        "# Step 2\n",
        "x = ampl.var[\"x\"]\n",
        "solution = {\n",
        "    (i, j): k\n",
        "    for (i, j, k) in itertools.product(rows, rows, rows)\n",
        "    if x[i, j, k].value() > 0\n",
        "}\n",
        "# Initial template\n",
        "ampl.param[\"T\"] = solution\n",
        "tiles = list(itertools.product(rows, rows))\n",
        "# Tiles are shuffled, as the very first tiles are going to be cleared.\n",
        "random.shuffle(tiles)\n",
        "\n",
        "t0 = time.time()\n",
        "# Step 3\n",
        "for i, j in tiles:\n",
        "    # Step 3.1\n",
        "    # Clear clue + Add variable to the objective\n",
        "    ampl.eval(\"drop Fill_Tile[\" + str(i) + \",\" + str(j) + \"];\")\n",
        "    ampl.param[\"Weights\"][\n",
        "        i, j, solution[i, j]\n",
        "    ] = 1  # minimize x[i,j,T[i,j]] is the objective\n",
        "    # Solve\n",
        "    ampl.solve()\n",
        "    assert ampl.solve_result == \"solved\"\n",
        "    # Step 3.2\n",
        "    # Check if the objective changed\n",
        "    if ampl.obj[\"f\"].value() > 0:  # Unique solution: Clear clue\n",
        "        ampl.param[\"T\"][i, j] = 0\n",
        "    else:  # Multiple solution: Fix tile\n",
        "        ampl.eval(\"restore Fill_Tile[\" + str(i) + \",\" + str(j) + \"];\")\n",
        "    # Take out from the objective\n",
        "    ampl.param[\"Weights\"][i, j, solution[i, j]] = 0\n",
        "t1 = time.time()"
      ]
    },
    {
      "cell_type": "code",
      "execution_count": 6,
      "metadata": {
        "colab": {
          "base_uri": "https://localhost:8080/"
        },
        "id": "Hpr04pn6jZ8o",
        "outputId": "10a7a251-2d35-4466-8974-3e9a3d9c37a5"
      },
      "outputs": [
        {
          "name": "stdout",
          "output_type": "stream",
          "text": [
            "--- Sudoku template with unique solution:\n",
            "\n",
            "... | ..6 | .8.\n",
            "45. | ..9 | 1..\n",
            "..9 | 1.. | ...\n",
            "---------------\n",
            "2.1 | ..4 | .9.\n",
            "5.. | 8.. | ...\n",
            "... | .3. | .64\n",
            "---------------\n",
            "3.. | 6.. | ..8\n",
            "... | ... | 31.\n",
            ".7. | ..2 | .4.\n",
            "---------------\n",
            "Time: 1.4933266639709473 seconds\n"
          ]
        }
      ],
      "source": [
        "def show_sudoku(T):\n",
        "    for i in rows:\n",
        "        for j in rows:\n",
        "            print(\n",
        "                int(T[i, j]) if int(T[i, j]) > 0 else \".\",\n",
        "                end=\" | \" if j % n == 0 and j < n * n else \"\",\n",
        "            )\n",
        "        print(\"\\n\" + \"-\" * ((n - 1) * 3 + n * n) if i % n == 0 else \"\")\n",
        "\n",
        "\n",
        "print(\"--- Sudoku template with unique solution:\\n\")\n",
        "show_sudoku(ampl.param[\"T\"])\n",
        "print(\"Time: \" + str(t1 - t0) + \" seconds\")"
      ]
    },
    {
      "cell_type": "markdown",
      "metadata": {
        "id": "KquNlCuYlVVy"
      },
      "source": [
        "This method requires solving one MIP for each tile. Fortunately, most of these problems are easy to solve as AMPL keeps the previous solution as initial guess.\n",
        "\n",
        "Solving an empty Sudoku with random weights in the objective function is a way to have different initial templates. The order of the tiles also matters, as it determines the clues that are going to be removed.\n",
        "\n",
        "Similar methods could be used to find out alternative solutions to a Sudoku grid. This is a way to solve the \"Another Solution Problem\" for Sudokus (a difficult problem that consists in finding out if there are alternative solutions to a problem)."
      ]
    },
    {
      "cell_type": "markdown",
      "metadata": {
        "id": "8t1scXZPdSNC"
      },
      "source": [
        "References:\n",
        "* McGuire, G., Tugemann, B., & Civario, G. (2014). *There is no 16-clue Sudoku: Solving the Sudoku minimum number of clues problem via hitting set enumeration*. Experimental Mathematics, 23(2), 190-217."
      ]
    }
  ],
  "metadata": {
    "colab": {
      "provenance": []
    },
    "kernelspec": {
      "display_name": "Python 3",
      "language": "python",
      "name": "python3"
    },
    "language_info": {
      "codemirror_mode": {
        "name": "ipython",
        "version": 3
      },
      "file_extension": ".py",
      "mimetype": "text/x-python",
      "name": "python",
      "nbconvert_exporter": "python",
      "pygments_lexer": "ipython3",
      "version": "3.6.9"
    },
    "vscode": {
      "interpreter": {
        "hash": "ee4198aac13dae9b6fccd443041680d99c2643c4956ef7c80ff6dcc0057cb523"
      }
    }
  },
  "nbformat": 4,
  "nbformat_minor": 0
}
