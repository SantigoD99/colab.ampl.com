{
  "cells": [
    {
      "cell_type": "markdown",
      "metadata": {
        "id": "K_tSgg3Ki75t"
      },
      "source": [
        "# Optimization Methods in Finance: Chapter 3\n",
        "[![finance_opt_example_3_1.ipynb](https://img.shields.io/badge/github-%23121011.svg?logo=github)](https://github.com/ampl/colab.ampl.com/blob/master/authors/marcos-dv/finance/finance_opt_example_3_1.ipynb) [![Open In Colab](https://colab.research.google.com/assets/colab-badge.svg)](https://colab.research.google.com/github/ampl/colab.ampl.com/blob/master/authors/marcos-dv/finance/finance_opt_example_3_1.ipynb) [![Kaggle](https://kaggle.com/static/images/open-in-kaggle.svg)](https://kaggle.com/kernels/welcome?src=https://github.com/ampl/colab.ampl.com/blob/master/authors/marcos-dv/finance/finance_opt_example_3_1.ipynb) [![Gradient](https://assets.paperspace.io/img/gradient-badge.svg)](https://console.paperspace.com/github/ampl/colab.ampl.com/blob/master/authors/marcos-dv/finance/finance_opt_example_3_1.ipynb) [![Open In SageMaker Studio Lab](https://studiolab.sagemaker.aws/studiolab.svg)](https://studiolab.sagemaker.aws/import/github/ampl/colab.ampl.com/blob/master/authors/marcos-dv/finance/finance_opt_example_3_1.ipynb) [![Hits](https://h.ampl.com/https://github.com/ampl/colab.ampl.com/blob/master/authors/marcos-dv/finance/finance_opt_example_3_1.ipynb)](https://colab.ampl.com)\n",
        "\n",
        "Description: Optimization Methods in Finance: Bond Dedication Problem.\n",
        "\n",
        "Tags: amplpy, example, finance\n",
        "\n",
        "Notebook author: Marcos Dominguez Velad <<marcos@ampl.com>>\n",
        "\n",
        "Model author: N/A\n",
        "\n",
        "References: Cornuejols, G., and Tütüncü, R. (2018). *Optimization Methods in Finance* (2nd edition): Bond Dedication example. Cambridge University Press."
      ]
    },
    {
      "cell_type": "code",
      "execution_count": 1,
      "metadata": {
        "id": "5F5ueIrDi751"
      },
      "outputs": [],
      "source": [
        "# Install dependencies\n",
        "%pip install -q amplpy"
      ]
    },
    {
      "cell_type": "code",
      "execution_count": 2,
      "metadata": {
        "colab": {
          "base_uri": "https://localhost:8080/"
        },
        "id": "bRmgn-hJi756",
        "outputId": "0d2427d0-4862-40cb-ddc7-b91c2a41052b"
      },
      "outputs": [],
      "source": [
        "# Google Colab & Kaggle integration\n",
        "from amplpy import AMPL, ampl_notebook\n",
        "\n",
        "ampl = ampl_notebook(\n",
        "    modules=[\"coin\"],  # modules to install\n",
        "    license_uuid=\"default\",  # license to use\n",
        ")  # instantiate AMPL object and register magics"
      ]
    },
    {
      "cell_type": "markdown",
      "metadata": {
        "id": "NDrP71G9i75_"
      },
      "source": [
        "## Bond dedication\n",
        "\n",
        "This is the implementation using [AMPL](https://www.ampl.com) of the Example 3.1 (Bond dedication) from the book **Optimization Methods in Finance** (2nd edition) by Cornuejols, G., and Tütüncü, R.\n",
        "\n",
        "The model has been extracted from Chapter 3, titled *Linear Programming Models: Asset-Liability Management*."
      ]
    },
    {
      "cell_type": "markdown",
      "metadata": {
        "id": "CPzVlzqc11HG"
      },
      "source": [
        "Problem:\n",
        "\n",
        "*Suppose a pension fund needs to cover some liabilities in the next 6 years (given cash requirements), and can invest in 10 government bonds with given cash flows and current prices. The goal is to find the least expensive portfolio of bonds whose cash flows are sufficient to cover the liabilities.*\n",
        "\n",
        "## Writing the model\n",
        "\n",
        "First, let's use AMPL to write the abstract model depending on the number of bonds, years, and other parameters from the problem. Each bond has a price and some associated cash flows.\n",
        "\n",
        "(Use %%ampl_eval to evaluate AMPL commands)"
      ]
    },
    {
      "cell_type": "code",
      "execution_count": 3,
      "metadata": {
        "id": "yF63Gxkai75_"
      },
      "outputs": [],
      "source": [
        "%%ampl_eval\n",
        "param bonds;\n",
        "param years;\n",
        "\n",
        "param price{1..bonds};\n",
        "param cash_flow{1..years, 1..bonds} default 0;\n",
        "param cash_req{1..years};"
      ]
    },
    {
      "cell_type": "markdown",
      "metadata": {
        "id": "6X5ooAzP2d6c"
      },
      "source": [
        "The variables in this case are\n",
        "* $x_j$: amount of bonds $j$ in the portfolio, for j = 1, 2, ..., bonds.\n",
        "* $s_t$: surplus cash in year $t$, for t = 1, 2, ..., years."
      ]
    },
    {
      "cell_type": "code",
      "execution_count": 4,
      "metadata": {
        "id": "wRycPttW2wyq"
      },
      "outputs": [],
      "source": [
        "%%ampl_eval\n",
        "var x{j in 1..bonds} >= 0;\n",
        "var s{t in 1..years} >= 0;"
      ]
    },
    {
      "cell_type": "markdown",
      "metadata": {
        "id": "xroTRSCF4HwJ"
      },
      "source": [
        "The objective function is to minimize the price of the bonds."
      ]
    },
    {
      "cell_type": "code",
      "execution_count": 5,
      "metadata": {
        "id": "_z752U5W4QHU"
      },
      "outputs": [],
      "source": [
        "%%ampl_eval\n",
        "minimize Total_Price: sum{j in 1..bonds} price[j]*x[j];"
      ]
    },
    {
      "cell_type": "markdown",
      "metadata": {
        "id": "sslkLC7v43z2"
      },
      "source": [
        "Let's write the constraints for the model (liabilities should be accomplished)."
      ]
    },
    {
      "cell_type": "code",
      "execution_count": 6,
      "metadata": {
        "id": "9i8FMRqB49Yt"
      },
      "outputs": [],
      "source": [
        "%%ampl_eval\n",
        "subject to Liability1:\n",
        "  sum{j in 1..bonds} cash_flow[1,j]*x[j]-s[1] = cash_req[1];\n",
        "\n",
        "subject to Liabilities{i in 2..years}:\n",
        "  sum{j in 1..bonds} cash_flow[i,j]*x[j]+s[i-1]-s[i] = cash_req[i];\n"
      ]
    },
    {
      "cell_type": "markdown",
      "metadata": {
        "id": "VRqGGLo36kww"
      },
      "source": [
        "Now the model is complete.\n",
        "\n",
        "## Writing the data file\n",
        "\n",
        "In order to solve a particular instance of the problem, we could write a data file with the information related to the parameters.\n",
        "\n",
        "(Use %%writefile to create files)"
      ]
    },
    {
      "cell_type": "code",
      "execution_count": 7,
      "metadata": {
        "colab": {
          "base_uri": "https://localhost:8080/"
        },
        "id": "a5TgTF9Yi76B",
        "outputId": "748b6927-9e0f-40ef-bd80-dbcf8d862742"
      },
      "outputs": [
        {
          "name": "stdout",
          "output_type": "stream",
          "text": [
            "Overwriting bond_dedication.dat\n"
          ]
        }
      ],
      "source": [
        "%%writefile bond_dedication.dat\n",
        "param years := 6;\n",
        "param cash_req :=\n",
        "1 100\n",
        "2 200\n",
        "3 800\n",
        "4 100\n",
        "5 800\n",
        "6 1200\n",
        ";\n",
        "\n",
        "param bonds := 10;\n",
        "param price :=\n",
        "1 109\n",
        "2 94.8\n",
        "3 99.5\n",
        "4 93.1\n",
        "5 97.2\n",
        "6 92.9\n",
        "7 110\n",
        "8 104\n",
        "9 102\n",
        "10 95.2\n",
        ";\n",
        "\n",
        "param cash_flow :=\n",
        "1 1 10\n",
        "1 2 7\n",
        "1 3 8\n",
        "1 4 6\n",
        "1 5 7\n",
        "1 6 5\n",
        "1 7 10\n",
        "1 8 8\n",
        "1 9 7\n",
        "1 10 100\n",
        "2 1 10\n",
        "2 2 7\n",
        "2 3 8\n",
        "2 4 6\n",
        "2 5 7\n",
        "2 6 5\n",
        "2 7 10\n",
        "2 8 8\n",
        "2 9 107\n",
        "3 1 10\n",
        "3 2 7\n",
        "3 3 8\n",
        "3 4 6\n",
        "3 5 7\n",
        "3 6 5\n",
        "3 7 110\n",
        "3 8 108\n",
        "4 1 10\n",
        "4 2 7\n",
        "4 3 8\n",
        "4 4 6\n",
        "4 5 7\n",
        "4 6 105\n",
        "5 1 10\n",
        "5 2 7\n",
        "5 3 8\n",
        "5 4 106\n",
        "5 5 107\n",
        "6 1 110\n",
        "6 2 107\n",
        "6 3 108\n",
        ";\n"
      ]
    },
    {
      "cell_type": "markdown",
      "metadata": {
        "id": "v099o0dX9KaU"
      },
      "source": [
        "## Solve the problem\n",
        "\n",
        "Load the data file and pick your favourite linear solver to get the solution."
      ]
    },
    {
      "cell_type": "code",
      "execution_count": 8,
      "metadata": {
        "colab": {
          "base_uri": "https://localhost:8080/"
        },
        "id": "JQa0hdJHi76D",
        "outputId": "f4c50cb4-fb72-428b-e758-609fff31073a"
      },
      "outputs": [
        {
          "name": "stdout",
          "output_type": "stream",
          "text": [
            "cbc 2.10.12: \b\b\b\b\b\b\b\b\b\b\b\b\bcbc 2.10.12: optimal solution; objective 2305.691648\n",
            "0 simplex iterations\n"
          ]
        }
      ],
      "source": [
        "%%ampl_eval\n",
        "data bond_dedication.dat;\n",
        "\n",
        "option solver cbc;\n",
        "\n",
        "solve;"
      ]
    },
    {
      "cell_type": "code",
      "execution_count": 9,
      "metadata": {},
      "outputs": [],
      "source": [
        "assert ampl.solve_result == \"solved\", ampl.solve_result"
      ]
    },
    {
      "cell_type": "markdown",
      "metadata": {
        "id": "EsFMuPytAE0n"
      },
      "source": [
        "Print the solution."
      ]
    },
    {
      "cell_type": "code",
      "execution_count": 10,
      "metadata": {
        "colab": {
          "base_uri": "https://localhost:8080/"
        },
        "id": "J_h0xjzn-XlH",
        "outputId": "38fa430b-92ea-4b8e-802b-1c4410b70889"
      },
      "outputs": [
        {
          "name": "stdout",
          "output_type": "stream",
          "text": [
            ":       x          s       :=\n",
            "1     0         66.3772\n",
            "2    11.215     32.7544\n",
            "3     0          0\n",
            "4     6.63385   18.3077\n",
            "5     0          0\n",
            "6     0          0\n",
            "7     0            .\n",
            "8     6.00868      .\n",
            "9     0            .\n",
            "10    0            .\n",
            ";\n",
            "\n",
            "Total_Price = 2305.69\n",
            "\n"
          ]
        }
      ],
      "source": [
        "%%ampl_eval\n",
        "display x, s, Total_Price;"
      ]
    },
    {
      "cell_type": "markdown",
      "metadata": {
        "id": "9l0piaVJAIiK"
      },
      "source": [
        "## Shadow prices and interest rates\n",
        "\n",
        "We can check the shadow prices from the previous constraints to find the term structure of interest rates."
      ]
    },
    {
      "cell_type": "code",
      "execution_count": 11,
      "metadata": {
        "colab": {
          "base_uri": "https://localhost:8080/"
        },
        "id": "KlwGkra7AWrl",
        "outputId": "013e7d88-bce9-4007-8127-174863f26c9a"
      },
      "outputs": [
        {
          "name": "stdout",
          "output_type": "stream",
          "text": [
            "Liability1 = 0.83871\n",
            "\n",
            "Liabilities [*] :=\n",
            "2  0.83871\n",
            "3  0.83871\n",
            "4  0.696457\n",
            "5  0.696457\n",
            "6  0.630249\n",
            ";\n",
            "\n"
          ]
        }
      ],
      "source": [
        "%%ampl_eval\n",
        "display Liability1, Liabilities;"
      ]
    },
    {
      "cell_type": "markdown",
      "metadata": {
        "id": "G-89NH_PFOKX"
      },
      "source": [
        "To extract this values to compute the term structure of interest rates:\n",
        "\n",
        "$$r_t = \\frac{1}{(\\lambda_t)^{1/t}}-1$$"
      ]
    },
    {
      "cell_type": "code",
      "execution_count": 12,
      "metadata": {
        "colab": {
          "base_uri": "https://localhost:8080/"
        },
        "id": "IJ_5vg0-BY4n",
        "outputId": "75a7ea19-69a3-4567-c0a8-3c56ca6db3ee"
      },
      "outputs": [
        {
          "name": "stdout",
          "output_type": "stream",
          "text": [
            "Rate 1 = 0.1923076923076923\n",
            "Rate 2 = 0.09192842819833746\n",
            "Rate 3 = 0.06038306207109678\n",
            "Rate 4 = 0.09465273090416892\n",
            "Rate 5 = 0.0750312573843761\n",
            "Rate 6 = 0.07997719481718946\n"
          ]
        }
      ],
      "source": [
        "dual_values = {}\n",
        "rate = {}\n",
        "# Get dual values from constraints\n",
        "dual_values[1] = ampl.get_constraint(\"Liability1\").dual()\n",
        "# Elements from a vector of constraints can be accesed by [] operator\n",
        "for t in range(2, 7):\n",
        "    dual_values[t] = ampl.get_constraint(\"Liabilities\")[t].dual()\n",
        "# Compute rates\n",
        "for t in range(1, 7):\n",
        "    rate[t] = 1 / (dual_values[t]) ** (1 / t) - 1\n",
        "    print(\"Rate\", t, \"=\", rate[t])"
      ]
    }
  ],
  "metadata": {
    "colab": {
      "provenance": []
    },
    "kernelspec": {
      "display_name": "Python 3.9.13 ('venv': venv)",
      "language": "python",
      "name": "python3"
    },
    "language_info": {
      "codemirror_mode": {
        "name": "ipython",
        "version": 3
      },
      "file_extension": ".py",
      "mimetype": "text/x-python",
      "name": "python",
      "nbconvert_exporter": "python",
      "pygments_lexer": "ipython3",
      "version": "3.9.13"
    },
    "vscode": {
      "interpreter": {
        "hash": "ee4198aac13dae9b6fccd443041680d99c2643c4956ef7c80ff6dcc0057cb523"
      }
    }
  },
  "nbformat": 4,
  "nbformat_minor": 0
}
