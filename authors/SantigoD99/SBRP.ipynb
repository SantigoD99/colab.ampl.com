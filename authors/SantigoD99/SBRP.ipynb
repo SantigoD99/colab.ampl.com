{
  "nbformat": 4,
  "nbformat_minor": 0,
  "metadata": {
    "colab": {
      "provenance": [],
      "mount_file_id": "1NDSZE9uAkDOY8ujF7dHIWYNfHiBouQLh",
      "authorship_tag": "ABX9TyN04Jk2M47hFbGULRLKChg2",
      "include_colab_link": true
    },
    "kernelspec": {
      "name": "python3",
      "display_name": "Python 3"
    },
    "language_info": {
      "name": "python"
    },
    "widgets": {
      "application/vnd.jupyter.widget-state+json": {
        "3293d1c242f3419a8aa739810af30aa5": {
          "model_module": "@jupyter-widgets/controls",
          "model_name": "VBoxModel",
          "model_module_version": "1.5.0",
          "state": {
            "_dom_classes": [],
            "_model_module": "@jupyter-widgets/controls",
            "_model_module_version": "1.5.0",
            "_model_name": "VBoxModel",
            "_view_count": null,
            "_view_module": "@jupyter-widgets/controls",
            "_view_module_version": "1.5.0",
            "_view_name": "VBoxView",
            "box_style": "",
            "children": [
              "IPY_MODEL_bf3ff038e8f145d78cdea52bf8b280a6",
              "IPY_MODEL_3120d9757c804a03988d5be57b21a186",
              "IPY_MODEL_9e722f50c2b143b2841a79979e88f151",
              "IPY_MODEL_8d89a004007044899a4b13555ddf515a"
            ],
            "layout": "IPY_MODEL_e5c5ac582374491ca5c62c3449509489"
          }
        },
        "bf3ff038e8f145d78cdea52bf8b280a6": {
          "model_module": "@jupyter-widgets/output",
          "model_name": "OutputModel",
          "model_module_version": "1.0.0",
          "state": {
            "_dom_classes": [],
            "_model_module": "@jupyter-widgets/output",
            "_model_module_version": "1.0.0",
            "_model_name": "OutputModel",
            "_view_count": null,
            "_view_module": "@jupyter-widgets/output",
            "_view_module_version": "1.0.0",
            "_view_name": "OutputView",
            "layout": "IPY_MODEL_d19e90c0b08e4033b38a35f70ed964fc",
            "msg_id": "",
            "outputs": [
              {
                "output_type": "stream",
                "name": "stdout",
                "text": [
                  "AMPL License UUID (you can use free https://ampl.com/ce or https://ampl.com/courses licenses):\n"
                ]
              }
            ]
          }
        },
        "3120d9757c804a03988d5be57b21a186": {
          "model_module": "@jupyter-widgets/controls",
          "model_name": "HBoxModel",
          "model_module_version": "1.5.0",
          "state": {
            "_dom_classes": [],
            "_model_module": "@jupyter-widgets/controls",
            "_model_module_version": "1.5.0",
            "_model_name": "HBoxModel",
            "_view_count": null,
            "_view_module": "@jupyter-widgets/controls",
            "_view_module_version": "1.5.0",
            "_view_name": "HBoxView",
            "box_style": "",
            "children": [
              "IPY_MODEL_6e0dff8cc8f94da9aec14ea2e979d3af"
            ],
            "layout": "IPY_MODEL_7b500c5653b14376acee5b650e6236c9"
          }
        },
        "9e722f50c2b143b2841a79979e88f151": {
          "model_module": "@jupyter-widgets/output",
          "model_name": "OutputModel",
          "model_module_version": "1.0.0",
          "state": {
            "_dom_classes": [],
            "_model_module": "@jupyter-widgets/output",
            "_model_module_version": "1.0.0",
            "_model_name": "OutputModel",
            "_view_count": null,
            "_view_module": "@jupyter-widgets/output",
            "_view_module_version": "1.0.0",
            "_view_name": "OutputView",
            "layout": "IPY_MODEL_ce1bbddcfead42499b350a85fe222663",
            "msg_id": "",
            "outputs": [
              {
                "output_type": "stream",
                "name": "stdout",
                "text": [
                  "License activated.\n"
                ]
              }
            ]
          }
        },
        "8d89a004007044899a4b13555ddf515a": {
          "model_module": "@jupyter-widgets/output",
          "model_name": "OutputModel",
          "model_module_version": "1.0.0",
          "state": {
            "_dom_classes": [],
            "_model_module": "@jupyter-widgets/output",
            "_model_module_version": "1.0.0",
            "_model_name": "OutputModel",
            "_view_count": null,
            "_view_module": "@jupyter-widgets/output",
            "_view_module_version": "1.0.0",
            "_view_name": "OutputView",
            "layout": "IPY_MODEL_806bd5b0365a49c59751c048512764ce",
            "msg_id": "",
            "outputs": [
              {
                "output_type": "stream",
                "name": "stdout",
                "text": [
                  "Licensed to AMPL Community Edition License for <diaz.santiago@correounivalle.edu.co>.\n"
                ]
              }
            ]
          }
        },
        "e5c5ac582374491ca5c62c3449509489": {
          "model_module": "@jupyter-widgets/base",
          "model_name": "LayoutModel",
          "model_module_version": "1.2.0",
          "state": {
            "_model_module": "@jupyter-widgets/base",
            "_model_module_version": "1.2.0",
            "_model_name": "LayoutModel",
            "_view_count": null,
            "_view_module": "@jupyter-widgets/base",
            "_view_module_version": "1.2.0",
            "_view_name": "LayoutView",
            "align_content": null,
            "align_items": null,
            "align_self": null,
            "border": null,
            "bottom": null,
            "display": null,
            "flex": null,
            "flex_flow": null,
            "grid_area": null,
            "grid_auto_columns": null,
            "grid_auto_flow": null,
            "grid_auto_rows": null,
            "grid_column": null,
            "grid_gap": null,
            "grid_row": null,
            "grid_template_areas": null,
            "grid_template_columns": null,
            "grid_template_rows": null,
            "height": null,
            "justify_content": null,
            "justify_items": null,
            "left": null,
            "margin": null,
            "max_height": null,
            "max_width": null,
            "min_height": null,
            "min_width": null,
            "object_fit": null,
            "object_position": null,
            "order": null,
            "overflow": null,
            "overflow_x": null,
            "overflow_y": null,
            "padding": null,
            "right": null,
            "top": null,
            "visibility": null,
            "width": null
          }
        },
        "6e0dff8cc8f94da9aec14ea2e979d3af": {
          "model_module": "@jupyter-widgets/controls",
          "model_name": "TextModel",
          "model_module_version": "1.5.0",
          "state": {
            "_dom_classes": [],
            "_model_module": "@jupyter-widgets/controls",
            "_model_module_version": "1.5.0",
            "_model_name": "TextModel",
            "_view_count": null,
            "_view_module": "@jupyter-widgets/controls",
            "_view_module_version": "1.5.0",
            "_view_name": "TextView",
            "continuous_update": true,
            "description": "License UUID:",
            "description_tooltip": null,
            "disabled": false,
            "layout": "IPY_MODEL_c7dabf4bb3b8479e9138f8e9ea20e170",
            "placeholder": "​",
            "style": "IPY_MODEL_c546d116b1dd494da3f643a469dfdcc3",
            "value": ""
          }
        },
        "7b500c5653b14376acee5b650e6236c9": {
          "model_module": "@jupyter-widgets/base",
          "model_name": "LayoutModel",
          "model_module_version": "1.2.0",
          "state": {
            "_model_module": "@jupyter-widgets/base",
            "_model_module_version": "1.2.0",
            "_model_name": "LayoutModel",
            "_view_count": null,
            "_view_module": "@jupyter-widgets/base",
            "_view_module_version": "1.2.0",
            "_view_name": "LayoutView",
            "align_content": null,
            "align_items": null,
            "align_self": null,
            "border": null,
            "bottom": null,
            "display": null,
            "flex": null,
            "flex_flow": null,
            "grid_area": null,
            "grid_auto_columns": null,
            "grid_auto_flow": null,
            "grid_auto_rows": null,
            "grid_column": null,
            "grid_gap": null,
            "grid_row": null,
            "grid_template_areas": null,
            "grid_template_columns": null,
            "grid_template_rows": null,
            "height": null,
            "justify_content": null,
            "justify_items": null,
            "left": null,
            "margin": null,
            "max_height": null,
            "max_width": null,
            "min_height": null,
            "min_width": null,
            "object_fit": null,
            "object_position": null,
            "order": null,
            "overflow": null,
            "overflow_x": null,
            "overflow_y": null,
            "padding": null,
            "right": null,
            "top": null,
            "visibility": null,
            "width": null
          }
        },
        "c7dabf4bb3b8479e9138f8e9ea20e170": {
          "model_module": "@jupyter-widgets/base",
          "model_name": "LayoutModel",
          "model_module_version": "1.2.0",
          "state": {
            "_model_module": "@jupyter-widgets/base",
            "_model_module_version": "1.2.0",
            "_model_name": "LayoutModel",
            "_view_count": null,
            "_view_module": "@jupyter-widgets/base",
            "_view_module_version": "1.2.0",
            "_view_name": "LayoutView",
            "align_content": null,
            "align_items": null,
            "align_self": null,
            "border": null,
            "bottom": null,
            "display": null,
            "flex": null,
            "flex_flow": null,
            "grid_area": null,
            "grid_auto_columns": null,
            "grid_auto_flow": null,
            "grid_auto_rows": null,
            "grid_column": null,
            "grid_gap": null,
            "grid_row": null,
            "grid_template_areas": null,
            "grid_template_columns": null,
            "grid_template_rows": null,
            "height": null,
            "justify_content": null,
            "justify_items": null,
            "left": null,
            "margin": null,
            "max_height": null,
            "max_width": null,
            "min_height": null,
            "min_width": null,
            "object_fit": null,
            "object_position": null,
            "order": null,
            "overflow": null,
            "overflow_x": null,
            "overflow_y": null,
            "padding": null,
            "right": null,
            "top": null,
            "visibility": null,
            "width": null
          }
        },
        "c546d116b1dd494da3f643a469dfdcc3": {
          "model_module": "@jupyter-widgets/controls",
          "model_name": "DescriptionStyleModel",
          "model_module_version": "1.5.0",
          "state": {
            "_model_module": "@jupyter-widgets/controls",
            "_model_module_version": "1.5.0",
            "_model_name": "DescriptionStyleModel",
            "_view_count": null,
            "_view_module": "@jupyter-widgets/base",
            "_view_module_version": "1.2.0",
            "_view_name": "StyleView",
            "description_width": "initial"
          }
        },
        "d19e90c0b08e4033b38a35f70ed964fc": {
          "model_module": "@jupyter-widgets/base",
          "model_name": "LayoutModel",
          "model_module_version": "1.2.0",
          "state": {
            "_model_module": "@jupyter-widgets/base",
            "_model_module_version": "1.2.0",
            "_model_name": "LayoutModel",
            "_view_count": null,
            "_view_module": "@jupyter-widgets/base",
            "_view_module_version": "1.2.0",
            "_view_name": "LayoutView",
            "align_content": null,
            "align_items": null,
            "align_self": null,
            "border": null,
            "bottom": null,
            "display": null,
            "flex": null,
            "flex_flow": null,
            "grid_area": null,
            "grid_auto_columns": null,
            "grid_auto_flow": null,
            "grid_auto_rows": null,
            "grid_column": null,
            "grid_gap": null,
            "grid_row": null,
            "grid_template_areas": null,
            "grid_template_columns": null,
            "grid_template_rows": null,
            "height": null,
            "justify_content": null,
            "justify_items": null,
            "left": null,
            "margin": null,
            "max_height": null,
            "max_width": null,
            "min_height": null,
            "min_width": null,
            "object_fit": null,
            "object_position": null,
            "order": null,
            "overflow": null,
            "overflow_x": null,
            "overflow_y": null,
            "padding": null,
            "right": null,
            "top": null,
            "visibility": null,
            "width": null
          }
        },
        "ce1bbddcfead42499b350a85fe222663": {
          "model_module": "@jupyter-widgets/base",
          "model_name": "LayoutModel",
          "model_module_version": "1.2.0",
          "state": {
            "_model_module": "@jupyter-widgets/base",
            "_model_module_version": "1.2.0",
            "_model_name": "LayoutModel",
            "_view_count": null,
            "_view_module": "@jupyter-widgets/base",
            "_view_module_version": "1.2.0",
            "_view_name": "LayoutView",
            "align_content": null,
            "align_items": null,
            "align_self": null,
            "border": null,
            "bottom": null,
            "display": null,
            "flex": null,
            "flex_flow": null,
            "grid_area": null,
            "grid_auto_columns": null,
            "grid_auto_flow": null,
            "grid_auto_rows": null,
            "grid_column": null,
            "grid_gap": null,
            "grid_row": null,
            "grid_template_areas": null,
            "grid_template_columns": null,
            "grid_template_rows": null,
            "height": null,
            "justify_content": null,
            "justify_items": null,
            "left": null,
            "margin": null,
            "max_height": null,
            "max_width": null,
            "min_height": null,
            "min_width": null,
            "object_fit": null,
            "object_position": null,
            "order": null,
            "overflow": null,
            "overflow_x": null,
            "overflow_y": null,
            "padding": null,
            "right": null,
            "top": null,
            "visibility": null,
            "width": null
          }
        },
        "806bd5b0365a49c59751c048512764ce": {
          "model_module": "@jupyter-widgets/base",
          "model_name": "LayoutModel",
          "model_module_version": "1.2.0",
          "state": {
            "_model_module": "@jupyter-widgets/base",
            "_model_module_version": "1.2.0",
            "_model_name": "LayoutModel",
            "_view_count": null,
            "_view_module": "@jupyter-widgets/base",
            "_view_module_version": "1.2.0",
            "_view_name": "LayoutView",
            "align_content": null,
            "align_items": null,
            "align_self": null,
            "border": null,
            "bottom": null,
            "display": null,
            "flex": null,
            "flex_flow": null,
            "grid_area": null,
            "grid_auto_columns": null,
            "grid_auto_flow": null,
            "grid_auto_rows": null,
            "grid_column": null,
            "grid_gap": null,
            "grid_row": null,
            "grid_template_areas": null,
            "grid_template_columns": null,
            "grid_template_rows": null,
            "height": null,
            "justify_content": null,
            "justify_items": null,
            "left": null,
            "margin": null,
            "max_height": null,
            "max_width": null,
            "min_height": null,
            "min_width": null,
            "object_fit": null,
            "object_position": null,
            "order": null,
            "overflow": null,
            "overflow_x": null,
            "overflow_y": null,
            "padding": null,
            "right": null,
            "top": null,
            "visibility": null,
            "width": null
          }
        }
      }
    }
  },
  "cells": [
    {
      "cell_type": "markdown",
      "metadata": {
        "id": "view-in-github",
        "colab_type": "text"
      },
      "source": [
        "<a href=\"https://colab.research.google.com/github/SantigoD99/colab.ampl.com/blob/master/authors/SantigoD99/SBRP.ipynb\" target=\"_parent\"><img src=\"https://colab.research.google.com/assets/colab-badge.svg\" alt=\"Open In Colab\"/></a>"
      ]
    },
    {
      "cell_type": "code",
      "execution_count": 16,
      "metadata": {
        "id": "N-nzbL85p4w0"
      },
      "outputs": [],
      "source": [
        "import os\n",
        "\n",
        "if not os.path.isdir(\"Data\"):\n",
        "    os.system(\"git clone https://github.com/SantigoD99/colab.ampl.com\")\n",
        "    os.chdir(\"colab.ampl.com/authors/SantigoD99/Data\")"
      ]
    },
    {
      "cell_type": "code",
      "source": [
        "# Install dependencies\n",
        "%pip install -q amplpy pandas amplpy-gurobi amplpy-cplex tsplib95 matplotlib"
      ],
      "metadata": {
        "id": "ElHCNjL4qaDK"
      },
      "execution_count": 17,
      "outputs": []
    },
    {
      "cell_type": "code",
      "source": [
        "# Google Colab & Kaggle integration\n",
        "from amplpy import AMPL, ampl_notebook\n",
        "\n",
        "ampl = ampl_notebook(\n",
        "    modules=[\"coin\", SOLVER],  # modules to install\n",
        "    license_uuid=\"default\",  # license to use\n",
        ")  # instantiate AMPL object and register magics"
      ],
      "metadata": {
        "id": "qt8xedgJqk_t",
        "colab": {
          "base_uri": "https://localhost:8080/",
          "height": 101,
          "referenced_widgets": [
            "3293d1c242f3419a8aa739810af30aa5",
            "bf3ff038e8f145d78cdea52bf8b280a6",
            "3120d9757c804a03988d5be57b21a186",
            "9e722f50c2b143b2841a79979e88f151",
            "8d89a004007044899a4b13555ddf515a",
            "e5c5ac582374491ca5c62c3449509489",
            "6e0dff8cc8f94da9aec14ea2e979d3af",
            "7b500c5653b14376acee5b650e6236c9",
            "c7dabf4bb3b8479e9138f8e9ea20e170",
            "c546d116b1dd494da3f643a469dfdcc3",
            "d19e90c0b08e4033b38a35f70ed964fc",
            "ce1bbddcfead42499b350a85fe222663",
            "806bd5b0365a49c59751c048512764ce"
          ]
        },
        "outputId": "f1a5c54b-71c5-43a1-ae72-167ccad1dcb5"
      },
      "execution_count": 18,
      "outputs": [
        {
          "output_type": "display_data",
          "data": {
            "text/plain": [
              "VBox(children=(Output(), HBox(children=(Text(value='', description='License UUID:', style=DescriptionStyle(des…"
            ],
            "application/vnd.jupyter.widget-view+json": {
              "version_major": 2,
              "version_minor": 0,
              "model_id": "3293d1c242f3419a8aa739810af30aa5"
            }
          },
          "metadata": {}
        }
      ]
    },
    {
      "cell_type": "code",
      "source": [
        "import os\n",
        "\n",
        "USE_CALLBACKS = False # Changed from True to False\n",
        "PLOTSUBTOURS = True\n",
        "TSP_FILE = \"colegios.tsp\""
      ],
      "metadata": {
        "id": "8BcKoHH6qqQs"
      },
      "execution_count": 45,
      "outputs": []
    },
    {
      "cell_type": "code",
      "source": [
        "SOLVER = \"gurobi\"\n",
        "SOLVER_OPTIONS = [\"outlev=1\"]\n",
        "# Import utilities\n",
        "from amplpy import AMPL  # pip install amplpy\n",
        "\n",
        "if SOLVER == \"gurobi\":\n",
        "    import amplpy_gurobi as ampls  # pip install amplpy-gurobi\n",
        "elif SOLVER == \"cplex\":\n",
        "    import amplpy_cplex as ampls  # pip install amplpy-cplex\n",
        "elif SOLVER == \"xpress\":\n",
        "    import amplpy_xpress as ampls  # pip install amplpy-gurobi\n",
        "import tsplib95 as tsp  # pip install tsplib95\n",
        "import matplotlib.pyplot as plt  # pip install matplotlib\n",
        "import matplotlib.colors as colors\n",
        "from time import time\n",
        "import pandas as pd\n",
        "\n",
        "plt.rcParams[\"figure.dpi\"] = 200"
      ],
      "metadata": {
        "id": "fkrfqn94rEUQ"
      },
      "execution_count": 46,
      "outputs": []
    },
    {
      "cell_type": "code",
      "source": [
        "%%ampl\n",
        "set NODES ordered;\n",
        "param hpos {NODES};\n",
        "param vpos {NODES};\n",
        "\n",
        "set PAIRS := {i in NODES, j in NODES: ord(i) < ord(j)};\n",
        "\n",
        "param distance {(i,j) in PAIRS}\n",
        "   := sqrt((hpos[j]-hpos[i])**2 + (vpos[j]-vpos[i])**2);\n",
        "\n",
        "var X {PAIRS} binary;\n",
        "\n",
        "minimize Tour_Length: sum {(i,j) in PAIRS} distance[i,j] * X[i,j];\n",
        "\n",
        "subject to Visit_All {i in NODES}:\n",
        "   sum {(i, j) in PAIRS} X[i,j] + sum {(j, i) in PAIRS} X[j,i] = 2;"
      ],
      "metadata": {
        "id": "4phtrYjmrFrf"
      },
      "execution_count": 47,
      "outputs": []
    },
    {
      "cell_type": "code",
      "source": [
        "def getDictFromTspFile(tspFile):\n",
        "    p = tsp.load(tspFile)\n",
        "    if not p.is_depictable:\n",
        "        print(\"Problem is not depictable!\")\n",
        "\n",
        "    # Amendments as we need the nodes lexographically ordered\n",
        "    nnodes = len(list(p.get_nodes()))\n",
        "    i = 0\n",
        "    while nnodes > 1:\n",
        "        nnodes = nnodes / 10\n",
        "        i += 1\n",
        "    formatString = f\"{{:0{i}d}}\"\n",
        "    nodes = {\n",
        "        formatString.format(value): p.node_coords[index + 1]\n",
        "        for index, value in enumerate(p.get_nodes())\n",
        "    }\n",
        "    return nodes"
      ],
      "metadata": {
        "id": "iwnpG0w-rQvh"
      },
      "execution_count": 48,
      "outputs": []
    },
    {
      "cell_type": "code",
      "source": [
        "# Get the model from the cell above\n",
        "tsp_model = _ampl_cells[0]\n",
        "\n",
        "# Load model in AMPL\n",
        "ampl = AMPL()\n",
        "ampl.eval(tsp_model)\n",
        "ampl.option[\"solver\"] = SOLVER\n",
        "ampl.option[SOLVER + \"_options\"] = \" \".join(SOLVER_OPTIONS)\n",
        "\n",
        "# Set problem data from tsp file\n",
        "nodes = getDictFromTspFile(TSP_FILE)\n",
        "df = pd.DataFrame.from_dict(nodes, orient=\"index\", columns=[\"hpos\", \"vpos\"])\n",
        "df.index.name = \"NODES\"\n",
        "ampl.set_data(df, \"NODES\")\n",
        "\n",
        "# Set some globals that never change during the execution of the problem\n",
        "NODES = set(nodes.keys())\n",
        "CPOINTS = {\n",
        "    node: complex(coordinate[0], coordinate[1]) for (node, coordinate) in nodes.items()\n",
        "}"
      ],
      "metadata": {
        "id": "dqowRm0xL1IZ"
      },
      "execution_count": 49,
      "outputs": []
    },
    {
      "cell_type": "code",
      "source": [
        "def plotTours(tours: list, points_coordinate: dict):\n",
        "    # Plot all the tours in the list each with a different color\n",
        "    colors = [\"b\", \"g\", \"c\", \"m\", \"y\", \"k\"]\n",
        "    for i, tour in enumerate(tours):\n",
        "        tourCoordinates = [points_coordinate[point.strip(\"'\")] for point in tour]\n",
        "        color = colors[i % len(colors)]\n",
        "        plot_all(tourCoordinates, color=color)\n",
        "    plt.show()\n",
        "\n",
        "\n",
        "def plot_all(tour, alpha=1, color=None):\n",
        "    # Plot the tour as blue lines between blue circles\n",
        "    plotline(list(tour) + [tour[0]], alpha=alpha, color=color)\n",
        "    plotline([tour[0]], \"s\", alpha=alpha, color=color)\n",
        "\n",
        "\n",
        "def plotline(points, style=\"o-\", alpha=1, color=None):\n",
        "    \"Plot a list of points (complex numbers) in the 2-D plane.\"\n",
        "    X, Y = XY(points)\n",
        "    if color:\n",
        "        plt.plot(X, Y, style, alpha=alpha, color=color)\n",
        "    else:\n",
        "        plt.plot(X, Y, style, alpha=alpha)\n",
        "\n",
        "\n",
        "def XY(points):\n",
        "    \"Given a list of points, return two lists: X coordinates, and Y coordinates.\"\n",
        "    return [p.real for p in points], [p.imag for p in points]"
      ],
      "metadata": {
        "id": "tJ1b47IJL6a6"
      },
      "execution_count": 50,
      "outputs": []
    },
    {
      "cell_type": "code",
      "source": [
        "# Graphs helper routines\n",
        "def trasverse(node, arcs: set, allnodes: set, subtour=None) -> list:\n",
        "    # Trasverses all the arcs in the set arcs, starting from node\n",
        "    # and returns the tour\n",
        "    if not subtour:\n",
        "        subtour = list()\n",
        "    # Find arcs involving the current node\n",
        "    myarcs = [(i, j) for (i, j) in arcs if node == i or node == j]\n",
        "    if len(myarcs) == 0:\n",
        "        return\n",
        "    # Append the current node to the current subtour\n",
        "    subtour.append(node)\n",
        "\n",
        "    # Use the first arc found\n",
        "    myarc = myarcs[0]\n",
        "    # Find destination (or origin) node\n",
        "    destination = next(i for i in myarc if i != node)\n",
        "    # Remove from arcs and nodes to visit\n",
        "    arcs.remove(myarc)\n",
        "    if node in allnodes:\n",
        "        allnodes.remove(node)\n",
        "\n",
        "    trasverse(destination, arcs, allnodes, subtour)\n",
        "    return subtour\n",
        "\n",
        "\n",
        "def findSubTours(arcs: set, allnodes: set):\n",
        "    \"\"\"Find all the subtours defined by a set of arcs and\n",
        "    return them as a list of list\n",
        "    \"\"\"\n",
        "    subtours = list()\n",
        "    allnodes = allnodes.copy()\n",
        "    while len(allnodes) > 0:\n",
        "        l = trasverse(next(iter(allnodes)), arcs, allnodes)\n",
        "        subtours.append(l)\n",
        "    return subtours"
      ],
      "metadata": {
        "id": "gZXirOM3L9NS"
      },
      "execution_count": 51,
      "outputs": []
    },
    {
      "cell_type": "code",
      "source": [
        "def amplSubTourElimination(ampl: AMPL):\n",
        "    # Add the constraint and the needed parameters\n",
        "    subToursAMPL = \"\"\"param nSubtours >= 0 integer, default 0;\n",
        "    set SUB {1..nSubtours} within NODES;\n",
        "\n",
        "    subject to Subtour_Elimination {k in 1..nSubtours}:\n",
        "    sum {i in SUB[k], j in NODES diff SUB[k]}\n",
        "    if (i, j) in PAIRS then X[i, j] else X[j, i] >= 2;\"\"\"\n",
        "    ampl.eval(subToursAMPL)\n",
        "\n",
        "    nSubtoursParam = ampl.get_parameter(\"nSubtours\")\n",
        "    SubtoursSet = ampl.get_set(\"SUB\")\n",
        "\n",
        "    allsubtours = list()\n",
        "    while True:  # Repeat until the solution contains only one tour\n",
        "        ampl.solve()\n",
        "        assert ampl.solve_result == \"solved\"\n",
        "        # Get solution\n",
        "        ARCS = ampl.get_data(\"{(i,j) in PAIRS : X[i,j] > 0} X[i,j];\")\n",
        "        ARCS = set([(i, j) for (i, j, k) in ARCS.toList()])\n",
        "        subtours = findSubTours(ARCS, NODES)\n",
        "        # If we have only one tour, the solution is valid\n",
        "        if len(subtours) <= 1:\n",
        "            break\n",
        "        print(f\"Found {len(subtours)} subtours, plotting them and adding cuts\")\n",
        "        if PLOTSUBTOURS:\n",
        "            plotTours(subtours, CPOINTS)\n",
        "        # Else add the current tours to the list of subtours\n",
        "        allsubtours.extend(subtours)\n",
        "        # And add those to the constraints by assigning the values to\n",
        "        # the parameter and the set\n",
        "        nSubtoursParam.set(len(allsubtours))\n",
        "        for i, tour in enumerate(allsubtours):\n",
        "            SubtoursSet[i + 1].set_values(tour)"
      ],
      "metadata": {
        "id": "7C-NdvupMAbi"
      },
      "execution_count": 52,
      "outputs": []
    },
    {
      "cell_type": "code",
      "source": [
        "# Callback class that actually add the cuts if subtours are found in a solution\n",
        "class MyCallback(ampls.GenericCallback):\n",
        "    def __init__(self):\n",
        "        # Constructor, simply sets the iteration number to 0\n",
        "        super().__init__()\n",
        "        self.iteration = 0\n",
        "\n",
        "    def run(self):\n",
        "        try:\n",
        "            # For each solution\n",
        "            if self.getAMPLWhere() == ampls.Where.MIPSOL:\n",
        "                self.iteration += 1\n",
        "                print(f\"\\nIteration {self.iteration}: Finding subtours\")\n",
        "                sol = self.getSolutionVector()\n",
        "                arcs = [xvars[i] for i, value in enumerate(sol) if value > 0]\n",
        "                subTours = findSubTours(set(arcs), set(vertices))\n",
        "                if len(subTours) == 1:\n",
        "                    print(\"No subtours detected. Not adding any cut\")\n",
        "                    return 0\n",
        "                print(f\"Adding {len(subTours)} cuts\")\n",
        "                if PLOTSUBTOURS:\n",
        "                    plotTours(subTours, CPOINTS)\n",
        "                for subTour in subTours:\n",
        "                    st1 = set(subTour)\n",
        "                    nst1 = set(vertices) - st1\n",
        "                    externalArcs = [\n",
        "                        (i, j) if i < j else (j, i) for i in st1 for j in nst1\n",
        "                    ]\n",
        "                    varsExternalArcs = [xinverse[i, j] for (i, j) in externalArcs]\n",
        "                    coeffs = [1 for i in range(len(varsExternalArcs))]\n",
        "                    if PLOTSUBTOURS:\n",
        "                        print(\"Adding cut for subtour:\", st1)\n",
        "                    self.addLazyIndices(\n",
        "                        varsExternalArcs, coeffs, ampls.CutDirection.GE, 2\n",
        "                    )\n",
        "                    if len(subTours) == 1:\n",
        "                        return 0\n",
        "                print(\"Continue solving\")\n",
        "            return 0\n",
        "        except Exception as e:\n",
        "            print(\"Error:\", e)\n",
        "            return 1"
      ],
      "metadata": {
        "id": "pCfKx53LMEfK"
      },
      "execution_count": 53,
      "outputs": []
    },
    {
      "cell_type": "code",
      "source": [
        "# Global variables to store entities needed by the callbacks\n",
        "# that never change\n",
        "xvars = None\n",
        "xinverse = None\n",
        "vertices = None\n",
        "\n",
        "\n",
        "def solverSubTourElimination(ampl: AMPL, solver, solver_options):\n",
        "    global xvars, xinverse, vertices\n",
        "    # Export the model using ampls\n",
        "    model = ampl.to_ampls(solver, solver_options)\n",
        "    model.enableLazyConstraints()\n",
        "\n",
        "    # Get the global maps between solver vars and AMPL entities\n",
        "    varMap = model.getVarMapFiltered(\"X\")\n",
        "    # print(\"varMap:\", varMap)\n",
        "    inverse = model.getVarMapInverse()\n",
        "    xvars = {index: ampls.var2tuple(var)[1:] for var, index in varMap.items()}\n",
        "    xinverse = {ampls.var2tuple(var)[1:]: index for index, var in inverse.items()}\n",
        "    vertices = list(\n",
        "        sorted(set([x[0] for x in xvars.values()] + [x[1] for x in xvars.values()]))\n",
        "    )\n",
        "\n",
        "    # Assign the callback\n",
        "    callback = MyCallback()\n",
        "    model.set_callback(callback)\n",
        "    print(\"Start optimization\")\n",
        "    # Start the optimization\n",
        "    model.optimize()\n",
        "    # Import the solution back to AMPL\n",
        "    ampl.import_ampls_solution(model)"
      ],
      "metadata": {
        "id": "o90HapxZMHRb"
      },
      "execution_count": 54,
      "outputs": []
    },
    {
      "cell_type": "code",
      "source": [
        "t0 = time()\n",
        "if not USE_CALLBACKS:\n",
        "    amplSubTourElimination(ampl)\n",
        "else:\n",
        "    solverSubTourElimination(ampl, SOLVER, SOLVER_OPTIONS)"
      ],
      "metadata": {
        "colab": {
          "base_uri": "https://localhost:8080/",
          "height": 1000
        },
        "id": "lYbDB2hEMJ1L",
        "outputId": "42be1602-60c1-4c22-b236-feca34d25d13"
      },
      "execution_count": 55,
      "outputs": [
        {
          "output_type": "stream",
          "name": "stdout",
          "text": [
            "Gurobi 12.0.2: Set parameter LogToConsole to value 1\n",
            "  tech:outlev = 1\n",
            "\n",
            "AMPL MP initial flat model has 171 variables (0 integer, 171 binary);\n",
            "Objectives: 1 linear; \n",
            "Constraints:  19 linear;\n",
            "\n",
            "AMPL MP final model has 171 variables (0 integer, 171 binary);\n",
            "Objectives: 1 linear; \n",
            "Constraints:  19 linear;\n",
            "\n",
            "\n",
            "Set parameter InfUnbdInfo to value 1\n",
            "Gurobi Optimizer version 12.0.2 build v12.0.2rc0 (linux64 - \"Ubuntu 22.04.4 LTS\")\n",
            "\n",
            "CPU model: Intel(R) Xeon(R) CPU @ 2.20GHz, instruction set [SSE2|AVX|AVX2]\n",
            "Thread count: 1 physical cores, 2 logical processors, using up to 2 threads\n",
            "\n",
            "Non-default parameters:\n",
            "InfUnbdInfo  1\n",
            "\n",
            "Optimize a model with 19 rows, 171 columns and 342 nonzeros\n",
            "Model fingerprint: 0x93782e9f\n",
            "Variable types: 0 continuous, 171 integer (0 binary)\n",
            "Coefficient statistics:\n",
            "  Matrix range     [1e+00, 1e+00]\n",
            "  Objective range  [1e+02, 5e+03]\n",
            "  Bounds range     [1e+00, 1e+00]\n",
            "  RHS range        [2e+00, 2e+00]\n",
            "Found heuristic solution: objective 39801.666619\n",
            "Presolve time: 0.01s\n",
            "Presolved: 19 rows, 171 columns, 342 nonzeros\n",
            "Variable types: 0 continuous, 171 integer (171 binary)\n",
            "\n",
            "Root relaxation: objective 1.307031e+04, 24 iterations, 0.00 seconds (0.00 work units)\n",
            "\n",
            "    Nodes    |    Current Node    |     Objective Bounds      |     Work\n",
            " Expl Unexpl |  Obj  Depth IntInf | Incumbent    BestBd   Gap | It/Node Time\n",
            "\n",
            "*    0     0               0    13070.306789 13070.3068  0.00%     -    0s\n",
            "\n",
            "Explored 1 nodes (24 simplex iterations) in 0.03 seconds (0.00 work units)\n",
            "Thread count was 2 (of 2 available processors)\n",
            "\n",
            "Solution count 2: 13070.3 39801.7 \n",
            "\n",
            "Optimal solution found (tolerance 1.00e-04)\n",
            "Best objective 1.307030678929e+04, best bound 1.307030678929e+04, gap 0.0000%\n",
            "Gurobi 12.0.2: optimal solution; objective 13070.30679\n",
            "24 simplex iterations\n",
            "1 branching node\n",
            "Found 2 subtours, plotting them and adding cuts\n"
          ]
        },
        {
          "output_type": "display_data",
          "data": {
            "text/plain": [
              "<Figure size 1280x960 with 1 Axes>"
            ],
            "image/png": "[encoded data removed]"
          },
          "metadata": {}
        },
        {
          "output_type": "stream",
          "name": "stdout",
          "text": [
            "Gurobi 12.0.2: Set parameter LogToConsole to value 1\n",
            "  tech:outlev = 1\n",
            "\n",
            "AMPL MP initial flat model has 171 variables (0 integer, 171 binary);\n",
            "Objectives: 1 linear; \n",
            "Constraints:  21 linear;\n",
            "\n",
            "AMPL MP final model has 171 variables (0 integer, 171 binary);\n",
            "Objectives: 1 linear; \n",
            "Constraints:  21 linear;\n",
            "\n",
            "\n",
            "Set parameter InfUnbdInfo to value 1\n",
            "Gurobi Optimizer version 12.0.2 build v12.0.2rc0 (linux64 - \"Ubuntu 22.04.4 LTS\")\n",
            "\n",
            "CPU model: Intel(R) Xeon(R) CPU @ 2.20GHz, instruction set [SSE2|AVX|AVX2]\n",
            "Thread count: 1 physical cores, 2 logical processors, using up to 2 threads\n",
            "\n",
            "Non-default parameters:\n",
            "InfUnbdInfo  1\n",
            "\n",
            "Warning: LP warm-starts, PStart/DStart, discarded due to model modification\n",
            "Optimize a model with 21 rows, 171 columns and 438 nonzeros\n",
            "Model fingerprint: 0x44514812\n",
            "Variable types: 0 continuous, 171 integer (0 binary)\n",
            "Coefficient statistics:\n",
            "  Matrix range     [1e+00, 1e+00]\n",
            "  Objective range  [1e+02, 5e+03]\n",
            "  Bounds range     [1e+00, 1e+00]\n",
            "  RHS range        [2e+00, 2e+00]\n",
            "\n",
            "User MIP start did not produce a new incumbent solution\n",
            "User MIP start violates constraint R19 by 2.000000000\n",
            "\n",
            "Found heuristic solution: objective 39801.666619\n",
            "Presolve removed 1 rows and 0 columns\n",
            "Presolve time: 0.00s\n",
            "Presolved: 20 rows, 171 columns, 390 nonzeros\n",
            "Variable types: 0 continuous, 171 integer (171 binary)\n",
            "\n",
            "Root relaxation: objective 1.314227e+04, 27 iterations, 0.00 seconds (0.00 work units)\n",
            "Another try with MIP start\n",
            "\n",
            "    Nodes    |    Current Node    |     Objective Bounds      |     Work\n",
            " Expl Unexpl |  Obj  Depth IntInf | Incumbent    BestBd   Gap | It/Node Time\n",
            "\n",
            "H    0     0                    15375.751237 13142.2747  14.5%     -    0s\n",
            "     0     0 13142.2747    0    6 15375.7512 13142.2747  14.5%     -    0s\n",
            "H    0     0                    14829.319277 13142.2747  11.4%     -    0s\n",
            "H    0     0                    14196.543466 13142.2747  7.43%     -    0s\n",
            "H    0     0                    14045.220807 13142.2747  6.43%     -    0s\n",
            "H    0     0                    13914.412105 13142.2747  5.55%     -    0s\n",
            "     0     0 13294.9287    0   10 13914.4121 13294.9287  4.45%     -    0s\n",
            "H    0     0                    13306.089723 13294.9287  0.08%     -    0s\n",
            "\n",
            "Explored 1 nodes (31 simplex iterations) in 0.03 seconds (0.00 work units)\n",
            "Thread count was 2 (of 2 available processors)\n",
            "\n",
            "Solution count 8: 13306.1 13519.6 13914.4 ... 39801.7\n",
            "\n",
            "Optimal solution found (tolerance 1.00e-04)\n",
            "Best objective 1.330608972295e+04, best bound 1.330608972295e+04, gap 0.0000%\n",
            "Gurobi 12.0.2: optimal solution; objective 13306.08972\n",
            "31 simplex iterations\n",
            "1 branching node\n"
          ]
        }
      ]
    },
    {
      "cell_type": "code",
      "source": [
        "# Get the solution into ARCS\n",
        "ARCS = ampl.get_data(\"{(i,j) in PAIRS : X[i,j] > 0} X[i,j];\")\n",
        "ARCS = set([(i, j) for (i, j, k) in ARCS.toList()])\n",
        "\n",
        "# Display it\n",
        "tours = findSubTours(ARCS, NODES)\n",
        "for st in tours:\n",
        "    print(st)\n",
        "plotTours(tours, CPOINTS)"
      ],
      "metadata": {
        "id": "lT-DY-3KWvm8",
        "outputId": "3b042101-2084-4c17-bfc1-efed25c952f3",
        "colab": {
          "base_uri": "https://localhost:8080/",
          "height": 860
        }
      },
      "execution_count": 56,
      "outputs": [
        {
          "output_type": "stream",
          "name": "stdout",
          "text": [
            "['19', '08', '05', '04', '07', '02', '10', '09', '18', '06', '12', '17', '11', '03', '14', '16', '01', '13', '15']\n"
          ]
        },
        {
          "output_type": "display_data",
          "data": {
            "text/plain": [
              "<Figure size 1280x960 with 1 Axes>"
            ],
            "image/png": "[encoded data removed]"
          },
          "metadata": {}
        }
      ]
    }
  ]
}