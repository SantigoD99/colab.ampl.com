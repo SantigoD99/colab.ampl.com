{
  "cells": [
    {
      "cell_type": "markdown",
      "metadata": {
        "id": "7RjB1ipC7KbS"
      },
      "source": [
        "# Optimal Power Flow with AMPL and Python - DC Power Flow\n",
        "[![opf3.ipynb](https://img.shields.io/badge/github-%23121011.svg?logo=github)](https://github.com/ampl/colab.ampl.com/blob/master/authors/nfbvs/opf/opf3.ipynb) [![Open In Colab](https://colab.research.google.com/assets/colab-badge.svg)](https://colab.research.google.com/github/ampl/colab.ampl.com/blob/master/authors/nfbvs/opf/opf3.ipynb) [![Kaggle](https://kaggle.com/static/images/open-in-kaggle.svg)](https://kaggle.com/kernels/welcome?src=https://github.com/ampl/colab.ampl.com/blob/master/authors/nfbvs/opf/opf3.ipynb) [![Gradient](https://assets.paperspace.io/img/gradient-badge.svg)](https://console.paperspace.com/github/ampl/colab.ampl.com/blob/master/authors/nfbvs/opf/opf3.ipynb) [![Open In SageMaker Studio Lab](https://studiolab.sagemaker.aws/studiolab.svg)](https://studiolab.sagemaker.aws/import/github/ampl/colab.ampl.com/blob/master/authors/nfbvs/opf/opf3.ipynb) [![Hits](https://h.ampl.com/https://github.com/ampl/colab.ampl.com/blob/master/authors/nfbvs/opf/opf3.ipynb)](https://colab.ampl.com)\n",
        "\n",
        "Description: Optimal Power Flow\n",
        "\n",
        "Tags: AMPL, amplpy, Optimal Power Flow, Python\n",
        "\n",
        "Notebook author: Nicolau Santos <<nicolau@ampl.com>>"
      ]
    },
    {
      "cell_type": "code",
      "execution_count": null,
      "metadata": {
        "colab": {
          "base_uri": "https://localhost:8080/"
        },
        "id": "rQ50dBwL7KbX",
        "outputId": "8b1ebfcc-9463-4ba5-d338-edf3c546ce20"
      },
      "outputs": [],
      "source": [
        "# Install dependencies\n",
        "%pip install -q amplpy==0.15.0b2 pandas"
      ]
    },
    {
      "cell_type": "code",
      "execution_count": 2,
      "metadata": {
        "colab": {
          "base_uri": "https://localhost:8080/"
        },
        "id": "s7DEaRp87KbY",
        "outputId": "872671ed-4d49-4f53-c3c4-8710c6ee6405"
      },
      "outputs": [],
      "source": [
        "# Google Colab & Kaggle integration\n",
        "from amplpy import AMPL, ampl_notebook\n",
        "\n",
        "ampl = ampl_notebook(\n",
        "    modules=[\"coin\"],  # modules to install\n",
        "    license_uuid=\"default\",  # license to use\n",
        ")  # instantiate AMPL object and register magics"
      ]
    },
    {
      "cell_type": "markdown",
      "metadata": {
        "id": "g1E2y1417zVQ"
      },
      "source": [
        "## Introduction\n",
        "\n",
        "Content will be available soon!"
      ]
    },
    {
      "cell_type": "markdown",
      "metadata": {
        "id": "twrd0pLo7KbZ"
      },
      "source": [
        "## Problem description\n",
        "\n",
        "DC Power Flow assumptions\n",
        "* $G_{ik}=0$\n",
        "* $\\sin(\\delta_i-\\delta_k) \\approx \\delta_i-\\delta_k$ and $\\cos(\\delta_i-\\delta_k) \\approx 1$\n",
        "* $V_i \\approx 1, \\forall i \\in N$\n",
        "* Reactive Power Flow is neglected\n",
        "\n",
        "\n",
        "\n",
        "$$\n",
        "P_i(\\delta) \\approx \\sum_{k=1}^{N}B_{ik}(\\delta_i-\\delta_k)\n",
        "$$\n",
        "\n",
        "$$\n",
        "\\begin{split}\n",
        "\\min \\enspace & \\sum_{i \\in G}(\\text{const} + \\text{linear}P_i^G + \\text{quad}(P_i^G)^2) \\\\\n",
        "\\text{s.t.} \\enspace & P_i(\\delta) = P_i^G - P_i^L, \\forall i \\in N \\\\\n",
        "& P_i^{G,min} \\leq P_i^{G} \\leq P_i^{G,max}, \\forall i \\in G \\\\\n",
        "& \\delta_i^{min} \\leq \\delta_i \\leq \\delta_i^{max}, \\forall i \\in N \\\\\n",
        "\\end{split}\n",
        "$$\n"
      ]
    },
    {
      "cell_type": "markdown",
      "metadata": {
        "id": "y91w9jM_7zVR"
      },
      "source": [
        "## AMPL model"
      ]
    },
    {
      "cell_type": "code",
      "execution_count": 3,
      "metadata": {
        "colab": {
          "base_uri": "https://localhost:8080/"
        },
        "id": "aEtyesqs7KbZ",
        "outputId": "f8db7cad-9214-4575-882a-4bddaca7e9f2"
      },
      "outputs": [
        {
          "name": "stdout",
          "output_type": "stream",
          "text": [
            "Writing dcopf.mod\n"
          ]
        }
      ],
      "source": [
        "%%writefile dcopf.mod\n",
        "# data\n",
        "\n",
        "set N;                              # set of buses in the network\n",
        "param nL;                           # number of branches in the network\n",
        "set L within 1..nL cross N cross N; # set of branches in the network\n",
        "set GEN within N;                   # set of generator buses\n",
        "set REF within N;                   # set of reference (slack) buses\n",
        "set YN :=                           # index of the bus admittance matrix\n",
        "    setof {i in N} (i,i) union\n",
        "    setof {(i,k,l) in L} (k,l) union\n",
        "    setof {(i,k,l) in L} (l,k);\n",
        "\n",
        "# bus data\n",
        "\n",
        "param delta0    {N}; # initial voltage angle\n",
        "param PL        {N}; # real power load\n",
        "param b_s       {N}; # shunt susceptance\n",
        "\n",
        "# lower and upper bounds\n",
        "param delta_min {N};\n",
        "param delta_max {N};\n",
        "\n",
        "\n",
        "# generator data\n",
        "\n",
        "param PG0    {GEN}; # initial real power generation\n",
        "param const  {GEN}; # constant cost of a given generator\n",
        "param linear {GEN}; # linear cost of a given generator\n",
        "param quad   {GEN}; # quadratic cost of a given generator\n",
        "\n",
        "# lower and upper bounds\n",
        "param PG_min {GEN};\n",
        "param PG_max {GEN};\n",
        "\n",
        "\n",
        "# branch data\n",
        "\n",
        "param T    {L}; # initial voltage ratio\n",
        "param phi  {L}; # initial phase angle\n",
        "param R    {L}; # branch resistance\n",
        "param X    {L}; # branch reactance\n",
        "param b_sh {L}; # shunt susceptance\n",
        "\n",
        "param g {(l,k,m) in L} := R[l,k,m]/(R[l,k,m]^2 + X[l,k,m]^2);  # series conductance\n",
        "param b {(l,k,m) in L} := -X[l,k,m]/(R[l,k,m]^2 + X[l,k,m]^2); # series susceptance\n",
        "\n",
        "\n",
        "# bus admittance matrix imaginary part\n",
        "param B {(i,k) in YN} =\n",
        "    if (i == k) then (\n",
        "        b_s[i] +\n",
        "        sum{(l,i,u) in L} (b[l,i,u] + b_sh[l,i,u]/2)/T[l,i,u]**2 +\n",
        "        sum{(l,u,i) in L} (b[l,u,i] + b_sh[l,u,i]/2)\n",
        "    )\n",
        "    else (\n",
        "        -sum{(l,i,k) in L} (\n",
        "            g[l,i,k]*sin(phi[l,i,k])+b[l,i,k]*cos(phi[l,i,k])\n",
        "        )/T[l,i,k] -\n",
        "        sum{(l,k,i) in L} (\n",
        "            -g[l,k,i]*sin(phi[l,k,i])+b[l,k,i]*cos(phi[l,k,i])\n",
        "        )/T[l,k,i]\n",
        "    );\n",
        "\n",
        "\n",
        "# decision variables with lower bounds, upper bounds and initial guess\n",
        "\n",
        "var delta {i in N} >= delta_min[i], <= delta_max[i] := delta0[i]; # voltage angle\n",
        "\n",
        "var PG {i in GEN} >= PG_min[i], <= PG_max[i] := PG0[i]; # real power generation\n",
        "\n",
        "\n",
        "# real power injection\n",
        "var P {i in N} = sum{(i,k) in YN} B[i,k] * (delta[i] - delta[k]);\n",
        "\n",
        "\n",
        "# objective\n",
        "\n",
        "minimize generation_cost:\n",
        "    sum{i in GEN} (const[i] + PG[i] * linear[i] + (PG[i] ** 2) * quad[i]);\n",
        "\n",
        "\n",
        "# constraints\n",
        "\n",
        "s.t. p_flow {i in N}:\n",
        "    P[i] == (if (i in GEN) then PG[i] else 0) - PL[i];\n",
        "\n",
        "s.t. fixed_angles {i in REF}:\n",
        "    delta[i] == delta0[i];"
      ]
    },
    {
      "cell_type": "markdown",
      "metadata": {
        "id": "S3EWQGFV7zVT"
      },
      "source": [
        "## Numerical example"
      ]
    },
    {
      "cell_type": "code",
      "execution_count": 4,
      "metadata": {
        "id": "jKQ6XZHG7zVT"
      },
      "outputs": [],
      "source": [
        "import pandas as pd\n",
        "import math\n",
        "\n",
        "inf = float('inf')\n",
        "\n",
        "df_bus = pd.DataFrame(\n",
        "    [\n",
        "        [1, 0.0, 0.0, 0.0, 0.0, 1.0, 1.0],\n",
        "        [2, 0.0, 0.0, 0.0, 0.3, 0.95, 1.05],\n",
        "        [3, 0.0, 0.0, 0.05, 0.0, 0.95, 1.05],\n",
        "        [4, 0.9, 0.4, 0.0, 0.0, 0.95, 1.05],\n",
        "        [5, 0.239, 0.129, 0.0, 0.0, 0.95, 1.05],\n",
        "    ],\n",
        "    columns=[\"bus\", \"PL\", \"QL\", \"g_s\", \"b_s\", \"V_min\", \"V_max\"],\n",
        ").set_index(\"bus\")\n",
        "\n",
        "df_branch = pd.DataFrame(\n",
        "    [\n",
        "        [1, 1, 2, 0.0, 0.3, 0.0, 0.0, 1.0, 0.0],\n",
        "        [2, 1, 3, 0.023, 0.145, 0.0, 0.04, 1.0, 0.0],\n",
        "        [3, 2, 4, 0.006, 0.032, 0.0, 0.01, 1.0, 0.0],\n",
        "        [4, 3, 4, 0.02, 0.26, 0.0, 0.0, 1.0, -3.0],\n",
        "        [5, 3, 5, 0.0, 0.32, 0.0, 0.0, 0.98, 0.0],\n",
        "        [6, 4, 5, 0.0, 0.5, 0.0, 0.0, 1.0, 0.0],\n",
        "    ],\n",
        "    columns=[\"row\", \"from\", \"to\", \"R\", \"X\", \"g_sh\", \"b_sh\", \"T\", \"phi\"],\n",
        ").set_index([\"row\", \"from\", \"to\"])\n",
        "\n",
        "df_gen = pd.DataFrame(\n",
        "    [\n",
        "        [1, float(-inf), float(inf), float(-inf), float(inf), 0.0, 0.35, 0.0],\n",
        "        [3, 0.10, 0.40, -0.20, 0.30, 0.0, 0.20, 0.40],\n",
        "        [4, 0.05, 0.40, -0.20, 0.20, 0.0, 0.30, 0.50],\n",
        "    ],\n",
        "    columns=[\"bus\", \"PG_min\", \"PG_max\", \"QG_min\", \"QG_max\", \"const\", \"linear\", \"quad\"],\n",
        ").set_index(\"bus\")\n",
        "\n",
        "\n",
        "ref = [1]\n",
        "\n",
        "# print(df_bus)\n",
        "# print(df_branch)\n",
        "# print(df_gen)"
      ]
    },
    {
      "cell_type": "code",
      "execution_count": 5,
      "metadata": {
        "colab": {
          "base_uri": "https://localhost:8080/"
        },
        "id": "t99Dpp7_7zVU",
        "outputId": "c7f69f53-5726-4e21-e057-e97c6fa70b4a"
      },
      "outputs": [
        {
          "name": "stdout",
          "output_type": "stream",
          "text": [
            "        PL  b_s  delta0  delta_min  delta_max\n",
            "bus                                          \n",
            "1    0.000  0.0     0.0  -3.141593   3.141593\n",
            "2    0.000  0.3     0.0  -3.141593   3.141593\n",
            "3    0.000  0.0     0.0  -3.141593   3.141593\n",
            "4    0.900  0.0     0.0  -3.141593   3.141593\n",
            "5    0.239  0.0     0.0  -3.141593   3.141593\n",
            "                 R      X  b_sh     T      phi\n",
            "row from to                                   \n",
            "1   1    2   0.000  0.300  0.00  1.00  0.00000\n",
            "2   1    3   0.023  0.145  0.04  1.00  0.00000\n",
            "3   2    4   0.006  0.032  0.01  1.00  0.00000\n",
            "4   3    4   0.020  0.260  0.00  1.00 -0.05236\n",
            "5   3    5   0.000  0.320  0.00  0.98  0.00000\n",
            "6   4    5   0.000  0.500  0.00  1.00  0.00000\n",
            "     PG_min  PG_max  const  linear  quad  PG0\n",
            "bus                                          \n",
            "1      -inf     inf    0.0    0.35   0.0  0.0\n",
            "3      0.10     0.4    0.0    0.20   0.4  0.0\n",
            "4      0.05     0.4    0.0    0.30   0.5  0.0\n",
            "[1]\n"
          ]
        }
      ],
      "source": [
        "# data preprocessing\n",
        "\n",
        "ampl_bus = pd.DataFrame()\n",
        "cols = [\"PL\", \"b_s\"]\n",
        "for col in cols:\n",
        "    ampl_bus.loc[:, col] = df_bus.loc[:, col]\n",
        "ampl_bus[\"delta0\"] = 0.0\n",
        "ampl_bus[\"delta_min\"] = -180.0\n",
        "ampl_bus[\"delta_max\"] = 180.0\n",
        "\n",
        "ampl_branch = pd.DataFrame()\n",
        "ampl_branch = df_branch.copy()\n",
        "ampl_branch = ampl_branch.drop(\"g_sh\", axis=1)\n",
        "\n",
        "ampl_gen = df_gen.copy()\n",
        "ampl_gen[\"PG0\"] = 0.0\n",
        "ampl_gen = ampl_gen.drop([\"QG_min\", \"QG_max\"], axis=1)\n",
        "\n",
        "# convert degrees to radians\n",
        "ampl_bus[\"delta0\"] = ampl_bus[\"delta0\"].apply(math.radians)\n",
        "ampl_bus[\"delta_min\"] = ampl_bus[\"delta_min\"].apply(math.radians)\n",
        "ampl_bus[\"delta_max\"] = ampl_bus[\"delta_max\"].apply(math.radians)\n",
        "ampl_branch[\"phi\"] = ampl_branch[\"phi\"].apply(math.radians)\n",
        "\n",
        "print(ampl_bus)\n",
        "print(ampl_branch)\n",
        "print(ampl_gen)\n",
        "print(ref)"
      ]
    },
    {
      "cell_type": "code",
      "execution_count": 6,
      "metadata": {
        "colab": {
          "base_uri": "https://localhost:8080/"
        },
        "id": "_-mi43L27zVU",
        "outputId": "6e3636a7-9c5e-4553-a211-86107efc7ea3"
      },
      "outputs": [
        {
          "name": "stdout",
          "output_type": "stream",
          "text": [
            "Ipopt 3.12.13: \n",
            "\n",
            "******************************************************************************\n",
            "This program contains Ipopt, a library for large-scale nonlinear optimization.\n",
            " Ipopt is released as open source code under the Eclipse Public License (EPL).\n",
            "         For more information visit http://projects.coin-or.org/Ipopt\n",
            "******************************************************************************\n",
            "\n",
            "This is Ipopt version 3.12.13, running with linear solver mumps.\n",
            "NOTE: Other linear solvers might be more efficient (see Ipopt documentation).\n",
            "\n",
            "Number of nonzeros in equality constraint Jacobian...:       17\n",
            "Number of nonzeros in inequality constraint Jacobian.:        0\n",
            "Number of nonzeros in Lagrangian Hessian.............:        2\n",
            "\n",
            "Total number of variables............................:        7\n",
            "                     variables with only lower bounds:        0\n",
            "                variables with lower and upper bounds:        6\n",
            "                     variables with only upper bounds:        0\n",
            "Total number of equality constraints.................:        5\n",
            "Total number of inequality constraints...............:        0\n",
            "        inequality constraints with only lower bounds:        0\n",
            "   inequality constraints with lower and upper bounds:        0\n",
            "        inequality constraints with only upper bounds:        0\n",
            "\n",
            "iter    objective    inf_pr   inf_du lg(mu)  ||d||  lg(rg) alpha_du alpha_pr  ls\n",
            "   0  4.2324719e-02 8.47e-01 4.54e-02  -1.0 0.00e+00    -  0.00e+00 0.00e+00   0\n",
            "   1  3.8944604e-01 6.66e-16 1.97e-03  -1.0 7.89e-01    -  9.78e-01 1.00e+00f  1\n",
            "   2  3.8974111e-01 1.11e-16 7.79e-16  -1.7 9.79e-03    -  1.00e+00 1.00e+00f  1\n",
            "   3  3.8688794e-01 4.44e-16 3.49e-03  -3.8 3.83e-02    -  8.90e-01 1.00e+00f  1\n",
            "   4  3.8501142e-01 1.11e-16 2.68e-15  -3.8 4.48e-02    -  1.00e+00 1.00e+00f  1\n",
            "   5  3.8450538e-01 4.44e-16 8.26e-04  -5.7 2.30e-02    -  9.55e-01 1.00e+00f  1\n",
            "   6  3.8438280e-01 1.11e-15 1.26e-15  -5.7 9.33e-03    -  1.00e+00 1.00e+00f  1\n",
            "   7  3.8435155e-01 1.44e-15 2.05e-15  -5.7 4.68e-03    -  1.00e+00 1.00e+00f  1\n",
            "   8  3.8434431e-01 8.88e-16 2.21e-15  -5.7 2.23e-03    -  1.00e+00 1.00e+00f  1\n",
            "   9  3.8434240e-01 3.33e-16 2.95e-06  -8.6 1.30e-03    -  9.98e-01 1.00e+00f  1\n",
            "iter    objective    inf_pr   inf_du lg(mu)  ||d||  lg(rg) alpha_du alpha_pr  ls\n",
            "  10  3.8434207e-01 1.22e-15 3.01e-15  -8.6 5.92e-04    -  1.00e+00 1.00e+00f  1\n",
            "  11  3.8434203e-01 6.66e-16 2.44e-15  -8.6 2.22e-04    -  1.00e+00 1.00e+00h  1\n",
            "  12  3.8434203e-01 3.33e-16 9.28e-16  -8.6 4.31e-05    -  1.00e+00 1.00e+00h  1\n",
            "\n",
            "Number of Iterations....: 12\n",
            "\n",
            "                                   (scaled)                 (unscaled)\n",
            "Objective...............:   3.8434203386092713e-01    3.8434203386092713e-01\n",
            "Dual infeasibility......:   9.2775847754871432e-16    9.2775847754871432e-16\n",
            "Constraint violation....:   3.3306690738754696e-16    3.3306690738754696e-16\n",
            "Complementarity.........:   4.3487950483208504e-09    4.3487950483208504e-09\n",
            "Overall NLP error.......:   4.3487950483208504e-09    4.3487950483208504e-09\n",
            "\n",
            "\n",
            "Number of objective function evaluations             = 13\n",
            "Number of objective gradient evaluations             = 13\n",
            "Number of equality constraint evaluations            = 13\n",
            "Number of inequality constraint evaluations          = 0\n",
            "Number of equality constraint Jacobian evaluations   = 13\n",
            "Number of inequality constraint Jacobian evaluations = 0\n",
            "Number of Lagrangian Hessian evaluations             = 12\n",
            "Total CPU secs in IPOPT (w/o function evaluations)   =      0.013\n",
            "Total CPU secs in NLP function evaluations           =      0.000\n",
            "\n",
            "EXIT: Optimal Solution Found.\n",
            "\b\b\b\b\b\b\b\b\b\b\b\b\b\b\b \n",
            "Ipopt 3.12.13: Optimal Solution Found\n",
            "\n",
            "suffix ipopt_zU_out OUT;\n",
            "suffix ipopt_zL_out OUT;\n",
            "generation cost: 0.3843420338609271\n",
            "      delta\n",
            "1  0.000000\n",
            "2 -8.117728\n",
            "3 -3.676164\n",
            "4 -9.014060\n",
            "5 -8.372741\n",
            "         PG\n",
            "1  0.903901\n",
            "3  0.186916\n",
            "4  0.051051\n"
          ]
        }
      ],
      "source": [
        "def dcopf_run(bus, branch, gen, ref):\n",
        "    # initialyze AMPL and read the model\n",
        "    ampl = AMPL()\n",
        "    ampl.read(\"dcopf.mod\")\n",
        "\n",
        "    # load the data\n",
        "    ampl.set_data(bus, \"N\")\n",
        "    ampl.param[\"nL\"] = branch.shape[0]\n",
        "    ampl.set_data(branch, \"L\")\n",
        "    ampl.set_data(gen, \"GEN\")\n",
        "    ampl.set[\"REF\"] = ref\n",
        "\n",
        "    # uncomment to show expanded problem\n",
        "    # ampl.eval(\"solexpand;\")\n",
        "\n",
        "    # uncomment to show admittance matrix\n",
        "    # ampl.eval(\"display G,B;\")\n",
        "\n",
        "    ampl.solve(solver=\"ipopt\")\n",
        "    assert ampl.solve_result == \"solved\"\n",
        "\n",
        "    if ampl.solve_result != \"solved\":\n",
        "        print(\"WARNING: solver exited with %s status.\" % (ampl.solve_result,))\n",
        "\n",
        "    obj = ampl.obj[\"generation_cost\"].value()\n",
        "    ma = ampl.get_data(\"delta\").to_pandas()\n",
        "    pg = ampl.get_data(\"PG\").to_pandas()\n",
        "\n",
        "    return obj, ma, pg\n",
        "\n",
        "\n",
        "obj, ma, pg = dcopf_run(ampl_bus, ampl_branch, ampl_gen, ref)\n",
        "\n",
        "# convert radians back to degrees\n",
        "ma[\"delta\"] = ma[\"delta\"].apply(math.degrees)\n",
        "\n",
        "# print results\n",
        "print(\"generation cost:\", obj)\n",
        "print(ma)\n",
        "print(pg)"
      ]
    },
    {
      "cell_type": "markdown",
      "metadata": {
        "id": "M1ri2P757zVV"
      },
      "source": [
        "## Conclusion"
      ]
    },
    {
      "cell_type": "markdown",
      "metadata": {
        "id": "HsifNwe_7zVV"
      },
      "source": [
        "## Bibliography\n",
        "\n",
        "<a id='ref1'></a> Stephen Frank & Steffen Rebennack (2016) An introduction to optimal\n",
        "power flow: Theory, formulation, and examples, IIE Transactions, 48:12, 1172-1197."
      ]
    }
  ],
  "metadata": {
    "colab": {
      "provenance": []
    },
    "kernelspec": {
      "display_name": "Python 3 (ipykernel)",
      "language": "python",
      "name": "python3"
    },
    "language_info": {
      "codemirror_mode": {
        "name": "ipython",
        "version": 3
      },
      "file_extension": ".py",
      "mimetype": "text/x-python",
      "name": "python",
      "nbconvert_exporter": "python",
      "pygments_lexer": "ipython3",
      "version": "3.11.2"
    },
    "vscode": {
      "interpreter": {
        "hash": "ee4198aac13dae9b6fccd443041680d99c2643c4956ef7c80ff6dcc0057cb523"
      }
    }
  },
  "nbformat": 4,
  "nbformat_minor": 0
}
