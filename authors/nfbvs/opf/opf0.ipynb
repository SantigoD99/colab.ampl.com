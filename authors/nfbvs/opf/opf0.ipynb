{
  "cells": [
    {
      "cell_type": "markdown",
      "metadata": {},
      "source": [
        "# Optimal Power Flow with AMPL and Python - data management\n",
        "[![opf0.ipynb](https://img.shields.io/badge/github-%23121011.svg?logo=github)](https://github.com/ampl/colab.ampl.com/blob/master/authors/nfbvs/opf/opf0.ipynb) [![Open In Colab](https://colab.research.google.com/assets/colab-badge.svg)](https://colab.research.google.com/github/ampl/colab.ampl.com/blob/master/authors/nfbvs/opf/opf0.ipynb) [![Kaggle](https://kaggle.com/static/images/open-in-kaggle.svg)](https://kaggle.com/kernels/welcome?src=https://github.com/ampl/colab.ampl.com/blob/master/authors/nfbvs/opf/opf0.ipynb) [![Gradient](https://assets.paperspace.io/img/gradient-badge.svg)](https://console.paperspace.com/github/ampl/colab.ampl.com/blob/master/authors/nfbvs/opf/opf0.ipynb) [![Open In SageMaker Studio Lab](https://studiolab.sagemaker.aws/studiolab.svg)](https://studiolab.sagemaker.aws/import/github/ampl/colab.ampl.com/blob/master/authors/nfbvs/opf/opf0.ipynb) [![Hits](https://h.ampl.com/https://github.com/ampl/colab.ampl.com/blob/master/authors/nfbvs/opf/opf0.ipynb)](https://colab.ampl.com)\n",
        "\n",
        "Description: Optimal Power Flow with AMPL, Python and amplpy\n",
        "\n",
        "Tags: AMPL, amplpy, Optimal Power Flow, Python\n",
        "\n",
        "Notebook author: Nicolau Santos <<nicolau@ampl.com>>"
      ]
    },
    {
      "cell_type": "code",
      "execution_count": null,
      "metadata": {},
      "outputs": [],
      "source": [
        "# Install dependencies\n",
        "%pip install -q amplpy==0.15.0b2 pandas"
      ]
    },
    {
      "cell_type": "code",
      "execution_count": 2,
      "metadata": {
        "colab": {
          "base_uri": "https://localhost:8080/",
          "height": 101,
          "referenced_widgets": [
            "5c52a4f288924ca8bbf5182a951af6a8",
            "5a786f2dd2584199a4001c8bebefd757",
            "9a901424b8c04687b39b5e1251ee3919",
            "fcf080abd68144728d12fa81f879d5d5",
            "b2d8e84e2f6545bc98bbaf40294b9ad8",
            "de8c25d11df34ae2b86964266defdfdc",
            "a1e4bcf9de474b4f835419c6278d4e42",
            "45de4f35c7f04c37b87cad70c3e3b224",
            "59a30522756c4d668323600e0800a022",
            "4510b5e780f24d44ace00a42c38cf6dc",
            "5bec63a60fab4e628b18b6576859f23d",
            "4cfacef2f3e44067b81ac133fe17ae5b",
            "c9f8c186dbec4424895eb43630e458f2",
            "a0a3a52262a340debb5a29ce65170164"
          ]
        },
        "id": "s7DEaRp87KbY",
        "outputId": "7ccc087a-1af8-445e-c56d-31f3371b0c38"
      },
      "outputs": [],
      "source": [
        "# Google Colab & Kaggle integration\n",
        "from amplpy import AMPL, ampl_notebook\n",
        "\n",
        "ampl = ampl_notebook(\n",
        "    modules=[\"coin\"],  # modules to install\n",
        "    license_uuid=\"default\",  # license to use\n",
        ")  # instantiate AMPL object and register magics"
      ]
    },
    {
      "cell_type": "markdown",
      "metadata": {},
      "source": [
        "## Introduction\n",
        "\n",
        "Optimal power flow models are tools of vital importance in the management of power grids.\n",
        "This field is in constant evolution and presents many oportunities for the practicioners, both from the theoretical and practical points of view.\n",
        "\n",
        "This is the first of a series of notebooks in Optimal Power Flow in Python with AMPL and amplpy.\n",
        "\n",
        "The notebooks are based on the online materials from\n",
        "[Robert J. Vanderbei](https://vanderbei.princeton.edu/)\n",
        "available\n",
        "[here](https://vanderbei.princeton.edu/ampl/nlmodels/power/index.html).\n",
        "and on the article\n",
        "[Frank and Rebennack](#ref1)\n",
        "and aim to provide robust AMPL models for the variant of the problem presented.\n",
        "For detailed information on the theory of Optimal Power Flow please consult\n",
        "[Frank and Rebennack](#ref1)\n",
        ".\n",
        "\n",
        "In this first notebook we will take a look on how to pass data from Python to AMPL."
      ]
    },
    {
      "cell_type": "markdown",
      "metadata": {
        "id": "twrd0pLo7KbZ"
      },
      "source": [
        "## Power grid representation\n",
        "Optimal Power Flow is usually represented as a set $N$ of buses (nodes) connected by a set $L$ of branches (links) that represent elements in the power grid.\n",
        "A straightforward to represent this graph in AMPL is:\n",
        "```\n",
        "set N;\n",
        "param nL;\n",
        "set L within {1..nL, N, N};\n",
        "```\n",
        "\n",
        "We define a set `N` to represent the buses, a parameter `nL` to quantify the number of branches and a set `L` with triplets representing the number of the branch, the initial bus and the final bus.\n",
        "\n",
        "The AMPL implementation is slightly different from the mathematical model due to the possibility of multiple branches with the same initial and final bus."
      ]
    },
    {
      "cell_type": "markdown",
      "metadata": {},
      "source": [
        "As a concrete example let's consider the data from the example in [Frank and Rebennack](#ref1). We have the set of buses\n",
        "\n",
        "$$N = \\{1, 2, 3, 4, 5\\}$$\n",
        "\n",
        "and a set of arcs\n",
        "\n",
        "$$L = \\{(1,2), (1,3), (2,4), (3,4), (3,5), (4,5)\\}$$\n",
        "\n",
        "A Python representation of the data using lists and tuples is:"
      ]
    },
    {
      "cell_type": "code",
      "execution_count": 3,
      "metadata": {
        "id": "aEtyesqs7KbZ"
      },
      "outputs": [],
      "source": [
        "N = [1, 2, 3, 4, 5]\n",
        "L = [(1, 1, 2), (2, 1, 3), (3, 2, 4), (4, 3, 4), (5, 3, 5), (6, 4, 5)]"
      ]
    },
    {
      "cell_type": "markdown",
      "metadata": {},
      "source": [
        "Note the aditional first element in the tuples of the branch elements to express the number of the row.\n",
        "\n",
        "We now create a file with the AMPL model. The model file will be loaded later. Another alternative would be to strore the model in a string and load it afterwards. "
      ]
    },
    {
      "cell_type": "code",
      "execution_count": 4,
      "metadata": {},
      "outputs": [
        {
          "name": "stdout",
          "output_type": "stream",
          "text": [
            "Overwriting example1.mod\n"
          ]
        }
      ],
      "source": [
        "%%writefile example1.mod\n",
        "\n",
        "set N;\n",
        "param nL;\n",
        "set L within {1..nL, N cross N};"
      ]
    },
    {
      "cell_type": "markdown",
      "metadata": {},
      "source": [
        "We now instantiate AMPL, read the model and assign the Python data structures with data to the corresponding AMPL entities. Afterwards we display the information of the corresponding sets and parameters."
      ]
    },
    {
      "cell_type": "code",
      "execution_count": 5,
      "metadata": {},
      "outputs": [
        {
          "name": "stdout",
          "output_type": "stream",
          "text": [
            "set N := 1 2 3 4 5;\n",
            "\n",
            "nL = 6\n",
            "\n",
            "set L := (1,1,2) (2,1,3) (3,2,4) (4,3,4) (5,3,5) (6,4,5);\n",
            "\n"
          ]
        }
      ],
      "source": [
        "ampl = AMPL()\n",
        "ampl.read(\"example1.mod\")\n",
        "\n",
        "ampl.set[\"N\"] = N\n",
        "ampl.param[\"nL\"] = len(L)\n",
        "ampl.set[\"L\"] = L\n",
        "\n",
        "ampl.display(\"N\", \"nL\", \"L\")"
      ]
    },
    {
      "cell_type": "markdown",
      "metadata": {},
      "source": [
        "As expected we have the same information. The formatting is different, since it comes directly from the AMPL interpreter."
      ]
    },
    {
      "cell_type": "markdown",
      "metadata": {},
      "source": [
        "## Bus and Branch attributes\n",
        "\n",
        "We now present some common attributes of buses and branches in the grid.\n",
        "Such information is modeled in AMPL as a parameter indexed by a set.\n",
        "For example, for the bus shunt conductance $g_{i}^{S}$ we create an AMPL parameter `g_s{N}`\n",
        "and for the bus shunt susceptance\n",
        "$b_{i}^{S}$  we create an AMPL parameter `b_s{N}`.\n",
        "\n",
        "Some common branch attributes are (mathematical notation, parameter description, AMPL notation):\n",
        "* $R_{i,k}$ resistance of branch $(i,k)$ `R[l,i,k]`\n",
        "* $X_{i,k}$ reactance of branch $(i,k)$ `X[l,i,k]`\n",
        "* $g_{i,k}^{Sh}$ shunt conductance of branch $(i,k)$ `g_sh[l,i,k]`\n",
        "* $b_{i,k}^{Sh}$ shunt susceptance of branch $(i,k)$ `b_sh[l,i,k]`\n",
        "\n",
        "We can think of these multiple parameters indexed by a common set as a relational table.\n",
        "Rather than passing the data of these new parameters to AMPL one by one, as previously, we will group the information in Pandas Data Frames and pass the data related with one indexing set with one instruction. We first create a Data Frame for the bus information (df_bus) and another for the Branch information (df_branch).\n",
        "Note that df_bus is created by columns, while df_branch is generated by rows.\n",
        "The index in the Pandas DataFrame corresponds to the indexing set in the AMPL model.\n",
        "To load the data into AMPL we use the ```set_data``` method.\n",
        "The first parameter of the function is the name of the Data Frame followed by the names of the indexing set in the AMPL model."
      ]
    },
    {
      "cell_type": "code",
      "execution_count": 6,
      "metadata": {},
      "outputs": [
        {
          "data": {
            "text/html": [
              "<div>\n",
              "<style scoped>\n",
              "    .dataframe tbody tr th:only-of-type {\n",
              "        vertical-align: middle;\n",
              "    }\n",
              "\n",
              "    .dataframe tbody tr th {\n",
              "        vertical-align: top;\n",
              "    }\n",
              "\n",
              "    .dataframe thead th {\n",
              "        text-align: right;\n",
              "    }\n",
              "</style>\n",
              "<table border=\"1\" class=\"dataframe\">\n",
              "  <thead>\n",
              "    <tr style=\"text-align: right;\">\n",
              "      <th></th>\n",
              "      <th>g_s</th>\n",
              "      <th>b_s</th>\n",
              "    </tr>\n",
              "  </thead>\n",
              "  <tbody>\n",
              "    <tr>\n",
              "      <th>1</th>\n",
              "      <td>0.00</td>\n",
              "      <td>0.0</td>\n",
              "    </tr>\n",
              "    <tr>\n",
              "      <th>2</th>\n",
              "      <td>0.00</td>\n",
              "      <td>0.3</td>\n",
              "    </tr>\n",
              "    <tr>\n",
              "      <th>3</th>\n",
              "      <td>0.05</td>\n",
              "      <td>0.0</td>\n",
              "    </tr>\n",
              "    <tr>\n",
              "      <th>4</th>\n",
              "      <td>0.00</td>\n",
              "      <td>0.0</td>\n",
              "    </tr>\n",
              "    <tr>\n",
              "      <th>5</th>\n",
              "      <td>0.00</td>\n",
              "      <td>0.0</td>\n",
              "    </tr>\n",
              "  </tbody>\n",
              "</table>\n",
              "</div>"
            ],
            "text/plain": [
              "    g_s  b_s\n",
              "1  0.00  0.0\n",
              "2  0.00  0.3\n",
              "3  0.05  0.0\n",
              "4  0.00  0.0\n",
              "5  0.00  0.0"
            ]
          },
          "metadata": {},
          "output_type": "display_data"
        },
        {
          "data": {
            "text/html": [
              "<div>\n",
              "<style scoped>\n",
              "    .dataframe tbody tr th:only-of-type {\n",
              "        vertical-align: middle;\n",
              "    }\n",
              "\n",
              "    .dataframe tbody tr th {\n",
              "        vertical-align: top;\n",
              "    }\n",
              "\n",
              "    .dataframe thead th {\n",
              "        text-align: right;\n",
              "    }\n",
              "</style>\n",
              "<table border=\"1\" class=\"dataframe\">\n",
              "  <thead>\n",
              "    <tr style=\"text-align: right;\">\n",
              "      <th></th>\n",
              "      <th></th>\n",
              "      <th></th>\n",
              "      <th>R</th>\n",
              "      <th>X</th>\n",
              "      <th>g_sh</th>\n",
              "      <th>b_sh</th>\n",
              "      <th>T</th>\n",
              "      <th>phi</th>\n",
              "    </tr>\n",
              "    <tr>\n",
              "      <th>row</th>\n",
              "      <th>from</th>\n",
              "      <th>to</th>\n",
              "      <th></th>\n",
              "      <th></th>\n",
              "      <th></th>\n",
              "      <th></th>\n",
              "      <th></th>\n",
              "      <th></th>\n",
              "    </tr>\n",
              "  </thead>\n",
              "  <tbody>\n",
              "    <tr>\n",
              "      <th>1</th>\n",
              "      <th>1</th>\n",
              "      <th>2</th>\n",
              "      <td>0.000</td>\n",
              "      <td>0.300</td>\n",
              "      <td>0.0</td>\n",
              "      <td>0.00</td>\n",
              "      <td>1.00</td>\n",
              "      <td>0.0</td>\n",
              "    </tr>\n",
              "    <tr>\n",
              "      <th>2</th>\n",
              "      <th>1</th>\n",
              "      <th>3</th>\n",
              "      <td>0.023</td>\n",
              "      <td>0.145</td>\n",
              "      <td>0.0</td>\n",
              "      <td>0.04</td>\n",
              "      <td>1.00</td>\n",
              "      <td>0.0</td>\n",
              "    </tr>\n",
              "    <tr>\n",
              "      <th>3</th>\n",
              "      <th>2</th>\n",
              "      <th>4</th>\n",
              "      <td>0.006</td>\n",
              "      <td>0.032</td>\n",
              "      <td>0.0</td>\n",
              "      <td>0.01</td>\n",
              "      <td>1.00</td>\n",
              "      <td>0.0</td>\n",
              "    </tr>\n",
              "    <tr>\n",
              "      <th>4</th>\n",
              "      <th>3</th>\n",
              "      <th>4</th>\n",
              "      <td>0.020</td>\n",
              "      <td>0.260</td>\n",
              "      <td>0.0</td>\n",
              "      <td>0.00</td>\n",
              "      <td>1.00</td>\n",
              "      <td>-3.0</td>\n",
              "    </tr>\n",
              "    <tr>\n",
              "      <th>5</th>\n",
              "      <th>3</th>\n",
              "      <th>5</th>\n",
              "      <td>0.000</td>\n",
              "      <td>0.320</td>\n",
              "      <td>0.0</td>\n",
              "      <td>0.00</td>\n",
              "      <td>0.98</td>\n",
              "      <td>0.0</td>\n",
              "    </tr>\n",
              "    <tr>\n",
              "      <th>6</th>\n",
              "      <th>4</th>\n",
              "      <th>5</th>\n",
              "      <td>0.000</td>\n",
              "      <td>0.500</td>\n",
              "      <td>0.0</td>\n",
              "      <td>0.00</td>\n",
              "      <td>1.00</td>\n",
              "      <td>0.0</td>\n",
              "    </tr>\n",
              "  </tbody>\n",
              "</table>\n",
              "</div>"
            ],
            "text/plain": [
              "                 R      X  g_sh  b_sh     T  phi\n",
              "row from to                                     \n",
              "1   1    2   0.000  0.300   0.0  0.00  1.00  0.0\n",
              "2   1    3   0.023  0.145   0.0  0.04  1.00  0.0\n",
              "3   2    4   0.006  0.032   0.0  0.01  1.00  0.0\n",
              "4   3    4   0.020  0.260   0.0  0.00  1.00 -3.0\n",
              "5   3    5   0.000  0.320   0.0  0.00  0.98  0.0\n",
              "6   4    5   0.000  0.500   0.0  0.00  1.00  0.0"
            ]
          },
          "metadata": {},
          "output_type": "display_data"
        }
      ],
      "source": [
        "import pandas as pd\n",
        "\n",
        "N = [1, 2, 3, 4, 5]\n",
        "g_s = [0.0, 0.0, 0.05, 0.0, 0.0]\n",
        "b_s = {1: 0.0, 2: 0.3, 3: 0.0, 4: 0.0, 5: 0.0}\n",
        "\n",
        "df_bus = pd.DataFrame()\n",
        "df_bus.index = N\n",
        "df_bus[\"g_s\"] = g_s\n",
        "df_bus[\"b_s\"] = b_s\n",
        "\n",
        "display(df_bus)\n",
        "\n",
        "df_branch = pd.DataFrame(\n",
        "    [\n",
        "        [1, 1, 2, 0.0, 0.3, 0.0, 0.0, 1.0, 0.0],\n",
        "        [2, 1, 3, 0.023, 0.145, 0.0, 0.04, 1.0, 0.0],\n",
        "        [3, 2, 4, 0.006, 0.032, 0.0, 0.01, 1.0, 0.0],\n",
        "        [4, 3, 4, 0.02, 0.26, 0.0, 0.0, 1.0, -3.0],\n",
        "        [5, 3, 5, 0.0, 0.32, 0.0, 0.0, 0.98, 0.0],\n",
        "        [6, 4, 5, 0.0, 0.5, 0.0, 0.0, 1.0, 0.0],\n",
        "    ],\n",
        "    columns=[\"row\", \"from\", \"to\", \"R\", \"X\", \"g_sh\", \"b_sh\", \"T\", \"phi\"],\n",
        ").set_index([\"row\", \"from\", \"to\"])\n",
        "\n",
        "display(df_branch)"
      ]
    },
    {
      "cell_type": "markdown",
      "metadata": {},
      "source": [
        "As previously, the AMPL model is stored in a file."
      ]
    },
    {
      "cell_type": "code",
      "execution_count": 7,
      "metadata": {},
      "outputs": [
        {
          "name": "stdout",
          "output_type": "stream",
          "text": [
            "Overwriting example2.mod\n"
          ]
        }
      ],
      "source": [
        "%%writefile example2.mod\n",
        "\n",
        "set N;\n",
        "param nL;\n",
        "set L within 1..nL cross N cross N;\n",
        "\n",
        "param g_s{N};\n",
        "param b_s{N};\n",
        "\n",
        "param T    {L};\n",
        "param phi  {L};\n",
        "param R    {L};\n",
        "param X    {L};\n",
        "param g_sh {L};\n",
        "param b_sh {L};"
      ]
    },
    {
      "cell_type": "markdown",
      "metadata": {},
      "source": [
        "We instantiate AMPL, load the model and load the Pandas DataFrames.\n",
        "At the end we display the data indexed bus and by branch."
      ]
    },
    {
      "cell_type": "code",
      "execution_count": 8,
      "metadata": {
        "scrolled": true
      },
      "outputs": [
        {
          "name": "stdout",
          "output_type": "stream",
          "text": [
            ":   g_s    b_s    :=\n",
            "1   0      0\n",
            "2   0      0.3\n",
            "3   0.05   0\n",
            "4   0      0\n",
            "5   0      0\n",
            ";\n",
            "\n",
            ":        T    phi     R       X   g_sh   b_sh    :=\n",
            "1 1 2   1       0   0       0.3     0    0\n",
            "2 1 3   1       0   0.023   0.145   0    0.04\n",
            "3 2 4   1       0   0.006   0.032   0    0.01\n",
            "4 3 4   1      -3   0.02    0.26    0    0\n",
            "5 3 5   0.98    0   0       0.32    0    0\n",
            "6 4 5   1       0   0       0.5     0    0\n",
            ";\n",
            "\n"
          ]
        }
      ],
      "source": [
        "ampl = AMPL()\n",
        "ampl.read(\"example2.mod\")\n",
        "\n",
        "# load the data\n",
        "ampl.set_data(df_bus, \"N\")\n",
        "ampl.param[\"nL\"] = df_branch.shape[0]\n",
        "ampl.set_data(df_branch, \"L\")\n",
        "\n",
        "ampl.display(\"g_s\", \"b_s\")\n",
        "ampl.display(\"T\", \"phi\", \"R\", \"X\", \"g_sh\", \"b_sh\")"
      ]
    },
    {
      "cell_type": "markdown",
      "metadata": {},
      "source": [
        "Once again we have the same data, but comming directly from the AMPL interpreter. Note that the names of the indexing sets of the parameters are omitted."
      ]
    },
    {
      "cell_type": "markdown",
      "metadata": {},
      "source": [
        "## Branch series admittance and bus admittance matrix\n",
        "\n",
        "So far we focused in how to pass data to AMPL. Another common task is to generate data based on some already loaded data. \n",
        "Such examples are (mathematical notation, parameter description, AMPL notation):\n",
        "\n",
        "* $g_{i,k}$ series conductance of branch $(i,k)$ `g[l,i,k]`\n",
        "* $b_{i,k}$ series susceptance of branch $(i,k)$ `b[l,i,k]`\n",
        "* $G_{i,k}$ bus admittance matrix real part `G[l,i,k]`\n",
        "* $B_{i,k}$ bus admittance matrix imaginary part `B[l,i,k]`\n",
        "\n",
        "Branch series admittance real part is defined as\n",
        "\n",
        "$$g_{ik} = R_{ik}/(R_{ik}^2 + X_{ik}^2), \\forall (i,k) \\in L$$\n",
        "\n",
        "and imaginary part as\n",
        "\n",
        "$$b_{ik} = -X_{ik}/(R_{ik}^2 + X_{ik}^2), \\forall (i,k) \\in L$$\n",
        "\n",
        "The corresponding AMPL implementation closely follows the mathematical notation. As with are dealing with branch related data we need to add the coefficient for multiple branches between nodes\n",
        "```\n",
        "param g {(l,k,m) in L} := R[l,k,m]/(R[l,k,m]^2 + X[l,k,m]^2);  # series conductance\n",
        "param b {(l,k,m) in L} := -X[l,k,m]/(R[l,k,m]^2 + X[l,k,m]^2); # series susceptance\n",
        "```\n",
        "Other parameter for which generation is required is the bus admittance matrix, with real part\n",
        "\n",
        "$$G_{ii} = g_i^S + \\sum_{k:(i,k) \\in L}\\frac{1}{T_{ik}^2}(g_{ik}+\\frac{1}{2}g_{ik}^{Sh}) + \\sum_{k:(k,i) \\in L}(g_{ki}+\\frac{1}{2}g_{ki}^{Sh})$$\n",
        "\n",
        "$$G_{ik} = \n",
        "-\\sum_{k:(i,k) \\in L}\\frac{1}{T_{ik}}(g_{ik}\\cos\\varphi_{ik}-b_{ik}\\sin\\varphi_{ik})\n",
        "-\\sum_{k:(k,i) \\in L}\\frac{1}{T_{ki}}(g_{ki}\\cos\\varphi_{ki}+b_{ki}\\sin\\varphi_{ki})\n",
        ", i \\neq k$$\n",
        "\n",
        "and imaginary part\n",
        "\n",
        "$$B_{ii} = b_i^S + \\sum_{k:(i,k) \\in L}\\frac{1}{T_{ik}^2}(b_{ik}+\\frac{1}{2}b_{ik}^{Sh}) + \\sum_{k:(k,i) \\in L}(b_{ki}+\\frac{1}{2}b_{ki}^{Sh})$$\n",
        "$$B_{ik} = \n",
        "-\\sum_{k:(i,k) \\in L}\\frac{1}{T_{ik}}(g_{ik}\\sin\\varphi_{ik}+b_{ik}\\cos\\varphi_{ik})\n",
        "-\\sum_{k:(k,i) \\in L}\\frac{1}{T_{ki}}(-g_{ki}\\sin\\varphi_{ki}+b_{ki}\\cos\\varphi_{ki})\n",
        ", i \\neq k$$\n",
        "\n",
        "The AMPL implementation for $G$ is\n",
        "```\n",
        "param G {(i,k) in YN} =\n",
        "    if (i == k) then (\n",
        "        g_s[i] +\n",
        "        sum{(l,i,u) in L} (g[l,i,u] + g_sh[l,i,u]/2)/T[l,i,u]**2 +\n",
        "        sum{(l,u,i) in L} (g[l,u,i] + g_sh[l,u,i]/2)\n",
        "    )\n",
        "    else (\n",
        "        -sum{(l,i,k) in L} ((\n",
        "            g[l,i,k]*cos(phi[l,i,k])-b[l,i,k]*sin(phi[l,i,k])\n",
        "        )/T[l,i,k]) -\n",
        "        sum{(l,k,i) in L} ((\n",
        "            g[l,k,i]*cos(phi[l,k,i])+b[l,k,i]*sin(phi[l,k,i])\n",
        "        )/T[l,k,i])\n",
        "    );\n",
        "```\n",
        "Note the use of an *if then else* clause for the case where $i \\neq k$. The procedure for $B_{ik}$ is identical.\n",
        "\n",
        "Bellow we present an AMPL model with all the components mentioned through the notebook."
      ]
    },
    {
      "cell_type": "code",
      "execution_count": 9,
      "metadata": {},
      "outputs": [
        {
          "name": "stdout",
          "output_type": "stream",
          "text": [
            "Overwriting example3.mod\n"
          ]
        }
      ],
      "source": [
        "%%writefile example3.mod\n",
        "# data\n",
        "\n",
        "set N;                              # set of buses in the network \n",
        "param nL;                           # number of branches in the network\n",
        "set L within 1..nL cross N cross N; # set of branches in the network\n",
        "set YN :=                           # index of the bus admittance matrix\n",
        "    setof{i in N} (i,i) union \n",
        "    union{(l,i,k) in L}{(i,k), (k,i)};\n",
        "\n",
        "# bus data\n",
        "param g_s {N}; # shunt conductance\n",
        "param b_s {N}; # shunt susceptance\n",
        "\n",
        "# branch data\n",
        "param T    {L}; # initial voltage ratio\n",
        "param phi  {L}; # initial phase angle\n",
        "param R    {L}; # branch resistance\n",
        "param X    {L}; # branch reactance\n",
        "param g_sh {L}; # shunt conductance\n",
        "param b_sh {L}; # shunt susceptance\n",
        "\n",
        "param g {(l,k,m) in L} := R[l,k,m]/(R[l,k,m]^2 + X[l,k,m]^2);  # series conductance\n",
        "param b {(l,k,m) in L} := -X[l,k,m]/(R[l,k,m]^2 + X[l,k,m]^2); # series susceptance\n",
        "\n",
        "# bus admittance matrix real part\n",
        "param G {(i,k) in YN} =\n",
        "    if (i == k) then (\n",
        "        g_s[i] +\n",
        "        sum{(l,i,u) in L} (g[l,i,u] + g_sh[l,i,u]/2)/T[l,i,u]**2 +\n",
        "        sum{(l,u,i) in L} (g[l,u,i] + g_sh[l,u,i]/2)\n",
        "    )\n",
        "    else (\n",
        "        -sum{(l,i,k) in L} ((\n",
        "            g[l,i,k]*cos(phi[l,i,k])-b[l,i,k]*sin(phi[l,i,k])\n",
        "        )/T[l,i,k]) -\n",
        "        sum{(l,k,i) in L} ((\n",
        "            g[l,k,i]*cos(phi[l,k,i])+b[l,k,i]*sin(phi[l,k,i])\n",
        "        )/T[l,k,i])\n",
        "    );\n",
        "\n",
        "# bus admittance matrix imaginary part\n",
        "param B {(i,k) in YN} =\n",
        "    if (i == k) then (\n",
        "        b_s[i] +\n",
        "        sum{(l,i,u) in L} (b[l,i,u] + b_sh[l,i,u]/2)/T[l,i,u]**2 +\n",
        "        sum{(l,u,i) in L} (b[l,u,i] + b_sh[l,u,i]/2)\n",
        "    )\n",
        "    else (\n",
        "        -sum{(l,i,k) in L} (\n",
        "            g[l,i,k]*sin(phi[l,i,k])+b[l,i,k]*cos(phi[l,i,k])\n",
        "        )/T[l,i,k] -\n",
        "        sum{(l,k,i) in L} (\n",
        "            -g[l,k,i]*sin(phi[l,k,i])+b[l,k,i]*cos(phi[l,k,i])\n",
        "        )/T[l,k,i]\n",
        "    );"
      ]
    },
    {
      "cell_type": "markdown",
      "metadata": {},
      "source": [
        "As with previous examples we now instantiate an AMPL object and load the data.\n",
        "At the end we display the elements of the series conductance and susceptance $g$ and $b$,\n",
        "the elements of the bus bus admittance matrix index $YN$ and the bus admittance matrix real and imaginary componentes, $G$ and $B$."
      ]
    },
    {
      "cell_type": "code",
      "execution_count": 10,
      "metadata": {},
      "outputs": [
        {
          "name": "stdout",
          "output_type": "stream",
          "text": [
            ":          g           b        :=\n",
            "1 1 2   0           -3.33333\n",
            "2 1 3   1.06709     -6.72729\n",
            "3 2 4   5.66038    -30.1887\n",
            "4 3 4   0.294118    -3.82353\n",
            "5 3 5   0           -3.125\n",
            "6 4 5   0           -2\n",
            ";\n",
            "\n",
            "set YN :=\n",
            "(1,1)   (3,3)   (5,5)   (2,1)   (3,1)   (4,2)   (4,3)   (5,3)   (5,4)\n",
            "(2,2)   (4,4)   (1,2)   (1,3)   (2,4)   (3,4)   (3,5)   (4,5);\n",
            "\n",
            ":         G           B        :=\n",
            "1 1    1.06709    -10.0406\n",
            "1 2    0            3.33333\n",
            "1 3   -1.06709      6.72729\n",
            "2 1    0            3.33333\n",
            "2 2    5.66038    -33.217\n",
            "2 4   -5.66038     30.1887\n",
            "3 1   -1.06709      6.72729\n",
            "3 3    1.4112     -13.7847\n",
            "3 4    0.830751    -3.74376\n",
            "3 5    0            3.18878\n",
            "4 2   -5.66038     30.1887\n",
            "4 3   -0.248402    -3.82677\n",
            "4 4    5.9545     -36.0072\n",
            "4 5    0            2\n",
            "5 3    0            3.18878\n",
            "5 4    0            2\n",
            "5 5    0           -5.125\n",
            ";\n",
            "\n"
          ]
        }
      ],
      "source": [
        "ampl = AMPL()\n",
        "ampl.read(\"example3.mod\")\n",
        "\n",
        "# load the data\n",
        "ampl.set_data(df_bus, \"N\")\n",
        "ampl.param[\"nL\"] = df_branch.shape[0]\n",
        "ampl.set_data(df_branch, \"L\")\n",
        "\n",
        "ampl.display(\"g\", \"b\")\n",
        "ampl.display(\"YN\")\n",
        "ampl.display(\"G\", \"B\")"
      ]
    },
    {
      "cell_type": "markdown",
      "metadata": {},
      "source": [
        "Note that, at this point, the data for the branch series admittance and bus admittance matrix is not available in the Python session. If needed, it's possible to retrieve the data using the corresponding AMPL entities. As an example we retrieve the data from $G$ as a dictionary and the data from $B$ as a Pandas DataFrame."
      ]
    },
    {
      "cell_type": "code",
      "execution_count": 11,
      "metadata": {},
      "outputs": [
        {
          "name": "stdout",
          "output_type": "stream",
          "text": [
            "{(1, 1): 1.067087315579475, (1, 2): 0, (1, 3): -1.067087315579475, (2, 1): 0, (2, 2): 5.660377358490567, (2, 4): -5.660377358490567, (3, 1): -1.067087315579475, (3, 3): 1.4112049626382985, (3, 4): 0.8307507651113879, (3, 5): 0, (4, 2): -5.660377358490567, (4, 3): -0.24840223769936126, (4, 4): 5.95449500554939, (4, 5): 0, (5, 3): 0, (5, 4): 0, (5, 5): 0}\n",
            "                       B\n",
            "index0 index1           \n",
            "1      1      -10.040623\n",
            "       2        3.333333\n",
            "       3        6.727290\n",
            "2      1        3.333333\n",
            "       2      -33.217013\n",
            "       4       30.188679\n",
            "3      1        6.727290\n",
            "       3      -13.784672\n",
            "       4       -3.743760\n",
            "       5        3.188776\n",
            "4      2       30.188679\n",
            "       3       -3.826771\n",
            "       4      -36.007209\n",
            "       5        2.000000\n",
            "5      3        3.188776\n",
            "       4        2.000000\n",
            "       5       -5.125000\n"
          ]
        }
      ],
      "source": [
        "G = ampl.param[\"G\"].to_dict()\n",
        "B = ampl.param[\"B\"].to_pandas()\n",
        "print(G)\n",
        "print(B)"
      ]
    },
    {
      "cell_type": "markdown",
      "metadata": {},
      "source": [
        "## Conclusion\n",
        "\n",
        "This concludes our brief introduction to data management of Optimal Power Flow with AMPL and Python.\n",
        "\n",
        "In the next notebook we will provide an AMPL model to solve the Conventional Power Flow."
      ]
    },
    {
      "cell_type": "markdown",
      "metadata": {},
      "source": [
        "## Bibliography\n",
        "\n",
        "<a id='ref1'></a> Stephen Frank & Steffen Rebennack (2016) An introduction to optimal\n",
        "power flow: Theory, formulation, and examples, IIE Transactions, 48:12, 1172-1197."
      ]
    }
  ],
  "metadata": {
    "colab": {
      "provenance": []
    },
    "kernelspec": {
      "display_name": "Python 3 (ipykernel)",
      "language": "python",
      "name": "python3"
    },
    "language_info": {
      "codemirror_mode": {
        "name": "ipython",
        "version": 3
      },
      "file_extension": ".py",
      "mimetype": "text/x-python",
      "name": "python",
      "nbconvert_exporter": "python",
      "pygments_lexer": "ipython3",
      "version": "3.11.2"
    },
    "vscode": {
      "interpreter": {
        "hash": "ee4198aac13dae9b6fccd443041680d99c2643c4956ef7c80ff6dcc0057cb523"
      }
    },
    "widgets": {
      "application/vnd.jupyter.widget-state+json": {
        "4510b5e780f24d44ace00a42c38cf6dc": {
          "model_module": "@jupyter-widgets/controls",
          "model_module_version": "1.5.0",
          "model_name": "ButtonStyleModel",
          "state": {
            "_model_module": "@jupyter-widgets/controls",
            "_model_module_version": "1.5.0",
            "_model_name": "ButtonStyleModel",
            "_view_count": null,
            "_view_module": "@jupyter-widgets/base",
            "_view_module_version": "1.2.0",
            "_view_name": "StyleView",
            "button_color": null,
            "font_weight": ""
          }
        },
        "45de4f35c7f04c37b87cad70c3e3b224": {
          "model_module": "@jupyter-widgets/base",
          "model_module_version": "1.2.0",
          "model_name": "LayoutModel",
          "state": {
            "_model_module": "@jupyter-widgets/base",
            "_model_module_version": "1.2.0",
            "_model_name": "LayoutModel",
            "_view_count": null,
            "_view_module": "@jupyter-widgets/base",
            "_view_module_version": "1.2.0",
            "_view_name": "LayoutView",
            "align_content": null,
            "align_items": null,
            "align_self": null,
            "border": null,
            "bottom": null,
            "display": null,
            "flex": null,
            "flex_flow": null,
            "grid_area": null,
            "grid_auto_columns": null,
            "grid_auto_flow": null,
            "grid_auto_rows": null,
            "grid_column": null,
            "grid_gap": null,
            "grid_row": null,
            "grid_template_areas": null,
            "grid_template_columns": null,
            "grid_template_rows": null,
            "height": null,
            "justify_content": null,
            "justify_items": null,
            "left": null,
            "margin": null,
            "max_height": null,
            "max_width": null,
            "min_height": null,
            "min_width": null,
            "object_fit": null,
            "object_position": null,
            "order": null,
            "overflow": null,
            "overflow_x": null,
            "overflow_y": null,
            "padding": null,
            "right": null,
            "top": null,
            "visibility": null,
            "width": null
          }
        },
        "4cfacef2f3e44067b81ac133fe17ae5b": {
          "model_module": "@jupyter-widgets/controls",
          "model_module_version": "1.5.0",
          "model_name": "DescriptionStyleModel",
          "state": {
            "_model_module": "@jupyter-widgets/controls",
            "_model_module_version": "1.5.0",
            "_model_name": "DescriptionStyleModel",
            "_view_count": null,
            "_view_module": "@jupyter-widgets/base",
            "_view_module_version": "1.2.0",
            "_view_name": "StyleView",
            "description_width": ""
          }
        },
        "59a30522756c4d668323600e0800a022": {
          "model_module": "@jupyter-widgets/base",
          "model_module_version": "1.2.0",
          "model_name": "LayoutModel",
          "state": {
            "_model_module": "@jupyter-widgets/base",
            "_model_module_version": "1.2.0",
            "_model_name": "LayoutModel",
            "_view_count": null,
            "_view_module": "@jupyter-widgets/base",
            "_view_module_version": "1.2.0",
            "_view_name": "LayoutView",
            "align_content": null,
            "align_items": null,
            "align_self": null,
            "border": null,
            "bottom": null,
            "display": null,
            "flex": null,
            "flex_flow": null,
            "grid_area": null,
            "grid_auto_columns": null,
            "grid_auto_flow": null,
            "grid_auto_rows": null,
            "grid_column": null,
            "grid_gap": null,
            "grid_row": null,
            "grid_template_areas": null,
            "grid_template_columns": null,
            "grid_template_rows": null,
            "height": null,
            "justify_content": null,
            "justify_items": null,
            "left": null,
            "margin": null,
            "max_height": null,
            "max_width": null,
            "min_height": null,
            "min_width": null,
            "object_fit": null,
            "object_position": null,
            "order": null,
            "overflow": null,
            "overflow_x": null,
            "overflow_y": null,
            "padding": null,
            "right": null,
            "top": null,
            "visibility": null,
            "width": null
          }
        },
        "5a786f2dd2584199a4001c8bebefd757": {
          "model_module": "@jupyter-widgets/controls",
          "model_module_version": "1.5.0",
          "model_name": "HBoxModel",
          "state": {
            "_dom_classes": [],
            "_model_module": "@jupyter-widgets/controls",
            "_model_module_version": "1.5.0",
            "_model_name": "HBoxModel",
            "_view_count": null,
            "_view_module": "@jupyter-widgets/controls",
            "_view_module_version": "1.5.0",
            "_view_name": "HBoxView",
            "box_style": "",
            "children": [
              "IPY_MODEL_de8c25d11df34ae2b86964266defdfdc",
              "IPY_MODEL_a1e4bcf9de474b4f835419c6278d4e42"
            ],
            "layout": "IPY_MODEL_45de4f35c7f04c37b87cad70c3e3b224"
          }
        },
        "5bec63a60fab4e628b18b6576859f23d": {
          "model_module": "@jupyter-widgets/base",
          "model_module_version": "1.2.0",
          "model_name": "LayoutModel",
          "state": {
            "_model_module": "@jupyter-widgets/base",
            "_model_module_version": "1.2.0",
            "_model_name": "LayoutModel",
            "_view_count": null,
            "_view_module": "@jupyter-widgets/base",
            "_view_module_version": "1.2.0",
            "_view_name": "LayoutView",
            "align_content": null,
            "align_items": null,
            "align_self": null,
            "border": null,
            "bottom": null,
            "display": null,
            "flex": null,
            "flex_flow": null,
            "grid_area": null,
            "grid_auto_columns": null,
            "grid_auto_flow": null,
            "grid_auto_rows": null,
            "grid_column": null,
            "grid_gap": null,
            "grid_row": null,
            "grid_template_areas": null,
            "grid_template_columns": null,
            "grid_template_rows": null,
            "height": null,
            "justify_content": null,
            "justify_items": null,
            "left": null,
            "margin": null,
            "max_height": null,
            "max_width": null,
            "min_height": null,
            "min_width": null,
            "object_fit": null,
            "object_position": null,
            "order": null,
            "overflow": null,
            "overflow_x": null,
            "overflow_y": null,
            "padding": null,
            "right": null,
            "top": null,
            "visibility": null,
            "width": null
          }
        },
        "5c52a4f288924ca8bbf5182a951af6a8": {
          "model_module": "@jupyter-widgets/controls",
          "model_module_version": "1.5.0",
          "model_name": "VBoxModel",
          "state": {
            "_dom_classes": [],
            "_model_module": "@jupyter-widgets/controls",
            "_model_module_version": "1.5.0",
            "_model_name": "VBoxModel",
            "_view_count": null,
            "_view_module": "@jupyter-widgets/controls",
            "_view_module_version": "1.5.0",
            "_view_name": "VBoxView",
            "box_style": "",
            "children": [
              "IPY_MODEL_5a786f2dd2584199a4001c8bebefd757",
              "IPY_MODEL_9a901424b8c04687b39b5e1251ee3919",
              "IPY_MODEL_fcf080abd68144728d12fa81f879d5d5"
            ],
            "layout": "IPY_MODEL_b2d8e84e2f6545bc98bbaf40294b9ad8"
          }
        },
        "9a901424b8c04687b39b5e1251ee3919": {
          "model_module": "@jupyter-widgets/output",
          "model_module_version": "1.0.0",
          "model_name": "OutputModel",
          "state": {
            "_dom_classes": [],
            "_model_module": "@jupyter-widgets/output",
            "_model_module_version": "1.0.0",
            "_model_name": "OutputModel",
            "_view_count": null,
            "_view_module": "@jupyter-widgets/output",
            "_view_module_version": "1.0.0",
            "_view_name": "OutputView",
            "layout": "IPY_MODEL_c9f8c186dbec4424895eb43630e458f2",
            "msg_id": "",
            "outputs": [
              {
                "name": "stdout",
                "output_type": "stream",
                "text": [
                  "Using existing license.\n"
                ]
              }
            ]
          }
        },
        "a0a3a52262a340debb5a29ce65170164": {
          "model_module": "@jupyter-widgets/base",
          "model_module_version": "1.2.0",
          "model_name": "LayoutModel",
          "state": {
            "_model_module": "@jupyter-widgets/base",
            "_model_module_version": "1.2.0",
            "_model_name": "LayoutModel",
            "_view_count": null,
            "_view_module": "@jupyter-widgets/base",
            "_view_module_version": "1.2.0",
            "_view_name": "LayoutView",
            "align_content": null,
            "align_items": null,
            "align_self": null,
            "border": null,
            "bottom": null,
            "display": null,
            "flex": null,
            "flex_flow": null,
            "grid_area": null,
            "grid_auto_columns": null,
            "grid_auto_flow": null,
            "grid_auto_rows": null,
            "grid_column": null,
            "grid_gap": null,
            "grid_row": null,
            "grid_template_areas": null,
            "grid_template_columns": null,
            "grid_template_rows": null,
            "height": null,
            "justify_content": null,
            "justify_items": null,
            "left": null,
            "margin": null,
            "max_height": null,
            "max_width": null,
            "min_height": null,
            "min_width": null,
            "object_fit": null,
            "object_position": null,
            "order": null,
            "overflow": null,
            "overflow_x": null,
            "overflow_y": null,
            "padding": null,
            "right": null,
            "top": null,
            "visibility": null,
            "width": null
          }
        },
        "a1e4bcf9de474b4f835419c6278d4e42": {
          "model_module": "@jupyter-widgets/controls",
          "model_module_version": "1.5.0",
          "model_name": "TextModel",
          "state": {
            "_dom_classes": [],
            "_model_module": "@jupyter-widgets/controls",
            "_model_module_version": "1.5.0",
            "_model_name": "TextModel",
            "_view_count": null,
            "_view_module": "@jupyter-widgets/controls",
            "_view_module_version": "1.5.0",
            "_view_name": "TextView",
            "continuous_update": true,
            "description": "UUID:",
            "description_tooltip": null,
            "disabled": false,
            "layout": "IPY_MODEL_5bec63a60fab4e628b18b6576859f23d",
            "placeholder": "​",
            "style": "IPY_MODEL_4cfacef2f3e44067b81ac133fe17ae5b",
            "value": ""
          }
        },
        "b2d8e84e2f6545bc98bbaf40294b9ad8": {
          "model_module": "@jupyter-widgets/base",
          "model_module_version": "1.2.0",
          "model_name": "LayoutModel",
          "state": {
            "_model_module": "@jupyter-widgets/base",
            "_model_module_version": "1.2.0",
            "_model_name": "LayoutModel",
            "_view_count": null,
            "_view_module": "@jupyter-widgets/base",
            "_view_module_version": "1.2.0",
            "_view_name": "LayoutView",
            "align_content": null,
            "align_items": null,
            "align_self": null,
            "border": null,
            "bottom": null,
            "display": null,
            "flex": null,
            "flex_flow": null,
            "grid_area": null,
            "grid_auto_columns": null,
            "grid_auto_flow": null,
            "grid_auto_rows": null,
            "grid_column": null,
            "grid_gap": null,
            "grid_row": null,
            "grid_template_areas": null,
            "grid_template_columns": null,
            "grid_template_rows": null,
            "height": null,
            "justify_content": null,
            "justify_items": null,
            "left": null,
            "margin": null,
            "max_height": null,
            "max_width": null,
            "min_height": null,
            "min_width": null,
            "object_fit": null,
            "object_position": null,
            "order": null,
            "overflow": null,
            "overflow_x": null,
            "overflow_y": null,
            "padding": null,
            "right": null,
            "top": null,
            "visibility": null,
            "width": null
          }
        },
        "c9f8c186dbec4424895eb43630e458f2": {
          "model_module": "@jupyter-widgets/base",
          "model_module_version": "1.2.0",
          "model_name": "LayoutModel",
          "state": {
            "_model_module": "@jupyter-widgets/base",
            "_model_module_version": "1.2.0",
            "_model_name": "LayoutModel",
            "_view_count": null,
            "_view_module": "@jupyter-widgets/base",
            "_view_module_version": "1.2.0",
            "_view_name": "LayoutView",
            "align_content": null,
            "align_items": null,
            "align_self": null,
            "border": null,
            "bottom": null,
            "display": null,
            "flex": null,
            "flex_flow": null,
            "grid_area": null,
            "grid_auto_columns": null,
            "grid_auto_flow": null,
            "grid_auto_rows": null,
            "grid_column": null,
            "grid_gap": null,
            "grid_row": null,
            "grid_template_areas": null,
            "grid_template_columns": null,
            "grid_template_rows": null,
            "height": null,
            "justify_content": null,
            "justify_items": null,
            "left": null,
            "margin": null,
            "max_height": null,
            "max_width": null,
            "min_height": null,
            "min_width": null,
            "object_fit": null,
            "object_position": null,
            "order": null,
            "overflow": null,
            "overflow_x": null,
            "overflow_y": null,
            "padding": null,
            "right": null,
            "top": null,
            "visibility": null,
            "width": null
          }
        },
        "de8c25d11df34ae2b86964266defdfdc": {
          "model_module": "@jupyter-widgets/controls",
          "model_module_version": "1.5.0",
          "model_name": "ButtonModel",
          "state": {
            "_dom_classes": [],
            "_model_module": "@jupyter-widgets/controls",
            "_model_module_version": "1.5.0",
            "_model_name": "ButtonModel",
            "_view_count": null,
            "_view_module": "@jupyter-widgets/controls",
            "_view_module_version": "1.5.0",
            "_view_name": "ButtonView",
            "button_style": "",
            "description": "Use existing license",
            "disabled": false,
            "icon": "",
            "layout": "IPY_MODEL_59a30522756c4d668323600e0800a022",
            "style": "IPY_MODEL_4510b5e780f24d44ace00a42c38cf6dc",
            "tooltip": ""
          }
        },
        "fcf080abd68144728d12fa81f879d5d5": {
          "model_module": "@jupyter-widgets/output",
          "model_module_version": "1.0.0",
          "model_name": "OutputModel",
          "state": {
            "_dom_classes": [],
            "_model_module": "@jupyter-widgets/output",
            "_model_module_version": "1.0.0",
            "_model_name": "OutputModel",
            "_view_count": null,
            "_view_module": "@jupyter-widgets/output",
            "_view_module_version": "1.0.0",
            "_view_name": "OutputView",
            "layout": "IPY_MODEL_a0a3a52262a340debb5a29ce65170164",
            "msg_id": "",
            "outputs": [
              {
                "name": "stdout",
                "output_type": "stream",
                "text": [
                  "Licensed to Default AMPL Community Edition License for the AMPL Model Colaboratory.\n"
                ]
              }
            ]
          }
        }
      }
    }
  },
  "nbformat": 4,
  "nbformat_minor": 4
}
