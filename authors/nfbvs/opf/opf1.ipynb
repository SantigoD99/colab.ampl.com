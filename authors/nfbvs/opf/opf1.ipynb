{
  "cells": [
    {
      "cell_type": "markdown",
      "metadata": {
        "id": "7RjB1ipC7KbS"
      },
      "source": [
        "# Optimal Power Flow with AMPL and Python - conventional Power Flow\n",
        "[![opf1.ipynb](https://img.shields.io/badge/github-%23121011.svg?logo=github)](https://github.com/ampl/colab.ampl.com/blob/master/authors/nfbvs/opf/opf1.ipynb) [![Open In Colab](https://colab.research.google.com/assets/colab-badge.svg)](https://colab.research.google.com/github/ampl/colab.ampl.com/blob/master/authors/nfbvs/opf/opf1.ipynb) [![Kaggle](https://kaggle.com/static/images/open-in-kaggle.svg)](https://kaggle.com/kernels/welcome?src=https://github.com/ampl/colab.ampl.com/blob/master/authors/nfbvs/opf/opf1.ipynb) [![Gradient](https://assets.paperspace.io/img/gradient-badge.svg)](https://console.paperspace.com/github/ampl/colab.ampl.com/blob/master/authors/nfbvs/opf/opf1.ipynb) [![Open In SageMaker Studio Lab](https://studiolab.sagemaker.aws/studiolab.svg)](https://studiolab.sagemaker.aws/import/github/ampl/colab.ampl.com/blob/master/authors/nfbvs/opf/opf1.ipynb) [![Hits](https://h.ampl.com/https://github.com/ampl/colab.ampl.com/blob/master/authors/nfbvs/opf/opf1.ipynb)](https://colab.ampl.com)\n",
        "\n",
        "Description: Optimal Power Flow\n",
        "\n",
        "Tags: AMPL, amplpy, Optimal Power Flow, Python\n",
        "\n",
        "Notebook author: Nicolau Santos <<nicolau@ampl.com>>"
      ]
    },
    {
      "cell_type": "code",
      "execution_count": 1,
      "metadata": {
        "id": "rQ50dBwL7KbX"
      },
      "outputs": [],
      "source": [
        "# Install dependencies\n",
        "%pip install -q amplpy pandas"
      ]
    },
    {
      "cell_type": "code",
      "execution_count": 2,
      "metadata": {
        "id": "s7DEaRp87KbY"
      },
      "outputs": [],
      "source": [
        "# Google Colab & Kaggle integration\n",
        "from amplpy import AMPL, ampl_notebook\n",
        "\n",
        "ampl = ampl_notebook(\n",
        "    modules=[\"coin\"],  # modules to install\n",
        "    license_uuid=\"default\",  # license to use\n",
        ")  # instantiate AMPL object and register magics"
      ]
    },
    {
      "cell_type": "markdown",
      "metadata": {
        "id": "twrd0pLo7KbZ"
      },
      "source": [
        "## Introduction\n",
        "Content will be available soon!"
      ]
    },
    {
      "cell_type": "markdown",
      "metadata": {
        "id": "1YSQsHuT5lJ9"
      },
      "source": [
        "## Problem description\n",
        "\n",
        "$$P_i(V, \\delta) = P_i^G - P_i^L, \\forall i \\in N$$\n",
        "$$Q_i(V, \\delta) = Q_i^G - Q_i^L, \\forall i \\in N$$\n",
        "\n",
        "$$P_i(V, \\delta) = V_i \\sum_{k=1}^{N}V_k(G_{ik}\\cos(\\delta_i-\\delta_k) + B_{ik}\\sin(\\delta_i-\\delta_k)), \\forall i \\in N$$\n",
        "$$Q_i(V, \\delta) = V_i \\sum_{k=1}^{N}V_k(G_{ik}\\sin(\\delta_i-\\delta_k) - B_{ik}\\cos(\\delta_i-\\delta_k)), \\forall i \\in N$$"
      ]
    },
    {
      "cell_type": "markdown",
      "metadata": {
        "id": "1FM5IUS05lJ9"
      },
      "source": [
        "## AMPL model"
      ]
    },
    {
      "cell_type": "code",
      "execution_count": 3,
      "metadata": {
        "id": "aEtyesqs7KbZ",
        "colab": {
          "base_uri": "https://localhost:8080/"
        },
        "outputId": "7a018035-48e3-47da-b9dd-9eeb66c85125"
      },
      "outputs": [
        {
          "output_type": "stream",
          "name": "stdout",
          "text": [
            "Overwriting pf.mod\n"
          ]
        }
      ],
      "source": [
        "%%writefile pf.mod\n",
        "# data\n",
        "\n",
        "set N;                              # set of buses in the network\n",
        "param nL;                           # number of branches in the network\n",
        "set L within 1..nL cross N cross N; # set of branches in the network\n",
        "set GEN within N;                   # set of generator buses\n",
        "set REF within N;                   # set of reference (slack) buses\n",
        "set PQ within N;                    # set of load buses\n",
        "set PV within N;                    # set of voltage-controlled buses\n",
        "set YN :=                           # index of the bus admittance matrix\n",
        "    setof {i in N} (i,i) union\n",
        "    setof {(i,k,l) in L} (k,l) union\n",
        "    setof {(i,k,l) in L} (l,k);\n",
        "\n",
        "# bus data\n",
        "\n",
        "param V0     {N}; # initial voltage magnitude\n",
        "param delta0 {N}; # initial voltage angle\n",
        "param PL     {N}; # real power load\n",
        "param QL     {N}; # reactive power load\n",
        "param g_s    {N}; # shunt conductance\n",
        "param b_s    {N}; # shunt susceptance\n",
        "\n",
        "\n",
        "# generator data\n",
        "\n",
        "param PG {GEN}; # real power generation\n",
        "param QG {GEN}; # reactive power generation\n",
        "\n",
        "# branch indexed data\n",
        "\n",
        "param T    {L}; # initial voltage ratio\n",
        "param phi  {L}; # initial phase angle\n",
        "param R    {L}; # branch resistance\n",
        "param X    {L}; # branch reactance\n",
        "param g_sh {L}; # shunt conductance\n",
        "param b_sh {L}; # shunt susceptance\n",
        "\n",
        "param g {(l,k,m) in L} := R[l,k,m]/(R[l,k,m]^2 + X[l,k,m]^2);  # series conductance\n",
        "param b {(l,k,m) in L} := -X[l,k,m]/(R[l,k,m]^2 + X[l,k,m]^2); # series susceptance\n",
        "\n",
        "# bus admittance matrix real part\n",
        "param G {(i,k) in YN} =\n",
        "    if (i == k) then (\n",
        "        g_s[i] +\n",
        "        sum{(l,i,u) in L} (g[l,i,u] + g_sh[l,i,u]/2)/T[l,i,u]**2 +\n",
        "        sum{(l,u,i) in L} (g[l,u,i] + g_sh[l,u,i]/2)\n",
        "    )\n",
        "    else (\n",
        "        -sum{(l,i,k) in L} ((\n",
        "            g[l,i,k]*cos(phi[l,i,k])-b[l,i,k]*sin(phi[l,i,k])\n",
        "        )/T[l,i,k]) -\n",
        "        sum{(l,k,i) in L} ((\n",
        "            g[l,k,i]*cos(phi[l,k,i])+b[l,k,i]*sin(phi[l,k,i])\n",
        "        )/T[l,k,i])\n",
        "    );\n",
        "\n",
        "# bus admittance matrix imaginary part\n",
        "param B {(i,k) in YN} =\n",
        "    if (i == k) then (\n",
        "        b_s[i] +\n",
        "        sum{(l,i,u) in L} (b[l,i,u] + b_sh[l,i,u]/2)/T[l,i,u]**2 +\n",
        "        sum{(l,u,i) in L} (b[l,u,i] + b_sh[l,u,i]/2)\n",
        "    )\n",
        "    else (\n",
        "        -sum{(l,i,k) in L} (\n",
        "            g[l,i,k]*sin(phi[l,i,k])+b[l,i,k]*cos(phi[l,i,k])\n",
        "        )/T[l,i,k] -\n",
        "        sum{(l,k,i) in L} (\n",
        "            -g[l,k,i]*sin(phi[l,k,i])+b[l,k,i]*cos(phi[l,k,i])\n",
        "        )/T[l,k,i]\n",
        "    );\n",
        "\n",
        "# variables\n",
        "var V     {i in N} := V0[i];     # voltage magnitude\n",
        "var delta {i in N} := delta0[i]; # voltage angle\n",
        "\n",
        "# real power injection\n",
        "var P {i in N} =\n",
        "    V[i] * sum{(i,k) in YN} V[k] * (\n",
        "        G[i,k] * cos(delta[i] - delta[k]) +\n",
        "        B[i,k] * sin(delta[i] - delta[k])\n",
        "    );\n",
        "\n",
        "# reactive power injection\n",
        "var Q {i in N} =\n",
        "    V[i] * sum{(i,k) in YN} V[k] * (\n",
        "        G[i,k] * sin(delta[i] - delta[k]) -\n",
        "        B[i,k] * cos(delta[i] - delta[k])\n",
        "    );\n",
        "\n",
        "# constraints\n",
        "\n",
        "s.t. p_flow {i in (PQ union PV)}:\n",
        "    P[i] == (if (i in GEN) then PG[i] else 0) - PL[i];\n",
        "\n",
        "s.t. q_flow {i in PQ}:\n",
        "    Q[i] == (if (i in GEN) then QG[i] else 0) - QL[i];\n",
        "\n",
        "s.t. fixed_angles {i in REF}:\n",
        "    delta[i] == delta0[i];\n",
        "\n",
        "s.t. fixed_voltages {i in (REF union PV)}:\n",
        "    V[i] == V0[i];\n"
      ]
    },
    {
      "cell_type": "markdown",
      "metadata": {
        "id": "__7N2LEP5lJ_"
      },
      "source": [
        "## Numerical example"
      ]
    },
    {
      "cell_type": "code",
      "execution_count": 4,
      "metadata": {
        "id": "kkRGiL9o5lKA"
      },
      "outputs": [],
      "source": [
        "import pandas as pd\n",
        "import math\n",
        "\n",
        "df_bus = pd.DataFrame(\n",
        "    [\n",
        "        [1, 0.0, 0.0, 0.0, 0.0, 1.0, 1.0],\n",
        "        [2, 0.0, 0.0, 0.0, 0.3, 0.95, 1.05],\n",
        "        [3, 0.0, 0.0, 0.05, 0.0, 0.95, 1.05],\n",
        "        [4, 0.9, 0.4, 0.0, 0.0, 0.95, 1.05],\n",
        "        [5, 0.239, 0.129, 0.0, 0.0, 0.95, 1.05],\n",
        "    ],\n",
        "    columns=[\"bus\", \"PL\", \"QL\", \"g_s\", \"b_s\", \"V_min\", \"V_max\"],\n",
        ").set_index(\"bus\")\n",
        "\n",
        "df_branch = pd.DataFrame(\n",
        "    [\n",
        "        [1, 1, 2, 0.0, 0.3, 0.0, 0.0, 1.0, 0.0],\n",
        "        [2, 1, 3, 0.023, 0.145, 0.0, 0.04, 1.0, 0.0],\n",
        "        [3, 2, 4, 0.006, 0.032, 0.0, 0.01, 1.0, 0.0],\n",
        "        [4, 3, 4, 0.02, 0.26, 0.0, 0.0, 1.0, -3.0],\n",
        "        [5, 3, 5, 0.0, 0.32, 0.0, 0.0, 0.98, 0.0],\n",
        "        [6, 4, 5, 0.0, 0.5, 0.0, 0.0, 1.0, 0.0],\n",
        "    ],\n",
        "    columns=[\"row\", \"from\", \"to\", \"R\", \"X\", \"g_sh\", \"b_sh\", \"T\", \"phi\"],\n",
        ").set_index([\"row\", \"from\", \"to\"])\n",
        "\n",
        "gen = [1, 3, 4]\n",
        "ref = [1]\n",
        "pq = [3, 4]\n",
        "pv = [2, 5]\n",
        "\n",
        "# print(df_bus)\n",
        "# print(df_branch)"
      ]
    },
    {
      "cell_type": "code",
      "execution_count": 5,
      "metadata": {
        "colab": {
          "base_uri": "https://localhost:8080/"
        },
        "id": "eJ0yPpC25lKA",
        "outputId": "f917b37e-b89e-4205-d768-d74cb8566f3a"
      },
      "outputs": [
        {
          "output_type": "stream",
          "name": "stdout",
          "text": [
            "        PL     QL   g_s  b_s   V0  delta0\n",
            "bus                                      \n",
            "1    0.000  0.000  0.00  0.0  1.0     0.0\n",
            "2    0.000  0.000  0.00  0.3  1.0     0.0\n",
            "3    0.000  0.000  0.05  0.0  1.0     0.0\n",
            "4    0.900  0.400  0.00  0.0  1.0     0.0\n",
            "5    0.239  0.129  0.00  0.0  1.0     0.0\n",
            "                 R      X  g_sh  b_sh     T      phi\n",
            "row from to                                         \n",
            "1   1    2   0.000  0.300   0.0  0.00  1.00  0.00000\n",
            "2   1    3   0.023  0.145   0.0  0.04  1.00  0.00000\n",
            "3   2    4   0.006  0.032   0.0  0.01  1.00  0.00000\n",
            "4   3    4   0.020  0.260   0.0  0.00  1.00 -0.05236\n",
            "5   3    5   0.000  0.320   0.0  0.00  0.98  0.00000\n",
            "6   4    5   0.000  0.500   0.0  0.00  1.00  0.00000\n",
            "    PG   QG\n",
            "1  0.0  0.0\n",
            "3  0.0  0.0\n",
            "4  0.0  0.0\n"
          ]
        }
      ],
      "source": [
        "# data preprocessing\n",
        "\n",
        "ampl_bus = pd.DataFrame()\n",
        "cols = [\"PL\", \"QL\", \"g_s\", \"b_s\"]\n",
        "for col in cols:\n",
        "    ampl_bus.loc[:, col] = df_bus.loc[:, col]\n",
        "ampl_bus[\"V0\"] = 1.0\n",
        "ampl_bus[\"delta0\"] = 0.0\n",
        "\n",
        "ampl_branch = pd.DataFrame()\n",
        "ampl_branch = df_branch.copy()\n",
        "\n",
        "ampl_gen = pd.DataFrame()\n",
        "ampl_gen.index = gen\n",
        "ampl_gen[\"PG\"] = 0.0\n",
        "ampl_gen[\"QG\"] = 0.0\n",
        "\n",
        "# convert degrees to radians\n",
        "ampl_bus[\"delta0\"] = ampl_bus[\"delta0\"].apply(math.radians)\n",
        "ampl_branch[\"phi\"] = ampl_branch[\"phi\"].apply(math.radians)\n",
        "\n",
        "print(ampl_bus)\n",
        "print(ampl_branch)\n",
        "print(ampl_gen)"
      ]
    },
    {
      "cell_type": "code",
      "execution_count": 6,
      "metadata": {
        "colab": {
          "base_uri": "https://localhost:8080/"
        },
        "id": "WrreEqRI5lKB",
        "outputId": "6ab30820-5fec-4821-8a98-acf646b71bba"
      },
      "outputs": [
        {
          "output_type": "stream",
          "name": "stdout",
          "text": [
            "Ipopt 3.12.13: \n",
            "\n",
            "******************************************************************************\n",
            "This program contains Ipopt, a library for large-scale nonlinear optimization.\n",
            " Ipopt is released as open source code under the Eclipse Public License (EPL).\n",
            "         For more information visit http://projects.coin-or.org/Ipopt\n",
            "******************************************************************************\n",
            "\n",
            "This is Ipopt version 3.12.13, running with linear solver mumps.\n",
            "NOTE: Other linear solvers might be more efficient (see Ipopt documentation).\n",
            "\n",
            "Number of nonzeros in equality constraint Jacobian...:       30\n",
            "Number of nonzeros in inequality constraint Jacobian.:        0\n",
            "Number of nonzeros in Lagrangian Hessian.............:       18\n",
            "\n",
            "Total number of variables............................:        6\n",
            "                     variables with only lower bounds:        0\n",
            "                variables with lower and upper bounds:        0\n",
            "                     variables with only upper bounds:        0\n",
            "Total number of equality constraints.................:        6\n",
            "Total number of inequality constraints...............:        0\n",
            "        inequality constraints with only lower bounds:        0\n",
            "   inequality constraints with lower and upper bounds:        0\n",
            "        inequality constraints with only upper bounds:        0\n",
            "\n",
            "iter    objective    inf_pr   inf_du lg(mu)  ||d||  lg(rg) alpha_du alpha_pr  ls\n",
            "   0  0.0000000e+00 7.00e-01 0.00e+00  -1.0 0.00e+00    -  0.00e+00 0.00e+00   0\n",
            "   1  0.0000000e+00 4.87e-02 0.00e+00  -1.7 1.71e-01    -  1.00e+00 1.00e+00h  1\n",
            "   2  0.0000000e+00 2.17e-04 0.00e+00  -2.5 4.08e-03    -  1.00e+00 1.00e+00h  1\n",
            "   3  0.0000000e+00 4.11e-09 0.00e+00  -5.7 1.76e-05    -  1.00e+00 1.00e+00h  1\n",
            "\n",
            "Number of Iterations....: 3\n",
            "\n",
            "                                   (scaled)                 (unscaled)\n",
            "Objective...............:   0.0000000000000000e+00    0.0000000000000000e+00\n",
            "Dual infeasibility......:   0.0000000000000000e+00    0.0000000000000000e+00\n",
            "Constraint violation....:   4.1074473979318246e-09    4.1074473979318246e-09\n",
            "Complementarity.........:   0.0000000000000000e+00    0.0000000000000000e+00\n",
            "Overall NLP error.......:   4.1074473979318246e-09    4.1074473979318246e-09\n",
            "\n",
            "\n",
            "Number of objective function evaluations             = 4\n",
            "Number of objective gradient evaluations             = 4\n",
            "Number of equality constraint evaluations            = 4\n",
            "Number of inequality constraint evaluations          = 0\n",
            "Number of equality constraint Jacobian evaluations   = 4\n",
            "Number of inequality constraint Jacobian evaluations = 0\n",
            "Number of Lagrangian Hessian evaluations             = 3\n",
            "Total CPU secs in IPOPT (w/o function evaluations)   =      0.003\n",
            "Total CPU secs in NLP function evaluations           =      0.000\n",
            "\n",
            "EXIT: Optimal Solution Found.\n",
            "\b\b\b\b\b\b\b\b\b\b\b\b\b\b\b \n",
            "Ipopt 3.12.13: Optimal Solution Found\n",
            "\n",
            "suffix ipopt_zU_out OUT;\n",
            "suffix ipopt_zL_out OUT;\n",
            "solver status: solved\n",
            "          V     delta\n",
            "1  1.000000  0.000000\n",
            "2  1.000000 -8.657929\n",
            "3  0.981536 -5.893046\n",
            "4  0.983056 -9.440548\n",
            "5  1.000000 -9.950946\n"
          ]
        }
      ],
      "source": [
        "def pf_run(bus, branch, gen, ref, pq, pv):\n",
        "    # initialyze AMPL and read the model\n",
        "    ampl = AMPL()\n",
        "    ampl.read(\"pf.mod\")\n",
        "\n",
        "    # load the data\n",
        "    ampl.set_data(bus, \"N\")\n",
        "    ampl.param[\"nL\"] = branch.shape[0]\n",
        "    ampl.set_data(branch, \"L\")\n",
        "    ampl.set_data(gen, \"GEN\")\n",
        "    ampl.set[\"REF\"] = ref\n",
        "    ampl.set[\"PQ\"] = pq\n",
        "    ampl.set[\"PV\"] = pv\n",
        "\n",
        "    ampl.solve(solver=\"ipopt\")\n",
        "    assert ampl.solve_result == \"solved\"\n",
        "\n",
        "    if ampl.solve_result != \"solved\":\n",
        "        print(\"WARNING: solver exited with %s status.\" % (ampl.solve_result,))\n",
        "\n",
        "    return ampl.get_data(\"V\", \"delta\").to_pandas(), ampl.solve_result\n",
        "\n",
        "\n",
        "df_res, solver_status = pf_run(ampl_bus, ampl_branch, ampl_gen, ref, pq, pv)\n",
        "\n",
        "# convert radians back to degrees\n",
        "df_res[\"delta\"] = df_res[\"delta\"].apply(math.degrees)\n",
        "\n",
        "# print results\n",
        "print(\"solver status:\", solver_status)\n",
        "print(df_res)"
      ]
    },
    {
      "cell_type": "markdown",
      "metadata": {
        "id": "hCOdDFT85lKC"
      },
      "source": [
        "## Conclusion"
      ]
    },
    {
      "cell_type": "markdown",
      "metadata": {
        "id": "w1CB0Vao5lKC"
      },
      "source": [
        "## Bibliography\n",
        "\n",
        "<a id='ref1'></a> Stephen Frank & Steffen Rebennack (2016) An introduction to optimal\n",
        "power flow: Theory, formulation, and examples, IIE Transactions, 48:12, 1172-1197."
      ]
    }
  ],
  "metadata": {
    "colab": {
      "provenance": []
    },
    "kernelspec": {
      "display_name": "Python 3 (ipykernel)",
      "language": "python",
      "name": "python3"
    },
    "language_info": {
      "codemirror_mode": {
        "name": "ipython",
        "version": 3
      },
      "file_extension": ".py",
      "mimetype": "text/x-python",
      "name": "python",
      "nbconvert_exporter": "python",
      "pygments_lexer": "ipython3",
      "version": "3.11.2"
    },
    "vscode": {
      "interpreter": {
        "hash": "ee4198aac13dae9b6fccd443041680d99c2643c4956ef7c80ff6dcc0057cb523"
      }
    }
  },
  "nbformat": 4,
  "nbformat_minor": 0
}
