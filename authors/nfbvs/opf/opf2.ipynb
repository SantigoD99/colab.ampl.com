{
  "cells": [
    {
      "cell_type": "markdown",
      "metadata": {
        "id": "7RjB1ipC7KbS"
      },
      "source": [
        "# Optimal Power Flow with AMPL and Python - Bus Injection Model (BIM)\n",
        "[![opf2.ipynb](https://img.shields.io/badge/github-%23121011.svg?logo=github)](https://github.com/ampl/colab.ampl.com/blob/master/authors/nfbvs/opf/opf2.ipynb) [![Open In Colab](https://colab.research.google.com/assets/colab-badge.svg)](https://colab.research.google.com/github/ampl/colab.ampl.com/blob/master/authors/nfbvs/opf/opf2.ipynb) [![Kaggle](https://kaggle.com/static/images/open-in-kaggle.svg)](https://kaggle.com/kernels/welcome?src=https://github.com/ampl/colab.ampl.com/blob/master/authors/nfbvs/opf/opf2.ipynb) [![Gradient](https://assets.paperspace.io/img/gradient-badge.svg)](https://console.paperspace.com/github/ampl/colab.ampl.com/blob/master/authors/nfbvs/opf/opf2.ipynb) [![Open In SageMaker Studio Lab](https://studiolab.sagemaker.aws/studiolab.svg)](https://studiolab.sagemaker.aws/import/github/ampl/colab.ampl.com/blob/master/authors/nfbvs/opf/opf2.ipynb) [![Hits](https://h.ampl.com/https://github.com/ampl/colab.ampl.com/blob/master/authors/nfbvs/opf/opf2.ipynb)](https://colab.ampl.com)\n",
        "\n",
        "Description: Optimal Power Flow\n",
        "\n",
        "Tags: AMPL, amplpy, Optimal Power Flow, Python\n",
        "\n",
        "Notebook author: Nicolau Santos <<nicolau@ampl.com>>"
      ]
    },
    {
      "cell_type": "code",
      "execution_count": 1,
      "metadata": {
        "id": "rQ50dBwL7KbX",
        "colab": {
          "base_uri": "https://localhost:8080/"
        },
        "outputId": "867690b0-0c79-45cd-fce6-7e913c0e3e21"
      },
      "outputs": [],
      "source": [
        "# Install dependencies\n",
        "%pip install -q amplpy pandas"
      ]
    },
    {
      "cell_type": "code",
      "execution_count": 2,
      "metadata": {
        "colab": {
          "base_uri": "https://localhost:8080/"
        },
        "id": "s7DEaRp87KbY",
        "outputId": "5c102513-0e97-4cb1-952a-234d7bcdfa25"
      },
      "outputs": [],
      "source": [
        "# Google Colab & Kaggle integration\n",
        "from amplpy import AMPL, ampl_notebook\n",
        "\n",
        "ampl = ampl_notebook(\n",
        "    modules=[\"coin\"],  # modules to install\n",
        "    license_uuid=\"default\",  # license to use\n",
        ")  # instantiate AMPL object and register magics"
      ]
    },
    {
      "cell_type": "markdown",
      "metadata": {
        "id": "nVmMUqip7So1"
      },
      "source": [
        "## Introduction\n",
        "Content will be available soon!"
      ]
    },
    {
      "cell_type": "markdown",
      "metadata": {
        "id": "twrd0pLo7KbZ"
      },
      "source": [
        "## Problem description\n",
        "\n",
        "$$\n",
        "\\begin{split}\n",
        "\\min \\enspace & \\sum_{i \\in G}(\\text{const} + \\text{linear}P_i^G + \\text{quad}(P_i^G)^2) \\\\\n",
        "\\text{s.t.} \\enspace & P_i(V, \\delta) = P_i^G - P_i^L, \\forall i \\in N \\\\\n",
        "& Q_i(V, \\delta) = Q_i^G - Q_i^L, \\forall i \\in N \\\\\n",
        "& P_i^{G,min} \\leq P_i^{G} \\leq P_i^{G,max}, \\forall i \\in G \\\\\n",
        "& Q_i^{G,min} \\leq Q_i^{G} \\leq Q_i^{G,max}, \\forall i \\in G \\\\\n",
        "& V_i^{min} \\leq P_i \\leq V_i^{max}, \\forall i \\in N \\\\\n",
        "& \\delta_i^{min} \\leq \\delta_i \\leq \\delta_i^{max}, \\forall i \\in N \\\\\n",
        "\\end{split}\n",
        "$$\n",
        "\n",
        "\n",
        "$$P_i(V, \\delta) = V_i \\sum_{k=1}^{N}V_k(G_{ik}\\cos(\\delta_i-\\delta_k) + B_{ik}\\sin(\\delta_i-\\delta_k)), \\forall i \\in N$$\n",
        "$$Q_i(V, \\delta) = V_i \\sum_{k=1}^{N}V_k(G_{ik}\\sin(\\delta_i-\\delta_k) - B_{ik}\\cos(\\delta_i-\\delta_k)), \\forall i \\in N$$"
      ]
    },
    {
      "cell_type": "markdown",
      "metadata": {
        "id": "4GbST2Gq7So2"
      },
      "source": [
        "## AMPL model"
      ]
    },
    {
      "cell_type": "code",
      "execution_count": 3,
      "metadata": {
        "id": "aEtyesqs7KbZ",
        "colab": {
          "base_uri": "https://localhost:8080/"
        },
        "outputId": "0819480e-9c35-405d-9936-1e4c016f2ef2"
      },
      "outputs": [
        {
          "output_type": "stream",
          "name": "stdout",
          "text": [
            "Writing opf.mod\n"
          ]
        }
      ],
      "source": [
        "%%writefile opf.mod\n",
        "# data\n",
        "\n",
        "set N;                              # set of buses in the network\n",
        "param nL;                           # number of branches in the network\n",
        "set L within 1..nL cross N cross N; # set of branches in the network\n",
        "set GEN within N;                   # set of generator buses\n",
        "set REF within N;                   # set of reference (slack) buses\n",
        "set YN :=                           # index of the bus admittance matrix\n",
        "    setof {i in N} (i,i) union\n",
        "    setof {(i,k,l) in L} (k,l) union\n",
        "    setof {(i,k,l) in L} (l,k);\n",
        "\n",
        "# bus data\n",
        "\n",
        "param V0        {N}; # initial voltage magnitude\n",
        "param delta0    {N}; # initial voltage angle\n",
        "param PL        {N}; # real power load\n",
        "param QL        {N}; # reactive power load\n",
        "param g_s       {N}; # shunt conductance\n",
        "param b_s       {N}; # shunt susceptance\n",
        "\n",
        "# lower and upper bounds\n",
        "param V_min     {N};\n",
        "param V_max     {N};\n",
        "param delta_min {N};\n",
        "param delta_max {N};\n",
        "\n",
        "\n",
        "# generator data\n",
        "\n",
        "param PG0    {GEN}; # initial real power generation\n",
        "param QG0    {GEN}; # initial reactive power generation\n",
        "param const  {GEN}; # constant cost of a given generator\n",
        "param linear {GEN}; # linear cost of a given generator\n",
        "param quad   {GEN}; # quadratic cost of a given generator\n",
        "\n",
        "# lower and upper bounds\n",
        "param PG_min {GEN};\n",
        "param PG_max {GEN};\n",
        "param QG_min {GEN};\n",
        "param QG_max {GEN};\n",
        "\n",
        "\n",
        "# branch data\n",
        "\n",
        "param T    {L}; # initial voltage ratio\n",
        "param phi  {L}; # initial phase angle\n",
        "param R    {L}; # branch resistance\n",
        "param X    {L}; # branch reactance\n",
        "param g_sh {L}; # shunt conductance\n",
        "param b_sh {L}; # shunt susceptance\n",
        "\n",
        "param g {(l,k,m) in L} := R[l,k,m]/(R[l,k,m]^2 + X[l,k,m]^2);  # series conductance\n",
        "param b {(l,k,m) in L} := -X[l,k,m]/(R[l,k,m]^2 + X[l,k,m]^2); # series susceptance\n",
        "\n",
        "# bus admittance matrix real part\n",
        "param G {(i,k) in YN} =\n",
        "    if (i == k) then (\n",
        "        g_s[i] +\n",
        "        sum{(l,i,u) in L} (g[l,i,u] + g_sh[l,i,u]/2)/T[l,i,u]**2 +\n",
        "        sum{(l,u,i) in L} (g[l,u,i] + g_sh[l,u,i]/2)\n",
        "    )\n",
        "    else (\n",
        "        -sum{(l,i,k) in L} ((\n",
        "            g[l,i,k]*cos(phi[l,i,k])-b[l,i,k]*sin(phi[l,i,k])\n",
        "        )/T[l,i,k]) -\n",
        "        sum{(l,k,i) in L} ((\n",
        "            g[l,k,i]*cos(phi[l,k,i])+b[l,k,i]*sin(phi[l,k,i])\n",
        "        )/T[l,k,i])\n",
        "    );\n",
        "\n",
        "# bus admittance matrix imaginary part\n",
        "param B {(i,k) in YN} =\n",
        "    if (i == k) then (\n",
        "        b_s[i] +\n",
        "        sum{(l,i,u) in L} (b[l,i,u] + b_sh[l,i,u]/2)/T[l,i,u]**2 +\n",
        "        sum{(l,u,i) in L} (b[l,u,i] + b_sh[l,u,i]/2)\n",
        "    )\n",
        "    else (\n",
        "        -sum{(l,i,k) in L} (\n",
        "            g[l,i,k]*sin(phi[l,i,k])+b[l,i,k]*cos(phi[l,i,k])\n",
        "        )/T[l,i,k] -\n",
        "        sum{(l,k,i) in L} (\n",
        "            -g[l,k,i]*sin(phi[l,k,i])+b[l,k,i]*cos(phi[l,k,i])\n",
        "        )/T[l,k,i]\n",
        "    );\n",
        "\n",
        "\n",
        "# decision variables with lower bounds, upper bounds and initial guess\n",
        "\n",
        "var V     {i in N} >= V_min[i],     <= V_max[i]     := V0[i];     # voltage magnitude\n",
        "var delta {i in N} >= delta_min[i], <= delta_max[i] := delta0[i]; # voltage angle\n",
        "\n",
        "var PG {i in GEN} >= PG_min[i], <= PG_max[i] := PG0[i]; # real power generation\n",
        "var QG {i in GEN} >= QG_min[i], <= QG_max[i] := QG0[i]; # reactive power generation\n",
        "\n",
        "\n",
        "# real power injection\n",
        "var P {i in N} =\n",
        "    V[i] * sum{(i,k) in YN} V[k] * (\n",
        "        G[i,k] * cos(delta[i] - delta[k]) +\n",
        "        B[i,k] * sin(delta[i] - delta[k])\n",
        "    );\n",
        "\n",
        "# reactive power injection\n",
        "var Q {i in N} =\n",
        "    V[i] * sum{(i,k) in YN} V[k] * (\n",
        "        G[i,k] * sin(delta[i] - delta[k]) -\n",
        "        B[i,k] * cos(delta[i] - delta[k])\n",
        "    );\n",
        "\n",
        "\n",
        "# objective\n",
        "\n",
        "minimize generation_cost:\n",
        "    sum{i in GEN} (const[i] + PG[i] * linear[i] + (PG[i] ** 2) * quad[i]);\n",
        "\n",
        "\n",
        "# constraints\n",
        "\n",
        "s.t. p_flow {i in N}:\n",
        "    P[i] == (if (i in GEN) then PG[i] else 0) - PL[i];\n",
        "\n",
        "s.t. q_flow {i in N}:\n",
        "    Q[i] == (if (i in GEN) then QG[i] else 0) - QL[i];\n",
        "\n",
        "s.t. fixed_angles {i in REF}:\n",
        "    delta[i] == delta0[i];\n",
        "\n",
        "s.t. fixed_voltages {i in REF}:\n",
        "    V[i] == V0[i];"
      ]
    },
    {
      "cell_type": "markdown",
      "metadata": {
        "id": "FZtjcv0X7So4"
      },
      "source": [
        "## Numerical example"
      ]
    },
    {
      "cell_type": "code",
      "execution_count": 4,
      "metadata": {
        "id": "EFWspUW87So4"
      },
      "outputs": [],
      "source": [
        "import pandas as pd\n",
        "import math\n",
        "\n",
        "inf = float('inf')\n",
        "\n",
        "df_bus = pd.DataFrame(\n",
        "    [\n",
        "        [1, 0.0, 0.0, 0.0, 0.0, 1.0, 1.0],\n",
        "        [2, 0.0, 0.0, 0.0, 0.3, 0.95, 1.05],\n",
        "        [3, 0.0, 0.0, 0.05, 0.0, 0.95, 1.05],\n",
        "        [4, 0.9, 0.4, 0.0, 0.0, 0.95, 1.05],\n",
        "        [5, 0.239, 0.129, 0.0, 0.0, 0.95, 1.05],\n",
        "    ],\n",
        "    columns=[\"bus\", \"PL\", \"QL\", \"g_s\", \"b_s\", \"V_min\", \"V_max\"],\n",
        ").set_index(\"bus\")\n",
        "\n",
        "df_branch = pd.DataFrame(\n",
        "    [\n",
        "        [1, 1, 2, 0.0, 0.3, 0.0, 0.0, 1.0, 0.0],\n",
        "        [2, 1, 3, 0.023, 0.145, 0.0, 0.04, 1.0, 0.0],\n",
        "        [3, 2, 4, 0.006, 0.032, 0.0, 0.01, 1.0, 0.0],\n",
        "        [4, 3, 4, 0.02, 0.26, 0.0, 0.0, 1.0, -3.0],\n",
        "        [5, 3, 5, 0.0, 0.32, 0.0, 0.0, 0.98, 0.0],\n",
        "        [6, 4, 5, 0.0, 0.5, 0.0, 0.0, 1.0, 0.0],\n",
        "    ],\n",
        "    columns=[\"row\", \"from\", \"to\", \"R\", \"X\", \"g_sh\", \"b_sh\", \"T\", \"phi\"],\n",
        ").set_index([\"row\", \"from\", \"to\"])\n",
        "\n",
        "df_gen = pd.DataFrame(\n",
        "    [\n",
        "        [1, float(-inf), float(inf), float(-inf), float(inf), 0.0, 0.35, 0.0],\n",
        "        [3, 0.10, 0.40, -0.20, 0.30, 0.0, 0.20, 0.40],\n",
        "        [4, 0.05, 0.40, -0.20, 0.20, 0.0, 0.30, 0.50],\n",
        "    ],\n",
        "    columns=[\"bus\", \"PG_min\", \"PG_max\", \"QG_min\", \"QG_max\", \"const\", \"linear\", \"quad\"],\n",
        ").set_index(\"bus\")\n",
        "\n",
        "\n",
        "ref = [1]\n",
        "\n",
        "# print(df_bus)\n",
        "# print(df_branch)\n",
        "# print(df_gen)"
      ]
    },
    {
      "cell_type": "code",
      "execution_count": 5,
      "metadata": {
        "colab": {
          "base_uri": "https://localhost:8080/"
        },
        "id": "gf1bWi637So5",
        "outputId": "b9b978b8-892a-4a22-c7a5-5dad2a11b41c"
      },
      "outputs": [
        {
          "output_type": "stream",
          "name": "stdout",
          "text": [
            "        PL     QL   g_s  b_s  V_min  V_max   V0  delta0  delta_min  delta_max\n",
            "bus                                                                          \n",
            "1    0.000  0.000  0.00  0.0   1.00   1.00  1.0     0.0  -3.141593   3.141593\n",
            "2    0.000  0.000  0.00  0.3   0.95   1.05  1.0     0.0  -3.141593   3.141593\n",
            "3    0.000  0.000  0.05  0.0   0.95   1.05  1.0     0.0  -3.141593   3.141593\n",
            "4    0.900  0.400  0.00  0.0   0.95   1.05  1.0     0.0  -3.141593   3.141593\n",
            "5    0.239  0.129  0.00  0.0   0.95   1.05  1.0     0.0  -3.141593   3.141593\n",
            "                 R      X  g_sh  b_sh     T      phi\n",
            "row from to                                         \n",
            "1   1    2   0.000  0.300   0.0  0.00  1.00  0.00000\n",
            "2   1    3   0.023  0.145   0.0  0.04  1.00  0.00000\n",
            "3   2    4   0.006  0.032   0.0  0.01  1.00  0.00000\n",
            "4   3    4   0.020  0.260   0.0  0.00  1.00 -0.05236\n",
            "5   3    5   0.000  0.320   0.0  0.00  0.98  0.00000\n",
            "6   4    5   0.000  0.500   0.0  0.00  1.00  0.00000\n",
            "     PG_min  PG_max  QG_min  QG_max  const  linear  quad  PG0  QG0\n",
            "bus                                                               \n",
            "1      -inf     inf    -inf     inf    0.0    0.35   0.0  0.0  0.0\n",
            "3      0.10     0.4    -0.2     0.3    0.0    0.20   0.4  0.0  0.0\n",
            "4      0.05     0.4    -0.2     0.2    0.0    0.30   0.5  0.0  0.0\n",
            "[1]\n"
          ]
        }
      ],
      "source": [
        "# data preprocessing\n",
        "\n",
        "ampl_bus = pd.DataFrame()\n",
        "cols = [\"PL\", \"QL\", \"g_s\", \"b_s\", \"V_min\", \"V_max\"]\n",
        "for col in cols:\n",
        "    ampl_bus.loc[:, col] = df_bus.loc[:, col]\n",
        "ampl_bus[\"V0\"] = 1.0\n",
        "ampl_bus[\"delta0\"] = 0.0\n",
        "ampl_bus[\"delta_min\"] = -180.0\n",
        "ampl_bus[\"delta_max\"] = 180.0\n",
        "\n",
        "ampl_branch = pd.DataFrame()\n",
        "ampl_branch = df_branch.copy()\n",
        "\n",
        "ampl_gen = df_gen.copy()\n",
        "ampl_gen[\"PG0\"] = 0.0\n",
        "ampl_gen[\"QG0\"] = 0.0\n",
        "\n",
        "# convert degrees to radians\n",
        "ampl_bus[\"delta0\"] = ampl_bus[\"delta0\"].apply(math.radians)\n",
        "ampl_bus[\"delta_min\"] = ampl_bus[\"delta_min\"].apply(math.radians)\n",
        "ampl_bus[\"delta_max\"] = ampl_bus[\"delta_max\"].apply(math.radians)\n",
        "ampl_branch[\"phi\"] = ampl_branch[\"phi\"].apply(math.radians)\n",
        "\n",
        "print(ampl_bus)\n",
        "print(ampl_branch)\n",
        "print(ampl_gen)\n",
        "print(ref)"
      ]
    },
    {
      "cell_type": "code",
      "execution_count": 6,
      "metadata": {
        "colab": {
          "base_uri": "https://localhost:8080/"
        },
        "id": "K1jpc89a7So5",
        "outputId": "bd57763f-40c9-47c5-8ae4-76f079f93dc7"
      },
      "outputs": [
        {
          "output_type": "stream",
          "name": "stdout",
          "text": [
            "Ipopt 3.12.13: \n",
            "\n",
            "******************************************************************************\n",
            "This program contains Ipopt, a library for large-scale nonlinear optimization.\n",
            " Ipopt is released as open source code under the Eclipse Public License (EPL).\n",
            "         For more information visit http://projects.coin-or.org/Ipopt\n",
            "******************************************************************************\n",
            "\n",
            "This is Ipopt version 3.12.13, running with linear solver mumps.\n",
            "NOTE: Other linear solvers might be more efficient (see Ipopt documentation).\n",
            "\n",
            "Number of nonzeros in equality constraint Jacobian...:       62\n",
            "Number of nonzeros in inequality constraint Jacobian.:        0\n",
            "Number of nonzeros in Lagrangian Hessian.............:       38\n",
            "\n",
            "Total number of variables............................:       14\n",
            "                     variables with only lower bounds:        0\n",
            "                variables with lower and upper bounds:       12\n",
            "                     variables with only upper bounds:        0\n",
            "Total number of equality constraints.................:       10\n",
            "Total number of inequality constraints...............:        0\n",
            "        inequality constraints with only lower bounds:        0\n",
            "   inequality constraints with lower and upper bounds:        0\n",
            "        inequality constraints with only upper bounds:        0\n",
            "\n",
            "iter    objective    inf_pr   inf_du lg(mu)  ||d||  lg(rg) alpha_du alpha_pr  ls\n",
            "   0  4.2324719e-02 6.47e-01 4.52e-02  -1.0 0.00e+00    -  0.00e+00 0.00e+00   0\n",
            "   1  4.0623606e-01 3.61e-02 5.17e-01  -1.0 8.37e-01    -  9.80e-01 1.00e+00f  1\n",
            "   2  4.1018715e-01 1.30e-04 1.37e-02  -1.7 6.02e-02    -  1.00e+00 1.00e+00h  1\n",
            "   3  4.0744338e-01 5.79e-05 2.05e-02  -2.5 3.18e-02    -  9.82e-01 1.00e+00h  1\n",
            "   4  4.0511863e-01 1.50e-04 2.57e-03  -3.8 5.31e-02    -  9.83e-01 1.00e+00h  1\n",
            "   5  4.0456520e-01 1.92e-04 6.80e-05  -3.8 4.51e-02    -  1.00e+00 1.00e+00h  1\n",
            "   6  4.0424502e-01 7.31e-04 2.73e-03  -5.7 8.44e-02    -  7.20e-01 1.00e+00h  1\n",
            "   7  4.0416214e-01 3.04e-04 1.39e-04  -5.7 5.66e-02    -  9.80e-01 1.00e+00h  1\n",
            "   8  4.0414750e-01 3.11e-05 2.23e-06  -5.7 1.97e-02    -  1.00e+00 1.00e+00h  1\n",
            "   9  4.0414754e-01 7.05e-08 1.56e-08  -5.7 8.23e-04    -  1.00e+00 1.00e+00h  1\n",
            "iter    objective    inf_pr   inf_du lg(mu)  ||d||  lg(rg) alpha_du alpha_pr  ls\n",
            "  10  4.0414383e-01 1.15e-06 2.09e-06  -8.6 3.49e-03    -  9.92e-01 1.00e+00h  1\n",
            "  11  4.0414383e-01 1.52e-10 3.74e-11  -8.6 4.41e-05    -  1.00e+00 1.00e+00h  1\n",
            "\n",
            "Number of Iterations....: 11\n",
            "\n",
            "                                   (scaled)                 (unscaled)\n",
            "Objective...............:   4.0414383068667681e-01    4.0414383068667681e-01\n",
            "Dual infeasibility......:   3.7426333641287451e-11    3.7426333641287451e-11\n",
            "Constraint violation....:   1.5229294214602618e-10    1.5229294214602618e-10\n",
            "Complementarity.........:   2.6076022452102192e-09    2.6076022452102192e-09\n",
            "Overall NLP error.......:   2.6076022452102192e-09    2.6076022452102192e-09\n",
            "\n",
            "\n",
            "Number of objective function evaluations             = 12\n",
            "Number of objective gradient evaluations             = 12\n",
            "Number of equality constraint evaluations            = 12\n",
            "Number of inequality constraint evaluations          = 0\n",
            "Number of equality constraint Jacobian evaluations   = 12\n",
            "Number of inequality constraint Jacobian evaluations = 0\n",
            "Number of Lagrangian Hessian evaluations             = 11\n",
            "Total CPU secs in IPOPT (w/o function evaluations)   =      0.010\n",
            "Total CPU secs in NLP function evaluations           =      0.001\n",
            "\n",
            "EXIT: Optimal Solution Found.\n",
            "\b\b\b\b\b\b\b\b\b\b\b\b\b\b\b \n",
            "Ipopt 3.12.13: Optimal Solution Found\n",
            "\n",
            "suffix ipopt_zU_out OUT;\n",
            "suffix ipopt_zL_out OUT;\n",
            "generation cost: 0.40414383068667675\n",
            "          V     delta\n",
            "1  1.000000  0.000000\n",
            "2  0.982697 -7.498240\n",
            "3  0.964150 -4.223082\n",
            "4  0.969636 -8.204157\n",
            "5  0.950000 -8.640602\n",
            "         PG        QG\n",
            "1  0.946145  0.248706\n",
            "3  0.194654 -0.072208\n",
            "4  0.057509  0.199998\n"
          ]
        }
      ],
      "source": [
        "def opf_run(bus, branch, gen, ref):\n",
        "    # initialyze AMPL and read the model\n",
        "    ampl = AMPL()\n",
        "    ampl.read(\"opf.mod\")\n",
        "\n",
        "    # load the data\n",
        "    ampl.set_data(bus, \"N\")\n",
        "    ampl.param[\"nL\"] = branch.shape[0]\n",
        "    ampl.set_data(branch, \"L\")\n",
        "    ampl.set_data(gen, \"GEN\")\n",
        "    ampl.set[\"REF\"] = ref\n",
        "\n",
        "    # uncomment to show expanded problem\n",
        "    # ampl.eval(\"solexpand;\")\n",
        "\n",
        "    # uncomment to show admittance matrix\n",
        "    # ampl.eval(\"display G,B;\")\n",
        "\n",
        "    ampl.solve(solver=\"ipopt\")\n",
        "    assert ampl.solve_result == \"solved\"\n",
        "\n",
        "    if ampl.solve_result != \"solved\":\n",
        "        print(\"WARNING: solver exited with %s status.\" % (ampl.solve_result,))\n",
        "\n",
        "    obj = ampl.obj[\"generation_cost\"].value()\n",
        "    ma = ampl.get_data(\"V\", \"delta\").to_pandas()\n",
        "    pg = ampl.get_data(\"PG\", \"QG\").to_pandas()\n",
        "\n",
        "    return obj, ma, pg\n",
        "\n",
        "\n",
        "obj, ma, pg = opf_run(ampl_bus, ampl_branch, ampl_gen, ref)\n",
        "\n",
        "# convert radians back to degrees\n",
        "ma[\"delta\"] = ma[\"delta\"].apply(math.degrees)\n",
        "\n",
        "# print results\n",
        "print(\"generation cost:\", obj)\n",
        "print(ma)\n",
        "print(pg)"
      ]
    },
    {
      "cell_type": "markdown",
      "metadata": {
        "id": "HJ90Mxpj7So6"
      },
      "source": [
        "## Conclusion"
      ]
    },
    {
      "cell_type": "markdown",
      "metadata": {
        "id": "wOBYaYQX7So6"
      },
      "source": [
        "## Bibliography\n",
        "\n",
        "<a id='ref1'></a> Stephen Frank & Steffen Rebennack (2016) An introduction to optimal\n",
        "power flow: Theory, formulation, and examples, IIE Transactions, 48:12, 1172-1197."
      ]
    }
  ],
  "metadata": {
    "colab": {
      "provenance": []
    },
    "kernelspec": {
      "display_name": "Python 3 (ipykernel)",
      "language": "python",
      "name": "python3"
    },
    "language_info": {
      "codemirror_mode": {
        "name": "ipython",
        "version": 3
      },
      "file_extension": ".py",
      "mimetype": "text/x-python",
      "name": "python",
      "nbconvert_exporter": "python",
      "pygments_lexer": "ipython3",
      "version": "3.11.2"
    },
    "vscode": {
      "interpreter": {
        "hash": "ee4198aac13dae9b6fccd443041680d99c2643c4956ef7c80ff6dcc0057cb523"
      }
    }
  },
  "nbformat": 4,
  "nbformat_minor": 0
}
