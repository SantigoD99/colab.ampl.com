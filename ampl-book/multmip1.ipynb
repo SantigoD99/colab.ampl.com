{
  "cells": [
    {
      "cell_type": "markdown",
      "metadata": {},
      "source": [
        "# Multicommodity transportation problem\n",
        "[![multmip1.ipynb](https://img.shields.io/badge/github-%23121011.svg?logo=github)](https://github.com/ampl/colab.ampl.com/blob/master/ampl-book/multmip1.ipynb) [![Open In Colab](https://colab.research.google.com/assets/colab-badge.svg)](https://colab.research.google.com/github/ampl/colab.ampl.com/blob/master/ampl-book/multmip1.ipynb) [![Kaggle](https://kaggle.com/static/images/open-in-kaggle.svg)](https://kaggle.com/kernels/welcome?src=https://github.com/ampl/colab.ampl.com/blob/master/ampl-book/multmip1.ipynb) [![Gradient](https://assets.paperspace.io/img/gradient-badge.svg)](https://console.paperspace.com/github/ampl/colab.ampl.com/blob/master/ampl-book/multmip1.ipynb) [![Open In SageMaker Studio Lab](https://studiolab.sagemaker.aws/studiolab.svg)](https://studiolab.sagemaker.aws/import/github/ampl/colab.ampl.com/blob/master/ampl-book/multmip1.ipynb) [![Hits](https://h.ampl.com/https://github.com/ampl/colab.ampl.com/blob/master/ampl-book/multmip1.ipynb)](https://colab.ampl.com)\n",
        "\n",
        "Description: Multicommodity transportation model with binary variables\n",
        "\n",
        "Tags: ampl-only, ampl-book, mixed-integer-linear\n",
        "\n",
        "Notebook author: Marcos Dominguez Velad <<marcos@ampl.com>>\n",
        "\n",
        "Model author: N/A\n"
      ]
    },
    {
      "cell_type": "code",
      "execution_count": 1,
      "metadata": {},
      "outputs": [],
      "source": [
        "# Install dependencies\n",
        "%pip install -q amplpy"
      ]
    },
    {
      "cell_type": "code",
      "execution_count": 2,
      "metadata": {},
      "outputs": [],
      "source": [
        "# Google Colab & Kaggle integration\n",
        "from amplpy import AMPL, ampl_notebook\n",
        "\n",
        "ampl = ampl_notebook(\n",
        "    modules=[\"coin\"],  # modules to install\n",
        "    license_uuid=\"default\",  # license to use\n",
        ")  # instantiate AMPL object and register magics"
      ]
    },
    {
      "cell_type": "markdown",
      "metadata": {},
      "source": [
        "## Model\n",
        "\n",
        "There are a set of *origin* nodes, a set of *destination* nodes, and products to be demanded/supplied from origins to destinations. \n",
        "\n",
        "* Sets:\n",
        "    * `ORIG`: origin cities that supply products\n",
        "    * `DEST`: final cities that demand and receive products\n",
        "    * `PROD`: set of products to deliver\n",
        "* Parameters:\n",
        "    * `supply {ORIG,PROD}`: amounts of product available at origins\n",
        "    * `demand {DEST,PROD}`: amounts required at destinations\n",
        "    * `limit {ORIG,DEST}`: maximum capacity on routes between two nodes\n",
        "    * `vcost {ORIG,DEST,PROD}`: variable shipment cost on routes that depends on the units of product sent\n",
        "    * `fcost {ORIG,DEST}`: fixed cost for using a route\n",
        "* Variables:\n",
        "    * `Trans {ORIG,DEST,PROD}`: units to be shipped\n",
        "    * `Use {ORIG,DEST}`: **binary** variable equals to 1 if route is used, else 0\n",
        "* Objective: minimize total cost\n",
        "\n",
        "$$ \\sum \\limits_{\\substack{i \\in ORIG \\\\ j \\in DEST \\\\ p \\in PROD}} vcost[i,j,p] \\cdot Trans[i,j,p]\n",
        " + \\sum \\limits_{\\substack{i \\in ORIG \\\\ j \\in DEST}} fcost[i,j] \\cdot Use[i,j]$$\n",
        "\n",
        "* Constraints:\n",
        "    * `Supply {ORIG,PROD}`: node ships units equal to supply capacity\n",
        "    \n",
        "    $$\\sum \\limits_{j \\in DEST} Trans[i,j,p] = supply[i,p]$$\n",
        "    \n",
        "    * `Demand {DEST,PROD}`: node gets units equal to demand\n",
        "    \n",
        "    $$\\sum \\limits_{i \\in ORIG} Trans[i,j,p] = demand[j,p]$$\n",
        "    \n",
        "    * `Multi {ORIG,DEST}`: links capacity is bounded\n",
        "    \n",
        "    $$\\sum \\limits_{p \\in PROD} Trans[i,j,p] \\leq limit[i,j] \\cdot Use[i,j]$$"
      ]
    },
    {
      "cell_type": "code",
      "execution_count": 3,
      "metadata": {},
      "outputs": [
        {
          "name": "stdout",
          "output_type": "stream",
          "text": [
            "Writing multmip1.mod\n"
          ]
        }
      ],
      "source": [
        "%%writefile multmip1.mod\n",
        "set ORIG;   # origins\n",
        "set DEST;   # destinations\n",
        "set PROD;   # products\n",
        "\n",
        "param supply {ORIG,PROD} >= 0;  # amounts available at origins\n",
        "param demand {DEST,PROD} >= 0;  # amounts required at destinations\n",
        "\n",
        "   check {p in PROD}:\n",
        "      sum {i in ORIG} supply[i,p] = sum {j in DEST} demand[j,p];\n",
        "\n",
        "param limit {ORIG,DEST} >= 0;   # maximum shipments on routes\n",
        "\n",
        "param vcost {ORIG,DEST,PROD} >= 0; # variable shipment cost on routes\n",
        "var Trans {ORIG,DEST,PROD} >= 0;   # units to be shipped\n",
        "\n",
        "param fcost {ORIG,DEST} >= 0;      # fixed cost for using a route\n",
        "var Use {ORIG,DEST} binary;        # = 1 only for routes used\n",
        "\n",
        "minimize Total_Cost:\n",
        "   sum {i in ORIG, j in DEST, p in PROD} vcost[i,j,p] * Trans[i,j,p]\n",
        " + sum {i in ORIG, j in DEST} fcost[i,j] * Use[i,j];\n",
        "\n",
        "subject to Supply {i in ORIG, p in PROD}:\n",
        "   sum {j in DEST} Trans[i,j,p] = supply[i,p];\n",
        "\n",
        "subject to Demand {j in DEST, p in PROD}:\n",
        "   sum {i in ORIG} Trans[i,j,p] = demand[j,p];\n",
        "\n",
        "subject to Multi {i in ORIG, j in DEST}:\n",
        "   sum {p in PROD} Trans[i,j,p] <= limit[i,j] * Use[i,j];\n"
      ]
    },
    {
      "cell_type": "code",
      "execution_count": 4,
      "metadata": {},
      "outputs": [
        {
          "name": "stdout",
          "output_type": "stream",
          "text": [
            "Writing multmip1.dat\n"
          ]
        }
      ],
      "source": [
        "%%writefile multmip1.dat\n",
        "data;\n",
        "\n",
        "set ORIG := GARY CLEV PITT ;\n",
        "set DEST := FRA DET LAN WIN STL FRE LAF ;\n",
        "set PROD := bands coils plate ;\n",
        "\n",
        "param supply (tr):  GARY   CLEV   PITT :=\n",
        "            bands    400    700    800\n",
        "            coils    800   1600   1800\n",
        "            plate    200    300    300 ;\n",
        "\n",
        "param demand (tr):\n",
        "               FRA  DET  LAN  WIN  STL  FRE  LAF :=\n",
        "       bands   300  300  100   75  650  225  250\n",
        "       coils   500  750  400  250  950  850  500\n",
        "       plate   100  100    0   50  200  100  250 ;\n",
        "\n",
        "param limit default 625 ;\n",
        "\n",
        "param vcost :=\n",
        "\n",
        " [*,*,bands]:  FRA  DET  LAN  WIN  STL  FRE  LAF :=\n",
        "        GARY    30   10    8   10   11   71    6\n",
        "        CLEV    22    7   10    7   21   82   13\n",
        "        PITT    19   11   12   10   25   83   15\n",
        "\n",
        " [*,*,coils]:  FRA  DET  LAN  WIN  STL  FRE  LAF :=\n",
        "        GARY    39   14   11   14   16   82    8\n",
        "        CLEV    27    9   12    9   26   95   17\n",
        "        PITT    24   14   17   13   28   99   20\n",
        "\n",
        " [*,*,plate]:  FRA  DET  LAN  WIN  STL  FRE  LAF :=\n",
        "        GARY    41   15   12   16   17   86    8\n",
        "        CLEV    29    9   13    9   28   99   18\n",
        "        PITT    26   14   17   13   31  104   20 ;\n",
        "\n",
        "param fcost:   FRA  DET  LAN  WIN  STL  FRE  LAF :=\n",
        "        GARY  3000 1200 1200 1200 2500 3500 2500\n",
        "        CLEV  2000 1000 1500 1200 2500 3000 2200\n",
        "        PITT  2000 1200 1500 1500 2500 3500 2200 ;\n",
        "\n"
      ]
    },
    {
      "cell_type": "code",
      "execution_count": 5,
      "metadata": {},
      "outputs": [
        {
          "name": "stdout",
          "output_type": "stream",
          "text": [
            "CBC 2.10.5: \b\b\b\b\b\b\b\b\b\b\b\bCBC 2.10.5 optimal, objective 229850\n",
            "6 nodes, 1785 iterations, 0.457534 seconds\n",
            "Use [*,*]\n",
            ":    DET FRA FRE LAF LAN STL WIN    :=\n",
            "CLEV   1   1   0   1   1   1   1\n",
            "GARY   0   0   1   0   1   1   0\n",
            "PITT   1   1   1   1   0   1   0\n",
            ";\n",
            "\n",
            "Trans [CLEV,*,*]\n",
            ":   bands coils plate    :=\n",
            "DET     0   525   100\n",
            "FRA   275     0     0\n",
            "FRE     0     0     0\n",
            "LAF     0   375    50\n",
            "LAN     0   350     0\n",
            "STL   350   100   100\n",
            "WIN    75   250    50\n",
            "\n",
            " [GARY,*,*]\n",
            ":   bands coils plate    :=\n",
            "DET     0     0     0\n",
            "FRA     0     0     0\n",
            "FRE     0   525   100\n",
            "LAF     0     0     0\n",
            "LAN   100    50     0\n",
            "STL   300   225   100\n",
            "WIN     0     0     0\n",
            "\n",
            " [PITT,*,*]\n",
            ":   bands coils plate    :=\n",
            "DET   300   225     0\n",
            "FRA    25   500   100\n",
            "FRE   225   325     0\n",
            "LAF   250   125   200\n",
            "LAN     0     0     0\n",
            "STL     0   625     0\n",
            "WIN     0     0     0\n",
            ";\n",
            "\n"
          ]
        }
      ],
      "source": [
        "%%ampl_eval\n",
        "model multmip1.mod;\n",
        "data multmip1.dat;\n",
        "option solver cbc;\n",
        "solve;\n",
        "option display_eps .000001;\n",
        "option display_transpose -10;\n",
        "display Use;\n",
        "display Trans;"
      ]
    }
  ],
  "metadata": {
    "kernelspec": {
      "display_name": "Python 3.9.13 ('venv': venv)",
      "language": "python",
      "name": "python3"
    },
    "language_info": {
      "codemirror_mode": {
        "name": "ipython",
        "version": 3
      },
      "file_extension": ".py",
      "mimetype": "text/x-python",
      "name": "python",
      "nbconvert_exporter": "python",
      "pygments_lexer": "ipython3",
      "version": "3.9.13"
    },
    "vscode": {
      "interpreter": {
        "hash": "ee4198aac13dae9b6fccd443041680d99c2643c4956ef7c80ff6dcc0057cb523"
      }
    }
  },
  "nbformat": 4,
  "nbformat_minor": 2
}
