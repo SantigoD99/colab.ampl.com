{
  "cells": [
    {
      "cell_type": "markdown",
      "metadata": {},
      "source": [
        "# Book Example: Transshipment problem\n",
        "[![net1.ipynb](https://img.shields.io/badge/github-%23121011.svg?logo=github)](https://github.com/ampl/colab.ampl.com/blob/master/ampl-book/net1.ipynb) [![Open In Colab](https://colab.research.google.com/assets/colab-badge.svg)](https://colab.research.google.com/github/ampl/colab.ampl.com/blob/master/ampl-book/net1.ipynb) [![Kaggle](https://kaggle.com/static/images/open-in-kaggle.svg)](https://kaggle.com/kernels/welcome?src=https://github.com/ampl/colab.ampl.com/blob/master/ampl-book/net1.ipynb) [![Gradient](https://assets.paperspace.io/img/gradient-badge.svg)](https://console.paperspace.com/github/ampl/colab.ampl.com/blob/master/ampl-book/net1.ipynb) [![Open In SageMaker Studio Lab](https://studiolab.sagemaker.aws/studiolab.svg)](https://studiolab.sagemaker.aws/import/github/ampl/colab.ampl.com/blob/master/ampl-book/net1.ipynb) [![Hits](https://h.ampl.com/https://github.com/ampl/colab.ampl.com/blob/master/ampl-book/net1.ipynb)](https://colab.ampl.com)\n",
        "\n",
        "Description: book example with general transshipment model (net1.mod)\n",
        "\n",
        "Tags: ampl-only, ampl-book\n",
        "\n",
        "Notebook author: Marcos Dominguez Velad <<marcos@ampl.com>>\n",
        "\n",
        "Model author: N/A\n"
      ]
    },
    {
      "cell_type": "code",
      "execution_count": 1,
      "metadata": {},
      "outputs": [],
      "source": [
        "# Install dependencies\n",
        "%pip install -q amplpy"
      ]
    },
    {
      "cell_type": "code",
      "execution_count": 2,
      "metadata": {},
      "outputs": [],
      "source": [
        "# Google Colab & Kaggle integration\n",
        "from amplpy import AMPL, ampl_notebook\n",
        "\n",
        "ampl = ampl_notebook(\n",
        "    modules=[\"coin\"],  # modules to install\n",
        "    license_uuid=\"default\",  # license to use\n",
        ")  # instantiate AMPL object and register magics"
      ]
    },
    {
      "cell_type": "markdown",
      "metadata": {},
      "source": [
        "## General transshipment model\n",
        "\n",
        "This is a general formulation for shipments from city to city problems based on the Chapter 15 of the AMPL book. It will be modeled as a net, where nodes are cities and edges the roads/links between two cities.\n",
        "\n",
        "* Sets:\n",
        "    * `CITIES`\n",
        "    * `LINKS within {CITIES cross CITIES}` subset of the cartesian product `CITIES`$\\times$`CITIES`\n",
        "* Parameters:\n",
        "    * `supply {CITIES}`: supplied packages by each city\n",
        "    * `demand {CITIES}`: demanded packages by each city\n",
        "    * `cost {LINKS}`: cost when using a link between cities\n",
        "    * `capacity {LINKS}`: capacity of a link (links are assumed to be independent)\n",
        "* Variables:\n",
        "    * `Ship {LINKS}`\n",
        "* Objective: minimize total cost of shipping over all of the links.\n",
        "* \n",
        "$$\n",
        "    \\sum \\limits_{(i,j) \\in LINKS} cost[i,j] \\cdot Ship[i,j]\n",
        "$$\n",
        "\n",
        "* Constraints:\n",
        "    * `Balance {CITIES}`: incoming and supplied packages are equal to outcoming and demanded packages. For each city `k`\n",
        "\n",
        "$$\n",
        "    supply[k]+\\sum \\limits_{(i,k) \\in LINKS} Ship[i,k] \\ = \\ demand[k]+\\sum \\limits_{(k,j) \\in LINKS} Ship[k,j]\n",
        "$$"
      ]
    },
    {
      "cell_type": "code",
      "execution_count": 3,
      "metadata": {},
      "outputs": [
        {
          "name": "stdout",
          "output_type": "stream",
          "text": [
            "Writing net1.mod\n"
          ]
        }
      ],
      "source": [
        "%%writefile net1.mod\n",
        "set CITIES;\n",
        "set LINKS within (CITIES cross CITIES);\n",
        "\n",
        "param supply {CITIES} >= 0;   # amounts available at cities\n",
        "param demand {CITIES} >= 0;   # amounts required at cities\n",
        "\n",
        "check: sum {i in CITIES} supply[i] = sum {j in CITIES} demand[j];\n",
        "\n",
        "param cost {LINKS} >= 0;      # shipment costs/1000 packages\n",
        "param capacity {LINKS} >= 0;  # max packages that can be shipped\n",
        "\n",
        "var Ship {(i,j) in LINKS} >= 0, <= capacity[i,j]; \n",
        "                              # packages to be shipped\n",
        "\n",
        "minimize Total_Cost:\n",
        "   sum {(i,j) in LINKS} cost[i,j] * Ship[i,j];\n",
        "\n",
        "subject to Balance {k in CITIES}:\n",
        "   supply[k] + sum {(i,k) in LINKS} Ship[i,k] \n",
        "      = demand[k] + sum {(k,j) in LINKS} Ship[k,j];\n",
        "\n"
      ]
    },
    {
      "cell_type": "code",
      "execution_count": 4,
      "metadata": {},
      "outputs": [
        {
          "name": "stdout",
          "output_type": "stream",
          "text": [
            "Writing net1.dat\n"
          ]
        }
      ],
      "source": [
        "%%writefile net1.dat\n",
        "data;\n",
        "\n",
        "set CITIES := PITT  NE SE  BOS EWR BWI ATL MCO ;\n",
        "\n",
        "set LINKS := (PITT,NE) (PITT,SE)\n",
        "             (NE,BOS) (NE,EWR) (NE,BWI)\n",
        "             (SE,EWR) (SE,BWI) (SE,ATL) (SE,MCO);\n",
        "\n",
        "param supply  default 0 := PITT 450 ;\n",
        "\n",
        "param demand  default 0 :=\n",
        "  BOS  90,  EWR 120,  BWI 120,  ATL  70,  MCO  50;\n",
        "\n",
        "param:      cost  capacity  :=\n",
        "  PITT NE    2.5    250\n",
        "  PITT SE    3.5    250\n",
        "\n",
        "  NE BOS     1.7    100\n",
        "  NE EWR     0.7    100\n",
        "  NE BWI     1.3    100\n",
        "\n",
        "  SE EWR     1.3    100\n",
        "  SE BWI     0.8    100\n",
        "  SE ATL     0.2    100\n",
        "  SE MCO     2.1    100 ;\n"
      ]
    },
    {
      "cell_type": "code",
      "execution_count": 5,
      "metadata": {},
      "outputs": [
        {
          "name": "stdout",
          "output_type": "stream",
          "text": [
            "CBC 2.10.5: \b\b\b\b\b\b\b\b\b\b\b\bCBC 2.10.5 optimal, objective 1819\n",
            "1 iterations\n",
            "Ship :=\n",
            "NE   BOS    90\n",
            "NE   BWI    60\n",
            "NE   EWR   100\n",
            "PITT NE    250\n",
            "PITT SE    200\n",
            "SE   ATL    70\n",
            "SE   BWI    60\n",
            "SE   EWR    20\n",
            "SE   MCO    50\n",
            ";\n",
            "\n"
          ]
        }
      ],
      "source": [
        "%%ampl_eval\n",
        "model net1.mod;\n",
        "data net1.dat;\n",
        "option solver cbc;\n",
        "solve;\n",
        "display Ship;\n"
      ]
    }
  ],
  "metadata": {
    "kernelspec": {
      "display_name": "Python 3.9.13 ('venv': venv)",
      "language": "python",
      "name": "python3"
    },
    "language_info": {
      "codemirror_mode": {
        "name": "ipython",
        "version": 3
      },
      "file_extension": ".py",
      "mimetype": "text/x-python",
      "name": "python",
      "nbconvert_exporter": "python",
      "pygments_lexer": "ipython3",
      "version": "3.9.13"
    },
    "vscode": {
      "interpreter": {
        "hash": "ee4198aac13dae9b6fccd443041680d99c2643c4956ef7c80ff6dcc0057cb523"
      }
    }
  },
  "nbformat": 4,
  "nbformat_minor": 2
}
