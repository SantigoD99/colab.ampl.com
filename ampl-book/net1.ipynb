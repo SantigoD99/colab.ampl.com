{
  "cells": [
    {
      "cell_type": "markdown",
      "metadata": {
        "id": "e0H12cjqB9DC"
      },
      "source": [
        "# Book Example: Transshipment problem\n",
        "[![net1.ipynb](https://img.shields.io/badge/github-%23121011.svg?logo=github)](https://github.com/ampl/colab.ampl.com/blob/master/ampl-book/net1.ipynb) [![Open In Colab](https://colab.research.google.com/assets/colab-badge.svg)](https://colab.research.google.com/github/ampl/colab.ampl.com/blob/master/ampl-book/net1.ipynb) [![Open In Deepnote](https://deepnote.com/buttons/launch-in-deepnote-small.svg)](https://deepnote.com/launch?url=https://github.com/ampl/colab.ampl.com/blob/master/ampl-book/net1.ipynb) [![Open In Kaggle](https://kaggle.com/static/images/open-in-kaggle.svg)](https://kaggle.com/kernels/welcome?src=https://github.com/ampl/colab.ampl.com/blob/master/ampl-book/net1.ipynb) [![Open In Gradient](https://assets.paperspace.io/img/gradient-badge.svg)](https://console.paperspace.com/github/ampl/colab.ampl.com/blob/master/ampl-book/net1.ipynb) [![Open In SageMaker Studio Lab](https://studiolab.sagemaker.aws/studiolab.svg)](https://studiolab.sagemaker.aws/import/github/ampl/colab.ampl.com/blob/master/ampl-book/net1.ipynb) [![Powered by AMPL](https://h.ampl.com/https://github.com/ampl/colab.ampl.com/blob/master/ampl-book/net1.ipynb)](https://ampl.com)\n",
        "\n",
        "Description: Basic book example with general transshipment model (net1.mod)\n",
        "\n",
        "Tags: ampl-book, cbc, transportation\n",
        "\n",
        "Notebook author: Marcos Dominguez Velad <<marcos@ampl.com>>\n",
        "\n",
        "Model author: N/A\n"
      ]
    },
    {
      "cell_type": "code",
      "execution_count": 1,
      "metadata": {
        "id": "qC5Hm8R5B9DG"
      },
      "outputs": [],
      "source": [
        "# Install dependencies\n",
        "%pip install -q amplpy pandas"
      ]
    },
    {
      "cell_type": "code",
      "execution_count": 2,
      "metadata": {
        "id": "KCSf8zK8B9DH",
        "outputId": "0472a835-8e56-4b7a-8bc1-6d98d9d3e170",
        "colab": {
          "base_uri": "https://localhost:8080/"
        }
      },
      "outputs": [],
      "source": [
        "# Google Colab & Kaggle integration\n",
        "from amplpy import AMPL, ampl_notebook\n",
        "\n",
        "ampl = ampl_notebook(\n",
        "    modules=[\"coin\"],  # modules to install\n",
        "    license_uuid=\"default\",  # license to use\n",
        ")  # instantiate AMPL object and register magics"
      ]
    },
    {
      "cell_type": "markdown",
      "metadata": {
        "id": "xLzGnZ20B9DH"
      },
      "source": [
        "## General transshipment model\n",
        "\n",
        "This is a general formulation for shipments from city to city problems based on the Chapter 15 of the AMPL book. It will be modeled as a net, where nodes are cities and edges the roads/links between two cities.\n",
        "\n",
        "* Sets:\n",
        "    * `CITIES`\n",
        "    * `LINKS within {CITIES cross CITIES}` subset of the cartesian product `CITIES`$\\times$`CITIES`\n",
        "* Parameters:\n",
        "    * `supply {CITIES}`: supplied packages by each city\n",
        "    * `demand {CITIES}`: demanded packages by each city\n",
        "    * `cost {LINKS}`: cost when using a link between cities\n",
        "    * `capacity {LINKS}`: capacity of a link (links are assumed to be independent)\n",
        "* Variables:\n",
        "    * `Ship {LINKS}`\n",
        "* Objective: minimize total cost of shipping over all of the links.\n",
        "*\n",
        "$$\n",
        "    \\sum \\limits_{(i,j) \\in LINKS} cost[i,j] \\cdot Ship[i,j]\n",
        "$$\n",
        "\n",
        "* Constraints:\n",
        "    * `Balance {CITIES}`: incoming and supplied packages are equal to outcoming and demanded packages. For each city `k`\n",
        "\n",
        "$$\n",
        "    supply[k]+\\sum \\limits_{(i,k) \\in LINKS} Ship[i,k] \\ = \\ demand[k]+\\sum \\limits_{(k,j) \\in LINKS} Ship[k,j]\n",
        "$$"
      ]
    },
    {
      "cell_type": "code",
      "execution_count": 3,
      "metadata": {
        "id": "tUo8Lm8HB9DI",
        "outputId": "8e8da328-e6e9-437a-f4eb-248dfc89cbd4",
        "colab": {
          "base_uri": "https://localhost:8080/"
        }
      },
      "outputs": [
        {
          "output_type": "stream",
          "name": "stdout",
          "text": [
            "Overwriting net1.mod\n"
          ]
        }
      ],
      "source": [
        "%%writefile net1.mod\n",
        "set CITIES;\n",
        "set LINKS within (CITIES cross CITIES);\n",
        "\n",
        "param supply {CITIES} >= 0 default 0;   # amounts available at cities\n",
        "param demand {CITIES} >= 0 default 0;   # amounts required at cities\n",
        "\n",
        "check: sum {i in CITIES} supply[i] = sum {j in CITIES} demand[j];\n",
        "\n",
        "param cost {LINKS} >= 0;      # shipment costs/1000 packages\n",
        "param capacity {LINKS} >= 0;  # max packages that can be shipped\n",
        "\n",
        "var Ship {(i,j) in LINKS} >= 0, <= capacity[i,j];\n",
        "                              # packages to be shipped\n",
        "\n",
        "minimize Total_Cost:\n",
        "   sum {(i,j) in LINKS} cost[i,j] * Ship[i,j];\n",
        "\n",
        "subject to Balance {k in CITIES}:\n",
        "   supply[k] + sum {(i,k) in LINKS} Ship[i,k]\n",
        "      = demand[k] + sum {(k,j) in LINKS} Ship[k,j];\n",
        "\n"
      ]
    },
    {
      "cell_type": "code",
      "execution_count": 4,
      "metadata": {
        "id": "wzrjpnvyB9DJ"
      },
      "outputs": [],
      "source": [
        "import pandas as pd\n",
        "\n",
        "# Set of cities\n",
        "cities = [\"PITT\", \"NE\", \"SE\", \"BOS\", \"EWR\", \"BWI\", \"ATL\", \"MCO\"]\n",
        "\n",
        "# Set of links (edges between cities)\n",
        "links = [\n",
        "    (\"PITT\", \"NE\"),\n",
        "    (\"PITT\", \"SE\"),\n",
        "    (\"NE\", \"BOS\"),\n",
        "    (\"NE\", \"EWR\"),\n",
        "    (\"NE\", \"BWI\"),\n",
        "    (\"SE\", \"EWR\"),\n",
        "    (\"SE\", \"BWI\"),\n",
        "    (\"SE\", \"ATL\"),\n",
        "    (\"SE\", \"MCO\"),\n",
        "]\n",
        "\n",
        "supply = {}\n",
        "supply[\"PITT\"] = 450\n",
        "\n",
        "demand = {\"BOS\": 90, \"EWR\": 120, \"BWI\": 120, \"ATL\": 70, \"MCO\": 50}\n",
        "\n",
        "# Cost and capacity per link\n",
        "cost_capacity_data = {\n",
        "    (\"PITT\", \"NE\"): {\"cost\": 2.5, \"capacity\": 250},\n",
        "    (\"PITT\", \"SE\"): {\"cost\": 3.5, \"capacity\": 250},\n",
        "    (\"NE\", \"BOS\"): {\"cost\": 1.7, \"capacity\": 100},\n",
        "    (\"NE\", \"EWR\"): {\"cost\": 0.7, \"capacity\": 100},\n",
        "    (\"NE\", \"BWI\"): {\"cost\": 1.3, \"capacity\": 100},\n",
        "    (\"SE\", \"EWR\"): {\"cost\": 1.3, \"capacity\": 100},\n",
        "    (\"SE\", \"BWI\"): {\"cost\": 0.8, \"capacity\": 100},\n",
        "    (\"SE\", \"ATL\"): {\"cost\": 0.2, \"capacity\": 100},\n",
        "    (\"SE\", \"MCO\"): {\"cost\": 2.1, \"capacity\": 100},\n",
        "}\n",
        "\n",
        "# Convert cost and capacity into a DataFrame\n",
        "cost_capacity_df = pd.DataFrame.from_dict(cost_capacity_data, orient=\"index\")\n",
        "cost_capacity_df.index = pd.MultiIndex.from_tuples(\n",
        "    cost_capacity_df.index, names=[\"from\", \"to\"]\n",
        ")"
      ]
    },
    {
      "cell_type": "code",
      "execution_count": 5,
      "metadata": {
        "id": "CSHA4nraB9DJ",
        "outputId": "e7fef973-caf9-4eeb-d4bc-71fd61f7ec86",
        "colab": {
          "base_uri": "https://localhost:8080/"
        }
      },
      "outputs": [
        {
          "output_type": "stream",
          "name": "stdout",
          "text": [
            "cbc 2.10.12: \b\b\b\b\b\b\b\b\b\b\b\b\bcbc 2.10.12: optimal solution; objective 1819\n",
            "0 simplex iterations\n",
            "Ship :=\n",
            "NE   BOS    90\n",
            "NE   BWI    60\n",
            "NE   EWR   100\n",
            "PITT NE    250\n",
            "PITT SE    200\n",
            "SE   ATL    70\n",
            "SE   BWI    60\n",
            "SE   EWR    20\n",
            "SE   MCO    50\n",
            ";\n",
            "\n"
          ]
        }
      ],
      "source": [
        "# Read the model\n",
        "ampl.read(\"net1.mod\")\n",
        "\n",
        "# Load data\n",
        "ampl.set[\"CITIES\"] = cities\n",
        "ampl.set[\"LINKS\"] = links\n",
        "\n",
        "ampl.param[\"supply\"] = supply\n",
        "ampl.param[\"demand\"] = demand\n",
        "ampl.param[\"cost\"] = cost_capacity_df[\"cost\"]\n",
        "ampl.param[\"capacity\"] = cost_capacity_df[\"capacity\"]\n",
        "\n",
        "# Solve problem\n",
        "ampl.solve(solver=\"cbc\")\n",
        "\n",
        "# Display solution\n",
        "ampl.display(\"Ship\")"
      ]
    },
    {
      "cell_type": "code",
      "execution_count": 6,
      "metadata": {
        "id": "3KoBMcxtB9DK"
      },
      "outputs": [],
      "source": [
        "assert ampl.solve_result == \"solved\", ampl.solve_result"
      ]
    }
  ],
  "metadata": {
    "kernelspec": {
      "display_name": "Python 3.9.13 ('venv': venv)",
      "language": "python",
      "name": "python3"
    },
    "language_info": {
      "codemirror_mode": {
        "name": "ipython",
        "version": 3
      },
      "file_extension": ".py",
      "mimetype": "text/x-python",
      "name": "python",
      "nbconvert_exporter": "python",
      "pygments_lexer": "ipython3",
      "version": "3.9.13"
    },
    "vscode": {
      "interpreter": {
        "hash": "ee4198aac13dae9b6fccd443041680d99c2643c4956ef7c80ff6dcc0057cb523"
      }
    },
    "colab": {
      "provenance": []
    }
  },
  "nbformat": 4,
  "nbformat_minor": 0
}
