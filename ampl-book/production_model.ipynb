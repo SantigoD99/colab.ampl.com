{
  "cells": [
    {
      "cell_type": "markdown",
      "metadata": {},
      "source": [
        "# Production model\n",
        "[![production_model.ipynb](https://img.shields.io/badge/github-%23121011.svg?logo=github)](https://github.com/ampl/colab.ampl.com/blob/master/ampl-book/production_model.ipynb) [![Open In Colab](https://colab.research.google.com/assets/colab-badge.svg)](https://colab.research.google.com/github/ampl/colab.ampl.com/blob/master/ampl-book/production_model.ipynb) [![Kaggle](https://kaggle.com/static/images/open-in-kaggle.svg)](https://kaggle.com/kernels/welcome?src=https://github.com/ampl/colab.ampl.com/blob/master/ampl-book/production_model.ipynb) [![Gradient](https://assets.paperspace.io/img/gradient-badge.svg)](https://console.paperspace.com/github/ampl/colab.ampl.com/blob/master/ampl-book/production_model.ipynb) [![Open In SageMaker Studio Lab](https://studiolab.sagemaker.aws/studiolab.svg)](https://studiolab.sagemaker.aws/import/github/ampl/colab.ampl.com/blob/master/ampl-book/production_model.ipynb) [![Hits](https://h.ampl.com/https://github.com/ampl/colab.ampl.com/blob/master/ampl-book/production_model.ipynb)](https://colab.ampl.com)\n",
        "\n",
        "Description: generic model for production problem\n",
        "\n",
        "Tags: ampl-only, ampl-book, industry\n",
        "\n",
        "Notebook author: Marcos Dominguez Velad <<marcos@ampl.com>>\n",
        "\n",
        "Model author: N/A\n"
      ]
    },
    {
      "cell_type": "code",
      "execution_count": 1,
      "metadata": {},
      "outputs": [],
      "source": [
        "# Install dependencies\n",
        "%pip install -q amplpy"
      ]
    },
    {
      "cell_type": "code",
      "execution_count": 2,
      "metadata": {},
      "outputs": [],
      "source": [
        "# Google Colab & Kaggle integration\n",
        "from amplpy import AMPL, ampl_notebook\n",
        "\n",
        "ampl = ampl_notebook(\n",
        "    modules=[\"coin\"],  # modules to install\n",
        "    license_uuid=\"default\",  # license to use\n",
        ")  # instantiate AMPL object and register magics"
      ]
    },
    {
      "cell_type": "markdown",
      "metadata": {},
      "source": [
        "This notebook provides the implementation of the production problem described in the book *AMPL: A Modeling Language for Mathematical Programming*\n",
        "by Robert Fourer, David M. Gay, and Brian W. Kernighan.\n",
        "\n",
        "## Example: production model\n",
        "\n",
        "It is usual to adopt mathematical notation as a general and concise way of expressing problems based on variables, constraints, and objectives. We can write a compact description of the general form of a production problem, which we call a *model*, using algebraic notation for the objective and the constraints.\n",
        "\n",
        "### Algebraic formulation\n",
        "\n",
        "Given:\n",
        "\n",
        "* $P$, a set of products\n",
        "* $a_j$ = tons per hour of product $j$, for each $j \\in P$\n",
        "* $b$ = hours available at the mill\n",
        "* $c_j$ = profit per ton of product $j$, for each $j \\in P$\n",
        "* $u_j$ = maximum tons of product $j$, for each $j \\in P$\n",
        "\n",
        "Define variables:   $X_j$ = tons of product $j$ to be made, for each $j \\in P$.\n",
        "\n",
        "Maximize:\n",
        "\n",
        "$$\\sum \\limits_{j \\in P} c_j X_j$$\n",
        "\n",
        "Subject to:\n",
        "\n",
        "$$\\sum \\limits_{j \\in P} \\frac{1}{a_j} X_j \\leq b$$\n",
        "\n",
        "$$0 \\leq X_j \\leq u_j, \\text{ for each }j \\in P$$\n",
        "\n",
        "The model describes an infinite number of related optimization problems. If we provide specific values for data, however, the model becomes a specific problem, or instance of the model, that can be solved. Each different collection of data values defines a different instance.\n",
        "\n",
        "\n",
        "### Model implementation\n",
        "\n",
        "The general formulation above can be written with AMPL as follows:"
      ]
    },
    {
      "cell_type": "code",
      "execution_count": 3,
      "metadata": {},
      "outputs": [
        {
          "name": "stdout",
          "output_type": "stream",
          "text": [
            "Writing prod.mod\n"
          ]
        }
      ],
      "source": [
        "%%writefile prod.mod\n",
        "# Sets and parameters\n",
        "set P;\n",
        "\n",
        "param a {j in P};\n",
        "param b;\n",
        "param c {j in P};\n",
        "param u {j in P};\n",
        "\n",
        "# Variables\n",
        "var X {j in P};\n",
        "\n",
        "# Objective function\n",
        "maximize Total_Profit: sum {j in P} c[j] * X[j];\n",
        "\n",
        "# Time and Limits constraints\n",
        "subject to Time: sum {j in P} (1/a[j]) * X[j] <= b;\n",
        "\n",
        "subject to Limit {j in P}: 0 <= X[j] <= u[j];"
      ]
    },
    {
      "cell_type": "markdown",
      "metadata": {},
      "source": [
        "### Data\n",
        "\n",
        "Due to the model and data separation, the abstract formulation works for any correct data input we provide to AMPL. A possible instance of the production problem is the following:"
      ]
    },
    {
      "cell_type": "code",
      "execution_count": 4,
      "metadata": {},
      "outputs": [
        {
          "name": "stdout",
          "output_type": "stream",
          "text": [
            "Writing prod.dat\n"
          ]
        }
      ],
      "source": [
        "%%writefile prod.dat\n",
        "\n",
        "set P := bands coils;\n",
        "\n",
        "param:     a     c     u  :=\n",
        "  bands   200   25   6000\n",
        "  coils   140   30   4000 ;\n",
        "\n",
        "param b := 40;"
      ]
    },
    {
      "cell_type": "markdown",
      "metadata": {},
      "source": [
        "### Solve the problem\n",
        "\n",
        "We can load the generated model and data files, and solve them by using a linear solver as CBC. Finally, the solution (values for X) is displayed."
      ]
    },
    {
      "cell_type": "code",
      "execution_count": 5,
      "metadata": {},
      "outputs": [
        {
          "name": "stdout",
          "output_type": "stream",
          "text": [
            "CBC 2.10.5: \b\b\b\b\b\b\b\b\b\b\b\bCBC 2.10.5 optimal, objective 192000\n",
            "1 iterations\n",
            "\n",
            "\"option abs_boundtol 9.094947017729282e-13;\"\n",
            "or \"option rel_boundtol 1.5158245029548803e-16;\"\n",
            "will change deduced dual values.\n",
            "\n",
            "X [*] :=\n",
            "bands  6000\n",
            "coils  1400\n",
            ";\n",
            "\n"
          ]
        }
      ],
      "source": [
        "%%ampl_eval\n",
        "model prod.mod;\n",
        "data prod.dat;\n",
        "option solver cbc;\n",
        "solve;\n",
        "display X;"
      ]
    }
  ],
  "metadata": {
    "kernelspec": {
      "display_name": "Python 3.9.13 ('venv': venv)",
      "language": "python",
      "name": "python3"
    },
    "language_info": {
      "codemirror_mode": {
        "name": "ipython",
        "version": 3
      },
      "file_extension": ".py",
      "mimetype": "text/x-python",
      "name": "python",
      "nbconvert_exporter": "python",
      "pygments_lexer": "ipython3",
      "version": "3.9.13"
    },
    "vscode": {
      "interpreter": {
        "hash": "ee4198aac13dae9b6fccd443041680d99c2643c4956ef7c80ff6dcc0057cb523"
      }
    }
  },
  "nbformat": 4,
  "nbformat_minor": 2
}
