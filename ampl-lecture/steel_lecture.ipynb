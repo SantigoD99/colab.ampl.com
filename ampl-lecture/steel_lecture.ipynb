{
  "cells": [
    {
      "cell_type": "markdown",
      "metadata": {},
      "source": [
        "# Steel industry problem\n",
        "[![steel_lecture.ipynb](https://img.shields.io/badge/github-%23121011.svg?logo=github)](https://github.com/ampl/colab.ampl.com/blob/master/ampl-lecture/steel_lecture.ipynb) [![Open In Colab](https://colab.research.google.com/assets/colab-badge.svg)](https://colab.research.google.com/github/ampl/colab.ampl.com/blob/master/ampl-lecture/steel_lecture.ipynb) [![Kaggle](https://kaggle.com/static/images/open-in-kaggle.svg)](https://kaggle.com/kernels/welcome?src=https://github.com/ampl/colab.ampl.com/blob/master/ampl-lecture/steel_lecture.ipynb) [![Gradient](https://assets.paperspace.io/img/gradient-badge.svg)](https://console.paperspace.com/github/ampl/colab.ampl.com/blob/master/ampl-lecture/steel_lecture.ipynb) [![Open In SageMaker Studio Lab](https://studiolab.sagemaker.aws/studiolab.svg)](https://studiolab.sagemaker.aws/import/github/ampl/colab.ampl.com/blob/master/ampl-lecture/steel_lecture.ipynb) [![Hits](https://h.ampl.com/https://github.com/ampl/colab.ampl.com/blob/master/ampl-lecture/steel_lecture.ipynb)](https://colab.ampl.com)\n",
        "\n",
        "Description: model for steel production problem\n",
        "\n",
        "Tags: ampl-only, ampl-lecture, industry\n",
        "\n",
        "Notebook author: Marcos Dominguez Velad <<marcos@ampl.com>>\n",
        "\n",
        "Model author: N/A\n"
      ]
    },
    {
      "cell_type": "code",
      "execution_count": 1,
      "metadata": {},
      "outputs": [],
      "source": [
        "# Install dependencies\n",
        "%pip install -q amplpy"
      ]
    },
    {
      "cell_type": "code",
      "execution_count": 2,
      "metadata": {},
      "outputs": [],
      "source": [
        "# Google Colab & Kaggle integration\n",
        "from amplpy import AMPL, ampl_notebook\n",
        "\n",
        "ampl = ampl_notebook(\n",
        "    modules=[\"coin\"],  # modules to install\n",
        "    license_uuid=\"default\",  # license to use\n",
        ")  # instantiate AMPL object and register magics"
      ]
    },
    {
      "cell_type": "markdown",
      "metadata": {},
      "source": [
        "This notebook provides the implementation of the production problem described in the book *AMPL: A Modeling Language for Mathematical Programming*\n",
        "by Robert Fourer, David M. Gay, and Brian W. Kernighan.\n",
        "\n",
        "## Example: steel model\n",
        "\n",
        "This is an application of a generic production formulation described in the AMPL book with the following algebraic description, given:\n",
        "\n",
        "* $P$, a set of products\n",
        "* $a_j$ = tons per hour of product $j$, for each $j \\in P$\n",
        "* $b$ = hours available at the mill\n",
        "* $c_j$ = profit per ton of product $j$, for each $j \\in P$\n",
        "* $u_j$ = maximum tons of product $j$, for each $j \\in P$\n",
        "\n",
        "Define variables:   $X_j$ = tons of product $j$ to be made, for each $j \\in P$.\n",
        "\n",
        "Maximize:\n",
        "\n",
        "$$\\sum \\limits_{j \\in P} c_j X_j$$\n",
        "\n",
        "Subject to:\n",
        "\n",
        "$$\\sum \\limits_{j \\in P} \\frac{1}{a_j} X_j \\leq b$$\n",
        "\n",
        "$$0 \\leq X_j \\leq u_j, \\text{ for each }j \\in P$$\n",
        "\n",
        "We need not feel constrained by all the conventions of algebra, and we can instead consider changes that might make the model easier to work with when writing the model in AMPL. The short \"mathematical\" names for the sets, parameters and variables can be replaced by longer, more meaningful ones. These changes produce the following model:"
      ]
    },
    {
      "cell_type": "code",
      "execution_count": 3,
      "metadata": {},
      "outputs": [
        {
          "name": "stdout",
          "output_type": "stream",
          "text": [
            "Writing steel.mod\n"
          ]
        }
      ],
      "source": [
        "%%writefile steel.mod\n",
        "set PROD;  # products\n",
        "\n",
        "param rate {PROD} > 0;     # tons produced per hour\n",
        "param avail >= 0;          # hours available in week\n",
        "\n",
        "param profit {PROD};       # profit per ton\n",
        "param market {PROD} >= 0;  # limit on tons sold in week\n",
        "\n",
        "var Make {p in PROD} >= 0, <= market[p]; # tons produced\n",
        "\n",
        "maximize Total_Profit: sum {p in PROD} profit[p] * Make[p];\n",
        "\n",
        "               # Objective: total profits from all products\n",
        "\n",
        "subject to Time: sum {p in PROD} (1/rate[p]) * Make[p] <= avail;\n",
        "\n",
        "               # Constraint: total of hours used by all\n",
        "               # products may not exceed hours available"
      ]
    },
    {
      "cell_type": "markdown",
      "metadata": {},
      "source": [
        "The indexing expressions have become {p in PROD}, or just {PROD} in those declarations that do not use the index p. The bounds on variables have been placed within their var declaration, rather than in a separate constraint; analogous bounds have been placed on the parameters, to indicate the ones that must be positive or nonnegative in any meaningful linear program derived from the model.\n",
        "\n",
        "Finally, comments have been added to help explain the model. Comments begin with # and end at the end of the line. As in any programming language, judicious use of meaningful names, comments and formatting helps to make AMPL models more readable and understandable.\n",
        "\n",
        "There are always many ways to describe a particular model in AMPL. It is left to the modeler to pick the way that seems clearest or most convenient. Our earlier, mathematical approach is often preferred for working quickly with a familiar model. On the other hand, the second version is more attractive for a model that will be maintained and modified by several people over months or years."
      ]
    },
    {
      "cell_type": "code",
      "execution_count": 4,
      "metadata": {},
      "outputs": [
        {
          "name": "stdout",
          "output_type": "stream",
          "text": [
            "Writing steel.dat\n"
          ]
        }
      ],
      "source": [
        "%%writefile steel.dat\n",
        "data;\n",
        "\n",
        "set PROD := bands coils;\n",
        "\n",
        "param:    rate  profit  market :=\n",
        "  bands    200    25     6000\n",
        "  coils    140    30     4000 ;\n",
        "\n",
        "param avail := 40;"
      ]
    },
    {
      "cell_type": "code",
      "execution_count": 5,
      "metadata": {},
      "outputs": [
        {
          "name": "stdout",
          "output_type": "stream",
          "text": [
            "CBC 2.10.5: \b\b\b\b\b\b\b\b\b\b\b\bCBC 2.10.5 optimal, objective 192000\n",
            "1 iterations\n",
            "Make [*] :=\n",
            "bands  6000\n",
            "coils  1400\n",
            ";\n",
            "\n"
          ]
        }
      ],
      "source": [
        "%%ampl_eval\n",
        "model steel.mod;\n",
        "data steel.dat;\n",
        "option solver cbc;\n",
        "solve;\n",
        "display Make;"
      ]
    },
    {
      "cell_type": "markdown",
      "metadata": {},
      "source": [
        "### Adding lower bounds to the model\n",
        "\n",
        "Once the model and data have been set up, it is a simple matter to change them and then re-solve. Indeed, we would not expect to find an LP application in which the model and data are prepared and solved just once, or even a few times. Most commonly, numerous refinements are introduced as the model is developed, and changes to the data continue for as long as the model is used.\n",
        "\n",
        "Let's conclude this notebook with a few examples of changes and refinements. These examples also highlight some additional features of AMPL.\n",
        "\n",
        "Suppose first that we add another product, steel plate. The model stays the same, but in the data we have to add plate to the list of members for the set PROD, and we have to add a line of parameter values for plate:"
      ]
    },
    {
      "cell_type": "code",
      "execution_count": 6,
      "metadata": {},
      "outputs": [
        {
          "name": "stdout",
          "output_type": "stream",
          "text": [
            "Writing steel2.dat\n"
          ]
        }
      ],
      "source": [
        "%%writefile steel2.dat\n",
        "set PROD := bands coils plate;\n",
        "param:        rate    profit     market :=\n",
        " bands        200      25        6000\n",
        " coils        140      30        4000\n",
        " plate        160      29        3500 ;\n",
        "param avail := 40;"
      ]
    },
    {
      "cell_type": "code",
      "execution_count": 7,
      "metadata": {},
      "outputs": [
        {
          "name": "stdout",
          "output_type": "stream",
          "text": [
            "CBC 2.10.5: \b\b\b\b\b\b\b\b\b\b\b\bCBC 2.10.5 optimal, objective 196400\n",
            "1 iterations\n",
            "Make [*] :=\n",
            "bands  6000\n",
            "coils     0\n",
            "plate  1600\n",
            ";\n",
            "\n"
          ]
        }
      ],
      "source": [
        "%%ampl_eval\n",
        "reset data;\n",
        "data steel2.dat;\n",
        "solve;\n",
        "display Make;"
      ]
    },
    {
      "cell_type": "markdown",
      "metadata": {},
      "source": [
        "Profits have increased compared to the two-variable version, but now it is best to produce no coils at all! On closer examination, this result is not so surprising. Plate yields a profit of \\$4640 per hour, which is less than for bands but more than for coils. Thus plate is produced to absorb the capacity not taken by bands; coils would be produced only if both bands and plate reached their market limits before the available hours were exhausted.\n",
        "\n",
        "In reality, a whole product line cannot be shut down solely to increase weekly profits. The simplest way to reflect this in the model is to add lower bounds on the production amounts. We are declaring a new collection of parameters named commit, to represent the lower bounds on production that are imposed by sales commitments, and we have changed `>= 0` to `>= commit[p]` in the declaration of the variables `Make[p]`."
      ]
    },
    {
      "cell_type": "code",
      "execution_count": 8,
      "metadata": {},
      "outputs": [
        {
          "name": "stdout",
          "output_type": "stream",
          "text": [
            "Writing steel3.mod\n"
          ]
        }
      ],
      "source": [
        "%%writefile steel3.mod\n",
        "set PROD;                     # products\n",
        "param rate {PROD} > 0;        # produced tons per hour\n",
        "param avail >= 0;             # hours available in week\n",
        "param profit {PROD};          # profit per ton\n",
        "param commit {PROD} >= 0;     # lower limit on tons sold in week\n",
        "param market {PROD} >= 0;     # upper limit on tons sold in week\n",
        "var Make {p in PROD} >= commit[p], <= market[p]; # tons produced\n",
        "maximize Total_Profit: sum {p in PROD} profit[p] * Make[p];\n",
        "\t\t\t\t\t    # Objective: total profits from all products\n",
        "subject to Time: sum {p in PROD} (1/rate[p]) * Make[p] <= avail;\n",
        "\t\t\t\t\t    # Constraint: total of hours used by all\n",
        "\t\t\t\t\t    # products may not exceed hours available"
      ]
    },
    {
      "cell_type": "code",
      "execution_count": 9,
      "metadata": {},
      "outputs": [
        {
          "name": "stdout",
          "output_type": "stream",
          "text": [
            "Writing steel3.dat\n"
          ]
        }
      ],
      "source": [
        "%%writefile steel3.dat\n",
        "set PROD := bands coils plate;\n",
        "param:   rate  profit   commit   market :=\n",
        "bands   200    25      1000     6000\n",
        "coils   140    30       500     4000\n",
        "plate   160    29       750     3500 ;\n",
        "param avail := 40;"
      ]
    },
    {
      "cell_type": "code",
      "execution_count": 10,
      "metadata": {},
      "outputs": [
        {
          "name": "stdout",
          "output_type": "stream",
          "text": [
            "CBC 2.10.5: \b\b\b\b\b\b\b\b\b\b\b\bCBC 2.10.5 optimal, objective 194828.5714\n",
            "1 iterations\n",
            ":     commit    Make   market    :=\n",
            "bands   1000   6000      6000\n",
            "coils    500    500      4000\n",
            "plate    750   1028.57   3500\n",
            ";\n",
            "\n"
          ]
        }
      ],
      "source": [
        "%%ampl_eval\n",
        "reset; # clear the previous model\n",
        "model steel3.mod;\n",
        "data steel3.dat;\n",
        "option solver cbc;\n",
        "solve;\n",
        "display commit, Make, market;"
      ]
    },
    {
      "cell_type": "markdown",
      "metadata": {},
      "source": [
        "### Adding resource constraints to the model\n",
        "\n",
        "Processing of steel slabs is not a single operation, but a series of steps that may proceed at different rates. To motivate a more general model, imagine that we divide production into a reheat stage that can process the incoming slabs at 200 tons per hour, and a rolling stage that makes bands, coils or plate at the rates previously given. Further imagine that there are only 35 hours of reheat time, even though there are 40 hours of rolling time.\n",
        "\n",
        "To cover this kind of situation, we can add a set `STAGE` of production stages to our model. The parameter and constraint declarations are modified accordingly. Since there is a potentially different number of hours available in each stage, the parameter `avail` is now indexed over `STAGE`. Since there is a potentially different production rate for each product in each stage, the parameter `rate` is indexed over both `PROD` and `STAGE`. In the `Time` constraint, the production rate for product `p` in stage `s` is referred to as `rate[p,s]`; this is AMPL's version of a doubly subscripted entity like $a_{ps}$ in algebraic notation."
      ]
    },
    {
      "cell_type": "code",
      "execution_count": 11,
      "metadata": {},
      "outputs": [
        {
          "name": "stdout",
          "output_type": "stream",
          "text": [
            "Writing steel4.mod\n"
          ]
        }
      ],
      "source": [
        "%%writefile steel4.mod\n",
        "set PROD;                    # products\n",
        "set STAGE;                   # stages\n",
        "param rate {PROD,STAGE} > 0; # tons per hour in each stage\n",
        "param avail {STAGE} >= 0;    # hours available/week in each stage\n",
        "param profit {PROD};         # profit per ton\n",
        "param commit {PROD} >= 0;    # lower limit on tons sold in week\n",
        "param market {PROD} >= 0;    # upper limit on tons sold in week\n",
        "var Make {p in PROD} >= commit[p], <= market[p]; # tons produced\n",
        "maximize Total_Profit: sum {p in PROD} profit[p] * Make[p];\n",
        "\t\t\t\t\t    # Objective: total profits from all products\n",
        "subject to Time {s in STAGE}:\n",
        "      sum {p in PROD} (1/rate[p,s]) * Make[p] <= avail[s];\n",
        "\t\t\t\t\t    # In each stage: total of hours used by all\n",
        "\t\t\t\t\t    # products may not exceed hours available"
      ]
    },
    {
      "cell_type": "markdown",
      "metadata": {},
      "source": [
        "The only other change is to the constraint declaration, where we no longer have a single constraint, but a constraint for each stage, imposed by limited time available at that stage. In algebraic notation, this might have been written as\n",
        "\n",
        "*Subject to:*\n",
        "\n",
        "$$\\sum \\limits_{p \\in P} \\frac{1}{a_{ps}} X_p \\leq b_s, \\text{ for each } s \\in S.$$\n",
        "\n",
        "Compare the AMPL version:\n",
        "```\n",
        "subject to Time {s in STAGE}:\n",
        "  sum {p in PROD} (1/rate[p,s]) * Make[p] <= avail[s];\n",
        "```\n",
        "\n",
        "Since rate is now indexed over combinations of two indices, it requires a data table all to itself. The data file must also include the membership for the new set STAGE, and values of avail for both reheat and roll."
      ]
    },
    {
      "cell_type": "code",
      "execution_count": 12,
      "metadata": {},
      "outputs": [
        {
          "name": "stdout",
          "output_type": "stream",
          "text": [
            "Writing steel4.dat\n"
          ]
        }
      ],
      "source": [
        "%%writefile steel4.dat\n",
        "set PROD := bands coils plate;\n",
        "set STAGE := reheat roll;\n",
        "param rate:\treheat\troll :=\n",
        "\tbands\t200\t200\n",
        "\tcoils\t200\t140\n",
        "\tplate\t200\t160 ;\n",
        "param:\tprofit\tcommit\tmarket :=\n",
        "\tbands\t25\t1000\t6000\n",
        "\tcoils\t30\t500\t4000\n",
        "\tplate\t29\t750\t3500 ;\n",
        "param avail := reheat 35\troll 40 ;"
      ]
    },
    {
      "cell_type": "markdown",
      "metadata": {},
      "source": [
        "After these changes are made, we use AMPL to get another revised solution:"
      ]
    },
    {
      "cell_type": "code",
      "execution_count": 13,
      "metadata": {},
      "outputs": [
        {
          "name": "stdout",
          "output_type": "stream",
          "text": [
            "CBC 2.10.5: \b\b\b\b\b\b\b\b\b\b\b\bCBC 2.10.5 optimal, objective 190071.4286\n",
            "2 iterations\n",
            ":     Make.lb    Make   Make.ub   Make.rc     :=\n",
            "bands   1000    3357.14   6000     0\n",
            "coils    500     500      4000    -1.85714\n",
            "plate    750    3142.86   3500     0\n",
            ";\n",
            "\n",
            "Time [*] :=\n",
            "reheat  1800\n",
            "  roll  3200\n",
            ";\n",
            "\n"
          ]
        }
      ],
      "source": [
        "%%ampl_eval\n",
        "reset; # clear the previous model\n",
        "model steel4.mod;\n",
        "data steel4.dat;\n",
        "option solver cbc;\n",
        "solve;\n",
        "display Make.lb, Make, Make.ub, Make.rc;\n",
        "display Time;"
      ]
    },
    {
      "cell_type": "markdown",
      "metadata": {},
      "source": [
        "At the end of the example above we have displayed the \"marginal values\" (also called \"dual values\" or \"shadow prices\") associated with the Time constraints. The marginal value of a constraint measures how much the value of the objective would improve if the constraint were relaxed by a small amount. For example, here we would expect that up to some point, additional reheat time would produce another \\$1800 of extra profit per hour, and additional rolling time would produce \\$3200 per hour; decreasing these times would decrease the profit correspondingly. In output commands like display, AMPL interprets a constraint's name alone as referring to the associated marginal values.\n",
        "\n",
        "We also display several quantities associated with the variables Make. First there are lower bounds Make.lb and upper bounds Make.ub, which in this case are the same as commit and market. We also show the \"reduced cost\" Make.rc, which has the same meaning with respect to the bounds that the marginal values have with respect to the constraints. Thus we see that, again up to some point, each increase of a ton in the lower bound (or commitment) for coil production should reduce profits by about \\$1.86; each one-ton decrease in the lower bound should improve profits by about \\$1.86. The production levels for bands and plates are between their bounds, so their reduced costs are essentially zero, and changing their levels will have no effect.\n",
        "\n",
        "Comparing this session with our previous one, we see that the additional reheat time restriction reduces profits by about \\$4750, and forces a substantial change in the optimal solution: much higher production of plate and lower production of bands. Moreover, the logic underlying the optimum is no longer so obvious. It is the difficulty of solving LPs by logical reasoning alone that necessitates computer-based systems such as AMPL.\n",
        "\n",
        "### Bibliography\n",
        "\n",
        "* Julius S. Aronofsky, John M. Dutton and Michael T. Tayyabkhan, Managerial Planning with Linear Programming: In Process Industry Operations. John Wiley & Sons (New York, NY, 1978). A detailed account of a variety of profit-maximizing applications, with emphasis on the petroleum and petrochemical industries.\n",
        "\n",
        "* Vasek Chvatal, Linear Programming, W. H. Freeman (New York, NY, 1983). A concise and economical introduction to theoretical and algorithmic topics in linear programming.\n",
        "\n",
        "* Tibor Fabian, \"A Linear Programming Model of Integrated Iron and Steel Production.\" Management Science 4 (1958) pp. 415-449. An application to all stages of steelmaking — from coal and ore through finished products — from the early days of linear programming.\n",
        "\n",
        "* Robert Fourer and Goutam Dutta, \"A Survey of Mathematical Programming Applications in Integrated Steel Plants.\" Manufacturing & Service Operations Management 4 (2001) pp. 387-400.\n",
        "\n",
        "* David A. Kendrick, Alexander Meeraus and Jaime Alatorre, The Planning of Investment Programs in the Steel Industry. The Johns Hopkins University Press (Baltimore, MD, 1984). Several detailed mathematical programming models, using the Mexican steel industry as an example.\n",
        "\n",
        "* Robert J. Vanderbei, Linear Programming: Foundations and Extensions (2nd edition). Kluwer Academic Publishers (Dordrecht, The Netherlands, 2001). An updated survey of linear programming theory and methods."
      ]
    }
  ],
  "metadata": {
    "kernelspec": {
      "display_name": "Python 3",
      "language": "python",
      "name": "python3"
    },
    "language_info": {
      "codemirror_mode": {
        "name": "ipython",
        "version": 3
      },
      "file_extension": ".py",
      "mimetype": "text/x-python",
      "name": "python",
      "nbconvert_exporter": "python",
      "pygments_lexer": "ipython3",
      "version": "3.6.9"
    }
  },
  "nbformat": 4,
  "nbformat_minor": 2
}
