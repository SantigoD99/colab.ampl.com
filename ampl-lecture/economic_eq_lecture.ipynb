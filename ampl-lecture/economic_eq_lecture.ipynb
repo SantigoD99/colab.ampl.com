{
  "cells": [
    {
      "cell_type": "markdown",
      "metadata": {
        "id": "3qzrmkOorHxD"
      },
      "source": [
        "# Book Example: Economic equilibria\n",
        "[![economic_eq_lecture.ipynb](https://img.shields.io/badge/github-%23121011.svg?logo=github)](https://github.com/ampl/colab.ampl.com/blob/master/ampl-lecture/economic_eq_lecture.ipynb) [![Open In Colab](https://colab.research.google.com/assets/colab-badge.svg)](https://colab.research.google.com/github/ampl/colab.ampl.com/blob/master/ampl-lecture/economic_eq_lecture.ipynb) [![Kaggle](https://kaggle.com/static/images/open-in-kaggle.svg)](https://kaggle.com/kernels/welcome?src=https://github.com/ampl/colab.ampl.com/blob/master/ampl-lecture/economic_eq_lecture.ipynb) [![Gradient](https://assets.paperspace.io/img/gradient-badge.svg)](https://console.paperspace.com/github/ampl/colab.ampl.com/blob/master/ampl-lecture/economic_eq_lecture.ipynb) [![Open In SageMaker Studio Lab](https://studiolab.sagemaker.aws/studiolab.svg)](https://studiolab.sagemaker.aws/import/github/ampl/colab.ampl.com/blob/master/ampl-lecture/economic_eq_lecture.ipynb) [![Hits](https://h.ampl.com/https://github.com/ampl/colab.ampl.com/blob/master/ampl-lecture/economic_eq_lecture.ipynb)](https://colab.ampl.com)\n",
        "\n",
        "Description: economic model using complementarity conditions from Chapter 19 AMPL book\n",
        "\n",
        "Tags: ampl-book, finance, complementarity-problem, cbc, gurobi\n",
        "\n",
        "Notebook author: Marcos Dominguez Velad <<marcos@ampl.com>>\n",
        "\n",
        "Model author: N/A\n"
      ]
    },
    {
      "cell_type": "code",
      "execution_count": 1,
      "metadata": {
        "id": "QZcQH3E_rHxJ"
      },
      "outputs": [],
      "source": [
        "# Install dependencies\n",
        "%pip install -q amplpy pandas"
      ]
    },
    {
      "cell_type": "code",
      "execution_count": 2,
      "metadata": {
        "colab": {
          "base_uri": "https://localhost:8080/",
          "height": 84,
          "referenced_widgets": [
            "7acd0b75a4604d47a055d08e8b3ebe45",
            "46d00243ff3049f5adc0aa0120ed19c9",
            "b6bb34d4c3f44098a74167f93e534bf9",
            "cfe2e8d9bd3548b492ac480c55866eef",
            "70d9b8dba2d74a6aa273c29508c2a09d",
            "6d3ffaef27084ae997bdcc43ed5f9028",
            "63de80107b084582832bab8a5c880fdd",
            "f504b565a4164dcfba26c3eb1357c080",
            "d6d1b3144e3b46feb1a7cf7fda7e667c",
            "0e015b65a82041c8a67edf2381475edd",
            "ab80eaa95c86494aab1ab8d657884218",
            "58cfd25a1fb04da9a77b5b6ee48d2642",
            "99c68cc31e3a4249bbaa2c85597af803"
          ]
        },
        "id": "lnPRbDKdrHxL",
        "outputId": "5e17611d-058e-4a3e-90ec-5d0078678d61"
      },
      "outputs": [],
      "source": [
        "# Google Colab & Kaggle integration\n",
        "from amplpy import AMPL, ampl_notebook\n",
        "\n",
        "ampl = ampl_notebook(\n",
        "    modules=[\"coin\", \"gurobi\"],  # modules to install\n",
        "    license_uuid=\"default\",  # license to use\n",
        ")  # instantiate AMPL object and register magics"
      ]
    },
    {
      "cell_type": "markdown",
      "metadata": {
        "id": "oXhSsNZ6rHxM"
      },
      "source": [
        "## Economic equilibria\n",
        "This model is based on the models showed in the Chapter 19 of the AMPL book, related to **complementarity problems**.\n",
        "\n",
        "### Classic model\n",
        "The following model does not use complementarity conditions.\n",
        "\n",
        "* Sets and parameters:\n",
        "     * Products `PROD` and `demand[i]` for each product `i`.\n",
        "     * Activities `ACT` and `cost[j]` for each activity `j`.\n",
        "     * Amount of product `i` produced by activity `j`, `io[i,j]`.\n",
        "* Decision variables `Level[j]`: levels of production activities (for each activity `j`).\n",
        "* Objective: minimize total production cost,\n",
        "\n",
        "$$\n",
        "     \\sum \\limits_{j \\in ACT} cost_j \\cdot Level_j;\n",
        "$$\n",
        "\n",
        "So the AMPL formulation is implemented as:"
      ]
    },
    {
      "cell_type": "code",
      "execution_count": 3,
      "metadata": {
        "colab": {
          "base_uri": "https://localhost:8080/"
        },
        "id": "7wQNrm8IrHxM",
        "outputId": "8c6b756d-11b9-48ed-9b1d-1defdcb31123"
      },
      "outputs": [
        {
          "name": "stdout",
          "output_type": "stream",
          "text": [
            "Overwriting econmin.mod\n"
          ]
        }
      ],
      "source": [
        "%%writefile econmin.mod\n",
        "set PROD;   # products\n",
        "set ACT;    # activities\n",
        "\n",
        "param cost {ACT} > 0;      # cost per unit of each activity\n",
        "param demand {PROD} >= 0;  # units of demand for each product\n",
        "param io {PROD,ACT} >= 0;  # units of each product from\n",
        "                           # 1 unit of each activity\n",
        "\n",
        "var Level {j in ACT} >= 0;\n",
        "\n",
        "minimize Total_Cost:  sum {j in ACT} cost[j] * Level[j];\n",
        "\n",
        "subject to Demand {i in PROD}:\n",
        "      sum {j in ACT} io[i,j] * Level[j] >= demand[i];"
      ]
    },
    {
      "cell_type": "code",
      "execution_count": 4,
      "metadata": {
        "id": "dbuIaFDkrHxO"
      },
      "outputs": [],
      "source": [
        "import pandas as pd\n",
        "\n",
        "# ACT cost data\n",
        "act_cost_data = {\n",
        "    \"ACT\": [\"P1\", \"P1a\", \"P2\", \"P2a\", \"P2b\", \"P3\", \"P3c\", \"P4\"],\n",
        "    \"cost\": [2450, 1290, 1850, 3700, 2150, 2200, 2370, 2170],\n",
        "}\n",
        "act_cost_df = pd.DataFrame(act_cost_data).set_index(\"ACT\")\n",
        "\n",
        "# PROD demand data\n",
        "prod_demand_data = {\n",
        "    \"PROD\": [\"AA1\", \"AC1\", \"BC1\", \"BC2\", \"NA2\", \"NA3\"],\n",
        "    \"demand\": [70000, 80000, 90000, 70000, 400000, 800000],\n",
        "}\n",
        "prod_demand_df = pd.DataFrame(prod_demand_data).set_index(\"PROD\")\n",
        "\n",
        "# IO matrix data\n",
        "io_data = {\n",
        "    \"AA1\": [60, 8, 8, 40, 15, 70, 25, 60],\n",
        "    \"AC1\": [20, 0, 10, 40, 35, 30, 40, 20],\n",
        "    \"BC1\": [10, 20, 15, 35, 15, 15, 30, 15],\n",
        "    \"BC2\": [15, 20, 10, 10, 15, 15, 30, 10],\n",
        "    \"NA2\": [938, 1180, 945, 278, 1182, 896, 1029, 1397],\n",
        "    \"NA3\": [295, 770, 440, 430, 315, 400, 370, 450],\n",
        "}\n",
        "io_index = [\"P1\", \"P1a\", \"P2\", \"P2a\", \"P2b\", \"P3\", \"P3c\", \"P4\"]\n",
        "io_df = pd.DataFrame(io_data, index=io_index)"
      ]
    },
    {
      "cell_type": "code",
      "execution_count": 5,
      "metadata": {
        "colab": {
          "base_uri": "https://localhost:8080/"
        },
        "id": "FUFQu5E4rHxP",
        "outputId": "a5630840-4724-4e99-c10a-f4d87a4cf77b"
      },
      "outputs": [
        {
          "name": "stdout",
          "output_type": "stream",
          "text": [
            "cbc 2.10.12: \b\b\b\b\b\b\b\b\b\b\b\b\bcbc 2.10.12: optimal solution; objective 6808640.553\n",
            "0 simplex iterations\n",
            ":      Level   Demand.dual    :=\n",
            "AA1       .      16.7051\n",
            "AC1       .       5.44585\n",
            "BC1       .      57.818\n",
            "BC2       .       0\n",
            "NA2       .       0\n",
            "NA3       .       0\n",
            "P1       0           .\n",
            "P1a   1555.3         .\n",
            "P2       0           .\n",
            "P2a      0           .\n",
            "P2b      0           .\n",
            "P3     147.465       .\n",
            "P3c   1889.4         .\n",
            "P4       0           .\n",
            ";\n",
            "\n"
          ]
        }
      ],
      "source": [
        "ampl.reset()\n",
        "ampl.read(\"econmin.mod\")\n",
        "\n",
        "ampl.set_data(prod_demand_df, \"PROD\")\n",
        "ampl.set_data(act_cost_df, \"ACT\")\n",
        "ampl.param[\"io\"] = io_df.T\n",
        "\n",
        "ampl.solve(solver=\"cbc\")\n",
        "ampl.display(\"Level, Demand.dual\")"
      ]
    },
    {
      "cell_type": "code",
      "execution_count": 6,
      "metadata": {
        "id": "BxHg12b0B8qx"
      },
      "outputs": [],
      "source": [
        "assert ampl.solve_result == \"solved\", ampl.solve_result"
      ]
    },
    {
      "cell_type": "markdown",
      "metadata": {
        "id": "OSSVGjxIrHxQ"
      },
      "source": [
        "### Complementarity model\n",
        "\n",
        "Consider the new variables `Price[i]` for each product, and solve the problem to find an *equilibrium* instead of an optimum solution. The equilibrium is subject to two conditions:\n",
        "\n",
        "* First, for each product, total output must meet demand and price must be nonnegative, and in addition there must be a *complementarity* between these relationships, where production exceeds demand the price must be zero, or equivalently, if the price is positive, the production must equal the demand.\n",
        "\n",
        "```\n",
        "subject to Pri_Compl {i in PROD}:\n",
        "   Price[i] >= 0 complements\n",
        "      sum {j in ACT} io[i,j] * Level[j] >= demand[i];\n",
        "```\n",
        "\n",
        "* Second, for each activity `j`, the value of resulting product `i` is `Price[i]*io[i,j]`, so activity `j` would produce a total value of\n",
        "\n",
        "$$\\sum \\limits_{i \\in PROD} Price[i] \\cdot io[i,j]$$\n",
        "\n",
        "When equilibrium happens, the previous value must not exceed the activity's cost per unit `cost[j]`. Moreover, there is a complementarity between this relationship and the level of activity `j`, where cost exceeds total value the activity must be zero, or, where the activity cost is positive then the total value must be equal to the cost. This can be expressed as:\n",
        "\n",
        "```\n",
        "subject to Lev_Compl {j in ACT}:\n",
        "   Level[j] >= 0 complements\n",
        "      sum {i in PROD} Price[i] * io[i,j] <= cost[j];\n",
        "```"
      ]
    },
    {
      "cell_type": "code",
      "execution_count": 7,
      "metadata": {
        "colab": {
          "base_uri": "https://localhost:8080/"
        },
        "id": "LXR5ufh7rHxS",
        "outputId": "fac7b718-79ae-4bae-8b05-4f55ecab0b27"
      },
      "outputs": [
        {
          "name": "stdout",
          "output_type": "stream",
          "text": [
            "Overwriting econ.mod\n"
          ]
        }
      ],
      "source": [
        "%%writefile econ.mod\n",
        "set PROD;   # products\n",
        "set ACT;    # activities\n",
        "\n",
        "param cost {ACT} > 0;      # cost per unit of each activity\n",
        "param demand {PROD} >= 0;  # units of demand for each product\n",
        "param io {PROD,ACT} >= 0;  # units of each product from\n",
        "                           # 1 unit of each activity\n",
        "var Price {i in PROD};\n",
        "var Level {j in ACT};\n",
        "\n",
        "subject to Pri_Compl {i in PROD}:\n",
        "   Price[i] >= 0 complements\n",
        "      sum {j in ACT} io[i,j] * Level[j] >= demand[i];\n",
        "\n",
        "subject to Lev_Compl {j in ACT}:\n",
        "   Level[j] >= 0 complements\n",
        "      sum {i in PROD} Price[i] * io[i,j] <= cost[j];"
      ]
    },
    {
      "cell_type": "markdown",
      "metadata": {
        "id": "T_VxZTpprHxT"
      },
      "source": [
        "**Remark**: the model is square, as there are $n+m$ variables and $n+m$ constraints ($n$ number of products and $m$ number of activities). Some solvers can take advantage of this to use different solving techniques.\n",
        "\n",
        "Finally, let's see that the equilibrium model gives also the optimal solution for the first classic formulation."
      ]
    },
    {
      "cell_type": "code",
      "execution_count": 8,
      "metadata": {
        "colab": {
          "base_uri": "https://localhost:8080/"
        },
        "id": "QSWaH19ErHxT",
        "outputId": "e6f3077a-7d57-4cef-f983-009f0693c609"
      },
      "outputs": [
        {
          "name": "stdout",
          "output_type": "stream",
          "text": [
            "Gurobi 12.0.1: \b\b\b\b\b\b\b\b\b\b\b\b\b\b\bGurobi 12.0.1: optimal solution\n",
            "0 simplex iterations\n",
            "Objective = find a feasible point.\n",
            "Level [*] :=\n",
            " P1     0\n",
            "P1a  1555.3\n",
            " P2     0\n",
            "P2a     0\n",
            "P2b     0\n",
            " P3   147.465\n",
            "P3c  1889.4\n",
            " P4     0\n",
            ";\n",
            "\n",
            "sum{j in ACT} cost[j]*Level[j] = 6808640\n",
            "\n"
          ]
        }
      ],
      "source": [
        "ampl.reset()\n",
        "ampl.read(\"econ.mod\")\n",
        "\n",
        "ampl.set_data(prod_demand_df, \"PROD\")\n",
        "ampl.set_data(act_cost_df, \"ACT\")\n",
        "ampl.param[\"io\"] = io_df.T\n",
        "\n",
        "ampl.solve(solver=\"gurobi\")\n",
        "ampl.display(\"Level, sum {j in ACT} cost[j] * Level[j]\")"
      ]
    },
    {
      "cell_type": "code",
      "execution_count": 9,
      "metadata": {
        "id": "P6MDXl7wB8qy"
      },
      "outputs": [],
      "source": [
        "assert ampl.solve_result == \"solved\", ampl.solve_result"
      ]
    }
  ],
  "metadata": {
    "colab": {
      "name": "economic_eq_lecture.ipynb",
      "provenance": []
    },
    "kernelspec": {
      "display_name": "Python 3 (ipykernel)",
      "language": "python",
      "name": "python3"
    },
    "language_info": {
      "codemirror_mode": {
        "name": "ipython",
        "version": 3
      },
      "file_extension": ".py",
      "mimetype": "text/x-python",
      "name": "python",
      "nbconvert_exporter": "python",
      "pygments_lexer": "ipython3",
      "version": "3.10.12"
    },
    "vscode": {
      "interpreter": {
        "hash": "ee4198aac13dae9b6fccd443041680d99c2643c4956ef7c80ff6dcc0057cb523"
      }
    },
    "widgets": {
      "application/vnd.jupyter.widget-state+json": {
        "0e015b65a82041c8a67edf2381475edd": {
          "model_module": "@jupyter-widgets/controls",
          "model_module_version": "1.5.0",
          "model_name": "DescriptionStyleModel",
          "state": {
            "_model_module": "@jupyter-widgets/controls",
            "_model_module_version": "1.5.0",
            "_model_name": "DescriptionStyleModel",
            "_view_count": null,
            "_view_module": "@jupyter-widgets/base",
            "_view_module_version": "1.2.0",
            "_view_name": "StyleView",
            "description_width": "initial"
          }
        },
        "46d00243ff3049f5adc0aa0120ed19c9": {
          "model_module": "@jupyter-widgets/output",
          "model_module_version": "1.0.0",
          "model_name": "OutputModel",
          "state": {
            "_dom_classes": [],
            "_model_module": "@jupyter-widgets/output",
            "_model_module_version": "1.0.0",
            "_model_name": "OutputModel",
            "_view_count": null,
            "_view_module": "@jupyter-widgets/output",
            "_view_module_version": "1.0.0",
            "_view_name": "OutputView",
            "layout": "IPY_MODEL_ab80eaa95c86494aab1ab8d657884218",
            "msg_id": "",
            "outputs": [
              {
                "name": "stdout",
                "output_type": "stream",
                "text": [
                  "AMPL License UUID (you can use free https://ampl.com/ce or https://ampl.com/courses licenses):\n"
                ]
              }
            ]
          }
        },
        "58cfd25a1fb04da9a77b5b6ee48d2642": {
          "model_module": "@jupyter-widgets/base",
          "model_module_version": "1.2.0",
          "model_name": "LayoutModel",
          "state": {
            "_model_module": "@jupyter-widgets/base",
            "_model_module_version": "1.2.0",
            "_model_name": "LayoutModel",
            "_view_count": null,
            "_view_module": "@jupyter-widgets/base",
            "_view_module_version": "1.2.0",
            "_view_name": "LayoutView",
            "align_content": null,
            "align_items": null,
            "align_self": null,
            "border": null,
            "bottom": null,
            "display": null,
            "flex": null,
            "flex_flow": null,
            "grid_area": null,
            "grid_auto_columns": null,
            "grid_auto_flow": null,
            "grid_auto_rows": null,
            "grid_column": null,
            "grid_gap": null,
            "grid_row": null,
            "grid_template_areas": null,
            "grid_template_columns": null,
            "grid_template_rows": null,
            "height": null,
            "justify_content": null,
            "justify_items": null,
            "left": null,
            "margin": null,
            "max_height": null,
            "max_width": null,
            "min_height": null,
            "min_width": null,
            "object_fit": null,
            "object_position": null,
            "order": null,
            "overflow": null,
            "overflow_x": null,
            "overflow_y": null,
            "padding": null,
            "right": null,
            "top": null,
            "visibility": null,
            "width": null
          }
        },
        "63de80107b084582832bab8a5c880fdd": {
          "model_module": "@jupyter-widgets/controls",
          "model_module_version": "1.5.0",
          "model_name": "TextModel",
          "state": {
            "_dom_classes": [],
            "_model_module": "@jupyter-widgets/controls",
            "_model_module_version": "1.5.0",
            "_model_name": "TextModel",
            "_view_count": null,
            "_view_module": "@jupyter-widgets/controls",
            "_view_module_version": "1.5.0",
            "_view_name": "TextView",
            "continuous_update": true,
            "description": "License UUID:",
            "description_tooltip": null,
            "disabled": false,
            "layout": "IPY_MODEL_d6d1b3144e3b46feb1a7cf7fda7e667c",
            "placeholder": "​",
            "style": "IPY_MODEL_0e015b65a82041c8a67edf2381475edd",
            "value": ""
          }
        },
        "6d3ffaef27084ae997bdcc43ed5f9028": {
          "model_module": "@jupyter-widgets/base",
          "model_module_version": "1.2.0",
          "model_name": "LayoutModel",
          "state": {
            "_model_module": "@jupyter-widgets/base",
            "_model_module_version": "1.2.0",
            "_model_name": "LayoutModel",
            "_view_count": null,
            "_view_module": "@jupyter-widgets/base",
            "_view_module_version": "1.2.0",
            "_view_name": "LayoutView",
            "align_content": null,
            "align_items": null,
            "align_self": null,
            "border": null,
            "bottom": null,
            "display": null,
            "flex": null,
            "flex_flow": null,
            "grid_area": null,
            "grid_auto_columns": null,
            "grid_auto_flow": null,
            "grid_auto_rows": null,
            "grid_column": null,
            "grid_gap": null,
            "grid_row": null,
            "grid_template_areas": null,
            "grid_template_columns": null,
            "grid_template_rows": null,
            "height": null,
            "justify_content": null,
            "justify_items": null,
            "left": null,
            "margin": null,
            "max_height": null,
            "max_width": null,
            "min_height": null,
            "min_width": null,
            "object_fit": null,
            "object_position": null,
            "order": null,
            "overflow": null,
            "overflow_x": null,
            "overflow_y": null,
            "padding": null,
            "right": null,
            "top": null,
            "visibility": null,
            "width": null
          }
        },
        "70d9b8dba2d74a6aa273c29508c2a09d": {
          "model_module": "@jupyter-widgets/output",
          "model_module_version": "1.0.0",
          "model_name": "OutputModel",
          "state": {
            "_dom_classes": [],
            "_model_module": "@jupyter-widgets/output",
            "_model_module_version": "1.0.0",
            "_model_name": "OutputModel",
            "_view_count": null,
            "_view_module": "@jupyter-widgets/output",
            "_view_module_version": "1.0.0",
            "_view_name": "OutputView",
            "layout": "IPY_MODEL_99c68cc31e3a4249bbaa2c85597af803",
            "msg_id": "",
            "outputs": [
              {
                "name": "stdout",
                "output_type": "stream",
                "text": [
                  "Licensed to AMPL Community Edition License for the AMPL Model Colaboratory (https://ampl.com/colab).\n"
                ]
              }
            ]
          }
        },
        "7acd0b75a4604d47a055d08e8b3ebe45": {
          "model_module": "@jupyter-widgets/controls",
          "model_module_version": "1.5.0",
          "model_name": "VBoxModel",
          "state": {
            "_dom_classes": [],
            "_model_module": "@jupyter-widgets/controls",
            "_model_module_version": "1.5.0",
            "_model_name": "VBoxModel",
            "_view_count": null,
            "_view_module": "@jupyter-widgets/controls",
            "_view_module_version": "1.5.0",
            "_view_name": "VBoxView",
            "box_style": "",
            "children": [
              "IPY_MODEL_46d00243ff3049f5adc0aa0120ed19c9",
              "IPY_MODEL_b6bb34d4c3f44098a74167f93e534bf9",
              "IPY_MODEL_cfe2e8d9bd3548b492ac480c55866eef",
              "IPY_MODEL_70d9b8dba2d74a6aa273c29508c2a09d"
            ],
            "layout": "IPY_MODEL_6d3ffaef27084ae997bdcc43ed5f9028"
          }
        },
        "99c68cc31e3a4249bbaa2c85597af803": {
          "model_module": "@jupyter-widgets/base",
          "model_module_version": "1.2.0",
          "model_name": "LayoutModel",
          "state": {
            "_model_module": "@jupyter-widgets/base",
            "_model_module_version": "1.2.0",
            "_model_name": "LayoutModel",
            "_view_count": null,
            "_view_module": "@jupyter-widgets/base",
            "_view_module_version": "1.2.0",
            "_view_name": "LayoutView",
            "align_content": null,
            "align_items": null,
            "align_self": null,
            "border": null,
            "bottom": null,
            "display": null,
            "flex": null,
            "flex_flow": null,
            "grid_area": null,
            "grid_auto_columns": null,
            "grid_auto_flow": null,
            "grid_auto_rows": null,
            "grid_column": null,
            "grid_gap": null,
            "grid_row": null,
            "grid_template_areas": null,
            "grid_template_columns": null,
            "grid_template_rows": null,
            "height": null,
            "justify_content": null,
            "justify_items": null,
            "left": null,
            "margin": null,
            "max_height": null,
            "max_width": null,
            "min_height": null,
            "min_width": null,
            "object_fit": null,
            "object_position": null,
            "order": null,
            "overflow": null,
            "overflow_x": null,
            "overflow_y": null,
            "padding": null,
            "right": null,
            "top": null,
            "visibility": null,
            "width": null
          }
        },
        "ab80eaa95c86494aab1ab8d657884218": {
          "model_module": "@jupyter-widgets/base",
          "model_module_version": "1.2.0",
          "model_name": "LayoutModel",
          "state": {
            "_model_module": "@jupyter-widgets/base",
            "_model_module_version": "1.2.0",
            "_model_name": "LayoutModel",
            "_view_count": null,
            "_view_module": "@jupyter-widgets/base",
            "_view_module_version": "1.2.0",
            "_view_name": "LayoutView",
            "align_content": null,
            "align_items": null,
            "align_self": null,
            "border": null,
            "bottom": null,
            "display": null,
            "flex": null,
            "flex_flow": null,
            "grid_area": null,
            "grid_auto_columns": null,
            "grid_auto_flow": null,
            "grid_auto_rows": null,
            "grid_column": null,
            "grid_gap": null,
            "grid_row": null,
            "grid_template_areas": null,
            "grid_template_columns": null,
            "grid_template_rows": null,
            "height": null,
            "justify_content": null,
            "justify_items": null,
            "left": null,
            "margin": null,
            "max_height": null,
            "max_width": null,
            "min_height": null,
            "min_width": null,
            "object_fit": null,
            "object_position": null,
            "order": null,
            "overflow": null,
            "overflow_x": null,
            "overflow_y": null,
            "padding": null,
            "right": null,
            "top": null,
            "visibility": null,
            "width": null
          }
        },
        "b6bb34d4c3f44098a74167f93e534bf9": {
          "model_module": "@jupyter-widgets/controls",
          "model_module_version": "1.5.0",
          "model_name": "HBoxModel",
          "state": {
            "_dom_classes": [],
            "_model_module": "@jupyter-widgets/controls",
            "_model_module_version": "1.5.0",
            "_model_name": "HBoxModel",
            "_view_count": null,
            "_view_module": "@jupyter-widgets/controls",
            "_view_module_version": "1.5.0",
            "_view_name": "HBoxView",
            "box_style": "",
            "children": [
              "IPY_MODEL_63de80107b084582832bab8a5c880fdd"
            ],
            "layout": "IPY_MODEL_f504b565a4164dcfba26c3eb1357c080"
          }
        },
        "cfe2e8d9bd3548b492ac480c55866eef": {
          "model_module": "@jupyter-widgets/output",
          "model_module_version": "1.0.0",
          "model_name": "OutputModel",
          "state": {
            "_dom_classes": [],
            "_model_module": "@jupyter-widgets/output",
            "_model_module_version": "1.0.0",
            "_model_name": "OutputModel",
            "_view_count": null,
            "_view_module": "@jupyter-widgets/output",
            "_view_module_version": "1.0.0",
            "_view_name": "OutputView",
            "layout": "IPY_MODEL_58cfd25a1fb04da9a77b5b6ee48d2642",
            "msg_id": "",
            "outputs": []
          }
        },
        "d6d1b3144e3b46feb1a7cf7fda7e667c": {
          "model_module": "@jupyter-widgets/base",
          "model_module_version": "1.2.0",
          "model_name": "LayoutModel",
          "state": {
            "_model_module": "@jupyter-widgets/base",
            "_model_module_version": "1.2.0",
            "_model_name": "LayoutModel",
            "_view_count": null,
            "_view_module": "@jupyter-widgets/base",
            "_view_module_version": "1.2.0",
            "_view_name": "LayoutView",
            "align_content": null,
            "align_items": null,
            "align_self": null,
            "border": null,
            "bottom": null,
            "display": null,
            "flex": null,
            "flex_flow": null,
            "grid_area": null,
            "grid_auto_columns": null,
            "grid_auto_flow": null,
            "grid_auto_rows": null,
            "grid_column": null,
            "grid_gap": null,
            "grid_row": null,
            "grid_template_areas": null,
            "grid_template_columns": null,
            "grid_template_rows": null,
            "height": null,
            "justify_content": null,
            "justify_items": null,
            "left": null,
            "margin": null,
            "max_height": null,
            "max_width": null,
            "min_height": null,
            "min_width": null,
            "object_fit": null,
            "object_position": null,
            "order": null,
            "overflow": null,
            "overflow_x": null,
            "overflow_y": null,
            "padding": null,
            "right": null,
            "top": null,
            "visibility": null,
            "width": null
          }
        },
        "f504b565a4164dcfba26c3eb1357c080": {
          "model_module": "@jupyter-widgets/base",
          "model_module_version": "1.2.0",
          "model_name": "LayoutModel",
          "state": {
            "_model_module": "@jupyter-widgets/base",
            "_model_module_version": "1.2.0",
            "_model_name": "LayoutModel",
            "_view_count": null,
            "_view_module": "@jupyter-widgets/base",
            "_view_module_version": "1.2.0",
            "_view_name": "LayoutView",
            "align_content": null,
            "align_items": null,
            "align_self": null,
            "border": null,
            "bottom": null,
            "display": null,
            "flex": null,
            "flex_flow": null,
            "grid_area": null,
            "grid_auto_columns": null,
            "grid_auto_flow": null,
            "grid_auto_rows": null,
            "grid_column": null,
            "grid_gap": null,
            "grid_row": null,
            "grid_template_areas": null,
            "grid_template_columns": null,
            "grid_template_rows": null,
            "height": null,
            "justify_content": null,
            "justify_items": null,
            "left": null,
            "margin": null,
            "max_height": null,
            "max_width": null,
            "min_height": null,
            "min_width": null,
            "object_fit": null,
            "object_position": null,
            "order": null,
            "overflow": null,
            "overflow_x": null,
            "overflow_y": null,
            "padding": null,
            "right": null,
            "top": null,
            "visibility": null,
            "width": null
          }
        }
      }
    }
  },
  "nbformat": 4,
  "nbformat_minor": 4
}
