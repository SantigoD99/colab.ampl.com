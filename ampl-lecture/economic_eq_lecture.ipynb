{
  "cells": [
    {
      "cell_type": "markdown",
      "metadata": {
        "id": "3qzrmkOorHxD"
      },
      "source": [
        "# Book Example: Economic equilibria\n",
        "[![economic_eq_lecture.ipynb](https://img.shields.io/badge/github-%23121011.svg?logo=github)](https://github.com/ampl/colab.ampl.com/blob/master/ampl-lecture/economic_eq_lecture.ipynb) [![Open In Colab](https://colab.research.google.com/assets/colab-badge.svg)](https://colab.research.google.com/github/ampl/colab.ampl.com/blob/master/ampl-lecture/economic_eq_lecture.ipynb) [![Kaggle](https://kaggle.com/static/images/open-in-kaggle.svg)](https://kaggle.com/kernels/welcome?src=https://github.com/ampl/colab.ampl.com/blob/master/ampl-lecture/economic_eq_lecture.ipynb) [![Gradient](https://assets.paperspace.io/img/gradient-badge.svg)](https://console.paperspace.com/github/ampl/colab.ampl.com/blob/master/ampl-lecture/economic_eq_lecture.ipynb) [![Open In SageMaker Studio Lab](https://studiolab.sagemaker.aws/studiolab.svg)](https://studiolab.sagemaker.aws/import/github/ampl/colab.ampl.com/blob/master/ampl-lecture/economic_eq_lecture.ipynb) [![Hits](https://h.ampl.com/https://github.com/ampl/colab.ampl.com/blob/master/ampl-lecture/economic_eq_lecture.ipynb)](https://colab.ampl.com)\n",
        "\n",
        "Description: economic model using complementarity conditions from Chapter 19 AMPL book\n",
        "\n",
        "Tags: ampl-only, ampl-book, finance, complementarity-problem\n",
        "\n",
        "Notebook author: Marcos Dominguez Velad <<marcos@ampl.com>>\n",
        "\n",
        "Model author: N/A\n"
      ]
    },
    {
      "cell_type": "code",
      "execution_count": 1,
      "metadata": {
        "id": "QZcQH3E_rHxJ"
      },
      "outputs": [],
      "source": [
        "# Install dependencies\n",
        "%pip install -q amplpy"
      ]
    },
    {
      "cell_type": "code",
      "execution_count": 2,
      "metadata": {
        "colab": {
          "base_uri": "https://localhost:8080/",
          "height": 196,
          "referenced_widgets": [
            "998229df42aa49f580a9bb1f2b2a9eed",
            "b26ba570b9c64acd8efce462da574b71",
            "d9cd3c48fb14497e81c7709d43fd5190",
            "7d9fb59a1ab9485f80dd3a156365173e",
            "64cf6567cba54a60af4de263b8f3bcfa",
            "1af936763fa34e2084e9dc0ea41a3391",
            "4a1b17384ea04a759283cbab6688bb31",
            "1e0a9daf2ff1465b88af11d6be4b9f1b",
            "454c642a70454feabf8ab8c60c670f96",
            "49686e4c6388463ca0ba20587d2df5bd",
            "f3a7c4f5e48f4104bebd80ced4766c41",
            "a6cb026db0314ecfbfd665d6561dec2f",
            "72b0fe1b0b5e429d86c70c1f63dd8186",
            "da367405cff74c02b7abd45c59f49977"
          ]
        },
        "id": "lnPRbDKdrHxL",
        "outputId": "f7c07622-c716-41a1-cdf4-1f1898d65a75"
      },
      "outputs": [],
      "source": [
        "# Google Colab & Kaggle integration\n",
        "from amplpy import AMPL, ampl_notebook\n",
        "\n",
        "ampl = ampl_notebook(\n",
        "    modules=[\"coin\", \"gurobi\"],  # modules to install\n",
        "    license_uuid=\"default\",  # license to use\n",
        ")  # instantiate AMPL object and register magics"
      ]
    },
    {
      "cell_type": "markdown",
      "metadata": {
        "id": "oXhSsNZ6rHxM"
      },
      "source": [
        "## Economic equilibria\n",
        "This model is based on the models showed in the Chapter 19 of the AMPL book, related to **complementarity problems**.\n",
        "\n",
        "### Classic model\n",
        "The following model does not use complementarity conditions.\n",
        "\n",
        "* Sets and parameters:\n",
        "     * Products `PROD` and `demand[i]` for each product `i`.\n",
        "     * Activities `ACT` and `cost[j]` for each activity `j`.\n",
        "     * Amount of product `i` produced by activity `j`, `io[i,j]`.\n",
        "* Decision variables `Level[j]`: levels of production activities (for each activity `j`).\n",
        "* Objective: minimize total production cost,\n",
        "\n",
        "$$\n",
        "     \\sum \\limits_{j \\in ACT} cost_j \\cdot Level_j;\n",
        "$$\n",
        "\n",
        "So the AMPL formulation is implemented as:"
      ]
    },
    {
      "cell_type": "code",
      "execution_count": 3,
      "metadata": {
        "colab": {
          "base_uri": "https://localhost:8080/"
        },
        "id": "7wQNrm8IrHxM",
        "outputId": "d14164c1-ba7f-4c28-f7b2-11726033f101"
      },
      "outputs": [
        {
          "name": "stdout",
          "output_type": "stream",
          "text": [
            "Overwriting econmin.mod\n"
          ]
        }
      ],
      "source": [
        "%%writefile econmin.mod\n",
        "set PROD;   # products\n",
        "set ACT;    # activities\n",
        "\n",
        "param cost {ACT} > 0;      # cost per unit of each activity\n",
        "param demand {PROD} >= 0;  # units of demand for each product\n",
        "param io {PROD,ACT} >= 0;  # units of each product from\n",
        "                           # 1 unit of each activity\n",
        "\n",
        "var Level {j in ACT} >= 0;\n",
        "\n",
        "minimize Total_Cost:  sum {j in ACT} cost[j] * Level[j];\n",
        "\n",
        "subject to Demand {i in PROD}:\n",
        "      sum {j in ACT} io[i,j] * Level[j] >= demand[i];"
      ]
    },
    {
      "cell_type": "code",
      "execution_count": 4,
      "metadata": {
        "colab": {
          "base_uri": "https://localhost:8080/"
        },
        "id": "dbuIaFDkrHxO",
        "outputId": "c4c02b53-8ce9-41e1-e859-5d7dda69e134"
      },
      "outputs": [
        {
          "name": "stdout",
          "output_type": "stream",
          "text": [
            "Overwriting econ.dat\n"
          ]
        }
      ],
      "source": [
        "%%writefile econ.dat\n",
        "data;\n",
        "\n",
        "param: ACT:   cost :=\n",
        "        P1    2450\n",
        "        P1a   1290\n",
        "        P2    1850\n",
        "        P2a   3700\n",
        "        P2b   2150\n",
        "        P3    2200\n",
        "        P3c   2370\n",
        "        P4    2170 ;\n",
        "\n",
        "param: PROD:  demand :=\n",
        "       AA1     70000 \n",
        "       AC1     80000\n",
        "       BC1     90000 \n",
        "       BC2     70000 \n",
        "       NA2    400000 \n",
        "       NA3    800000  ;\n",
        "\n",
        "param io (tr):\n",
        "         AA1  AC1  BC1  BC2   NA2   NA3 :=\n",
        "   P1     60   20   10   15   938   295\n",
        "   P1a     8    0   20   20  1180   770\n",
        "   P2      8   10   15   10   945   440\n",
        "   P2a    40   40   35   10   278   430\n",
        "   P2b    15   35   15   15  1182   315\n",
        "   P3     70   30   15   15   896   400\n",
        "   P3c    25   40   30   30  1029   370\n",
        "   P4     60   20   15   10  1397   450 ;\n"
      ]
    },
    {
      "cell_type": "code",
      "execution_count": 5,
      "metadata": {
        "colab": {
          "base_uri": "https://localhost:8080/"
        },
        "id": "FUFQu5E4rHxP",
        "outputId": "de85527f-476f-4885-86e0-1a285224b708"
      },
      "outputs": [
        {
          "name": "stdout",
          "output_type": "stream",
          "text": [
            "CBC 2.10.5CBC 2.10.5 optimal, objective 6808640.553\n",
            "3 iterations\n",
            "Level [*] :=\n",
            " P1     0\n",
            "P1a  1555.3\n",
            " P2     0\n",
            "P2a     0\n",
            "P2b     0\n",
            " P3   147.465\n",
            "P3c  1889.4\n",
            " P4     0\n",
            ";\n",
            "\n",
            "Demand.dual [*] :=\n",
            "AA1  16.7051\n",
            "AC1   5.44585\n",
            "BC1  57.818\n",
            "BC2   0\n",
            "NA2   0\n",
            "NA3   0\n",
            ";\n",
            "\n"
          ]
        }
      ],
      "source": [
        "%%ampl_eval\n",
        "model econmin.mod;\n",
        "data econ.dat;\n",
        "option solver cbc;\n",
        "solve;\n",
        "display Level;\n",
        "display Demand.dual;"
      ]
    },
    {
      "cell_type": "markdown",
      "metadata": {
        "id": "OSSVGjxIrHxQ"
      },
      "source": [
        "### Complementarity model\n",
        "\n",
        "Consider the new variables `Price[i]` for each product, and solve the problem to find an *equilibrium* instead of an optimum solution. The equilibrium is subject to two conditions:\n",
        "\n",
        "* First, for each product, total output must meet demand and price must be nonnegative, and in addition there must be a *complementarity* between these relationships, where production exceeds demand the price must be zero, or equivalently, if the price is positive, the production must equal the demand.\n",
        "\n",
        "```\n",
        "subject to Pri_Compl {i in PROD}:\n",
        "   Price[i] >= 0 complements\n",
        "      sum {j in ACT} io[i,j] * Level[j] >= demand[i];\n",
        "```\n",
        "\n",
        "* Second, for each activity `j`, the value of resulting product `i` is `Price[i]*io[i,j]`, so activity `j` would produce a total value of \n",
        "\n",
        "$$\\sum \\limits_{i \\in PROD} Price[i] \\cdot io[i,j]$$\n",
        "\n",
        "When equilibrium happens, the previous value must not exceed the activity's cost per unit `cost[j]`. Moreover, there is a complementarity between this relationship and the level of activity `j`, where cost exceeds total value the activity must be zero, or, where the activity cost is positive then the total value must be equal to the cost. This can be expressed as:\n",
        "\n",
        "```\n",
        "subject to Lev_Compl {j in ACT}:\n",
        "   Level[j] >= 0 complements\n",
        "      sum {i in PROD} Price[i] * io[i,j] <= cost[j];\n",
        "```"
      ]
    },
    {
      "cell_type": "code",
      "execution_count": 6,
      "metadata": {
        "colab": {
          "base_uri": "https://localhost:8080/"
        },
        "id": "LXR5ufh7rHxS",
        "outputId": "fbf36a76-2d2c-4141-c497-042921264677"
      },
      "outputs": [
        {
          "name": "stdout",
          "output_type": "stream",
          "text": [
            "Overwriting econ.mod\n"
          ]
        }
      ],
      "source": [
        "%%writefile econ.mod\n",
        "set PROD;   # products\n",
        "set ACT;    # activities\n",
        "\n",
        "param cost {ACT} > 0;      # cost per unit of each activity\n",
        "param demand {PROD} >= 0;  # units of demand for each product\n",
        "param io {PROD,ACT} >= 0;  # units of each product from\n",
        "                           # 1 unit of each activity\n",
        "var Price {i in PROD};\n",
        "var Level {j in ACT};\n",
        "\n",
        "subject to Pri_Compl {i in PROD}:\n",
        "   Price[i] >= 0 complements\n",
        "      sum {j in ACT} io[i,j] * Level[j] >= demand[i];\n",
        "\n",
        "subject to Lev_Compl {j in ACT}:\n",
        "   Level[j] >= 0 complements\n",
        "      sum {i in PROD} Price[i] * io[i,j] <= cost[j];"
      ]
    },
    {
      "cell_type": "markdown",
      "metadata": {
        "id": "T_VxZTpprHxT"
      },
      "source": [
        "**Remark**: the model is square, as there are $n+m$ variables and $n+m$ constraints ($n$ number of products and $m$ number of activities). Some solvers can take advantage of this to use different solving techniques.\n",
        "\n",
        "Finally, let's see that the equilibrium model gives also the optimal solution for the first classic formulation."
      ]
    },
    {
      "cell_type": "code",
      "execution_count": 7,
      "metadata": {
        "colab": {
          "base_uri": "https://localhost:8080/"
        },
        "id": "QSWaH19ErHxT",
        "outputId": "a63ee018-ec59-4197-bc1c-31926562b5b8"
      },
      "outputs": [
        {
          "name": "stdout",
          "output_type": "stream",
          "text": [
            "Gurobi 10.0.0:Gurobi 10.0.0: optimal solution\n",
            "0 simplex iterations\n",
            "Objective = find a feasible point.\n",
            "sum{j in ACT} cost[j]*Level[j] = 6808640\n",
            "\n",
            "Level [*] :=\n",
            " P1     0\n",
            "P1a  1555.3\n",
            " P2     0\n",
            "P2a     0\n",
            "P2b     0\n",
            " P3   147.465\n",
            "P3c  1889.4\n",
            " P4     0\n",
            ";\n",
            "\n"
          ]
        }
      ],
      "source": [
        "%%ampl_eval\n",
        "reset;\n",
        "model econ.mod;\n",
        "data econ.dat;\n",
        "option solver gurobi;\n",
        "solve;\n",
        "# Show total cost\n",
        "display sum {j in ACT} cost[j] * Level[j];\n",
        "display Level;"
      ]
    }
  ],
  "metadata": {
    "colab": {
      "collapsed_sections": [],
      "name": "economic_eq_lecture.ipynb",
      "provenance": []
    },
    "kernelspec": {
      "display_name": "Python 3.9.13 ('venv': venv)",
      "language": "python",
      "name": "python3"
    },
    "language_info": {
      "codemirror_mode": {
        "name": "ipython",
        "version": 3
      },
      "file_extension": ".py",
      "mimetype": "text/x-python",
      "name": "python",
      "nbconvert_exporter": "python",
      "pygments_lexer": "ipython3",
      "version": "3.9.13"
    },
    "vscode": {
      "interpreter": {
        "hash": "ee4198aac13dae9b6fccd443041680d99c2643c4956ef7c80ff6dcc0057cb523"
      }
    },
    "widgets": {
      "application/vnd.jupyter.widget-state+json": {
        "1af936763fa34e2084e9dc0ea41a3391": {
          "model_module": "@jupyter-widgets/controls",
          "model_module_version": "1.5.0",
          "model_name": "ButtonModel",
          "state": {
            "_dom_classes": [],
            "_model_module": "@jupyter-widgets/controls",
            "_model_module_version": "1.5.0",
            "_model_name": "ButtonModel",
            "_view_count": null,
            "_view_module": "@jupyter-widgets/controls",
            "_view_module_version": "1.5.0",
            "_view_name": "ButtonView",
            "button_style": "",
            "description": "Use demo license",
            "disabled": false,
            "icon": "",
            "layout": "IPY_MODEL_454c642a70454feabf8ab8c60c670f96",
            "style": "IPY_MODEL_49686e4c6388463ca0ba20587d2df5bd",
            "tooltip": ""
          }
        },
        "1e0a9daf2ff1465b88af11d6be4b9f1b": {
          "model_module": "@jupyter-widgets/base",
          "model_module_version": "1.2.0",
          "model_name": "LayoutModel",
          "state": {
            "_model_module": "@jupyter-widgets/base",
            "_model_module_version": "1.2.0",
            "_model_name": "LayoutModel",
            "_view_count": null,
            "_view_module": "@jupyter-widgets/base",
            "_view_module_version": "1.2.0",
            "_view_name": "LayoutView",
            "align_content": null,
            "align_items": null,
            "align_self": null,
            "border": null,
            "bottom": null,
            "display": null,
            "flex": null,
            "flex_flow": null,
            "grid_area": null,
            "grid_auto_columns": null,
            "grid_auto_flow": null,
            "grid_auto_rows": null,
            "grid_column": null,
            "grid_gap": null,
            "grid_row": null,
            "grid_template_areas": null,
            "grid_template_columns": null,
            "grid_template_rows": null,
            "height": null,
            "justify_content": null,
            "justify_items": null,
            "left": null,
            "margin": null,
            "max_height": null,
            "max_width": null,
            "min_height": null,
            "min_width": null,
            "object_fit": null,
            "object_position": null,
            "order": null,
            "overflow": null,
            "overflow_x": null,
            "overflow_y": null,
            "padding": null,
            "right": null,
            "top": null,
            "visibility": null,
            "width": null
          }
        },
        "454c642a70454feabf8ab8c60c670f96": {
          "model_module": "@jupyter-widgets/base",
          "model_module_version": "1.2.0",
          "model_name": "LayoutModel",
          "state": {
            "_model_module": "@jupyter-widgets/base",
            "_model_module_version": "1.2.0",
            "_model_name": "LayoutModel",
            "_view_count": null,
            "_view_module": "@jupyter-widgets/base",
            "_view_module_version": "1.2.0",
            "_view_name": "LayoutView",
            "align_content": null,
            "align_items": null,
            "align_self": null,
            "border": null,
            "bottom": null,
            "display": null,
            "flex": null,
            "flex_flow": null,
            "grid_area": null,
            "grid_auto_columns": null,
            "grid_auto_flow": null,
            "grid_auto_rows": null,
            "grid_column": null,
            "grid_gap": null,
            "grid_row": null,
            "grid_template_areas": null,
            "grid_template_columns": null,
            "grid_template_rows": null,
            "height": null,
            "justify_content": null,
            "justify_items": null,
            "left": null,
            "margin": null,
            "max_height": null,
            "max_width": null,
            "min_height": null,
            "min_width": null,
            "object_fit": null,
            "object_position": null,
            "order": null,
            "overflow": null,
            "overflow_x": null,
            "overflow_y": null,
            "padding": null,
            "right": null,
            "top": null,
            "visibility": null,
            "width": null
          }
        },
        "49686e4c6388463ca0ba20587d2df5bd": {
          "model_module": "@jupyter-widgets/controls",
          "model_module_version": "1.5.0",
          "model_name": "ButtonStyleModel",
          "state": {
            "_model_module": "@jupyter-widgets/controls",
            "_model_module_version": "1.5.0",
            "_model_name": "ButtonStyleModel",
            "_view_count": null,
            "_view_module": "@jupyter-widgets/base",
            "_view_module_version": "1.2.0",
            "_view_name": "StyleView",
            "button_color": null,
            "font_weight": ""
          }
        },
        "4a1b17384ea04a759283cbab6688bb31": {
          "model_module": "@jupyter-widgets/controls",
          "model_module_version": "1.5.0",
          "model_name": "TextModel",
          "state": {
            "_dom_classes": [],
            "_model_module": "@jupyter-widgets/controls",
            "_model_module_version": "1.5.0",
            "_model_name": "TextModel",
            "_view_count": null,
            "_view_module": "@jupyter-widgets/controls",
            "_view_module_version": "1.5.0",
            "_view_name": "TextView",
            "continuous_update": true,
            "description": "UUID:",
            "description_tooltip": null,
            "disabled": false,
            "layout": "IPY_MODEL_f3a7c4f5e48f4104bebd80ced4766c41",
            "placeholder": "​",
            "style": "IPY_MODEL_a6cb026db0314ecfbfd665d6561dec2f",
            "value": ""
          }
        },
        "64cf6567cba54a60af4de263b8f3bcfa": {
          "model_module": "@jupyter-widgets/base",
          "model_module_version": "1.2.0",
          "model_name": "LayoutModel",
          "state": {
            "_model_module": "@jupyter-widgets/base",
            "_model_module_version": "1.2.0",
            "_model_name": "LayoutModel",
            "_view_count": null,
            "_view_module": "@jupyter-widgets/base",
            "_view_module_version": "1.2.0",
            "_view_name": "LayoutView",
            "align_content": null,
            "align_items": null,
            "align_self": null,
            "border": null,
            "bottom": null,
            "display": null,
            "flex": null,
            "flex_flow": null,
            "grid_area": null,
            "grid_auto_columns": null,
            "grid_auto_flow": null,
            "grid_auto_rows": null,
            "grid_column": null,
            "grid_gap": null,
            "grid_row": null,
            "grid_template_areas": null,
            "grid_template_columns": null,
            "grid_template_rows": null,
            "height": null,
            "justify_content": null,
            "justify_items": null,
            "left": null,
            "margin": null,
            "max_height": null,
            "max_width": null,
            "min_height": null,
            "min_width": null,
            "object_fit": null,
            "object_position": null,
            "order": null,
            "overflow": null,
            "overflow_x": null,
            "overflow_y": null,
            "padding": null,
            "right": null,
            "top": null,
            "visibility": null,
            "width": null
          }
        },
        "72b0fe1b0b5e429d86c70c1f63dd8186": {
          "model_module": "@jupyter-widgets/base",
          "model_module_version": "1.2.0",
          "model_name": "LayoutModel",
          "state": {
            "_model_module": "@jupyter-widgets/base",
            "_model_module_version": "1.2.0",
            "_model_name": "LayoutModel",
            "_view_count": null,
            "_view_module": "@jupyter-widgets/base",
            "_view_module_version": "1.2.0",
            "_view_name": "LayoutView",
            "align_content": null,
            "align_items": null,
            "align_self": null,
            "border": null,
            "bottom": null,
            "display": null,
            "flex": null,
            "flex_flow": null,
            "grid_area": null,
            "grid_auto_columns": null,
            "grid_auto_flow": null,
            "grid_auto_rows": null,
            "grid_column": null,
            "grid_gap": null,
            "grid_row": null,
            "grid_template_areas": null,
            "grid_template_columns": null,
            "grid_template_rows": null,
            "height": null,
            "justify_content": null,
            "justify_items": null,
            "left": null,
            "margin": null,
            "max_height": null,
            "max_width": null,
            "min_height": null,
            "min_width": null,
            "object_fit": null,
            "object_position": null,
            "order": null,
            "overflow": null,
            "overflow_x": null,
            "overflow_y": null,
            "padding": null,
            "right": null,
            "top": null,
            "visibility": null,
            "width": null
          }
        },
        "7d9fb59a1ab9485f80dd3a156365173e": {
          "model_module": "@jupyter-widgets/output",
          "model_module_version": "1.0.0",
          "model_name": "OutputModel",
          "state": {
            "_dom_classes": [],
            "_model_module": "@jupyter-widgets/output",
            "_model_module_version": "1.0.0",
            "_model_name": "OutputModel",
            "_view_count": null,
            "_view_module": "@jupyter-widgets/output",
            "_view_module_version": "1.0.0",
            "_view_name": "OutputView",
            "layout": "IPY_MODEL_da367405cff74c02b7abd45c59f49977",
            "msg_id": "",
            "outputs": [
              {
                "name": "stdout",
                "output_type": "stream",
                "text": [
                  "\n",
                  "AMPL Version 20220506 (Linux-5.4.0-1080-azure, 64-bit)\n",
                  "Demo license with maintenance expiring 20240131.\n",
                  "Using license file \"/content/ampl.linux-intel64/ampl.lic\".\n",
                  "\n"
                ]
              }
            ]
          }
        },
        "998229df42aa49f580a9bb1f2b2a9eed": {
          "model_module": "@jupyter-widgets/controls",
          "model_module_version": "1.5.0",
          "model_name": "VBoxModel",
          "state": {
            "_dom_classes": [],
            "_model_module": "@jupyter-widgets/controls",
            "_model_module_version": "1.5.0",
            "_model_name": "VBoxModel",
            "_view_count": null,
            "_view_module": "@jupyter-widgets/controls",
            "_view_module_version": "1.5.0",
            "_view_name": "VBoxView",
            "box_style": "",
            "children": [
              "IPY_MODEL_b26ba570b9c64acd8efce462da574b71",
              "IPY_MODEL_d9cd3c48fb14497e81c7709d43fd5190",
              "IPY_MODEL_7d9fb59a1ab9485f80dd3a156365173e"
            ],
            "layout": "IPY_MODEL_64cf6567cba54a60af4de263b8f3bcfa"
          }
        },
        "a6cb026db0314ecfbfd665d6561dec2f": {
          "model_module": "@jupyter-widgets/controls",
          "model_module_version": "1.5.0",
          "model_name": "DescriptionStyleModel",
          "state": {
            "_model_module": "@jupyter-widgets/controls",
            "_model_module_version": "1.5.0",
            "_model_name": "DescriptionStyleModel",
            "_view_count": null,
            "_view_module": "@jupyter-widgets/base",
            "_view_module_version": "1.2.0",
            "_view_name": "StyleView",
            "description_width": ""
          }
        },
        "b26ba570b9c64acd8efce462da574b71": {
          "model_module": "@jupyter-widgets/controls",
          "model_module_version": "1.5.0",
          "model_name": "HBoxModel",
          "state": {
            "_dom_classes": [],
            "_model_module": "@jupyter-widgets/controls",
            "_model_module_version": "1.5.0",
            "_model_name": "HBoxModel",
            "_view_count": null,
            "_view_module": "@jupyter-widgets/controls",
            "_view_module_version": "1.5.0",
            "_view_name": "HBoxView",
            "box_style": "",
            "children": [
              "IPY_MODEL_1af936763fa34e2084e9dc0ea41a3391",
              "IPY_MODEL_4a1b17384ea04a759283cbab6688bb31"
            ],
            "layout": "IPY_MODEL_1e0a9daf2ff1465b88af11d6be4b9f1b"
          }
        },
        "d9cd3c48fb14497e81c7709d43fd5190": {
          "model_module": "@jupyter-widgets/output",
          "model_module_version": "1.0.0",
          "model_name": "OutputModel",
          "state": {
            "_dom_classes": [],
            "_model_module": "@jupyter-widgets/output",
            "_model_module_version": "1.0.0",
            "_model_name": "OutputModel",
            "_view_count": null,
            "_view_module": "@jupyter-widgets/output",
            "_view_module_version": "1.0.0",
            "_view_name": "OutputView",
            "layout": "IPY_MODEL_72b0fe1b0b5e429d86c70c1f63dd8186",
            "msg_id": "",
            "outputs": [
              {
                "name": "stdout",
                "output_type": "stream",
                "text": [
                  "Using demo license.\n"
                ]
              }
            ]
          }
        },
        "da367405cff74c02b7abd45c59f49977": {
          "model_module": "@jupyter-widgets/base",
          "model_module_version": "1.2.0",
          "model_name": "LayoutModel",
          "state": {
            "_model_module": "@jupyter-widgets/base",
            "_model_module_version": "1.2.0",
            "_model_name": "LayoutModel",
            "_view_count": null,
            "_view_module": "@jupyter-widgets/base",
            "_view_module_version": "1.2.0",
            "_view_name": "LayoutView",
            "align_content": null,
            "align_items": null,
            "align_self": null,
            "border": null,
            "bottom": null,
            "display": null,
            "flex": null,
            "flex_flow": null,
            "grid_area": null,
            "grid_auto_columns": null,
            "grid_auto_flow": null,
            "grid_auto_rows": null,
            "grid_column": null,
            "grid_gap": null,
            "grid_row": null,
            "grid_template_areas": null,
            "grid_template_columns": null,
            "grid_template_rows": null,
            "height": null,
            "justify_content": null,
            "justify_items": null,
            "left": null,
            "margin": null,
            "max_height": null,
            "max_width": null,
            "min_height": null,
            "min_width": null,
            "object_fit": null,
            "object_position": null,
            "order": null,
            "overflow": null,
            "overflow_x": null,
            "overflow_y": null,
            "padding": null,
            "right": null,
            "top": null,
            "visibility": null,
            "width": null
          }
        },
        "f3a7c4f5e48f4104bebd80ced4766c41": {
          "model_module": "@jupyter-widgets/base",
          "model_module_version": "1.2.0",
          "model_name": "LayoutModel",
          "state": {
            "_model_module": "@jupyter-widgets/base",
            "_model_module_version": "1.2.0",
            "_model_name": "LayoutModel",
            "_view_count": null,
            "_view_module": "@jupyter-widgets/base",
            "_view_module_version": "1.2.0",
            "_view_name": "LayoutView",
            "align_content": null,
            "align_items": null,
            "align_self": null,
            "border": null,
            "bottom": null,
            "display": null,
            "flex": null,
            "flex_flow": null,
            "grid_area": null,
            "grid_auto_columns": null,
            "grid_auto_flow": null,
            "grid_auto_rows": null,
            "grid_column": null,
            "grid_gap": null,
            "grid_row": null,
            "grid_template_areas": null,
            "grid_template_columns": null,
            "grid_template_rows": null,
            "height": null,
            "justify_content": null,
            "justify_items": null,
            "left": null,
            "margin": null,
            "max_height": null,
            "max_width": null,
            "min_height": null,
            "min_width": null,
            "object_fit": null,
            "object_position": null,
            "order": null,
            "overflow": null,
            "overflow_x": null,
            "overflow_y": null,
            "padding": null,
            "right": null,
            "top": null,
            "visibility": null,
            "width": null
          }
        }
      }
    }
  },
  "nbformat": 4,
  "nbformat_minor": 1
}
