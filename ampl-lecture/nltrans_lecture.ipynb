{
  "cells": [
    {
      "cell_type": "markdown",
      "metadata": {
        "id": "CWS4LIAJ1Sov"
      },
      "source": [
        "# Nonlinear transportation model\n",
        "[![nltrans_lecture.ipynb](https://img.shields.io/badge/github-%23121011.svg?logo=github)](https://github.com/ampl/colab.ampl.com/blob/master/ampl-lecture/nltrans_lecture.ipynb) [![Open In Colab](https://colab.research.google.com/assets/colab-badge.svg)](https://colab.research.google.com/github/ampl/colab.ampl.com/blob/master/ampl-lecture/nltrans_lecture.ipynb) [![Kaggle](https://kaggle.com/static/images/open-in-kaggle.svg)](https://kaggle.com/kernels/welcome?src=https://github.com/ampl/colab.ampl.com/blob/master/ampl-lecture/nltrans_lecture.ipynb) [![Gradient](https://assets.paperspace.io/img/gradient-badge.svg)](https://console.paperspace.com/github/ampl/colab.ampl.com/blob/master/ampl-lecture/nltrans_lecture.ipynb) [![Open In SageMaker Studio Lab](https://studiolab.sagemaker.aws/studiolab.svg)](https://studiolab.sagemaker.aws/import/github/ampl/colab.ampl.com/blob/master/ampl-lecture/nltrans_lecture.ipynb) [![Hits](https://h.ampl.com/https://github.com/ampl/colab.ampl.com/blob/master/ampl-lecture/nltrans_lecture.ipynb)](https://colab.ampl.com)\n",
        "\n",
        "Description: Nonlinear transportation problem with Amplpy nltransd.mod, nltrans.dat, and nltrans.run\n",
        "\n",
        "Tags: ampl-book, nonlinear, ipopt\n",
        "\n",
        "Notebook author: Marcos Dominguez Velad <<marcos@ampl.com>>\n",
        "\n",
        "Model author: N/A\n"
      ]
    },
    {
      "cell_type": "code",
      "execution_count": 1,
      "metadata": {
        "id": "jV8xbojY1Soy"
      },
      "outputs": [],
      "source": [
        "# Install dependencies\n",
        "%pip install -q amplpy"
      ]
    },
    {
      "cell_type": "code",
      "execution_count": 2,
      "metadata": {
        "id": "8Q-w1zYR1Soz"
      },
      "outputs": [],
      "source": [
        "# Google Colab & Kaggle integration\n",
        "from amplpy import AMPL, ampl_notebook\n",
        "\n",
        "ampl = ampl_notebook(\n",
        "    modules=[\"coin\"],  # modules to install\n",
        "    license_uuid=\"default\",  # license to use\n",
        ")  # instantiate AMPL object and register magics"
      ]
    },
    {
      "cell_type": "markdown",
      "metadata": {
        "id": "LGCtwI8p1So0"
      },
      "source": [
        "This is a variation of the linear transportation model presented on the Chapter 3 of the AMPL book, containing a nonlinear objective. There are a set of *origin* nodes, and a set of *destination* nodes (net model).\n",
        "\n",
        "* Sets:\n",
        "    * `ORIG`: origin nodes\n",
        "    * `DEST`: final nodes\n",
        "* Parameters:\n",
        "    * `supply {ORIG}`: available units at origins\n",
        "    * `demand {DEST}`: required units at destinations\n",
        "    * `limit {ORIG,DEST}`: maximum capacity on routes between two nodes\n",
        "    * `rate {ORIG,DEST}`: base shipment costs per unit\n",
        "* Variables:\n",
        "    * `Trans {ORIG,DEST}`: units to be shipped\n",
        "* Objective: minimize total cost (**nonlinear**)\n",
        "\n",
        "$$\\sum \\limits_{\\substack{i \\in ORIG \\\\ j \\in DEST}} rate[i,j] \\cdot \\frac{Trans[i,j]}{1 - \\frac{Trans[i,j]}{limit[i,j]}}$$\n",
        "\n",
        "The bigger the `Trans[i,j]` value, the closer to `limit[i,j]` (upper bound) so denominator tends to $1-1=0$ implying high costs.\n",
        "\n",
        "* Constraints:\n",
        "    * `Supply {ORIG}`: node ships units equal to supply capacity:\n",
        "    \n",
        "    $$\\sum \\limits_{j \\in DEST} Trans[i,j] = supply[i]$$\n",
        "    \n",
        "    * `Demand {DEST}`: node gets units equal to demand:\n",
        "    \n",
        "    $$\\sum \\limits_{i \\in ORIG} Trans[i,j] = demand[j]$$"
      ]
    },
    {
      "cell_type": "code",
      "execution_count": 3,
      "metadata": {
        "colab": {
          "base_uri": "https://localhost:8080/"
        },
        "id": "QivdGRiG1So0",
        "outputId": "53045bec-7318-4b2a-aed7-0391d20280ce"
      },
      "outputs": [
        {
          "output_type": "stream",
          "name": "stdout",
          "text": [
            "Overwriting nltrans.mod\n"
          ]
        }
      ],
      "source": [
        "%%writefile nltrans.mod\n",
        "set ORIG;   # origins\n",
        "set DEST;   # destinations\n",
        "\n",
        "param supply {ORIG} >= 0;   # amounts available at origins\n",
        "param demand {DEST} >= 0;   # amounts required at destinations\n",
        "\n",
        "   check: sum {i in ORIG} supply[i] = sum {j in DEST} demand[j];\n",
        "\n",
        "param rate {ORIG,DEST} >= 0;   # base shipment costs per unit\n",
        "param limit {ORIG,DEST} > 0;   # limit on units shipped\n",
        "\n",
        "var Trans {i in ORIG, j in DEST} >= 0;    # actual units to be shipped\n",
        "\n",
        "minimize Total_Cost:\n",
        "   sum {i in ORIG, j in DEST}\n",
        "      rate[i,j] * Trans[i,j] / (1 - Trans[i,j]/limit[i,j]);\n",
        "\n",
        "subject to Supply {i in ORIG}:\n",
        "   sum {j in DEST} Trans[i,j] = supply[i];\n",
        "\n",
        "subject to Demand {j in DEST}:\n",
        "   sum {i in ORIG} Trans[i,j] = demand[j];\n",
        "\n"
      ]
    },
    {
      "cell_type": "code",
      "execution_count": 4,
      "metadata": {
        "id": "RCXH1Wcv1So1"
      },
      "outputs": [],
      "source": [
        "import pandas as pd\n",
        "import numpy as np\n",
        "\n",
        "# ORIG supply data\n",
        "supply_data = {\"ORIG\": [\"GARY\", \"CLEV\", \"PITT\"], \"supply\": [1400, 2600, 2900]}\n",
        "supply_df = pd.DataFrame(supply_data).set_index(\"ORIG\")\n",
        "\n",
        "# DEST demand data\n",
        "demand_data = {\n",
        "    \"DEST\": [\"FRA\", \"DET\", \"LAN\", \"WIN\", \"STL\", \"FRE\", \"LAF\"],\n",
        "    \"demand\": [900, 1200, 600, 400, 1700, 1100, 1000],\n",
        "}\n",
        "demand_df = pd.DataFrame(demand_data).set_index(\"DEST\")\n",
        "\n",
        "rate = np.array(\n",
        "    [\n",
        "        # 'FRA', 'DET', 'LAN', 'WIN', 'STL', 'FRE', 'LAF'\n",
        "        [39, 14, 11, 14, 16, 82, 8],  # GARY\n",
        "        [27, 9, 12, 9, 26, 95, 17],  # CLEV\n",
        "        [24, 14, 17, 13, 28, 99, 20],  # PITT\n",
        "    ]\n",
        ")\n",
        "\n",
        "limit = np.array(\n",
        "    [\n",
        "        #  'FRA', 'DET', 'LAN', 'WIN', 'STL', 'FRE', 'LAF'\n",
        "        [500, 1000, 1000, 1000, 800, 500, 1000],  # GARY\n",
        "        [500, 800, 800, 800, 500, 500, 1000],  # CLEV\n",
        "        [800, 600, 600, 600, 500, 500, 900],  # PITT\n",
        "    ]\n",
        ")"
      ]
    },
    {
      "cell_type": "code",
      "execution_count": 5,
      "metadata": {
        "colab": {
          "base_uri": "https://localhost:8080/"
        },
        "id": "y60IZ00Q1So1",
        "outputId": "343c9e2f-e599-4ed6-fa44-1812b0067024"
      },
      "outputs": [
        {
          "output_type": "stream",
          "name": "stdout",
          "text": [
            "Ipopt 3.12.13: outlev=0\n",
            "\n",
            "\n",
            "******************************************************************************\n",
            "This program contains Ipopt, a library for large-scale nonlinear optimization.\n",
            " Ipopt is released as open source code under the Eclipse Public License (EPL).\n",
            "         For more information visit http://projects.coin-or.org/Ipopt\n",
            "******************************************************************************\n",
            "\n",
            " \n",
            "Ipopt 3.12.13: Maximum Number of Iterations Exceeded.\n",
            "\n",
            "suffix ipopt_zU_out OUT;\n",
            "suffix ipopt_zL_out OUT;\n",
            "Total_Cost = -22681400000\n",
            "\n",
            "Trans [*,*] (tr)\n",
            ":      CLEV       GARY      PITT      :=\n",
            "DET   518.41    279.922    401.668\n",
            "FRA   326.573   153.849    419.579\n",
            "FRE   377.651   371.911    350.438\n",
            "LAF   409.194   173.889    416.917\n",
            "LAN   284.738    34.4686   280.794\n",
            "STL   500       372.77     827.229\n",
            "WIN   183.433    13.1917   203.375\n",
            ";\n",
            "\n"
          ]
        }
      ],
      "source": [
        "ampl.read(\"nltrans.mod\")\n",
        "\n",
        "ampl.set_data(supply_df, \"ORIG\")\n",
        "ampl.set_data(demand_df, \"DEST\")\n",
        "ampl.param[\"rate\"] = rate\n",
        "ampl.param[\"limit\"] = limit\n",
        "\n",
        "# ipopt output is very verbose, we can reduce it by setting the option ipopt_options='outlev=0, or simply verbose=False\n",
        "ampl.solve(solver=\"ipopt\", ipopt_options=\"outlev=0\")\n",
        "ampl.display(\"Total_Cost\", \"Trans\")"
      ]
    },
    {
      "cell_type": "markdown",
      "source": [
        "From the output of the solver we can see\n",
        "\n",
        "\"Ipopt 3.12.13: Maximum Number of Iterations Exceeded.\"\n",
        "\n",
        "Since Ipopt is a local search solver, it takes several iterations to improve the current solution. This is typical in non linear problems, and this particular example is highly nonlinear. Ipopt finished the solving process after reaching the maximum iterations limit. The \"solve status\" can be checked through the `solve_result` attribute:"
      ],
      "metadata": {
        "id": "7EitXmXjFfZe"
      }
    },
    {
      "cell_type": "code",
      "execution_count": 6,
      "metadata": {
        "colab": {
          "base_uri": "https://localhost:8080/"
        },
        "id": "e7-kzzV81So2",
        "outputId": "2967fc4a-d0a4-43f6-8907-554f93172629"
      },
      "outputs": [
        {
          "output_type": "stream",
          "name": "stdout",
          "text": [
            "Solve status: limit\n"
          ]
        }
      ],
      "source": [
        "print(f\"Solve status: {ampl.solve_result}\")\n",
        "assert ampl.solve_result == \"limit\", ampl.solve_result"
      ]
    },
    {
      "cell_type": "markdown",
      "metadata": {
        "id": "WMEB6ue-1So2"
      },
      "source": [
        "Because the behavior of a nonlinear optimization algorithm can be sensitive to the choice of starting guess, we might hope that the solver will have greater success from a different start. To ensure that the comparison is meaningful, we first set the option `send_statuses` to 0.\n",
        "\n",
        "So that status information about variables that was returned by the previous solve will not be sent back to help determine a starting point for the next solve. We can use the `let` command to suggest a new initial value for each variable. For example, say that `Trans[i,j]` is half of `limit[i,j]`."
      ]
    },
    {
      "cell_type": "code",
      "execution_count": 7,
      "metadata": {
        "colab": {
          "base_uri": "https://localhost:8080/"
        },
        "id": "Tc0AyqnS1So3",
        "outputId": "fbd6a085-4f75-485e-b029-560418c43e01"
      },
      "outputs": [
        {
          "output_type": "stream",
          "name": "stdout",
          "text": [
            "Total_Cost = 1212120\n",
            "\n",
            "Trans[i,j]/limit[i,j] [*,*] (tr)\n",
            ":       CLEV       GARY       PITT      :=\n",
            "DET   0.732965   0.187385   0.710404\n",
            "FRA   0.589986   0.162441   0.654733\n",
            "FRE   0.731      0.739444   0.729557\n",
            "LAF   0.490537   0          0.56607\n",
            "LAN   0.367685   0          0.509753\n",
            "STL   0.939382   0.95209    0.937274\n",
            "WIN   0.123449   0          0.502068\n",
            ";\n",
            "\n"
          ]
        }
      ],
      "source": [
        "ampl.option[\"send_statuses\"] = 0\n",
        "ampl.eval(\"let {i in ORIG, j in DEST} Trans[i,j] := limit[i,j]/2;\")\n",
        "ampl.solve(solver=\"ipopt\", verbose=False)\n",
        "ampl.display(\"Total_Cost\")\n",
        "ampl.display(\"{i in ORIG, j in DEST} Trans[i,j]/limit[i,j]\")"
      ]
    },
    {
      "cell_type": "code",
      "execution_count": 8,
      "metadata": {
        "colab": {
          "base_uri": "https://localhost:8080/"
        },
        "id": "dbWtfsWx1So3",
        "outputId": "b6195a1b-ea9b-4a19-8ad7-66579a634bed"
      },
      "outputs": [
        {
          "output_type": "stream",
          "name": "stdout",
          "text": [
            "Solve status: solved\n"
          ]
        }
      ],
      "source": [
        "print(f\"Solve status: {ampl.solve_result}\")\n",
        "assert ampl.solve_result == \"solved\", ampl.solve_result"
      ]
    },
    {
      "cell_type": "markdown",
      "metadata": {
        "id": "jNZkYuGo1So3"
      },
      "source": [
        "Now the solver gives a right solution. However, we could have had trouble in case any `Trans` variable get closer to the `limit`, what we could check by calling\n",
        "```\n",
        "display {i in ORIG, j in DEST} Trans[i,j]/limit[i,j];\n",
        "```\n",
        "We could implement a more robust formulation by giving more explicit bounds to the variables to avoid numerical issues. With the following bounds, `Trans` will be smaller that `limit`.\n",
        "```\n",
        "var Trans {i in ORIG, j in DEST} >= 0, <= .9999 * limit[i,j];\n",
        "```\n",
        "\n",
        "### Multiple local optima\n",
        "\n",
        "Let's change to a concave objective function by adding a power of 0.8:\n",
        "\n",
        "$$\\sum \\limits_{\\substack{i \\in ORIG \\\\ j \\in DEST}} rate[i,j] \\cdot \\frac{Trans[i,j]^{0.8}}{1 - \\frac{Trans[i,j]}{limit[i,j]}}$$\n"
      ]
    },
    {
      "cell_type": "code",
      "execution_count": 9,
      "metadata": {
        "colab": {
          "base_uri": "https://localhost:8080/"
        },
        "id": "oKS4FfLO1So3",
        "outputId": "89f8b5d0-84f4-451a-a5e4-bef6befde5d8"
      },
      "outputs": [
        {
          "output_type": "stream",
          "name": "stdout",
          "text": [
            "Overwriting nltransc.mod\n"
          ]
        }
      ],
      "source": [
        "%%writefile nltransc.mod\n",
        "set ORIG;   # origins\n",
        "set DEST;   # destinations\n",
        "\n",
        "param supply {ORIG} >= 0;   # amounts available at origins\n",
        "param demand {DEST} >= 0;   # amounts required at destinations\n",
        "\n",
        "   check: sum {i in ORIG} supply[i] = sum {j in DEST} demand[j];\n",
        "\n",
        "param rate {ORIG,DEST} >= 0;   # base shipment costs per unit\n",
        "param limit {ORIG,DEST} > 0;   # limit on units shipped\n",
        "\n",
        "var Trans {i in ORIG, j in DEST} >= 0, <= .9999 * limit[i,j];\n",
        "    # actual units to be shipped\n",
        "\n",
        "minimize Total_Cost:\n",
        "   sum {i in ORIG, j in DEST}\n",
        "      rate[i,j] * Trans[i,j]^0.8 / (1 - Trans[i,j]/limit[i,j]);\n",
        "\n",
        "subject to Supply {i in ORIG}:\n",
        "   sum {j in DEST} Trans[i,j] = supply[i];\n",
        "\n",
        "subject to Demand {j in DEST}:\n",
        "   sum {i in ORIG} Trans[i,j] = demand[j];\n"
      ]
    },
    {
      "cell_type": "code",
      "execution_count": 10,
      "metadata": {
        "colab": {
          "base_uri": "https://localhost:8080/"
        },
        "id": "fFfws8N_1So4",
        "outputId": "22baeb1c-c01a-4928-fea7-07c585b1f98c"
      },
      "outputs": [
        {
          "output_type": "stream",
          "name": "stdout",
          "text": [
            "Ipopt 3.12.13: outlev=0\n",
            "\n",
            "\n",
            "******************************************************************************\n",
            "This program contains Ipopt, a library for large-scale nonlinear optimization.\n",
            " Ipopt is released as open source code under the Eclipse Public License (EPL).\n",
            "         For more information visit http://projects.coin-or.org/Ipopt\n",
            "******************************************************************************\n",
            "\n",
            "Error evaluating \"var =\" definition -1: can't evaluate pow'(0,0.8).\n",
            "exit value 1\n",
            "<BREAK>\n",
            "Total_Cost = 0\n",
            "\n",
            "Trans [*,*] (tr)\n",
            ":   CLEV GARY PITT    :=\n",
            "DET   0    0    0\n",
            "FRA   0    0    0\n",
            "FRE   0    0    0\n",
            "LAF   0    0    0\n",
            "LAN   0    0    0\n",
            "STL   0    0    0\n",
            "WIN   0    0    0\n",
            ";\n",
            "\n"
          ]
        }
      ],
      "source": [
        "ampl.reset()\n",
        "ampl.read(\"nltransc.mod\")\n",
        "\n",
        "ampl.set_data(supply_df, \"ORIG\")\n",
        "ampl.set_data(demand_df, \"DEST\")\n",
        "ampl.param[\"rate\"] = rate\n",
        "ampl.param[\"limit\"] = limit\n",
        "\n",
        "ampl.solve(solver=\"ipopt\", ipopt_options=\"outlev=0\")\n",
        "ampl.display(\"Total_Cost\", \"Trans\")"
      ]
    },
    {
      "cell_type": "code",
      "execution_count": 11,
      "metadata": {
        "id": "6vQ2-qPV1So4"
      },
      "outputs": [],
      "source": [
        "assert ampl.solve_result == \"failure\", ampl.solve_result"
      ]
    },
    {
      "cell_type": "markdown",
      "metadata": {
        "id": "hbv57WBk1So4"
      },
      "source": [
        "We got the error\n",
        "\n",
        "*Error evaluating \"var =\" definition -1: can't evaluate pow'(0,0.8).*\n",
        "\n",
        "This is due to the fact that the derivative of the exponential function at zero is infinity. We could just give an starting point away from zero, and tighten the lower bound too:\n",
        "```\n",
        "var Trans {i in ORIG, j in DEST} >= 1e-10, <= .9999 * limit[i,j], := limit[i,j]/2;\n",
        "```"
      ]
    },
    {
      "cell_type": "code",
      "execution_count": 12,
      "metadata": {
        "colab": {
          "base_uri": "https://localhost:8080/"
        },
        "id": "mS2ui02l1So4",
        "outputId": "fc0c897f-12b5-4401-ba4c-ec48df286b24"
      },
      "outputs": [
        {
          "output_type": "stream",
          "name": "stdout",
          "text": [
            "Overwriting nltransd.mod\n"
          ]
        }
      ],
      "source": [
        "%%writefile nltransd.mod\n",
        "set ORIG;   # origins\n",
        "set DEST;   # destinations\n",
        "\n",
        "param supply {ORIG} >= 0;   # amounts available at origins\n",
        "param demand {DEST} >= 0;   # amounts required at destinations\n",
        "\n",
        "   check: sum {i in ORIG} supply[i] = sum {j in DEST} demand[j];\n",
        "\n",
        "param rate {ORIG,DEST} >= 0;   # base shipment costs per unit\n",
        "param limit {ORIG,DEST} > 0;   # limit on units shipped\n",
        "\n",
        "var Trans {i in ORIG, j in DEST} >= 1e-10, <= .9999 * limit[i,j], := limit[i,j]/2;\n",
        "    # actual units to be shipped\n",
        "\n",
        "minimize Total_Cost:\n",
        "   sum {i in ORIG, j in DEST}\n",
        "      rate[i,j] * Trans[i,j]^0.8 / (1 - Trans[i,j]/limit[i,j]);\n",
        "\n",
        "subject to Supply {i in ORIG}:\n",
        "   sum {j in DEST} Trans[i,j] = supply[i];\n",
        "\n",
        "subject to Demand {j in DEST}:\n",
        "   sum {i in ORIG} Trans[i,j] = demand[j];\n"
      ]
    },
    {
      "cell_type": "code",
      "execution_count": 13,
      "metadata": {
        "colab": {
          "base_uri": "https://localhost:8080/"
        },
        "id": "kVxkdg4r1So4",
        "outputId": "a4b27ee7-023c-4fe2-bf7d-53ec47134c62"
      },
      "outputs": [
        {
          "output_type": "stream",
          "name": "stdout",
          "text": [
            "Total_Cost = 354279\n",
            "\n",
            "Trans [*,*] (tr)\n",
            ":      CLEV         GARY         PITT      :=\n",
            "DET   586.429   191.805         421.765\n",
            "FRA   292.089    75.1764        532.735\n",
            "FRE   365.333   370.173         364.494\n",
            "LAF   488.914     0.0937081     510.992\n",
            "LAN   298.74      0.000276411   301.26\n",
            "STL   469.177   762.751         468.072\n",
            "WIN    99.318     9.99922e-05   300.682\n",
            ";\n",
            "\n"
          ]
        }
      ],
      "source": [
        "ampl.reset()\n",
        "ampl.read(\"nltransd.mod\")\n",
        "\n",
        "ampl.set_data(supply_df, \"ORIG\")\n",
        "ampl.set_data(demand_df, \"DEST\")\n",
        "ampl.param[\"rate\"] = rate\n",
        "ampl.param[\"limit\"] = limit\n",
        "\n",
        "ampl.solve(solver=\"ipopt\", verbose=False)\n",
        "ampl.display(\"Total_Cost\", \"Trans\")"
      ]
    },
    {
      "cell_type": "code",
      "execution_count": 14,
      "metadata": {
        "id": "uT0I450O1So4"
      },
      "outputs": [],
      "source": [
        "assert ampl.solve_result == \"failure\", ampl.solve_result"
      ]
    },
    {
      "cell_type": "markdown",
      "metadata": {
        "id": "F5HnbUg31So4"
      },
      "source": [
        "By adding a new parameter `alpha` that ponders the lower bound for `Trans`, we may solve the problem from different initial guesses, providing potential different solutions."
      ]
    },
    {
      "cell_type": "code",
      "execution_count": 15,
      "metadata": {
        "colab": {
          "base_uri": "https://localhost:8080/"
        },
        "id": "0SVHJKEN1So4",
        "outputId": "432cc127-14fc-494e-b82d-78122b868162"
      },
      "outputs": [
        {
          "output_type": "stream",
          "name": "stdout",
          "text": [
            "Overwriting nltranse.mod\n"
          ]
        }
      ],
      "source": [
        "%%writefile nltranse.mod\n",
        "set ORIG;   # origins\n",
        "set DEST;   # destinations\n",
        "\n",
        "param supply {ORIG} >= 0;   # amounts available at origins\n",
        "param demand {DEST} >= 0;   # amounts required at destinations\n",
        "\n",
        "   check: sum {i in ORIG} supply[i] = sum {j in DEST} demand[j];\n",
        "\n",
        "param rate {ORIG,DEST} >= 0;   # base shipment costs per unit\n",
        "param limit {ORIG,DEST} > 0;   # limit on units shipped\n",
        "\n",
        "param alpha >= 0, <= 1;\n",
        "var Trans {i in ORIG, j in DEST} >= 1e-10, <= .9999 * limit[i,j], := alpha*limit[i,j];\n",
        "    # actual units to be shipped\n",
        "\n",
        "minimize Total_Cost:\n",
        "   sum {i in ORIG, j in DEST}\n",
        "      rate[i,j] * Trans[i,j]^0.8 / (1 - Trans[i,j]/limit[i,j]);\n",
        "\n",
        "subject to Supply {i in ORIG}:\n",
        "   sum {j in DEST} Trans[i,j] = supply[i];\n",
        "\n",
        "subject to Demand {j in DEST}:\n",
        "   sum {i in ORIG} Trans[i,j] = demand[j];\n"
      ]
    },
    {
      "cell_type": "code",
      "execution_count": 16,
      "metadata": {
        "colab": {
          "base_uri": "https://localhost:8080/"
        },
        "id": "cedBDJce1So4",
        "outputId": "a3b366db-a417-4475-a880-3980b592ee93"
      },
      "outputs": [
        {
          "output_type": "stream",
          "name": "stdout",
          "text": [
            "-- Iteration 1\n",
            "alpha = 0.1\n",
            "Total_Cost = 354287\n",
            "\n",
            "-- Iteration 2\n",
            "alpha = 0.2\n",
            "Total_Cost = 354278\n",
            "\n",
            "-- Iteration 3\n",
            "alpha = 0.3\n",
            "Total_Cost = 354277\n",
            "\n",
            "-- Iteration 4\n",
            "alpha = 0.4\n",
            "Total_Cost = 354279\n",
            "\n",
            "-- Iteration 5\n",
            "alpha = 0.5\n",
            "Total_Cost = 354278\n",
            "\n",
            "-- Iteration 6\n",
            "alpha = 0.6\n",
            "Total_Cost = 354278\n",
            "\n",
            "-- Iteration 7\n",
            "alpha = 0.7\n",
            "Total_Cost = 354277\n",
            "\n",
            "-- Iteration 8\n",
            "alpha = 0.8\n",
            "Total_Cost = 354277\n",
            "\n",
            "-- Iteration 9\n",
            "alpha = 0.9\n",
            "Total_Cost = 354278\n",
            "\n",
            "-- Iteration 10\n",
            "alpha = 1\n",
            "Total_Cost = 354278\n",
            "\n"
          ]
        }
      ],
      "source": [
        "ampl.reset()\n",
        "ampl.read(\"nltranse.mod\")\n",
        "\n",
        "ampl.set_data(supply_df, \"ORIG\")\n",
        "ampl.set_data(demand_df, \"DEST\")\n",
        "ampl.param[\"rate\"] = rate\n",
        "ampl.param[\"limit\"] = limit\n",
        "\n",
        "num_iterations = 10\n",
        "for it in range(1, num_iterations + 1):\n",
        "    ampl.param[\"alpha\"] = 0.1 * it\n",
        "    ampl.solve(solver=\"ipopt\", verbose=False)\n",
        "    print(f\"-- Iteration {it}\")\n",
        "    ampl.display(\"alpha\", \"Total_Cost\")"
      ]
    }
  ],
  "metadata": {
    "kernelspec": {
      "display_name": "Python 3.9.13 ('venv': venv)",
      "language": "python",
      "name": "python3"
    },
    "language_info": {
      "codemirror_mode": {
        "name": "ipython",
        "version": 3
      },
      "file_extension": ".py",
      "mimetype": "text/x-python",
      "name": "python",
      "nbconvert_exporter": "python",
      "pygments_lexer": "ipython3",
      "version": "3.9.13"
    },
    "vscode": {
      "interpreter": {
        "hash": "ee4198aac13dae9b6fccd443041680d99c2643c4956ef7c80ff6dcc0057cb523"
      }
    },
    "colab": {
      "provenance": []
    }
  },
  "nbformat": 4,
  "nbformat_minor": 0
}
